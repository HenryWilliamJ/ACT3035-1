{
 "cells": [
  {
   "cell_type": "markdown",
   "metadata": {
    "slideshow": {
     "slide_type": "slide"
    },
    "toc": "true"
   },
   "source": [
    "<h1>Table of Contents<span class=\"tocSkip\"></span></h1>\n",
    "<div class=\"toc\"><ul class=\"toc-item\"><li><span><a href=\"#Ouvrir-Rstudio\" data-toc-modified-id=\"Ouvrir-Rstudio-1\"><span class=\"toc-item-num\">1&nbsp;&nbsp;</span>Ouvrir Rstudio</a></span><ul class=\"toc-item\"><li><span><a href=\"#Sous-Linux\" data-toc-modified-id=\"Sous-Linux-1.1\"><span class=\"toc-item-num\">1.1&nbsp;&nbsp;</span>Sous Linux</a></span></li><li><span><a href=\"#Sous-macOS\" data-toc-modified-id=\"Sous-macOS-1.2\"><span class=\"toc-item-num\">1.2&nbsp;&nbsp;</span>Sous macOS</a></span></li><li><span><a href=\"#Sous-windows,\" data-toc-modified-id=\"Sous-windows,-1.3\"><span class=\"toc-item-num\">1.3&nbsp;&nbsp;</span>Sous windows,</a></span></li></ul></li><li><span><a href=\"#Présentation-de-RStudio\" data-toc-modified-id=\"Présentation-de-RStudio-2\"><span class=\"toc-item-num\">2&nbsp;&nbsp;</span>Présentation de RStudio</a></span><ul class=\"toc-item\"><li><span><a href=\"#Les-sous-section\" data-toc-modified-id=\"Les-sous-section-2.1\"><span class=\"toc-item-num\">2.1&nbsp;&nbsp;</span>Les sous-section</a></span></li><li><span><a href=\"#Créer-un-script\" data-toc-modified-id=\"Créer-un-script-2.2\"><span class=\"toc-item-num\">2.2&nbsp;&nbsp;</span>Créer un script</a></span></li></ul></li><li><span><a href=\"#Packages\" data-toc-modified-id=\"Packages-3\"><span class=\"toc-item-num\">3&nbsp;&nbsp;</span>Packages</a></span><ul class=\"toc-item\"><li><span><a href=\"#autocompletion\" data-toc-modified-id=\"autocompletion-3.1\"><span class=\"toc-item-num\">3.1&nbsp;&nbsp;</span><em>autocompletion</em></a></span></li><li><span><a href=\"#Quels-packages-sont-chargé-dans-l'environnement?\" data-toc-modified-id=\"Quels-packages-sont-chargé-dans-l'environnement?-3.2\"><span class=\"toc-item-num\">3.2&nbsp;&nbsp;</span>Quels packages sont chargé dans l'environnement?</a></span></li></ul></li><li><span><a href=\"#Assignation-des-variables\" data-toc-modified-id=\"Assignation-des-variables-4\"><span class=\"toc-item-num\">4&nbsp;&nbsp;</span>Assignation des variables</a></span><ul class=\"toc-item\"><li><span><a href=\"#avec-le-signe-=\" data-toc-modified-id=\"avec-le-signe-=-4.1\"><span class=\"toc-item-num\">4.1&nbsp;&nbsp;</span>avec le signe =</a></span></li><li><span><a href=\"#La-flèche-vers-la-gauche-&lt;-\" data-toc-modified-id=\"La-flèche-vers-la-gauche-<--4.2\"><span class=\"toc-item-num\">4.2&nbsp;&nbsp;</span>La flèche vers la gauche &lt;-</a></span></li><li><span><a href=\"#La-flèche-vers-la-droite--&gt;\" data-toc-modified-id=\"La-flèche-vers-la-droite-->-4.3\"><span class=\"toc-item-num\">4.3&nbsp;&nbsp;</span>La flèche vers la droite -&gt;</a></span></li><li><span><a href=\"#La-fonction-assign()\" data-toc-modified-id=\"La-fonction-assign()-4.4\"><span class=\"toc-item-num\">4.4&nbsp;&nbsp;</span>La fonction <code>assign()</code></a></span></li></ul></li><li><span><a href=\"#Les-nombres,-les-caractères-et-les-booléens\" data-toc-modified-id=\"Les-nombres,-les-caractères-et-les-booléens-5\"><span class=\"toc-item-num\">5&nbsp;&nbsp;</span>Les nombres, les caractères et les booléens</a></span><ul class=\"toc-item\"><li><span><a href=\"#Changement-du-type-de-variable\" data-toc-modified-id=\"Changement-du-type-de-variable-5.1\"><span class=\"toc-item-num\">5.1&nbsp;&nbsp;</span>Changement du type de variable</a></span></li><li><span><a href=\"#Tester-le-type-de-variable\" data-toc-modified-id=\"Tester-le-type-de-variable-5.2\"><span class=\"toc-item-num\">5.2&nbsp;&nbsp;</span>Tester le type de variable</a></span><ul class=\"toc-item\"><li><span><a href=\"#Test-d'égalité\" data-toc-modified-id=\"Test-d'égalité-5.2.1\"><span class=\"toc-item-num\">5.2.1&nbsp;&nbsp;</span>Test d'égalité</a></span></li><li><span><a href=\"#Test-d'inégalité\" data-toc-modified-id=\"Test-d'inégalité-5.2.2\"><span class=\"toc-item-num\">5.2.2&nbsp;&nbsp;</span>Test d'inégalité</a></span></li></ul></li></ul></li><li><span><a href=\"#Les-opérations-sur-le-workspace\" data-toc-modified-id=\"Les-opérations-sur-le-workspace-6\"><span class=\"toc-item-num\">6&nbsp;&nbsp;</span>Les opérations sur le <code>workspace</code></a></span><ul class=\"toc-item\"><li><span><a href=\"#Répertoire-courant\" data-toc-modified-id=\"Répertoire-courant-6.1\"><span class=\"toc-item-num\">6.1&nbsp;&nbsp;</span>Répertoire courant</a></span></li><li><span><a href=\"#Changer-le-répertoire-courant\" data-toc-modified-id=\"Changer-le-répertoire-courant-6.2\"><span class=\"toc-item-num\">6.2&nbsp;&nbsp;</span>Changer le répertoire courant</a></span></li><li><span><a href=\"#Lister-les-objets-dans-la-mémoire\" data-toc-modified-id=\"Lister-les-objets-dans-la-mémoire-6.3\"><span class=\"toc-item-num\">6.3&nbsp;&nbsp;</span>Lister les objets dans la mémoire</a></span></li><li><span><a href=\"#Supprimer-un-objets-de-la-mémoire\" data-toc-modified-id=\"Supprimer-un-objets-de-la-mémoire-6.4\"><span class=\"toc-item-num\">6.4&nbsp;&nbsp;</span>Supprimer un objets de la mémoire</a></span></li><li><span><a href=\"#Vider-complètement-le-workspace\" data-toc-modified-id=\"Vider-complètement-le-workspace-6.5\"><span class=\"toc-item-num\">6.5&nbsp;&nbsp;</span>Vider complètement le <em>workspace</em></a></span></li></ul></li><li><span><a href=\"#Help\" data-toc-modified-id=\"Help-7\"><span class=\"toc-item-num\">7&nbsp;&nbsp;</span>Help</a></span><ul class=\"toc-item\"><li><span><a href=\"#Aide-sur-les-fonctions\" data-toc-modified-id=\"Aide-sur-les-fonctions-7.1\"><span class=\"toc-item-num\">7.1&nbsp;&nbsp;</span>Aide sur les fonctions</a></span></li><li><span><a href=\"#La-fonction-example\" data-toc-modified-id=\"La-fonction-example-7.2\"><span class=\"toc-item-num\">7.2&nbsp;&nbsp;</span>La fonction <code>example</code></a></span></li><li><span><a href=\"#Aide-sur-les-données\" data-toc-modified-id=\"Aide-sur-les-données-7.3\"><span class=\"toc-item-num\">7.3&nbsp;&nbsp;</span>Aide sur les données</a></span></li></ul></li><li><span><a href=\"#Plus-de-resources\" data-toc-modified-id=\"Plus-de-resources-8\"><span class=\"toc-item-num\">8&nbsp;&nbsp;</span>Plus de resources</a></span></li></ul></div>"
   ]
  },
  {
   "cell_type": "markdown",
   "metadata": {
    "slideshow": {
     "slide_type": "slide"
    }
   },
   "source": [
    "Dans ce cours, nous allons utiliser la console RStudio que nous avons installé. Nous allons présenter la console, et découvrir les principales sections que nous utiliserons tout au long des prochains cours sur la programmation en R."
   ]
  },
  {
   "cell_type": "markdown",
   "metadata": {
    "slideshow": {
     "slide_type": "slide"
    }
   },
   "source": [
    "# Ouvrir Rstudio"
   ]
  },
  {
   "cell_type": "markdown",
   "metadata": {
    "slideshow": {
     "slide_type": "subslide"
    }
   },
   "source": [
    "## Sous Linux \n",
    "vous ouvrez le terminal en appuyant sur les touches `Ctrl+Alt+T` et vous tapez `RStudio`"
   ]
  },
  {
   "cell_type": "markdown",
   "metadata": {
    "slideshow": {
     "slide_type": "subslide"
    }
   },
   "source": [
    "## Sous macOS\n",
    "Vous appuyez sur la touche **`cmd+space`** vous tapez ensuite sur `RSdtudio` en `Enter` ensuite"
   ]
  },
  {
   "cell_type": "markdown",
   "metadata": {
    "slideshow": {
     "slide_type": "subslide"
    }
   },
   "source": [
    "## Sous windows,  \n",
    "Cherchez l'application RStudio et vous cliquez là-dessus pour la lancer"
   ]
  },
  {
   "cell_type": "markdown",
   "metadata": {
    "collapsed": true,
    "slideshow": {
     "slide_type": "slide"
    }
   },
   "source": [
    "# Présentation de RStudio"
   ]
  },
  {
   "cell_type": "markdown",
   "metadata": {
    "slideshow": {
     "slide_type": "subslide"
    }
   },
   "source": [
    "Lorsque nous ouvrons RStudion, nous avons alors une fenêtre avec trois sections dans lesquels nous allons travailler."
   ]
  },
  {
   "cell_type": "markdown",
   "metadata": {
    "collapsed": true,
    "slideshow": {
     "slide_type": "skip"
    }
   },
   "source": [
    "<img src=\"https://s3.amazonaws.com/noureddine/RStudio.png\" alt=\"RStudio \\label{Présentation de R \\caption{test de caption}}\" height=\"420\" width=\"420\">"
   ]
  },
  {
   "cell_type": "markdown",
   "metadata": {
    "slideshow": {
     "slide_type": "subslide"
    }
   },
   "source": [
    "## Les sous-section"
   ]
  },
  {
   "cell_type": "markdown",
   "metadata": {
    "slideshow": {
     "slide_type": "subslide"
    }
   },
   "source": [
    "1. La console est là où le code R est exécuté, cette console est la même que ce que nous voyons si nous ouvrons R\n",
    "2. Dans la deuxième section, nous retrouvons;\n",
    "    1. _Environment_, dans ce dernier nous retrouvons la liste des données ou objets à notre disposition. Par exemple, lorsque nous avons assigné la valeur 2 à la variable $y$, nous remarquons alors que RStudio garde en mémoire la valeur de cette variable.\n",
    "    2. History: cette sous-section contient l'historique des commandes que nous avons exécutées. Si nous cliquons sur une ligne quelconque, nous verrons alors cette ligne s'écrire dans la console. Lorsque nous appuyons sur `Enter`, la ligne s'exécute.\n",
    "3. La troisième section contient;\n",
    "    1. Files: ici, nous pouvons naviguer directement dans le dossier dans lequel nous voulons; exécuter du code, créer des données, importer des données...etc. Nous verrons  un peu plus loin plus en détail cette sous-section.\n",
    "    2. Plots: dans cette sous-section, nous retrouvons nos graphiques que nous avons exécutés, nous pouvons les exporter directement à partir de là\n",
    "    3. Packages: Ici, nous retrouvons les packages qui nous sont disponibles à télécharger ou qui le sont déjà (coché ou pas).\n",
    "    4. Help: Cette sous-section est très importante, car elle nous permet trouver la documentation du langage R. Nous avons qu'à écrire ce que nous cherchons.\n",
    "\n"
   ]
  },
  {
   "cell_type": "markdown",
   "metadata": {
    "slideshow": {
     "slide_type": "slide"
    }
   },
   "source": [
    "## Créer un script"
   ]
  },
  {
   "cell_type": "markdown",
   "metadata": {
    "slideshow": {
     "slide_type": "subslide"
    }
   },
   "source": [
    "Afin de sauvegarder notre code R, nous pouvons ouvrir un nouveau script en cliquant sur le petit signe plus vert en haut à gauche. Ou simplement **`Ctrl+Shift+N`** "
   ]
  },
  {
   "cell_type": "markdown",
   "metadata": {
    "slideshow": {
     "slide_type": "subslide"
    }
   },
   "source": [
    "Un script est simplement un éditeur de code R, dans lequel nous pouvons exécuter notre code ligne par ligne en appuyant sur **`Ctrl+Enter`** ou en cliquant sur le bouton `Run`"
   ]
  },
  {
   "cell_type": "markdown",
   "metadata": {
    "collapsed": true,
    "slideshow": {
     "slide_type": "skip"
    }
   },
   "source": [
    "<img src=\"https://s3.amazonaws.com/noureddine/RStudio_1.png\" alt=\"run rstudio\" height=\"420\" width=\"420\">\n"
   ]
  },
  {
   "cell_type": "markdown",
   "metadata": {
    "slideshow": {
     "slide_type": "subslide"
    }
   },
   "source": [
    "Une fois votre script est créé, vous pouvez le sauvegarder à l'endroit que vous voulez."
   ]
  },
  {
   "cell_type": "markdown",
   "metadata": {
    "slideshow": {
     "slide_type": "slide"
    }
   },
   "source": [
    "# Packages"
   ]
  },
  {
   "cell_type": "markdown",
   "metadata": {
    "slideshow": {
     "slide_type": "subslide"
    }
   },
   "source": [
    "Les packages R sont une partie importante, ce sont une collection de fonctions et de données créées par des individus (chercheurs, étudiants, des geeks...etc.) Au sein de la communauté open source. Lorsque nous installons R, un ensemble de packages est déjà inclus. \n",
    "\n",
    "Afin de savoir quels packages sont installés, il suffit de taper `library()`\n",
    "\n"
   ]
  },
  {
   "cell_type": "code",
   "execution_count": 1,
   "metadata": {
    "slideshow": {
     "slide_type": "fragment"
    }
   },
   "outputs": [
    {
     "data": {},
     "metadata": {},
     "output_type": "display_data"
    }
   ],
   "source": [
    "library()"
   ]
  },
  {
   "cell_type": "markdown",
   "metadata": {
    "collapsed": true,
    "slideshow": {
     "slide_type": "subslide"
    }
   },
   "source": [
    "Lorsqu'on exécute une ligne de code, comme ce qu'on vient de faire avec `library()`, on demande à `R` de trouver la fonction et de l'exécuter. Habituellement, les fonctions requirent un argument, cette fonction est une exception et ne requiert aucun argument. Ainsi, il suffit de taper `library` sans les parenthèses.\n",
    "\n"
   ]
  },
  {
   "cell_type": "code",
   "execution_count": 2,
   "metadata": {
    "slideshow": {
     "slide_type": "fragment"
    }
   },
   "outputs": [],
   "source": [
    "# library"
   ]
  },
  {
   "cell_type": "markdown",
   "metadata": {
    "slideshow": {
     "slide_type": "subslide"
    }
   },
   "source": [
    "## _autocompletion_"
   ]
  },
  {
   "cell_type": "markdown",
   "metadata": {
    "collapsed": true,
    "slideshow": {
     "slide_type": "fragment"
    }
   },
   "source": [
    "Dans RStudio, et dans la majorité des IDE récents, il existe une option très utile appelée [_autocompletion_](https://support.rstudio.com/hc/en-us/articles/205273297-Code-Completion). Elle devient très utile lorsque nous nous rappelons plus comment s'écrit exactement une option ou quels en sont les arguments. \n",
    "\n",
    "Il suffit de taper sur la touche `tab`\n",
    "\n"
   ]
  },
  {
   "cell_type": "markdown",
   "metadata": {
    "slideshow": {
     "slide_type": "subslide"
    }
   },
   "source": [
    "Exemple: si nous voulons écrire la fonction `library()`, il suffit d'écrire `lib` et taper sur la touche `tab`. RStudio nous donne plusieurs choix de fonction que sont nom commence par les trois lettres `lib`"
   ]
  },
  {
   "cell_type": "code",
   "execution_count": 3,
   "metadata": {
    "slideshow": {
     "slide_type": "fragment"
    }
   },
   "outputs": [
    {
     "ename": "ERROR",
     "evalue": "Error in eval(expr, envir, enclos): object 'lib' not found\n",
     "output_type": "error",
     "traceback": [
      "Error in eval(expr, envir, enclos): object 'lib' not found\nTraceback:\n"
     ]
    }
   ],
   "source": [
    "lib"
   ]
  },
  {
   "cell_type": "markdown",
   "metadata": {
    "slideshow": {
     "slide_type": "subslide"
    }
   },
   "source": [
    "Une fois que le mot complet est saisi, en ouvrant des parenthèses, on peut encore taper sur la touche `tab` afin d'avoir la liste des arguments obligatoires ou optionnels à saisir. "
   ]
  },
  {
   "cell_type": "code",
   "execution_count": 4,
   "metadata": {
    "slideshow": {
     "slide_type": "fragment"
    }
   },
   "outputs": [
    {
     "data": {},
     "metadata": {},
     "output_type": "display_data"
    }
   ],
   "source": [
    "library()"
   ]
  },
  {
   "cell_type": "markdown",
   "metadata": {
    "slideshow": {
     "slide_type": "subslide"
    }
   },
   "source": [
    "## Quels packages sont chargé dans l'environnement?"
   ]
  },
  {
   "cell_type": "markdown",
   "metadata": {
    "slideshow": {
     "slide_type": "subslide"
    }
   },
   "source": [
    "Afin de voir quels _packagers sont chargés dans l'environnement, il suffit de taper la commande `search()`"
   ]
  },
  {
   "cell_type": "code",
   "execution_count": 5,
   "metadata": {
    "slideshow": {
     "slide_type": "fragment"
    }
   },
   "outputs": [
    {
     "data": {
      "text/html": [
       "<ol class=list-inline>\n",
       "\t<li>'.GlobalEnv'</li>\n",
       "\t<li>'jupyter:irkernel'</li>\n",
       "\t<li>'package:stats'</li>\n",
       "\t<li>'package:graphics'</li>\n",
       "\t<li>'package:grDevices'</li>\n",
       "\t<li>'package:utils'</li>\n",
       "\t<li>'package:datasets'</li>\n",
       "\t<li>'package:methods'</li>\n",
       "\t<li>'Autoloads'</li>\n",
       "\t<li>'package:base'</li>\n",
       "</ol>\n"
      ],
      "text/latex": [
       "\\begin{enumerate*}\n",
       "\\item '.GlobalEnv'\n",
       "\\item 'jupyter:irkernel'\n",
       "\\item 'package:stats'\n",
       "\\item 'package:graphics'\n",
       "\\item 'package:grDevices'\n",
       "\\item 'package:utils'\n",
       "\\item 'package:datasets'\n",
       "\\item 'package:methods'\n",
       "\\item 'Autoloads'\n",
       "\\item 'package:base'\n",
       "\\end{enumerate*}\n"
      ],
      "text/markdown": [
       "1. '.GlobalEnv'\n",
       "2. 'jupyter:irkernel'\n",
       "3. 'package:stats'\n",
       "4. 'package:graphics'\n",
       "5. 'package:grDevices'\n",
       "6. 'package:utils'\n",
       "7. 'package:datasets'\n",
       "8. 'package:methods'\n",
       "9. 'Autoloads'\n",
       "10. 'package:base'\n",
       "\n",
       "\n"
      ],
      "text/plain": [
       " [1] \".GlobalEnv\"        \"jupyter:irkernel\"  \"package:stats\"    \n",
       " [4] \"package:graphics\"  \"package:grDevices\" \"package:utils\"    \n",
       " [7] \"package:datasets\"  \"package:methods\"   \"Autoloads\"        \n",
       "[10] \"package:base\"     "
      ]
     },
     "metadata": {},
     "output_type": "display_data"
    }
   ],
   "source": [
    "search()"
   ]
  },
  {
   "cell_type": "markdown",
   "metadata": {
    "slideshow": {
     "slide_type": "subslide"
    }
   },
   "source": [
    "Un _package_ que nous utiliserons beaucoup au début est le _package `MASS`. Afin que nous soyons sûrs de l'avoir, nous l'installons à nouveau avec la commande suivante:"
   ]
  },
  {
   "cell_type": "code",
   "execution_count": null,
   "metadata": {
    "slideshow": {
     "slide_type": "fragment"
    }
   },
   "outputs": [],
   "source": [
    "# install.packages(\"MASS\")"
   ]
  },
  {
   "cell_type": "markdown",
   "metadata": {
    "slideshow": {
     "slide_type": "subslide"
    }
   },
   "source": [
    "Nous pouvons voir dans l'onglet _packages_ dans RSudio que nous l'avons et qu'il prêt à charger. Nous procédons au chargement de ce _package_ on le cochant ou simplement (il faut vraiment s'habituer à travailler avec les commandes dans la console) avec la commande suivante: \n"
   ]
  },
  {
   "cell_type": "markdown",
   "metadata": {
    "slideshow": {
     "slide_type": "fragment"
    }
   },
   "source": [
    "On peut aussi installer un _package_ avec l’IDE (Integrated development environment ) de RStudio"
   ]
  },
  {
   "cell_type": "code",
   "execution_count": null,
   "metadata": {
    "slideshow": {
     "slide_type": "fragment"
    }
   },
   "outputs": [],
   "source": [
    "# require(MASS)"
   ]
  },
  {
   "cell_type": "markdown",
   "metadata": {
    "slideshow": {
     "slide_type": "subslide"
    }
   },
   "source": [
    "**Attention**: R est sensible aux caractères _case sensitive_. Donc si j'écris:"
   ]
  },
  {
   "cell_type": "code",
   "execution_count": null,
   "metadata": {
    "slideshow": {
     "slide_type": "fragment"
    }
   },
   "outputs": [],
   "source": [
    "# require(mass)"
   ]
  },
  {
   "cell_type": "markdown",
   "metadata": {
    "slideshow": {
     "slide_type": "fragment"
    }
   },
   "source": [
    "J'ai alors un message d'erreur **`“there is no package called ‘mass’”`**"
   ]
  },
  {
   "cell_type": "markdown",
   "metadata": {
    "slideshow": {
     "slide_type": "slide"
    }
   },
   "source": [
    "# Assignation des variables"
   ]
  },
  {
   "cell_type": "markdown",
   "metadata": {
    "slideshow": {
     "slide_type": "subslide"
    }
   },
   "source": [
    "Comment peut-on assigner des valeurs à des variables? R reconnait les valeurs numériques telles qu'elles sont."
   ]
  },
  {
   "cell_type": "code",
   "execution_count": 6,
   "metadata": {
    "slideshow": {
     "slide_type": "fragment"
    }
   },
   "outputs": [
    {
     "data": {
      "text/html": [
       "3"
      ],
      "text/latex": [
       "3"
      ],
      "text/markdown": [
       "3"
      ],
      "text/plain": [
       "[1] 3"
      ]
     },
     "metadata": {},
     "output_type": "display_data"
    }
   ],
   "source": [
    "3"
   ]
  },
  {
   "cell_type": "code",
   "execution_count": 7,
   "metadata": {
    "slideshow": {
     "slide_type": "fragment"
    }
   },
   "outputs": [
    {
     "data": {
      "text/html": [
       "2"
      ],
      "text/latex": [
       "2"
      ],
      "text/markdown": [
       "2"
      ],
      "text/plain": [
       "[1] 2"
      ]
     },
     "metadata": {},
     "output_type": "display_data"
    }
   ],
   "source": [
    "2"
   ]
  },
  {
   "cell_type": "markdown",
   "metadata": {
    "slideshow": {
     "slide_type": "subslide"
    }
   },
   "source": [
    "Toutesfois, il existe d'autres variables numériques écrites en caractère. Par exemple, $\\pi$. lorsqu'on saisit `pi` dans R, il nous redonne la valeur numérique (arrondie) de $\\pi$"
   ]
  },
  {
   "cell_type": "code",
   "execution_count": 8,
   "metadata": {
    "slideshow": {
     "slide_type": "fragment"
    }
   },
   "outputs": [
    {
     "data": {
      "text/html": [
       "3.14159265358979"
      ],
      "text/latex": [
       "3.14159265358979"
      ],
      "text/markdown": [
       "3.14159265358979"
      ],
      "text/plain": [
       "[1] 3.141593"
      ]
     },
     "metadata": {},
     "output_type": "display_data"
    }
   ],
   "source": [
    "pi"
   ]
  },
  {
   "cell_type": "markdown",
   "metadata": {
    "slideshow": {
     "slide_type": "subslide"
    }
   },
   "source": [
    "Ce sont des variables déjà existantes dans `R`. Si l’on voulait chercher des valeurs non existantes dans R, ce dernier nous retourne un message d'erreur;\n",
    "\n"
   ]
  },
  {
   "cell_type": "code",
   "execution_count": 9,
   "metadata": {
    "slideshow": {
     "slide_type": "fragment"
    }
   },
   "outputs": [
    {
     "ename": "ERROR",
     "evalue": "Error in eval(expr, envir, enclos): object 'x' not found\n",
     "output_type": "error",
     "traceback": [
      "Error in eval(expr, envir, enclos): object 'x' not found\nTraceback:\n"
     ]
    }
   ],
   "source": [
    "x"
   ]
  },
  {
   "cell_type": "markdown",
   "metadata": {
    "slideshow": {
     "slide_type": "subslide"
    }
   },
   "source": [
    "On peut assigner une valeur à une variable de différentes manières;"
   ]
  },
  {
   "cell_type": "markdown",
   "metadata": {
    "slideshow": {
     "slide_type": "subslide"
    }
   },
   "source": [
    "## avec le signe ="
   ]
  },
  {
   "cell_type": "code",
   "execution_count": 10,
   "metadata": {
    "slideshow": {
     "slide_type": "fragment"
    }
   },
   "outputs": [
    {
     "data": {
      "text/html": [
       "2"
      ],
      "text/latex": [
       "2"
      ],
      "text/markdown": [
       "2"
      ],
      "text/plain": [
       "[1] 2"
      ]
     },
     "metadata": {},
     "output_type": "display_data"
    }
   ],
   "source": [
    "x=2\n",
    "x"
   ]
  },
  {
   "cell_type": "code",
   "execution_count": 11,
   "metadata": {
    "slideshow": {
     "slide_type": "fragment"
    }
   },
   "outputs": [
    {
     "data": {
      "text/html": [
       "3"
      ],
      "text/latex": [
       "3"
      ],
      "text/markdown": [
       "3"
      ],
      "text/plain": [
       "[1] 3"
      ]
     },
     "metadata": {},
     "output_type": "display_data"
    }
   ],
   "source": [
    "y=3\n",
    "y"
   ]
  },
  {
   "cell_type": "markdown",
   "metadata": {
    "slideshow": {
     "slide_type": "subslide"
    }
   },
   "source": [
    "## La flèche vers la gauche <-\n",
    "Par convention, nous utilison cette méthode"
   ]
  },
  {
   "cell_type": "code",
   "execution_count": 12,
   "metadata": {
    "slideshow": {
     "slide_type": "fragment"
    }
   },
   "outputs": [
    {
     "data": {
      "text/html": [
       "2"
      ],
      "text/latex": [
       "2"
      ],
      "text/markdown": [
       "2"
      ],
      "text/plain": [
       "[1] 2"
      ]
     },
     "metadata": {},
     "output_type": "display_data"
    }
   ],
   "source": [
    "x<-2\n",
    "x"
   ]
  },
  {
   "cell_type": "code",
   "execution_count": 13,
   "metadata": {
    "slideshow": {
     "slide_type": "fragment"
    }
   },
   "outputs": [],
   "source": [
    "y<-3"
   ]
  },
  {
   "cell_type": "markdown",
   "metadata": {
    "slideshow": {
     "slide_type": "subslide"
    }
   },
   "source": [
    "Nous avons donné la valeur 2 à $x$ et la valeur 3 à $y$. Ces valeurs sont gardées en mémoire, on peut d'ailleurs faire des opérations mathématiques sur ces valeurs. Par exemple on veut $$x+y$$"
   ]
  },
  {
   "cell_type": "code",
   "execution_count": 14,
   "metadata": {
    "slideshow": {
     "slide_type": "fragment"
    }
   },
   "outputs": [
    {
     "data": {
      "text/html": [
       "5"
      ],
      "text/latex": [
       "5"
      ],
      "text/markdown": [
       "5"
      ],
      "text/plain": [
       "[1] 5"
      ]
     },
     "metadata": {},
     "output_type": "display_data"
    }
   ],
   "source": [
    "x+y"
   ]
  },
  {
   "cell_type": "markdown",
   "metadata": {
    "slideshow": {
     "slide_type": "subslide"
    }
   },
   "source": [
    "Si l’on voulait appliquer, un calcule sur une variable que nous n'y avons pas assigner une valeur auparavant, cela ne fonctionnerait pas, puisque R ne l'a pas gardé en mémoire."
   ]
  },
  {
   "cell_type": "code",
   "execution_count": 15,
   "metadata": {
    "slideshow": {
     "slide_type": "fragment"
    }
   },
   "outputs": [
    {
     "ename": "ERROR",
     "evalue": "Error in eval(expr, envir, enclos): object 'z' not found\n",
     "output_type": "error",
     "traceback": [
      "Error in eval(expr, envir, enclos): object 'z' not found\nTraceback:\n"
     ]
    }
   ],
   "source": [
    "z+1"
   ]
  },
  {
   "cell_type": "markdown",
   "metadata": {
    "slideshow": {
     "slide_type": "subslide"
    }
   },
   "source": [
    "Rappelons-nous que R est _case sensitive_, par exemple:"
   ]
  },
  {
   "cell_type": "code",
   "execution_count": 16,
   "metadata": {
    "slideshow": {
     "slide_type": "fragment"
    }
   },
   "outputs": [
    {
     "ename": "ERROR",
     "evalue": "Error in eval(expr, envir, enclos): object 'X' not found\n",
     "output_type": "error",
     "traceback": [
      "Error in eval(expr, envir, enclos): object 'X' not found\nTraceback:\n"
     ]
    }
   ],
   "source": [
    "X"
   ]
  },
  {
   "cell_type": "markdown",
   "metadata": {
    "slideshow": {
     "slide_type": "subslide"
    }
   },
   "source": [
    "Nous avons essayé d'appeler $X$, mais il nous retourne un message d'erreur. Cela est dû à cause la majuscule."
   ]
  },
  {
   "cell_type": "markdown",
   "metadata": {
    "slideshow": {
     "slide_type": "fragment"
    }
   },
   "source": [
    "nous avions donné à x la valeur `x<-2` et `y<-3`"
   ]
  },
  {
   "cell_type": "code",
   "execution_count": 17,
   "metadata": {
    "slideshow": {
     "slide_type": "fragment"
    }
   },
   "outputs": [
    {
     "name": "stdout",
     "output_type": "stream",
     "text": [
      "[1] 2\n",
      "[1] 3\n"
     ]
    }
   ],
   "source": [
    "print(x)\n",
    "print(y)"
   ]
  },
  {
   "cell_type": "markdown",
   "metadata": {
    "slideshow": {
     "slide_type": "subslide"
    }
   },
   "source": [
    "Nous pouvons écraser la valeur de x en lui assignant la valeur de y;"
   ]
  },
  {
   "cell_type": "code",
   "execution_count": 18,
   "metadata": {
    "slideshow": {
     "slide_type": "fragment"
    }
   },
   "outputs": [],
   "source": [
    "x<-y"
   ]
  },
  {
   "cell_type": "code",
   "execution_count": 19,
   "metadata": {
    "slideshow": {
     "slide_type": "fragment"
    }
   },
   "outputs": [
    {
     "name": "stdout",
     "output_type": "stream",
     "text": [
      "[1] 3\n",
      "[1] 3\n"
     ]
    }
   ],
   "source": [
    "print(x)\n",
    "print(y)"
   ]
  },
  {
   "cell_type": "markdown",
   "metadata": {
    "slideshow": {
     "slide_type": "subslide"
    }
   },
   "source": [
    "Soit maintenant $z=9$, on peut aussi faire ceci:"
   ]
  },
  {
   "cell_type": "code",
   "execution_count": 20,
   "metadata": {
    "slideshow": {
     "slide_type": "fragment"
    }
   },
   "outputs": [],
   "source": [
    "x<-y<-z<-9"
   ]
  },
  {
   "cell_type": "code",
   "execution_count": 21,
   "metadata": {
    "slideshow": {
     "slide_type": "fragment"
    }
   },
   "outputs": [
    {
     "name": "stdout",
     "output_type": "stream",
     "text": [
      "[1] 9\n",
      "[1] 9\n",
      "[1] 9\n"
     ]
    }
   ],
   "source": [
    "print(x)\n",
    "print(y)\n",
    "print(z)"
   ]
  },
  {
   "cell_type": "markdown",
   "metadata": {
    "slideshow": {
     "slide_type": "subslide"
    }
   },
   "source": [
    "Remarquez que R commence toujours par la fin, la valeur 9 a été assignée à toutes les variables."
   ]
  },
  {
   "cell_type": "markdown",
   "metadata": {
    "slideshow": {
     "slide_type": "subslide"
    }
   },
   "source": [
    "## La flèche vers la droite ->\n",
    "On peut aussi utiliser l'autre sens de la flèche (vers la droite) pour assigner des valeurs à des variables"
   ]
  },
  {
   "cell_type": "code",
   "execution_count": 22,
   "metadata": {
    "slideshow": {
     "slide_type": "fragment"
    }
   },
   "outputs": [],
   "source": [
    "15 ->p"
   ]
  },
  {
   "cell_type": "markdown",
   "metadata": {
    "slideshow": {
     "slide_type": "subslide"
    }
   },
   "source": [
    "Toutefois, nous restons dans la convention et utilisons la flèche vers la gauche"
   ]
  },
  {
   "cell_type": "markdown",
   "metadata": {
    "slideshow": {
     "slide_type": "slide"
    }
   },
   "source": [
    "## La fonction `assign()`"
   ]
  },
  {
   "cell_type": "markdown",
   "metadata": {
    "slideshow": {
     "slide_type": "subslide"
    }
   },
   "source": [
    "Nous pouvons aussi utliliser la fonction `assign()` \n",
    "```R\n",
    "assign(x, value, pos = -1, envir = as.environment(pos),\n",
    "       inherits = FALSE, immediate = TRUE)\n",
    "```       "
   ]
  },
  {
   "cell_type": "code",
   "execution_count": 23,
   "metadata": {
    "slideshow": {
     "slide_type": "fragment"
    }
   },
   "outputs": [],
   "source": [
    "assign(\"q\",30)"
   ]
  },
  {
   "cell_type": "code",
   "execution_count": 24,
   "metadata": {
    "slideshow": {
     "slide_type": "fragment"
    }
   },
   "outputs": [
    {
     "data": {
      "text/html": [
       "30"
      ],
      "text/latex": [
       "30"
      ],
      "text/markdown": [
       "30"
      ],
      "text/plain": [
       "[1] 30"
      ]
     },
     "metadata": {},
     "output_type": "display_data"
    }
   ],
   "source": [
    "q"
   ]
  },
  {
   "cell_type": "markdown",
   "metadata": {
    "slideshow": {
     "slide_type": "fragment"
    }
   },
   "source": [
    "Cette fonction est souvent utilisée à l'intérieur d'une boucle où l’on voudrait assigner une valeur quelconque à une variable qui peut changer lors des itérations"
   ]
  },
  {
   "cell_type": "markdown",
   "metadata": {
    "slideshow": {
     "slide_type": "slide"
    }
   },
   "source": [
    "# Les nombres, les caractères et les booléens"
   ]
  },
  {
   "cell_type": "code",
   "execution_count": 25,
   "metadata": {
    "slideshow": {
     "slide_type": "subslide"
    }
   },
   "outputs": [],
   "source": [
    "num<-25\n",
    "string<-\"bonjour\"\n",
    "booleen<-TRUE"
   ]
  },
  {
   "cell_type": "markdown",
   "metadata": {
    "slideshow": {
     "slide_type": "subslide"
    }
   },
   "source": [
    "On peut appeler la variable `string` et elle nous retourne ceci:"
   ]
  },
  {
   "cell_type": "code",
   "execution_count": 27,
   "metadata": {
    "slideshow": {
     "slide_type": "fragment"
    }
   },
   "outputs": [
    {
     "data": {
      "text/html": [
       "'bonjour'"
      ],
      "text/latex": [
       "'bonjour'"
      ],
      "text/markdown": [
       "'bonjour'"
      ],
      "text/plain": [
       "[1] \"bonjour\""
      ]
     },
     "metadata": {},
     "output_type": "display_data"
    }
   ],
   "source": [
    "string"
   ]
  },
  {
   "cell_type": "markdown",
   "metadata": {
    "slideshow": {
     "slide_type": "subslide"
    }
   },
   "source": [
    "Afin de donner une valeur de type _string_ à une variable, on peut utiliser les doubles 'apostrophes', ou des \"guillemets\"\n",
    "\n"
   ]
  },
  {
   "cell_type": "markdown",
   "metadata": {
    "slideshow": {
     "slide_type": "fragment"
    }
   },
   "source": [
    "On peut assigner une valeur booléenne à une variable par `TRUE` ou `FALSE`, mais aussi par simplement `T` ou `F`"
   ]
  },
  {
   "cell_type": "code",
   "execution_count": 28,
   "metadata": {
    "slideshow": {
     "slide_type": "fragment"
    }
   },
   "outputs": [],
   "source": [
    "booleen2 <-T"
   ]
  },
  {
   "cell_type": "code",
   "execution_count": 29,
   "metadata": {
    "slideshow": {
     "slide_type": "fragment"
    }
   },
   "outputs": [
    {
     "data": {
      "text/html": [
       "TRUE"
      ],
      "text/latex": [
       "TRUE"
      ],
      "text/markdown": [
       "TRUE"
      ],
      "text/plain": [
       "[1] TRUE"
      ]
     },
     "metadata": {},
     "output_type": "display_data"
    }
   ],
   "source": [
    "booleen2"
   ]
  },
  {
   "cell_type": "markdown",
   "metadata": {
    "slideshow": {
     "slide_type": "subslide"
    }
   },
   "source": [
    "Il est possible de savoir quel type possède une variable gardée en mémoire"
   ]
  },
  {
   "cell_type": "code",
   "execution_count": 30,
   "metadata": {
    "slideshow": {
     "slide_type": "fragment"
    }
   },
   "outputs": [
    {
     "data": {
      "text/html": [
       "'character'"
      ],
      "text/latex": [
       "'character'"
      ],
      "text/markdown": [
       "'character'"
      ],
      "text/plain": [
       "[1] \"character\""
      ]
     },
     "metadata": {},
     "output_type": "display_data"
    }
   ],
   "source": [
    "class(string)"
   ]
  },
  {
   "cell_type": "code",
   "execution_count": 31,
   "metadata": {
    "slideshow": {
     "slide_type": "fragment"
    }
   },
   "outputs": [
    {
     "data": {
      "text/html": [
       "'logical'"
      ],
      "text/latex": [
       "'logical'"
      ],
      "text/markdown": [
       "'logical'"
      ],
      "text/plain": [
       "[1] \"logical\""
      ]
     },
     "metadata": {},
     "output_type": "display_data"
    }
   ],
   "source": [
    "class(booleen)"
   ]
  },
  {
   "cell_type": "code",
   "execution_count": 32,
   "metadata": {
    "slideshow": {
     "slide_type": "fragment"
    }
   },
   "outputs": [
    {
     "data": {
      "text/html": [
       "'numeric'"
      ],
      "text/latex": [
       "'numeric'"
      ],
      "text/markdown": [
       "'numeric'"
      ],
      "text/plain": [
       "[1] \"numeric\""
      ]
     },
     "metadata": {},
     "output_type": "display_data"
    }
   ],
   "source": [
    "class(num)"
   ]
  },
  {
   "cell_type": "markdown",
   "metadata": {
    "slideshow": {
     "slide_type": "subslide"
    }
   },
   "source": [
    "On peut aussi faire un test booléen sur le type d'une variable par  \n",
    "* `is.numeric(variable)`\n",
    "* `is.logical(variable)`\n",
    "* `is.character(variable)`"
   ]
  },
  {
   "cell_type": "code",
   "execution_count": 33,
   "metadata": {
    "slideshow": {
     "slide_type": "fragment"
    }
   },
   "outputs": [
    {
     "data": {
      "text/html": [
       "FALSE"
      ],
      "text/latex": [
       "FALSE"
      ],
      "text/markdown": [
       "FALSE"
      ],
      "text/plain": [
       "[1] FALSE"
      ]
     },
     "metadata": {},
     "output_type": "display_data"
    }
   ],
   "source": [
    "is.logical(num)"
   ]
  },
  {
   "cell_type": "code",
   "execution_count": 34,
   "metadata": {
    "slideshow": {
     "slide_type": "fragment"
    }
   },
   "outputs": [
    {
     "data": {
      "text/html": [
       "TRUE"
      ],
      "text/latex": [
       "TRUE"
      ],
      "text/markdown": [
       "TRUE"
      ],
      "text/plain": [
       "[1] TRUE"
      ]
     },
     "metadata": {},
     "output_type": "display_data"
    }
   ],
   "source": [
    "is.numeric(num)"
   ]
  },
  {
   "cell_type": "markdown",
   "metadata": {
    "slideshow": {
     "slide_type": "slide"
    }
   },
   "source": [
    "## Changement du type de variable"
   ]
  },
  {
   "cell_type": "markdown",
   "metadata": {
    "slideshow": {
     "slide_type": "subslide"
    }
   },
   "source": [
    "On peut aussi changer le type d'une variable"
   ]
  },
  {
   "cell_type": "code",
   "execution_count": 35,
   "metadata": {
    "slideshow": {
     "slide_type": "fragment"
    }
   },
   "outputs": [
    {
     "data": {
      "text/html": [
       "'25'"
      ],
      "text/latex": [
       "'25'"
      ],
      "text/markdown": [
       "'25'"
      ],
      "text/plain": [
       "[1] \"25\""
      ]
     },
     "metadata": {},
     "output_type": "display_data"
    }
   ],
   "source": [
    "as.character(num)"
   ]
  },
  {
   "cell_type": "markdown",
   "metadata": {
    "slideshow": {
     "slide_type": "slide"
    }
   },
   "source": [
    "Remarquons les apostrophes. Toutefois, il faut faire attention avec les conversions; essayons de convertir un _string_ en _numeric_"
   ]
  },
  {
   "cell_type": "code",
   "execution_count": 36,
   "metadata": {
    "slideshow": {
     "slide_type": "fragment"
    }
   },
   "outputs": [],
   "source": [
    "# as.numeric(string)"
   ]
  },
  {
   "cell_type": "markdown",
   "metadata": {
    "slideshow": {
     "slide_type": "fragment"
    }
   },
   "source": [
    "Nous obtenons `NA` (not available). Car R ne sait pas comment traduire cette variable de type _string_ en _numeric_. "
   ]
  },
  {
   "cell_type": "markdown",
   "metadata": {
    "slideshow": {
     "slide_type": "subslide"
    }
   },
   "source": [
    "Toutefois, il est possible de changer des booléens vers numérique.\n",
    "* TRUE=T=1\n",
    "* FALSE=F=0"
   ]
  },
  {
   "cell_type": "code",
   "execution_count": 37,
   "metadata": {
    "slideshow": {
     "slide_type": "fragment"
    }
   },
   "outputs": [
    {
     "data": {
      "text/html": [
       "1"
      ],
      "text/latex": [
       "1"
      ],
      "text/markdown": [
       "1"
      ],
      "text/plain": [
       "[1] 1"
      ]
     },
     "metadata": {},
     "output_type": "display_data"
    }
   ],
   "source": [
    "as.numeric(booleen)"
   ]
  },
  {
   "cell_type": "markdown",
   "metadata": {
    "slideshow": {
     "slide_type": "slide"
    }
   },
   "source": [
    "## Tester le type de variable"
   ]
  },
  {
   "cell_type": "markdown",
   "metadata": {
    "slideshow": {
     "slide_type": "subslide"
    }
   },
   "source": [
    "On peut aussi faire un test booléen sur deux valeurs. Par exemple, on peut demander si une valeur est plus petite ou égale (ou supérieure ou égale) à une autre variable."
   ]
  },
  {
   "cell_type": "code",
   "execution_count": 38,
   "metadata": {
    "slideshow": {
     "slide_type": "fragment"
    }
   },
   "outputs": [
    {
     "data": {
      "text/html": [
       "TRUE"
      ],
      "text/latex": [
       "TRUE"
      ],
      "text/markdown": [
       "TRUE"
      ],
      "text/plain": [
       "[1] TRUE"
      ]
     },
     "metadata": {},
     "output_type": "display_data"
    }
   ],
   "source": [
    "num<100"
   ]
  },
  {
   "cell_type": "code",
   "execution_count": 39,
   "metadata": {
    "slideshow": {
     "slide_type": "fragment"
    }
   },
   "outputs": [
    {
     "data": {
      "text/html": [
       "TRUE"
      ],
      "text/latex": [
       "TRUE"
      ],
      "text/markdown": [
       "TRUE"
      ],
      "text/plain": [
       "[1] TRUE"
      ]
     },
     "metadata": {},
     "output_type": "display_data"
    }
   ],
   "source": [
    "num<=100"
   ]
  },
  {
   "cell_type": "code",
   "execution_count": 40,
   "metadata": {
    "slideshow": {
     "slide_type": "fragment"
    }
   },
   "outputs": [
    {
     "data": {
      "text/html": [
       "FALSE"
      ],
      "text/latex": [
       "FALSE"
      ],
      "text/markdown": [
       "FALSE"
      ],
      "text/plain": [
       "[1] FALSE"
      ]
     },
     "metadata": {},
     "output_type": "display_data"
    }
   ],
   "source": [
    "num>=100"
   ]
  },
  {
   "cell_type": "markdown",
   "metadata": {
    "slideshow": {
     "slide_type": "subslide"
    }
   },
   "source": [
    "### Test d'égalité"
   ]
  },
  {
   "cell_type": "markdown",
   "metadata": {
    "slideshow": {
     "slide_type": "subslide"
    }
   },
   "source": [
    "Le test sur l'égalité se fait par un double =="
   ]
  },
  {
   "cell_type": "code",
   "execution_count": 41,
   "metadata": {
    "slideshow": {
     "slide_type": "fragment"
    }
   },
   "outputs": [
    {
     "data": {
      "text/html": [
       "TRUE"
      ],
      "text/latex": [
       "TRUE"
      ],
      "text/markdown": [
       "TRUE"
      ],
      "text/plain": [
       "[1] TRUE"
      ]
     },
     "metadata": {},
     "output_type": "display_data"
    }
   ],
   "source": [
    "x==y  "
   ]
  },
  {
   "cell_type": "code",
   "execution_count": 42,
   "metadata": {
    "slideshow": {
     "slide_type": "fragment"
    }
   },
   "outputs": [
    {
     "data": {
      "text/html": [
       "FALSE"
      ],
      "text/latex": [
       "FALSE"
      ],
      "text/markdown": [
       "FALSE"
      ],
      "text/plain": [
       "[1] FALSE"
      ]
     },
     "metadata": {},
     "output_type": "display_data"
    }
   ],
   "source": [
    "x==num"
   ]
  },
  {
   "cell_type": "markdown",
   "metadata": {
    "slideshow": {
     "slide_type": "subslide"
    }
   },
   "source": [
    "### Test d'inégalité"
   ]
  },
  {
   "cell_type": "markdown",
   "metadata": {
    "slideshow": {
     "slide_type": "subslide"
    }
   },
   "source": [
    "Pour ce qui est du test d'inégalité, on utilise `!=`"
   ]
  },
  {
   "cell_type": "code",
   "execution_count": 43,
   "metadata": {
    "slideshow": {
     "slide_type": "fragment"
    }
   },
   "outputs": [
    {
     "data": {
      "text/html": [
       "FALSE"
      ],
      "text/latex": [
       "FALSE"
      ],
      "text/markdown": [
       "FALSE"
      ],
      "text/plain": [
       "[1] FALSE"
      ]
     },
     "metadata": {},
     "output_type": "display_data"
    }
   ],
   "source": [
    "x!=y"
   ]
  },
  {
   "cell_type": "code",
   "execution_count": 44,
   "metadata": {
    "slideshow": {
     "slide_type": "fragment"
    }
   },
   "outputs": [
    {
     "data": {
      "text/html": [
       "TRUE"
      ],
      "text/latex": [
       "TRUE"
      ],
      "text/markdown": [
       "TRUE"
      ],
      "text/plain": [
       "[1] TRUE"
      ]
     },
     "metadata": {},
     "output_type": "display_data"
    }
   ],
   "source": [
    "x!=num"
   ]
  },
  {
   "cell_type": "markdown",
   "metadata": {
    "slideshow": {
     "slide_type": "subslide"
    }
   },
   "source": [
    "On peut aussi faire des tests logiques sur les valeurs de type string"
   ]
  },
  {
   "cell_type": "code",
   "execution_count": 45,
   "metadata": {
    "slideshow": {
     "slide_type": "fragment"
    }
   },
   "outputs": [],
   "source": [
    "string2<-\"bonjours\""
   ]
  },
  {
   "cell_type": "code",
   "execution_count": 46,
   "metadata": {
    "slideshow": {
     "slide_type": "fragment"
    }
   },
   "outputs": [
    {
     "data": {
      "text/html": [
       "FALSE"
      ],
      "text/latex": [
       "FALSE"
      ],
      "text/markdown": [
       "FALSE"
      ],
      "text/plain": [
       "[1] FALSE"
      ]
     },
     "metadata": {},
     "output_type": "display_data"
    }
   ],
   "source": [
    "string==string2"
   ]
  },
  {
   "cell_type": "code",
   "execution_count": 47,
   "metadata": {
    "slideshow": {
     "slide_type": "fragment"
    }
   },
   "outputs": [
    {
     "data": {
      "text/html": [
       "TRUE"
      ],
      "text/latex": [
       "TRUE"
      ],
      "text/markdown": [
       "TRUE"
      ],
      "text/plain": [
       "[1] TRUE"
      ]
     },
     "metadata": {},
     "output_type": "display_data"
    }
   ],
   "source": [
    "string!=string2"
   ]
  },
  {
   "cell_type": "markdown",
   "metadata": {
    "slideshow": {
     "slide_type": "slide"
    }
   },
   "source": [
    "# Les opérations sur le `workspace`"
   ]
  },
  {
   "cell_type": "markdown",
   "metadata": {
    "slideshow": {
     "slide_type": "subslide"
    }
   },
   "source": [
    "## Répertoire courant"
   ]
  },
  {
   "cell_type": "markdown",
   "metadata": {
    "slideshow": {
     "slide_type": "subslide"
    }
   },
   "source": [
    "Afin de savoir dans quel répertoire nous travaillons, on peut utiliser `getwd()`"
   ]
  },
  {
   "cell_type": "code",
   "execution_count": 48,
   "metadata": {
    "slideshow": {
     "slide_type": "fragment"
    }
   },
   "outputs": [
    {
     "data": {
      "text/html": [
       "'/Users/nour/MEGA/Studies/ACT3035/AUT_2018'"
      ],
      "text/latex": [
       "'/Users/nour/MEGA/Studies/ACT3035/AUT\\_2018'"
      ],
      "text/markdown": [
       "'/Users/nour/MEGA/Studies/ACT3035/AUT_2018'"
      ],
      "text/plain": [
       "[1] \"/Users/nour/MEGA/Studies/ACT3035/AUT_2018\""
      ]
     },
     "metadata": {},
     "output_type": "display_data"
    }
   ],
   "source": [
    "getwd()"
   ]
  },
  {
   "cell_type": "markdown",
   "metadata": {
    "slideshow": {
     "slide_type": "subslide"
    }
   },
   "source": [
    "On peut également voir dans l'onglet _files_ à droite de l'écran dans RStudio le répertoire dans lequel on travaille. Pour ceux qui sont dans la version Linux, il suffit de taper `pwd` dans l'onglet  _terminal_\n",
    "\n"
   ]
  },
  {
   "cell_type": "markdown",
   "metadata": {
    "slideshow": {
     "slide_type": "subslide"
    }
   },
   "source": [
    "On remarque que la fonction `getwd()` nous retourne une valeur de type string, on peut alors assigner cette valeur à une variable, par exemple:"
   ]
  },
  {
   "cell_type": "code",
   "execution_count": 49,
   "metadata": {
    "slideshow": {
     "slide_type": "fragment"
    }
   },
   "outputs": [],
   "source": [
    "dir<-getwd()"
   ]
  },
  {
   "cell_type": "code",
   "execution_count": 50,
   "metadata": {
    "slideshow": {
     "slide_type": "fragment"
    }
   },
   "outputs": [
    {
     "data": {
      "text/html": [
       "'/Users/nour/MEGA/Studies/ACT3035/AUT_2018'"
      ],
      "text/latex": [
       "'/Users/nour/MEGA/Studies/ACT3035/AUT\\_2018'"
      ],
      "text/markdown": [
       "'/Users/nour/MEGA/Studies/ACT3035/AUT_2018'"
      ],
      "text/plain": [
       "[1] \"/Users/nour/MEGA/Studies/ACT3035/AUT_2018\""
      ]
     },
     "metadata": {},
     "output_type": "display_data"
    }
   ],
   "source": [
    "dir"
   ]
  },
  {
   "cell_type": "markdown",
   "metadata": {
    "slideshow": {
     "slide_type": "subslide"
    }
   },
   "source": [
    "## Changer le répertoire courant"
   ]
  },
  {
   "cell_type": "markdown",
   "metadata": {
    "slideshow": {
     "slide_type": "subslide"
    }
   },
   "source": [
    "On peut aussi changer le répertoire courant avec la fonction `setwd(\"repertoire/sous-repertoire\")`"
   ]
  },
  {
   "cell_type": "code",
   "execution_count": 53,
   "metadata": {
    "slideshow": {
     "slide_type": "fragment"
    }
   },
   "outputs": [],
   "source": [
    "setwd('/Users/nour/MEGA/Studies/ACT3035/AUT_2018')"
   ]
  },
  {
   "cell_type": "code",
   "execution_count": 54,
   "metadata": {
    "slideshow": {
     "slide_type": "fragment"
    }
   },
   "outputs": [
    {
     "data": {
      "text/html": [
       "'/Users/nour/MEGA/Studies/ACT3035/AUT_2018'"
      ],
      "text/latex": [
       "'/Users/nour/MEGA/Studies/ACT3035/AUT\\_2018'"
      ],
      "text/markdown": [
       "'/Users/nour/MEGA/Studies/ACT3035/AUT_2018'"
      ],
      "text/plain": [
       "[1] \"/Users/nour/MEGA/Studies/ACT3035/AUT_2018\""
      ]
     },
     "metadata": {},
     "output_type": "display_data"
    }
   ],
   "source": [
    "getwd()"
   ]
  },
  {
   "cell_type": "markdown",
   "metadata": {
    "slideshow": {
     "slide_type": "subslide"
    }
   },
   "source": [
    "On retourne à notre répertoire original, on se rappelle que la variable `dir` contenant justement une valeur string du premier répertoire. On peut réassigner une nouvelle valeur à notre répertoire courant avec cette variable;"
   ]
  },
  {
   "cell_type": "code",
   "execution_count": 55,
   "metadata": {
    "slideshow": {
     "slide_type": "fragment"
    }
   },
   "outputs": [],
   "source": [
    "setwd(dir)"
   ]
  },
  {
   "cell_type": "code",
   "execution_count": 56,
   "metadata": {
    "slideshow": {
     "slide_type": "fragment"
    }
   },
   "outputs": [
    {
     "data": {
      "text/html": [
       "'/Users/nour/MEGA/Studies/ACT3035/AUT_2018'"
      ],
      "text/latex": [
       "'/Users/nour/MEGA/Studies/ACT3035/AUT\\_2018'"
      ],
      "text/markdown": [
       "'/Users/nour/MEGA/Studies/ACT3035/AUT_2018'"
      ],
      "text/plain": [
       "[1] \"/Users/nour/MEGA/Studies/ACT3035/AUT_2018\""
      ]
     },
     "metadata": {},
     "output_type": "display_data"
    }
   ],
   "source": [
    "getwd()"
   ]
  },
  {
   "cell_type": "markdown",
   "metadata": {
    "slideshow": {
     "slide_type": "subslide"
    }
   },
   "source": [
    "Toutefois, il est aussi possible de le faire via l’IDE avec **Session--> Set Working Directory --> Choose Directory**.  \n",
    "OU avec le raccourci: **Ctrl+Shift+H**"
   ]
  },
  {
   "cell_type": "markdown",
   "metadata": {
    "slideshow": {
     "slide_type": "subslide"
    }
   },
   "source": [
    "## Lister les objets dans la mémoire"
   ]
  },
  {
   "cell_type": "markdown",
   "metadata": {
    "slideshow": {
     "slide_type": "subslide"
    }
   },
   "source": [
    "On peut avoir la liste des objets dans le répertoire courant avec la fonction `ls()`. Comme dans les commandes Linux dans le terminal (sans les parenthèses dans le cas de Linux)"
   ]
  },
  {
   "cell_type": "code",
   "execution_count": 57,
   "metadata": {
    "slideshow": {
     "slide_type": "fragment"
    }
   },
   "outputs": [
    {
     "data": {
      "text/html": [
       "<ol class=list-inline>\n",
       "\t<li>'booleen'</li>\n",
       "\t<li>'booleen2'</li>\n",
       "\t<li>'dir'</li>\n",
       "\t<li>'num'</li>\n",
       "\t<li>'p'</li>\n",
       "\t<li>'q'</li>\n",
       "\t<li>'string'</li>\n",
       "\t<li>'string2'</li>\n",
       "\t<li>'x'</li>\n",
       "\t<li>'y'</li>\n",
       "\t<li>'z'</li>\n",
       "</ol>\n"
      ],
      "text/latex": [
       "\\begin{enumerate*}\n",
       "\\item 'booleen'\n",
       "\\item 'booleen2'\n",
       "\\item 'dir'\n",
       "\\item 'num'\n",
       "\\item 'p'\n",
       "\\item 'q'\n",
       "\\item 'string'\n",
       "\\item 'string2'\n",
       "\\item 'x'\n",
       "\\item 'y'\n",
       "\\item 'z'\n",
       "\\end{enumerate*}\n"
      ],
      "text/markdown": [
       "1. 'booleen'\n",
       "2. 'booleen2'\n",
       "3. 'dir'\n",
       "4. 'num'\n",
       "5. 'p'\n",
       "6. 'q'\n",
       "7. 'string'\n",
       "8. 'string2'\n",
       "9. 'x'\n",
       "10. 'y'\n",
       "11. 'z'\n",
       "\n",
       "\n"
      ],
      "text/plain": [
       " [1] \"booleen\"  \"booleen2\" \"dir\"      \"num\"      \"p\"        \"q\"       \n",
       " [7] \"string\"   \"string2\"  \"x\"        \"y\"        \"z\"       "
      ]
     },
     "metadata": {},
     "output_type": "display_data"
    }
   ],
   "source": [
    "ls()"
   ]
  },
  {
   "cell_type": "markdown",
   "metadata": {
    "slideshow": {
     "slide_type": "subslide"
    }
   },
   "source": [
    "## Supprimer un objets de la mémoire"
   ]
  },
  {
   "cell_type": "markdown",
   "metadata": {
    "slideshow": {
     "slide_type": "subslide"
    }
   },
   "source": [
    "Si l’on veut supprimer une variable, il suffit d'utiliser la fonction `rm(variable)`"
   ]
  },
  {
   "cell_type": "code",
   "execution_count": 58,
   "metadata": {
    "slideshow": {
     "slide_type": "fragment"
    }
   },
   "outputs": [],
   "source": [
    "rm(x)"
   ]
  },
  {
   "cell_type": "markdown",
   "metadata": {
    "slideshow": {
     "slide_type": "subslide"
    }
   },
   "source": [
    "Regardons si x est encore là?"
   ]
  },
  {
   "cell_type": "code",
   "execution_count": 59,
   "metadata": {
    "slideshow": {
     "slide_type": "fragment"
    }
   },
   "outputs": [
    {
     "data": {
      "text/html": [
       "<ol class=list-inline>\n",
       "\t<li>'booleen'</li>\n",
       "\t<li>'booleen2'</li>\n",
       "\t<li>'dir'</li>\n",
       "\t<li>'num'</li>\n",
       "\t<li>'p'</li>\n",
       "\t<li>'q'</li>\n",
       "\t<li>'string'</li>\n",
       "\t<li>'string2'</li>\n",
       "\t<li>'y'</li>\n",
       "\t<li>'z'</li>\n",
       "</ol>\n"
      ],
      "text/latex": [
       "\\begin{enumerate*}\n",
       "\\item 'booleen'\n",
       "\\item 'booleen2'\n",
       "\\item 'dir'\n",
       "\\item 'num'\n",
       "\\item 'p'\n",
       "\\item 'q'\n",
       "\\item 'string'\n",
       "\\item 'string2'\n",
       "\\item 'y'\n",
       "\\item 'z'\n",
       "\\end{enumerate*}\n"
      ],
      "text/markdown": [
       "1. 'booleen'\n",
       "2. 'booleen2'\n",
       "3. 'dir'\n",
       "4. 'num'\n",
       "5. 'p'\n",
       "6. 'q'\n",
       "7. 'string'\n",
       "8. 'string2'\n",
       "9. 'y'\n",
       "10. 'z'\n",
       "\n",
       "\n"
      ],
      "text/plain": [
       " [1] \"booleen\"  \"booleen2\" \"dir\"      \"num\"      \"p\"        \"q\"       \n",
       " [7] \"string\"   \"string2\"  \"y\"        \"z\"       "
      ]
     },
     "metadata": {},
     "output_type": "display_data"
    }
   ],
   "source": [
    "ls()"
   ]
  },
  {
   "cell_type": "markdown",
   "metadata": {
    "slideshow": {
     "slide_type": "subslide"
    }
   },
   "source": [
    "## Vider complètement le _workspace_"
   ]
  },
  {
   "cell_type": "markdown",
   "metadata": {
    "slideshow": {
     "slide_type": "subslide"
    }
   },
   "source": [
    "Maintenant, on peut aussi vider tout le _workspace_ avec;"
   ]
  },
  {
   "cell_type": "code",
   "execution_count": 60,
   "metadata": {
    "slideshow": {
     "slide_type": "fragment"
    }
   },
   "outputs": [],
   "source": [
    "rm(list=ls())"
   ]
  },
  {
   "cell_type": "markdown",
   "metadata": {
    "slideshow": {
     "slide_type": "subslide"
    }
   },
   "source": [
    "Il est aussi possible de le faire avec le \"ballet\" dans l'onglet _Environment_. Pour résumer, une fonction est simplement un appel à un script créé auparavant. Certaines fonctions nécessitent des arguments, et d'autres pas."
   ]
  },
  {
   "cell_type": "markdown",
   "metadata": {
    "slideshow": {
     "slide_type": "slide"
    }
   },
   "source": [
    "# Help"
   ]
  },
  {
   "cell_type": "markdown",
   "metadata": {
    "slideshow": {
     "slide_type": "subslide"
    }
   },
   "source": [
    "## Aide sur les fonctions"
   ]
  },
  {
   "cell_type": "markdown",
   "metadata": {
    "collapsed": true,
    "slideshow": {
     "slide_type": "subslide"
    }
   },
   "source": [
    "Lorsqu'on ne se rappelle plus ce qu’une fonction fait, on peut appeler cette fonction avec le caractère`?`précède le nom de la fonction. Ça nous donne la documentation sur cette fonction."
   ]
  },
  {
   "cell_type": "code",
   "execution_count": 61,
   "metadata": {
    "slideshow": {
     "slide_type": "fragment"
    }
   },
   "outputs": [],
   "source": [
    "?sqrt"
   ]
  },
  {
   "cell_type": "markdown",
   "metadata": {
    "slideshow": {
     "slide_type": "subslide"
    }
   },
   "source": [
    "L’autre façon d'avoir la documentation d'une fonction c’est de simplement écrire `help(nomFonction)` "
   ]
  },
  {
   "cell_type": "code",
   "execution_count": 62,
   "metadata": {
    "slideshow": {
     "slide_type": "fragment"
    }
   },
   "outputs": [],
   "source": [
    "help(sqrt)"
   ]
  },
  {
   "cell_type": "markdown",
   "metadata": {
    "slideshow": {
     "slide_type": "subslide"
    }
   },
   "source": [
    "Si l’on ne se rappelle plus du nom exact de la fonction, on peut taper ce qu’on pense être le nom de la fonction précédée de `??`\n",
    "\n"
   ]
  },
  {
   "cell_type": "code",
   "execution_count": 63,
   "metadata": {
    "slideshow": {
     "slide_type": "fragment"
    }
   },
   "outputs": [
    {
     "data": {},
     "metadata": {},
     "output_type": "display_data"
    }
   ],
   "source": [
    "??remove"
   ]
  },
  {
   "cell_type": "markdown",
   "metadata": {
    "slideshow": {
     "slide_type": "fragment"
    }
   },
   "source": [
    "Ça nous conduit vers l'onglet _help_ en faisant une recherche avec le mot que nous avons tapé"
   ]
  },
  {
   "cell_type": "markdown",
   "metadata": {
    "slideshow": {
     "slide_type": "fragment"
    }
   },
   "source": [
    "Le mot `base::` qui précède le nom de la fonction veut dire de quel _package_ provient cette fonction. Dans notre exemple on peut lire `base::rm`"
   ]
  },
  {
   "cell_type": "markdown",
   "metadata": {
    "slideshow": {
     "slide_type": "subslide"
    }
   },
   "source": [
    "## La fonction `example`"
   ]
  },
  {
   "cell_type": "markdown",
   "metadata": {
    "slideshow": {
     "slide_type": "subslide"
    }
   },
   "source": [
    "Une autre fonction très utile `example(NomFonction)` qui nous donne un exemple de la fonction que nous recherchons. En plus de nous décrire les _packages_ nécessaires (qui sont chargés)."
   ]
  },
  {
   "cell_type": "code",
   "execution_count": 64,
   "metadata": {
    "slideshow": {
     "slide_type": "fragment"
    }
   },
   "outputs": [
    {
     "name": "stdout",
     "output_type": "stream",
     "text": [
      "\n",
      "sqrt> require(stats) # for spline\n",
      "\n",
      "sqrt> require(graphics)\n",
      "\n",
      "sqrt> xx <- -9:9\n",
      "\n",
      "sqrt> plot(xx, sqrt(abs(xx)),  col = \"red\")\n",
      "\n",
      "sqrt> lines(spline(xx, sqrt(abs(xx)), n=101), col = \"pink\")\n"
     ]
    },
    {
     "data": {
      "image/png": "[encoded data removed]",
      "text/plain": [
       "plot without title"
      ]
     },
     "metadata": {},
     "output_type": "display_data"
    }
   ],
   "source": [
    "example(sqrt)"
   ]
  },
  {
   "cell_type": "code",
   "execution_count": 65,
   "metadata": {
    "scrolled": true,
    "slideshow": {
     "slide_type": "subslide"
    }
   },
   "outputs": [
    {
     "name": "stdout",
     "output_type": "stream",
     "text": [
      "\n",
      "exp> log(exp(3))\n",
      "[1] 3\n",
      "\n",
      "exp> log10(1e7) # = 7\n",
      "[1] 7\n",
      "\n",
      "exp> x <- 10^-(1+2*1:9)\n",
      "\n",
      "exp> cbind(x, log(1+x), log1p(x), exp(x)-1, expm1(x))\n",
      "          x                                                    \n",
      " [1,] 1e-03 9.995003e-04 9.995003e-04 1.000500e-03 1.000500e-03\n",
      " [2,] 1e-05 9.999950e-06 9.999950e-06 1.000005e-05 1.000005e-05\n",
      " [3,] 1e-07 1.000000e-07 1.000000e-07 1.000000e-07 1.000000e-07\n",
      " [4,] 1e-09 1.000000e-09 1.000000e-09 1.000000e-09 1.000000e-09\n",
      " [5,] 1e-11 1.000000e-11 1.000000e-11 1.000000e-11 1.000000e-11\n",
      " [6,] 1e-13 9.992007e-14 1.000000e-13 9.992007e-14 1.000000e-13\n",
      " [7,] 1e-15 1.110223e-15 1.000000e-15 1.110223e-15 1.000000e-15\n",
      " [8,] 1e-17 0.000000e+00 1.000000e-17 0.000000e+00 1.000000e-17\n",
      " [9,] 1e-19 0.000000e+00 1.000000e-19 0.000000e+00 1.000000e-19\n"
     ]
    }
   ],
   "source": [
    "example(exp)"
   ]
  },
  {
   "cell_type": "markdown",
   "metadata": {
    "slideshow": {
     "slide_type": "subslide"
    }
   },
   "source": [
    "## Aide sur les données"
   ]
  },
  {
   "cell_type": "markdown",
   "metadata": {
    "slideshow": {
     "slide_type": "subslide"
    }
   },
   "source": [
    "Il est aussi possible d'avoir plus d'informations sur les données préchargées."
   ]
  },
  {
   "cell_type": "code",
   "execution_count": 66,
   "metadata": {
    "slideshow": {
     "slide_type": "fragment"
    }
   },
   "outputs": [],
   "source": [
    "data()"
   ]
  },
  {
   "cell_type": "markdown",
   "metadata": {
    "slideshow": {
     "slide_type": "subslide"
    }
   },
   "source": [
    "Ce sont des bases de données de R qui sont disponibles par défaut"
   ]
  },
  {
   "cell_type": "code",
   "execution_count": 67,
   "metadata": {
    "slideshow": {
     "slide_type": "fragment"
    }
   },
   "outputs": [
    {
     "data": {
      "image/png": "[encoded data removed]",
      "text/plain": [
       "plot without title"
      ]
     },
     "metadata": {},
     "output_type": "display_data"
    }
   ],
   "source": [
    "plot(cars)"
   ]
  },
  {
   "cell_type": "markdown",
   "metadata": {
    "slideshow": {
     "slide_type": "subslide"
    }
   },
   "source": [
    "On peut aussi charger des données déjà disponibles dans un _package_"
   ]
  },
  {
   "cell_type": "code",
   "execution_count": 68,
   "metadata": {
    "slideshow": {
     "slide_type": "fragment"
    }
   },
   "outputs": [
    {
     "name": "stderr",
     "output_type": "stream",
     "text": [
      "Loading required package: MASS\n"
     ]
    }
   ],
   "source": [
    "require(MASS)"
   ]
  },
  {
   "cell_type": "code",
   "execution_count": 69,
   "metadata": {
    "slideshow": {
     "slide_type": "fragment"
    }
   },
   "outputs": [],
   "source": [
    "data(Cars93)"
   ]
  },
  {
   "cell_type": "markdown",
   "metadata": {
    "slideshow": {
     "slide_type": "subslide"
    }
   },
   "source": [
    "Une fonction très utile afin d’avoir un sommaire rapide sur les données est `summary`"
   ]
  },
  {
   "cell_type": "code",
   "execution_count": 70,
   "metadata": {
    "slideshow": {
     "slide_type": "fragment"
    }
   },
   "outputs": [
    {
     "data": {
      "text/plain": [
       "    Manufacturer     Model         Type      Min.Price         Price      \n",
       " Chevrolet: 8    100    : 1   Compact:16   Min.   : 6.70   Min.   : 7.40  \n",
       " Ford     : 8    190E   : 1   Large  :11   1st Qu.:10.80   1st Qu.:12.20  \n",
       " Dodge    : 6    240    : 1   Midsize:22   Median :14.70   Median :17.70  \n",
       " Mazda    : 5    300E   : 1   Small  :21   Mean   :17.13   Mean   :19.51  \n",
       " Pontiac  : 5    323    : 1   Sporty :14   3rd Qu.:20.30   3rd Qu.:23.30  \n",
       " Buick    : 4    535i   : 1   Van    : 9   Max.   :45.40   Max.   :61.90  \n",
       " (Other)  :57    (Other):87                                               \n",
       "   Max.Price       MPG.city      MPG.highway                  AirBags  \n",
       " Min.   : 7.9   Min.   :15.00   Min.   :20.00   Driver & Passenger:16  \n",
       " 1st Qu.:14.7   1st Qu.:18.00   1st Qu.:26.00   Driver only       :43  \n",
       " Median :19.6   Median :21.00   Median :28.00   None              :34  \n",
       " Mean   :21.9   Mean   :22.37   Mean   :29.09                          \n",
       " 3rd Qu.:25.3   3rd Qu.:25.00   3rd Qu.:31.00                          \n",
       " Max.   :80.0   Max.   :46.00   Max.   :50.00                          \n",
       "                                                                       \n",
       " DriveTrain  Cylinders    EngineSize      Horsepower         RPM      \n",
       " 4WD  :10   3     : 3   Min.   :1.000   Min.   : 55.0   Min.   :3800  \n",
       " Front:67   4     :49   1st Qu.:1.800   1st Qu.:103.0   1st Qu.:4800  \n",
       " Rear :16   5     : 2   Median :2.400   Median :140.0   Median :5200  \n",
       "            6     :31   Mean   :2.668   Mean   :143.8   Mean   :5281  \n",
       "            8     : 7   3rd Qu.:3.300   3rd Qu.:170.0   3rd Qu.:5750  \n",
       "            rotary: 1   Max.   :5.700   Max.   :300.0   Max.   :6500  \n",
       "                                                                      \n",
       "  Rev.per.mile  Man.trans.avail Fuel.tank.capacity   Passengers   \n",
       " Min.   :1320   No :32          Min.   : 9.20      Min.   :2.000  \n",
       " 1st Qu.:1985   Yes:61          1st Qu.:14.50      1st Qu.:4.000  \n",
       " Median :2340                   Median :16.40      Median :5.000  \n",
       " Mean   :2332                   Mean   :16.66      Mean   :5.086  \n",
       " 3rd Qu.:2565                   3rd Qu.:18.80      3rd Qu.:6.000  \n",
       " Max.   :3755                   Max.   :27.00      Max.   :8.000  \n",
       "                                                                  \n",
       "     Length        Wheelbase         Width        Turn.circle   \n",
       " Min.   :141.0   Min.   : 90.0   Min.   :60.00   Min.   :32.00  \n",
       " 1st Qu.:174.0   1st Qu.: 98.0   1st Qu.:67.00   1st Qu.:37.00  \n",
       " Median :183.0   Median :103.0   Median :69.00   Median :39.00  \n",
       " Mean   :183.2   Mean   :103.9   Mean   :69.38   Mean   :38.96  \n",
       " 3rd Qu.:192.0   3rd Qu.:110.0   3rd Qu.:72.00   3rd Qu.:41.00  \n",
       " Max.   :219.0   Max.   :119.0   Max.   :78.00   Max.   :45.00  \n",
       "                                                                \n",
       " Rear.seat.room   Luggage.room       Weight         Origin              Make   \n",
       " Min.   :19.00   Min.   : 6.00   Min.   :1695   USA    :48   Acura Integra: 1  \n",
       " 1st Qu.:26.00   1st Qu.:12.00   1st Qu.:2620   non-USA:45   Acura Legend : 1  \n",
       " Median :27.50   Median :14.00   Median :3040                Audi 100     : 1  \n",
       " Mean   :27.83   Mean   :13.89   Mean   :3073                Audi 90      : 1  \n",
       " 3rd Qu.:30.00   3rd Qu.:15.00   3rd Qu.:3525                BMW 535i     : 1  \n",
       " Max.   :36.00   Max.   :22.00   Max.   :4105                Buick Century: 1  \n",
       " NA's   :2       NA's   :11                                  (Other)      :87  "
      ]
     },
     "metadata": {},
     "output_type": "display_data"
    }
   ],
   "source": [
    "summary(Cars93)"
   ]
  },
  {
   "cell_type": "markdown",
   "metadata": {
    "slideshow": {
     "slide_type": "subslide"
    }
   },
   "source": [
    "Ça nous donne les variables trouvées dans cette base de données ainsi qu'une statistique descriptive sur chacune des variables\n",
    "\n",
    "| Min.    |\n",
    "|---------|\n",
    "| 1st Qu. |\n",
    "| Median  |\n",
    "| Mean    |\n",
    "| 3rd Qu. |\n",
    "| Max.    |"
   ]
  },
  {
   "cell_type": "code",
   "execution_count": 71,
   "metadata": {
    "slideshow": {
     "slide_type": "subslide"
    }
   },
   "outputs": [
    {
     "data": {
      "text/html": [
       "<table>\n",
       "<thead><tr><th scope=col>Manufacturer</th><th scope=col>Model</th><th scope=col>Type</th><th scope=col>Min.Price</th><th scope=col>Price</th><th scope=col>Max.Price</th><th scope=col>MPG.city</th><th scope=col>MPG.highway</th><th scope=col>AirBags</th><th scope=col>DriveTrain</th><th scope=col>⋯</th><th scope=col>Passengers</th><th scope=col>Length</th><th scope=col>Wheelbase</th><th scope=col>Width</th><th scope=col>Turn.circle</th><th scope=col>Rear.seat.room</th><th scope=col>Luggage.room</th><th scope=col>Weight</th><th scope=col>Origin</th><th scope=col>Make</th></tr></thead>\n",
       "<tbody>\n",
       "\t<tr><td>Acura             </td><td>Integra           </td><td>Small             </td><td>12.9              </td><td>15.9              </td><td>18.8              </td><td>25                </td><td>31                </td><td>None              </td><td>Front             </td><td>⋯                 </td><td>5                 </td><td>177               </td><td>102               </td><td>68                </td><td>37                </td><td>26.5              </td><td>11                </td><td>2705              </td><td>non-USA           </td><td>Acura Integra     </td></tr>\n",
       "\t<tr><td>Acura                 </td><td>Legend                </td><td>Midsize               </td><td>29.2                  </td><td>33.9                  </td><td>38.7                  </td><td>18                    </td><td>25                    </td><td>Driver &amp; Passenger</td><td>Front                 </td><td>⋯                     </td><td>5                     </td><td>195                   </td><td>115                   </td><td>71                    </td><td>38                    </td><td>30.0                  </td><td>15                    </td><td>3560                  </td><td>non-USA               </td><td>Acura Legend          </td></tr>\n",
       "\t<tr><td>Audi              </td><td>90                </td><td>Compact           </td><td>25.9              </td><td>29.1              </td><td>32.3              </td><td>20                </td><td>26                </td><td>Driver only       </td><td>Front             </td><td>⋯                 </td><td>5                 </td><td>180               </td><td>102               </td><td>67                </td><td>37                </td><td>28.0              </td><td>14                </td><td>3375              </td><td>non-USA           </td><td>Audi 90           </td></tr>\n",
       "\t<tr><td>Audi                                                 </td><td><span style=white-space:pre-wrap>100    </span>      </td><td>Midsize                                              </td><td>30.8                                                 </td><td>37.7                                                 </td><td>44.6                                                 </td><td>19                                                   </td><td>26                                                   </td><td>Driver &amp; Passenger                               </td><td>Front                                                </td><td>⋯                                                    </td><td>6                                                    </td><td>193                                                  </td><td>106                                                  </td><td>70                                                   </td><td>37                                                   </td><td>31.0                                                 </td><td>17                                                   </td><td>3405                                                 </td><td>non-USA                                              </td><td><span style=white-space:pre-wrap>Audi 100     </span></td></tr>\n",
       "\t<tr><td>BMW               </td><td>535i              </td><td>Midsize           </td><td>23.7              </td><td>30.0              </td><td>36.2              </td><td>22                </td><td>30                </td><td>Driver only       </td><td>Rear              </td><td>⋯                 </td><td>4                 </td><td>186               </td><td>109               </td><td>69                </td><td>39                </td><td>27.0              </td><td>13                </td><td>3640              </td><td>non-USA           </td><td>BMW 535i          </td></tr>\n",
       "\t<tr><td>Buick             </td><td>Century           </td><td>Midsize           </td><td>14.2              </td><td>15.7              </td><td>17.3              </td><td>22                </td><td>31                </td><td>Driver only       </td><td>Front             </td><td>⋯                 </td><td>6                 </td><td>189               </td><td>105               </td><td>69                </td><td>41                </td><td>28.0              </td><td>16                </td><td>2880              </td><td>USA               </td><td>Buick Century     </td></tr>\n",
       "</tbody>\n",
       "</table>\n"
      ],
      "text/latex": [
       "\\begin{tabular}{r|lllllllllllllllllllllllllll}\n",
       " Manufacturer & Model & Type & Min.Price & Price & Max.Price & MPG.city & MPG.highway & AirBags & DriveTrain & ⋯ & Passengers & Length & Wheelbase & Width & Turn.circle & Rear.seat.room & Luggage.room & Weight & Origin & Make\\\\\n",
       "\\hline\n",
       "\t Acura              & Integra            & Small              & 12.9               & 15.9               & 18.8               & 25                 & 31                 & None               & Front              & ⋯                  & 5                  & 177                & 102                & 68                 & 37                 & 26.5               & 11                 & 2705               & non-USA            & Acura Integra     \\\\\n",
       "\t Acura                & Legend               & Midsize              & 29.2                 & 33.9                 & 38.7                 & 18                   & 25                   & Driver \\& Passenger & Front                & ⋯                    & 5                    & 195                  & 115                  & 71                   & 38                   & 30.0                 & 15                   & 3560                 & non-USA              & Acura Legend        \\\\\n",
       "\t Audi               & 90                 & Compact            & 25.9               & 29.1               & 32.3               & 20                 & 26                 & Driver only        & Front              & ⋯                  & 5                  & 180                & 102                & 67                 & 37                 & 28.0               & 14                 & 3375               & non-USA            & Audi 90           \\\\\n",
       "\t Audi                 & 100                  & Midsize              & 30.8                 & 37.7                 & 44.6                 & 19                   & 26                   & Driver \\& Passenger & Front                & ⋯                    & 6                    & 193                  & 106                  & 70                   & 37                   & 31.0                 & 17                   & 3405                 & non-USA              & Audi 100            \\\\\n",
       "\t BMW                & 535i               & Midsize            & 23.7               & 30.0               & 36.2               & 22                 & 30                 & Driver only        & Rear               & ⋯                  & 4                  & 186                & 109                & 69                 & 39                 & 27.0               & 13                 & 3640               & non-USA            & BMW 535i          \\\\\n",
       "\t Buick              & Century            & Midsize            & 14.2               & 15.7               & 17.3               & 22                 & 31                 & Driver only        & Front              & ⋯                  & 6                  & 189                & 105                & 69                 & 41                 & 28.0               & 16                 & 2880               & USA                & Buick Century     \\\\\n",
       "\\end{tabular}\n"
      ],
      "text/markdown": [
       "\n",
       "Manufacturer | Model | Type | Min.Price | Price | Max.Price | MPG.city | MPG.highway | AirBags | DriveTrain | ⋯ | Passengers | Length | Wheelbase | Width | Turn.circle | Rear.seat.room | Luggage.room | Weight | Origin | Make | \n",
       "|---|---|---|---|---|---|\n",
       "| Acura              | Integra            | Small              | 12.9               | 15.9               | 18.8               | 25                 | 31                 | None               | Front              | ⋯                  | 5                  | 177                | 102                | 68                 | 37                 | 26.5               | 11                 | 2705               | non-USA            | Acura Integra      | \n",
       "| Acura              | Legend             | Midsize            | 29.2               | 33.9               | 38.7               | 18                 | 25                 | Driver & Passenger | Front              | ⋯                  | 5                  | 195                | 115                | 71                 | 38                 | 30.0               | 15                 | 3560               | non-USA            | Acura Legend       | \n",
       "| Audi               | 90                 | Compact            | 25.9               | 29.1               | 32.3               | 20                 | 26                 | Driver only        | Front              | ⋯                  | 5                  | 180                | 102                | 67                 | 37                 | 28.0               | 14                 | 3375               | non-USA            | Audi 90            | \n",
       "| Audi               | 100                | Midsize            | 30.8               | 37.7               | 44.6               | 19                 | 26                 | Driver & Passenger | Front              | ⋯                  | 6                  | 193                | 106                | 70                 | 37                 | 31.0               | 17                 | 3405               | non-USA            | Audi 100           | \n",
       "| BMW                | 535i               | Midsize            | 23.7               | 30.0               | 36.2               | 22                 | 30                 | Driver only        | Rear               | ⋯                  | 4                  | 186                | 109                | 69                 | 39                 | 27.0               | 13                 | 3640               | non-USA            | BMW 535i           | \n",
       "| Buick              | Century            | Midsize            | 14.2               | 15.7               | 17.3               | 22                 | 31                 | Driver only        | Front              | ⋯                  | 6                  | 189                | 105                | 69                 | 41                 | 28.0               | 16                 | 2880               | USA                | Buick Century      | \n",
       "\n",
       "\n"
      ],
      "text/plain": [
       "  Manufacturer Model   Type    Min.Price Price Max.Price MPG.city MPG.highway\n",
       "1 Acura        Integra Small   12.9      15.9  18.8      25       31         \n",
       "2 Acura        Legend  Midsize 29.2      33.9  38.7      18       25         \n",
       "3 Audi         90      Compact 25.9      29.1  32.3      20       26         \n",
       "4 Audi         100     Midsize 30.8      37.7  44.6      19       26         \n",
       "5 BMW          535i    Midsize 23.7      30.0  36.2      22       30         \n",
       "6 Buick        Century Midsize 14.2      15.7  17.3      22       31         \n",
       "  AirBags            DriveTrain ⋯ Passengers Length Wheelbase Width Turn.circle\n",
       "1 None               Front      ⋯ 5          177    102       68    37         \n",
       "2 Driver & Passenger Front      ⋯ 5          195    115       71    38         \n",
       "3 Driver only        Front      ⋯ 5          180    102       67    37         \n",
       "4 Driver & Passenger Front      ⋯ 6          193    106       70    37         \n",
       "5 Driver only        Rear       ⋯ 4          186    109       69    39         \n",
       "6 Driver only        Front      ⋯ 6          189    105       69    41         \n",
       "  Rear.seat.room Luggage.room Weight Origin  Make         \n",
       "1 26.5           11           2705   non-USA Acura Integra\n",
       "2 30.0           15           3560   non-USA Acura Legend \n",
       "3 28.0           14           3375   non-USA Audi 90      \n",
       "4 31.0           17           3405   non-USA Audi 100     \n",
       "5 27.0           13           3640   non-USA BMW 535i     \n",
       "6 28.0           16           2880   USA     Buick Century"
      ]
     },
     "metadata": {},
     "output_type": "display_data"
    }
   ],
   "source": [
    "head(Cars93)"
   ]
  },
  {
   "cell_type": "markdown",
   "metadata": {
    "slideshow": {
     "slide_type": "slide"
    }
   },
   "source": [
    "# Plus de resources"
   ]
  },
  {
   "cell_type": "markdown",
   "metadata": {
    "slideshow": {
     "slide_type": "fragment"
    }
   },
   "source": [
    "* **The R Project for Statistical Computing**: (http://www.r-project.org/) Premier lieu où.\n",
    "* **The Comprehensive R Archive Network**: (http://cran.r-project.org/) C,est là ou se trouve le logiciel R, avec des miliers de _packages_, il s,y trouve aussi des exemples et même des livres!\n",
    "\n",
    "* **R-Forge**: (http://r-forge.r-project.org/) Une autre place où des _packages_ sont sauvegardé, on y trouve aussi des _packages_ tout récemment développés\n",
    "* **Rlanguage reddit**: (https://www.reddit.com/r/Rlanguage) On y trouve toutes sortes d'informations ou question [exemple](https://www.reddit.com/r/Rlanguage/comments/786y4z/recommended_books/)"
   ]
  }
 ],
 "metadata": {
  "anaconda-cloud": {},
  "celltoolbar": "Slideshow",
  "kernelspec": {
   "display_name": "R",
   "language": "R",
   "name": "ir"
  },
  "language_info": {
   "codemirror_mode": "r",
   "file_extension": ".r",
   "mimetype": "text/x-r-source",
   "name": "R",
   "pygments_lexer": "r",
   "version": "3.4.1"
  },
  "latex_envs": {
   "LaTeX_envs_menu_present": true,
   "bibliofile": "biblio.bib",
   "cite_by": "apalike",
   "current_citInitial": 1,
   "eqLabelWithNumbers": true,
   "eqNumInitial": 1,
   "labels_anchors": false,
   "latex_user_defs": false,
   "report_style_numbering": false,
   "user_envs_cfg": false
  },
  "toc": {
   "base_numbering": 1,
   "nav_menu": {
    "height": "84px",
    "width": "252px"
   },
   "number_sections": true,
   "sideBar": true,
   "skip_h1_title": false,
   "title_cell": "Table of Contents",
   "title_sidebar": "Contents",
   "toc_cell": true,
   "toc_position": {
    "height": "694px",
    "left": "0px",
    "right": "998.4375px",
    "top": "105px",
    "width": "232px"
   },
   "toc_section_display": "block",
   "toc_window_display": true
  }
 },
 "nbformat": 4,
 "nbformat_minor": 1
}
