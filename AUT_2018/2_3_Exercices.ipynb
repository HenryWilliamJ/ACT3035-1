{
 "cells": [
  {
   "cell_type": "markdown",
   "metadata": {
    "toc": true
   },
   "source": [
    "<h1>Liste des numéros<span class=\"tocSkip\"></span></h1>\n",
    "<div class=\"toc\"><ul class=\"toc-item\"><li><span><a href=\"#Question\" data-toc-modified-id=\"Question-1\"><span class=\"toc-item-num\">1&nbsp;&nbsp;</span>Question</a></span></li><li><span><a href=\"#Question\" data-toc-modified-id=\"Question-2\"><span class=\"toc-item-num\">2&nbsp;&nbsp;</span>Question</a></span></li><li><span><a href=\"#Question\" data-toc-modified-id=\"Question-3\"><span class=\"toc-item-num\">3&nbsp;&nbsp;</span>Question</a></span></li><li><span><a href=\"#Question\" data-toc-modified-id=\"Question-4\"><span class=\"toc-item-num\">4&nbsp;&nbsp;</span>Question</a></span></li><li><span><a href=\"#Question\" data-toc-modified-id=\"Question-5\"><span class=\"toc-item-num\">5&nbsp;&nbsp;</span>Question</a></span></li><li><span><a href=\"#Question\" data-toc-modified-id=\"Question-6\"><span class=\"toc-item-num\">6&nbsp;&nbsp;</span>Question</a></span></li><li><span><a href=\"#Question\" data-toc-modified-id=\"Question-7\"><span class=\"toc-item-num\">7&nbsp;&nbsp;</span>Question</a></span></li><li><span><a href=\"#Question\" data-toc-modified-id=\"Question-8\"><span class=\"toc-item-num\">8&nbsp;&nbsp;</span>Question</a></span></li><li><span><a href=\"#Question\" data-toc-modified-id=\"Question-9\"><span class=\"toc-item-num\">9&nbsp;&nbsp;</span>Question</a></span></li><li><span><a href=\"#Question\" data-toc-modified-id=\"Question-10\"><span class=\"toc-item-num\">10&nbsp;&nbsp;</span>Question</a></span></li><li><span><a href=\"#Question\" data-toc-modified-id=\"Question-11\"><span class=\"toc-item-num\">11&nbsp;&nbsp;</span>Question</a></span></li><li><span><a href=\"#Question\" data-toc-modified-id=\"Question-12\"><span class=\"toc-item-num\">12&nbsp;&nbsp;</span>Question</a></span></li><li><span><a href=\"#Questions-mathématiques-financière\" data-toc-modified-id=\"Questions-mathématiques-financière-13\"><span class=\"toc-item-num\">13&nbsp;&nbsp;</span>Questions mathématiques financière</a></span><ul class=\"toc-item\"><li><span><a href=\"#Q1\" data-toc-modified-id=\"Q1-13.1\"><span class=\"toc-item-num\">13.1&nbsp;&nbsp;</span>Q1</a></span></li><li><span><a href=\"#Q2\" data-toc-modified-id=\"Q2-13.2\"><span class=\"toc-item-num\">13.2&nbsp;&nbsp;</span>Q2</a></span></li><li><span><a href=\"#Q3\" data-toc-modified-id=\"Q3-13.3\"><span class=\"toc-item-num\">13.3&nbsp;&nbsp;</span>Q3</a></span></li><li><span><a href=\"#Q4\" data-toc-modified-id=\"Q4-13.4\"><span class=\"toc-item-num\">13.4&nbsp;&nbsp;</span>Q4</a></span></li><li><span><a href=\"#Q5\" data-toc-modified-id=\"Q5-13.5\"><span class=\"toc-item-num\">13.5&nbsp;&nbsp;</span>Q5</a></span></li></ul></li><li><span><a href=\"#Question-probabilité\" data-toc-modified-id=\"Question-probabilité-14\"><span class=\"toc-item-num\">14&nbsp;&nbsp;</span>Question probabilité</a></span><ul class=\"toc-item\"><li><span><a href=\"#Q1\" data-toc-modified-id=\"Q1-14.1\"><span class=\"toc-item-num\">14.1&nbsp;&nbsp;</span>Q1</a></span></li><li><span><a href=\"#Q2\" data-toc-modified-id=\"Q2-14.2\"><span class=\"toc-item-num\">14.2&nbsp;&nbsp;</span>Q2</a></span></li><li><span><a href=\"#Q3\" data-toc-modified-id=\"Q3-14.3\"><span class=\"toc-item-num\">14.3&nbsp;&nbsp;</span>Q3</a></span></li></ul></li></ul></div>"
   ]
  },
  {
   "cell_type": "markdown",
   "metadata": {},
   "source": [
    "# Question"
   ]
  },
  {
   "cell_type": "markdown",
   "metadata": {},
   "source": [
    "Créer une matrice A au format 2X4 avec les valeurs suivantes: 1 2 3 4 5 6 7 8\n"
   ]
  },
  {
   "cell_type": "markdown",
   "metadata": {},
   "source": [
    "Recréez cette matrice, mais cette fois les valeurs sont incrémentées par lignes"
   ]
  },
  {
   "cell_type": "markdown",
   "metadata": {},
   "source": [
    "# Question"
   ]
  },
  {
   "cell_type": "markdown",
   "metadata": {},
   "source": [
    "Créez une matrice carrée avec les valeurs du vecteur vec3 créée auparavant:\n"
   ]
  },
  {
   "cell_type": "markdown",
   "metadata": {},
   "source": [
    "# Question"
   ]
  },
  {
   "cell_type": "markdown",
   "metadata": {},
   "source": [
    "Créer une matrice identité 7X7"
   ]
  },
  {
   "cell_type": "markdown",
   "metadata": {},
   "source": [
    "Afin des fins de calcul de réserves actuarielles, vous devez renverser (_reverse_) la diagonale de sorte où les 1 sont dans les cases (7,1), (6,2),...,(1,7)"
   ]
  },
  {
   "cell_type": "markdown",
   "metadata": {},
   "source": [
    "# Question"
   ]
  },
  {
   "cell_type": "markdown",
   "metadata": {},
   "source": [
    "À partir des données [suivantes](http://www.stat.gouv.qc.ca/statistiques/population-demographie/structure/mun_15000.htm), créez une matrice où vous avez la population des villes (Montréal, Québec, Laval, Gatineau) par ligne et les années 2013 à 2016 par colonnes"
   ]
  },
  {
   "cell_type": "markdown",
   "metadata": {},
   "source": [
    "On vous dit que l’arrondissement Hochelaga-Maisonneuve (situé à  Montréal) est devenu un quartier très aisé et veut maintenant avoir son indépendance. Aujourd'hui ce prestigieux quartier appelé HOMA, l'évolution de la population de ce quartier de 2013 à 2016 a été la suivante: 20000, 20500, 23000, 23800"
   ]
  },
  {
   "cell_type": "markdown",
   "metadata": {},
   "source": [
    "Quelle aurait été la population de Montréal sans compter les habitants du pays très prospère pays HOMA"
   ]
  },
  {
   "cell_type": "markdown",
   "metadata": {},
   "source": [
    "Reconstruisez la nouvelle matrice avec les nouvelles données de Montréal."
   ]
  },
  {
   "cell_type": "markdown",
   "metadata": {},
   "source": [
    "Ajouter les données de HOMA à la matrice modifiée|"
   ]
  },
  {
   "cell_type": "markdown",
   "metadata": {},
   "source": [
    "# Question"
   ]
  },
  {
   "cell_type": "markdown",
   "metadata": {},
   "source": [
    "Créer  deux  vecteurs  aléatoires  nommés  « x1 » et  « x2 »,  contenant  chacun  100  valeurs aléatoires compatibles \n",
    "1. avec une distribution de loi normale centrée réduite et \n",
    "2. avec une distribution de loi uniforme définie sur l’intervalle [0 ; 10]. "
   ]
  },
  {
   "cell_type": "markdown",
   "metadata": {},
   "source": [
    "Créez une matrice 10X10 contient les valeur du vecteur x1 crée auparavant:"
   ]
  },
  {
   "cell_type": "markdown",
   "metadata": {},
   "source": [
    "Calculez la moyenne de cette dernière et la variance de cette dernière"
   ]
  },
  {
   "cell_type": "markdown",
   "metadata": {},
   "source": [
    "# Question"
   ]
  },
  {
   "cell_type": "markdown",
   "metadata": {},
   "source": [
    "Créer un vecteur xx1 contenant un échantillon équiprobable de 4 variables à partir du vecteur x1 de la question précédente\n"
   ]
  },
  {
   "cell_type": "markdown",
   "metadata": {},
   "source": [
    "À partir du vecteur xx1, créez un autre vecteur xx2 qui possède 1000 variables de l'échantillon xx1. La dernière variable possède une probabilité de 70% qu'elle soit tirée alors que les trois premières ont chacune 10% de chance qu'elle soit tirée."
   ]
  },
  {
   "cell_type": "markdown",
   "metadata": {},
   "source": [
    "Donnez la fréquence de chacune des variables simulée\n"
   ]
  },
  {
   "cell_type": "markdown",
   "metadata": {},
   "source": [
    "# Question"
   ]
  },
  {
   "cell_type": "markdown",
   "metadata": {},
   "source": [
    "On vous dit que les temps pour finir un demi-triathlon suivent une loi normale avec une moyenne (et les écarts types [ET])  pour les hommes et les femmes sont les suivantes:\n",
    "* Pour les **hommes** nager 1.9 km en 40 minutes (ET=3), pédaler 90 km en 2:45 (ET=8), et courir 21.1 km en 2:05 (ET=10).\n",
    "* Pour les **Femmes** nager 1.9 km en 50 minutes (ET=5), pédaler 90 km en 3:00 (ET=5), et courir 21.1 km en 2:15 (ET=12).\n"
   ]
  },
  {
   "cell_type": "markdown",
   "metadata": {},
   "source": [
    "Créer les vecteurs {`swimH`, `bikeH`, `runH`, `swimF`, `bikeF`, `runF`} contenant le temps pour chacun des sports pour 1002 hommes et 1300 femmes, tirés aléatoirement selon les lois ci-dessus (on suppose que les trois sports sont indépendants même si en réalité ce n'est jamais vrai, car si on se blesse en vélo, on performe beaucoup moins en course).\n"
   ]
  },
  {
   "cell_type": "markdown",
   "metadata": {},
   "source": [
    "Avec les vecteurs crée précedemment, construisez une matrice pour les hommes et une autre pour les femmes"
   ]
  },
  {
   "cell_type": "markdown",
   "metadata": {},
   "source": [
    "* Créez une matrice qui contient les résultats des femmes ensuite et le résultat des hommes\n",
    "\n",
    "* Quel est le numéro du dossard du participant/es qui a le meilleur temps en nage, et en combien de temps à accomplie cette discipline\n",
    "\n",
    "* Quel est le numéro du dossard du participant/es qui a le meilleur temps en vélo, et en combien de temps à accomplie cette discipline\n",
    "\n",
    "* Quel est le numéro du dossard du participant/es qui a le meilleur temps en course, et en combien de temps à accomplie cette discipline\n",
    "\n",
    "* Quel a été le meilleur temps chez les femmes?\n",
    "\n",
    "* Quel numéro de dossard?\n",
    "\n",
    "* Qui a gagné la course et en combien de temps?"
   ]
  },
  {
   "cell_type": "markdown",
   "metadata": {},
   "source": [
    "# Question"
   ]
  },
  {
   "cell_type": "markdown",
   "metadata": {},
   "source": [
    "Créez un vecteur appelé `ann` de qui représente les années de développement dans calcul d'annuité de 5 ans, qui donne le résultat suivant `(1,...,5)`"
   ]
  },
  {
   "cell_type": "markdown",
   "metadata": {},
   "source": [
    "Créer un vecteur contenant les fameux facteurs d'actualisation $v^n$ qui servent à calculer la valeur présente d'une série de paiements `n=5` avec un taux d'intérêt de 2.5% \\begin{equation}\\label{eq:v_n} v^n=\\frac{1}{1+i} \\end{equation}"
   ]
  },
  {
   "cell_type": "markdown",
   "metadata": {},
   "source": [
    "Calculer la valeur présente d'une annuité 5 ans avec qui 153.25$ par année\n",
    "\n",
    "\n",
    "\\begin{equation}\\label{eq:a_n}\n",
    "\\begin{split}\n",
    "PV &=a_n\\\\\n",
    "&= v+v^2+ ,\\dots, v^n\\\\\n",
    "&=\\sum_{j=1}^{n} v^{\\text{ } j} \n",
    "\\end{split}\n",
    "\\end{equation}"
   ]
  },
  {
   "cell_type": "markdown",
   "metadata": {},
   "source": [
    "Reproduiser votre calcul avec la fonction suivante:\n",
    "\\begin{equation}\\label{eq:a_nn}\n",
    "\\begin{split}\n",
    "PV &=a_n\\\\\n",
    "&= v+v^2+ ,\\dots, v^n\\\\\n",
    "&=\\sum_{j=1}^{n} v^{\\text{ } j} \\\\\n",
    "&=\\frac{1-v^n}{i}\n",
    "\\end{split}\n",
    "\\end{equation}\n",
    "Lorsque le taux d'intérêt est constant d'une année à l'autre\n"
   ]
  },
  {
   "cell_type": "markdown",
   "metadata": {},
   "source": [
    "# Question"
   ]
  },
  {
   "cell_type": "markdown",
   "metadata": {},
   "source": [
    "on se rappelle du taux _Effective rate of discount_"
   ]
  },
  {
   "cell_type": "markdown",
   "metadata": {},
   "source": [
    "\\begin{equation}\\label{eq:d}\n",
    "d_t=\\frac{a(t)-a(t-1)}{a(t-1)}\n",
    "\\end{equation}\n"
   ]
  },
  {
   "cell_type": "markdown",
   "metadata": {},
   "source": [
    "Le taux _discount_ se calcule avec la fonction suivante:"
   ]
  },
  {
   "cell_type": "markdown",
   "metadata": {},
   "source": [
    "\\begin{equation}\\label{eq:d_i}\n",
    "d=\\frac{i}{1+i}=iv\n",
    "\\end{equation}\n"
   ]
  },
  {
   "cell_type": "markdown",
   "metadata": {},
   "source": [
    "Soit un taux d'intérêt de 5%, quel sera alors de taux de _discount_ avec seulement 6 décimales"
   ]
  },
  {
   "cell_type": "markdown",
   "metadata": {},
   "source": [
    "# Question"
   ]
  },
  {
   "cell_type": "markdown",
   "metadata": {},
   "source": [
    "Écrivez un code R pour créer la liste suivante :"
   ]
  },
  {
   "cell_type": "code",
   "execution_count": 11,
   "metadata": {},
   "outputs": [
    {
     "data": {
      "text/html": [
       "<dl>\n",
       "\t<dt>$ssd</dt>\n",
       "\t\t<dd><ol class=list-inline>\n",
       "\t<li>256</li>\n",
       "\t<li>128</li>\n",
       "\t<li>512</li>\n",
       "</ol>\n",
       "</dd>\n",
       "\t<dt>$machine</dt>\n",
       "\t\t<dd>'Macbook Pro'</dd>\n",
       "\t<dt>$best</dt>\n",
       "\t\t<dd>TRUE</dd>\n",
       "</dl>\n"
      ],
      "text/latex": [
       "\\begin{description}\n",
       "\\item[\\$ssd] \\begin{enumerate*}\n",
       "\\item 256\n",
       "\\item 128\n",
       "\\item 512\n",
       "\\end{enumerate*}\n",
       "\n",
       "\\item[\\$machine] 'Macbook Pro'\n",
       "\\item[\\$best] TRUE\n",
       "\\end{description}\n"
      ],
      "text/markdown": [
       "$ssd\n",
       ":   1. 256\n",
       "2. 128\n",
       "3. 512\n",
       "\n",
       "\n",
       "\n",
       "$machine\n",
       ":   'Macbook Pro'\n",
       "$best\n",
       ":   TRUE\n",
       "\n",
       "\n"
      ],
      "text/plain": [
       "$ssd\n",
       "[1] 256 128 512\n",
       "\n",
       "$machine\n",
       "[1] \"Macbook Pro\"\n",
       "\n",
       "$best\n",
       "[1] TRUE\n"
      ]
     },
     "metadata": {},
     "output_type": "display_data"
    }
   ],
   "source": [
    "MaListe <- ...\n",
    "MaListe"
   ]
  },
  {
   "cell_type": "markdown",
   "metadata": {},
   "source": [
    "Ecrivez un code qui extrait les différente tailles du ssd **seulement**"
   ]
  },
  {
   "cell_type": "markdown",
   "metadata": {},
   "source": [
    "Extraire les étiquettes de la liste;"
   ]
  },
  {
   "cell_type": "markdown",
   "metadata": {},
   "source": [
    "Extraire le 3e élément du premier élément de liste:"
   ]
  },
  {
   "cell_type": "markdown",
   "metadata": {},
   "source": [
    "Remplacer le dernier élément par le vecteur `T,F,T`"
   ]
  },
  {
   "cell_type": "markdown",
   "metadata": {},
   "source": [
    "# Question"
   ]
  },
  {
   "cell_type": "markdown",
   "metadata": {},
   "source": [
    "Soit le vecteur suivant:"
   ]
  },
  {
   "cell_type": "code",
   "execution_count": 3,
   "metadata": {},
   "outputs": [
    {
     "data": {
      "text/html": [
       "<ol class=list-inline>\n",
       "\t<li>71</li>\n",
       "\t<li>18</li>\n",
       "\t<li>86</li>\n",
       "\t<li>5</li>\n",
       "\t<li>58</li>\n",
       "\t<li>19</li>\n",
       "\t<li>14</li>\n",
       "\t<li>9</li>\n",
       "\t<li>74</li>\n",
       "\t<li>75</li>\n",
       "\t<li>59</li>\n",
       "\t<li>24</li>\n",
       "\t<li>7</li>\n",
       "\t<li>51</li>\n",
       "\t<li>50</li>\n",
       "\t<li>63</li>\n",
       "\t<li>35</li>\n",
       "\t<li>53</li>\n",
       "\t<li>72</li>\n",
       "\t<li>61</li>\n",
       "</ol>\n"
      ],
      "text/latex": [
       "\\begin{enumerate*}\n",
       "\\item 71\n",
       "\\item 18\n",
       "\\item 86\n",
       "\\item 5\n",
       "\\item 58\n",
       "\\item 19\n",
       "\\item 14\n",
       "\\item 9\n",
       "\\item 74\n",
       "\\item 75\n",
       "\\item 59\n",
       "\\item 24\n",
       "\\item 7\n",
       "\\item 51\n",
       "\\item 50\n",
       "\\item 63\n",
       "\\item 35\n",
       "\\item 53\n",
       "\\item 72\n",
       "\\item 61\n",
       "\\end{enumerate*}\n"
      ],
      "text/markdown": [
       "1. 71\n",
       "2. 18\n",
       "3. 86\n",
       "4. 5\n",
       "5. 58\n",
       "6. 19\n",
       "7. 14\n",
       "8. 9\n",
       "9. 74\n",
       "10. 75\n",
       "11. 59\n",
       "12. 24\n",
       "13. 7\n",
       "14. 51\n",
       "15. 50\n",
       "16. 63\n",
       "17. 35\n",
       "18. 53\n",
       "19. 72\n",
       "20. 61\n",
       "\n",
       "\n"
      ],
      "text/plain": [
       " [1] 71 18 86  5 58 19 14  9 74 75 59 24  7 51 50 63 35 53 72 61"
      ]
     },
     "metadata": {},
     "output_type": "display_data"
    }
   ],
   "source": [
    "x"
   ]
  },
  {
   "cell_type": "markdown",
   "metadata": {},
   "source": [
    "Extraire le 10e élément du vecteur"
   ]
  },
  {
   "cell_type": "markdown",
   "metadata": {},
   "source": [
    "Extraire une partie du vecteur allant composé du 1er, 3e, ...., 19e élément"
   ]
  },
  {
   "cell_type": "markdown",
   "metadata": {},
   "source": [
    "Extraire les éléments divisibles par deux (_even numbers_)"
   ]
  },
  {
   "cell_type": "markdown",
   "metadata": {},
   "source": [
    "Extraire les éléments non divisibles par deux (_odd numbers_)"
   ]
  },
  {
   "cell_type": "markdown",
   "metadata": {},
   "source": [
    "Tous les éléments sauf 3e, 5e et 17e éléments"
   ]
  },
  {
   "cell_type": "markdown",
   "metadata": {},
   "source": [
    "Dans le vecteur `x`, combien d'éléments sont pairs et combien sont impairs"
   ]
  },
  {
   "cell_type": "markdown",
   "metadata": {},
   "source": [
    "# Question"
   ]
  },
  {
   "cell_type": "markdown",
   "metadata": {},
   "source": [
    "Soit une matrice 12X7, "
   ]
  },
  {
   "cell_type": "code",
   "execution_count": 6,
   "metadata": {},
   "outputs": [
    {
     "data": {
      "text/html": [
       "<table>\n",
       "<tbody>\n",
       "\t<tr><td>28 </td><td> 3 </td><td>27 </td><td> 48</td><td>43 </td><td>33 </td><td> 5 </td></tr>\n",
       "\t<tr><td>89 </td><td>32 </td><td>14 </td><td>100</td><td>25 </td><td>45 </td><td>64 </td></tr>\n",
       "\t<tr><td> 8 </td><td>49 </td><td>20 </td><td> 51</td><td>69 </td><td>16 </td><td>67 </td></tr>\n",
       "\t<tr><td>98 </td><td>54 </td><td>61 </td><td> 53</td><td>86 </td><td>29 </td><td>97 </td></tr>\n",
       "\t<tr><td>96 </td><td> 1 </td><td> 9 </td><td> 90</td><td>42 </td><td>91 </td><td>38 </td></tr>\n",
       "\t<tr><td>66 </td><td> 2 </td><td>78 </td><td> 22</td><td>65 </td><td>36 </td><td>34 </td></tr>\n",
       "\t<tr><td>35 </td><td> 7 </td><td>19 </td><td> 26</td><td>41 </td><td>94 </td><td>55 </td></tr>\n",
       "\t<tr><td>56 </td><td>60 </td><td>18 </td><td> 57</td><td> 6 </td><td>75 </td><td>10 </td></tr>\n",
       "\t<tr><td>73 </td><td>80 </td><td>72 </td><td> 74</td><td>11 </td><td> 4 </td><td>46 </td></tr>\n",
       "\t<tr><td>76 </td><td>71 </td><td>40 </td><td> 31</td><td>99 </td><td>23 </td><td>85 </td></tr>\n",
       "\t<tr><td>83 </td><td>70 </td><td>52 </td><td> 24</td><td>81 </td><td>39 </td><td>30 </td></tr>\n",
       "\t<tr><td>62 </td><td>82 </td><td>58 </td><td> 92</td><td>93 </td><td>59 </td><td>15 </td></tr>\n",
       "</tbody>\n",
       "</table>\n"
      ],
      "text/latex": [
       "\\begin{tabular}{lllllll}\n",
       "\t 28  &  3  & 27  &  48 & 43  & 33  &  5 \\\\\n",
       "\t 89  & 32  & 14  & 100 & 25  & 45  & 64 \\\\\n",
       "\t  8  & 49  & 20  &  51 & 69  & 16  & 67 \\\\\n",
       "\t 98  & 54  & 61  &  53 & 86  & 29  & 97 \\\\\n",
       "\t 96  &  1  &  9  &  90 & 42  & 91  & 38 \\\\\n",
       "\t 66  &  2  & 78  &  22 & 65  & 36  & 34 \\\\\n",
       "\t 35  &  7  & 19  &  26 & 41  & 94  & 55 \\\\\n",
       "\t 56  & 60  & 18  &  57 &  6  & 75  & 10 \\\\\n",
       "\t 73  & 80  & 72  &  74 & 11  &  4  & 46 \\\\\n",
       "\t 76  & 71  & 40  &  31 & 99  & 23  & 85 \\\\\n",
       "\t 83  & 70  & 52  &  24 & 81  & 39  & 30 \\\\\n",
       "\t 62  & 82  & 58  &  92 & 93  & 59  & 15 \\\\\n",
       "\\end{tabular}\n"
      ],
      "text/markdown": [
       "\n",
       "| 28  |  3  | 27  |  48 | 43  | 33  |  5  | \n",
       "| 89  | 32  | 14  | 100 | 25  | 45  | 64  | \n",
       "|  8  | 49  | 20  |  51 | 69  | 16  | 67  | \n",
       "| 98  | 54  | 61  |  53 | 86  | 29  | 97  | \n",
       "| 96  |  1  |  9  |  90 | 42  | 91  | 38  | \n",
       "| 66  |  2  | 78  |  22 | 65  | 36  | 34  | \n",
       "| 35  |  7  | 19  |  26 | 41  | 94  | 55  | \n",
       "| 56  | 60  | 18  |  57 |  6  | 75  | 10  | \n",
       "| 73  | 80  | 72  |  74 | 11  |  4  | 46  | \n",
       "| 76  | 71  | 40  |  31 | 99  | 23  | 85  | \n",
       "| 83  | 70  | 52  |  24 | 81  | 39  | 30  | \n",
       "| 62  | 82  | 58  |  92 | 93  | 59  | 15  | \n",
       "\n",
       "\n"
      ],
      "text/plain": [
       "      [,1] [,2] [,3] [,4] [,5] [,6] [,7]\n",
       " [1,] 28    3   27    48  43   33    5  \n",
       " [2,] 89   32   14   100  25   45   64  \n",
       " [3,]  8   49   20    51  69   16   67  \n",
       " [4,] 98   54   61    53  86   29   97  \n",
       " [5,] 96    1    9    90  42   91   38  \n",
       " [6,] 66    2   78    22  65   36   34  \n",
       " [7,] 35    7   19    26  41   94   55  \n",
       " [8,] 56   60   18    57   6   75   10  \n",
       " [9,] 73   80   72    74  11    4   46  \n",
       "[10,] 76   71   40    31  99   23   85  \n",
       "[11,] 83   70   52    24  81   39   30  \n",
       "[12,] 62   82   58    92  93   59   15  "
      ]
     },
     "metadata": {},
     "output_type": "display_data"
    }
   ],
   "source": [
    "x <- matrix(sample(1:100, 12*7), 12, 7)"
   ]
  },
  {
   "cell_type": "markdown",
   "metadata": {},
   "source": [
    "extraire l'élément de la 5e ligne et 6e colonne"
   ]
  },
  {
   "cell_type": "markdown",
   "metadata": {},
   "source": [
    "Extraire tout le contenu de la 3e ligne et la 9 ligne"
   ]
  },
  {
   "cell_type": "markdown",
   "metadata": {},
   "source": [
    "Extraire **tout** le contenu des colonnes impaires"
   ]
  },
  {
   "cell_type": "markdown",
   "metadata": {},
   "source": [
    "# Questions mathématiques financière"
   ]
  },
  {
   "cell_type": "markdown",
   "metadata": {},
   "source": [
    "\\begin{equation}\\label{eq:relationship}\n",
    "1+i =\\Bigg(1+ \\frac{i^{(m)}}{m} \\Bigg)^m =(1-d)^{-1}=\\Bigg(1- \\frac{d^{(m)}}{m} \\Bigg)^{-m} = e^{\\delta}\n",
    "\\end{equation}"
   ]
  },
  {
   "cell_type": "markdown",
   "metadata": {},
   "source": [
    "## Q1\n",
    "En tenant compte de l'équation (\\ref{eq:relationship}) Quelle est la valeur présente (arrondi à deux décimales) de 1000$ que vous aller recevoir dans 6 et 1/4 avec un taux _effective rate of discount_ de 9.27% par année"
   ]
  },
  {
   "cell_type": "markdown",
   "metadata": {},
   "source": [
    "## Q2\n",
    "En tenant compte de l'équation (\\ref{eq:relationship}) Quelle est la valeur accumulée (arrondi à deux décimales) de 1300$ que vous aller recevoir dans 10 et 1/2 avec un taux _effective rate of discount_ de 5.3286% par année"
   ]
  },
  {
   "cell_type": "markdown",
   "metadata": {},
   "source": [
    "## Q3\n",
    "En tenant compte de l'équation (\\ref{eq:relationship}) Quelle est la valeur accumulée (arrondi à deux décimales) de 50232$ que vous aller recevoir dans 17 ans avec un taux _nominal rate of interest_ de 13% par année convertible trimestriellement"
   ]
  },
  {
   "cell_type": "markdown",
   "metadata": {},
   "source": [
    "## Q4\n",
    "En tenant compte de l'équation (\\ref{eq:relationship}) Calculer la valeur présente de 82309$ à payer dans 8 ans avec un taux _nominal rate of discount_ de 6% par année composée mensuellement"
   ]
  },
  {
   "cell_type": "markdown",
   "metadata": {},
   "source": [
    "## Q5"
   ]
  },
  {
   "cell_type": "markdown",
   "metadata": {},
   "source": [
    "Calculer la valeur présente d'une _annuity-immediate_ avec des paiements de 50$ chaque 6 mois pour 10 ans au taux d'intérêt nominal de 4% composé semi-annuellement:"
   ]
  },
  {
   "cell_type": "markdown",
   "metadata": {},
   "source": [
    "# Question probabilité"
   ]
  },
  {
   "cell_type": "markdown",
   "metadata": {
    "collapsed": true
   },
   "source": [
    "## Q1"
   ]
  },
  {
   "cell_type": "markdown",
   "metadata": {},
   "source": [
    "Simuler une des valeurs tirées d'une distribution normale. Imaginez une population dont la taille moyenne est de 1.70m et un écart-type de 0.1m. En utilisant `rnorm` simulez 100 valeurs et sauvegardez cer dernières dans un objet de type vecteur appelé `taille`. \n",
    "\n",
    "**Note** Fixez votre seed à une valeur **123**"
   ]
  },
  {
   "cell_type": "markdown",
   "metadata": {},
   "source": [
    "Donnez un sommaire des statistiques descriptives du vecteur `taille`"
   ]
  },
  {
   "cell_type": "markdown",
   "metadata": {},
   "source": [
    "## Q2\n",
    "Quelle est la probabilité qu'une personne soir plus petit que 1.90m ? Votre réponse arrondie à deux décimales"
   ]
  },
  {
   "cell_type": "markdown",
   "metadata": {},
   "source": [
    "**Note**"
   ]
  },
  {
   "cell_type": "markdown",
   "metadata": {},
   "source": [
    "Si on veut les formats en pourcentage, on peut utiliser la fonction `percent` du package `formattable`"
   ]
  },
  {
   "cell_type": "code",
   "execution_count": null,
   "metadata": {},
   "outputs": [],
   "source": [
    "install.packages(\"formattable\")"
   ]
  },
  {
   "cell_type": "code",
   "execution_count": null,
   "metadata": {},
   "outputs": [],
   "source": [
    "library(formattable)"
   ]
  },
  {
   "cell_type": "markdown",
   "metadata": {},
   "source": [
    "Quelle est la probabilité que la taille d'une personne soit plus grande que 1.60 m"
   ]
  },
  {
   "cell_type": "markdown",
   "metadata": {},
   "source": [
    "## Q3"
   ]
  },
  {
   "cell_type": "markdown",
   "metadata": {},
   "source": [
    "Le temps d'attente (en minute) dans une clinique suit une loi exponentielle avec un taux de 1/50. Utiliser la fonction `rexp` afin de simuler les tempes d'attente pour 30 personnes dans cette clinique."
   ]
  },
  {
   "cell_type": "markdown",
   "metadata": {},
   "source": [
    "Quelle est la probabilité qu'une personne attende moins que 10 minutes?"
   ]
  },
  {
   "cell_type": "markdown",
   "metadata": {},
   "source": [
    "Supposons que la patience des gens atteint sa limite au bout de 60 minutes. Ça veut dire que s'ils attendent plus que 60 minutes, ils quittent la salle.\n",
    "\n",
    "S'il y'a 100 personnes dans la salle, combien vont-ils quitter la salle?"
   ]
  },
  {
   "cell_type": "code",
   "execution_count": null,
   "metadata": {},
   "outputs": [],
   "source": [
    "percent(1 - pexp(q=60, rate =1/50))"
   ]
  }
 ],
 "metadata": {
  "anaconda-cloud": {},
  "kernelspec": {
   "display_name": "R",
   "language": "R",
   "name": "ir"
  },
  "language_info": {
   "codemirror_mode": "r",
   "file_extension": ".r",
   "mimetype": "text/x-r-source",
   "name": "R",
   "pygments_lexer": "r",
   "version": "3.4.1"
  },
  "latex_envs": {
   "LaTeX_envs_menu_present": true,
   "bibliofile": "biblio.bib",
   "cite_by": "apalike",
   "current_citInitial": 1,
   "eqLabelWithNumbers": true,
   "eqNumInitial": 1,
   "labels_anchors": false,
   "latex_user_defs": false,
   "report_style_numbering": false,
   "user_envs_cfg": false
  },
  "toc": {
   "base_numbering": 1,
   "nav_menu": {
    "height": "512px",
    "width": "252px"
   },
   "number_sections": true,
   "sideBar": true,
   "skip_h1_title": false,
   "title_cell": "Liste des numéros",
   "title_sidebar": "Contents",
   "toc_cell": true,
   "toc_position": {},
   "toc_section_display": "block",
   "toc_window_display": true
  }
 },
 "nbformat": 4,
 "nbformat_minor": 1
}
