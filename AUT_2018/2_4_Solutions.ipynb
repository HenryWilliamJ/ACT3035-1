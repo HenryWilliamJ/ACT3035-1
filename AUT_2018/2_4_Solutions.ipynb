{
 "cells": [
  {
   "cell_type": "markdown",
   "metadata": {
    "toc": true
   },
   "source": [
    "<h1>Liste des numéros<span class=\"tocSkip\"></span></h1>\n",
    "<div class=\"toc\"><ul class=\"toc-item\"><li><span><a href=\"#Question\" data-toc-modified-id=\"Question-1\"><span class=\"toc-item-num\">1&nbsp;&nbsp;</span>Question</a></span></li><li><span><a href=\"#Question\" data-toc-modified-id=\"Question-2\"><span class=\"toc-item-num\">2&nbsp;&nbsp;</span>Question</a></span></li><li><span><a href=\"#Question\" data-toc-modified-id=\"Question-3\"><span class=\"toc-item-num\">3&nbsp;&nbsp;</span>Question</a></span><ul class=\"toc-item\"><li><span><a href=\"#autre-façon-de-faire\" data-toc-modified-id=\"autre-façon-de-faire-3.1\"><span class=\"toc-item-num\">3.1&nbsp;&nbsp;</span>autre façon de faire</a></span></li></ul></li><li><span><a href=\"#Question\" data-toc-modified-id=\"Question-4\"><span class=\"toc-item-num\">4&nbsp;&nbsp;</span>Question</a></span></li><li><span><a href=\"#Question\" data-toc-modified-id=\"Question-5\"><span class=\"toc-item-num\">5&nbsp;&nbsp;</span>Question</a></span></li><li><span><a href=\"#Question\" data-toc-modified-id=\"Question-6\"><span class=\"toc-item-num\">6&nbsp;&nbsp;</span>Question</a></span></li><li><span><a href=\"#Question\" data-toc-modified-id=\"Question-7\"><span class=\"toc-item-num\">7&nbsp;&nbsp;</span>Question</a></span></li><li><span><a href=\"#Question\" data-toc-modified-id=\"Question-8\"><span class=\"toc-item-num\">8&nbsp;&nbsp;</span>Question</a></span></li><li><span><a href=\"#Question\" data-toc-modified-id=\"Question-9\"><span class=\"toc-item-num\">9&nbsp;&nbsp;</span>Question</a></span></li><li><span><a href=\"#Question\" data-toc-modified-id=\"Question-10\"><span class=\"toc-item-num\">10&nbsp;&nbsp;</span>Question</a></span></li><li><span><a href=\"#Question\" data-toc-modified-id=\"Question-11\"><span class=\"toc-item-num\">11&nbsp;&nbsp;</span>Question</a></span></li><li><span><a href=\"#Question\" data-toc-modified-id=\"Question-12\"><span class=\"toc-item-num\">12&nbsp;&nbsp;</span>Question</a></span></li><li><span><a href=\"#Questions--mathématiques-financière\" data-toc-modified-id=\"Questions--mathématiques-financière-13\"><span class=\"toc-item-num\">13&nbsp;&nbsp;</span>Questions  mathématiques financière</a></span><ul class=\"toc-item\"><li><span><a href=\"#Q1\" data-toc-modified-id=\"Q1-13.1\"><span class=\"toc-item-num\">13.1&nbsp;&nbsp;</span>Q1</a></span></li><li><span><a href=\"#Q2\" data-toc-modified-id=\"Q2-13.2\"><span class=\"toc-item-num\">13.2&nbsp;&nbsp;</span>Q2</a></span></li><li><span><a href=\"#Q3\" data-toc-modified-id=\"Q3-13.3\"><span class=\"toc-item-num\">13.3&nbsp;&nbsp;</span>Q3</a></span></li><li><span><a href=\"#Q4\" data-toc-modified-id=\"Q4-13.4\"><span class=\"toc-item-num\">13.4&nbsp;&nbsp;</span>Q4</a></span></li><li><span><a href=\"#Q4\" data-toc-modified-id=\"Q4-13.5\"><span class=\"toc-item-num\">13.5&nbsp;&nbsp;</span>Q4</a></span></li></ul></li><li><span><a href=\"#Question-probabilité\" data-toc-modified-id=\"Question-probabilité-14\"><span class=\"toc-item-num\">14&nbsp;&nbsp;</span>Question probabilité</a></span><ul class=\"toc-item\"><li><span><a href=\"#Q1\" data-toc-modified-id=\"Q1-14.1\"><span class=\"toc-item-num\">14.1&nbsp;&nbsp;</span>Q1</a></span></li><li><span><a href=\"#Q2\" data-toc-modified-id=\"Q2-14.2\"><span class=\"toc-item-num\">14.2&nbsp;&nbsp;</span>Q2</a></span></li><li><span><a href=\"#Q3\" data-toc-modified-id=\"Q3-14.3\"><span class=\"toc-item-num\">14.3&nbsp;&nbsp;</span>Q3</a></span></li></ul></li></ul></div>"
   ]
  },
  {
   "cell_type": "markdown",
   "metadata": {},
   "source": [
    "# Question"
   ]
  },
  {
   "cell_type": "markdown",
   "metadata": {},
   "source": [
    "Créer une matrice A au format 2X4 avec les valeurs suivantes: 1 2 3 4 5 6 7 8\n"
   ]
  },
  {
   "cell_type": "code",
   "execution_count": 93,
   "metadata": {},
   "outputs": [
    {
     "data": {
      "text/html": [
       "<ol class=list-inline>\n",
       "\t<li>1</li>\n",
       "\t<li>2</li>\n",
       "\t<li>3</li>\n",
       "\t<li>4</li>\n",
       "\t<li>5</li>\n",
       "\t<li>6</li>\n",
       "\t<li>7</li>\n",
       "\t<li>8</li>\n",
       "</ol>\n"
      ],
      "text/latex": [
       "\\begin{enumerate*}\n",
       "\\item 1\n",
       "\\item 2\n",
       "\\item 3\n",
       "\\item 4\n",
       "\\item 5\n",
       "\\item 6\n",
       "\\item 7\n",
       "\\item 8\n",
       "\\end{enumerate*}\n"
      ],
      "text/markdown": [
       "1. 1\n",
       "2. 2\n",
       "3. 3\n",
       "4. 4\n",
       "5. 5\n",
       "6. 6\n",
       "7. 7\n",
       "8. 8\n",
       "\n",
       "\n"
      ],
      "text/plain": [
       "[1] 1 2 3 4 5 6 7 8"
      ]
     },
     "metadata": {},
     "output_type": "display_data"
    }
   ],
   "source": [
    "1:8"
   ]
  },
  {
   "cell_type": "code",
   "execution_count": 101,
   "metadata": {},
   "outputs": [
    {
     "data": {
      "text/html": [
       "<table>\n",
       "<tbody>\n",
       "\t<tr><td>1</td><td>3</td><td>5</td><td>7</td></tr>\n",
       "\t<tr><td>2</td><td>4</td><td>6</td><td>8</td></tr>\n",
       "</tbody>\n",
       "</table>\n"
      ],
      "text/latex": [
       "\\begin{tabular}{llll}\n",
       "\t 1 & 3 & 5 & 7\\\\\n",
       "\t 2 & 4 & 6 & 8\\\\\n",
       "\\end{tabular}\n"
      ],
      "text/markdown": [
       "\n",
       "| 1 | 3 | 5 | 7 | \n",
       "| 2 | 4 | 6 | 8 | \n",
       "\n",
       "\n"
      ],
      "text/plain": [
       "     [,1] [,2] [,3] [,4]\n",
       "[1,] 1    3    5    7   \n",
       "[2,] 2    4    6    8   "
      ]
     },
     "metadata": {},
     "output_type": "display_data"
    }
   ],
   "source": [
    "A<- matrix(c(1:8), nrow = 2, ncol = 4)\n",
    "A"
   ]
  },
  {
   "cell_type": "markdown",
   "metadata": {},
   "source": [
    "Recréez cette matrice, mais cette fois les valeurs sont incrémentées par lignes"
   ]
  },
  {
   "cell_type": "code",
   "execution_count": 103,
   "metadata": {},
   "outputs": [
    {
     "data": {
      "text/html": [
       "<table>\n",
       "<tbody>\n",
       "\t<tr><td>1</td><td>2</td><td>3</td><td>4</td></tr>\n",
       "\t<tr><td>5</td><td>6</td><td>7</td><td>8</td></tr>\n",
       "</tbody>\n",
       "</table>\n"
      ],
      "text/latex": [
       "\\begin{tabular}{llll}\n",
       "\t 1 & 2 & 3 & 4\\\\\n",
       "\t 5 & 6 & 7 & 8\\\\\n",
       "\\end{tabular}\n"
      ],
      "text/markdown": [
       "\n",
       "| 1 | 2 | 3 | 4 | \n",
       "| 5 | 6 | 7 | 8 | \n",
       "\n",
       "\n"
      ],
      "text/plain": [
       "     [,1] [,2] [,3] [,4]\n",
       "[1,] 1    2    3    4   \n",
       "[2,] 5    6    7    8   "
      ]
     },
     "metadata": {},
     "output_type": "display_data"
    }
   ],
   "source": [
    "B<- matrix(c(1:8), nrow = 2, ncol = 4, byrow = T)\n",
    "B"
   ]
  },
  {
   "cell_type": "markdown",
   "metadata": {},
   "source": [
    "# Question"
   ]
  },
  {
   "cell_type": "markdown",
   "metadata": {},
   "source": [
    "Créez une matrice carrée avec les valeurs du vecteur vec3 créée auparavant:\n"
   ]
  },
  {
   "cell_type": "code",
   "execution_count": 108,
   "metadata": {},
   "outputs": [
    {
     "data": {
      "text/html": [
       "<table>\n",
       "<tbody>\n",
       "\t<tr><td> 2</td><td>12</td><td>22</td><td>32</td><td>42</td></tr>\n",
       "\t<tr><td> 4</td><td>14</td><td>24</td><td>34</td><td>44</td></tr>\n",
       "\t<tr><td> 6</td><td>16</td><td>26</td><td>36</td><td>46</td></tr>\n",
       "\t<tr><td> 8</td><td>18</td><td>28</td><td>38</td><td>48</td></tr>\n",
       "\t<tr><td>10</td><td>20</td><td>30</td><td>40</td><td>50</td></tr>\n",
       "</tbody>\n",
       "</table>\n"
      ],
      "text/latex": [
       "\\begin{tabular}{lllll}\n",
       "\t  2 & 12 & 22 & 32 & 42\\\\\n",
       "\t  4 & 14 & 24 & 34 & 44\\\\\n",
       "\t  6 & 16 & 26 & 36 & 46\\\\\n",
       "\t  8 & 18 & 28 & 38 & 48\\\\\n",
       "\t 10 & 20 & 30 & 40 & 50\\\\\n",
       "\\end{tabular}\n"
      ],
      "text/markdown": [
       "\n",
       "|  2 | 12 | 22 | 32 | 42 | \n",
       "|  4 | 14 | 24 | 34 | 44 | \n",
       "|  6 | 16 | 26 | 36 | 46 | \n",
       "|  8 | 18 | 28 | 38 | 48 | \n",
       "| 10 | 20 | 30 | 40 | 50 | \n",
       "\n",
       "\n"
      ],
      "text/plain": [
       "     [,1] [,2] [,3] [,4] [,5]\n",
       "[1,]  2   12   22   32   42  \n",
       "[2,]  4   14   24   34   44  \n",
       "[3,]  6   16   26   36   46  \n",
       "[4,]  8   18   28   38   48  \n",
       "[5,] 10   20   30   40   50  "
      ]
     },
     "metadata": {},
     "output_type": "display_data"
    }
   ],
   "source": [
    "matrix(vec3, nrow = 5)"
   ]
  },
  {
   "cell_type": "markdown",
   "metadata": {},
   "source": [
    "# Question"
   ]
  },
  {
   "cell_type": "markdown",
   "metadata": {},
   "source": [
    "Créer une matrice identité 7X7"
   ]
  },
  {
   "cell_type": "code",
   "execution_count": 30,
   "metadata": {},
   "outputs": [
    {
     "data": {
      "text/html": [
       "<table>\n",
       "<tbody>\n",
       "\t<tr><td>1</td><td>0</td><td>0</td><td>0</td><td>0</td><td>0</td><td>0</td></tr>\n",
       "\t<tr><td>0</td><td>1</td><td>0</td><td>0</td><td>0</td><td>0</td><td>0</td></tr>\n",
       "\t<tr><td>0</td><td>0</td><td>1</td><td>0</td><td>0</td><td>0</td><td>0</td></tr>\n",
       "\t<tr><td>0</td><td>0</td><td>0</td><td>1</td><td>0</td><td>0</td><td>0</td></tr>\n",
       "\t<tr><td>0</td><td>0</td><td>0</td><td>0</td><td>1</td><td>0</td><td>0</td></tr>\n",
       "\t<tr><td>0</td><td>0</td><td>0</td><td>0</td><td>0</td><td>1</td><td>0</td></tr>\n",
       "\t<tr><td>0</td><td>0</td><td>0</td><td>0</td><td>0</td><td>0</td><td>1</td></tr>\n",
       "</tbody>\n",
       "</table>\n"
      ],
      "text/latex": [
       "\\begin{tabular}{lllllll}\n",
       "\t 1 & 0 & 0 & 0 & 0 & 0 & 0\\\\\n",
       "\t 0 & 1 & 0 & 0 & 0 & 0 & 0\\\\\n",
       "\t 0 & 0 & 1 & 0 & 0 & 0 & 0\\\\\n",
       "\t 0 & 0 & 0 & 1 & 0 & 0 & 0\\\\\n",
       "\t 0 & 0 & 0 & 0 & 1 & 0 & 0\\\\\n",
       "\t 0 & 0 & 0 & 0 & 0 & 1 & 0\\\\\n",
       "\t 0 & 0 & 0 & 0 & 0 & 0 & 1\\\\\n",
       "\\end{tabular}\n"
      ],
      "text/markdown": [
       "\n",
       "| 1 | 0 | 0 | 0 | 0 | 0 | 0 | \n",
       "| 0 | 1 | 0 | 0 | 0 | 0 | 0 | \n",
       "| 0 | 0 | 1 | 0 | 0 | 0 | 0 | \n",
       "| 0 | 0 | 0 | 1 | 0 | 0 | 0 | \n",
       "| 0 | 0 | 0 | 0 | 1 | 0 | 0 | \n",
       "| 0 | 0 | 0 | 0 | 0 | 1 | 0 | \n",
       "| 0 | 0 | 0 | 0 | 0 | 0 | 1 | \n",
       "\n",
       "\n"
      ],
      "text/plain": [
       "     [,1] [,2] [,3] [,4] [,5] [,6] [,7]\n",
       "[1,] 1    0    0    0    0    0    0   \n",
       "[2,] 0    1    0    0    0    0    0   \n",
       "[3,] 0    0    1    0    0    0    0   \n",
       "[4,] 0    0    0    1    0    0    0   \n",
       "[5,] 0    0    0    0    1    0    0   \n",
       "[6,] 0    0    0    0    0    1    0   \n",
       "[7,] 0    0    0    0    0    0    1   "
      ]
     },
     "metadata": {},
     "output_type": "display_data"
    }
   ],
   "source": [
    "mat<-diag(7)\n",
    "mat"
   ]
  },
  {
   "cell_type": "markdown",
   "metadata": {},
   "source": [
    "Afin des fins de calcul de réserves actuarielles, vous devez renverser (_reverse_) la diagonale de sorte où les 1 sont dans les cases (7,1), (6,2),...,(1,7)"
   ]
  },
  {
   "cell_type": "code",
   "execution_count": 31,
   "metadata": {},
   "outputs": [
    {
     "data": {
      "text/html": [
       "<table>\n",
       "<tbody>\n",
       "\t<tr><td>0</td><td>0</td><td>0</td><td>0</td><td>0</td><td>0</td><td>1</td></tr>\n",
       "\t<tr><td>0</td><td>0</td><td>0</td><td>0</td><td>0</td><td>1</td><td>0</td></tr>\n",
       "\t<tr><td>0</td><td>0</td><td>0</td><td>0</td><td>1</td><td>0</td><td>0</td></tr>\n",
       "\t<tr><td>0</td><td>0</td><td>0</td><td>1</td><td>0</td><td>0</td><td>0</td></tr>\n",
       "\t<tr><td>0</td><td>0</td><td>1</td><td>0</td><td>0</td><td>0</td><td>0</td></tr>\n",
       "\t<tr><td>0</td><td>1</td><td>0</td><td>0</td><td>0</td><td>0</td><td>0</td></tr>\n",
       "\t<tr><td>1</td><td>0</td><td>0</td><td>0</td><td>0</td><td>0</td><td>0</td></tr>\n",
       "</tbody>\n",
       "</table>\n"
      ],
      "text/latex": [
       "\\begin{tabular}{lllllll}\n",
       "\t 0 & 0 & 0 & 0 & 0 & 0 & 1\\\\\n",
       "\t 0 & 0 & 0 & 0 & 0 & 1 & 0\\\\\n",
       "\t 0 & 0 & 0 & 0 & 1 & 0 & 0\\\\\n",
       "\t 0 & 0 & 0 & 1 & 0 & 0 & 0\\\\\n",
       "\t 0 & 0 & 1 & 0 & 0 & 0 & 0\\\\\n",
       "\t 0 & 1 & 0 & 0 & 0 & 0 & 0\\\\\n",
       "\t 1 & 0 & 0 & 0 & 0 & 0 & 0\\\\\n",
       "\\end{tabular}\n"
      ],
      "text/markdown": [
       "\n",
       "| 0 | 0 | 0 | 0 | 0 | 0 | 1 | \n",
       "| 0 | 0 | 0 | 0 | 0 | 1 | 0 | \n",
       "| 0 | 0 | 0 | 0 | 1 | 0 | 0 | \n",
       "| 0 | 0 | 0 | 1 | 0 | 0 | 0 | \n",
       "| 0 | 0 | 1 | 0 | 0 | 0 | 0 | \n",
       "| 0 | 1 | 0 | 0 | 0 | 0 | 0 | \n",
       "| 1 | 0 | 0 | 0 | 0 | 0 | 0 | \n",
       "\n",
       "\n"
      ],
      "text/plain": [
       "     [,1] [,2] [,3] [,4] [,5] [,6] [,7]\n",
       "[1,] 0    0    0    0    0    0    1   \n",
       "[2,] 0    0    0    0    0    1    0   \n",
       "[3,] 0    0    0    0    1    0    0   \n",
       "[4,] 0    0    0    1    0    0    0   \n",
       "[5,] 0    0    1    0    0    0    0   \n",
       "[6,] 0    1    0    0    0    0    0   \n",
       "[7,] 1    0    0    0    0    0    0   "
      ]
     },
     "metadata": {},
     "output_type": "display_data"
    }
   ],
   "source": [
    "apply(diag(7), 2, rev)"
   ]
  },
  {
   "cell_type": "markdown",
   "metadata": {},
   "source": [
    "## autre façon de faire"
   ]
  },
  {
   "cell_type": "code",
   "execution_count": 32,
   "metadata": {},
   "outputs": [
    {
     "data": {
      "text/html": [
       "<table>\n",
       "<tbody>\n",
       "\t<tr><td>0</td><td>0</td><td>0</td><td>0</td><td>0</td><td>0</td><td>1</td></tr>\n",
       "\t<tr><td>0</td><td>0</td><td>0</td><td>0</td><td>0</td><td>1</td><td>0</td></tr>\n",
       "\t<tr><td>0</td><td>0</td><td>0</td><td>0</td><td>1</td><td>0</td><td>0</td></tr>\n",
       "\t<tr><td>0</td><td>0</td><td>0</td><td>1</td><td>0</td><td>0</td><td>0</td></tr>\n",
       "\t<tr><td>0</td><td>0</td><td>1</td><td>0</td><td>0</td><td>0</td><td>0</td></tr>\n",
       "\t<tr><td>0</td><td>1</td><td>0</td><td>0</td><td>0</td><td>0</td><td>0</td></tr>\n",
       "\t<tr><td>1</td><td>0</td><td>0</td><td>0</td><td>0</td><td>0</td><td>0</td></tr>\n",
       "</tbody>\n",
       "</table>\n"
      ],
      "text/latex": [
       "\\begin{tabular}{lllllll}\n",
       "\t 0 & 0 & 0 & 0 & 0 & 0 & 1\\\\\n",
       "\t 0 & 0 & 0 & 0 & 0 & 1 & 0\\\\\n",
       "\t 0 & 0 & 0 & 0 & 1 & 0 & 0\\\\\n",
       "\t 0 & 0 & 0 & 1 & 0 & 0 & 0\\\\\n",
       "\t 0 & 0 & 1 & 0 & 0 & 0 & 0\\\\\n",
       "\t 0 & 1 & 0 & 0 & 0 & 0 & 0\\\\\n",
       "\t 1 & 0 & 0 & 0 & 0 & 0 & 0\\\\\n",
       "\\end{tabular}\n"
      ],
      "text/markdown": [
       "\n",
       "| 0 | 0 | 0 | 0 | 0 | 0 | 1 | \n",
       "| 0 | 0 | 0 | 0 | 0 | 1 | 0 | \n",
       "| 0 | 0 | 0 | 0 | 1 | 0 | 0 | \n",
       "| 0 | 0 | 0 | 1 | 0 | 0 | 0 | \n",
       "| 0 | 0 | 1 | 0 | 0 | 0 | 0 | \n",
       "| 0 | 1 | 0 | 0 | 0 | 0 | 0 | \n",
       "| 1 | 0 | 0 | 0 | 0 | 0 | 0 | \n",
       "\n",
       "\n"
      ],
      "text/plain": [
       "     [,1] [,2] [,3] [,4] [,5] [,6] [,7]\n",
       "[1,] 0    0    0    0    0    0    1   \n",
       "[2,] 0    0    0    0    0    1    0   \n",
       "[3,] 0    0    0    0    1    0    0   \n",
       "[4,] 0    0    0    1    0    0    0   \n",
       "[5,] 0    0    1    0    0    0    0   \n",
       "[6,] 0    1    0    0    0    0    0   \n",
       "[7,] 1    0    0    0    0    0    0   "
      ]
     },
     "metadata": {},
     "output_type": "display_data"
    }
   ],
   "source": [
    "mat <- mat[ nrow(mat):1, ]\n",
    "mat"
   ]
  },
  {
   "cell_type": "markdown",
   "metadata": {},
   "source": [
    "# Question"
   ]
  },
  {
   "cell_type": "markdown",
   "metadata": {},
   "source": [
    "À partir des données [suivantes](http://www.stat.gouv.qc.ca/statistiques/population-demographie/structure/mun_15000.htm), créez une matrice où vous avez la population des villes (Montréal, Québec, Laval, Gatineau) par ligne et les années 2013 à 2016 par colonnes"
   ]
  },
  {
   "cell_type": "code",
   "execution_count": 33,
   "metadata": {},
   "outputs": [],
   "source": [
    "pop<-matrix(c(1718241,1735096,1746940,1767753,\n",
    "              530474,533857,536013,538918,\n",
    "              417325,421959,425481,429413,\n",
    "              274180,276290,278050,281392), ncol=4, byrow = T)"
   ]
  },
  {
   "cell_type": "code",
   "execution_count": 34,
   "metadata": {},
   "outputs": [
    {
     "data": {
      "text/html": [
       "<table>\n",
       "<tbody>\n",
       "\t<tr><td>1718241</td><td>1735096</td><td>1746940</td><td>1767753</td></tr>\n",
       "\t<tr><td> 530474</td><td> 533857</td><td> 536013</td><td> 538918</td></tr>\n",
       "\t<tr><td> 417325</td><td> 421959</td><td> 425481</td><td> 429413</td></tr>\n",
       "\t<tr><td> 274180</td><td> 276290</td><td> 278050</td><td> 281392</td></tr>\n",
       "</tbody>\n",
       "</table>\n"
      ],
      "text/latex": [
       "\\begin{tabular}{llll}\n",
       "\t 1718241 & 1735096 & 1746940 & 1767753\\\\\n",
       "\t  530474 &  533857 &  536013 &  538918\\\\\n",
       "\t  417325 &  421959 &  425481 &  429413\\\\\n",
       "\t  274180 &  276290 &  278050 &  281392\\\\\n",
       "\\end{tabular}\n"
      ],
      "text/markdown": [
       "\n",
       "| 1718241 | 1735096 | 1746940 | 1767753 | \n",
       "|  530474 |  533857 |  536013 |  538918 | \n",
       "|  417325 |  421959 |  425481 |  429413 | \n",
       "|  274180 |  276290 |  278050 |  281392 | \n",
       "\n",
       "\n"
      ],
      "text/plain": [
       "     [,1]    [,2]    [,3]    [,4]   \n",
       "[1,] 1718241 1735096 1746940 1767753\n",
       "[2,]  530474  533857  536013  538918\n",
       "[3,]  417325  421959  425481  429413\n",
       "[4,]  274180  276290  278050  281392"
      ]
     },
     "metadata": {},
     "output_type": "display_data"
    }
   ],
   "source": [
    "pop"
   ]
  },
  {
   "cell_type": "code",
   "execution_count": 35,
   "metadata": {},
   "outputs": [],
   "source": [
    "rownames(pop)<-c(\"Montréal\", \"Québec\", \"Laval\", \"Gatineau\")\n",
    "colnames(pop)<-2013:2016"
   ]
  },
  {
   "cell_type": "code",
   "execution_count": 36,
   "metadata": {},
   "outputs": [
    {
     "data": {
      "text/html": [
       "<table>\n",
       "<thead><tr><th></th><th scope=col>2013</th><th scope=col>2014</th><th scope=col>2015</th><th scope=col>2016</th></tr></thead>\n",
       "<tbody>\n",
       "\t<tr><th scope=row>Montréal</th><td>1718241</td><td>1735096</td><td>1746940</td><td>1767753</td></tr>\n",
       "\t<tr><th scope=row>Québec</th><td> 530474</td><td> 533857</td><td> 536013</td><td> 538918</td></tr>\n",
       "\t<tr><th scope=row>Laval</th><td> 417325</td><td> 421959</td><td> 425481</td><td> 429413</td></tr>\n",
       "\t<tr><th scope=row>Gatineau</th><td> 274180</td><td> 276290</td><td> 278050</td><td> 281392</td></tr>\n",
       "</tbody>\n",
       "</table>\n"
      ],
      "text/latex": [
       "\\begin{tabular}{r|llll}\n",
       "  & 2013 & 2014 & 2015 & 2016\\\\\n",
       "\\hline\n",
       "\tMontréal & 1718241 & 1735096 & 1746940 & 1767753\\\\\n",
       "\tQuébec &  530474 &  533857 &  536013 &  538918\\\\\n",
       "\tLaval &  417325 &  421959 &  425481 &  429413\\\\\n",
       "\tGatineau &  274180 &  276290 &  278050 &  281392\\\\\n",
       "\\end{tabular}\n"
      ],
      "text/markdown": [
       "\n",
       "| <!--/--> | 2013 | 2014 | 2015 | 2016 | \n",
       "|---|---|---|---|\n",
       "| Montréal | 1718241 | 1735096 | 1746940 | 1767753 | \n",
       "| Québec |  530474 |  533857 |  536013 |  538918 | \n",
       "| Laval |  417325 |  421959 |  425481 |  429413 | \n",
       "| Gatineau |  274180 |  276290 |  278050 |  281392 | \n",
       "\n",
       "\n"
      ],
      "text/plain": [
       "         2013    2014    2015    2016   \n",
       "Montréal 1718241 1735096 1746940 1767753\n",
       "Québec    530474  533857  536013  538918\n",
       "Laval     417325  421959  425481  429413\n",
       "Gatineau  274180  276290  278050  281392"
      ]
     },
     "metadata": {},
     "output_type": "display_data"
    }
   ],
   "source": [
    "pop"
   ]
  },
  {
   "cell_type": "markdown",
   "metadata": {},
   "source": [
    "On vous dit que l’arrondissement Hochelaga-Maisonneuve (situé à  Montréal) est devenu un quartier très aisé et veut maintenant avoir son indépendance. Aujourd'hui ce prestigieux quartier appelé HOMA, l'évolution de la population de ce quartier de 2013 à 2016 a été la suivante: 20000, 20500, 23000, 23800"
   ]
  },
  {
   "cell_type": "markdown",
   "metadata": {},
   "source": [
    "Quelle aurait été la population de Montréal sans compter les habitants du pays très prospère pays HOMA"
   ]
  },
  {
   "cell_type": "code",
   "execution_count": 37,
   "metadata": {},
   "outputs": [
    {
     "data": {
      "text/html": [
       "<table>\n",
       "<thead><tr><th></th><th scope=col>2013</th><th scope=col>2014</th><th scope=col>2015</th><th scope=col>2016</th></tr></thead>\n",
       "<tbody>\n",
       "\t<tr><th scope=row>HOMA</th><td>20000</td><td>20500</td><td>23000</td><td>23800</td></tr>\n",
       "</tbody>\n",
       "</table>\n"
      ],
      "text/latex": [
       "\\begin{tabular}{r|llll}\n",
       "  & 2013 & 2014 & 2015 & 2016\\\\\n",
       "\\hline\n",
       "\tHOMA & 20000 & 20500 & 23000 & 23800\\\\\n",
       "\\end{tabular}\n"
      ],
      "text/markdown": [
       "\n",
       "| <!--/--> | 2013 | 2014 | 2015 | 2016 | \n",
       "|---|\n",
       "| HOMA | 20000 | 20500 | 23000 | 23800 | \n",
       "\n",
       "\n"
      ],
      "text/plain": [
       "     2013  2014  2015  2016 \n",
       "HOMA 20000 20500 23000 23800"
      ]
     },
     "metadata": {},
     "output_type": "display_data"
    }
   ],
   "source": [
    "vec_HOMA<-c(20000, 20500, 23000, 23800)\n",
    "HOMA<-matrix(vec_HOMA, ncol=4, )\n",
    "rownames(HOMA)<-c(\"HOMA\")\n",
    "colnames(HOMA)<-2013:2016\n",
    "HOMA"
   ]
  },
  {
   "cell_type": "code",
   "execution_count": 38,
   "metadata": {},
   "outputs": [
    {
     "data": {
      "text/html": [
       "<dl class=dl-horizontal>\n",
       "\t<dt>2013</dt>\n",
       "\t\t<dd>1698241</dd>\n",
       "\t<dt>2014</dt>\n",
       "\t\t<dd>1714596</dd>\n",
       "\t<dt>2015</dt>\n",
       "\t\t<dd>1723940</dd>\n",
       "\t<dt>2016</dt>\n",
       "\t\t<dd>1743953</dd>\n",
       "</dl>\n"
      ],
      "text/latex": [
       "\\begin{description*}\n",
       "\\item[2013] 1698241\n",
       "\\item[2014] 1714596\n",
       "\\item[2015] 1723940\n",
       "\\item[2016] 1743953\n",
       "\\end{description*}\n"
      ],
      "text/markdown": [
       "2013\n",
       ":   16982412014\n",
       ":   17145962015\n",
       ":   17239402016\n",
       ":   1743953\n",
       "\n"
      ],
      "text/plain": [
       "   2013    2014    2015    2016 \n",
       "1698241 1714596 1723940 1743953 "
      ]
     },
     "metadata": {},
     "output_type": "display_data"
    }
   ],
   "source": [
    "pop[1,]-vec_HOMA"
   ]
  },
  {
   "cell_type": "markdown",
   "metadata": {},
   "source": [
    "Reconstruisez la nouvelle matrice avec les nouvelles données de Montréal."
   ]
  },
  {
   "cell_type": "code",
   "execution_count": 39,
   "metadata": {},
   "outputs": [
    {
     "data": {
      "text/html": [
       "<table>\n",
       "<thead><tr><th></th><th scope=col>2013</th><th scope=col>2014</th><th scope=col>2015</th><th scope=col>2016</th></tr></thead>\n",
       "<tbody>\n",
       "\t<tr><th scope=row>Montréal</th><td>1698241</td><td>1714596</td><td>1723940</td><td>1743953</td></tr>\n",
       "\t<tr><th scope=row>Québec</th><td> 530474</td><td> 533857</td><td> 536013</td><td> 538918</td></tr>\n",
       "\t<tr><th scope=row>Laval</th><td> 417325</td><td> 421959</td><td> 425481</td><td> 429413</td></tr>\n",
       "\t<tr><th scope=row>Gatineau</th><td> 274180</td><td> 276290</td><td> 278050</td><td> 281392</td></tr>\n",
       "</tbody>\n",
       "</table>\n"
      ],
      "text/latex": [
       "\\begin{tabular}{r|llll}\n",
       "  & 2013 & 2014 & 2015 & 2016\\\\\n",
       "\\hline\n",
       "\tMontréal & 1698241 & 1714596 & 1723940 & 1743953\\\\\n",
       "\tQuébec &  530474 &  533857 &  536013 &  538918\\\\\n",
       "\tLaval &  417325 &  421959 &  425481 &  429413\\\\\n",
       "\tGatineau &  274180 &  276290 &  278050 &  281392\\\\\n",
       "\\end{tabular}\n"
      ],
      "text/markdown": [
       "\n",
       "| <!--/--> | 2013 | 2014 | 2015 | 2016 | \n",
       "|---|---|---|---|\n",
       "| Montréal | 1698241 | 1714596 | 1723940 | 1743953 | \n",
       "| Québec |  530474 |  533857 |  536013 |  538918 | \n",
       "| Laval |  417325 |  421959 |  425481 |  429413 | \n",
       "| Gatineau |  274180 |  276290 |  278050 |  281392 | \n",
       "\n",
       "\n"
      ],
      "text/plain": [
       "         2013    2014    2015    2016   \n",
       "Montréal 1698241 1714596 1723940 1743953\n",
       "Québec    530474  533857  536013  538918\n",
       "Laval     417325  421959  425481  429413\n",
       "Gatineau  274180  276290  278050  281392"
      ]
     },
     "metadata": {},
     "output_type": "display_data"
    }
   ],
   "source": [
    "pop[1,]<-pop[1,]-vec_HOMA\n",
    "pop"
   ]
  },
  {
   "cell_type": "markdown",
   "metadata": {},
   "source": [
    "Ajouter les données de HOMA à la matrice modifiée|"
   ]
  },
  {
   "cell_type": "code",
   "execution_count": 173,
   "metadata": {},
   "outputs": [
    {
     "data": {
      "text/html": [
       "<table>\n",
       "<thead><tr><th></th><th scope=col>2013</th><th scope=col>2014</th><th scope=col>2015</th><th scope=col>2016</th></tr></thead>\n",
       "<tbody>\n",
       "\t<tr><th scope=row>Montréal</th><td>1698241</td><td>1714596</td><td>1723940</td><td>1743953</td></tr>\n",
       "\t<tr><th scope=row>Québec</th><td> 530474</td><td> 533857</td><td> 536013</td><td> 538918</td></tr>\n",
       "\t<tr><th scope=row>Laval</th><td> 417325</td><td> 421959</td><td> 425481</td><td> 429413</td></tr>\n",
       "\t<tr><th scope=row>Gatineau</th><td> 274180</td><td> 276290</td><td> 278050</td><td> 281392</td></tr>\n",
       "\t<tr><th scope=row>HOMA</th><td>  20000</td><td>  20500</td><td>  23000</td><td>  23800</td></tr>\n",
       "</tbody>\n",
       "</table>\n"
      ],
      "text/latex": [
       "\\begin{tabular}{r|llll}\n",
       "  & 2013 & 2014 & 2015 & 2016\\\\\n",
       "\\hline\n",
       "\tMontréal & 1698241 & 1714596 & 1723940 & 1743953\\\\\n",
       "\tQuébec &  530474 &  533857 &  536013 &  538918\\\\\n",
       "\tLaval &  417325 &  421959 &  425481 &  429413\\\\\n",
       "\tGatineau &  274180 &  276290 &  278050 &  281392\\\\\n",
       "\tHOMA &   20000 &   20500 &   23000 &   23800\\\\\n",
       "\\end{tabular}\n"
      ],
      "text/markdown": [
       "\n",
       "| <!--/--> | 2013 | 2014 | 2015 | 2016 | \n",
       "|---|---|---|---|---|\n",
       "| Montréal | 1698241 | 1714596 | 1723940 | 1743953 | \n",
       "| Québec |  530474 |  533857 |  536013 |  538918 | \n",
       "| Laval |  417325 |  421959 |  425481 |  429413 | \n",
       "| Gatineau |  274180 |  276290 |  278050 |  281392 | \n",
       "| HOMA |   20000 |   20500 |   23000 |   23800 | \n",
       "\n",
       "\n"
      ],
      "text/plain": [
       "         2013    2014    2015    2016   \n",
       "Montréal 1698241 1714596 1723940 1743953\n",
       "Québec    530474  533857  536013  538918\n",
       "Laval     417325  421959  425481  429413\n",
       "Gatineau  274180  276290  278050  281392\n",
       "HOMA       20000   20500   23000   23800"
      ]
     },
     "metadata": {},
     "output_type": "display_data"
    }
   ],
   "source": [
    "rbind(pop,HOMA)"
   ]
  },
  {
   "cell_type": "markdown",
   "metadata": {},
   "source": [
    "# Question"
   ]
  },
  {
   "cell_type": "markdown",
   "metadata": {},
   "source": [
    "Créer  deux  vecteurs  aléatoires  nommés  « x1 » et  « x2 »,  contenant  chacun  100  valeurs aléatoires compatibles \n",
    "1. avec une distribution de loi normale centrée réduite et \n",
    "2. avec une distribution de loi uniforme définie sur l’intervalle [0 ; 10]. "
   ]
  },
  {
   "cell_type": "code",
   "execution_count": 42,
   "metadata": {},
   "outputs": [],
   "source": [
    "x1<-rnorm(100)\n",
    "x2<-runif(100, 0,10)"
   ]
  },
  {
   "cell_type": "markdown",
   "metadata": {},
   "source": [
    "Créez une matrice 10X10 contient les valeur du vecteur x1 crée auparavant:"
   ]
  },
  {
   "cell_type": "code",
   "execution_count": 43,
   "metadata": {},
   "outputs": [],
   "source": [
    "matNorm<-matrix(x1,nrow=10)"
   ]
  },
  {
   "cell_type": "markdown",
   "metadata": {},
   "source": [
    "Calculez la moyenne de cette dernière et la variance de cette dernière"
   ]
  },
  {
   "cell_type": "code",
   "execution_count": 44,
   "metadata": {},
   "outputs": [
    {
     "data": {
      "text/html": [
       "0.0178254903830712"
      ],
      "text/latex": [
       "0.0178254903830712"
      ],
      "text/markdown": [
       "0.0178254903830712"
      ],
      "text/plain": [
       "[1] 0.01782549"
      ]
     },
     "metadata": {},
     "output_type": "display_data"
    }
   ],
   "source": [
    "mean(matNorm)"
   ]
  },
  {
   "cell_type": "code",
   "execution_count": 45,
   "metadata": {},
   "outputs": [
    {
     "data": {
      "text/html": [
       "0.823977976790721"
      ],
      "text/latex": [
       "0.823977976790721"
      ],
      "text/markdown": [
       "0.823977976790721"
      ],
      "text/plain": [
       "[1] 0.823978"
      ]
     },
     "metadata": {},
     "output_type": "display_data"
    }
   ],
   "source": [
    "(sd(matNorm))**2"
   ]
  },
  {
   "cell_type": "markdown",
   "metadata": {},
   "source": [
    "# Question"
   ]
  },
  {
   "cell_type": "markdown",
   "metadata": {},
   "source": [
    "Créer un vecteur xx1 contenant un échantillon équiprobable de 4 variables à partir du vecteur x1 de la question précédente"
   ]
  },
  {
   "cell_type": "code",
   "execution_count": 46,
   "metadata": {},
   "outputs": [
    {
     "data": {
      "text/html": [
       "<ol class=list-inline>\n",
       "\t<li>-0.163930968642975</li>\n",
       "\t<li>0.300279118120242</li>\n",
       "\t<li>0.596425059015276</li>\n",
       "\t<li>-0.488922835294287</li>\n",
       "</ol>\n"
      ],
      "text/latex": [
       "\\begin{enumerate*}\n",
       "\\item -0.163930968642975\n",
       "\\item 0.300279118120242\n",
       "\\item 0.596425059015276\n",
       "\\item -0.488922835294287\n",
       "\\end{enumerate*}\n"
      ],
      "text/markdown": [
       "1. -0.163930968642975\n",
       "2. 0.300279118120242\n",
       "3. 0.596425059015276\n",
       "4. -0.488922835294287\n",
       "\n",
       "\n"
      ],
      "text/plain": [
       "[1] -0.1639310  0.3002791  0.5964251 -0.4889228"
      ]
     },
     "metadata": {},
     "output_type": "display_data"
    }
   ],
   "source": [
    "xx1<-sample(x1, 4)\n",
    "xx1"
   ]
  },
  {
   "cell_type": "markdown",
   "metadata": {},
   "source": [
    "À partir du vecteur xx1, créez un autre vecteur xx2 qui possède 1000 variables de l'échantillon xx1. La dernière variable possède une probabilité de 70% qu'elle soit tirée alors que les trois premières ont chacune 10% de chance qu'elle soit tirée."
   ]
  },
  {
   "cell_type": "code",
   "execution_count": 47,
   "metadata": {},
   "outputs": [],
   "source": [
    "xx2<-sample(xx1, 1000, replace = T, prob=c(.1,.1,.1,.7))"
   ]
  },
  {
   "cell_type": "markdown",
   "metadata": {},
   "source": [
    "Donnez la fréquence de chacune des variables simulée\n"
   ]
  },
  {
   "cell_type": "code",
   "execution_count": 48,
   "metadata": {},
   "outputs": [
    {
     "data": {
      "text/plain": [
       "xx2\n",
       "-0.488922835294287 -0.163930968642975  0.300279118120242  0.596425059015276 \n",
       "               705                 82                111                102 "
      ]
     },
     "metadata": {},
     "output_type": "display_data"
    }
   ],
   "source": [
    "table(xx2)"
   ]
  },
  {
   "cell_type": "markdown",
   "metadata": {},
   "source": [
    "# Question"
   ]
  },
  {
   "cell_type": "markdown",
   "metadata": {},
   "source": [
    "On vous dit que les temps pour finir un demi-triathlon suivent une loi normale avec une moyenne (et les écarts types [ET])  pour les hommes et les femmes sont les suivantes:\n",
    "* Pour les **hommes** nager 1.9 km en 40 minutes (ET=3), pédaler 90 km en 2:45 (ET=8), et courir 21.1 km en 2:05 (ET=10).\n",
    "* Pour les **Femmes** nager 1.9 km en 50 minutes (ET=5), pédaler 90 km en 3:00 (ET=5), et courir 21.1 km en 2:15 (ET=12).\n"
   ]
  },
  {
   "cell_type": "markdown",
   "metadata": {},
   "source": [
    "Créer les vecteurs {`swimH`, `bikeH`, `runH`, `swimF`, `bikeF`, `runF`} contenant le temps pour chacun des sports pour 1002 hommes et 1300 femmes, tirés aléatoirement selon les lois ci-dessus (on suppose que les trois sports sont indépendants même si en réalité ce n'est jamais vrai, car si on se blesse en vélo, on performe beaucoup moins en course).\n"
   ]
  },
  {
   "cell_type": "code",
   "execution_count": 49,
   "metadata": {
    "collapsed": true
   },
   "outputs": [],
   "source": [
    "set.seed(123)\n",
    "n<-1002\n",
    "swimH<-round(rnorm(n, mean = 40, sd = 3),2)\n",
    "bikeH<-round(rnorm(n, mean = 165, sd = 8),2)\n",
    "runH<-round(rnorm(n, mean = 125, sd = 8),2)\n",
    "\n",
    "m<-1300\n",
    "swimF<-round(rnorm(m, mean = 50, sd = 5),2)\n",
    "bikeF<-round(rnorm(m, mean = 180, sd = 5),2)\n",
    "runF<-round(rnorm(m, mean = 135, sd = 12),2)\n"
   ]
  },
  {
   "cell_type": "markdown",
   "metadata": {},
   "source": [
    "Avec les vecteurs crée précedemment, construisez une matrice pour les hommes et une autre pour les femmes"
   ]
  },
  {
   "cell_type": "code",
   "execution_count": 50,
   "metadata": {},
   "outputs": [],
   "source": [
    "resultatH<-matrix(c(swimH, bikeH, runH), ncol = 3)\n",
    "colnames(resultatH)<-c(\"Swim\", \"Bike\", \"Run\")\n",
    "rownames(resultatH)<-paste(\"H\",1:n,sep='')"
   ]
  },
  {
   "cell_type": "code",
   "execution_count": 51,
   "metadata": {},
   "outputs": [
    {
     "data": {
      "text/html": [
       "<table>\n",
       "<thead><tr><th></th><th scope=col>Swim</th><th scope=col>Bike</th><th scope=col>Run</th></tr></thead>\n",
       "<tbody>\n",
       "\t<tr><th scope=row>H1</th><td>38.32 </td><td>164.86</td><td>126.39</td></tr>\n",
       "\t<tr><th scope=row>H2</th><td>39.31 </td><td>163.94</td><td>120.08</td></tr>\n",
       "\t<tr><th scope=row>H3</th><td>44.68 </td><td>144.61</td><td>110.54</td></tr>\n",
       "\t<tr><th scope=row>H4</th><td>40.21 </td><td>173.32</td><td>119.85</td></tr>\n",
       "\t<tr><th scope=row>H5</th><td>40.39 </td><td>167.00</td><td>141.37</td></tr>\n",
       "\t<tr><th scope=row>H6</th><td>45.15 </td><td>184.33</td><td>120.51</td></tr>\n",
       "</tbody>\n",
       "</table>\n"
      ],
      "text/latex": [
       "\\begin{tabular}{r|lll}\n",
       "  & Swim & Bike & Run\\\\\n",
       "\\hline\n",
       "\tH1 & 38.32  & 164.86 & 126.39\\\\\n",
       "\tH2 & 39.31  & 163.94 & 120.08\\\\\n",
       "\tH3 & 44.68  & 144.61 & 110.54\\\\\n",
       "\tH4 & 40.21  & 173.32 & 119.85\\\\\n",
       "\tH5 & 40.39  & 167.00 & 141.37\\\\\n",
       "\tH6 & 45.15  & 184.33 & 120.51\\\\\n",
       "\\end{tabular}\n"
      ],
      "text/markdown": [
       "\n",
       "| <!--/--> | Swim | Bike | Run | \n",
       "|---|---|---|---|---|---|\n",
       "| H1 | 38.32  | 164.86 | 126.39 | \n",
       "| H2 | 39.31  | 163.94 | 120.08 | \n",
       "| H3 | 44.68  | 144.61 | 110.54 | \n",
       "| H4 | 40.21  | 173.32 | 119.85 | \n",
       "| H5 | 40.39  | 167.00 | 141.37 | \n",
       "| H6 | 45.15  | 184.33 | 120.51 | \n",
       "\n",
       "\n"
      ],
      "text/plain": [
       "   Swim  Bike   Run   \n",
       "H1 38.32 164.86 126.39\n",
       "H2 39.31 163.94 120.08\n",
       "H3 44.68 144.61 110.54\n",
       "H4 40.21 173.32 119.85\n",
       "H5 40.39 167.00 141.37\n",
       "H6 45.15 184.33 120.51"
      ]
     },
     "metadata": {},
     "output_type": "display_data"
    }
   ],
   "source": [
    "head(resultatH)"
   ]
  },
  {
   "cell_type": "code",
   "execution_count": 52,
   "metadata": {},
   "outputs": [
    {
     "data": {
      "text/html": [
       "<table>\n",
       "<thead><tr><th></th><th scope=col>Swim</th><th scope=col>Bike</th><th scope=col>Run</th></tr></thead>\n",
       "<tbody>\n",
       "\t<tr><th scope=row>H997</th><td>43.21 </td><td>169.29</td><td>123.80</td></tr>\n",
       "\t<tr><th scope=row>H998</th><td>35.95 </td><td>161.32</td><td>122.38</td></tr>\n",
       "\t<tr><th scope=row>H999</th><td>38.43 </td><td>160.91</td><td>113.41</td></tr>\n",
       "\t<tr><th scope=row>H1000</th><td>39.25 </td><td>166.90</td><td>119.42</td></tr>\n",
       "\t<tr><th scope=row>H1001</th><td>37.01 </td><td>160.67</td><td>145.79</td></tr>\n",
       "\t<tr><th scope=row>H1002</th><td>36.88 </td><td>174.75</td><td>124.70</td></tr>\n",
       "</tbody>\n",
       "</table>\n"
      ],
      "text/latex": [
       "\\begin{tabular}{r|lll}\n",
       "  & Swim & Bike & Run\\\\\n",
       "\\hline\n",
       "\tH997 & 43.21  & 169.29 & 123.80\\\\\n",
       "\tH998 & 35.95  & 161.32 & 122.38\\\\\n",
       "\tH999 & 38.43  & 160.91 & 113.41\\\\\n",
       "\tH1000 & 39.25  & 166.90 & 119.42\\\\\n",
       "\tH1001 & 37.01  & 160.67 & 145.79\\\\\n",
       "\tH1002 & 36.88  & 174.75 & 124.70\\\\\n",
       "\\end{tabular}\n"
      ],
      "text/markdown": [
       "\n",
       "| <!--/--> | Swim | Bike | Run | \n",
       "|---|---|---|---|---|---|\n",
       "| H997 | 43.21  | 169.29 | 123.80 | \n",
       "| H998 | 35.95  | 161.32 | 122.38 | \n",
       "| H999 | 38.43  | 160.91 | 113.41 | \n",
       "| H1000 | 39.25  | 166.90 | 119.42 | \n",
       "| H1001 | 37.01  | 160.67 | 145.79 | \n",
       "| H1002 | 36.88  | 174.75 | 124.70 | \n",
       "\n",
       "\n"
      ],
      "text/plain": [
       "      Swim  Bike   Run   \n",
       "H997  43.21 169.29 123.80\n",
       "H998  35.95 161.32 122.38\n",
       "H999  38.43 160.91 113.41\n",
       "H1000 39.25 166.90 119.42\n",
       "H1001 37.01 160.67 145.79\n",
       "H1002 36.88 174.75 124.70"
      ]
     },
     "metadata": {},
     "output_type": "display_data"
    }
   ],
   "source": [
    "tail(resultatH)"
   ]
  },
  {
   "cell_type": "code",
   "execution_count": 53,
   "metadata": {
    "collapsed": true
   },
   "outputs": [],
   "source": [
    "resultatF<-matrix(c(swimF, bikeF, runF), ncol = 3)\n",
    "colnames(resultatF)<-c(\"Swim\", \"Bike\", \"Run\")\n",
    "rownames(resultatF)<-paste(\"F\",n+1:m,sep='')"
   ]
  },
  {
   "cell_type": "code",
   "execution_count": 54,
   "metadata": {},
   "outputs": [
    {
     "data": {
      "text/html": [
       "<table>\n",
       "<thead><tr><th></th><th scope=col>Swim</th><th scope=col>Bike</th><th scope=col>Run</th></tr></thead>\n",
       "<tbody>\n",
       "\t<tr><th scope=row>F1003</th><td>54.57 </td><td>180.26</td><td>117.59</td></tr>\n",
       "\t<tr><th scope=row>F1004</th><td>49.08 </td><td>184.04</td><td>130.86</td></tr>\n",
       "\t<tr><th scope=row>F1005</th><td>53.05 </td><td>175.30</td><td>115.72</td></tr>\n",
       "\t<tr><th scope=row>F1006</th><td>49.74 </td><td>180.20</td><td>149.05</td></tr>\n",
       "\t<tr><th scope=row>F1007</th><td>56.82 </td><td>170.01</td><td>131.69</td></tr>\n",
       "\t<tr><th scope=row>F1008</th><td>47.48 </td><td>180.69</td><td>132.66</td></tr>\n",
       "</tbody>\n",
       "</table>\n"
      ],
      "text/latex": [
       "\\begin{tabular}{r|lll}\n",
       "  & Swim & Bike & Run\\\\\n",
       "\\hline\n",
       "\tF1003 & 54.57  & 180.26 & 117.59\\\\\n",
       "\tF1004 & 49.08  & 184.04 & 130.86\\\\\n",
       "\tF1005 & 53.05  & 175.30 & 115.72\\\\\n",
       "\tF1006 & 49.74  & 180.20 & 149.05\\\\\n",
       "\tF1007 & 56.82  & 170.01 & 131.69\\\\\n",
       "\tF1008 & 47.48  & 180.69 & 132.66\\\\\n",
       "\\end{tabular}\n"
      ],
      "text/markdown": [
       "\n",
       "| <!--/--> | Swim | Bike | Run | \n",
       "|---|---|---|---|---|---|\n",
       "| F1003 | 54.57  | 180.26 | 117.59 | \n",
       "| F1004 | 49.08  | 184.04 | 130.86 | \n",
       "| F1005 | 53.05  | 175.30 | 115.72 | \n",
       "| F1006 | 49.74  | 180.20 | 149.05 | \n",
       "| F1007 | 56.82  | 170.01 | 131.69 | \n",
       "| F1008 | 47.48  | 180.69 | 132.66 | \n",
       "\n",
       "\n"
      ],
      "text/plain": [
       "      Swim  Bike   Run   \n",
       "F1003 54.57 180.26 117.59\n",
       "F1004 49.08 184.04 130.86\n",
       "F1005 53.05 175.30 115.72\n",
       "F1006 49.74 180.20 149.05\n",
       "F1007 56.82 170.01 131.69\n",
       "F1008 47.48 180.69 132.66"
      ]
     },
     "metadata": {},
     "output_type": "display_data"
    }
   ],
   "source": [
    "head(resultatF)"
   ]
  },
  {
   "cell_type": "code",
   "execution_count": 55,
   "metadata": {},
   "outputs": [
    {
     "data": {
      "text/html": [
       "<table>\n",
       "<thead><tr><th></th><th scope=col>Swim</th><th scope=col>Bike</th><th scope=col>Run</th></tr></thead>\n",
       "<tbody>\n",
       "\t<tr><th scope=row>F2297</th><td>57.17 </td><td>172.19</td><td>114.79</td></tr>\n",
       "\t<tr><th scope=row>F2298</th><td>54.56 </td><td>174.28</td><td>132.75</td></tr>\n",
       "\t<tr><th scope=row>F2299</th><td>51.91 </td><td>176.39</td><td>132.54</td></tr>\n",
       "\t<tr><th scope=row>F2300</th><td>52.76 </td><td>182.63</td><td>126.28</td></tr>\n",
       "\t<tr><th scope=row>F2301</th><td>50.72 </td><td>168.28</td><td>124.29</td></tr>\n",
       "\t<tr><th scope=row>F2302</th><td>58.54 </td><td>179.21</td><td>134.37</td></tr>\n",
       "</tbody>\n",
       "</table>\n"
      ],
      "text/latex": [
       "\\begin{tabular}{r|lll}\n",
       "  & Swim & Bike & Run\\\\\n",
       "\\hline\n",
       "\tF2297 & 57.17  & 172.19 & 114.79\\\\\n",
       "\tF2298 & 54.56  & 174.28 & 132.75\\\\\n",
       "\tF2299 & 51.91  & 176.39 & 132.54\\\\\n",
       "\tF2300 & 52.76  & 182.63 & 126.28\\\\\n",
       "\tF2301 & 50.72  & 168.28 & 124.29\\\\\n",
       "\tF2302 & 58.54  & 179.21 & 134.37\\\\\n",
       "\\end{tabular}\n"
      ],
      "text/markdown": [
       "\n",
       "| <!--/--> | Swim | Bike | Run | \n",
       "|---|---|---|---|---|---|\n",
       "| F2297 | 57.17  | 172.19 | 114.79 | \n",
       "| F2298 | 54.56  | 174.28 | 132.75 | \n",
       "| F2299 | 51.91  | 176.39 | 132.54 | \n",
       "| F2300 | 52.76  | 182.63 | 126.28 | \n",
       "| F2301 | 50.72  | 168.28 | 124.29 | \n",
       "| F2302 | 58.54  | 179.21 | 134.37 | \n",
       "\n",
       "\n"
      ],
      "text/plain": [
       "      Swim  Bike   Run   \n",
       "F2297 57.17 172.19 114.79\n",
       "F2298 54.56 174.28 132.75\n",
       "F2299 51.91 176.39 132.54\n",
       "F2300 52.76 182.63 126.28\n",
       "F2301 50.72 168.28 124.29\n",
       "F2302 58.54 179.21 134.37"
      ]
     },
     "metadata": {},
     "output_type": "display_data"
    }
   ],
   "source": [
    "tail(resultatF)"
   ]
  },
  {
   "cell_type": "markdown",
   "metadata": {},
   "source": [
    "Créez une matrice qui contient les résultats des femmes ensuite et le résultat des hommes"
   ]
  },
  {
   "cell_type": "code",
   "execution_count": 292,
   "metadata": {},
   "outputs": [],
   "source": [
    "résultat<-rbind(resultatH, resultatF)"
   ]
  },
  {
   "cell_type": "code",
   "execution_count": 293,
   "metadata": {},
   "outputs": [
    {
     "data": {
      "text/html": [
       "<table>\n",
       "<thead><tr><th></th><th scope=col>Swim</th><th scope=col>Bike</th><th scope=col>Run</th></tr></thead>\n",
       "<tbody>\n",
       "\t<tr><th scope=row>H1</th><td>40.54 </td><td>171.39</td><td>135.25</td></tr>\n",
       "\t<tr><th scope=row>H2</th><td>41.78 </td><td>157.40</td><td>130.89</td></tr>\n",
       "\t<tr><th scope=row>H3</th><td>46.27 </td><td>168.04</td><td>131.96</td></tr>\n",
       "\t<tr><th scope=row>H4</th><td>39.01 </td><td>157.34</td><td>133.89</td></tr>\n",
       "\t<tr><th scope=row>H5</th><td>36.20 </td><td>160.56</td><td>118.65</td></tr>\n",
       "\t<tr><th scope=row>H6</th><td>42.51 </td><td>163.69</td><td>123.67</td></tr>\n",
       "</tbody>\n",
       "</table>\n"
      ],
      "text/latex": [
       "\\begin{tabular}{r|lll}\n",
       "  & Swim & Bike & Run\\\\\n",
       "\\hline\n",
       "\tH1 & 40.54  & 171.39 & 135.25\\\\\n",
       "\tH2 & 41.78  & 157.40 & 130.89\\\\\n",
       "\tH3 & 46.27  & 168.04 & 131.96\\\\\n",
       "\tH4 & 39.01  & 157.34 & 133.89\\\\\n",
       "\tH5 & 36.20  & 160.56 & 118.65\\\\\n",
       "\tH6 & 42.51  & 163.69 & 123.67\\\\\n",
       "\\end{tabular}\n"
      ],
      "text/markdown": [
       "\n",
       "| <!--/--> | Swim | Bike | Run | \n",
       "|---|---|---|---|---|---|\n",
       "| H1 | 40.54  | 171.39 | 135.25 | \n",
       "| H2 | 41.78  | 157.40 | 130.89 | \n",
       "| H3 | 46.27  | 168.04 | 131.96 | \n",
       "| H4 | 39.01  | 157.34 | 133.89 | \n",
       "| H5 | 36.20  | 160.56 | 118.65 | \n",
       "| H6 | 42.51  | 163.69 | 123.67 | \n",
       "\n",
       "\n"
      ],
      "text/plain": [
       "   Swim  Bike   Run   \n",
       "H1 40.54 171.39 135.25\n",
       "H2 41.78 157.40 130.89\n",
       "H3 46.27 168.04 131.96\n",
       "H4 39.01 157.34 133.89\n",
       "H5 36.20 160.56 118.65\n",
       "H6 42.51 163.69 123.67"
      ]
     },
     "metadata": {},
     "output_type": "display_data"
    }
   ],
   "source": [
    "head(résultat)"
   ]
  },
  {
   "cell_type": "code",
   "execution_count": 294,
   "metadata": {},
   "outputs": [
    {
     "data": {
      "text/html": [
       "<table>\n",
       "<thead><tr><th></th><th scope=col>Swim</th><th scope=col>Bike</th><th scope=col>Run</th></tr></thead>\n",
       "<tbody>\n",
       "\t<tr><th scope=row>F2297</th><td>57.86 </td><td>176.24</td><td>173.19</td></tr>\n",
       "\t<tr><th scope=row>F2298</th><td>48.88 </td><td>177.83</td><td>111.61</td></tr>\n",
       "\t<tr><th scope=row>F2299</th><td>43.47 </td><td>175.25</td><td>137.77</td></tr>\n",
       "\t<tr><th scope=row>F2300</th><td>46.19 </td><td>180.49</td><td>156.81</td></tr>\n",
       "\t<tr><th scope=row>F2301</th><td>51.36 </td><td>183.77</td><td>129.70</td></tr>\n",
       "\t<tr><th scope=row>F2302</th><td>59.24 </td><td>182.38</td><td>134.04</td></tr>\n",
       "</tbody>\n",
       "</table>\n"
      ],
      "text/latex": [
       "\\begin{tabular}{r|lll}\n",
       "  & Swim & Bike & Run\\\\\n",
       "\\hline\n",
       "\tF2297 & 57.86  & 176.24 & 173.19\\\\\n",
       "\tF2298 & 48.88  & 177.83 & 111.61\\\\\n",
       "\tF2299 & 43.47  & 175.25 & 137.77\\\\\n",
       "\tF2300 & 46.19  & 180.49 & 156.81\\\\\n",
       "\tF2301 & 51.36  & 183.77 & 129.70\\\\\n",
       "\tF2302 & 59.24  & 182.38 & 134.04\\\\\n",
       "\\end{tabular}\n"
      ],
      "text/markdown": [
       "\n",
       "| <!--/--> | Swim | Bike | Run | \n",
       "|---|---|---|---|---|---|\n",
       "| F2297 | 57.86  | 176.24 | 173.19 | \n",
       "| F2298 | 48.88  | 177.83 | 111.61 | \n",
       "| F2299 | 43.47  | 175.25 | 137.77 | \n",
       "| F2300 | 46.19  | 180.49 | 156.81 | \n",
       "| F2301 | 51.36  | 183.77 | 129.70 | \n",
       "| F2302 | 59.24  | 182.38 | 134.04 | \n",
       "\n",
       "\n"
      ],
      "text/plain": [
       "      Swim  Bike   Run   \n",
       "F2297 57.86 176.24 173.19\n",
       "F2298 48.88 177.83 111.61\n",
       "F2299 43.47 175.25 137.77\n",
       "F2300 46.19 180.49 156.81\n",
       "F2301 51.36 183.77 129.70\n",
       "F2302 59.24 182.38 134.04"
      ]
     },
     "metadata": {},
     "output_type": "display_data"
    }
   ],
   "source": [
    "tail(résultat)"
   ]
  },
  {
   "cell_type": "markdown",
   "metadata": {},
   "source": [
    "Quel est le numéro du dossard du participant/es qui a le meilleur temps en nage, et en combien de temps à accomplie cette discipline"
   ]
  },
  {
   "cell_type": "code",
   "execution_count": 273,
   "metadata": {},
   "outputs": [
    {
     "data": {
      "text/html": [
       "31.34"
      ],
      "text/latex": [
       "31.34"
      ],
      "text/markdown": [
       "31.34"
      ],
      "text/plain": [
       "[1] 31.34"
      ]
     },
     "metadata": {},
     "output_type": "display_data"
    }
   ],
   "source": [
    "min(résultat[, 1])"
   ]
  },
  {
   "cell_type": "code",
   "execution_count": 272,
   "metadata": {},
   "outputs": [
    {
     "data": {
      "text/html": [
       "<strong>H19:</strong> 19"
      ],
      "text/latex": [
       "\\textbf{H19:} 19"
      ],
      "text/markdown": [
       "**H19:** 19"
      ],
      "text/plain": [
       "H19 \n",
       " 19 "
      ]
     },
     "metadata": {},
     "output_type": "display_data"
    }
   ],
   "source": [
    "which(résultat[, 1]==min(résultat[, 1]))"
   ]
  },
  {
   "cell_type": "markdown",
   "metadata": {},
   "source": [
    "Quel est le numéro du dossard du participant/es qui a le meilleur temps en vélo, et en combien de temps à accomplie cette discipline"
   ]
  },
  {
   "cell_type": "code",
   "execution_count": 271,
   "metadata": {},
   "outputs": [
    {
     "data": {
      "text/html": [
       "<strong>H759:</strong> 759"
      ],
      "text/latex": [
       "\\textbf{H759:} 759"
      ],
      "text/markdown": [
       "**H759:** 759"
      ],
      "text/plain": [
       "H759 \n",
       " 759 "
      ]
     },
     "metadata": {},
     "output_type": "display_data"
    }
   ],
   "source": [
    "which(résultat[, 2]==min(résultat[, 2]))"
   ]
  },
  {
   "cell_type": "code",
   "execution_count": 275,
   "metadata": {},
   "outputs": [
    {
     "data": {
      "text/html": [
       "142.31"
      ],
      "text/latex": [
       "142.31"
      ],
      "text/markdown": [
       "142.31"
      ],
      "text/plain": [
       "[1] 142.31"
      ]
     },
     "metadata": {},
     "output_type": "display_data"
    }
   ],
   "source": [
    "min(résultat[, 2])"
   ]
  },
  {
   "cell_type": "markdown",
   "metadata": {},
   "source": [
    "Quel est le numéro du dossard du participant/es qui a le meilleur temps en course, et en combien de temps à accomplie cette discipline"
   ]
  },
  {
   "cell_type": "code",
   "execution_count": 276,
   "metadata": {},
   "outputs": [
    {
     "data": {
      "text/html": [
       "<strong>F1719:</strong> 1719"
      ],
      "text/latex": [
       "\\textbf{F1719:} 1719"
      ],
      "text/markdown": [
       "**F1719:** 1719"
      ],
      "text/plain": [
       "F1719 \n",
       " 1719 "
      ]
     },
     "metadata": {},
     "output_type": "display_data"
    }
   ],
   "source": [
    "which(résultat[, 3]==min(résultat[, 3]))"
   ]
  },
  {
   "cell_type": "code",
   "execution_count": 277,
   "metadata": {},
   "outputs": [
    {
     "data": {
      "text/html": [
       "102.02"
      ],
      "text/latex": [
       "102.02"
      ],
      "text/markdown": [
       "102.02"
      ],
      "text/plain": [
       "[1] 102.02"
      ]
     },
     "metadata": {},
     "output_type": "display_data"
    }
   ],
   "source": [
    "min(résultat[, 3])"
   ]
  },
  {
   "cell_type": "markdown",
   "metadata": {},
   "source": [
    "Quel a été le meilleur temps chez les femmes?"
   ]
  },
  {
   "cell_type": "code",
   "execution_count": 298,
   "metadata": {},
   "outputs": [],
   "source": [
    "tempsF<-resultatF[, 1]+resultatF[, 2]+resultatF[, 3]"
   ]
  },
  {
   "cell_type": "code",
   "execution_count": 301,
   "metadata": {},
   "outputs": [
    {
     "data": {
      "text/html": [
       "322.77"
      ],
      "text/latex": [
       "322.77"
      ],
      "text/markdown": [
       "322.77"
      ],
      "text/plain": [
       "[1] 322.77"
      ]
     },
     "metadata": {},
     "output_type": "display_data"
    }
   ],
   "source": [
    "bestF<-min(tempsF)\n",
    "bestF"
   ]
  },
  {
   "cell_type": "markdown",
   "metadata": {},
   "source": [
    "Quel numéro de dossard?\n",
    "\n"
   ]
  },
  {
   "cell_type": "code",
   "execution_count": 302,
   "metadata": {},
   "outputs": [
    {
     "data": {
      "text/html": [
       "<strong>F1871:</strong> 869"
      ],
      "text/latex": [
       "\\textbf{F1871:} 869"
      ],
      "text/markdown": [
       "**F1871:** 869"
      ],
      "text/plain": [
       "F1871 \n",
       "  869 "
      ]
     },
     "metadata": {},
     "output_type": "display_data"
    }
   ],
   "source": [
    "which(tempsF==min(tempsF))"
   ]
  },
  {
   "cell_type": "markdown",
   "metadata": {},
   "source": [
    "Qui a gagné la course et en combien de temps?"
   ]
  },
  {
   "cell_type": "code",
   "execution_count": 306,
   "metadata": {},
   "outputs": [
    {
     "data": {
      "text/html": [
       "292.15"
      ],
      "text/latex": [
       "292.15"
      ],
      "text/markdown": [
       "292.15"
      ],
      "text/plain": [
       "[1] 292.15"
      ]
     },
     "metadata": {},
     "output_type": "display_data"
    },
    {
     "data": {
      "text/html": [
       "<strong>H249:</strong> 249"
      ],
      "text/latex": [
       "\\textbf{H249:} 249"
      ],
      "text/markdown": [
       "**H249:** 249"
      ],
      "text/plain": [
       "H249 \n",
       " 249 "
      ]
     },
     "metadata": {},
     "output_type": "display_data"
    }
   ],
   "source": [
    "temps<-résultat[, 1]+résultat[, 2]+résultat[, 3]\n",
    "gagnant<-min(temps)\n",
    "gagnant\n",
    "which(temps==min(temps))\n"
   ]
  },
  {
   "cell_type": "markdown",
   "metadata": {},
   "source": [
    "# Question"
   ]
  },
  {
   "cell_type": "markdown",
   "metadata": {},
   "source": [
    "Créez un vecteur appelé _ann_ de qui représente les années de développement dans calcul d'annuité de 5 ans, qui donne le résultat suivant $\\left\\{1, \\dots, 5\\right\\}$\n",
    "\n"
   ]
  },
  {
   "cell_type": "code",
   "execution_count": 42,
   "metadata": {},
   "outputs": [
    {
     "data": {
      "text/html": [
       "<ol class=list-inline>\n",
       "\t<li>1</li>\n",
       "\t<li>2</li>\n",
       "\t<li>3</li>\n",
       "\t<li>4</li>\n",
       "\t<li>5</li>\n",
       "</ol>\n"
      ],
      "text/latex": [
       "\\begin{enumerate*}\n",
       "\\item 1\n",
       "\\item 2\n",
       "\\item 3\n",
       "\\item 4\n",
       "\\item 5\n",
       "\\end{enumerate*}\n"
      ],
      "text/markdown": [
       "1. 1\n",
       "2. 2\n",
       "3. 3\n",
       "4. 4\n",
       "5. 5\n",
       "\n",
       "\n"
      ],
      "text/plain": [
       "[1] 1 2 3 4 5"
      ]
     },
     "metadata": {},
     "output_type": "display_data"
    }
   ],
   "source": [
    "ann<-1:5\n",
    "ann"
   ]
  },
  {
   "cell_type": "markdown",
   "metadata": {},
   "source": [
    "Créer un vecteur contenant les fameux facteurs d'actualisation $v^n$ qui servent à calculer la valeur présente d'une série de paiements $n=5$ avec un taux d'intérêt de 2.5% \\begin{equation}\\label{eq:v_n} v^n=\\frac{1}{1+i} \\end{equation}\n",
    "\n"
   ]
  },
  {
   "cell_type": "code",
   "execution_count": 44,
   "metadata": {},
   "outputs": [
    {
     "data": {
      "text/html": [
       "<ol class=list-inline>\n",
       "\t<li>0.975609756097561</li>\n",
       "\t<li>0.951814396192743</li>\n",
       "\t<li>0.928599410919749</li>\n",
       "\t<li>0.905950644799755</li>\n",
       "\t<li>0.883854287609517</li>\n",
       "</ol>\n"
      ],
      "text/latex": [
       "\\begin{enumerate*}\n",
       "\\item 0.975609756097561\n",
       "\\item 0.951814396192743\n",
       "\\item 0.928599410919749\n",
       "\\item 0.905950644799755\n",
       "\\item 0.883854287609517\n",
       "\\end{enumerate*}\n"
      ],
      "text/markdown": [
       "1. 0.975609756097561\n",
       "2. 0.951814396192743\n",
       "3. 0.928599410919749\n",
       "4. 0.905950644799755\n",
       "5. 0.883854287609517\n",
       "\n",
       "\n"
      ],
      "text/plain": [
       "[1] 0.9756098 0.9518144 0.9285994 0.9059506 0.8838543"
      ]
     },
     "metadata": {},
     "output_type": "display_data"
    }
   ],
   "source": [
    "i<-.025\n",
    "v_n<-(1+i)**(-ann)\n",
    "v_n"
   ]
  },
  {
   "cell_type": "markdown",
   "metadata": {},
   "source": [
    "Calculer la valeur présente d'une annuité 5 ans avec qui 153.25$ par année\n",
    "\n",
    "\n",
    "\\begin{equation}\\label{eq:a_n}\n",
    "\\begin{split}\n",
    "PV &=a_n\\\\\n",
    "&= v+v^2+ ,\\dots, v^n\\\\\n",
    "&=\\sum_{j=1}^{n} v^{\\text{ } j} \n",
    "\\end{split}\n",
    "\\end{equation}"
   ]
  },
  {
   "cell_type": "code",
   "execution_count": 46,
   "metadata": {},
   "outputs": [
    {
     "data": {
      "text/html": [
       "711.973216953662"
      ],
      "text/latex": [
       "711.973216953662"
      ],
      "text/markdown": [
       "711.973216953662"
      ],
      "text/plain": [
       "[1] 711.9732"
      ]
     },
     "metadata": {},
     "output_type": "display_data"
    }
   ],
   "source": [
    "pmt<-153.25\n",
    "sum(pmt*v_n)"
   ]
  },
  {
   "cell_type": "markdown",
   "metadata": {},
   "source": [
    "Reproduiser votre calcul avec la fonction suivante:\n",
    "\\begin{equation}\\label{eq:a_nn}\n",
    "\\begin{split}\n",
    "PV &=a_n\\\\\n",
    "&= v+v^2+ ,\\dots, v^n\\\\\n",
    "&=\\sum_{j=1}^{n} v^{\\text{ } j} \\\\\n",
    "&=\\frac{1-v^n}{i}\n",
    "\\end{split}\n",
    "\\end{equation}\n",
    "Lorsque le taux d'intérêt est constant d'une année à l'autre\n"
   ]
  },
  {
   "cell_type": "code",
   "execution_count": null,
   "metadata": {
    "collapsed": true
   },
   "outputs": [],
   "source": [
    "n<-5\n",
    "i<-.025"
   ]
  },
  {
   "cell_type": "code",
   "execution_count": 60,
   "metadata": {},
   "outputs": [
    {
     "data": {
      "text/html": [
       "0.883854287609517"
      ],
      "text/latex": [
       "0.883854287609517"
      ],
      "text/markdown": [
       "0.883854287609517"
      ],
      "text/plain": [
       "[1] 0.8838543"
      ]
     },
     "metadata": {},
     "output_type": "display_data"
    }
   ],
   "source": [
    "vn<-(1+i)**-n\n",
    "vn"
   ]
  },
  {
   "cell_type": "code",
   "execution_count": 63,
   "metadata": {},
   "outputs": [
    {
     "data": {
      "text/html": [
       "4.64582849561931"
      ],
      "text/latex": [
       "4.64582849561931"
      ],
      "text/markdown": [
       "4.64582849561931"
      ],
      "text/plain": [
       "[1] 4.645828"
      ]
     },
     "metadata": {},
     "output_type": "display_data"
    }
   ],
   "source": [
    "PV<-(1-vn)/i\n",
    "PV"
   ]
  },
  {
   "cell_type": "code",
   "execution_count": 64,
   "metadata": {},
   "outputs": [
    {
     "data": {
      "text/html": [
       "711.973216953659"
      ],
      "text/latex": [
       "711.973216953659"
      ],
      "text/markdown": [
       "711.973216953659"
      ],
      "text/plain": [
       "[1] 711.9732"
      ]
     },
     "metadata": {},
     "output_type": "display_data"
    }
   ],
   "source": [
    "pmt*PV"
   ]
  },
  {
   "cell_type": "markdown",
   "metadata": {},
   "source": [
    "# Question"
   ]
  },
  {
   "cell_type": "markdown",
   "metadata": {},
   "source": [
    "on se rappelle du taux _Effective rate of discount_"
   ]
  },
  {
   "cell_type": "markdown",
   "metadata": {},
   "source": [
    "\\begin{equation}\\label{eq:d}\n",
    "d_t=\\frac{a(t)-a(t-1)}{a(t-1)}\n",
    "\\end{equation}\n"
   ]
  },
  {
   "cell_type": "markdown",
   "metadata": {},
   "source": [
    "Le taux _discount_ se calcule avec la fonction suivante:"
   ]
  },
  {
   "cell_type": "markdown",
   "metadata": {},
   "source": [
    "\\begin{equation}\\label{eq:d_i}\n",
    "d=\\frac{i}{1+i}=iv\n",
    "\\end{equation}\n"
   ]
  },
  {
   "cell_type": "markdown",
   "metadata": {},
   "source": [
    "Soit un taux d'intérêt de 5%, quel sera alors de taux de _discount_ avec seulement 6 décimales"
   ]
  },
  {
   "cell_type": "code",
   "execution_count": 70,
   "metadata": {},
   "outputs": [
    {
     "data": {
      "text/html": [
       "0.047619"
      ],
      "text/latex": [
       "0.047619"
      ],
      "text/markdown": [
       "0.047619"
      ],
      "text/plain": [
       "[1] 0.047619"
      ]
     },
     "metadata": {},
     "output_type": "display_data"
    }
   ],
   "source": [
    "i<-.05\n",
    "d<-i/(1+i)\n",
    "round(d,6)"
   ]
  },
  {
   "cell_type": "markdown",
   "metadata": {},
   "source": [
    "# Question"
   ]
  },
  {
   "cell_type": "markdown",
   "metadata": {},
   "source": [
    "Écrivez un code R pour créer la liste suivante :"
   ]
  },
  {
   "cell_type": "code",
   "execution_count": 349,
   "metadata": {},
   "outputs": [
    {
     "data": {
      "text/html": [
       "<dl>\n",
       "\t<dt>$ssd</dt>\n",
       "\t\t<dd><ol class=list-inline>\n",
       "\t<li>256</li>\n",
       "\t<li>128</li>\n",
       "\t<li>512</li>\n",
       "</ol>\n",
       "</dd>\n",
       "\t<dt>$machine</dt>\n",
       "\t\t<dd>'Macbook Pro'</dd>\n",
       "\t<dt>$best</dt>\n",
       "\t\t<dd>TRUE</dd>\n",
       "</dl>\n"
      ],
      "text/latex": [
       "\\begin{description}\n",
       "\\item[\\$ssd] \\begin{enumerate*}\n",
       "\\item 256\n",
       "\\item 128\n",
       "\\item 512\n",
       "\\end{enumerate*}\n",
       "\n",
       "\\item[\\$machine] 'Macbook Pro'\n",
       "\\item[\\$best] TRUE\n",
       "\\end{description}\n"
      ],
      "text/markdown": [
       "$ssd\n",
       ":   1. 256\n",
       "2. 128\n",
       "3. 512\n",
       "\n",
       "\n",
       "\n",
       "$machine\n",
       ":   'Macbook Pro'\n",
       "$best\n",
       ":   TRUE\n",
       "\n",
       "\n"
      ],
      "text/plain": [
       "$ssd\n",
       "[1] 256 128 512\n",
       "\n",
       "$machine\n",
       "[1] \"Macbook Pro\"\n",
       "\n",
       "$best\n",
       "[1] TRUE\n"
      ]
     },
     "metadata": {},
     "output_type": "display_data"
    }
   ],
   "source": [
    "(x <- list(ssd = c(256, 128, 512), machine = \"Macbook Pro\", best = TRUE))"
   ]
  },
  {
   "cell_type": "markdown",
   "metadata": {},
   "source": [
    "Ecrivez un code qui extrait les différente tailles du ssd **seulement**"
   ]
  },
  {
   "cell_type": "code",
   "execution_count": 350,
   "metadata": {},
   "outputs": [
    {
     "data": {
      "text/html": [
       "<ol class=list-inline>\n",
       "\t<li>256</li>\n",
       "\t<li>128</li>\n",
       "\t<li>512</li>\n",
       "</ol>\n"
      ],
      "text/latex": [
       "\\begin{enumerate*}\n",
       "\\item 256\n",
       "\\item 128\n",
       "\\item 512\n",
       "\\end{enumerate*}\n"
      ],
      "text/markdown": [
       "1. 256\n",
       "2. 128\n",
       "3. 512\n",
       "\n",
       "\n"
      ],
      "text/plain": [
       "[1] 256 128 512"
      ]
     },
     "metadata": {},
     "output_type": "display_data"
    }
   ],
   "source": [
    "x[[1]]"
   ]
  },
  {
   "cell_type": "code",
   "execution_count": 351,
   "metadata": {},
   "outputs": [
    {
     "data": {
      "text/html": [
       "<ol class=list-inline>\n",
       "\t<li>256</li>\n",
       "\t<li>128</li>\n",
       "\t<li>512</li>\n",
       "</ol>\n"
      ],
      "text/latex": [
       "\\begin{enumerate*}\n",
       "\\item 256\n",
       "\\item 128\n",
       "\\item 512\n",
       "\\end{enumerate*}\n"
      ],
      "text/markdown": [
       "1. 256\n",
       "2. 128\n",
       "3. 512\n",
       "\n",
       "\n"
      ],
      "text/plain": [
       "[1] 256 128 512"
      ]
     },
     "metadata": {},
     "output_type": "display_data"
    }
   ],
   "source": [
    "x$ssd"
   ]
  },
  {
   "cell_type": "markdown",
   "metadata": {},
   "source": [
    "Extraire les étiquettes de la liste;"
   ]
  },
  {
   "cell_type": "code",
   "execution_count": 352,
   "metadata": {},
   "outputs": [
    {
     "data": {
      "text/html": [
       "<ol class=list-inline>\n",
       "\t<li>'ssd'</li>\n",
       "\t<li>'machine'</li>\n",
       "\t<li>'best'</li>\n",
       "</ol>\n"
      ],
      "text/latex": [
       "\\begin{enumerate*}\n",
       "\\item 'ssd'\n",
       "\\item 'machine'\n",
       "\\item 'best'\n",
       "\\end{enumerate*}\n"
      ],
      "text/markdown": [
       "1. 'ssd'\n",
       "2. 'machine'\n",
       "3. 'best'\n",
       "\n",
       "\n"
      ],
      "text/plain": [
       "[1] \"ssd\"     \"machine\" \"best\"   "
      ]
     },
     "metadata": {},
     "output_type": "display_data"
    }
   ],
   "source": [
    "names(x)"
   ]
  },
  {
   "cell_type": "markdown",
   "metadata": {},
   "source": [
    "Extraire le 3e élément du premier élément de liste:"
   ]
  },
  {
   "cell_type": "code",
   "execution_count": 353,
   "metadata": {},
   "outputs": [
    {
     "data": {
      "text/html": [
       "512"
      ],
      "text/latex": [
       "512"
      ],
      "text/markdown": [
       "512"
      ],
      "text/plain": [
       "[1] 512"
      ]
     },
     "metadata": {},
     "output_type": "display_data"
    }
   ],
   "source": [
    "x[[1]][3]"
   ]
  },
  {
   "cell_type": "markdown",
   "metadata": {},
   "source": [
    "Remplacer le dernier élément par le vecteur `T,F,T`"
   ]
  },
  {
   "cell_type": "code",
   "execution_count": 354,
   "metadata": {
    "collapsed": true
   },
   "outputs": [],
   "source": [
    "x[[3]]<-c(T,F,T)"
   ]
  },
  {
   "cell_type": "code",
   "execution_count": 355,
   "metadata": {},
   "outputs": [
    {
     "data": {
      "text/html": [
       "<dl>\n",
       "\t<dt>$ssd</dt>\n",
       "\t\t<dd><ol class=list-inline>\n",
       "\t<li>256</li>\n",
       "\t<li>128</li>\n",
       "\t<li>512</li>\n",
       "</ol>\n",
       "</dd>\n",
       "\t<dt>$machine</dt>\n",
       "\t\t<dd>'Macbook Pro'</dd>\n",
       "\t<dt>$best</dt>\n",
       "\t\t<dd><ol class=list-inline>\n",
       "\t<li>TRUE</li>\n",
       "\t<li>FALSE</li>\n",
       "\t<li>TRUE</li>\n",
       "</ol>\n",
       "</dd>\n",
       "</dl>\n"
      ],
      "text/latex": [
       "\\begin{description}\n",
       "\\item[\\$ssd] \\begin{enumerate*}\n",
       "\\item 256\n",
       "\\item 128\n",
       "\\item 512\n",
       "\\end{enumerate*}\n",
       "\n",
       "\\item[\\$machine] 'Macbook Pro'\n",
       "\\item[\\$best] \\begin{enumerate*}\n",
       "\\item TRUE\n",
       "\\item FALSE\n",
       "\\item TRUE\n",
       "\\end{enumerate*}\n",
       "\n",
       "\\end{description}\n"
      ],
      "text/markdown": [
       "$ssd\n",
       ":   1. 256\n",
       "2. 128\n",
       "3. 512\n",
       "\n",
       "\n",
       "\n",
       "$machine\n",
       ":   'Macbook Pro'\n",
       "$best\n",
       ":   1. TRUE\n",
       "2. FALSE\n",
       "3. TRUE\n",
       "\n",
       "\n",
       "\n",
       "\n",
       "\n"
      ],
      "text/plain": [
       "$ssd\n",
       "[1] 256 128 512\n",
       "\n",
       "$machine\n",
       "[1] \"Macbook Pro\"\n",
       "\n",
       "$best\n",
       "[1]  TRUE FALSE  TRUE\n"
      ]
     },
     "metadata": {},
     "output_type": "display_data"
    }
   ],
   "source": [
    "x"
   ]
  },
  {
   "cell_type": "markdown",
   "metadata": {},
   "source": [
    "# Question"
   ]
  },
  {
   "cell_type": "markdown",
   "metadata": {},
   "source": [
    "Soit le vecteur suivant:"
   ]
  },
  {
   "cell_type": "code",
   "execution_count": 362,
   "metadata": {},
   "outputs": [
    {
     "data": {
      "text/html": [
       "<ol class=list-inline>\n",
       "\t<li>71</li>\n",
       "\t<li>18</li>\n",
       "\t<li>86</li>\n",
       "\t<li>5</li>\n",
       "\t<li>58</li>\n",
       "\t<li>19</li>\n",
       "\t<li>14</li>\n",
       "\t<li>9</li>\n",
       "\t<li>74</li>\n",
       "\t<li>75</li>\n",
       "\t<li>59</li>\n",
       "\t<li>24</li>\n",
       "\t<li>7</li>\n",
       "\t<li>51</li>\n",
       "\t<li>50</li>\n",
       "\t<li>63</li>\n",
       "\t<li>35</li>\n",
       "\t<li>53</li>\n",
       "\t<li>72</li>\n",
       "\t<li>61</li>\n",
       "</ol>\n"
      ],
      "text/latex": [
       "\\begin{enumerate*}\n",
       "\\item 71\n",
       "\\item 18\n",
       "\\item 86\n",
       "\\item 5\n",
       "\\item 58\n",
       "\\item 19\n",
       "\\item 14\n",
       "\\item 9\n",
       "\\item 74\n",
       "\\item 75\n",
       "\\item 59\n",
       "\\item 24\n",
       "\\item 7\n",
       "\\item 51\n",
       "\\item 50\n",
       "\\item 63\n",
       "\\item 35\n",
       "\\item 53\n",
       "\\item 72\n",
       "\\item 61\n",
       "\\end{enumerate*}\n"
      ],
      "text/markdown": [
       "1. 71\n",
       "2. 18\n",
       "3. 86\n",
       "4. 5\n",
       "5. 58\n",
       "6. 19\n",
       "7. 14\n",
       "8. 9\n",
       "9. 74\n",
       "10. 75\n",
       "11. 59\n",
       "12. 24\n",
       "13. 7\n",
       "14. 51\n",
       "15. 50\n",
       "16. 63\n",
       "17. 35\n",
       "18. 53\n",
       "19. 72\n",
       "20. 61\n",
       "\n",
       "\n"
      ],
      "text/plain": [
       " [1] 71 18 86  5 58 19 14  9 74 75 59 24  7 51 50 63 35 53 72 61"
      ]
     },
     "metadata": {},
     "output_type": "display_data"
    }
   ],
   "source": [
    "x<-c(71,18,86,5,58,19,14,9,74,75,59,24,7,51,50,63,35,53,72,61)\n",
    "x"
   ]
  },
  {
   "cell_type": "markdown",
   "metadata": {},
   "source": [
    "Extraire le 10e élément du vecteur"
   ]
  },
  {
   "cell_type": "code",
   "execution_count": 363,
   "metadata": {},
   "outputs": [
    {
     "data": {
      "text/html": [
       "75"
      ],
      "text/latex": [
       "75"
      ],
      "text/markdown": [
       "75"
      ],
      "text/plain": [
       "[1] 75"
      ]
     },
     "metadata": {},
     "output_type": "display_data"
    }
   ],
   "source": [
    "x[10]"
   ]
  },
  {
   "cell_type": "markdown",
   "metadata": {},
   "source": [
    "Extraire une partie du vecteur allant composé du 1er, 3e, ...., 19e élément"
   ]
  },
  {
   "cell_type": "code",
   "execution_count": 367,
   "metadata": {},
   "outputs": [
    {
     "data": {
      "text/html": [
       "<ol class=list-inline>\n",
       "\t<li>71</li>\n",
       "\t<li>86</li>\n",
       "\t<li>58</li>\n",
       "\t<li>14</li>\n",
       "\t<li>74</li>\n",
       "\t<li>59</li>\n",
       "\t<li>7</li>\n",
       "\t<li>50</li>\n",
       "\t<li>35</li>\n",
       "\t<li>72</li>\n",
       "</ol>\n"
      ],
      "text/latex": [
       "\\begin{enumerate*}\n",
       "\\item 71\n",
       "\\item 86\n",
       "\\item 58\n",
       "\\item 14\n",
       "\\item 74\n",
       "\\item 59\n",
       "\\item 7\n",
       "\\item 50\n",
       "\\item 35\n",
       "\\item 72\n",
       "\\end{enumerate*}\n"
      ],
      "text/markdown": [
       "1. 71\n",
       "2. 86\n",
       "3. 58\n",
       "4. 14\n",
       "5. 74\n",
       "6. 59\n",
       "7. 7\n",
       "8. 50\n",
       "9. 35\n",
       "10. 72\n",
       "\n",
       "\n"
      ],
      "text/plain": [
       " [1] 71 86 58 14 74 59  7 50 35 72"
      ]
     },
     "metadata": {},
     "output_type": "display_data"
    }
   ],
   "source": [
    "x[seq(from = 1, to = 19, by = 2)]"
   ]
  },
  {
   "cell_type": "markdown",
   "metadata": {},
   "source": [
    "Extraire les éléments divisibles par deux (_even numbers_)"
   ]
  },
  {
   "cell_type": "code",
   "execution_count": 371,
   "metadata": {},
   "outputs": [
    {
     "data": {
      "text/html": [
       "<ol class=list-inline>\n",
       "\t<li>18</li>\n",
       "\t<li>86</li>\n",
       "\t<li>58</li>\n",
       "\t<li>14</li>\n",
       "\t<li>74</li>\n",
       "\t<li>24</li>\n",
       "\t<li>50</li>\n",
       "\t<li>72</li>\n",
       "</ol>\n"
      ],
      "text/latex": [
       "\\begin{enumerate*}\n",
       "\\item 18\n",
       "\\item 86\n",
       "\\item 58\n",
       "\\item 14\n",
       "\\item 74\n",
       "\\item 24\n",
       "\\item 50\n",
       "\\item 72\n",
       "\\end{enumerate*}\n"
      ],
      "text/markdown": [
       "1. 18\n",
       "2. 86\n",
       "3. 58\n",
       "4. 14\n",
       "5. 74\n",
       "6. 24\n",
       "7. 50\n",
       "8. 72\n",
       "\n",
       "\n"
      ],
      "text/plain": [
       "[1] 18 86 58 14 74 24 50 72"
      ]
     },
     "metadata": {},
     "output_type": "display_data"
    }
   ],
   "source": [
    "x[x%%2==0]"
   ]
  },
  {
   "cell_type": "markdown",
   "metadata": {},
   "source": [
    "Extraire les éléments non divisibles par deux (_odd numbers_)"
   ]
  },
  {
   "cell_type": "code",
   "execution_count": 372,
   "metadata": {},
   "outputs": [
    {
     "data": {
      "text/html": [
       "<ol class=list-inline>\n",
       "\t<li>71</li>\n",
       "\t<li>5</li>\n",
       "\t<li>19</li>\n",
       "\t<li>9</li>\n",
       "\t<li>75</li>\n",
       "\t<li>59</li>\n",
       "\t<li>7</li>\n",
       "\t<li>51</li>\n",
       "\t<li>63</li>\n",
       "\t<li>35</li>\n",
       "\t<li>53</li>\n",
       "\t<li>61</li>\n",
       "</ol>\n"
      ],
      "text/latex": [
       "\\begin{enumerate*}\n",
       "\\item 71\n",
       "\\item 5\n",
       "\\item 19\n",
       "\\item 9\n",
       "\\item 75\n",
       "\\item 59\n",
       "\\item 7\n",
       "\\item 51\n",
       "\\item 63\n",
       "\\item 35\n",
       "\\item 53\n",
       "\\item 61\n",
       "\\end{enumerate*}\n"
      ],
      "text/markdown": [
       "1. 71\n",
       "2. 5\n",
       "3. 19\n",
       "4. 9\n",
       "5. 75\n",
       "6. 59\n",
       "7. 7\n",
       "8. 51\n",
       "9. 63\n",
       "10. 35\n",
       "11. 53\n",
       "12. 61\n",
       "\n",
       "\n"
      ],
      "text/plain": [
       " [1] 71  5 19  9 75 59  7 51 63 35 53 61"
      ]
     },
     "metadata": {},
     "output_type": "display_data"
    }
   ],
   "source": [
    "x[x%%2!=0]"
   ]
  },
  {
   "cell_type": "markdown",
   "metadata": {},
   "source": [
    "Tous les éléments sauf 3e, 5e et 17e éléments"
   ]
  },
  {
   "cell_type": "code",
   "execution_count": 375,
   "metadata": {},
   "outputs": [
    {
     "data": {
      "text/html": [
       "<ol class=list-inline>\n",
       "\t<li>71</li>\n",
       "\t<li>18</li>\n",
       "\t<li>5</li>\n",
       "\t<li>19</li>\n",
       "\t<li>14</li>\n",
       "\t<li>9</li>\n",
       "\t<li>74</li>\n",
       "\t<li>75</li>\n",
       "\t<li>59</li>\n",
       "\t<li>24</li>\n",
       "\t<li>7</li>\n",
       "\t<li>51</li>\n",
       "\t<li>50</li>\n",
       "\t<li>63</li>\n",
       "\t<li>53</li>\n",
       "\t<li>72</li>\n",
       "\t<li>61</li>\n",
       "</ol>\n"
      ],
      "text/latex": [
       "\\begin{enumerate*}\n",
       "\\item 71\n",
       "\\item 18\n",
       "\\item 5\n",
       "\\item 19\n",
       "\\item 14\n",
       "\\item 9\n",
       "\\item 74\n",
       "\\item 75\n",
       "\\item 59\n",
       "\\item 24\n",
       "\\item 7\n",
       "\\item 51\n",
       "\\item 50\n",
       "\\item 63\n",
       "\\item 53\n",
       "\\item 72\n",
       "\\item 61\n",
       "\\end{enumerate*}\n"
      ],
      "text/markdown": [
       "1. 71\n",
       "2. 18\n",
       "3. 5\n",
       "4. 19\n",
       "5. 14\n",
       "6. 9\n",
       "7. 74\n",
       "8. 75\n",
       "9. 59\n",
       "10. 24\n",
       "11. 7\n",
       "12. 51\n",
       "13. 50\n",
       "14. 63\n",
       "15. 53\n",
       "16. 72\n",
       "17. 61\n",
       "\n",
       "\n"
      ],
      "text/plain": [
       " [1] 71 18  5 19 14  9 74 75 59 24  7 51 50 63 53 72 61"
      ]
     },
     "metadata": {},
     "output_type": "display_data"
    }
   ],
   "source": [
    "x[-c(3, 5, 17)]"
   ]
  },
  {
   "cell_type": "markdown",
   "metadata": {},
   "source": [
    "Dans le vecteur `x`, combien d'éléments sont pairs et combien sont impairs"
   ]
  },
  {
   "cell_type": "code",
   "execution_count": 373,
   "metadata": {},
   "outputs": [
    {
     "data": {
      "text/html": [
       "8"
      ],
      "text/latex": [
       "8"
      ],
      "text/markdown": [
       "8"
      ],
      "text/plain": [
       "[1] 8"
      ]
     },
     "metadata": {},
     "output_type": "display_data"
    }
   ],
   "source": [
    "length(x[x%%2==0])"
   ]
  },
  {
   "cell_type": "code",
   "execution_count": 374,
   "metadata": {},
   "outputs": [
    {
     "data": {
      "text/html": [
       "12"
      ],
      "text/latex": [
       "12"
      ],
      "text/markdown": [
       "12"
      ],
      "text/plain": [
       "[1] 12"
      ]
     },
     "metadata": {},
     "output_type": "display_data"
    }
   ],
   "source": [
    "length(x[x%%2!=0])"
   ]
  },
  {
   "cell_type": "markdown",
   "metadata": {},
   "source": [
    "# Question"
   ]
  },
  {
   "cell_type": "markdown",
   "metadata": {},
   "source": [
    "Soit une matrice 12X7, "
   ]
  },
  {
   "cell_type": "code",
   "execution_count": 56,
   "metadata": {},
   "outputs": [
    {
     "data": {
      "text/html": [
       "<table>\n",
       "<tbody>\n",
       "\t<tr><td>97 </td><td> 55</td><td>61 </td><td>20 </td><td>86 </td><td>87 </td><td>35 </td></tr>\n",
       "\t<tr><td>69 </td><td> 52</td><td>75 </td><td> 9 </td><td>72 </td><td>57 </td><td>43 </td></tr>\n",
       "\t<tr><td>36 </td><td> 23</td><td>30 </td><td>14 </td><td>10 </td><td>78 </td><td>59 </td></tr>\n",
       "\t<tr><td>83 </td><td>100</td><td>85 </td><td>24 </td><td>53 </td><td>40 </td><td> 1 </td></tr>\n",
       "\t<tr><td>84 </td><td>  4</td><td> 6 </td><td>33 </td><td>66 </td><td>91 </td><td>71 </td></tr>\n",
       "\t<tr><td>79 </td><td> 63</td><td>92 </td><td>21 </td><td>62 </td><td>70 </td><td>60 </td></tr>\n",
       "\t<tr><td>38 </td><td> 25</td><td> 3 </td><td> 8 </td><td>74 </td><td>81 </td><td> 5 </td></tr>\n",
       "\t<tr><td>26 </td><td> 46</td><td>64 </td><td>49 </td><td>39 </td><td>17 </td><td>65 </td></tr>\n",
       "\t<tr><td>58 </td><td> 68</td><td>11 </td><td>47 </td><td>54 </td><td>45 </td><td>50 </td></tr>\n",
       "\t<tr><td>95 </td><td> 82</td><td>96 </td><td>29 </td><td>16 </td><td>88 </td><td>37 </td></tr>\n",
       "\t<tr><td>89 </td><td> 93</td><td>34 </td><td>15 </td><td>90 </td><td>32 </td><td>41 </td></tr>\n",
       "\t<tr><td> 2 </td><td> 94</td><td>27 </td><td> 7 </td><td>76 </td><td>51 </td><td>12 </td></tr>\n",
       "</tbody>\n",
       "</table>\n"
      ],
      "text/latex": [
       "\\begin{tabular}{lllllll}\n",
       "\t 97  &  55 & 61  & 20  & 86  & 87  & 35 \\\\\n",
       "\t 69  &  52 & 75  &  9  & 72  & 57  & 43 \\\\\n",
       "\t 36  &  23 & 30  & 14  & 10  & 78  & 59 \\\\\n",
       "\t 83  & 100 & 85  & 24  & 53  & 40  &  1 \\\\\n",
       "\t 84  &   4 &  6  & 33  & 66  & 91  & 71 \\\\\n",
       "\t 79  &  63 & 92  & 21  & 62  & 70  & 60 \\\\\n",
       "\t 38  &  25 &  3  &  8  & 74  & 81  &  5 \\\\\n",
       "\t 26  &  46 & 64  & 49  & 39  & 17  & 65 \\\\\n",
       "\t 58  &  68 & 11  & 47  & 54  & 45  & 50 \\\\\n",
       "\t 95  &  82 & 96  & 29  & 16  & 88  & 37 \\\\\n",
       "\t 89  &  93 & 34  & 15  & 90  & 32  & 41 \\\\\n",
       "\t  2  &  94 & 27  &  7  & 76  & 51  & 12 \\\\\n",
       "\\end{tabular}\n"
      ],
      "text/markdown": [
       "\n",
       "| 97  |  55 | 61  | 20  | 86  | 87  | 35  | \n",
       "| 69  |  52 | 75  |  9  | 72  | 57  | 43  | \n",
       "| 36  |  23 | 30  | 14  | 10  | 78  | 59  | \n",
       "| 83  | 100 | 85  | 24  | 53  | 40  |  1  | \n",
       "| 84  |   4 |  6  | 33  | 66  | 91  | 71  | \n",
       "| 79  |  63 | 92  | 21  | 62  | 70  | 60  | \n",
       "| 38  |  25 |  3  |  8  | 74  | 81  |  5  | \n",
       "| 26  |  46 | 64  | 49  | 39  | 17  | 65  | \n",
       "| 58  |  68 | 11  | 47  | 54  | 45  | 50  | \n",
       "| 95  |  82 | 96  | 29  | 16  | 88  | 37  | \n",
       "| 89  |  93 | 34  | 15  | 90  | 32  | 41  | \n",
       "|  2  |  94 | 27  |  7  | 76  | 51  | 12  | \n",
       "\n",
       "\n"
      ],
      "text/plain": [
       "      [,1] [,2] [,3] [,4] [,5] [,6] [,7]\n",
       " [1,] 97    55  61   20   86   87   35  \n",
       " [2,] 69    52  75    9   72   57   43  \n",
       " [3,] 36    23  30   14   10   78   59  \n",
       " [4,] 83   100  85   24   53   40    1  \n",
       " [5,] 84     4   6   33   66   91   71  \n",
       " [6,] 79    63  92   21   62   70   60  \n",
       " [7,] 38    25   3    8   74   81    5  \n",
       " [8,] 26    46  64   49   39   17   65  \n",
       " [9,] 58    68  11   47   54   45   50  \n",
       "[10,] 95    82  96   29   16   88   37  \n",
       "[11,] 89    93  34   15   90   32   41  \n",
       "[12,]  2    94  27    7   76   51   12  "
      ]
     },
     "metadata": {},
     "output_type": "display_data"
    }
   ],
   "source": [
    "x <- matrix(sample(1:100, 12*7), 12, 7)\n",
    "x"
   ]
  },
  {
   "cell_type": "markdown",
   "metadata": {},
   "source": [
    "extraire l'élément de la 5e ligne et 6e colonne"
   ]
  },
  {
   "cell_type": "code",
   "execution_count": 379,
   "metadata": {},
   "outputs": [
    {
     "data": {
      "text/html": [
       "45"
      ],
      "text/latex": [
       "45"
      ],
      "text/markdown": [
       "45"
      ],
      "text/plain": [
       "[1] 45"
      ]
     },
     "metadata": {},
     "output_type": "display_data"
    }
   ],
   "source": [
    "x[5,6]"
   ]
  },
  {
   "cell_type": "markdown",
   "metadata": {},
   "source": [
    "Extraire tout le contenu de la 3e ligne et la 9 ligne"
   ]
  },
  {
   "cell_type": "code",
   "execution_count": 380,
   "metadata": {},
   "outputs": [
    {
     "data": {
      "text/html": [
       "<table>\n",
       "<tbody>\n",
       "\t<tr><td>96</td><td>87</td><td>17</td><td>77</td><td>86</td><td> 1</td><td>69</td></tr>\n",
       "\t<tr><td>72</td><td> 3</td><td>97</td><td>19</td><td>27</td><td>10</td><td>56</td></tr>\n",
       "</tbody>\n",
       "</table>\n"
      ],
      "text/latex": [
       "\\begin{tabular}{lllllll}\n",
       "\t 96 & 87 & 17 & 77 & 86 &  1 & 69\\\\\n",
       "\t 72 &  3 & 97 & 19 & 27 & 10 & 56\\\\\n",
       "\\end{tabular}\n"
      ],
      "text/markdown": [
       "\n",
       "| 96 | 87 | 17 | 77 | 86 |  1 | 69 | \n",
       "| 72 |  3 | 97 | 19 | 27 | 10 | 56 | \n",
       "\n",
       "\n"
      ],
      "text/plain": [
       "     [,1] [,2] [,3] [,4] [,5] [,6] [,7]\n",
       "[1,] 96   87   17   77   86    1   69  \n",
       "[2,] 72    3   97   19   27   10   56  "
      ]
     },
     "metadata": {},
     "output_type": "display_data"
    }
   ],
   "source": [
    "x[c(3,9),]"
   ]
  },
  {
   "cell_type": "markdown",
   "metadata": {},
   "source": [
    "Extraire **tout** le contenu des colonnes impaires"
   ]
  },
  {
   "cell_type": "code",
   "execution_count": 385,
   "metadata": {},
   "outputs": [
    {
     "data": {
      "text/html": [
       "<table>\n",
       "<tbody>\n",
       "\t<tr><td>40 </td><td>95 </td><td>100</td><td>16 </td></tr>\n",
       "\t<tr><td>47 </td><td>89 </td><td> 62</td><td>43 </td></tr>\n",
       "\t<tr><td>96 </td><td>17 </td><td> 86</td><td>69 </td></tr>\n",
       "\t<tr><td>81 </td><td>23 </td><td> 55</td><td>25 </td></tr>\n",
       "\t<tr><td>63 </td><td>68 </td><td> 88</td><td> 2 </td></tr>\n",
       "\t<tr><td>59 </td><td>51 </td><td> 46</td><td>58 </td></tr>\n",
       "\t<tr><td>31 </td><td>80 </td><td> 83</td><td>39 </td></tr>\n",
       "\t<tr><td>78 </td><td>26 </td><td> 32</td><td>37 </td></tr>\n",
       "\t<tr><td>72 </td><td>97 </td><td> 27</td><td>56 </td></tr>\n",
       "\t<tr><td>98 </td><td>60 </td><td> 90</td><td>64 </td></tr>\n",
       "\t<tr><td>30 </td><td>41 </td><td> 73</td><td>49 </td></tr>\n",
       "\t<tr><td>76 </td><td>48 </td><td> 14</td><td>13 </td></tr>\n",
       "</tbody>\n",
       "</table>\n"
      ],
      "text/latex": [
       "\\begin{tabular}{llll}\n",
       "\t 40  & 95  & 100 & 16 \\\\\n",
       "\t 47  & 89  &  62 & 43 \\\\\n",
       "\t 96  & 17  &  86 & 69 \\\\\n",
       "\t 81  & 23  &  55 & 25 \\\\\n",
       "\t 63  & 68  &  88 &  2 \\\\\n",
       "\t 59  & 51  &  46 & 58 \\\\\n",
       "\t 31  & 80  &  83 & 39 \\\\\n",
       "\t 78  & 26  &  32 & 37 \\\\\n",
       "\t 72  & 97  &  27 & 56 \\\\\n",
       "\t 98  & 60  &  90 & 64 \\\\\n",
       "\t 30  & 41  &  73 & 49 \\\\\n",
       "\t 76  & 48  &  14 & 13 \\\\\n",
       "\\end{tabular}\n"
      ],
      "text/markdown": [
       "\n",
       "| 40  | 95  | 100 | 16  | \n",
       "| 47  | 89  |  62 | 43  | \n",
       "| 96  | 17  |  86 | 69  | \n",
       "| 81  | 23  |  55 | 25  | \n",
       "| 63  | 68  |  88 |  2  | \n",
       "| 59  | 51  |  46 | 58  | \n",
       "| 31  | 80  |  83 | 39  | \n",
       "| 78  | 26  |  32 | 37  | \n",
       "| 72  | 97  |  27 | 56  | \n",
       "| 98  | 60  |  90 | 64  | \n",
       "| 30  | 41  |  73 | 49  | \n",
       "| 76  | 48  |  14 | 13  | \n",
       "\n",
       "\n"
      ],
      "text/plain": [
       "      [,1] [,2] [,3] [,4]\n",
       " [1,] 40   95   100  16  \n",
       " [2,] 47   89    62  43  \n",
       " [3,] 96   17    86  69  \n",
       " [4,] 81   23    55  25  \n",
       " [5,] 63   68    88   2  \n",
       " [6,] 59   51    46  58  \n",
       " [7,] 31   80    83  39  \n",
       " [8,] 78   26    32  37  \n",
       " [9,] 72   97    27  56  \n",
       "[10,] 98   60    90  64  \n",
       "[11,] 30   41    73  49  \n",
       "[12,] 76   48    14  13  "
      ]
     },
     "metadata": {},
     "output_type": "display_data"
    }
   ],
   "source": [
    "x[,c(seq(from = 1, to = 7, by = 2))]"
   ]
  },
  {
   "cell_type": "markdown",
   "metadata": {},
   "source": [
    "# Questions  mathématiques financière"
   ]
  },
  {
   "cell_type": "markdown",
   "metadata": {},
   "source": [
    "\\begin{equation}\\label{eq:relationship}\n",
    "1+i =\\Bigg(1+ \\frac{i^{(m)}}{m} \\Bigg)^m =(1-d)^{-1}=\\Bigg(1- \\frac{d^{(m)}}{m} \\Bigg)^{-m} = e^{\\delta}\n",
    "\\end{equation}"
   ]
  },
  {
   "cell_type": "markdown",
   "metadata": {},
   "source": [
    "## Q1\n",
    "En tenant compte de l'équation (\\ref{eq:relationship}) Quelle est la valeur présente (arrondi à deux décimales) de 1000$ que vous aller recevoir dans 6 et 1/4 avec un taux _effective rate of discount_ de 9.27% par année"
   ]
  },
  {
   "cell_type": "code",
   "execution_count": 393,
   "metadata": {},
   "outputs": [
    {
     "data": {
      "text/html": [
       "544.43"
      ],
      "text/latex": [
       "544.43"
      ],
      "text/markdown": [
       "544.43"
      ],
      "text/plain": [
       "[1] 544.43"
      ]
     },
     "metadata": {},
     "output_type": "display_data"
    }
   ],
   "source": [
    "PV<-round(1000*(1-.0927)^6.25,2)\n",
    "PV"
   ]
  },
  {
   "cell_type": "markdown",
   "metadata": {},
   "source": [
    "## Q2\n",
    "En tenant compte de l'équation (\\ref{eq:relationship}) Quelle est la valeur accumulée (arrondi à deux décimales) de 1300$ que vous aller recevoir dans 10 et 1/2 avec un taux _effective rate of discount_ de 5.3286% par année"
   ]
  },
  {
   "cell_type": "code",
   "execution_count": 22,
   "metadata": {},
   "outputs": [
    {
     "data": {
      "text/html": [
       "2310.18"
      ],
      "text/latex": [
       "2310.18"
      ],
      "text/markdown": [
       "2310.18"
      ],
      "text/plain": [
       "[1] 2310.18"
      ]
     },
     "metadata": {},
     "output_type": "display_data"
    }
   ],
   "source": [
    "PV<-round(1300*(1-.053286)^-10.5,2)\n",
    "PV"
   ]
  },
  {
   "cell_type": "markdown",
   "metadata": {},
   "source": [
    "## Q3\n",
    "En tenant compte de l'équation (\\ref{eq:relationship}) Quelle est la valeur accumulée (arrondi à deux décimales) de 50232$ que vous aller recevoir dans 17 ans avec un taux _nominal rate of interest_ de 13% par année convertible trimestriellement"
   ]
  },
  {
   "cell_type": "code",
   "execution_count": 396,
   "metadata": {},
   "outputs": [
    {
     "data": {
      "text/html": [
       "442083.77"
      ],
      "text/latex": [
       "442083.77"
      ],
      "text/markdown": [
       "442083.77"
      ],
      "text/plain": [
       "[1] 442083.8"
      ]
     },
     "metadata": {},
     "output_type": "display_data"
    }
   ],
   "source": [
    "FV=round(50232*(1+.13/4)^(17*4),2)\n",
    "FV"
   ]
  },
  {
   "cell_type": "markdown",
   "metadata": {},
   "source": [
    "## Q4\n",
    "En tenant compte de l'équation (\\ref{eq:relationship}) Calculer la valeur présente de 82309$ à payer dans 8 ans avec un taux _nominal rate of discount_ de 6% par année composée mensuellement"
   ]
  },
  {
   "cell_type": "code",
   "execution_count": 397,
   "metadata": {},
   "outputs": [
    {
     "data": {
      "text/html": [
       "50870.16"
      ],
      "text/latex": [
       "50870.16"
      ],
      "text/markdown": [
       "50870.16"
      ],
      "text/plain": [
       "[1] 50870.16"
      ]
     },
     "metadata": {},
     "output_type": "display_data"
    }
   ],
   "source": [
    "FV<-round(82309*(1-(.06/12))^(12*8),2)\n",
    "FV"
   ]
  },
  {
   "cell_type": "markdown",
   "metadata": {},
   "source": [
    "## Q4"
   ]
  },
  {
   "cell_type": "markdown",
   "metadata": {},
   "source": [
    "Calculer la valeur présente d'une _annuity-immediate_ avec des paiements de 50$ chaque 6 mois pour 10 ans au taux d'intérêt nominal de 4% composé semi-annuellement:"
   ]
  },
  {
   "cell_type": "code",
   "execution_count": 399,
   "metadata": {},
   "outputs": [
    {
     "data": {
      "text/html": [
       "<ol class=list-inline>\n",
       "\t<li>50</li>\n",
       "\t<li>50</li>\n",
       "\t<li>50</li>\n",
       "\t<li>50</li>\n",
       "\t<li>50</li>\n",
       "\t<li>50</li>\n",
       "\t<li>50</li>\n",
       "\t<li>50</li>\n",
       "\t<li>50</li>\n",
       "\t<li>50</li>\n",
       "\t<li>50</li>\n",
       "\t<li>50</li>\n",
       "\t<li>50</li>\n",
       "\t<li>50</li>\n",
       "\t<li>50</li>\n",
       "\t<li>50</li>\n",
       "\t<li>50</li>\n",
       "\t<li>50</li>\n",
       "\t<li>50</li>\n",
       "\t<li>50</li>\n",
       "</ol>\n"
      ],
      "text/latex": [
       "\\begin{enumerate*}\n",
       "\\item 50\n",
       "\\item 50\n",
       "\\item 50\n",
       "\\item 50\n",
       "\\item 50\n",
       "\\item 50\n",
       "\\item 50\n",
       "\\item 50\n",
       "\\item 50\n",
       "\\item 50\n",
       "\\item 50\n",
       "\\item 50\n",
       "\\item 50\n",
       "\\item 50\n",
       "\\item 50\n",
       "\\item 50\n",
       "\\item 50\n",
       "\\item 50\n",
       "\\item 50\n",
       "\\item 50\n",
       "\\end{enumerate*}\n"
      ],
      "text/markdown": [
       "1. 50\n",
       "2. 50\n",
       "3. 50\n",
       "4. 50\n",
       "5. 50\n",
       "6. 50\n",
       "7. 50\n",
       "8. 50\n",
       "9. 50\n",
       "10. 50\n",
       "11. 50\n",
       "12. 50\n",
       "13. 50\n",
       "14. 50\n",
       "15. 50\n",
       "16. 50\n",
       "17. 50\n",
       "18. 50\n",
       "19. 50\n",
       "20. 50\n",
       "\n",
       "\n"
      ],
      "text/plain": [
       " [1] 50 50 50 50 50 50 50 50 50 50 50 50 50 50 50 50 50 50 50 50"
      ]
     },
     "metadata": {},
     "output_type": "display_data"
    }
   ],
   "source": [
    "pmts<-rep(50, 20)\n",
    "pmts"
   ]
  },
  {
   "cell_type": "code",
   "execution_count": 401,
   "metadata": {},
   "outputs": [
    {
     "data": {
      "text/html": [
       "<ol class=list-inline>\n",
       "\t<li>1</li>\n",
       "\t<li>2</li>\n",
       "\t<li>3</li>\n",
       "\t<li>4</li>\n",
       "\t<li>5</li>\n",
       "\t<li>6</li>\n",
       "\t<li>7</li>\n",
       "\t<li>8</li>\n",
       "\t<li>9</li>\n",
       "\t<li>10</li>\n",
       "\t<li>11</li>\n",
       "\t<li>12</li>\n",
       "\t<li>13</li>\n",
       "\t<li>14</li>\n",
       "\t<li>15</li>\n",
       "\t<li>16</li>\n",
       "\t<li>17</li>\n",
       "\t<li>18</li>\n",
       "\t<li>19</li>\n",
       "\t<li>20</li>\n",
       "</ol>\n"
      ],
      "text/latex": [
       "\\begin{enumerate*}\n",
       "\\item 1\n",
       "\\item 2\n",
       "\\item 3\n",
       "\\item 4\n",
       "\\item 5\n",
       "\\item 6\n",
       "\\item 7\n",
       "\\item 8\n",
       "\\item 9\n",
       "\\item 10\n",
       "\\item 11\n",
       "\\item 12\n",
       "\\item 13\n",
       "\\item 14\n",
       "\\item 15\n",
       "\\item 16\n",
       "\\item 17\n",
       "\\item 18\n",
       "\\item 19\n",
       "\\item 20\n",
       "\\end{enumerate*}\n"
      ],
      "text/markdown": [
       "1. 1\n",
       "2. 2\n",
       "3. 3\n",
       "4. 4\n",
       "5. 5\n",
       "6. 6\n",
       "7. 7\n",
       "8. 8\n",
       "9. 9\n",
       "10. 10\n",
       "11. 11\n",
       "12. 12\n",
       "13. 13\n",
       "14. 14\n",
       "15. 15\n",
       "16. 16\n",
       "17. 17\n",
       "18. 18\n",
       "19. 19\n",
       "20. 20\n",
       "\n",
       "\n"
      ],
      "text/plain": [
       " [1]  1  2  3  4  5  6  7  8  9 10 11 12 13 14 15 16 17 18 19 20"
      ]
     },
     "metadata": {},
     "output_type": "display_data"
    }
   ],
   "source": [
    "actu<-1:20\n",
    "actu"
   ]
  },
  {
   "cell_type": "code",
   "execution_count": 406,
   "metadata": {},
   "outputs": [
    {
     "data": {
      "text/html": [
       "817.571667229856"
      ],
      "text/latex": [
       "817.571667229856"
      ],
      "text/markdown": [
       "817.571667229856"
      ],
      "text/plain": [
       "[1] 817.5717"
      ]
     },
     "metadata": {},
     "output_type": "display_data"
    }
   ],
   "source": [
    "sum(pmts*(1.02)^-actu)"
   ]
  },
  {
   "cell_type": "markdown",
   "metadata": {},
   "source": [
    "# Question probabilité"
   ]
  },
  {
   "cell_type": "markdown",
   "metadata": {
    "collapsed": true
   },
   "source": [
    "## Q1"
   ]
  },
  {
   "cell_type": "markdown",
   "metadata": {},
   "source": [
    "Simuler une des valeurs tirées d'une distribution normale. Imaginez une population dont la taille moyenne est de 1.70m et un écart-type de 0.1m. En utilisant `rnorm` simulez 100 valeurs et sauvegardez cer dernières dans un objet de type vecteur appelé `taille`. \n",
    "\n",
    "**Note** Fixez votre seed à une valeur **123**"
   ]
  },
  {
   "cell_type": "code",
   "execution_count": 12,
   "metadata": {
    "collapsed": true
   },
   "outputs": [],
   "source": [
    "set.seed(123)\n",
    "taille <- rnorm(n = 100, mean = 1.70, sd = .1)"
   ]
  },
  {
   "cell_type": "markdown",
   "metadata": {},
   "source": [
    "Donnez un sommaire des statistiques descriptives du vecteur `taille`"
   ]
  },
  {
   "cell_type": "code",
   "execution_count": 13,
   "metadata": {},
   "outputs": [
    {
     "data": {
      "text/plain": [
       "   Min. 1st Qu.  Median    Mean 3rd Qu.    Max. \n",
       "  1.469   1.651   1.706   1.709   1.769   1.919 "
      ]
     },
     "metadata": {},
     "output_type": "display_data"
    }
   ],
   "source": [
    "summary(taille)"
   ]
  },
  {
   "cell_type": "markdown",
   "metadata": {},
   "source": [
    "## Q2\n",
    "Quelle est la probabilité qu'une personne soir plus petit que 1.90m ? Votre réponse arrondie à deux décimales"
   ]
  },
  {
   "cell_type": "code",
   "execution_count": 14,
   "metadata": {},
   "outputs": [
    {
     "data": {
      "text/html": [
       "0.98"
      ],
      "text/latex": [
       "0.98"
      ],
      "text/markdown": [
       "0.98"
      ],
      "text/plain": [
       "[1] 0.98"
      ]
     },
     "metadata": {},
     "output_type": "display_data"
    }
   ],
   "source": [
    "round(pnorm(1.90, mean = 1.70, sd = .1),2)"
   ]
  },
  {
   "cell_type": "markdown",
   "metadata": {},
   "source": [
    "**Note**"
   ]
  },
  {
   "cell_type": "markdown",
   "metadata": {},
   "source": [
    "Si on veut les formats en pourcentage, on peut utiliser la fonction `percent` du package `formattable`"
   ]
  },
  {
   "cell_type": "code",
   "execution_count": 7,
   "metadata": {},
   "outputs": [
    {
     "name": "stderr",
     "output_type": "stream",
     "text": [
      "Updating HTML index of packages in '.Library'\n",
      "Making 'packages.html' ... done\n"
     ]
    }
   ],
   "source": [
    "install.packages(\"formattable\")"
   ]
  },
  {
   "cell_type": "code",
   "execution_count": 8,
   "metadata": {},
   "outputs": [],
   "source": [
    "library(formattable)"
   ]
  },
  {
   "cell_type": "code",
   "execution_count": 15,
   "metadata": {},
   "outputs": [
    {
     "data": {
      "text/html": [
       "97.72%"
      ],
      "text/latex": [
       "97.72\\%"
      ],
      "text/markdown": [
       "97.72%"
      ],
      "text/plain": [
       "[1] 97.72%"
      ]
     },
     "metadata": {},
     "output_type": "display_data"
    }
   ],
   "source": [
    "percent(pnorm(1.90, mean = 1.70, sd = .1))"
   ]
  },
  {
   "cell_type": "markdown",
   "metadata": {},
   "source": [
    "Quelle est la probabilité que la taille d'une personne soit plus grande que 1.60 m"
   ]
  },
  {
   "cell_type": "code",
   "execution_count": 10,
   "metadata": {},
   "outputs": [
    {
     "data": {
      "text/html": [
       "84.13%"
      ],
      "text/latex": [
       "84.13\\%"
      ],
      "text/markdown": [
       "84.13%"
      ],
      "text/plain": [
       "[1] 84.13%"
      ]
     },
     "metadata": {},
     "output_type": "display_data"
    }
   ],
   "source": [
    "percent(1-pnorm(1.60, mean = 1.70, sd = .1))"
   ]
  },
  {
   "cell_type": "markdown",
   "metadata": {},
   "source": [
    "## Q3"
   ]
  },
  {
   "cell_type": "markdown",
   "metadata": {},
   "source": [
    "Le temps d'attente (en minute) dans une clinique suit une loi exponentielle avec un taux de 1/50. Utiliser la fonction `rexp` afin de simuler les tempes d'attente pour 30 personnes dans cette clinique."
   ]
  },
  {
   "cell_type": "code",
   "execution_count": 16,
   "metadata": {},
   "outputs": [
    {
     "data": {
      "text/html": [
       "<ol class=list-inline>\n",
       "\t<li>42.1728630529201</li>\n",
       "\t<li>28.8305135443807</li>\n",
       "\t<li>66.4527433903372</li>\n",
       "\t<li>1.5788679554156</li>\n",
       "\t<li>2.81054880470037</li>\n",
       "\t<li>15.8250608188855</li>\n",
       "\t<li>15.7113646107649</li>\n",
       "\t<li>7.26334019564092</li>\n",
       "\t<li>136.311823216485</li>\n",
       "\t<li>1.45767235412863</li>\n",
       "\t<li>50.2415028845376</li>\n",
       "\t<li>24.0107363829887</li>\n",
       "\t<li>14.0506813768297</li>\n",
       "\t<li>18.8558915533567</li>\n",
       "\t<li>9.41420204471797</li>\n",
       "\t<li>42.4893064869052</li>\n",
       "\t<li>78.1601769807649</li>\n",
       "\t<li>23.9380208168278</li>\n",
       "\t<li>29.5467417687178</li>\n",
       "\t<li>202.050585568625</li>\n",
       "\t<li>42.1574865566887</li>\n",
       "\t<li>48.2935605549669</li>\n",
       "\t<li>74.2637897009036</li>\n",
       "\t<li>67.4022242871529</li>\n",
       "\t<li>58.4264492129392</li>\n",
       "\t<li>80.2926171529007</li>\n",
       "\t<li>74.8371434355986</li>\n",
       "\t<li>78.5326273447613</li>\n",
       "\t<li>1.5883871980738</li>\n",
       "\t<li>29.8924845643342</li>\n",
       "</ol>\n"
      ],
      "text/latex": [
       "\\begin{enumerate*}\n",
       "\\item 42.1728630529201\n",
       "\\item 28.8305135443807\n",
       "\\item 66.4527433903372\n",
       "\\item 1.5788679554156\n",
       "\\item 2.81054880470037\n",
       "\\item 15.8250608188855\n",
       "\\item 15.7113646107649\n",
       "\\item 7.26334019564092\n",
       "\\item 136.311823216485\n",
       "\\item 1.45767235412863\n",
       "\\item 50.2415028845376\n",
       "\\item 24.0107363829887\n",
       "\\item 14.0506813768297\n",
       "\\item 18.8558915533567\n",
       "\\item 9.41420204471797\n",
       "\\item 42.4893064869052\n",
       "\\item 78.1601769807649\n",
       "\\item 23.9380208168278\n",
       "\\item 29.5467417687178\n",
       "\\item 202.050585568625\n",
       "\\item 42.1574865566887\n",
       "\\item 48.2935605549669\n",
       "\\item 74.2637897009036\n",
       "\\item 67.4022242871529\n",
       "\\item 58.4264492129392\n",
       "\\item 80.2926171529007\n",
       "\\item 74.8371434355986\n",
       "\\item 78.5326273447613\n",
       "\\item 1.5883871980738\n",
       "\\item 29.8924845643342\n",
       "\\end{enumerate*}\n"
      ],
      "text/markdown": [
       "1. 42.1728630529201\n",
       "2. 28.8305135443807\n",
       "3. 66.4527433903372\n",
       "4. 1.5788679554156\n",
       "5. 2.81054880470037\n",
       "6. 15.8250608188855\n",
       "7. 15.7113646107649\n",
       "8. 7.26334019564092\n",
       "9. 136.311823216485\n",
       "10. 1.45767235412863\n",
       "11. 50.2415028845376\n",
       "12. 24.0107363829887\n",
       "13. 14.0506813768297\n",
       "14. 18.8558915533567\n",
       "15. 9.41420204471797\n",
       "16. 42.4893064869052\n",
       "17. 78.1601769807649\n",
       "18. 23.9380208168278\n",
       "19. 29.5467417687178\n",
       "20. 202.050585568625\n",
       "21. 42.1574865566887\n",
       "22. 48.2935605549669\n",
       "23. 74.2637897009036\n",
       "24. 67.4022242871529\n",
       "25. 58.4264492129392\n",
       "26. 80.2926171529007\n",
       "27. 74.8371434355986\n",
       "28. 78.5326273447613\n",
       "29. 1.5883871980738\n",
       "30. 29.8924845643342\n",
       "\n",
       "\n"
      ],
      "text/plain": [
       " [1]  42.172863  28.830514  66.452743   1.578868   2.810549  15.825061\n",
       " [7]  15.711365   7.263340 136.311823   1.457672  50.241503  24.010736\n",
       "[13]  14.050681  18.855892   9.414202  42.489306  78.160177  23.938021\n",
       "[19]  29.546742 202.050586  42.157487  48.293561  74.263790  67.402224\n",
       "[25]  58.426449  80.292617  74.837143  78.532627   1.588387  29.892485"
      ]
     },
     "metadata": {},
     "output_type": "display_data"
    }
   ],
   "source": [
    "set.seed(123)\n",
    "(patients <- rexp(rate = 1/50, n =30))"
   ]
  },
  {
   "cell_type": "markdown",
   "metadata": {},
   "source": [
    "Quelle est la probabilité qu'une personne attende moins que 10 minutes?"
   ]
  },
  {
   "cell_type": "code",
   "execution_count": 18,
   "metadata": {},
   "outputs": [
    {
     "data": {
      "text/html": [
       "18.13%"
      ],
      "text/latex": [
       "18.13\\%"
      ],
      "text/markdown": [
       "18.13%"
      ],
      "text/plain": [
       "[1] 18.13%"
      ]
     },
     "metadata": {},
     "output_type": "display_data"
    }
   ],
   "source": [
    "percent(pexp(q = 10,rate = 1/50))"
   ]
  },
  {
   "cell_type": "markdown",
   "metadata": {},
   "source": [
    "Supposons que la patience des gens atteint sa limite au bout de 60 minutes. Ça veut dire que s'ils attendent plus que 60 minutes, ils quittent la salle.\n",
    "\n",
    "S'il y'a 100 personnes dans la salle, combien vont-ils quitter la salle?"
   ]
  },
  {
   "cell_type": "code",
   "execution_count": 21,
   "metadata": {},
   "outputs": [
    {
     "data": {
      "text/html": [
       "30.12%"
      ],
      "text/latex": [
       "30.12\\%"
      ],
      "text/markdown": [
       "30.12%"
      ],
      "text/plain": [
       "[1] 30.12%"
      ]
     },
     "metadata": {},
     "output_type": "display_data"
    }
   ],
   "source": [
    "percent(1 - pexp(q=60, rate =1/50))"
   ]
  },
  {
   "cell_type": "code",
   "execution_count": null,
   "metadata": {
    "collapsed": true
   },
   "outputs": [],
   "source": []
  }
 ],
 "metadata": {
  "anaconda-cloud": {},
  "kernelspec": {
   "display_name": "R",
   "language": "R",
   "name": "ir"
  },
  "language_info": {
   "codemirror_mode": "r",
   "file_extension": ".r",
   "mimetype": "text/x-r-source",
   "name": "R",
   "pygments_lexer": "r",
   "version": "3.4.3"
  },
  "latex_envs": {
   "LaTeX_envs_menu_present": true,
   "autoclose": false,
   "autocomplete": true,
   "bibliofile": "biblio.bib",
   "cite_by": "apalike",
   "current_citInitial": 1,
   "eqLabelWithNumbers": true,
   "eqNumInitial": 1,
   "hotkeys": {
    "equation": "Ctrl-E",
    "itemize": "Ctrl-I"
   },
   "labels_anchors": false,
   "latex_user_defs": false,
   "report_style_numbering": false,
   "user_envs_cfg": false
  },
  "toc": {
   "base_numbering": 1,
   "nav_menu": {
    "height": "512px",
    "width": "252px"
   },
   "number_sections": true,
   "sideBar": true,
   "skip_h1_title": false,
   "title_cell": "Liste des numéros",
   "title_sidebar": "Contents",
   "toc_cell": true,
   "toc_position": {},
   "toc_section_display": "block",
   "toc_window_display": true
  }
 },
 "nbformat": 4,
 "nbformat_minor": 1
}
