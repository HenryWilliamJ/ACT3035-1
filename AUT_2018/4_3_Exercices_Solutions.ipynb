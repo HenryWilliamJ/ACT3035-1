{
 "cells": [
  {
   "cell_type": "code",
   "execution_count": 21,
   "metadata": {},
   "outputs": [],
   "source": [
    "library(stringr)"
   ]
  },
  {
   "cell_type": "markdown",
   "metadata": {},
   "source": [
    "# no 1\n",
    "Créer n'importe quuel fichier sur votre répertoire de travail et vérifier s'il existe.\n",
    "\n",
    "**Note** ce numéros sert juste à pratiquer `file.create` et `file.exists`."
   ]
  },
  {
   "cell_type": "code",
   "execution_count": 1,
   "metadata": {},
   "outputs": [
    {
     "data": {
      "text/html": [
       "TRUE"
      ],
      "text/latex": [
       "TRUE"
      ],
      "text/markdown": [
       "TRUE"
      ],
      "text/plain": [
       "[1] TRUE"
      ]
     },
     "metadata": {},
     "output_type": "display_data"
    }
   ],
   "source": [
    "file.create(\"vide.txt\")"
   ]
  },
  {
   "cell_type": "code",
   "execution_count": 3,
   "metadata": {},
   "outputs": [
    {
     "data": {
      "text/html": [
       "TRUE"
      ],
      "text/latex": [
       "TRUE"
      ],
      "text/markdown": [
       "TRUE"
      ],
      "text/plain": [
       "[1] TRUE"
      ]
     },
     "metadata": {},
     "output_type": "display_data"
    }
   ],
   "source": [
    "file.exists(\"vide.txt\")"
   ]
  },
  {
   "cell_type": "code",
   "execution_count": 4,
   "metadata": {},
   "outputs": [
    {
     "data": {
      "text/html": [
       "FALSE"
      ],
      "text/latex": [
       "FALSE"
      ],
      "text/markdown": [
       "FALSE"
      ],
      "text/plain": [
       "[1] FALSE"
      ]
     },
     "metadata": {},
     "output_type": "display_data"
    }
   ],
   "source": [
    "file.exists(\"vide.csv\")"
   ]
  },
  {
   "cell_type": "markdown",
   "metadata": {},
   "source": [
    "# no 2"
   ]
  },
  {
   "cell_type": "markdown",
   "metadata": {},
   "source": [
    "\n",
    "Créez une variable qui représente votre date de naissance appelée date_naiss.\n"
   ]
  },
  {
   "cell_type": "code",
   "execution_count": 74,
   "metadata": {},
   "outputs": [
    {
     "data": {
      "text/html": [
       "<time datetime=\"1990-10-16\">1990-10-16</time>"
      ],
      "text/latex": [
       "1990-10-16"
      ],
      "text/markdown": [
       "1990-10-16"
      ],
      "text/plain": [
       "[1] \"1990-10-16\""
      ]
     },
     "metadata": {},
     "output_type": "display_data"
    }
   ],
   "source": [
    "date_naiss<-ymd('1990-10-16')\n",
    "date_naiss"
   ]
  },
  {
   "cell_type": "markdown",
   "metadata": {},
   "source": [
    "Quelle est la date d'aujourd'hui?"
   ]
  },
  {
   "cell_type": "code",
   "execution_count": 75,
   "metadata": {},
   "outputs": [
    {
     "data": {
      "text/html": [
       "<time datetime=\"2018-09-30\">2018-09-30</time>"
      ],
      "text/latex": [
       "2018-09-30"
      ],
      "text/markdown": [
       "2018-09-30"
      ],
      "text/plain": [
       "[1] \"2018-09-30\""
      ]
     },
     "metadata": {},
     "output_type": "display_data"
    }
   ],
   "source": [
    "auj=Sys.Date()\n",
    "auj"
   ]
  },
  {
   "cell_type": "markdown",
   "metadata": {},
   "source": [
    "Quelle jour de semaine vous êtes né?"
   ]
  },
  {
   "cell_type": "code",
   "execution_count": null,
   "metadata": {
    "collapsed": true
   },
   "outputs": [],
   "source": [
    "weekdays(date_naiss)"
   ]
  },
  {
   "cell_type": "markdown",
   "metadata": {},
   "source": [
    "Affichez le résultat en espagnole"
   ]
  },
  {
   "cell_type": "code",
   "execution_count": null,
   "metadata": {
    "collapsed": true
   },
   "outputs": [],
   "source": [
    "Sys.setlocale(locale=\"es_ES.UTF-8\")"
   ]
  },
  {
   "cell_type": "code",
   "execution_count": null,
   "metadata": {
    "collapsed": true
   },
   "outputs": [],
   "source": [
    "weekdays(date_naiss)"
   ]
  },
  {
   "cell_type": "markdown",
   "metadata": {},
   "source": [
    "Remettre votre ordi en Français"
   ]
  },
  {
   "cell_type": "code",
   "execution_count": null,
   "metadata": {
    "collapsed": true
   },
   "outputs": [],
   "source": [
    "Sys.setlocale(locale=\"fr_FR.UTF-8\")"
   ]
  },
  {
   "cell_type": "markdown",
   "metadata": {},
   "source": [
    "# no 3"
   ]
  },
  {
   "cell_type": "markdown",
   "metadata": {},
   "source": [
    "Afin de remercier vos collègues de travail de leur présence à votre première formation que vous avez donné, vous décidez de leur envoyer un message de remerciemenets. Toutefois, vous voulez ajouter votre touche personnelle en écrivant un émail à chaucun de vos collègues. en mentionnant leur prénoms à l'entête de du message. \n",
    "\n",
    "Votre message ressmble à ceci:\n",
    "___\n",
    "```\n",
    "Chèr \"prénom\", \n",
    "\n",
    "Un petit mot pour vous dire merci. Merci d’avoir contribué à la réussite de ma première présentation.\n",
    "\n",
    "À bientôt!\n",
    "\n",
    "```\n",
    "___"
   ]
  },
  {
   "cell_type": "markdown",
   "metadata": {},
   "source": [
    "Toutefois, vous vous rendez compte qu'il faut accorder le mot \"chèr\" au masculin ou au féminin selon le sexe de votre collègue. Vous ne voulez certainement pas perdre votre temps à le faire manuellement, alors vous confiez la tâche à votre bel ordinateur qui comprends bien le langage `R`!"
   ]
  },
  {
   "cell_type": "code",
   "execution_count": 52,
   "metadata": {},
   "outputs": [],
   "source": [
    "a<-read.csv(\"https://raw.githubusercontent.com/nmeraihi/data/master/coll%C3%A8gues.csv\")"
   ]
  },
  {
   "cell_type": "code",
   "execution_count": 53,
   "metadata": {},
   "outputs": [
    {
     "data": {
      "text/html": [
       "<table>\n",
       "<thead><tr><th></th><th scope=col>birthdate</th><th scope=col>PrenomNom</th><th scope=col>sex</th></tr></thead>\n",
       "<tbody>\n",
       "\t<tr><th scope=row>66</th><td>1983-08-04             </td><td>Sabine Lejeune         </td><td>F                      </td></tr>\n",
       "\t<tr><th scope=row>67</th><td>1995-05-24             </td><td>Timothée Marchand      </td><td>M                      </td></tr>\n",
       "\t<tr><th scope=row>68</th><td>1990-06-05             </td><td>Sylvie Roux-Delattre   </td><td>F                      </td></tr>\n",
       "\t<tr><th scope=row>69</th><td>1985-02-14             </td><td>Patrick-Daniel Barre   </td><td>M                      </td></tr>\n",
       "\t<tr><th scope=row>70</th><td>1981-02-20             </td><td>Laurent Lacombe-Lecomte</td><td>M                      </td></tr>\n",
       "\t<tr><th scope=row>71</th><td>1990-03-08             </td><td>Marcel David           </td><td>M                      </td></tr>\n",
       "</tbody>\n",
       "</table>\n"
      ],
      "text/latex": [
       "\\begin{tabular}{r|lll}\n",
       "  & birthdate & PrenomNom & sex\\\\\n",
       "\\hline\n",
       "\t66 & 1983-08-04              & Sabine Lejeune          & F                      \\\\\n",
       "\t67 & 1995-05-24              & Timothée Marchand       & M                      \\\\\n",
       "\t68 & 1990-06-05              & Sylvie Roux-Delattre    & F                      \\\\\n",
       "\t69 & 1985-02-14              & Patrick-Daniel Barre    & M                      \\\\\n",
       "\t70 & 1981-02-20              & Laurent Lacombe-Lecomte & M                      \\\\\n",
       "\t71 & 1990-03-08              & Marcel David            & M                      \\\\\n",
       "\\end{tabular}\n"
      ],
      "text/markdown": [
       "\n",
       "| <!--/--> | birthdate | PrenomNom | sex | \n",
       "|---|---|---|---|---|---|\n",
       "| 66 | 1983-08-04              | Sabine Lejeune          | F                       | \n",
       "| 67 | 1995-05-24              | Timothée Marchand       | M                       | \n",
       "| 68 | 1990-06-05              | Sylvie Roux-Delattre    | F                       | \n",
       "| 69 | 1985-02-14              | Patrick-Daniel Barre    | M                       | \n",
       "| 70 | 1981-02-20              | Laurent Lacombe-Lecomte | M                       | \n",
       "| 71 | 1990-03-08              | Marcel David            | M                       | \n",
       "\n",
       "\n"
      ],
      "text/plain": [
       "   birthdate  PrenomNom               sex\n",
       "66 1983-08-04 Sabine Lejeune          F  \n",
       "67 1995-05-24 Timothée Marchand       M  \n",
       "68 1990-06-05 Sylvie Roux-Delattre    F  \n",
       "69 1985-02-14 Patrick-Daniel Barre    M  \n",
       "70 1981-02-20 Laurent Lacombe-Lecomte M  \n",
       "71 1990-03-08 Marcel David            M  "
      ]
     },
     "metadata": {},
     "output_type": "display_data"
    }
   ],
   "source": [
    "tail(a)"
   ]
  },
  {
   "cell_type": "code",
   "execution_count": 54,
   "metadata": {},
   "outputs": [],
   "source": [
    "library(stringr)"
   ]
  },
  {
   "cell_type": "code",
   "execution_count": 55,
   "metadata": {},
   "outputs": [],
   "source": [
    "a$prenom<- str_split_fixed(a$PrenomNom, \" \", 2)[,1]\n",
    "a$nom<- str_split_fixed(a$PrenomNom, \" \", 2)[,2]"
   ]
  },
  {
   "cell_type": "code",
   "execution_count": 56,
   "metadata": {},
   "outputs": [
    {
     "data": {
      "text/html": [
       "<table>\n",
       "<thead><tr><th scope=col>birthdate</th><th scope=col>PrenomNom</th><th scope=col>sex</th><th scope=col>prenom</th><th scope=col>nom</th></tr></thead>\n",
       "<tbody>\n",
       "\t<tr><td>1985-07-02                </td><td>Anaïs-Adrienne Launay     </td><td>F                         </td><td>Anaïs-Adrienne            </td><td>Launay                    </td></tr>\n",
       "\t<tr><td>1994-11-11                </td><td>Benjamin Delmas de la Gros</td><td>M                         </td><td>Benjamin                  </td><td>Delmas de la Gros         </td></tr>\n",
       "\t<tr><td>1991-03-20                </td><td>Laurence Lucas            </td><td>F                         </td><td>Laurence                  </td><td>Lucas                     </td></tr>\n",
       "\t<tr><td>1993-12-01                </td><td>Philippine Laurent        </td><td>F                         </td><td>Philippine                </td><td>Laurent                   </td></tr>\n",
       "\t<tr><td>1984-03-22                </td><td>Louise Paris              </td><td>F                         </td><td>Louise                    </td><td>Paris                     </td></tr>\n",
       "\t<tr><td>1976-07-29                </td><td>André Joly                </td><td>M                         </td><td>André                     </td><td>Joly                      </td></tr>\n",
       "</tbody>\n",
       "</table>\n"
      ],
      "text/latex": [
       "\\begin{tabular}{r|lllll}\n",
       " birthdate & PrenomNom & sex & prenom & nom\\\\\n",
       "\\hline\n",
       "\t 1985-07-02                 & Anaïs-Adrienne Launay      & F                          & Anaïs-Adrienne             & Launay                    \\\\\n",
       "\t 1994-11-11                 & Benjamin Delmas de la Gros & M                          & Benjamin                   & Delmas de la Gros         \\\\\n",
       "\t 1991-03-20                 & Laurence Lucas             & F                          & Laurence                   & Lucas                     \\\\\n",
       "\t 1993-12-01                 & Philippine Laurent         & F                          & Philippine                 & Laurent                   \\\\\n",
       "\t 1984-03-22                 & Louise Paris               & F                          & Louise                     & Paris                     \\\\\n",
       "\t 1976-07-29                 & André Joly                 & M                          & André                      & Joly                      \\\\\n",
       "\\end{tabular}\n"
      ],
      "text/markdown": [
       "\n",
       "birthdate | PrenomNom | sex | prenom | nom | \n",
       "|---|---|---|---|---|---|\n",
       "| 1985-07-02                 | Anaïs-Adrienne Launay      | F                          | Anaïs-Adrienne             | Launay                     | \n",
       "| 1994-11-11                 | Benjamin Delmas de la Gros | M                          | Benjamin                   | Delmas de la Gros          | \n",
       "| 1991-03-20                 | Laurence Lucas             | F                          | Laurence                   | Lucas                      | \n",
       "| 1993-12-01                 | Philippine Laurent         | F                          | Philippine                 | Laurent                    | \n",
       "| 1984-03-22                 | Louise Paris               | F                          | Louise                     | Paris                      | \n",
       "| 1976-07-29                 | André Joly                 | M                          | André                      | Joly                       | \n",
       "\n",
       "\n"
      ],
      "text/plain": [
       "  birthdate  PrenomNom                  sex prenom         nom              \n",
       "1 1985-07-02 Anaïs-Adrienne Launay      F   Anaïs-Adrienne Launay           \n",
       "2 1994-11-11 Benjamin Delmas de la Gros M   Benjamin       Delmas de la Gros\n",
       "3 1991-03-20 Laurence Lucas             F   Laurence       Lucas            \n",
       "4 1993-12-01 Philippine Laurent         F   Philippine     Laurent          \n",
       "5 1984-03-22 Louise Paris               F   Louise         Paris            \n",
       "6 1976-07-29 André Joly                 M   André          Joly             "
      ]
     },
     "metadata": {},
     "output_type": "display_data"
    }
   ],
   "source": [
    "head(a)"
   ]
  },
  {
   "cell_type": "code",
   "execution_count": 57,
   "metadata": {},
   "outputs": [],
   "source": [
    "a$forme_mas_fem<-ifelse(a$sex==\"F\", paste(\"Chère\", a$prenom, \",\"), paste(\"Chèr\", a$prenom, \",\", sep = \" \"))"
   ]
  },
  {
   "cell_type": "code",
   "execution_count": 58,
   "metadata": {},
   "outputs": [],
   "source": [
    "a$message<-paste(a$forme, \n",
    "                 \"Un petit mot pour vous dire merci. Merci d’avoir contribué à la réussite de ma première présentation.\",\n",
    "                \"À bientôt!\",sep=\"\\n\")"
   ]
  },
  {
   "cell_type": "code",
   "execution_count": 59,
   "metadata": {},
   "outputs": [
    {
     "name": "stdout",
     "output_type": "stream",
     "text": [
      "[1] \"Chère Anaïs-Adrienne ,\\nUn petit mot pour vous dire merci. Merci d’avoir contribué à la réussite de ma première présentation.\\nÀ bientôt!\"\n",
      "[2] \"Chèr Benjamin ,\\nUn petit mot pour vous dire merci. Merci d’avoir contribué à la réussite de ma première présentation.\\nÀ bientôt!\"       \n",
      "[3] \"Chère Laurence ,\\nUn petit mot pour vous dire merci. Merci d’avoir contribué à la réussite de ma première présentation.\\nÀ bientôt!\"      \n",
      "[4] \"Chère Philippine ,\\nUn petit mot pour vous dire merci. Merci d’avoir contribué à la réussite de ma première présentation.\\nÀ bientôt!\"    \n",
      "[5] \"Chère Louise ,\\nUn petit mot pour vous dire merci. Merci d’avoir contribué à la réussite de ma première présentation.\\nÀ bientôt!\"        \n",
      "[6] \"Chèr André ,\\nUn petit mot pour vous dire merci. Merci d’avoir contribué à la réussite de ma première présentation.\\nÀ bientôt!\"          \n"
     ]
    }
   ],
   "source": [
    "print(head(a$message))"
   ]
  },
  {
   "cell_type": "markdown",
   "metadata": {},
   "source": [
    "Lorsqu'on affiche le message qui doit être envoyé à chaque collègue, on remarque:\n",
    "* Les charactères `\\n` permettent de créer un saut de ligne dans le paragraphe lorsque ce dernier est écrirt dans un fichier `.txt`\n",
    "* On remarque aussi que nous nous adresson bien à nos collègues féminis par `Chère` (Chère Anaïs-Adrienne) alors que les collègues masculins par `Chèr` (Chèr André).\n"
   ]
  },
  {
   "cell_type": "markdown",
   "metadata": {},
   "source": [
    "# no 4\n",
    "À partir du fichier csv précédent, calculez l'âge pour chaucne des lignes avec les deux méthodes décrite ci-dessous."
   ]
  },
  {
   "cell_type": "markdown",
   "metadata": {},
   "source": [
    "## calculé\n",
    "Dans la plupart du temps, l'âge peut se calculer comme suit:\n",
    "$$\n",
    "\\frac{(\\text{date d'aujourd'hui}) -(\\text{date de naissance})}{365.25}\n",
    "$$"
   ]
  },
  {
   "cell_type": "markdown",
   "metadata": {},
   "source": [
    "Nous avons appris à créer des fonctions, à partir de la formule précédente, créer une fonction appelé `age` qui calclule l'âge d'une personne. Cette fonction prends comme argument la date de naissance et la date courante. Par défaut, la date de naissance est 1970-01-01 et la date courante est la date d'aujourd'hui"
   ]
  },
  {
   "cell_type": "code",
   "execution_count": 30,
   "metadata": {},
   "outputs": [],
   "source": [
    "library(lubridate)"
   ]
  },
  {
   "cell_type": "code",
   "execution_count": 69,
   "metadata": {},
   "outputs": [],
   "source": [
    "date_naiss=ymd('1992-01-01')\n",
    "date_cour=Sys.Date()"
   ]
  },
  {
   "cell_type": "code",
   "execution_count": 45,
   "metadata": {},
   "outputs": [],
   "source": [
    "age<-function(date_naiss=ymd('1970-01-01'), date_cour=Sys.Date()){\n",
    "    return(as.numeric((date_cour-date_naiss)/365.25))\n",
    "}"
   ]
  },
  {
   "cell_type": "code",
   "execution_count": 46,
   "metadata": {},
   "outputs": [
    {
     "data": {
      "text/html": [
       "26.7460643394935"
      ],
      "text/latex": [
       "26.7460643394935"
      ],
      "text/markdown": [
       "26.7460643394935"
      ],
      "text/plain": [
       "[1] 26.74606"
      ]
     },
     "metadata": {},
     "output_type": "display_data"
    }
   ],
   "source": [
    "age(date_naiss, date_cour)"
   ]
  },
  {
   "cell_type": "markdown",
   "metadata": {},
   "source": [
    "\n",
    "Améliorez notre fonction âge avec une validation que les arguments entrés sont bien des dates"
   ]
  },
  {
   "cell_type": "markdown",
   "metadata": {},
   "source": [
    "D'abbord vérifions la condition;"
   ]
  },
  {
   "cell_type": "code",
   "execution_count": 47,
   "metadata": {},
   "outputs": [
    {
     "data": {
      "text/html": [
       "TRUE"
      ],
      "text/latex": [
       "TRUE"
      ],
      "text/markdown": [
       "TRUE"
      ],
      "text/plain": [
       "[1] TRUE"
      ]
     },
     "metadata": {},
     "output_type": "display_data"
    }
   ],
   "source": [
    "is.Date(date_naiss) && is.Date(date_cour)"
   ]
  },
  {
   "cell_type": "markdown",
   "metadata": {},
   "source": [
    "ensuite nous pouvons insérer"
   ]
  },
  {
   "cell_type": "code",
   "execution_count": 48,
   "metadata": {},
   "outputs": [],
   "source": [
    "age<-function(date_naiss=ymd('1970-01-01'), date_cour=Sys.Date()){\n",
    "    if (is.Date(date_naiss) && is.Date(date_cour)){\n",
    "    return(as.numeric((date_cour-date_naiss)/365.25))\n",
    "        }\n",
    "}"
   ]
  },
  {
   "cell_type": "code",
   "execution_count": 49,
   "metadata": {},
   "outputs": [
    {
     "data": {
      "text/html": [
       "26.7460643394935"
      ],
      "text/latex": [
       "26.7460643394935"
      ],
      "text/markdown": [
       "26.7460643394935"
      ],
      "text/plain": [
       "[1] 26.74606"
      ]
     },
     "metadata": {},
     "output_type": "display_data"
    }
   ],
   "source": [
    "age(date_naiss, date_cour)"
   ]
  },
  {
   "cell_type": "markdown",
   "metadata": {},
   "source": [
    "À partir des données de l'exercice précédent (no3), créez une variole appelée age_collegues qui calcule l'âge de vos collègues avec votre nouvelle fonction que vous venez de créer:"
   ]
  },
  {
   "cell_type": "code",
   "execution_count": 63,
   "metadata": {},
   "outputs": [],
   "source": [
    "a$age_collegues<-round(age(date_cour =Sys.Date() , date_naiss = as.Date(a$birthdate)))"
   ]
  },
  {
   "cell_type": "markdown",
   "metadata": {},
   "source": [
    "S'il est plus grand que vous de 3 ans et plus, vous le vouvoyez. Sinon vous ne vous gênez pas de le tutoyer. Puisque nous avons déjà le message, nous pouvons juste modifier ce message en change le `vous` par `tu` lorsque `age_collegues-mon_age>=3` avec la fonction `gsub`."
   ]
  },
  {
   "cell_type": "code",
   "execution_count": 100,
   "metadata": {},
   "outputs": [
    {
     "data": {
      "text/html": [
       "28"
      ],
      "text/latex": [
       "28"
      ],
      "text/markdown": [
       "28"
      ],
      "text/plain": [
       "[1] 28"
      ]
     },
     "metadata": {},
     "output_type": "display_data"
    }
   ],
   "source": [
    "mon_age=age(date_naiss,auj)\n",
    "round(mon_age,0)"
   ]
  },
  {
   "cell_type": "code",
   "execution_count": 98,
   "metadata": {},
   "outputs": [],
   "source": [
    "a$message_poli <- ifelse(a$age_collegues-round(mon_age,0)<3,\n",
    "       a$message_poli <- gsub(x=a$message,pattern = \"vous\", replacement = \"te\"),\n",
    "       a$message_poli <- a$message)"
   ]
  },
  {
   "cell_type": "code",
   "execution_count": 99,
   "metadata": {},
   "outputs": [
    {
     "data": {
      "text/html": [
       "<table>\n",
       "<thead><tr><th scope=col>birthdate</th><th scope=col>PrenomNom</th><th scope=col>sex</th><th scope=col>prenom</th><th scope=col>nom</th><th scope=col>forme_mas_fem</th><th scope=col>message</th><th scope=col>age_birth</th><th scope=col>age_collegues</th><th scope=col>message_poli</th></tr></thead>\n",
       "<tbody>\n",
       "\t<tr><td>1985-07-02                                                                                                                               </td><td>Anaïs-Adrienne Launay                                                                                                                    </td><td>F                                                                                                                                        </td><td>Anaïs-Adrienne                                                                                                                           </td><td>Launay                                                                                                                                   </td><td>Chère Anaïs-Adrienne ,                                                                                                                   </td><td>Chère Anaïs-Adrienne ,\n",
       "Un petit mot pour vous dire merci. Merci d’avoir contribué à la réussite de ma première présentation.\n",
       "À bientôt!</td><td>33                                                                                                                                       </td><td>33                                                                                                                                       </td><td>Chère Anaïs-Adrienne ,\n",
       "Un petit mot pour vous dire merci. Merci d’avoir contribué à la réussite de ma première présentation.\n",
       "À bientôt!</td></tr>\n",
       "\t<tr><td>1994-11-11                                                                                                                               </td><td>Benjamin Delmas de la Gros                                                                                                               </td><td>M                                                                                                                                        </td><td>Benjamin                                                                                                                                 </td><td>Delmas de la Gros                                                                                                                        </td><td>Chèr Benjamin ,                                                                                                                          </td><td>Chèr Benjamin ,\n",
       "Un petit mot pour vous dire merci. Merci d’avoir contribué à la réussite de ma première présentation.\n",
       "À bientôt!       </td><td>24                                                                                                                                       </td><td>24                                                                                                                                       </td><td>Chèr Benjamin ,\n",
       "Un petit mot pour te dire merci. Merci d’avoir contribué à la réussite de ma première présentation.\n",
       "À bientôt!         </td></tr>\n",
       "</tbody>\n",
       "</table>\n"
      ],
      "text/latex": [
       "\\begin{tabular}{r|llllllllll}\n",
       " birthdate & PrenomNom & sex & prenom & nom & forme\\_mas\\_fem & message & age\\_birth & age\\_collegues & message\\_poli\\\\\n",
       "\\hline\n",
       "\t 1985-07-02                                                                                                                                & Anaïs-Adrienne Launay                                                                                                                     & F                                                                                                                                         & Anaïs-Adrienne                                                                                                                            & Launay                                                                                                                                    & Chère Anaïs-Adrienne ,                                                                                                                    & Chère Anaïs-Adrienne ,\n",
       "Un petit mot pour vous dire merci. Merci d’avoir contribué à la réussite de ma première présentation.\n",
       "À bientôt! & 33                                                                                                                                        & 33                                                                                                                                        & Chère Anaïs-Adrienne ,\n",
       "Un petit mot pour vous dire merci. Merci d’avoir contribué à la réussite de ma première présentation.\n",
       "À bientôt!\\\\\n",
       "\t 1994-11-11                                                                                                                                & Benjamin Delmas de la Gros                                                                                                                & M                                                                                                                                         & Benjamin                                                                                                                                  & Delmas de la Gros                                                                                                                         & Chèr Benjamin ,                                                                                                                           & Chèr Benjamin ,\n",
       "Un petit mot pour vous dire merci. Merci d’avoir contribué à la réussite de ma première présentation.\n",
       "À bientôt!        & 24                                                                                                                                        & 24                                                                                                                                        & Chèr Benjamin ,\n",
       "Un petit mot pour te dire merci. Merci d’avoir contribué à la réussite de ma première présentation.\n",
       "À bientôt!         \\\\\n",
       "\\end{tabular}\n"
      ],
      "text/markdown": [
       "\n",
       "birthdate | PrenomNom | sex | prenom | nom | forme_mas_fem | message | age_birth | age_collegues | message_poli | \n",
       "|---|---|\n",
       "| 1985-07-02                                                                                                                                | Anaïs-Adrienne Launay                                                                                                                     | F                                                                                                                                         | Anaïs-Adrienne                                                                                                                            | Launay                                                                                                                                    | Chère Anaïs-Adrienne ,                                                                                                                    | Chère Anaïs-Adrienne ,\n",
       "Un petit mot pour vous dire merci. Merci d’avoir contribué à la réussite de ma première présentation.\n",
       "À bientôt! | 33                                                                                                                                        | 33                                                                                                                                        | Chère Anaïs-Adrienne ,\n",
       "Un petit mot pour vous dire merci. Merci d’avoir contribué à la réussite de ma première présentation.\n",
       "À bientôt! | \n",
       "| 1994-11-11                                                                                                                                | Benjamin Delmas de la Gros                                                                                                                | M                                                                                                                                         | Benjamin                                                                                                                                  | Delmas de la Gros                                                                                                                         | Chèr Benjamin ,                                                                                                                           | Chèr Benjamin ,\n",
       "Un petit mot pour vous dire merci. Merci d’avoir contribué à la réussite de ma première présentation.\n",
       "À bientôt!        | 24                                                                                                                                        | 24                                                                                                                                        | Chèr Benjamin ,\n",
       "Un petit mot pour te dire merci. Merci d’avoir contribué à la réussite de ma première présentation.\n",
       "À bientôt!          | \n",
       "\n",
       "\n"
      ],
      "text/plain": [
       "  birthdate  PrenomNom                  sex prenom         nom              \n",
       "1 1985-07-02 Anaïs-Adrienne Launay      F   Anaïs-Adrienne Launay           \n",
       "2 1994-11-11 Benjamin Delmas de la Gros M   Benjamin       Delmas de la Gros\n",
       "  forme_mas_fem         \n",
       "1 Chère Anaïs-Adrienne ,\n",
       "2 Chèr Benjamin ,       \n",
       "  message                                                                                                                                  \n",
       "1 Chère Anaïs-Adrienne ,\\nUn petit mot pour vous dire merci. Merci d’avoir contribué à la réussite de ma première présentation.\\nÀ bientôt!\n",
       "2 Chèr Benjamin ,\\nUn petit mot pour vous dire merci. Merci d’avoir contribué à la réussite de ma première présentation.\\nÀ bientôt!       \n",
       "  age_birth age_collegues\n",
       "1 33        33           \n",
       "2 24        24           \n",
       "  message_poli                                                                                                                             \n",
       "1 Chère Anaïs-Adrienne ,\\nUn petit mot pour vous dire merci. Merci d’avoir contribué à la réussite de ma première présentation.\\nÀ bientôt!\n",
       "2 Chèr Benjamin ,\\nUn petit mot pour te dire merci. Merci d’avoir contribué à la réussite de ma première présentation.\\nÀ bientôt!         "
      ]
     },
     "metadata": {},
     "output_type": "display_data"
    }
   ],
   "source": [
    "head(a,2)"
   ]
  },
  {
   "cell_type": "markdown",
   "metadata": {},
   "source": [
    "Version dplyr:"
   ]
  },
  {
   "cell_type": "code",
   "execution_count": 107,
   "metadata": {},
   "outputs": [],
   "source": [
    "library(dplyr)"
   ]
  },
  {
   "cell_type": "code",
   "execution_count": 114,
   "metadata": {},
   "outputs": [
    {
     "data": {
      "text/html": [
       "<table>\n",
       "<thead><tr><th scope=col>birthdate</th><th scope=col>PrenomNom</th><th scope=col>sex</th><th scope=col>prenom</th><th scope=col>nom</th><th scope=col>forme_mas_fem</th><th scope=col>message</th><th scope=col>age_birth</th><th scope=col>age_collegues</th><th scope=col>message_poli</th></tr></thead>\n",
       "<tbody>\n",
       "\t<tr><td>1985-07-02                                                                                                                               </td><td>Anaïs-Adrienne Launay                                                                                                                    </td><td>F                                                                                                                                        </td><td>Anaïs-Adrienne                                                                                                                           </td><td>Launay                                                                                                                                   </td><td>Chère Anaïs-Adrienne ,                                                                                                                   </td><td>Chère Anaïs-Adrienne ,\n",
       "Un petit mot pour vous dire merci. Merci d’avoir contribué à la réussite de ma première présentation.\n",
       "À bientôt!</td><td>33                                                                                                                                       </td><td>33                                                                                                                                       </td><td>Chère Anaïs-Adrienne ,\n",
       "Un petit mot pour vous dire merci. Merci d’avoir contribué à la réussite de ma première présentation.\n",
       "À bientôt!</td></tr>\n",
       "\t<tr><td>1994-11-11                                                                                                                               </td><td>Benjamin Delmas de la Gros                                                                                                               </td><td>M                                                                                                                                        </td><td>Benjamin                                                                                                                                 </td><td>Delmas de la Gros                                                                                                                        </td><td>Chèr Benjamin ,                                                                                                                          </td><td>Chèr Benjamin ,\n",
       "Un petit mot pour vous dire merci. Merci d’avoir contribué à la réussite de ma première présentation.\n",
       "À bientôt!       </td><td>24                                                                                                                                       </td><td>24                                                                                                                                       </td><td>Chèr Benjamin ,\n",
       "Un petit mot pour te dire merci. Merci d’avoir contribué à la réussite de ma première présentation.\n",
       "À bientôt!         </td></tr>\n",
       "</tbody>\n",
       "</table>\n"
      ],
      "text/latex": [
       "\\begin{tabular}{r|llllllllll}\n",
       " birthdate & PrenomNom & sex & prenom & nom & forme\\_mas\\_fem & message & age\\_birth & age\\_collegues & message\\_poli\\\\\n",
       "\\hline\n",
       "\t 1985-07-02                                                                                                                                & Anaïs-Adrienne Launay                                                                                                                     & F                                                                                                                                         & Anaïs-Adrienne                                                                                                                            & Launay                                                                                                                                    & Chère Anaïs-Adrienne ,                                                                                                                    & Chère Anaïs-Adrienne ,\n",
       "Un petit mot pour vous dire merci. Merci d’avoir contribué à la réussite de ma première présentation.\n",
       "À bientôt! & 33                                                                                                                                        & 33                                                                                                                                        & Chère Anaïs-Adrienne ,\n",
       "Un petit mot pour vous dire merci. Merci d’avoir contribué à la réussite de ma première présentation.\n",
       "À bientôt!\\\\\n",
       "\t 1994-11-11                                                                                                                                & Benjamin Delmas de la Gros                                                                                                                & M                                                                                                                                         & Benjamin                                                                                                                                  & Delmas de la Gros                                                                                                                         & Chèr Benjamin ,                                                                                                                           & Chèr Benjamin ,\n",
       "Un petit mot pour vous dire merci. Merci d’avoir contribué à la réussite de ma première présentation.\n",
       "À bientôt!        & 24                                                                                                                                        & 24                                                                                                                                        & Chèr Benjamin ,\n",
       "Un petit mot pour te dire merci. Merci d’avoir contribué à la réussite de ma première présentation.\n",
       "À bientôt!         \\\\\n",
       "\\end{tabular}\n"
      ],
      "text/markdown": [
       "\n",
       "birthdate | PrenomNom | sex | prenom | nom | forme_mas_fem | message | age_birth | age_collegues | message_poli | \n",
       "|---|---|\n",
       "| 1985-07-02                                                                                                                                | Anaïs-Adrienne Launay                                                                                                                     | F                                                                                                                                         | Anaïs-Adrienne                                                                                                                            | Launay                                                                                                                                    | Chère Anaïs-Adrienne ,                                                                                                                    | Chère Anaïs-Adrienne ,\n",
       "Un petit mot pour vous dire merci. Merci d’avoir contribué à la réussite de ma première présentation.\n",
       "À bientôt! | 33                                                                                                                                        | 33                                                                                                                                        | Chère Anaïs-Adrienne ,\n",
       "Un petit mot pour vous dire merci. Merci d’avoir contribué à la réussite de ma première présentation.\n",
       "À bientôt! | \n",
       "| 1994-11-11                                                                                                                                | Benjamin Delmas de la Gros                                                                                                                | M                                                                                                                                         | Benjamin                                                                                                                                  | Delmas de la Gros                                                                                                                         | Chèr Benjamin ,                                                                                                                           | Chèr Benjamin ,\n",
       "Un petit mot pour vous dire merci. Merci d’avoir contribué à la réussite de ma première présentation.\n",
       "À bientôt!        | 24                                                                                                                                        | 24                                                                                                                                        | Chèr Benjamin ,\n",
       "Un petit mot pour te dire merci. Merci d’avoir contribué à la réussite de ma première présentation.\n",
       "À bientôt!          | \n",
       "\n",
       "\n"
      ],
      "text/plain": [
       "  birthdate  PrenomNom                  sex prenom         nom              \n",
       "1 1985-07-02 Anaïs-Adrienne Launay      F   Anaïs-Adrienne Launay           \n",
       "2 1994-11-11 Benjamin Delmas de la Gros M   Benjamin       Delmas de la Gros\n",
       "  forme_mas_fem         \n",
       "1 Chère Anaïs-Adrienne ,\n",
       "2 Chèr Benjamin ,       \n",
       "  message                                                                                                                                  \n",
       "1 Chère Anaïs-Adrienne ,\\nUn petit mot pour vous dire merci. Merci d’avoir contribué à la réussite de ma première présentation.\\nÀ bientôt!\n",
       "2 Chèr Benjamin ,\\nUn petit mot pour vous dire merci. Merci d’avoir contribué à la réussite de ma première présentation.\\nÀ bientôt!       \n",
       "  age_birth age_collegues\n",
       "1 33        33           \n",
       "2 24        24           \n",
       "  message_poli                                                                                                                             \n",
       "1 Chère Anaïs-Adrienne ,\\nUn petit mot pour vous dire merci. Merci d’avoir contribué à la réussite de ma première présentation.\\nÀ bientôt!\n",
       "2 Chèr Benjamin ,\\nUn petit mot pour te dire merci. Merci d’avoir contribué à la réussite de ma première présentation.\\nÀ bientôt!         "
      ]
     },
     "metadata": {},
     "output_type": "display_data"
    }
   ],
   "source": [
    "a %>% mutate(message_poli = ifelse(age_collegues-round(mon_age,0)<3,\n",
    "                             gsub(x=message,pattern = \"vous\", replacement = \"te\"),\n",
    "                             message)) %>% head(2)"
   ]
  },
  {
   "cell_type": "markdown",
   "metadata": {},
   "source": [
    "Créerons tous ces messages dans des fichiers `.txt`. Le nom de chaque fichier sera le nom de votre collègue et son prénom comme suit `prenon_non.txt`. Tous ces fichiers se trouveront un répertoire appelé `lettres`."
   ]
  },
  {
   "cell_type": "code",
   "execution_count": 175,
   "metadata": {},
   "outputs": [
    {
     "name": "stdout",
     "output_type": "stream",
     "text": [
      "[1] \"/Users/nour/Downloads/lettres/Anaïs-Adrienne_Launay.txt\"\n",
      "[1] \"/Users/nour/Downloads/lettres/Benjamin_DelmasdelaGros.txt\"\n",
      "[1] \"/Users/nour/Downloads/lettres/Laurence_Lucas.txt\"\n",
      "[1] \"/Users/nour/Downloads/lettres/Philippine_Laurent.txt\"\n",
      "[1] \"/Users/nour/Downloads/lettres/Louise_Paris.txt\"\n",
      "[1] \"/Users/nour/Downloads/lettres/André_Joly.txt\"\n",
      "[1] \"/Users/nour/Downloads/lettres/Léon_Gosselin.txt\"\n",
      "[1] \"/Users/nour/Downloads/lettres/Nicolas_Normand-Fontaine.txt\"\n",
      "[1] \"/Users/nour/Downloads/lettres/Camille_Charrier.txt\"\n",
      "[1] \"/Users/nour/Downloads/lettres/Julien_Legrand.txt\"\n"
     ]
    }
   ],
   "source": [
    "for (i in 1:length(a)){\n",
    "    nomfichier <- paste(\"/Users/nour/Downloads/lettres/\",\n",
    "                        paste(gsub(a$prenom[i],pattern = \" \", replacement = \"\"),\n",
    "                              gsub(a$nom[i],pattern = \" \", replacement = \"\")\n",
    "                              , sep=\"_\")\n",
    "                        , \".txt\",sep=\"\")\n",
    "    print(nomfichier)\n",
    "    writeLines(text=a$message_poli[i], con=nomfichier)\n",
    "}"
   ]
  },
  {
   "cell_type": "markdown",
   "metadata": {},
   "source": [
    "## lubridate"
   ]
  },
  {
   "cell_type": "markdown",
   "metadata": {},
   "source": [
    "Dans le package `lubridate`, il existe une fonction qui calcule l'intervale entre deux date, utilisons cette fonction pour valider le calcul de notre fonction `age` que nous avons crée précédemment"
   ]
  },
  {
   "cell_type": "code",
   "execution_count": null,
   "metadata": {
    "collapsed": true
   },
   "outputs": [],
   "source": [
    "a$age_lubri<-round(interval(start = as.Date(a$birthdate), end =Sys.Date() ) /\n",
    "        duration(num = 1, units = \"years\"),0)"
   ]
  },
  {
   "cell_type": "code",
   "execution_count": null,
   "metadata": {
    "collapsed": true
   },
   "outputs": [],
   "source": [
    "head(a)"
   ]
  },
  {
   "cell_type": "markdown",
   "metadata": {},
   "source": [
    "# for loops"
   ]
  },
  {
   "cell_type": "markdown",
   "metadata": {},
   "source": [
    "## numéro1"
   ]
  },
  {
   "cell_type": "markdown",
   "metadata": {},
   "source": [
    "En utilisant les variables suivantes:\n",
    "x=1\n",
    "y=40\n",
    "i=c(1:10)\n",
    "Pour cet exercice, écrivez une boucle for () qui incrémente x par trois et diminue y par deux, pour chaque i."
   ]
  },
  {
   "cell_type": "code",
   "execution_count": null,
   "metadata": {
    "collapsed": true
   },
   "outputs": [],
   "source": []
  },
  {
   "cell_type": "code",
   "execution_count": null,
   "metadata": {
    "collapsed": true
   },
   "outputs": [],
   "source": [
    "x=1\n",
    "y=40\n",
    "i=c(1:10)\n",
    "for (j in i)\n",
    "{x=x+3\n",
    " y=y-2\n",
    "print(paste(x, y, sep=\"_\"))\n",
    "}"
   ]
  },
  {
   "cell_type": "markdown",
   "metadata": {},
   "source": [
    "## Numéro 2"
   ]
  },
  {
   "cell_type": "markdown",
   "metadata": {},
   "source": [
    "Soit les variables:"
   ]
  },
  {
   "cell_type": "code",
   "execution_count": null,
   "metadata": {
    "collapsed": true
   },
   "outputs": [],
   "source": [
    "a=15:10\n",
    "b=20:15"
   ]
  },
  {
   "cell_type": "markdown",
   "metadata": {},
   "source": [
    "Pour cet exercice, écrivez une boucle `while()` qui calcule un vecteur x = 225 224 221 216 209 200, tel que"
   ]
  },
  {
   "cell_type": "markdown",
   "metadata": {},
   "source": [
    "```R\n",
    "x[1]=a[1]*b[6]\n",
    "x[2]=a[2]*b[5]\n",
    "x[3]=a[3]*b[5]\n",
    ".\n",
    ".\n",
    "x[6]=a[6]*b[1]\n",
    "```"
   ]
  },
  {
   "cell_type": "code",
   "execution_count": null,
   "metadata": {
    "collapsed": true
   },
   "outputs": [],
   "source": [
    "x=c()\n",
    "i=1\n",
    "j=6\n",
    "while (i<7)\n",
    "{\n",
    "  x[i]=a[i]*b[j]\n",
    "  i=i+1\n",
    "  j=j-1\n",
    "}\n",
    "x"
   ]
  },
  {
   "cell_type": "markdown",
   "metadata": {},
   "source": [
    "## numero 3"
   ]
  },
  {
   "cell_type": "markdown",
   "metadata": {},
   "source": [
    "en utilisant la variable suivante:\n",
    "\n",
    "a=1:10\n",
    "\n",
    "Pour cet exercice, écrivez une boucle `while ()` qui calcule un vecteur x = 1 3 6 10 15 21 28 36 45 55, tel que\n",
    "\n",
    "```R\n",
    "x[1]=a[1]\n",
    "x[2]=a[1]+a[2]\n",
    "x[3]=a[1]+a[2]+a[3]\n",
    ".\n",
    ".\n",
    "```"
   ]
  },
  {
   "cell_type": "code",
   "execution_count": null,
   "metadata": {
    "collapsed": true
   },
   "outputs": [],
   "source": [
    "a=1:10\n",
    "\n",
    "i=1\n",
    "x=c()\n",
    "while (i<=10)\n",
    "  {\n",
    "  x[i]=sum(a[1:i])\n",
    "  i=i+1\n",
    "  }\n",
    "x"
   ]
  },
  {
   "cell_type": "markdown",
   "metadata": {},
   "source": [
    "## Numéro 4"
   ]
  },
  {
   "cell_type": "markdown",
   "metadata": {},
   "source": [
    "en utilisant la variable suivante:\n",
    "```R\n",
    "i=10\n",
    "x=10\n",
    "```\n",
    "Pour cet exercice, écrivez une boucle `repeat()` qui diminue en calculant `x = x / i` jusqu'à ce que `i = 0`."
   ]
  },
  {
   "cell_type": "code",
   "execution_count": 5,
   "metadata": {},
   "outputs": [
    {
     "name": "stdout",
     "output_type": "stream",
     "text": [
      "[1] 1\n",
      "[1] 0.1111111\n",
      "[1] 0.01388889\n",
      "[1] 0.001984127\n",
      "[1] 0.0003306878\n",
      "[1] 6.613757e-05\n",
      "[1] 1.653439e-05\n",
      "[1] 5.511464e-06\n",
      "[1] 2.755732e-06\n",
      "[1] 2.755732e-06\n"
     ]
    }
   ],
   "source": [
    "i=10\n",
    "x=10\n",
    "\n",
    "repeat\n",
    "  {x=x/i\n",
    "  print(x)\n",
    "  i=i-1\n",
    "  if (i==0)\n",
    "    break\n",
    "  }"
   ]
  },
  {
   "cell_type": "markdown",
   "metadata": {},
   "source": [
    "## Numéro 5"
   ]
  },
  {
   "cell_type": "markdown",
   "metadata": {},
   "source": [
    "Puisque vous êtes en fin de session, vous voulez faire un plan d'étude pour bien réussir vos examens. Ecrivez une boucle repeat qui permet d'afficher toutes les dates entre aujourd'hui et le jour de votre dernier examen:"
   ]
  },
  {
   "cell_type": "code",
   "execution_count": 8,
   "metadata": {},
   "outputs": [
    {
     "name": "stdout",
     "output_type": "stream",
     "text": [
      "[1] \"2018-03-29\"\n",
      "[1] \"2018-03-30\"\n",
      "[1] \"2018-03-31\"\n",
      "[1] \"2018-04-01\"\n",
      "[1] \"2018-04-02\"\n",
      "[1] \"2018-04-03\"\n",
      "[1] \"2018-04-04\"\n",
      "[1] \"2018-04-05\"\n",
      "[1] \"2018-04-06\"\n",
      "[1] \"2018-04-07\"\n",
      "[1] \"2018-04-08\"\n",
      "[1] \"2018-04-09\"\n",
      "[1] \"2018-04-10\"\n",
      "[1] \"2018-04-11\"\n",
      "[1] \"2018-04-12\"\n",
      "[1] \"2018-04-13\"\n",
      "[1] \"2018-04-14\"\n",
      "[1] \"2018-04-15\"\n",
      "[1] \"2018-04-16\"\n",
      "[1] \"2018-04-17\"\n",
      "[1] \"2018-04-18\"\n"
     ]
    }
   ],
   "source": [
    "auj<-as.Date(Sys.Date(),\"%d/%m/%Y\")\n",
    "dernier_exam<-as.Date(\"18/04/2018\",\"%d/%m/%Y\")\n",
    "repeat\n",
    "{\n",
    "auj<-auj+1\n",
    "    print(auj)\n",
    "if (auj==dernier_exam)\n",
    "  break\n",
    "}"
   ]
  }
 ],
 "metadata": {
  "anaconda-cloud": {},
  "kernelspec": {
   "display_name": "R",
   "language": "R",
   "name": "ir"
  },
  "language_info": {
   "codemirror_mode": "r",
   "file_extension": ".r",
   "mimetype": "text/x-r-source",
   "name": "R",
   "pygments_lexer": "r",
   "version": "3.4.1"
  },
  "latex_envs": {
   "LaTeX_envs_menu_present": true,
   "bibliofile": "biblio.bib",
   "cite_by": "apalike",
   "current_citInitial": 1,
   "eqLabelWithNumbers": true,
   "eqNumInitial": 1,
   "labels_anchors": false,
   "latex_user_defs": false,
   "report_style_numbering": false,
   "user_envs_cfg": false
  },
  "toc": {
   "base_numbering": 1,
   "nav_menu": {
    "height": "228px",
    "width": "252px"
   },
   "number_sections": false,
   "sideBar": true,
   "skip_h1_title": false,
   "title_cell": "Table of Contents",
   "title_sidebar": "Contents",
   "toc_cell": false,
   "toc_position": {},
   "toc_section_display": "block",
   "toc_window_display": true
  }
 },
 "nbformat": 4,
 "nbformat_minor": 1
}
