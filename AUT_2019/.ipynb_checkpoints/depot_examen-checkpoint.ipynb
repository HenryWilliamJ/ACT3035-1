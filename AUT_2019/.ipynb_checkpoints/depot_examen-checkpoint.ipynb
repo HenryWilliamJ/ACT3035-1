{
 "cells": [
  {
   "cell_type": "markdown",
   "metadata": {},
   "source": [
    "# Dépôt de l'examen"
   ]
  },
  {
   "cell_type": "markdown",
   "metadata": {},
   "source": [
    "Cliquer sur le [lien fourni](https://www.dropbox.com/request/uoriaHyFRkNUxEfqXCrj) afin de me remettre votre examen intra.\n",
    "\n",
    "Ou exécuter la dernière ligne de votre script\n",
    "\n",
    "```R\n",
    "# ======================Déposez l'examen ===================================\n",
    "# Exécutez la ligne suivante afin d'ouvrir le lien où vous déposer l'examen |\n",
    "# ==========================================================================\n",
    "browseURL(\"https://www.dropbox.com/request/uoriaHyFRkNUxEfqXCrj\") \n",
    "```\n"
   ]
  },
  {
   "cell_type": "markdown",
   "metadata": {},
   "source": [
    "Une nouvelle fenêtre d'un navigateur s’ouvrira (Internet Explorer, Chrome ou Firefox)"
   ]
  },
  {
   "cell_type": "markdown",
   "metadata": {},
   "source": [
    "Cliquez sur **`Choisir sur l'ordinateur `**"
   ]
  },
  {
   "cell_type": "markdown",
   "metadata": {},
   "source": [
    "![](images/14_depo.PNG)"
   ]
  },
  {
   "cell_type": "markdown",
   "metadata": {},
   "source": [
    "Choisissez le script R de réponse (rappelez-vous qu'il se trouve dans votre dossier trousseExam qui est sur votre bureau"
   ]
  },
  {
   "cell_type": "markdown",
   "metadata": {},
   "source": [
    "![](images/14_depo_2.PNG)"
   ]
  },
  {
   "cell_type": "markdown",
   "metadata": {},
   "source": [
    "Sélectionnez ensuite votre script:"
   ]
  },
  {
   "cell_type": "markdown",
   "metadata": {},
   "source": [
    "![](images/14_depo_3.PNG)"
   ]
  },
  {
   "cell_type": "markdown",
   "metadata": {},
   "source": [
    "Cliquez ensuite sur le bouton **Importer**:"
   ]
  },
  {
   "cell_type": "markdown",
   "metadata": {},
   "source": [
    "![](images/14_depo_4.PNG)"
   ]
  },
  {
   "cell_type": "markdown",
   "metadata": {},
   "source": [
    "Vous allez voir apparaître le message ci-dessous lorsque le dépôt d'effectue avec succès:"
   ]
  },
  {
   "cell_type": "markdown",
   "metadata": {},
   "source": [
    "![](images/14_depo_5.PNG)"
   ]
  }
 ],
 "metadata": {
  "kernelspec": {
   "display_name": "Python 3",
   "language": "python",
   "name": "python3"
  },
  "language_info": {
   "codemirror_mode": {
    "name": "ipython",
    "version": 3
   },
   "file_extension": ".py",
   "mimetype": "text/x-python",
   "name": "python",
   "nbconvert_exporter": "python",
   "pygments_lexer": "ipython3",
   "version": "3.7.3"
  }
 },
 "nbformat": 4,
 "nbformat_minor": 2
}
