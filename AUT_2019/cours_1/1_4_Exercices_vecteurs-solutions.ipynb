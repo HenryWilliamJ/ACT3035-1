{
 "cells": [
  {
   "cell_type": "markdown",
   "metadata": {},
   "source": [
    "# Question #1"
   ]
  },
  {
   "cell_type": "markdown",
   "metadata": {},
   "source": [
    "Dans R, la valeur de la variable du nombre $\\pi$ est nommée « pi ». Afficher cette  valeur  à  l’écran avec une précision de 3  puis  de 5  décimales.  "
   ]
  },
  {
   "cell_type": "code",
   "execution_count": 1,
   "metadata": {
    "scrolled": true
   },
   "outputs": [
    {
     "data": {
      "text/html": [
       "3.14159265358979"
      ],
      "text/latex": [
       "3.14159265358979"
      ],
      "text/markdown": [
       "3.14159265358979"
      ],
      "text/plain": [
       "[1] 3.141593"
      ]
     },
     "metadata": {},
     "output_type": "display_data"
    },
    {
     "data": {
      "text/html": [
       "3.142"
      ],
      "text/latex": [
       "3.142"
      ],
      "text/markdown": [
       "3.142"
      ],
      "text/plain": [
       "[1] 3.142"
      ]
     },
     "metadata": {},
     "output_type": "display_data"
    },
    {
     "data": {
      "text/html": [
       "3.14159"
      ],
      "text/latex": [
       "3.14159"
      ],
      "text/markdown": [
       "3.14159"
      ],
      "text/plain": [
       "[1] 3.14159"
      ]
     },
     "metadata": {},
     "output_type": "display_data"
    }
   ],
   "source": [
    "pi\n",
    "round(pi,3)\n",
    "round(pi, 5)"
   ]
  },
  {
   "cell_type": "markdown",
   "metadata": {},
   "source": [
    "# Question #2"
   ]
  },
  {
   "cell_type": "markdown",
   "metadata": {},
   "source": [
    "Créer le vecteur « vec1 » contenant la suite des entiers de 1 à 12. Ajouter à la fin de ce vecteur les valeurs 16, 17, 18. "
   ]
  },
  {
   "cell_type": "code",
   "execution_count": 26,
   "metadata": {},
   "outputs": [
    {
     "data": {
      "text/html": [
       "<ol class=list-inline>\n",
       "\t<li>1</li>\n",
       "\t<li>2</li>\n",
       "\t<li>3</li>\n",
       "\t<li>4</li>\n",
       "\t<li>5</li>\n",
       "\t<li>6</li>\n",
       "\t<li>7</li>\n",
       "\t<li>8</li>\n",
       "\t<li>9</li>\n",
       "\t<li>10</li>\n",
       "\t<li>11</li>\n",
       "\t<li>12</li>\n",
       "</ol>\n"
      ],
      "text/latex": [
       "\\begin{enumerate*}\n",
       "\\item 1\n",
       "\\item 2\n",
       "\\item 3\n",
       "\\item 4\n",
       "\\item 5\n",
       "\\item 6\n",
       "\\item 7\n",
       "\\item 8\n",
       "\\item 9\n",
       "\\item 10\n",
       "\\item 11\n",
       "\\item 12\n",
       "\\end{enumerate*}\n"
      ],
      "text/markdown": [
       "1. 1\n",
       "2. 2\n",
       "3. 3\n",
       "4. 4\n",
       "5. 5\n",
       "6. 6\n",
       "7. 7\n",
       "8. 8\n",
       "9. 9\n",
       "10. 10\n",
       "11. 11\n",
       "12. 12\n",
       "\n",
       "\n"
      ],
      "text/plain": [
       " [1]  1  2  3  4  5  6  7  8  9 10 11 12"
      ]
     },
     "metadata": {},
     "output_type": "display_data"
    }
   ],
   "source": [
    "vec1<-1:12\n",
    "vec1"
   ]
  },
  {
   "cell_type": "code",
   "execution_count": 27,
   "metadata": {},
   "outputs": [
    {
     "data": {
      "text/html": [
       "<ol class=list-inline>\n",
       "\t<li>1</li>\n",
       "\t<li>2</li>\n",
       "\t<li>3</li>\n",
       "\t<li>4</li>\n",
       "\t<li>5</li>\n",
       "\t<li>6</li>\n",
       "\t<li>7</li>\n",
       "\t<li>8</li>\n",
       "\t<li>9</li>\n",
       "\t<li>10</li>\n",
       "\t<li>11</li>\n",
       "\t<li>12</li>\n",
       "\t<li>16</li>\n",
       "\t<li>17</li>\n",
       "\t<li>18</li>\n",
       "</ol>\n"
      ],
      "text/latex": [
       "\\begin{enumerate*}\n",
       "\\item 1\n",
       "\\item 2\n",
       "\\item 3\n",
       "\\item 4\n",
       "\\item 5\n",
       "\\item 6\n",
       "\\item 7\n",
       "\\item 8\n",
       "\\item 9\n",
       "\\item 10\n",
       "\\item 11\n",
       "\\item 12\n",
       "\\item 16\n",
       "\\item 17\n",
       "\\item 18\n",
       "\\end{enumerate*}\n"
      ],
      "text/markdown": [
       "1. 1\n",
       "2. 2\n",
       "3. 3\n",
       "4. 4\n",
       "5. 5\n",
       "6. 6\n",
       "7. 7\n",
       "8. 8\n",
       "9. 9\n",
       "10. 10\n",
       "11. 11\n",
       "12. 12\n",
       "13. 16\n",
       "14. 17\n",
       "15. 18\n",
       "\n",
       "\n"
      ],
      "text/plain": [
       " [1]  1  2  3  4  5  6  7  8  9 10 11 12 16 17 18"
      ]
     },
     "metadata": {},
     "output_type": "display_data"
    }
   ],
   "source": [
    "vec1<-c(vec1, 16:18)\n",
    "vec1"
   ]
  },
  {
   "cell_type": "markdown",
   "metadata": {},
   "source": [
    "# Question #3"
   ]
  },
  {
   "cell_type": "markdown",
   "metadata": {},
   "source": [
    "Créer le vecteur « vec2 » contenant les valeurs suivantes : 0, 0.5, 1.0, 1.5, 2.0, 2.5, 3.0, 3.5, 4.0, 4.5, 5.0."
   ]
  },
  {
   "cell_type": "code",
   "execution_count": 79,
   "metadata": {},
   "outputs": [
    {
     "data": {
      "text/html": [
       "<ol class=list-inline>\n",
       "\t<li>0</li>\n",
       "\t<li>0.5</li>\n",
       "\t<li>1</li>\n",
       "\t<li>1.5</li>\n",
       "\t<li>2</li>\n",
       "\t<li>2.5</li>\n",
       "\t<li>3</li>\n",
       "\t<li>3.5</li>\n",
       "\t<li>4</li>\n",
       "\t<li>4.5</li>\n",
       "\t<li>5</li>\n",
       "</ol>\n"
      ],
      "text/latex": [
       "\\begin{enumerate*}\n",
       "\\item 0\n",
       "\\item 0.5\n",
       "\\item 1\n",
       "\\item 1.5\n",
       "\\item 2\n",
       "\\item 2.5\n",
       "\\item 3\n",
       "\\item 3.5\n",
       "\\item 4\n",
       "\\item 4.5\n",
       "\\item 5\n",
       "\\end{enumerate*}\n"
      ],
      "text/markdown": [
       "1. 0\n",
       "2. 0.5\n",
       "3. 1\n",
       "4. 1.5\n",
       "5. 2\n",
       "6. 2.5\n",
       "7. 3\n",
       "8. 3.5\n",
       "9. 4\n",
       "10. 4.5\n",
       "11. 5\n",
       "\n",
       "\n"
      ],
      "text/plain": [
       " [1] 0.0 0.5 1.0 1.5 2.0 2.5 3.0 3.5 4.0 4.5 5.0"
      ]
     },
     "metadata": {},
     "output_type": "display_data"
    }
   ],
   "source": [
    "seq(0,5,.5)"
   ]
  },
  {
   "cell_type": "markdown",
   "metadata": {},
   "source": [
    "# Question #4"
   ]
  },
  {
   "cell_type": "markdown",
   "metadata": {},
   "source": [
    "Créer le vecteur « vec3 » contenant tous les multiples de 2 compris entre 1 et 50. "
   ]
  },
  {
   "cell_type": "code",
   "execution_count": 1,
   "metadata": {},
   "outputs": [
    {
     "data": {
      "text/html": [
       "<ol class=list-inline>\n",
       "\t<li>2</li>\n",
       "\t<li>4</li>\n",
       "\t<li>6</li>\n",
       "\t<li>8</li>\n",
       "\t<li>10</li>\n",
       "\t<li>12</li>\n",
       "\t<li>14</li>\n",
       "\t<li>16</li>\n",
       "\t<li>18</li>\n",
       "\t<li>20</li>\n",
       "\t<li>22</li>\n",
       "\t<li>24</li>\n",
       "\t<li>26</li>\n",
       "\t<li>28</li>\n",
       "\t<li>30</li>\n",
       "\t<li>32</li>\n",
       "\t<li>34</li>\n",
       "\t<li>36</li>\n",
       "\t<li>38</li>\n",
       "\t<li>40</li>\n",
       "\t<li>42</li>\n",
       "\t<li>44</li>\n",
       "\t<li>46</li>\n",
       "\t<li>48</li>\n",
       "\t<li>50</li>\n",
       "</ol>\n"
      ],
      "text/latex": [
       "\\begin{enumerate*}\n",
       "\\item 2\n",
       "\\item 4\n",
       "\\item 6\n",
       "\\item 8\n",
       "\\item 10\n",
       "\\item 12\n",
       "\\item 14\n",
       "\\item 16\n",
       "\\item 18\n",
       "\\item 20\n",
       "\\item 22\n",
       "\\item 24\n",
       "\\item 26\n",
       "\\item 28\n",
       "\\item 30\n",
       "\\item 32\n",
       "\\item 34\n",
       "\\item 36\n",
       "\\item 38\n",
       "\\item 40\n",
       "\\item 42\n",
       "\\item 44\n",
       "\\item 46\n",
       "\\item 48\n",
       "\\item 50\n",
       "\\end{enumerate*}\n"
      ],
      "text/markdown": [
       "1. 2\n",
       "2. 4\n",
       "3. 6\n",
       "4. 8\n",
       "5. 10\n",
       "6. 12\n",
       "7. 14\n",
       "8. 16\n",
       "9. 18\n",
       "10. 20\n",
       "11. 22\n",
       "12. 24\n",
       "13. 26\n",
       "14. 28\n",
       "15. 30\n",
       "16. 32\n",
       "17. 34\n",
       "18. 36\n",
       "19. 38\n",
       "20. 40\n",
       "21. 42\n",
       "22. 44\n",
       "23. 46\n",
       "24. 48\n",
       "25. 50\n",
       "\n",
       "\n"
      ],
      "text/plain": [
       " [1]  2  4  6  8 10 12 14 16 18 20 22 24 26 28 30 32 34 36 38 40 42 44 46 48 50"
      ]
     },
     "metadata": {},
     "output_type": "display_data"
    }
   ],
   "source": [
    "vec3<-seq(2,50, 2)\n",
    "vec3"
   ]
  },
  {
   "cell_type": "markdown",
   "metadata": {},
   "source": [
    "# Question #5"
   ]
  },
  {
   "cell_type": "markdown",
   "metadata": {},
   "source": [
    "Soit les deux vecteurs suivants;"
   ]
  },
  {
   "cell_type": "code",
   "execution_count": 7,
   "metadata": {},
   "outputs": [],
   "source": [
    "x=c(0.069, 0.0813, 0.0753, 0.0856, 0.0646)\n",
    "y=c(1341.05, 1393.88, 1324.88, 1186.97, 1051.55)"
   ]
  },
  {
   "cell_type": "markdown",
   "metadata": {},
   "source": [
    "Calculer la valeur de `z` qui simplement le résultat de la multiplication de ces deux vecteurs;"
   ]
  },
  {
   "cell_type": "code",
   "execution_count": 8,
   "metadata": {},
   "outputs": [
    {
     "name": "stdout",
     "output_type": "stream",
     "text": [
      "[1] 1798415 1942901 1755307 1408898 1105757\n"
     ]
    }
   ],
   "source": [
    "z=y*y\n",
    "print(z)"
   ]
  },
  {
   "cell_type": "markdown",
   "metadata": {},
   "source": [
    "# Question #6"
   ]
  },
  {
   "cell_type": "markdown",
   "metadata": {},
   "source": [
    "Vous avez une liste de courriels `A` de l'année 2017 et une autre liste de courriel `B` de l'année 2018 suivante;"
   ]
  },
  {
   "cell_type": "code",
   "execution_count": 3,
   "metadata": {},
   "outputs": [],
   "source": [
    "A=c(\"bantonignetti0@bloomberg.com\",\n",
    "\"dgillogley1@cam.ac.uk\",\n",
    "\"stabart2@gmpg.org\",\n",
    "\"fchatenet3@digg.com\",\n",
    "\"hmattiussi4@cdc.gov\",\n",
    "\"rlafont5@spiegel.de\",\n",
    "\"blivingston6@bloglovin.com\",\n",
    "\"cdevuyst7@twitter.com\",\n",
    "\"jhuddleston8@cornell.edu\",\n",
    "\"kearry9@wp.com\")\n"
   ]
  },
  {
   "cell_type": "code",
   "execution_count": 4,
   "metadata": {},
   "outputs": [],
   "source": [
    "B=c(\"bantonignetti0@bloomberg.com\",\n",
    "\"dgillogley1@cam.ac.uk\",\n",
    "\"stabart2@gmpg.org\",\n",
    "\"fchatenet3@digg.com\",\n",
    "\"hmatiussi4@cdc.gov\",\n",
    "\"rlafont5@spiegel.de\",\n",
    "\"blivingston6@bloglovin.com\",\n",
    "\"cdevuyst7@twitter.com\",\n",
    "\"jhuddleston8@cornell.edu\",\n",
    "\"kearry9@wp.com\")\n"
   ]
  },
  {
   "cell_type": "markdown",
   "metadata": {},
   "source": [
    "Vous voulez savoir si un changement a eu lieu entre les listes, affichez un vecteur booléen qui vous informe par `TRUE` si le i'ème élément du vecteur A est égale au i'ème élément du vecteur B;"
   ]
  },
  {
   "cell_type": "code",
   "execution_count": 5,
   "metadata": {},
   "outputs": [
    {
     "data": {
      "text/html": [
       "<ol class=list-inline>\n",
       "\t<li>TRUE</li>\n",
       "\t<li>TRUE</li>\n",
       "\t<li>TRUE</li>\n",
       "\t<li>TRUE</li>\n",
       "\t<li>FALSE</li>\n",
       "\t<li>TRUE</li>\n",
       "\t<li>TRUE</li>\n",
       "\t<li>TRUE</li>\n",
       "\t<li>TRUE</li>\n",
       "\t<li>TRUE</li>\n",
       "</ol>\n"
      ],
      "text/latex": [
       "\\begin{enumerate*}\n",
       "\\item TRUE\n",
       "\\item TRUE\n",
       "\\item TRUE\n",
       "\\item TRUE\n",
       "\\item FALSE\n",
       "\\item TRUE\n",
       "\\item TRUE\n",
       "\\item TRUE\n",
       "\\item TRUE\n",
       "\\item TRUE\n",
       "\\end{enumerate*}\n"
      ],
      "text/markdown": [
       "1. TRUE\n",
       "2. TRUE\n",
       "3. TRUE\n",
       "4. TRUE\n",
       "5. FALSE\n",
       "6. TRUE\n",
       "7. TRUE\n",
       "8. TRUE\n",
       "9. TRUE\n",
       "10. TRUE\n",
       "\n",
       "\n"
      ],
      "text/plain": [
       " [1]  TRUE  TRUE  TRUE  TRUE FALSE  TRUE  TRUE  TRUE  TRUE  TRUE"
      ]
     },
     "metadata": {},
     "output_type": "display_data"
    }
   ],
   "source": [
    "A==B"
   ]
  },
  {
   "cell_type": "markdown",
   "metadata": {},
   "source": [
    "# Question 7"
   ]
  },
  {
   "cell_type": "markdown",
   "metadata": {},
   "source": [
    "Vous voulez savoir quel a été le rendement quotidien du S&P 500 (^GSPC) du 27 au 31 août de l'année courante. Vous pouvez allez sur ce [site](https://ca.finance.yahoo.com/quote/%5EGSPC/history?p=%5EGSPC) afin d'extraire les prix du marché Open et Close"
   ]
  },
  {
   "cell_type": "markdown",
   "metadata": {},
   "source": [
    "Ensuite, créer un vecteur `R` qui tout simplement le rendement quotidien en utilisant la formule suivante:\n",
    "\n",
    "$$R=\\frac{\\text{Prix}_{open}-\\text{Prix}_{Close}}{\\text{Prix}_{open}}$$"
   ]
  },
  {
   "cell_type": "markdown",
   "metadata": {},
   "source": [
    "Mais attention, on veut seulement voir 4 décimales!"
   ]
  },
  {
   "cell_type": "code",
   "execution_count": 6,
   "metadata": {},
   "outputs": [
    {
     "name": "stdout",
     "output_type": "stream",
     "text": [
      "[1] -0.0042  0.0014 -0.0046  0.0027 -0.0011\n"
     ]
    }
   ],
   "source": [
    "# Attention! ces prix sont ceux de l'année 2018\n",
    "open=c(2884.69, 2901.45, 2900.62, 2908.94, 2898.37)\n",
    "close=c(2896.74, 2897.52, 2914.04, 2901.13, 2901.52)\n",
    "R=(open-close)/open\n",
    "print(round(R,4))"
   ]
  }
 ],
 "metadata": {
  "anaconda-cloud": {},
  "kernelspec": {
   "display_name": "R",
   "language": "R",
   "name": "ir"
  },
  "language_info": {
   "codemirror_mode": "r",
   "file_extension": ".r",
   "mimetype": "text/x-r-source",
   "name": "R",
   "pygments_lexer": "r",
   "version": "3.4.1"
  },
  "latex_envs": {
   "LaTeX_envs_menu_present": true,
   "bibliofile": "biblio.bib",
   "cite_by": "apalike",
   "current_citInitial": 1,
   "eqLabelWithNumbers": true,
   "eqNumInitial": 1,
   "labels_anchors": false,
   "latex_user_defs": false,
   "report_style_numbering": false,
   "user_envs_cfg": false
  },
  "toc": {
   "base_numbering": 1,
   "nav_menu": {
    "height": "512px",
    "width": "252px"
   },
   "number_sections": false,
   "sideBar": true,
   "skip_h1_title": false,
   "title_cell": "Table of Contents",
   "title_sidebar": "Contents",
   "toc_cell": false,
   "toc_position": {},
   "toc_section_display": "block",
   "toc_window_display": true
  }
 },
 "nbformat": 4,
 "nbformat_minor": 1
}
