{
 "cells": [
  {
   "cell_type": "code",
   "execution_count": 1,
   "metadata": {},
   "outputs": [
    {
     "name": "stdout",
     "output_type": "stream",
     "text": [
      "Bonjour le monde\n"
     ]
    }
   ],
   "source": [
    "print(\"Bonjour le monde\")"
   ]
  },
  {
   "cell_type": "code",
   "execution_count": 2,
   "metadata": {},
   "outputs": [
    {
     "data": {
      "text/plain": [
       "0.033707865168539325"
      ]
     },
     "execution_count": 2,
     "metadata": {},
     "output_type": "execute_result"
    }
   ],
   "source": [
    "3/89"
   ]
  },
  {
   "cell_type": "code",
   "execution_count": 3,
   "metadata": {},
   "outputs": [
    {
     "data": {
      "text/plain": [
       "25"
      ]
     },
     "execution_count": 3,
     "metadata": {},
     "output_type": "execute_result"
    }
   ],
   "source": [
    "5**2"
   ]
  },
  {
   "cell_type": "markdown",
   "metadata": {},
   "source": [
    "# 1 Introduction"
   ]
  },
  {
   "cell_type": "markdown",
   "metadata": {},
   "source": [
    "## 1.1 librairie math"
   ]
  },
  {
   "cell_type": "code",
   "execution_count": 4,
   "metadata": {
    "collapsed": true
   },
   "outputs": [],
   "source": [
    "import math"
   ]
  },
  {
   "cell_type": "code",
   "execution_count": 6,
   "metadata": {},
   "outputs": [
    {
     "data": {
      "text/plain": [
       "5.0"
      ]
     },
     "execution_count": 6,
     "metadata": {},
     "output_type": "execute_result"
    }
   ],
   "source": [
    "math.sqrt(25)"
   ]
  },
  {
   "cell_type": "code",
   "execution_count": 7,
   "metadata": {
    "collapsed": true
   },
   "outputs": [],
   "source": [
    "variable=25"
   ]
  },
  {
   "cell_type": "code",
   "execution_count": 9,
   "metadata": {},
   "outputs": [
    {
     "data": {
      "text/plain": [
       "5.0"
      ]
     },
     "execution_count": 9,
     "metadata": {},
     "output_type": "execute_result"
    }
   ],
   "source": [
    "# ceci est un commentaire dans le code python\n",
    "math.sqrt(variable)"
   ]
  },
  {
   "cell_type": "markdown",
   "metadata": {},
   "source": []
  },
  {
   "cell_type": "markdown",
   "metadata": {},
   "source": []
  },
  {
   "cell_type": "markdown",
   "metadata": {},
   "source": [
    "Dans ce calcul j'ai utilisé [ces données](https://github.com/nmeraihi/ACT3035/tree/master/data)"
   ]
  },
  {
   "cell_type": "markdown",
   "metadata": {},
   "source": [
    "Dans ce calcul j'ai utilisé [ces données](https://github.com/nmeraihi/ACT3035/tree/master/data)"
   ]
  },
  {
   "cell_type": "markdown",
   "metadata": {},
   "source": [
    "Voici la liste de cours en ligne:\n",
    "\n",
    "[https://openclassrooms.com/fr/](https://openclassrooms.com/fr/)\n",
    "\n",
    "[https://fr.coursera.org/](https://fr.coursera.org/)\n",
    "\n",
    "[https://www.udemy.com/](https://www.udemy.com/)"
   ]
  },
  {
   "cell_type": "code",
   "execution_count": null,
   "metadata": {
    "collapsed": true
   },
   "outputs": [],
   "source": []
  },
  {
   "cell_type": "markdown",
   "metadata": {},
   "source": [
    "je peux aussi insérer une image ![](https://i.gaw.to/content/photos/32/60/326088_2018_Tesla_Model_X.jpg)"
   ]
  },
  {
   "cell_type": "code",
   "execution_count": 10,
   "metadata": {
    "collapsed": true
   },
   "outputs": [],
   "source": [
    "villes=[\"Montreal\", \"Laval\", \"Quebec\"]"
   ]
  },
  {
   "cell_type": "code",
   "execution_count": 11,
   "metadata": {},
   "outputs": [
    {
     "data": {
      "text/plain": [
       "['Montreal', 'Laval', 'Quebec']"
      ]
     },
     "execution_count": 11,
     "metadata": {},
     "output_type": "execute_result"
    }
   ],
   "source": [
    "villes"
   ]
  },
  {
   "cell_type": "code",
   "execution_count": 12,
   "metadata": {},
   "outputs": [
    {
     "name": "stdout",
     "output_type": "stream",
     "text": [
      "['Montreal', 'Laval', 'Quebec']\n"
     ]
    }
   ],
   "source": [
    "print(villes)"
   ]
  },
  {
   "cell_type": "code",
   "execution_count": 15,
   "metadata": {},
   "outputs": [
    {
     "data": {
      "text/plain": [
       "'Quebec'"
      ]
     },
     "execution_count": 15,
     "metadata": {},
     "output_type": "execute_result"
    }
   ],
   "source": [
    "villes[2]"
   ]
  },
  {
   "cell_type": "code",
   "execution_count": 16,
   "metadata": {},
   "outputs": [
    {
     "data": {
      "text/plain": [
       "'Laval'"
      ]
     },
     "execution_count": 16,
     "metadata": {},
     "output_type": "execute_result"
    }
   ],
   "source": [
    "villes[1]"
   ]
  },
  {
   "cell_type": "code",
   "execution_count": 14,
   "metadata": {},
   "outputs": [
    {
     "data": {
      "text/plain": [
       "'Quebec'"
      ]
     },
     "execution_count": 14,
     "metadata": {},
     "output_type": "execute_result"
    }
   ],
   "source": [
    "villes[2]"
   ]
  },
  {
   "cell_type": "code",
   "execution_count": 17,
   "metadata": {
    "collapsed": true
   },
   "outputs": [],
   "source": [
    "listeTout=[\"string\", 1000, False, True]"
   ]
  },
  {
   "cell_type": "code",
   "execution_count": 18,
   "metadata": {},
   "outputs": [
    {
     "data": {
      "text/plain": [
       "True"
      ]
     },
     "execution_count": 18,
     "metadata": {},
     "output_type": "execute_result"
    }
   ],
   "source": [
    "listeTout[-1]"
   ]
  },
  {
   "cell_type": "code",
   "execution_count": 19,
   "metadata": {},
   "outputs": [
    {
     "data": {
      "text/plain": [
       "4"
      ]
     },
     "execution_count": 19,
     "metadata": {},
     "output_type": "execute_result"
    }
   ],
   "source": [
    "len(listeTout)"
   ]
  },
  {
   "cell_type": "markdown",
   "metadata": {},
   "source": [
    "$$\\int_{i=1}^{25}$$"
   ]
  },
  {
   "cell_type": "markdown",
   "metadata": {},
   "source": [
    "$$\\int_{i=1}^{25}$$"
   ]
  },
  {
   "cell_type": "markdown",
   "metadata": {},
   "source": [
    "la somme de ma fonction $\\sum_{i=1}^{25}$ aussi bla bla bla"
   ]
  },
  {
   "cell_type": "markdown",
   "metadata": {},
   "source": [
    "la somme de ma fonction $\\sum_{i=1}^{25}$ aussi bla bla bla"
   ]
  },
  {
   "cell_type": "markdown",
   "metadata": {},
   "source": [
    "## Les boucles"
   ]
  },
  {
   "cell_type": "code",
   "execution_count": 20,
   "metadata": {},
   "outputs": [
    {
     "name": "stdout",
     "output_type": "stream",
     "text": [
      "Montreal\n",
      "Laval\n",
      "Quebec\n"
     ]
    }
   ],
   "source": [
    "for i in villes:\n",
    "    print(i)"
   ]
  },
  {
   "cell_type": "code",
   "execution_count": 23,
   "metadata": {},
   "outputs": [
    {
     "name": "stdout",
     "output_type": "stream",
     "text": [
      "J'habite Montreal\n",
      "J'habite Laval\n",
      "J'habite Quebec\n"
     ]
    }
   ],
   "source": [
    "for i in villes:\n",
    "    print(\"J'habite \"+i)"
   ]
  },
  {
   "cell_type": "code",
   "execution_count": 32,
   "metadata": {},
   "outputs": [
    {
     "name": "stdout",
     "output_type": "stream",
     "text": [
      "Laval\n",
      "Quebec\n"
     ]
    }
   ],
   "source": [
    "for i in villes[1:3]:\n",
    "    print(i)"
   ]
  },
  {
   "cell_type": "code",
   "execution_count": 28,
   "metadata": {},
   "outputs": [
    {
     "name": "stdout",
     "output_type": "stream",
     "text": [
      "0\n",
      "1\n",
      "2\n",
      "3\n",
      "4\n"
     ]
    }
   ],
   "source": [
    "for i in range(5):\n",
    "    print(i)"
   ]
  },
  {
   "cell_type": "code",
   "execution_count": 30,
   "metadata": {},
   "outputs": [
    {
     "name": "stdout",
     "output_type": "stream",
     "text": [
      "13 divisé par 2 est égale à 6.5\n",
      "14 divisé par 2 est égale à 7.0\n",
      "15 divisé par 2 est égale à 7.5\n",
      "16 divisé par 2 est égale à 8.0\n",
      "17 divisé par 2 est égale à 8.5\n",
      "18 divisé par 2 est égale à 9.0\n",
      "19 divisé par 2 est égale à 9.5\n"
     ]
    }
   ],
   "source": [
    "for i in range(13,20):\n",
    "    print(i, \"divisé par\", 2 , \"est égale à\", i/2)"
   ]
  },
  {
   "cell_type": "markdown",
   "metadata": {},
   "source": [
    "## Test de comparaison"
   ]
  },
  {
   "cell_type": "code",
   "execution_count": 33,
   "metadata": {},
   "outputs": [
    {
     "data": {
      "text/plain": [
       "True"
      ]
     },
     "execution_count": 33,
     "metadata": {},
     "output_type": "execute_result"
    }
   ],
   "source": [
    "1==1"
   ]
  },
  {
   "cell_type": "code",
   "execution_count": 34,
   "metadata": {},
   "outputs": [
    {
     "data": {
      "text/plain": [
       "False"
      ]
     },
     "execution_count": 34,
     "metadata": {},
     "output_type": "execute_result"
    }
   ],
   "source": [
    "1==2"
   ]
  },
  {
   "cell_type": "code",
   "execution_count": 35,
   "metadata": {},
   "outputs": [
    {
     "data": {
      "text/plain": [
       "True"
      ]
     },
     "execution_count": 35,
     "metadata": {},
     "output_type": "execute_result"
    }
   ],
   "source": [
    "i!=2"
   ]
  },
  {
   "cell_type": "code",
   "execution_count": 36,
   "metadata": {},
   "outputs": [
    {
     "data": {
      "text/plain": [
       "True"
      ]
     },
     "execution_count": 36,
     "metadata": {},
     "output_type": "execute_result"
    }
   ],
   "source": [
    "2>1"
   ]
  },
  {
   "cell_type": "code",
   "execution_count": 37,
   "metadata": {},
   "outputs": [
    {
     "data": {
      "text/plain": [
       "False"
      ]
     },
     "execution_count": 37,
     "metadata": {},
     "output_type": "execute_result"
    }
   ],
   "source": [
    "[1,2,3]==[1,3,3]"
   ]
  },
  {
   "cell_type": "markdown",
   "metadata": {},
   "source": [
    "## Les fontions"
   ]
  },
  {
   "cell_type": "code",
   "execution_count": 38,
   "metadata": {
    "collapsed": true
   },
   "outputs": [],
   "source": [
    "def QqchPlusQqch(x,y):\n",
    "    resultat=x+y\n",
    "    return resultat\n",
    "    "
   ]
  },
  {
   "cell_type": "code",
   "execution_count": 39,
   "metadata": {},
   "outputs": [
    {
     "data": {
      "text/plain": [
       "7"
      ]
     },
     "execution_count": 39,
     "metadata": {},
     "output_type": "execute_result"
    }
   ],
   "source": [
    "QqchPlusQqch(3,4)"
   ]
  },
  {
   "cell_type": "markdown",
   "metadata": {},
   "source": [
    "## Numpy"
   ]
  },
  {
   "cell_type": "code",
   "execution_count": 40,
   "metadata": {
    "collapsed": true
   },
   "outputs": [],
   "source": [
    "import numpy as np"
   ]
  },
  {
   "cell_type": "markdown",
   "metadata": {},
   "source": [
    "Pour le contenu d'un élément dans la mémoire il faut taper la touche `tab`"
   ]
  },
  {
   "cell_type": "code",
   "execution_count": 41,
   "metadata": {
    "collapsed": true
   },
   "outputs": [],
   "source": [
    "maliste=[1,2,3,4,5]"
   ]
  },
  {
   "cell_type": "code",
   "execution_count": 42,
   "metadata": {},
   "outputs": [
    {
     "data": {
      "text/plain": [
       "[1, 2, 3, 4, 5]"
      ]
     },
     "execution_count": 42,
     "metadata": {},
     "output_type": "execute_result"
    }
   ],
   "source": [
    "maliste"
   ]
  },
  {
   "cell_type": "code",
   "execution_count": 44,
   "metadata": {},
   "outputs": [],
   "source": [
    "malisteVec=np.array(maliste)"
   ]
  },
  {
   "cell_type": "code",
   "execution_count": 46,
   "metadata": {},
   "outputs": [
    {
     "data": {
      "text/plain": [
       "array([ 0.5,  1. ,  1.5,  2. ,  2.5])"
      ]
     },
     "execution_count": 46,
     "metadata": {},
     "output_type": "execute_result"
    }
   ],
   "source": [
    "malisteVec/2"
   ]
  },
  {
   "cell_type": "code",
   "execution_count": null,
   "metadata": {
    "collapsed": true
   },
   "outputs": [],
   "source": [
    "ran"
   ]
  },
  {
   "cell_type": "code",
   "execution_count": 53,
   "metadata": {},
   "outputs": [],
   "source": [
    "liste2=np.arange(19,25)"
   ]
  },
  {
   "cell_type": "code",
   "execution_count": 55,
   "metadata": {},
   "outputs": [
    {
     "data": {
      "text/plain": [
       "array([19, 20, 21, 22, 23, 24])"
      ]
     },
     "execution_count": 55,
     "metadata": {},
     "output_type": "execute_result"
    }
   ],
   "source": [
    "liste2"
   ]
  },
  {
   "cell_type": "code",
   "execution_count": 56,
   "metadata": {
    "collapsed": true
   },
   "outputs": [],
   "source": [
    "liste=[malisteVec, liste2]"
   ]
  },
  {
   "cell_type": "code",
   "execution_count": 58,
   "metadata": {},
   "outputs": [
    {
     "data": {
      "text/plain": [
       "[array([1, 2, 3, 4, 5]), array([19, 20, 21, 22, 23, 24])]"
      ]
     },
     "execution_count": 58,
     "metadata": {},
     "output_type": "execute_result"
    }
   ],
   "source": [
    "liste"
   ]
  },
  {
   "cell_type": "code",
   "execution_count": 59,
   "metadata": {},
   "outputs": [
    {
     "data": {
      "text/plain": [
       "array([ 0.,  0.,  0.,  0.,  0.])"
      ]
     },
     "execution_count": 59,
     "metadata": {},
     "output_type": "execute_result"
    }
   ],
   "source": [
    "np.zeros(5)"
   ]
  },
  {
   "cell_type": "code",
   "execution_count": 60,
   "metadata": {},
   "outputs": [
    {
     "data": {
      "text/plain": [
       "array([ 1.,  1.,  1.,  1.,  1.])"
      ]
     },
     "execution_count": 60,
     "metadata": {},
     "output_type": "execute_result"
    }
   ],
   "source": [
    "np.ones(5)"
   ]
  },
  {
   "cell_type": "code",
   "execution_count": 61,
   "metadata": {},
   "outputs": [
    {
     "data": {
      "text/plain": [
       "array([ 0.,  0.,  0.,  0.,  0.])"
      ]
     },
     "execution_count": 61,
     "metadata": {},
     "output_type": "execute_result"
    }
   ],
   "source": [
    "np.empty(5)"
   ]
  },
  {
   "cell_type": "code",
   "execution_count": 63,
   "metadata": {},
   "outputs": [
    {
     "data": {
      "text/plain": [
       "array([ 5, 12, 19, 26, 33, 40, 47, 54, 61, 68, 75, 82, 89, 96])"
      ]
     },
     "execution_count": 63,
     "metadata": {},
     "output_type": "execute_result"
    }
   ],
   "source": [
    "np.arange(5,100, 7)"
   ]
  },
  {
   "cell_type": "markdown",
   "metadata": {},
   "source": [
    "# Pandas"
   ]
  },
  {
   "cell_type": "code",
   "execution_count": 64,
   "metadata": {
    "collapsed": true
   },
   "outputs": [],
   "source": [
    "import pandas as pd"
   ]
  },
  {
   "cell_type": "code",
   "execution_count": 69,
   "metadata": {
    "collapsed": true
   },
   "outputs": [],
   "source": [
    "df=pd.read_csv(\"https://raw.githubusercontent.com/nmeraihi/ACT3035/master/data/20171231-rpcninvage-cppndsbage.csv\")"
   ]
  },
  {
   "cell_type": "code",
   "execution_count": 72,
   "metadata": {},
   "outputs": [
    {
     "data": {
      "text/html": [
       "<div>\n",
       "<style>\n",
       "    .dataframe thead tr:only-child th {\n",
       "        text-align: right;\n",
       "    }\n",
       "\n",
       "    .dataframe thead th {\n",
       "        text-align: left;\n",
       "    }\n",
       "\n",
       "    .dataframe tbody tr th {\n",
       "        vertical-align: top;\n",
       "    }\n",
       "</style>\n",
       "<table border=\"1\" class=\"dataframe\">\n",
       "  <thead>\n",
       "    <tr style=\"text-align: right;\">\n",
       "      <th></th>\n",
       "      <th>Age</th>\n",
       "      <th>sexe</th>\n",
       "      <th>1993</th>\n",
       "      <th>1994</th>\n",
       "      <th>1995</th>\n",
       "      <th>1996</th>\n",
       "      <th>1997</th>\n",
       "      <th>1998</th>\n",
       "      <th>1999</th>\n",
       "      <th>2000</th>\n",
       "      <th>...</th>\n",
       "      <th>2008</th>\n",
       "      <th>2009</th>\n",
       "      <th>2010</th>\n",
       "      <th>2011</th>\n",
       "      <th>2012</th>\n",
       "      <th>2013</th>\n",
       "      <th>2014</th>\n",
       "      <th>2015</th>\n",
       "      <th>2016</th>\n",
       "      <th>2017</th>\n",
       "    </tr>\n",
       "  </thead>\n",
       "  <tbody>\n",
       "    <tr>\n",
       "      <th>0</th>\n",
       "      <td>-25</td>\n",
       "      <td>Male</td>\n",
       "      <td>145</td>\n",
       "      <td>135</td>\n",
       "      <td>116</td>\n",
       "      <td>61</td>\n",
       "      <td>78</td>\n",
       "      <td>97</td>\n",
       "      <td>55</td>\n",
       "      <td>50</td>\n",
       "      <td>...</td>\n",
       "      <td>63</td>\n",
       "      <td>93</td>\n",
       "      <td>70</td>\n",
       "      <td>72</td>\n",
       "      <td>59</td>\n",
       "      <td>53</td>\n",
       "      <td>45</td>\n",
       "      <td>50</td>\n",
       "      <td>37</td>\n",
       "      <td>59</td>\n",
       "    </tr>\n",
       "    <tr>\n",
       "      <th>1</th>\n",
       "      <td>25-29</td>\n",
       "      <td>Male</td>\n",
       "      <td>698</td>\n",
       "      <td>762</td>\n",
       "      <td>477</td>\n",
       "      <td>290</td>\n",
       "      <td>280</td>\n",
       "      <td>271</td>\n",
       "      <td>252</td>\n",
       "      <td>234</td>\n",
       "      <td>...</td>\n",
       "      <td>261</td>\n",
       "      <td>308</td>\n",
       "      <td>288</td>\n",
       "      <td>299</td>\n",
       "      <td>266</td>\n",
       "      <td>269</td>\n",
       "      <td>242</td>\n",
       "      <td>261</td>\n",
       "      <td>220</td>\n",
       "      <td>274</td>\n",
       "    </tr>\n",
       "    <tr>\n",
       "      <th>2</th>\n",
       "      <td>30-34</td>\n",
       "      <td>Male</td>\n",
       "      <td>1,510</td>\n",
       "      <td>1,679</td>\n",
       "      <td>1,112</td>\n",
       "      <td>741</td>\n",
       "      <td>730</td>\n",
       "      <td>651</td>\n",
       "      <td>619</td>\n",
       "      <td>452</td>\n",
       "      <td>...</td>\n",
       "      <td>404</td>\n",
       "      <td>494</td>\n",
       "      <td>540</td>\n",
       "      <td>501</td>\n",
       "      <td>478</td>\n",
       "      <td>446</td>\n",
       "      <td>446</td>\n",
       "      <td>443</td>\n",
       "      <td>477</td>\n",
       "      <td>560</td>\n",
       "    </tr>\n",
       "    <tr>\n",
       "      <th>3</th>\n",
       "      <td>35-39</td>\n",
       "      <td>Male</td>\n",
       "      <td>2,099</td>\n",
       "      <td>2,391</td>\n",
       "      <td>1,579</td>\n",
       "      <td>1,171</td>\n",
       "      <td>1,149</td>\n",
       "      <td>1,205</td>\n",
       "      <td>1,075</td>\n",
       "      <td>857</td>\n",
       "      <td>...</td>\n",
       "      <td>707</td>\n",
       "      <td>841</td>\n",
       "      <td>801</td>\n",
       "      <td>819</td>\n",
       "      <td>747</td>\n",
       "      <td>651</td>\n",
       "      <td>649</td>\n",
       "      <td>759</td>\n",
       "      <td>728</td>\n",
       "      <td>793</td>\n",
       "    </tr>\n",
       "    <tr>\n",
       "      <th>4</th>\n",
       "      <td>40-44</td>\n",
       "      <td>Male</td>\n",
       "      <td>2,804</td>\n",
       "      <td>3,159</td>\n",
       "      <td>2,107</td>\n",
       "      <td>1,534</td>\n",
       "      <td>1,486</td>\n",
       "      <td>1,600</td>\n",
       "      <td>1,467</td>\n",
       "      <td>1,259</td>\n",
       "      <td>...</td>\n",
       "      <td>1,270</td>\n",
       "      <td>1,332</td>\n",
       "      <td>1,322</td>\n",
       "      <td>1,389</td>\n",
       "      <td>1,212</td>\n",
       "      <td>1,072</td>\n",
       "      <td>1,028</td>\n",
       "      <td>1,185</td>\n",
       "      <td>1,112</td>\n",
       "      <td>1,239</td>\n",
       "    </tr>\n",
       "  </tbody>\n",
       "</table>\n",
       "<p>5 rows × 27 columns</p>\n",
       "</div>"
      ],
      "text/plain": [
       "     Age  sexe   1993   1994   1995   1996   1997   1998   1999   2000  ...    \\\n",
       "0    -25  Male    145    135    116     61     78     97     55     50  ...     \n",
       "1  25-29  Male    698    762    477    290    280    271    252    234  ...     \n",
       "2  30-34  Male  1,510  1,679  1,112    741    730    651    619    452  ...     \n",
       "3  35-39  Male  2,099  2,391  1,579  1,171  1,149  1,205  1,075    857  ...     \n",
       "4  40-44  Male  2,804  3,159  2,107  1,534  1,486  1,600  1,467  1,259  ...     \n",
       "\n",
       "    2008   2009   2010   2011   2012   2013   2014   2015   2016   2017  \n",
       "0     63     93     70     72     59     53     45     50     37     59  \n",
       "1    261    308    288    299    266    269    242    261    220    274  \n",
       "2    404    494    540    501    478    446    446    443    477    560  \n",
       "3    707    841    801    819    747    651    649    759    728    793  \n",
       "4  1,270  1,332  1,322  1,389  1,212  1,072  1,028  1,185  1,112  1,239  \n",
       "\n",
       "[5 rows x 27 columns]"
      ]
     },
     "execution_count": 72,
     "metadata": {},
     "output_type": "execute_result"
    }
   ],
   "source": [
    "df.head()"
   ]
  },
  {
   "cell_type": "code",
   "execution_count": 73,
   "metadata": {},
   "outputs": [
    {
     "data": {
      "text/html": [
       "<div>\n",
       "<style>\n",
       "    .dataframe thead tr:only-child th {\n",
       "        text-align: right;\n",
       "    }\n",
       "\n",
       "    .dataframe thead th {\n",
       "        text-align: left;\n",
       "    }\n",
       "\n",
       "    .dataframe tbody tr th {\n",
       "        vertical-align: top;\n",
       "    }\n",
       "</style>\n",
       "<table border=\"1\" class=\"dataframe\">\n",
       "  <thead>\n",
       "    <tr style=\"text-align: right;\">\n",
       "      <th></th>\n",
       "      <th>Age</th>\n",
       "      <th>sexe</th>\n",
       "      <th>1993</th>\n",
       "      <th>1994</th>\n",
       "      <th>1995</th>\n",
       "      <th>1996</th>\n",
       "      <th>1997</th>\n",
       "      <th>1998</th>\n",
       "      <th>1999</th>\n",
       "      <th>2000</th>\n",
       "      <th>...</th>\n",
       "      <th>2008</th>\n",
       "      <th>2009</th>\n",
       "      <th>2010</th>\n",
       "      <th>2011</th>\n",
       "      <th>2012</th>\n",
       "      <th>2013</th>\n",
       "      <th>2014</th>\n",
       "      <th>2015</th>\n",
       "      <th>2016</th>\n",
       "      <th>2017</th>\n",
       "    </tr>\n",
       "  </thead>\n",
       "  <tbody>\n",
       "    <tr>\n",
       "      <th>15</th>\n",
       "      <td>50-54</td>\n",
       "      <td>Female</td>\n",
       "      <td>4,452</td>\n",
       "      <td>4,803</td>\n",
       "      <td>3,378</td>\n",
       "      <td>2,437</td>\n",
       "      <td>2,530</td>\n",
       "      <td>2,722</td>\n",
       "      <td>2,799</td>\n",
       "      <td>2,689</td>\n",
       "      <td>...</td>\n",
       "      <td>3,470</td>\n",
       "      <td>3,735</td>\n",
       "      <td>3,857</td>\n",
       "      <td>4,133</td>\n",
       "      <td>4,084</td>\n",
       "      <td>3,846</td>\n",
       "      <td>3,741</td>\n",
       "      <td>4,398</td>\n",
       "      <td>4,126</td>\n",
       "      <td>3,990</td>\n",
       "    </tr>\n",
       "    <tr>\n",
       "      <th>16</th>\n",
       "      <td>55-59</td>\n",
       "      <td>Female</td>\n",
       "      <td>5,978</td>\n",
       "      <td>6,159</td>\n",
       "      <td>4,277</td>\n",
       "      <td>2,662</td>\n",
       "      <td>2,571</td>\n",
       "      <td>2,794</td>\n",
       "      <td>2,925</td>\n",
       "      <td>2,651</td>\n",
       "      <td>...</td>\n",
       "      <td>4,223</td>\n",
       "      <td>4,454</td>\n",
       "      <td>4,488</td>\n",
       "      <td>5,102</td>\n",
       "      <td>5,273</td>\n",
       "      <td>4,838</td>\n",
       "      <td>4,985</td>\n",
       "      <td>5,867</td>\n",
       "      <td>5,466</td>\n",
       "      <td>5,782</td>\n",
       "    </tr>\n",
       "    <tr>\n",
       "      <th>17</th>\n",
       "      <td>60-64</td>\n",
       "      <td>Female</td>\n",
       "      <td>4,322</td>\n",
       "      <td>4,324</td>\n",
       "      <td>2,820</td>\n",
       "      <td>1,799</td>\n",
       "      <td>1,683</td>\n",
       "      <td>1,878</td>\n",
       "      <td>1,796</td>\n",
       "      <td>1,752</td>\n",
       "      <td>...</td>\n",
       "      <td>3,171</td>\n",
       "      <td>3,207</td>\n",
       "      <td>3,141</td>\n",
       "      <td>3,405</td>\n",
       "      <td>3,731</td>\n",
       "      <td>3,205</td>\n",
       "      <td>3,272</td>\n",
       "      <td>3,890</td>\n",
       "      <td>3,517</td>\n",
       "      <td>3,661</td>\n",
       "    </tr>\n",
       "  </tbody>\n",
       "</table>\n",
       "<p>3 rows × 27 columns</p>\n",
       "</div>"
      ],
      "text/plain": [
       "      Age    sexe   1993   1994   1995   1996   1997   1998   1999   2000  \\\n",
       "15  50-54  Female  4,452  4,803  3,378  2,437  2,530  2,722  2,799  2,689   \n",
       "16  55-59  Female  5,978  6,159  4,277  2,662  2,571  2,794  2,925  2,651   \n",
       "17  60-64  Female  4,322  4,324  2,820  1,799  1,683  1,878  1,796  1,752   \n",
       "\n",
       "    ...     2008   2009   2010   2011   2012   2013   2014   2015   2016  \\\n",
       "15  ...    3,470  3,735  3,857  4,133  4,084  3,846  3,741  4,398  4,126   \n",
       "16  ...    4,223  4,454  4,488  5,102  5,273  4,838  4,985  5,867  5,466   \n",
       "17  ...    3,171  3,207  3,141  3,405  3,731  3,205  3,272  3,890  3,517   \n",
       "\n",
       "     2017  \n",
       "15  3,990  \n",
       "16  5,782  \n",
       "17  3,661  \n",
       "\n",
       "[3 rows x 27 columns]"
      ]
     },
     "execution_count": 73,
     "metadata": {},
     "output_type": "execute_result"
    }
   ],
   "source": [
    "df.tail(3)"
   ]
  },
  {
   "cell_type": "code",
   "execution_count": 74,
   "metadata": {
    "collapsed": true
   },
   "outputs": [],
   "source": [
    "df_tesla=pd.read_clipboard()"
   ]
  },
  {
   "cell_type": "code",
   "execution_count": 76,
   "metadata": {},
   "outputs": [
    {
     "data": {
      "text/html": [
       "<div>\n",
       "<style>\n",
       "    .dataframe thead tr:only-child th {\n",
       "        text-align: right;\n",
       "    }\n",
       "\n",
       "    .dataframe thead th {\n",
       "        text-align: left;\n",
       "    }\n",
       "\n",
       "    .dataframe tbody tr th {\n",
       "        vertical-align: top;\n",
       "    }\n",
       "</style>\n",
       "<table border=\"1\" class=\"dataframe\">\n",
       "  <thead>\n",
       "    <tr style=\"text-align: right;\">\n",
       "      <th></th>\n",
       "      <th>Date</th>\n",
       "      <th>Open</th>\n",
       "      <th>High</th>\n",
       "      <th>Low</th>\n",
       "      <th>Close*</th>\n",
       "      <th>Adj Close**</th>\n",
       "      <th>Volume</th>\n",
       "    </tr>\n",
       "  </thead>\n",
       "  <tbody>\n",
       "    <tr>\n",
       "      <th>0</th>\n",
       "      <td>Nov 11, 2019</td>\n",
       "      <td>343.95</td>\n",
       "      <td>349.19</td>\n",
       "      <td>342.00</td>\n",
       "      <td>345.09</td>\n",
       "      <td>345.09</td>\n",
       "      <td>9,986,700</td>\n",
       "    </tr>\n",
       "    <tr>\n",
       "      <th>1</th>\n",
       "      <td>Nov 08, 2019</td>\n",
       "      <td>334.50</td>\n",
       "      <td>337.46</td>\n",
       "      <td>332.50</td>\n",
       "      <td>337.14</td>\n",
       "      <td>337.14</td>\n",
       "      <td>6,069,200</td>\n",
       "    </tr>\n",
       "    <tr>\n",
       "      <th>2</th>\n",
       "      <td>Nov 07, 2019</td>\n",
       "      <td>329.14</td>\n",
       "      <td>341.50</td>\n",
       "      <td>328.02</td>\n",
       "      <td>335.54</td>\n",
       "      <td>335.54</td>\n",
       "      <td>14,467,300</td>\n",
       "    </tr>\n",
       "    <tr>\n",
       "      <th>3</th>\n",
       "      <td>Nov 06, 2019</td>\n",
       "      <td>318.00</td>\n",
       "      <td>326.72</td>\n",
       "      <td>314.50</td>\n",
       "      <td>326.58</td>\n",
       "      <td>326.58</td>\n",
       "      <td>7,940,900</td>\n",
       "    </tr>\n",
       "    <tr>\n",
       "      <th>4</th>\n",
       "      <td>Nov 05, 2019</td>\n",
       "      <td>319.62</td>\n",
       "      <td>323.51</td>\n",
       "      <td>316.12</td>\n",
       "      <td>317.22</td>\n",
       "      <td>317.22</td>\n",
       "      <td>6,943,400</td>\n",
       "    </tr>\n",
       "  </tbody>\n",
       "</table>\n",
       "</div>"
      ],
      "text/plain": [
       "           Date    Open    High     Low  Close*  Adj Close**      Volume\n",
       "0  Nov 11, 2019  343.95  349.19  342.00  345.09       345.09   9,986,700\n",
       "1  Nov 08, 2019  334.50  337.46  332.50  337.14       337.14   6,069,200\n",
       "2  Nov 07, 2019  329.14  341.50  328.02  335.54       335.54  14,467,300\n",
       "3  Nov 06, 2019  318.00  326.72  314.50  326.58       326.58   7,940,900\n",
       "4  Nov 05, 2019  319.62  323.51  316.12  317.22       317.22   6,943,400"
      ]
     },
     "execution_count": 76,
     "metadata": {},
     "output_type": "execute_result"
    }
   ],
   "source": [
    "df_tesla.head()"
   ]
  },
  {
   "cell_type": "code",
   "execution_count": 79,
   "metadata": {},
   "outputs": [
    {
     "data": {
      "text/plain": [
       "Index(['Date', 'Open', 'High', 'Low', 'Close*', 'Adj Close**', 'Volume'], dtype='object')"
      ]
     },
     "execution_count": 79,
     "metadata": {},
     "output_type": "execute_result"
    }
   ],
   "source": [
    "df_tesla.columns"
   ]
  },
  {
   "cell_type": "code",
   "execution_count": 80,
   "metadata": {},
   "outputs": [
    {
     "data": {
      "text/plain": [
       "['Date', 'Open', 'High', 'Low', 'Close*', 'Adj Close**', 'Volume']"
      ]
     },
     "execution_count": 80,
     "metadata": {},
     "output_type": "execute_result"
    }
   ],
   "source": [
    "list(df_tesla.columns)"
   ]
  },
  {
   "cell_type": "code",
   "execution_count": 81,
   "metadata": {
    "collapsed": true
   },
   "outputs": [],
   "source": [
    "df_tesla.columns=['Date', 'Open', 'High', 'Low', 'Close', 'AdjClose', 'Volume']"
   ]
  },
  {
   "cell_type": "code",
   "execution_count": 82,
   "metadata": {},
   "outputs": [
    {
     "data": {
      "text/html": [
       "<div>\n",
       "<style>\n",
       "    .dataframe thead tr:only-child th {\n",
       "        text-align: right;\n",
       "    }\n",
       "\n",
       "    .dataframe thead th {\n",
       "        text-align: left;\n",
       "    }\n",
       "\n",
       "    .dataframe tbody tr th {\n",
       "        vertical-align: top;\n",
       "    }\n",
       "</style>\n",
       "<table border=\"1\" class=\"dataframe\">\n",
       "  <thead>\n",
       "    <tr style=\"text-align: right;\">\n",
       "      <th></th>\n",
       "      <th>Date</th>\n",
       "      <th>Open</th>\n",
       "      <th>High</th>\n",
       "      <th>Low</th>\n",
       "      <th>Close</th>\n",
       "      <th>AdjClose</th>\n",
       "      <th>Volume</th>\n",
       "    </tr>\n",
       "  </thead>\n",
       "  <tbody>\n",
       "    <tr>\n",
       "      <th>0</th>\n",
       "      <td>Nov 11, 2019</td>\n",
       "      <td>343.95</td>\n",
       "      <td>349.19</td>\n",
       "      <td>342.00</td>\n",
       "      <td>345.09</td>\n",
       "      <td>345.09</td>\n",
       "      <td>9,986,700</td>\n",
       "    </tr>\n",
       "    <tr>\n",
       "      <th>1</th>\n",
       "      <td>Nov 08, 2019</td>\n",
       "      <td>334.50</td>\n",
       "      <td>337.46</td>\n",
       "      <td>332.50</td>\n",
       "      <td>337.14</td>\n",
       "      <td>337.14</td>\n",
       "      <td>6,069,200</td>\n",
       "    </tr>\n",
       "    <tr>\n",
       "      <th>2</th>\n",
       "      <td>Nov 07, 2019</td>\n",
       "      <td>329.14</td>\n",
       "      <td>341.50</td>\n",
       "      <td>328.02</td>\n",
       "      <td>335.54</td>\n",
       "      <td>335.54</td>\n",
       "      <td>14,467,300</td>\n",
       "    </tr>\n",
       "    <tr>\n",
       "      <th>3</th>\n",
       "      <td>Nov 06, 2019</td>\n",
       "      <td>318.00</td>\n",
       "      <td>326.72</td>\n",
       "      <td>314.50</td>\n",
       "      <td>326.58</td>\n",
       "      <td>326.58</td>\n",
       "      <td>7,940,900</td>\n",
       "    </tr>\n",
       "    <tr>\n",
       "      <th>4</th>\n",
       "      <td>Nov 05, 2019</td>\n",
       "      <td>319.62</td>\n",
       "      <td>323.51</td>\n",
       "      <td>316.12</td>\n",
       "      <td>317.22</td>\n",
       "      <td>317.22</td>\n",
       "      <td>6,943,400</td>\n",
       "    </tr>\n",
       "  </tbody>\n",
       "</table>\n",
       "</div>"
      ],
      "text/plain": [
       "           Date    Open    High     Low   Close  AdjClose      Volume\n",
       "0  Nov 11, 2019  343.95  349.19  342.00  345.09    345.09   9,986,700\n",
       "1  Nov 08, 2019  334.50  337.46  332.50  337.14    337.14   6,069,200\n",
       "2  Nov 07, 2019  329.14  341.50  328.02  335.54    335.54  14,467,300\n",
       "3  Nov 06, 2019  318.00  326.72  314.50  326.58    326.58   7,940,900\n",
       "4  Nov 05, 2019  319.62  323.51  316.12  317.22    317.22   6,943,400"
      ]
     },
     "execution_count": 82,
     "metadata": {},
     "output_type": "execute_result"
    }
   ],
   "source": [
    "df_tesla.head()"
   ]
  },
  {
   "cell_type": "code",
   "execution_count": 84,
   "metadata": {
    "collapsed": true
   },
   "outputs": [],
   "source": [
    "%matplotlib inline"
   ]
  },
  {
   "cell_type": "code",
   "execution_count": 85,
   "metadata": {},
   "outputs": [
    {
     "data": {
      "text/plain": [
       "<matplotlib.axes._subplots.AxesSubplot at 0x1b4eadb05c0>"
      ]
     },
     "execution_count": 85,
     "metadata": {},
     "output_type": "execute_result"
    },
    {
     "data": {
      "image/png": "[encoded data removed]",
      "text/plain": [
       "<matplotlib.figure.Figure at 0x1b4ea3df400>"
      ]
     },
     "metadata": {},
     "output_type": "display_data"
    }
   ],
   "source": [
    "df_tesla.Open.plot(legend=True, figsize=(10,4))"
   ]
  },
  {
   "cell_type": "code",
   "execution_count": null,
   "metadata": {
    "collapsed": true
   },
   "outputs": [],
   "source": []
  },
  {
   "cell_type": "code",
   "execution_count": null,
   "metadata": {
    "collapsed": true
   },
   "outputs": [],
   "source": []
  },
  {
   "cell_type": "code",
   "execution_count": null,
   "metadata": {
    "collapsed": true
   },
   "outputs": [],
   "source": []
  },
  {
   "cell_type": "code",
   "execution_count": null,
   "metadata": {
    "collapsed": true
   },
   "outputs": [],
   "source": []
  },
  {
   "cell_type": "code",
   "execution_count": null,
   "metadata": {
    "collapsed": true
   },
   "outputs": [],
   "source": []
  }
 ],
 "metadata": {
  "kernelspec": {
   "display_name": "Python 3",
   "language": "python",
   "name": "python3"
  },
  "language_info": {
   "codemirror_mode": {
    "name": "ipython",
    "version": 3
   },
   "file_extension": ".py",
   "mimetype": "text/x-python",
   "name": "python",
   "nbconvert_exporter": "python",
   "pygments_lexer": "ipython3",
   "version": "3.7.4"
  }
 },
 "nbformat": 4,
 "nbformat_minor": 2
}
