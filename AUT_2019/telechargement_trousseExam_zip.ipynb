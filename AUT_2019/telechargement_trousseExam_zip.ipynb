{
 "cells": [
  {
   "cell_type": "markdown",
   "metadata": {},
   "source": [
    "# Examen intra sur GitHub"
   ]
  },
  {
   "cell_type": "markdown",
   "metadata": {},
   "source": [
    "Ouvrez Google Chrome et allez sur le répertoire [ACT3030/AUT_2019/zzz_pratique_intra](https://github.com/nmeraihi/ACT3035/tree/master/AUT_2019/zzz_pratique_intra)"
   ]
  },
  {
   "cell_type": "markdown",
   "metadata": {},
   "source": [
    "# Téléchargement du dossier de la trousse d'examen `.zip`"
   ]
  },
  {
   "cell_type": "markdown",
   "metadata": {},
   "source": [
    "Cliquez la trousse d'examen **`trousseExam.zip`**"
   ]
  },
  {
   "cell_type": "markdown",
   "metadata": {},
   "source": [
    "![examen_intra](images/3_trousse.PNG)"
   ]
  },
  {
   "cell_type": "markdown",
   "metadata": {},
   "source": [
    "Ensuite, cliquez sur le bouton **download**"
   ]
  },
  {
   "cell_type": "markdown",
   "metadata": {},
   "source": [
    "![examen_intra](images/4_1_download.PNG)"
   ]
  },
  {
   "cell_type": "markdown",
   "metadata": {},
   "source": [
    "# Extraction du dossier compressé:"
   ]
  },
  {
   "cell_type": "markdown",
   "metadata": {},
   "source": [
    "1. Dans le dossier téléchargement, faites un click droit sur la trousse d'examen (compresse que vous venez de télécharger)\n",
    "2. Ensuite, cliquez sur **`Extraire tout...`**"
   ]
  },
  {
   "cell_type": "markdown",
   "metadata": {},
   "source": [
    "![examen_intraa](images/6_extraire.PNG)"
   ]
  },
  {
   "cell_type": "markdown",
   "metadata": {},
   "source": [
    "## Choisissez la destination de l'extraction"
   ]
  },
  {
   "cell_type": "markdown",
   "metadata": {},
   "source": [
    "1. Cliquez sur le bouton **parcourir** afin de sélectionner le dossier de destination (donc l'endroit où vous voulez extraire votre dossier compressé)\n",
    "2. Cliquez sur **`Bureau`** afin de choisir le **`Bureau`** comme endroit où vous voulez décompresser (extraire) le dossier \n",
    "3. Finalement, cliquez sur **`sélectionner le dossier`**\n"
   ]
  },
  {
   "cell_type": "markdown",
   "metadata": {},
   "source": [
    "![extract folder](images/7_extraire_bureau.PNG)"
   ]
  },
  {
   "cell_type": "markdown",
   "metadata": {},
   "source": [
    "4. Assurez vous que le dossier sélectionné est bien sur le bureau **`Desktop`**, ensuite cliquez sur **`Extraire`**"
   ]
  },
  {
   "cell_type": "markdown",
   "metadata": {},
   "source": [
    "![extract](images/8_extraire.PNG)"
   ]
  },
  {
   "cell_type": "markdown",
   "metadata": {},
   "source": [
    "Vous devriez trouver maintenant votre dossier décompressé sur votre bureau:"
   ]
  },
  {
   "cell_type": "markdown",
   "metadata": {},
   "source": [
    "![extract](images/9_trousse_sur_bureau.PNG)"
   ]
  },
  {
   "cell_type": "markdown",
   "metadata": {},
   "source": [
    "# Changement de l'application par défaut pour RStudio"
   ]
  },
  {
   "cell_type": "markdown",
   "metadata": {},
   "source": [
    "Dans le dossier téléchargé (TrousseExam) que vous avez décompressé précédemment, vous allez trouver le script de réponse \n",
    "1. Sur le script de réponse `.R`, faites un click droit\n",
    "2. Ensuite, cliquer sur le bouton modifier"
   ]
  },
  {
   "cell_type": "markdown",
   "metadata": {},
   "source": [
    "![](images/11_modifier.PNG)"
   ]
  },
  {
   "cell_type": "markdown",
   "metadata": {},
   "source": [
    "3. Choisissez RStudio\n",
    "4. Cliquez sur **`Ok`**\n",
    "5. Cliquez sur **`Appliquer`**\n",
    "6. Cliquez sur **`Ok`**"
   ]
  },
  {
   "cell_type": "markdown",
   "metadata": {},
   "source": [
    "![](images/12_RStudio.PNG)"
   ]
  },
  {
   "cell_type": "markdown",
   "metadata": {},
   "source": [
    "# Renomer le script de réponse"
   ]
  },
  {
   "cell_type": "markdown",
   "metadata": {},
   "source": [
    "Renommez votre script de réponse par votre code permanent\n"
   ]
  },
  {
   "cell_type": "markdown",
   "metadata": {},
   "source": [
    "![](images/10_ouvre_dossier.PNG)"
   ]
  },
  {
   "cell_type": "markdown",
   "metadata": {},
   "source": [
    "Ouvrez votre script afin d'y insérer vos réponses aux endroits désignés. Mais avant, insérer votre code permanent au début du script à l'endroit indiqué:"
   ]
  },
  {
   "cell_type": "markdown",
   "metadata": {},
   "source": [
    "![](images/13_CP.PNG)"
   ]
  }
 ],
 "metadata": {
  "kernelspec": {
   "display_name": "Python 3",
   "language": "python",
   "name": "python3"
  },
  "language_info": {
   "codemirror_mode": {
    "name": "ipython",
    "version": 3
   },
   "file_extension": ".py",
   "mimetype": "text/x-python",
   "name": "python",
   "nbconvert_exporter": "python",
   "pygments_lexer": "ipython3",
   "version": "3.7.3"
  }
 },
 "nbformat": 4,
 "nbformat_minor": 2
}
