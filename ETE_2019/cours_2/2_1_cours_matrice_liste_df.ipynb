{
 "cells": [
  {
   "cell_type": "markdown",
   "metadata": {
    "slideshow": {
     "slide_type": "slide"
    },
    "toc": "true"
   },
   "source": [
    "<h1>Table of Contents<span class=\"tocSkip\"></span></h1>\n",
    "<div class=\"toc\"><ul class=\"toc-item\"><li><span><a href=\"#Opérations-sur-les-matrices\" data-toc-modified-id=\"Opérations-sur-les-matrices-1\">Opérations sur les matrices</a></span><ul class=\"toc-item\"><li><span><a href=\"#apply\" data-toc-modified-id=\"apply-1.1\">apply</a></span></li><li><span><a href=\"#lapply\" data-toc-modified-id=\"lapply-1.2\">lapply</a></span></li><li><span><a href=\"#sapply\" data-toc-modified-id=\"sapply-1.3\">sapply</a></span></li><li><span><a href=\"#autre\" data-toc-modified-id=\"autre-1.4\">autre</a></span></li></ul></li><li><span><a href=\"#arrays\" data-toc-modified-id=\"arrays-2\">arrays</a></span></li><li><span><a href=\"#Listes\" data-toc-modified-id=\"Listes-3\">Listes</a></span></li><li><span><a href=\"#Data-Frames\" data-toc-modified-id=\"Data-Frames-4\">Data Frames</a></span></li></ul></div>"
   ]
  },
  {
   "cell_type": "code",
   "execution_count": 2,
   "metadata": {
    "collapsed": true,
    "slideshow": {
     "slide_type": "subslide"
    }
   },
   "outputs": [],
   "source": [
    "options(repr.matrix.max.cols=8, repr.matrix.max.rows=5)"
   ]
  },
  {
   "cell_type": "markdown",
   "metadata": {
    "slideshow": {
     "slide_type": "slide"
    }
   },
   "source": [
    "# Opérations sur les matrices\n"
   ]
  },
  {
   "cell_type": "markdown",
   "metadata": {
    "slideshow": {
     "slide_type": "subslide"
    }
   },
   "source": [
    "## apply"
   ]
  },
  {
   "cell_type": "markdown",
   "metadata": {
    "slideshow": {
     "slide_type": "fragment"
    }
   },
   "source": [
    "\n",
    "Nous avons vu qu'il était possible de faire des opérations sur les matrices en ligne ou en colonne. Toutefois, ce n'est pas toutes les fonctions statistiques qui sont applicables sur des colonnes et/ou lignes comme  `colMeans`. Pour appliquer d'utres sortes de fonctions, nous devons utiliser la fonction `apply`.\n",
    "\n",
    "On peut alors utiliser `apply` lorsqu'on veut appliquer un calcule ou une fonction quelconque (FUN) sur des colonnes ou des lignes d'une matrice (incluant les matrices plus que 2D)\n",
    "\n",
    "Soit une matrice de 12 premiers entiers;"
   ]
  },
  {
   "cell_type": "code",
   "execution_count": 2,
   "metadata": {
    "slideshow": {
     "slide_type": "subslide"
    }
   },
   "outputs": [
    {
     "data": {
      "text/html": [
       "<table>\n",
       "<tbody>\n",
       "\t<tr><td>1 </td><td>4 </td><td>7 </td><td>10</td></tr>\n",
       "\t<tr><td>2 </td><td>5 </td><td>8 </td><td>11</td></tr>\n",
       "\t<tr><td>3 </td><td>6 </td><td>9 </td><td>12</td></tr>\n",
       "</tbody>\n",
       "</table>\n"
      ],
      "text/latex": [
       "\\begin{tabular}{llll}\n",
       "\t 1  & 4  & 7  & 10\\\\\n",
       "\t 2  & 5  & 8  & 11\\\\\n",
       "\t 3  & 6  & 9  & 12\\\\\n",
       "\\end{tabular}\n"
      ],
      "text/markdown": [
       "\n",
       "| 1  | 4  | 7  | 10 | \n",
       "| 2  | 5  | 8  | 11 | \n",
       "| 3  | 6  | 9  | 12 | \n",
       "\n",
       "\n"
      ],
      "text/plain": [
       "     [,1] [,2] [,3] [,4]\n",
       "[1,] 1    4    7    10  \n",
       "[2,] 2    5    8    11  \n",
       "[3,] 3    6    9    12  "
      ]
     },
     "metadata": {},
     "output_type": "display_data"
    }
   ],
   "source": [
    "m<-matrix(1:12, nrow=3)\n",
    "m"
   ]
  },
  {
   "cell_type": "markdown",
   "metadata": {
    "slideshow": {
     "slide_type": "subslide"
    }
   },
   "source": [
    "Calculons le logarithme naturel de chaque élément de cette matrice:"
   ]
  },
  {
   "cell_type": "code",
   "execution_count": 3,
   "metadata": {
    "slideshow": {
     "slide_type": "fragment"
    }
   },
   "outputs": [
    {
     "data": {
      "text/html": [
       "<table>\n",
       "<tbody>\n",
       "\t<tr><td>0.0000000</td><td>1.386294 </td><td>1.945910 </td><td>2.302585 </td></tr>\n",
       "\t<tr><td>0.6931472</td><td>1.609438 </td><td>2.079442 </td><td>2.397895 </td></tr>\n",
       "\t<tr><td>1.0986123</td><td>1.791759 </td><td>2.197225 </td><td>2.484907 </td></tr>\n",
       "</tbody>\n",
       "</table>\n"
      ],
      "text/latex": [
       "\\begin{tabular}{llll}\n",
       "\t 0.0000000 & 1.386294  & 1.945910  & 2.302585 \\\\\n",
       "\t 0.6931472 & 1.609438  & 2.079442  & 2.397895 \\\\\n",
       "\t 1.0986123 & 1.791759  & 2.197225  & 2.484907 \\\\\n",
       "\\end{tabular}\n"
      ],
      "text/markdown": [
       "\n",
       "| 0.0000000 | 1.386294  | 1.945910  | 2.302585  | \n",
       "| 0.6931472 | 1.609438  | 2.079442  | 2.397895  | \n",
       "| 1.0986123 | 1.791759  | 2.197225  | 2.484907  | \n",
       "\n",
       "\n"
      ],
      "text/plain": [
       "     [,1]      [,2]     [,3]     [,4]    \n",
       "[1,] 0.0000000 1.386294 1.945910 2.302585\n",
       "[2,] 0.6931472 1.609438 2.079442 2.397895\n",
       "[3,] 1.0986123 1.791759 2.197225 2.484907"
      ]
     },
     "metadata": {},
     "output_type": "display_data"
    }
   ],
   "source": [
    "h<-apply(m, c(1,2), log) #c(1,2) ça veut dire sur ligne et colonne\n",
    "h"
   ]
  },
  {
   "cell_type": "markdown",
   "metadata": {
    "slideshow": {
     "slide_type": "subslide"
    }
   },
   "source": [
    "Créons une matrice `3 x 1` qui nous retourne le résultat de la somme de chaque ligne;"
   ]
  },
  {
   "cell_type": "code",
   "execution_count": 4,
   "metadata": {
    "slideshow": {
     "slide_type": "fragment"
    }
   },
   "outputs": [
    {
     "data": {
      "text/html": [
       "<table>\n",
       "<tbody>\n",
       "\t<tr><td>22</td></tr>\n",
       "\t<tr><td>26</td></tr>\n",
       "\t<tr><td>30</td></tr>\n",
       "</tbody>\n",
       "</table>\n"
      ],
      "text/latex": [
       "\\begin{tabular}{l}\n",
       "\t 22\\\\\n",
       "\t 26\\\\\n",
       "\t 30\\\\\n",
       "\\end{tabular}\n"
      ],
      "text/markdown": [
       "\n",
       "| 22 | \n",
       "| 26 | \n",
       "| 30 | \n",
       "\n",
       "\n"
      ],
      "text/plain": [
       "     [,1]\n",
       "[1,] 22  \n",
       "[2,] 26  \n",
       "[3,] 30  "
      ]
     },
     "metadata": {},
     "output_type": "display_data"
    }
   ],
   "source": [
    "h<-matrix(apply(m, 1, sum))\n",
    "h"
   ]
  },
  {
   "cell_type": "markdown",
   "metadata": {
    "slideshow": {
     "slide_type": "subslide"
    }
   },
   "source": [
    "Si nous comparerons à la fonction `rowSums` que nous avons vue;"
   ]
  },
  {
   "cell_type": "code",
   "execution_count": 7,
   "metadata": {
    "slideshow": {
     "slide_type": "fragment"
    }
   },
   "outputs": [
    {
     "data": {
      "text/html": [
       "<ol class=list-inline>\n",
       "\t<li>22</li>\n",
       "\t<li>26</li>\n",
       "\t<li>30</li>\n",
       "</ol>\n"
      ],
      "text/latex": [
       "\\begin{enumerate*}\n",
       "\\item 22\n",
       "\\item 26\n",
       "\\item 30\n",
       "\\end{enumerate*}\n"
      ],
      "text/markdown": [
       "1. 22\n",
       "2. 26\n",
       "3. 30\n",
       "\n",
       "\n"
      ],
      "text/plain": [
       "[1] 22 26 30"
      ]
     },
     "metadata": {},
     "output_type": "display_data"
    }
   ],
   "source": [
    "rowSums(m)"
   ]
  },
  {
   "cell_type": "markdown",
   "metadata": {
    "slideshow": {
     "slide_type": "slide"
    }
   },
   "source": [
    "## lapply"
   ]
  },
  {
   "cell_type": "markdown",
   "metadata": {
    "slideshow": {
     "slide_type": "subslide"
    }
   },
   "source": [
    "La fonction lapply applique une fonction quelconque (FUN) à tous les éléments d’un vecteur ou d’une liste X et retourne le résultat sous forme de liste."
   ]
  },
  {
   "cell_type": "markdown",
   "metadata": {
    "slideshow": {
     "slide_type": "fragment"
    }
   },
   "source": [
    "Dans l'exemple suivant, nous avons une liste de trois vecteurs {vecteur_1, vecteur_2, vecteur_3} de taille différente, on voudrait savoir quelle est la taille de chaque élément, on voudrait la réponse dans une **liste**;"
   ]
  },
  {
   "cell_type": "code",
   "execution_count": 4,
   "metadata": {
    "slideshow": {
     "slide_type": "subslide"
    }
   },
   "outputs": [
    {
     "data": {
      "text/html": [
       "<dl>\n",
       "\t<dt>$vecteur_1</dt>\n",
       "\t\t<dd>1</dd>\n",
       "\t<dt>$vecteur_2</dt>\n",
       "\t\t<dd>17</dd>\n",
       "\t<dt>$vecteur_3</dt>\n",
       "\t\t<dd>43</dd>\n",
       "</dl>\n"
      ],
      "text/latex": [
       "\\begin{description}\n",
       "\\item[\\$vecteur\\_1] 1\n",
       "\\item[\\$vecteur\\_2] 17\n",
       "\\item[\\$vecteur\\_3] 43\n",
       "\\end{description}\n"
      ],
      "text/markdown": [
       "$vecteur_1\n",
       ":   1\n",
       "$vecteur_2\n",
       ":   17\n",
       "$vecteur_3\n",
       ":   43\n",
       "\n",
       "\n"
      ],
      "text/plain": [
       "$vecteur_1\n",
       "[1] 1\n",
       "\n",
       "$vecteur_2\n",
       "[1] 17\n",
       "\n",
       "$vecteur_3\n",
       "[1] 43\n"
      ]
     },
     "metadata": {},
     "output_type": "display_data"
    }
   ],
   "source": [
    "x <- list(vecteur_1 = 1, vecteur_2 = 1:17, vecteur_3 = 55:97) \n",
    "lapply(x, FUN = length) "
   ]
  },
  {
   "cell_type": "markdown",
   "metadata": {
    "slideshow": {
     "slide_type": "subslide"
    }
   },
   "source": [
    "Dans le résultat ci-haut, la fonction `lapply` nous a retourné une liste de trois éléments avec la taille de chaque vecteur."
   ]
  },
  {
   "cell_type": "markdown",
   "metadata": {
    "slideshow": {
     "slide_type": "subslide"
    }
   },
   "source": [
    "Regardons un autre exemple où nous cherchons à créer quatre échantillons aléatoires de taille {5, 6, 7, 8} tirés du vecteur `x= 1 2 3 4 5 6 7 8 9 10`"
   ]
  },
  {
   "cell_type": "code",
   "execution_count": 5,
   "metadata": {
    "slideshow": {
     "slide_type": "subslide"
    }
   },
   "outputs": [
    {
     "data": {
      "text/html": [
       "<ol>\n",
       "\t<li><ol class=list-inline>\n",
       "\t<li>3</li>\n",
       "\t<li>8</li>\n",
       "\t<li>4</li>\n",
       "\t<li>7</li>\n",
       "\t<li>6</li>\n",
       "</ol>\n",
       "</li>\n",
       "\t<li><ol class=list-inline>\n",
       "\t<li>1</li>\n",
       "\t<li>5</li>\n",
       "\t<li>8</li>\n",
       "\t<li>4</li>\n",
       "\t<li>3</li>\n",
       "\t<li>9</li>\n",
       "</ol>\n",
       "</li>\n",
       "\t<li><ol class=list-inline>\n",
       "\t<li>5</li>\n",
       "\t<li>7</li>\n",
       "\t<li>10</li>\n",
       "\t<li>1</li>\n",
       "\t<li>6</li>\n",
       "\t<li>2</li>\n",
       "\t<li>9</li>\n",
       "</ol>\n",
       "</li>\n",
       "\t<li><ol class=list-inline>\n",
       "\t<li>4</li>\n",
       "\t<li>9</li>\n",
       "\t<li>8</li>\n",
       "\t<li>5</li>\n",
       "\t<li>10</li>\n",
       "\t<li>7</li>\n",
       "\t<li>3</li>\n",
       "\t<li>6</li>\n",
       "</ol>\n",
       "</li>\n",
       "</ol>\n"
      ],
      "text/latex": [
       "\\begin{enumerate}\n",
       "\\item \\begin{enumerate*}\n",
       "\\item 3\n",
       "\\item 8\n",
       "\\item 4\n",
       "\\item 7\n",
       "\\item 6\n",
       "\\end{enumerate*}\n",
       "\n",
       "\\item \\begin{enumerate*}\n",
       "\\item 1\n",
       "\\item 5\n",
       "\\item 8\n",
       "\\item 4\n",
       "\\item 3\n",
       "\\item 9\n",
       "\\end{enumerate*}\n",
       "\n",
       "\\item \\begin{enumerate*}\n",
       "\\item 5\n",
       "\\item 7\n",
       "\\item 10\n",
       "\\item 1\n",
       "\\item 6\n",
       "\\item 2\n",
       "\\item 9\n",
       "\\end{enumerate*}\n",
       "\n",
       "\\item \\begin{enumerate*}\n",
       "\\item 4\n",
       "\\item 9\n",
       "\\item 8\n",
       "\\item 5\n",
       "\\item 10\n",
       "\\item 7\n",
       "\\item 3\n",
       "\\item 6\n",
       "\\end{enumerate*}\n",
       "\n",
       "\\end{enumerate}\n"
      ],
      "text/markdown": [
       "1. 1. 3\n",
       "2. 8\n",
       "3. 4\n",
       "4. 7\n",
       "5. 6\n",
       "\n",
       "\n",
       "\n",
       "2. 1. 1\n",
       "2. 5\n",
       "3. 8\n",
       "4. 4\n",
       "5. 3\n",
       "6. 9\n",
       "\n",
       "\n",
       "\n",
       "3. 1. 5\n",
       "2. 7\n",
       "3. 10\n",
       "4. 1\n",
       "5. 6\n",
       "6. 2\n",
       "7. 9\n",
       "\n",
       "\n",
       "\n",
       "4. 1. 4\n",
       "2. 9\n",
       "3. 8\n",
       "4. 5\n",
       "5. 10\n",
       "6. 7\n",
       "7. 3\n",
       "8. 6\n",
       "\n",
       "\n",
       "\n",
       "\n",
       "\n"
      ],
      "text/plain": [
       "[[1]]\n",
       "[1] 3 8 4 7 6\n",
       "\n",
       "[[2]]\n",
       "[1] 1 5 8 4 3 9\n",
       "\n",
       "[[3]]\n",
       "[1]  5  7 10  1  6  2  9\n",
       "\n",
       "[[4]]\n",
       "[1]  4  9  8  5 10  7  3  6\n"
      ]
     },
     "metadata": {},
     "output_type": "display_data"
    }
   ],
   "source": [
    "set.seed(123)\n",
    "lapply(5:8, sample, x = 1:10)"
   ]
  },
  {
   "cell_type": "markdown",
   "metadata": {
    "slideshow": {
     "slide_type": "slide"
    }
   },
   "source": [
    "## sapply\n",
    "\n",
    "Dans certains cas, on voudrait appliquer une fonction quelconque sur une liste, mais on ne veut pas que `R` nous retourne une une liste, on désire plutôt que `R` nous retourne un vecteur. La fonction `sapply` fait exactement cela. Le résultat est donc **s**implifiée par rapport à celui de `lapply`, d’où le nom de la fonction. "
   ]
  },
  {
   "cell_type": "markdown",
   "metadata": {
    "slideshow": {
     "slide_type": "subslide"
    }
   },
   "source": [
    "La taille de chaque élément de notre liste;"
   ]
  },
  {
   "cell_type": "code",
   "execution_count": 7,
   "metadata": {
    "slideshow": {
     "slide_type": "fragment"
    }
   },
   "outputs": [
    {
     "data": {
      "text/html": [
       "<dl class=dl-horizontal>\n",
       "\t<dt>vecteur_1</dt>\n",
       "\t\t<dd>1</dd>\n",
       "\t<dt>vecteur_2</dt>\n",
       "\t\t<dd>17</dd>\n",
       "\t<dt>vecteur_3</dt>\n",
       "\t\t<dd>43</dd>\n",
       "</dl>\n"
      ],
      "text/latex": [
       "\\begin{description*}\n",
       "\\item[vecteur\\textbackslash{}\\_1] 1\n",
       "\\item[vecteur\\textbackslash{}\\_2] 17\n",
       "\\item[vecteur\\textbackslash{}\\_3] 43\n",
       "\\end{description*}\n"
      ],
      "text/markdown": [
       "vecteur_1\n",
       ":   1vecteur_2\n",
       ":   17vecteur_3\n",
       ":   43\n",
       "\n"
      ],
      "text/plain": [
       "vecteur_1 vecteur_2 vecteur_3 \n",
       "        1        17        43 "
      ]
     },
     "metadata": {},
     "output_type": "display_data"
    }
   ],
   "source": [
    "sapply(x, FUN = length)"
   ]
  },
  {
   "cell_type": "markdown",
   "metadata": {
    "slideshow": {
     "slide_type": "subslide"
    }
   },
   "source": [
    "ou la somme de chaque élément de notre liste `x`"
   ]
  },
  {
   "cell_type": "code",
   "execution_count": 6,
   "metadata": {
    "slideshow": {
     "slide_type": "fragment"
    }
   },
   "outputs": [
    {
     "data": {
      "text/html": [
       "<dl class=dl-horizontal>\n",
       "\t<dt>vecteur_1</dt>\n",
       "\t\t<dd>1</dd>\n",
       "\t<dt>vecteur_2</dt>\n",
       "\t\t<dd>153</dd>\n",
       "\t<dt>vecteur_3</dt>\n",
       "\t\t<dd>3268</dd>\n",
       "</dl>\n"
      ],
      "text/latex": [
       "\\begin{description*}\n",
       "\\item[vecteur\\textbackslash{}\\_1] 1\n",
       "\\item[vecteur\\textbackslash{}\\_2] 153\n",
       "\\item[vecteur\\textbackslash{}\\_3] 3268\n",
       "\\end{description*}\n"
      ],
      "text/markdown": [
       "vecteur_1\n",
       ":   1vecteur_2\n",
       ":   153vecteur_3\n",
       ":   3268\n",
       "\n"
      ],
      "text/plain": [
       "vecteur_1 vecteur_2 vecteur_3 \n",
       "        1       153      3268 "
      ]
     },
     "metadata": {},
     "output_type": "display_data"
    }
   ],
   "source": [
    "sapply(x, FUN = sum)   "
   ]
  },
  {
   "cell_type": "markdown",
   "metadata": {
    "slideshow": {
     "slide_type": "subslide"
    }
   },
   "source": [
    "Si le résultat de chaque application de la fonction est un vecteur et que les vecteurs sont tous de la même longueur, alors sapply retourne une matrice, remplie comme toujours par colonne :"
   ]
  },
  {
   "cell_type": "code",
   "execution_count": 7,
   "metadata": {
    "slideshow": {
     "slide_type": "fragment"
    }
   },
   "outputs": [
    {
     "data": {
      "text/html": [
       "<ol>\n",
       "\t<li><ol class=list-inline>\n",
       "\t<li>6</li>\n",
       "\t<li>10</li>\n",
       "\t<li>3</li>\n",
       "\t<li>2</li>\n",
       "\t<li>9</li>\n",
       "</ol>\n",
       "</li>\n",
       "\t<li><ol class=list-inline>\n",
       "\t<li>10</li>\n",
       "\t<li>7</li>\n",
       "\t<li>9</li>\n",
       "\t<li>1</li>\n",
       "\t<li>3</li>\n",
       "</ol>\n",
       "</li>\n",
       "\t<li><ol class=list-inline>\n",
       "\t<li>8</li>\n",
       "\t<li>2</li>\n",
       "\t<li>3</li>\n",
       "\t<li>9</li>\n",
       "\t<li>1</li>\n",
       "</ol>\n",
       "</li>\n",
       "</ol>\n"
      ],
      "text/latex": [
       "\\begin{enumerate}\n",
       "\\item \\begin{enumerate*}\n",
       "\\item 6\n",
       "\\item 10\n",
       "\\item 3\n",
       "\\item 2\n",
       "\\item 9\n",
       "\\end{enumerate*}\n",
       "\n",
       "\\item \\begin{enumerate*}\n",
       "\\item 10\n",
       "\\item 7\n",
       "\\item 9\n",
       "\\item 1\n",
       "\\item 3\n",
       "\\end{enumerate*}\n",
       "\n",
       "\\item \\begin{enumerate*}\n",
       "\\item 8\n",
       "\\item 2\n",
       "\\item 3\n",
       "\\item 9\n",
       "\\item 1\n",
       "\\end{enumerate*}\n",
       "\n",
       "\\end{enumerate}\n"
      ],
      "text/markdown": [
       "1. 1. 6\n",
       "2. 10\n",
       "3. 3\n",
       "4. 2\n",
       "5. 9\n",
       "\n",
       "\n",
       "\n",
       "2. 1. 10\n",
       "2. 7\n",
       "3. 9\n",
       "4. 1\n",
       "5. 3\n",
       "\n",
       "\n",
       "\n",
       "3. 1. 8\n",
       "2. 2\n",
       "3. 3\n",
       "4. 9\n",
       "5. 1\n",
       "\n",
       "\n",
       "\n",
       "\n",
       "\n"
      ],
      "text/plain": [
       "[[1]]\n",
       "[1]  6 10  3  2  9\n",
       "\n",
       "[[2]]\n",
       "[1] 10  7  9  1  3\n",
       "\n",
       "[[3]]\n",
       "[1] 8 2 3 9 1\n"
      ]
     },
     "metadata": {},
     "output_type": "display_data"
    }
   ],
   "source": [
    "(x <- lapply(rep(5, 3), sample, x = 1:10))"
   ]
  },
  {
   "cell_type": "code",
   "execution_count": 8,
   "metadata": {
    "slideshow": {
     "slide_type": "subslide"
    }
   },
   "outputs": [
    {
     "data": {
      "text/html": [
       "<table>\n",
       "<tbody>\n",
       "\t<tr><td> 2</td><td> 1</td><td>1 </td></tr>\n",
       "\t<tr><td> 3</td><td> 3</td><td>2 </td></tr>\n",
       "\t<tr><td> 6</td><td> 7</td><td>3 </td></tr>\n",
       "\t<tr><td> 9</td><td> 9</td><td>8 </td></tr>\n",
       "\t<tr><td>10</td><td>10</td><td>9 </td></tr>\n",
       "</tbody>\n",
       "</table>\n"
      ],
      "text/latex": [
       "\\begin{tabular}{lll}\n",
       "\t  2 &  1 & 1 \\\\\n",
       "\t  3 &  3 & 2 \\\\\n",
       "\t  6 &  7 & 3 \\\\\n",
       "\t  9 &  9 & 8 \\\\\n",
       "\t 10 & 10 & 9 \\\\\n",
       "\\end{tabular}\n"
      ],
      "text/markdown": [
       "\n",
       "|  2 |  1 | 1  | \n",
       "|  3 |  3 | 2  | \n",
       "|  6 |  7 | 3  | \n",
       "|  9 |  9 | 8  | \n",
       "| 10 | 10 | 9  | \n",
       "\n",
       "\n"
      ],
      "text/plain": [
       "     [,1] [,2] [,3]\n",
       "[1,]  2    1   1   \n",
       "[2,]  3    3   2   \n",
       "[3,]  6    7   3   \n",
       "[4,]  9    9   8   \n",
       "[5,] 10   10   9   "
      ]
     },
     "metadata": {},
     "output_type": "display_data"
    }
   ],
   "source": [
    "sapply(x, sort)"
   ]
  },
  {
   "cell_type": "markdown",
   "metadata": {
    "slideshow": {
     "slide_type": "slide"
    }
   },
   "source": [
    "## autre\n",
    "Il existe d'autres façons de manipuler les matrices, listes, vecteurs ...etc. Dans ce cours nous avons couvert les trois principaux, toutefois, on peut avoir besoin dans certains cas d'utiliser `vapply`, `mapply`, `Map`, `rapply` ou même `tapply` qui s'apparentent tous aux trois fonctions que nous avons couverts avec plus d'options ou format différent du résultat obtenu."
   ]
  },
  {
   "cell_type": "markdown",
   "metadata": {
    "toc": "true"
   },
   "source": [
    "<h1>Table of Contents<span class=\"tocSkip\"></span></h1>\n",
    "<div class=\"toc\"><ul class=\"toc-item\"><li><span><a href=\"#arrays\" data-toc-modified-id=\"arrays-1\">arrays</a></span></li><li><span><a href=\"#Listes\" data-toc-modified-id=\"Listes-2\">Listes</a></span></li><li><span><a href=\"#Data-Frames\" data-toc-modified-id=\"Data-Frames-3\">Data Frames</a></span></li></ul></div>"
   ]
  },
  {
   "cell_type": "markdown",
   "metadata": {
    "slideshow": {
     "slide_type": "slide"
    }
   },
   "source": [
    "# arrays"
   ]
  },
  {
   "cell_type": "markdown",
   "metadata": {
    "slideshow": {
     "slide_type": "fragment"
    }
   },
   "source": [
    "Les tableaux sont une généralisation des matrices. Le nombre de dimensions d'un tableau est égal à la longueur de l'attribut `dim`. Sa classe est \"array\""
   ]
  },
  {
   "cell_type": "code",
   "execution_count": 22,
   "metadata": {
    "slideshow": {
     "slide_type": "subslide"
    }
   },
   "outputs": [],
   "source": [
    "x<-array(1:24, dim=c(3,4,2))"
   ]
  },
  {
   "cell_type": "code",
   "execution_count": 23,
   "metadata": {
    "slideshow": {
     "slide_type": "fragment"
    }
   },
   "outputs": [
    {
     "data": {
      "text/html": [
       "<ol class=list-inline>\n",
       "\t<li>1</li>\n",
       "\t<li>2</li>\n",
       "\t<li>3</li>\n",
       "\t<li>4</li>\n",
       "\t<li>5</li>\n",
       "\t<li>6</li>\n",
       "\t<li>7</li>\n",
       "\t<li>8</li>\n",
       "\t<li>9</li>\n",
       "\t<li>10</li>\n",
       "\t<li>11</li>\n",
       "\t<li>12</li>\n",
       "\t<li>13</li>\n",
       "\t<li>14</li>\n",
       "\t<li>15</li>\n",
       "\t<li>16</li>\n",
       "\t<li>17</li>\n",
       "\t<li>18</li>\n",
       "\t<li>19</li>\n",
       "\t<li>20</li>\n",
       "\t<li>21</li>\n",
       "\t<li>22</li>\n",
       "\t<li>23</li>\n",
       "\t<li>24</li>\n",
       "</ol>\n"
      ],
      "text/latex": [
       "\\begin{enumerate*}\n",
       "\\item 1\n",
       "\\item 2\n",
       "\\item 3\n",
       "\\item 4\n",
       "\\item 5\n",
       "\\item 6\n",
       "\\item 7\n",
       "\\item 8\n",
       "\\item 9\n",
       "\\item 10\n",
       "\\item 11\n",
       "\\item 12\n",
       "\\item 13\n",
       "\\item 14\n",
       "\\item 15\n",
       "\\item 16\n",
       "\\item 17\n",
       "\\item 18\n",
       "\\item 19\n",
       "\\item 20\n",
       "\\item 21\n",
       "\\item 22\n",
       "\\item 23\n",
       "\\item 24\n",
       "\\end{enumerate*}\n"
      ],
      "text/markdown": [
       "1. 1\n",
       "2. 2\n",
       "3. 3\n",
       "4. 4\n",
       "5. 5\n",
       "6. 6\n",
       "7. 7\n",
       "8. 8\n",
       "9. 9\n",
       "10. 10\n",
       "11. 11\n",
       "12. 12\n",
       "13. 13\n",
       "14. 14\n",
       "15. 15\n",
       "16. 16\n",
       "17. 17\n",
       "18. 18\n",
       "19. 19\n",
       "20. 20\n",
       "21. 21\n",
       "22. 22\n",
       "23. 23\n",
       "24. 24\n",
       "\n",
       "\n"
      ],
      "text/plain": [
       ", , 1\n",
       "\n",
       "     [,1] [,2] [,3] [,4]\n",
       "[1,]    1    4    7   10\n",
       "[2,]    2    5    8   11\n",
       "[3,]    3    6    9   12\n",
       "\n",
       ", , 2\n",
       "\n",
       "     [,1] [,2] [,3] [,4]\n",
       "[1,]   13   16   19   22\n",
       "[2,]   14   17   20   23\n",
       "[3,]   15   18   21   24\n"
      ]
     },
     "metadata": {},
     "output_type": "display_data"
    }
   ],
   "source": [
    "x"
   ]
  },
  {
   "cell_type": "markdown",
   "metadata": {
    "slideshow": {
     "slide_type": "subslide"
    }
   },
   "source": [
    "Les tableaux sont un cas spécial des matrices. Ils sont comme des vecteurs ou des matrices, à l'exception d'avoir des attributs additionnels."
   ]
  },
  {
   "cell_type": "markdown",
   "metadata": {
    "slideshow": {
     "slide_type": "slide"
    }
   },
   "source": [
    "# Listes"
   ]
  },
  {
   "cell_type": "markdown",
   "metadata": {
    "slideshow": {
     "slide_type": "subslide"
    }
   },
   "source": [
    "Les listes sont un type de vecteur spécial qui peut être composé d'élément ayant n'importe laquelle classe (numérique, string ou booléen)."
   ]
  },
  {
   "cell_type": "code",
   "execution_count": 41,
   "metadata": {
    "slideshow": {
     "slide_type": "fragment"
    }
   },
   "outputs": [
    {
     "data": {
      "text/html": [
       "<dl>\n",
       "\t<dt>$taille</dt>\n",
       "\t\t<dd><ol class=list-inline>\n",
       "\t<li>1</li>\n",
       "\t<li>5</li>\n",
       "\t<li>2</li>\n",
       "</ol>\n",
       "</dd>\n",
       "\t<dt>$utilisateur</dt>\n",
       "\t\t<dd>'Mike'</dd>\n",
       "\t<dt>$new</dt>\n",
       "\t\t<dd>TRUE</dd>\n",
       "</dl>\n"
      ],
      "text/latex": [
       "\\begin{description}\n",
       "\\item[\\$taille] \\begin{enumerate*}\n",
       "\\item 1\n",
       "\\item 5\n",
       "\\item 2\n",
       "\\end{enumerate*}\n",
       "\n",
       "\\item[\\$utilisateur] 'Mike'\n",
       "\\item[\\$new] TRUE\n",
       "\\end{description}\n"
      ],
      "text/markdown": [
       "$taille\n",
       ":   1. 1\n",
       "2. 5\n",
       "3. 2\n",
       "\n",
       "\n",
       "\n",
       "$utilisateur\n",
       ":   'Mike'\n",
       "$new\n",
       ":   TRUE\n",
       "\n",
       "\n"
      ],
      "text/plain": [
       "$taille\n",
       "[1] 1 5 2\n",
       "\n",
       "$utilisateur\n",
       "[1] \"Mike\"\n",
       "\n",
       "$new\n",
       "[1] TRUE\n"
      ]
     },
     "metadata": {},
     "output_type": "display_data"
    }
   ],
   "source": [
    "(x <- list(taille = c(1, 5, 2), utilisateur = \"Mike\", new = TRUE))"
   ]
  },
  {
   "cell_type": "markdown",
   "metadata": {
    "slideshow": {
     "slide_type": "subslide"
    }
   },
   "source": [
    "Puisque la liste un vecteur, on peut alors extraire avec les crochets `[]`"
   ]
  },
  {
   "cell_type": "code",
   "execution_count": 42,
   "metadata": {
    "slideshow": {
     "slide_type": "fragment"
    }
   },
   "outputs": [
    {
     "data": {
      "text/html": [
       "<strong>$taille</strong> = <ol class=list-inline>\n",
       "\t<li>1</li>\n",
       "\t<li>5</li>\n",
       "\t<li>2</li>\n",
       "</ol>\n"
      ],
      "text/latex": [
       "\\textbf{\\$taille} = \\begin{enumerate*}\n",
       "\\item 1\n",
       "\\item 5\n",
       "\\item 2\n",
       "\\end{enumerate*}\n"
      ],
      "text/markdown": [
       "**$taille** = 1. 1\n",
       "2. 5\n",
       "3. 2\n",
       "\n",
       "\n"
      ],
      "text/plain": [
       "$taille\n",
       "[1] 1 5 2\n"
      ]
     },
     "metadata": {},
     "output_type": "display_data"
    }
   ],
   "source": [
    "x[1]"
   ]
  },
  {
   "cell_type": "code",
   "execution_count": 43,
   "metadata": {
    "slideshow": {
     "slide_type": "fragment"
    }
   },
   "outputs": [
    {
     "data": {
      "text/html": [
       "<ol class=list-inline>\n",
       "\t<li>1</li>\n",
       "\t<li>5</li>\n",
       "\t<li>2</li>\n",
       "</ol>\n"
      ],
      "text/latex": [
       "\\begin{enumerate*}\n",
       "\\item 1\n",
       "\\item 5\n",
       "\\item 2\n",
       "\\end{enumerate*}\n"
      ],
      "text/markdown": [
       "1. 1\n",
       "2. 5\n",
       "3. 2\n",
       "\n",
       "\n"
      ],
      "text/plain": [
       "[1] 1 5 2"
      ]
     },
     "metadata": {},
     "output_type": "display_data"
    }
   ],
   "source": [
    "x[[1]]"
   ]
  },
  {
   "cell_type": "code",
   "execution_count": 44,
   "metadata": {
    "slideshow": {
     "slide_type": "fragment"
    }
   },
   "outputs": [
    {
     "data": {
      "text/html": [
       "<ol class=list-inline>\n",
       "\t<li>1</li>\n",
       "\t<li>5</li>\n",
       "\t<li>2</li>\n",
       "</ol>\n"
      ],
      "text/latex": [
       "\\begin{enumerate*}\n",
       "\\item 1\n",
       "\\item 5\n",
       "\\item 2\n",
       "\\end{enumerate*}\n"
      ],
      "text/markdown": [
       "1. 1\n",
       "2. 5\n",
       "3. 2\n",
       "\n",
       "\n"
      ],
      "text/plain": [
       "[1] 1 5 2"
      ]
     },
     "metadata": {},
     "output_type": "display_data"
    }
   ],
   "source": [
    "x$taille"
   ]
  },
  {
   "cell_type": "code",
   "execution_count": 46,
   "metadata": {
    "slideshow": {
     "slide_type": "fragment"
    }
   },
   "outputs": [
    {
     "data": {
      "text/html": [
       "'Mike'"
      ],
      "text/latex": [
       "'Mike'"
      ],
      "text/markdown": [
       "'Mike'"
      ],
      "text/plain": [
       "[1] \"Mike\""
      ]
     },
     "metadata": {},
     "output_type": "display_data"
    }
   ],
   "source": [
    "x$utilisateur"
   ]
  },
  {
   "cell_type": "markdown",
   "metadata": {
    "slideshow": {
     "slide_type": "subslide"
    }
   },
   "source": [
    "# Data Frames"
   ]
  },
  {
   "cell_type": "markdown",
   "metadata": {
    "slideshow": {
     "slide_type": "subslide"
    }
   },
   "source": [
    "Un _Data Frame_ est une **liste** de vecteurs de même longueur. Conceptuellement, c'est une matrice dont les lignes correspondent aux variables explicatives, et les lignes sont les valeurs mesurées de ces variables."
   ]
  },
  {
   "cell_type": "code",
   "execution_count": 46,
   "metadata": {
    "collapsed": true,
    "slideshow": {
     "slide_type": "fragment"
    }
   },
   "outputs": [],
   "source": [
    "villes <-c(\"Montréal\", \"Québec\", \"Laval\")\n",
    "Population <-c(1942044, 585485, 430077)\n",
    "village <-c(F,T,T)"
   ]
  },
  {
   "cell_type": "code",
   "execution_count": 47,
   "metadata": {
    "collapsed": true,
    "slideshow": {
     "slide_type": "subslide"
    }
   },
   "outputs": [],
   "source": [
    "donnees_ville <-data.frame(villes, Population, village)"
   ]
  },
  {
   "cell_type": "code",
   "execution_count": 48,
   "metadata": {
    "slideshow": {
     "slide_type": "fragment"
    }
   },
   "outputs": [
    {
     "data": {
      "text/html": [
       "<table>\n",
       "<thead><tr><th scope=col>villes</th><th scope=col>Population</th><th scope=col>village</th></tr></thead>\n",
       "<tbody>\n",
       "\t<tr><td>Montréal</td><td>1942044 </td><td>FALSE   </td></tr>\n",
       "\t<tr><td>Québec  </td><td> 585485 </td><td> TRUE   </td></tr>\n",
       "\t<tr><td>Laval   </td><td> 430077 </td><td> TRUE   </td></tr>\n",
       "</tbody>\n",
       "</table>\n"
      ],
      "text/latex": [
       "\\begin{tabular}{r|lll}\n",
       " villes & Population & village\\\\\n",
       "\\hline\n",
       "\t Montréal & 1942044  & FALSE   \\\\\n",
       "\t Québec   &  585485  &  TRUE   \\\\\n",
       "\t Laval    &  430077  &  TRUE   \\\\\n",
       "\\end{tabular}\n"
      ],
      "text/markdown": [
       "\n",
       "villes | Population | village | \n",
       "|---|---|---|\n",
       "| Montréal | 1942044  | FALSE    | \n",
       "| Québec   |  585485  |  TRUE    | \n",
       "| Laval    |  430077  |  TRUE    | \n",
       "\n",
       "\n"
      ],
      "text/plain": [
       "  villes   Population village\n",
       "1 Montréal 1942044    FALSE  \n",
       "2 Québec    585485     TRUE  \n",
       "3 Laval     430077     TRUE  "
      ]
     },
     "metadata": {},
     "output_type": "display_data"
    }
   ],
   "source": [
    "donnees_ville"
   ]
  },
  {
   "cell_type": "markdown",
   "metadata": {
    "slideshow": {
     "slide_type": "subslide"
    }
   },
   "source": [
    "Si l’on vérifie les attributs de ce _data frame_"
   ]
  },
  {
   "cell_type": "code",
   "execution_count": 49,
   "metadata": {
    "slideshow": {
     "slide_type": "fragment"
    }
   },
   "outputs": [
    {
     "data": {
      "text/html": [
       "<dl>\n",
       "\t<dt>$names</dt>\n",
       "\t\t<dd><ol class=list-inline>\n",
       "\t<li>'villes'</li>\n",
       "\t<li>'Population'</li>\n",
       "\t<li>'village'</li>\n",
       "</ol>\n",
       "</dd>\n",
       "\t<dt>$row.names</dt>\n",
       "\t\t<dd><ol class=list-inline>\n",
       "\t<li>1</li>\n",
       "\t<li>2</li>\n",
       "\t<li>3</li>\n",
       "</ol>\n",
       "</dd>\n",
       "\t<dt>$class</dt>\n",
       "\t\t<dd>'data.frame'</dd>\n",
       "</dl>\n"
      ],
      "text/latex": [
       "\\begin{description}\n",
       "\\item[\\$names] \\begin{enumerate*}\n",
       "\\item 'villes'\n",
       "\\item 'Population'\n",
       "\\item 'village'\n",
       "\\end{enumerate*}\n",
       "\n",
       "\\item[\\$row.names] \\begin{enumerate*}\n",
       "\\item 1\n",
       "\\item 2\n",
       "\\item 3\n",
       "\\end{enumerate*}\n",
       "\n",
       "\\item[\\$class] 'data.frame'\n",
       "\\end{description}\n"
      ],
      "text/markdown": [
       "$names\n",
       ":   1. 'villes'\n",
       "2. 'Population'\n",
       "3. 'village'\n",
       "\n",
       "\n",
       "\n",
       "$row.names\n",
       ":   1. 1\n",
       "2. 2\n",
       "3. 3\n",
       "\n",
       "\n",
       "\n",
       "$class\n",
       ":   'data.frame'\n",
       "\n",
       "\n"
      ],
      "text/plain": [
       "$names\n",
       "[1] \"villes\"     \"Population\" \"village\"   \n",
       "\n",
       "$row.names\n",
       "[1] 1 2 3\n",
       "\n",
       "$class\n",
       "[1] \"data.frame\"\n"
      ]
     },
     "metadata": {},
     "output_type": "display_data"
    }
   ],
   "source": [
    "attributes(donnees_ville)"
   ]
  },
  {
   "cell_type": "markdown",
   "metadata": {
    "slideshow": {
     "slide_type": "subslide"
    }
   },
   "source": [
    "ça nous donne les étiquettes des colonnes, le nom de colonnes (numéros) et la classe"
   ]
  },
  {
   "cell_type": "code",
   "execution_count": 51,
   "metadata": {
    "slideshow": {
     "slide_type": "subslide"
    }
   },
   "outputs": [
    {
     "data": {
      "text/html": [
       "<ol class=list-inline>\n",
       "\t<li>Montréal</li>\n",
       "\t<li>Québec</li>\n",
       "\t<li>Laval</li>\n",
       "</ol>\n"
      ],
      "text/latex": [
       "\\begin{enumerate*}\n",
       "\\item Montréal\n",
       "\\item Québec\n",
       "\\item Laval\n",
       "\\end{enumerate*}\n"
      ],
      "text/markdown": [
       "1. Montréal\n",
       "2. Québec\n",
       "3. Laval\n",
       "\n",
       "\n"
      ],
      "text/plain": [
       "[1] Montréal Québec   Laval   \n",
       "Levels: Laval Montréal Québec"
      ]
     },
     "metadata": {},
     "output_type": "display_data"
    }
   ],
   "source": [
    " donnees_ville[,1]"
   ]
  },
  {
   "cell_type": "code",
   "execution_count": 52,
   "metadata": {
    "slideshow": {
     "slide_type": "subslide"
    }
   },
   "outputs": [
    {
     "data": {
      "text/html": [
       "<ol class=list-inline>\n",
       "\t<li>1942044</li>\n",
       "\t<li>585485</li>\n",
       "\t<li>430077</li>\n",
       "</ol>\n"
      ],
      "text/latex": [
       "\\begin{enumerate*}\n",
       "\\item 1942044\n",
       "\\item 585485\n",
       "\\item 430077\n",
       "\\end{enumerate*}\n"
      ],
      "text/markdown": [
       "1. 1942044\n",
       "2. 585485\n",
       "3. 430077\n",
       "\n",
       "\n"
      ],
      "text/plain": [
       "[1] 1942044  585485  430077"
      ]
     },
     "metadata": {},
     "output_type": "display_data"
    }
   ],
   "source": [
    " donnees_ville[,2]"
   ]
  },
  {
   "cell_type": "code",
   "execution_count": 53,
   "metadata": {
    "slideshow": {
     "slide_type": "fragment"
    }
   },
   "outputs": [
    {
     "data": {
      "text/html": [
       "Québec"
      ],
      "text/latex": [
       "Québec"
      ],
      "text/markdown": [
       "Québec"
      ],
      "text/plain": [
       "[1] Québec\n",
       "Levels: Laval Montréal Québec"
      ]
     },
     "metadata": {},
     "output_type": "display_data"
    }
   ],
   "source": [
    " donnees_ville[2,1]"
   ]
  },
  {
   "cell_type": "markdown",
   "metadata": {
    "slideshow": {
     "slide_type": "subslide"
    }
   },
   "source": [
    "Ou par nom;"
   ]
  },
  {
   "cell_type": "code",
   "execution_count": 54,
   "metadata": {
    "slideshow": {
     "slide_type": "fragment"
    }
   },
   "outputs": [
    {
     "data": {
      "text/html": [
       "<ol class=list-inline>\n",
       "\t<li>1942044</li>\n",
       "\t<li>585485</li>\n",
       "\t<li>430077</li>\n",
       "</ol>\n"
      ],
      "text/latex": [
       "\\begin{enumerate*}\n",
       "\\item 1942044\n",
       "\\item 585485\n",
       "\\item 430077\n",
       "\\end{enumerate*}\n"
      ],
      "text/markdown": [
       "1. 1942044\n",
       "2. 585485\n",
       "3. 430077\n",
       "\n",
       "\n"
      ],
      "text/plain": [
       "[1] 1942044  585485  430077"
      ]
     },
     "metadata": {},
     "output_type": "display_data"
    }
   ],
   "source": [
    "donnees_ville$Population"
   ]
  },
  {
   "cell_type": "markdown",
   "metadata": {
    "slideshow": {
     "slide_type": "subslide"
    }
   },
   "source": [
    "Remarquez que les villes ne s'affichent pas entre guillemets comme des strings, mais plutôt comme des `levels`, Si l’on voulait les avoir en strings, il faut ajouter l'argument `stringAsFactors=F`"
   ]
  },
  {
   "cell_type": "code",
   "execution_count": 50,
   "metadata": {
    "collapsed": true,
    "slideshow": {
     "slide_type": "fragment"
    }
   },
   "outputs": [],
   "source": [
    " donnees_ville <-data.frame(villes, Population, village, stringsAsFactors=F)"
   ]
  },
  {
   "cell_type": "code",
   "execution_count": 51,
   "metadata": {
    "slideshow": {
     "slide_type": "fragment"
    }
   },
   "outputs": [
    {
     "data": {
      "text/html": [
       "<table>\n",
       "<thead><tr><th scope=col>villes</th><th scope=col>Population</th><th scope=col>village</th></tr></thead>\n",
       "<tbody>\n",
       "\t<tr><td>Montréal</td><td>1942044 </td><td>FALSE   </td></tr>\n",
       "\t<tr><td>Québec  </td><td> 585485 </td><td> TRUE   </td></tr>\n",
       "\t<tr><td>Laval   </td><td> 430077 </td><td> TRUE   </td></tr>\n",
       "</tbody>\n",
       "</table>\n"
      ],
      "text/latex": [
       "\\begin{tabular}{r|lll}\n",
       " villes & Population & village\\\\\n",
       "\\hline\n",
       "\t Montréal & 1942044  & FALSE   \\\\\n",
       "\t Québec   &  585485  &  TRUE   \\\\\n",
       "\t Laval    &  430077  &  TRUE   \\\\\n",
       "\\end{tabular}\n"
      ],
      "text/markdown": [
       "\n",
       "villes | Population | village | \n",
       "|---|---|---|\n",
       "| Montréal | 1942044  | FALSE    | \n",
       "| Québec   |  585485  |  TRUE    | \n",
       "| Laval    |  430077  |  TRUE    | \n",
       "\n",
       "\n"
      ],
      "text/plain": [
       "  villes   Population village\n",
       "1 Montréal 1942044    FALSE  \n",
       "2 Québec    585485     TRUE  \n",
       "3 Laval     430077     TRUE  "
      ]
     },
     "metadata": {},
     "output_type": "display_data"
    }
   ],
   "source": [
    "donnees_ville"
   ]
  },
  {
   "cell_type": "code",
   "execution_count": 52,
   "metadata": {
    "slideshow": {
     "slide_type": "subslide"
    }
   },
   "outputs": [
    {
     "data": {
      "text/html": [
       "<ol class=list-inline>\n",
       "\t<li>'Montréal'</li>\n",
       "\t<li>'Québec'</li>\n",
       "\t<li>'Laval'</li>\n",
       "</ol>\n"
      ],
      "text/latex": [
       "\\begin{enumerate*}\n",
       "\\item 'Montréal'\n",
       "\\item 'Québec'\n",
       "\\item 'Laval'\n",
       "\\end{enumerate*}\n"
      ],
      "text/markdown": [
       "1. 'Montréal'\n",
       "2. 'Québec'\n",
       "3. 'Laval'\n",
       "\n",
       "\n"
      ],
      "text/plain": [
       "[1] \"Montréal\" \"Québec\"   \"Laval\"   "
      ]
     },
     "metadata": {},
     "output_type": "display_data"
    }
   ],
   "source": [
    " donnees_ville$villes   "
   ]
  },
  {
   "cell_type": "markdown",
   "metadata": {
    "slideshow": {
     "slide_type": "subslide"
    }
   },
   "source": [
    "Une fonction très utile afin d'avoir un résumé sur les éléments du `df`"
   ]
  },
  {
   "cell_type": "code",
   "execution_count": 53,
   "metadata": {
    "slideshow": {
     "slide_type": "fragment"
    }
   },
   "outputs": [
    {
     "name": "stdout",
     "output_type": "stream",
     "text": [
      "'data.frame':\t3 obs. of  3 variables:\n",
      " $ villes    : chr  \"Montréal\" \"Québec\" \"Laval\"\n",
      " $ Population: num  1942044 585485 430077\n",
      " $ village   : logi  FALSE TRUE TRUE\n"
     ]
    }
   ],
   "source": [
    "str(donnees_ville)"
   ]
  },
  {
   "cell_type": "code",
   "execution_count": 54,
   "metadata": {
    "collapsed": true,
    "slideshow": {
     "slide_type": "subslide"
    }
   },
   "outputs": [],
   "source": [
    "df<-donnees_ville"
   ]
  },
  {
   "cell_type": "code",
   "execution_count": 55,
   "metadata": {
    "slideshow": {
     "slide_type": "fragment"
    }
   },
   "outputs": [
    {
     "data": {
      "text/plain": [
       "    villes            Population       village       \n",
       " Length:3           Min.   : 430077   Mode :logical  \n",
       " Class :character   1st Qu.: 507781   FALSE:1        \n",
       " Mode  :character   Median : 585485   TRUE :2        \n",
       "                    Mean   : 985869   NA's :0        \n",
       "                    3rd Qu.:1263764                  \n",
       "                    Max.   :1942044                  "
      ]
     },
     "metadata": {},
     "output_type": "display_data"
    }
   ],
   "source": [
    "summary(df)"
   ]
  },
  {
   "cell_type": "markdown",
   "metadata": {
    "slideshow": {
     "slide_type": "subslide"
    }
   },
   "source": [
    "On se rappelle des données `Cars93`, ce sont des données sous format df. Chargeons-les afin de travailler avec quelques exemples."
   ]
  },
  {
   "cell_type": "code",
   "execution_count": 20,
   "metadata": {
    "slideshow": {
     "slide_type": "subslide"
    }
   },
   "outputs": [],
   "source": [
    "require(MASS)"
   ]
  },
  {
   "cell_type": "code",
   "execution_count": 21,
   "metadata": {
    "slideshow": {
     "slide_type": "fragment"
    }
   },
   "outputs": [],
   "source": [
    "data(Cars93)"
   ]
  },
  {
   "cell_type": "code",
   "execution_count": 66,
   "metadata": {
    "slideshow": {
     "slide_type": "fragment"
    }
   },
   "outputs": [
    {
     "data": {
      "text/html": [
       "'data.frame'"
      ],
      "text/latex": [
       "'data.frame'"
      ],
      "text/markdown": [
       "'data.frame'"
      ],
      "text/plain": [
       "[1] \"data.frame\""
      ]
     },
     "metadata": {},
     "output_type": "display_data"
    }
   ],
   "source": [
    "class(Cars93)"
   ]
  },
  {
   "cell_type": "code",
   "execution_count": 67,
   "metadata": {
    "slideshow": {
     "slide_type": "subslide"
    }
   },
   "outputs": [
    {
     "name": "stdout",
     "output_type": "stream",
     "text": [
      "'data.frame':\t93 obs. of  27 variables:\n",
      " $ Manufacturer      : Factor w/ 32 levels \"Acura\",\"Audi\",..: 1 1 2 2 3 4 4 4 4 5 ...\n",
      " $ Model             : Factor w/ 93 levels \"100\",\"190E\",\"240\",..: 49 56 9 1 6 24 54 74 73 35 ...\n",
      " $ Type              : Factor w/ 6 levels \"Compact\",\"Large\",..: 4 3 1 3 3 3 2 2 3 2 ...\n",
      " $ Min.Price         : num  12.9 29.2 25.9 30.8 23.7 14.2 19.9 22.6 26.3 33 ...\n",
      " $ Price             : num  15.9 33.9 29.1 37.7 30 15.7 20.8 23.7 26.3 34.7 ...\n",
      " $ Max.Price         : num  18.8 38.7 32.3 44.6 36.2 17.3 21.7 24.9 26.3 36.3 ...\n",
      " $ MPG.city          : int  25 18 20 19 22 22 19 16 19 16 ...\n",
      " $ MPG.highway       : int  31 25 26 26 30 31 28 25 27 25 ...\n",
      " $ AirBags           : Factor w/ 3 levels \"Driver & Passenger\",..: 3 1 2 1 2 2 2 2 2 2 ...\n",
      " $ DriveTrain        : Factor w/ 3 levels \"4WD\",\"Front\",..: 2 2 2 2 3 2 2 3 2 2 ...\n",
      " $ Cylinders         : Factor w/ 6 levels \"3\",\"4\",\"5\",\"6\",..: 2 4 4 4 2 2 4 4 4 5 ...\n",
      " $ EngineSize        : num  1.8 3.2 2.8 2.8 3.5 2.2 3.8 5.7 3.8 4.9 ...\n",
      " $ Horsepower        : int  140 200 172 172 208 110 170 180 170 200 ...\n",
      " $ RPM               : int  6300 5500 5500 5500 5700 5200 4800 4000 4800 4100 ...\n",
      " $ Rev.per.mile      : int  2890 2335 2280 2535 2545 2565 1570 1320 1690 1510 ...\n",
      " $ Man.trans.avail   : Factor w/ 2 levels \"No\",\"Yes\": 2 2 2 2 2 1 1 1 1 1 ...\n",
      " $ Fuel.tank.capacity: num  13.2 18 16.9 21.1 21.1 16.4 18 23 18.8 18 ...\n",
      " $ Passengers        : int  5 5 5 6 4 6 6 6 5 6 ...\n",
      " $ Length            : int  177 195 180 193 186 189 200 216 198 206 ...\n",
      " $ Wheelbase         : int  102 115 102 106 109 105 111 116 108 114 ...\n",
      " $ Width             : int  68 71 67 70 69 69 74 78 73 73 ...\n",
      " $ Turn.circle       : int  37 38 37 37 39 41 42 45 41 43 ...\n",
      " $ Rear.seat.room    : num  26.5 30 28 31 27 28 30.5 30.5 26.5 35 ...\n",
      " $ Luggage.room      : int  11 15 14 17 13 16 17 21 14 18 ...\n",
      " $ Weight            : int  2705 3560 3375 3405 3640 2880 3470 4105 3495 3620 ...\n",
      " $ Origin            : Factor w/ 2 levels \"USA\",\"non-USA\": 2 2 2 2 2 1 1 1 1 1 ...\n",
      " $ Make              : Factor w/ 93 levels \"Acura Integra\",..: 1 2 4 3 5 6 7 9 8 10 ...\n"
     ]
    }
   ],
   "source": [
    "str(Cars93)"
   ]
  },
  {
   "cell_type": "markdown",
   "metadata": {
    "slideshow": {
     "slide_type": "fragment"
    }
   },
   "source": [
    "On voit que nous avons 93 observations avec 27 variables"
   ]
  }
 ],
 "metadata": {
  "anaconda-cloud": {},
  "celltoolbar": "Slideshow",
  "kernelspec": {
   "display_name": "R",
   "language": "R",
   "name": "ir"
  },
  "language_info": {
   "codemirror_mode": "r",
   "file_extension": ".r",
   "mimetype": "text/x-r-source",
   "name": "R",
   "pygments_lexer": "r",
   "version": "3.4.3"
  },
  "latex_envs": {
   "LaTeX_envs_menu_present": true,
   "autoclose": false,
   "autocomplete": true,
   "bibliofile": "biblio.bib",
   "cite_by": "apalike",
   "current_citInitial": 1,
   "eqLabelWithNumbers": true,
   "eqNumInitial": 1,
   "hotkeys": {
    "equation": "Ctrl-E",
    "itemize": "Ctrl-I"
   },
   "labels_anchors": false,
   "latex_user_defs": false,
   "report_style_numbering": false,
   "user_envs_cfg": false
  },
  "name": "_merged",
  "toc": {
   "base_numbering": 1,
   "nav_menu": {
    "height": "444px",
    "width": "252px"
   },
   "number_sections": false,
   "sideBar": true,
   "skip_h1_title": false,
   "title_cell": "Table of Contents",
   "title_sidebar": "Contents",
   "toc_cell": true,
   "toc_position": {
    "height": "1132px",
    "left": "0px",
    "right": "20px",
    "top": "159px",
    "width": "211px"
   },
   "toc_section_display": "block",
   "toc_window_display": true
  }
 },
 "nbformat": 4,
 "nbformat_minor": 1
}
