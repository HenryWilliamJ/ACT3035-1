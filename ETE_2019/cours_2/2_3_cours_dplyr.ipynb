{
 "cells": [
  {
   "cell_type": "markdown",
   "metadata": {
    "slideshow": {
     "slide_type": "slide"
    },
    "toc": "true"
   },
   "source": [
    "<h1>Table of Contents<span class=\"tocSkip\"></span></h1>\n",
    "<div class=\"toc\"><ul class=\"toc-item\"><li><span><a href=\"#Manipulation-avec-dplyr\" data-toc-modified-id=\"Manipulation-avec-dplyr-1\">Manipulation avec dplyr</a></span><ul class=\"toc-item\"><li><span><a href=\"#le-package-dplyr\" data-toc-modified-id=\"le-package-dplyr-1.1\">le package dplyr</a></span></li><li><span><a href=\"#arrange\" data-toc-modified-id=\"arrange-1.2\">arrange</a></span></li><li><span><a href=\"#select\" data-toc-modified-id=\"select-1.3\">select</a></span></li><li><span><a href=\"#filter\" data-toc-modified-id=\"filter-1.4\">filter</a></span></li><li><span><a href=\"#mutate\" data-toc-modified-id=\"mutate-1.5\">mutate</a></span></li><li><span><a href=\"#summarize\" data-toc-modified-id=\"summarize-1.6\">summarize</a></span></li><li><span><a href=\"#L'opérateur-Pipe:-%&gt;%\" data-toc-modified-id=\"L'opérateur-Pipe:-%>%-1.7\">L'opérateur Pipe: %&gt;%</a></span></li><li><span><a href=\"#group_by\" data-toc-modified-id=\"group_by-1.8\">group_by</a></span></li></ul></li></ul></div>"
   ]
  },
  {
   "cell_type": "code",
   "execution_count": 2,
   "metadata": {
    "collapsed": true,
    "slideshow": {
     "slide_type": "subslide"
    }
   },
   "outputs": [],
   "source": [
    "options(repr.matrix.max.cols=8, repr.matrix.max.rows=5)"
   ]
  },
  {
   "cell_type": "markdown",
   "metadata": {
    "slideshow": {
     "slide_type": "slide"
    }
   },
   "source": [
    "# Manipulation avec dplyr"
   ]
  },
  {
   "cell_type": "markdown",
   "metadata": {
    "slideshow": {
     "slide_type": "subslide"
    }
   },
   "source": [
    "## le package dplyr\n",
    "Dans ce cours, afin de manipuler les données, nous allons utiliser la librairie `dplyr` qui assure une manipulation plus intuitive des données. Toutefois, vous pouvez utiliser tout autre libraire ou même les fonctions de base de `R`."
   ]
  },
  {
   "cell_type": "code",
   "execution_count": 11,
   "metadata": {
    "collapsed": true,
    "slideshow": {
     "slide_type": "fragment"
    }
   },
   "outputs": [],
   "source": [
    "# install.packages(\"dplyr\")"
   ]
  },
  {
   "cell_type": "markdown",
   "metadata": {
    "slideshow": {
     "slide_type": "subslide"
    }
   },
   "source": [
    "D'abord, téléchargeons un petit _df_ afin d'illustrer la théorie. Dans ce _df_, nous avons les données d'un cycliste qui est sorti un jour d'été faire un petit tour dans l'île de Montréal. Chaque observation, représente le nombre de km parcourus d'un parcours (_lap_), le temps que ça a pris, la vitesse moyenne en `km/h` de chaque _lap_, la puissance moyenne en `watts` et finalement, les battements de cours par minutes.\n"
   ]
  },
  {
   "cell_type": "code",
   "execution_count": 9,
   "metadata": {
    "slideshow": {
     "slide_type": "fragment"
    }
   },
   "outputs": [
    {
     "data": {
      "text/html": [
       "<table>\n",
       "<thead><tr><th scope=col>km</th><th scope=col>temps</th><th scope=col>vitesseMoyenne</th><th scope=col>puissanceMoyenne</th><th scope=col>bpm</th></tr></thead>\n",
       "<tbody>\n",
       "\t<tr><td> 1.24</td><td>4:01 </td><td>19.1 </td><td>160  </td><td>134  </td></tr>\n",
       "\t<tr><td> 4.84</td><td>9:42 </td><td>30.2 </td><td>133  </td><td>146  </td></tr>\n",
       "\t<tr><td> 1.02</td><td>1:57 </td><td>30.8 </td><td>141  </td><td>139  </td></tr>\n",
       "\t<tr><td>17.61</td><td>36:11</td><td>29.2 </td><td>125  </td><td>144  </td></tr>\n",
       "\t<tr><td> 9.27</td><td>19:10</td><td>29.0 </td><td>121  </td><td>143  </td></tr>\n",
       "</tbody>\n",
       "</table>\n"
      ],
      "text/latex": [
       "\\begin{tabular}{r|lllll}\n",
       " km & temps & vitesseMoyenne & puissanceMoyenne & bpm\\\\\n",
       "\\hline\n",
       "\t  1.24 & 4:01  & 19.1  & 160   & 134  \\\\\n",
       "\t  4.84 & 9:42  & 30.2  & 133   & 146  \\\\\n",
       "\t  1.02 & 1:57  & 30.8  & 141   & 139  \\\\\n",
       "\t 17.61 & 36:11 & 29.2  & 125   & 144  \\\\\n",
       "\t  9.27 & 19:10 & 29.0  & 121   & 143  \\\\\n",
       "\\end{tabular}\n"
      ],
      "text/markdown": [
       "\n",
       "km | temps | vitesseMoyenne | puissanceMoyenne | bpm | \n",
       "|---|---|---|---|---|\n",
       "|  1.24 | 4:01  | 19.1  | 160   | 134   | \n",
       "|  4.84 | 9:42  | 30.2  | 133   | 146   | \n",
       "|  1.02 | 1:57  | 30.8  | 141   | 139   | \n",
       "| 17.61 | 36:11 | 29.2  | 125   | 144   | \n",
       "|  9.27 | 19:10 | 29.0  | 121   | 143   | \n",
       "\n",
       "\n"
      ],
      "text/plain": [
       "  km    temps vitesseMoyenne puissanceMoyenne bpm\n",
       "1  1.24 4:01  19.1           160              134\n",
       "2  4.84 9:42  30.2           133              146\n",
       "3  1.02 1:57  30.8           141              139\n",
       "4 17.61 36:11 29.2           125              144\n",
       "5  9.27 19:10 29.0           121              143"
      ]
     },
     "metadata": {},
     "output_type": "display_data"
    }
   ],
   "source": [
    "df<-read.csv(\"https://raw.githubusercontent.com/nmeraihi/data/master/exemple_2.txt\")\n",
    "df"
   ]
  },
  {
   "cell_type": "markdown",
   "metadata": {
    "slideshow": {
     "slide_type": "subslide"
    }
   },
   "source": [
    "Il possible d'ordonner les données avec la fonction de base de `R` appelé `order`. Par exemple, on voudrait ordonner notre _df_ en ordre croissant sur la variable `puissanceMoyenne`"
   ]
  },
  {
   "cell_type": "code",
   "execution_count": 10,
   "metadata": {
    "slideshow": {
     "slide_type": "fragment"
    }
   },
   "outputs": [
    {
     "data": {
      "text/html": [
       "<table>\n",
       "<thead><tr><th></th><th scope=col>km</th><th scope=col>temps</th><th scope=col>vitesseMoyenne</th><th scope=col>puissanceMoyenne</th><th scope=col>bpm</th></tr></thead>\n",
       "<tbody>\n",
       "\t<tr><th scope=row>5</th><td> 9.27</td><td>19:10</td><td>29.0 </td><td>121  </td><td>143  </td></tr>\n",
       "\t<tr><th scope=row>4</th><td>17.61</td><td>36:11</td><td>29.2 </td><td>125  </td><td>144  </td></tr>\n",
       "\t<tr><th scope=row>2</th><td> 4.84</td><td>9:42 </td><td>30.2 </td><td>133  </td><td>146  </td></tr>\n",
       "\t<tr><th scope=row>3</th><td> 1.02</td><td>1:57 </td><td>30.8 </td><td>141  </td><td>139  </td></tr>\n",
       "\t<tr><th scope=row>1</th><td> 1.24</td><td>4:01 </td><td>19.1 </td><td>160  </td><td>134  </td></tr>\n",
       "</tbody>\n",
       "</table>\n"
      ],
      "text/latex": [
       "\\begin{tabular}{r|lllll}\n",
       "  & km & temps & vitesseMoyenne & puissanceMoyenne & bpm\\\\\n",
       "\\hline\n",
       "\t5 &  9.27 & 19:10 & 29.0  & 121   & 143  \\\\\n",
       "\t4 & 17.61 & 36:11 & 29.2  & 125   & 144  \\\\\n",
       "\t2 &  4.84 & 9:42  & 30.2  & 133   & 146  \\\\\n",
       "\t3 &  1.02 & 1:57  & 30.8  & 141   & 139  \\\\\n",
       "\t1 &  1.24 & 4:01  & 19.1  & 160   & 134  \\\\\n",
       "\\end{tabular}\n"
      ],
      "text/markdown": [
       "\n",
       "| <!--/--> | km | temps | vitesseMoyenne | puissanceMoyenne | bpm | \n",
       "|---|---|---|---|---|\n",
       "| 5 |  9.27 | 19:10 | 29.0  | 121   | 143   | \n",
       "| 4 | 17.61 | 36:11 | 29.2  | 125   | 144   | \n",
       "| 2 |  4.84 | 9:42  | 30.2  | 133   | 146   | \n",
       "| 3 |  1.02 | 1:57  | 30.8  | 141   | 139   | \n",
       "| 1 |  1.24 | 4:01  | 19.1  | 160   | 134   | \n",
       "\n",
       "\n"
      ],
      "text/plain": [
       "  km    temps vitesseMoyenne puissanceMoyenne bpm\n",
       "5  9.27 19:10 29.0           121              143\n",
       "4 17.61 36:11 29.2           125              144\n",
       "2  4.84 9:42  30.2           133              146\n",
       "3  1.02 1:57  30.8           141              139\n",
       "1  1.24 4:01  19.1           160              134"
      ]
     },
     "metadata": {},
     "output_type": "display_data"
    }
   ],
   "source": [
    "df[order(df$puissanceMoyenne),]"
   ]
  },
  {
   "cell_type": "markdown",
   "metadata": {
    "slideshow": {
     "slide_type": "subslide"
    }
   },
   "source": [
    "Par défaut, l'ordre est est croissant, on peut le rendre décroissant en ajoutant l'argument `decreasing = T`"
   ]
  },
  {
   "cell_type": "code",
   "execution_count": 11,
   "metadata": {
    "slideshow": {
     "slide_type": "fragment"
    }
   },
   "outputs": [
    {
     "data": {
      "text/html": [
       "<table>\n",
       "<thead><tr><th></th><th scope=col>km</th><th scope=col>temps</th><th scope=col>vitesseMoyenne</th><th scope=col>puissanceMoyenne</th><th scope=col>bpm</th></tr></thead>\n",
       "<tbody>\n",
       "\t<tr><th scope=row>3</th><td> 1.02</td><td>1:57 </td><td>30.8 </td><td>141  </td><td>139  </td></tr>\n",
       "\t<tr><th scope=row>2</th><td> 4.84</td><td>9:42 </td><td>30.2 </td><td>133  </td><td>146  </td></tr>\n",
       "\t<tr><th scope=row>4</th><td>17.61</td><td>36:11</td><td>29.2 </td><td>125  </td><td>144  </td></tr>\n",
       "\t<tr><th scope=row>5</th><td> 9.27</td><td>19:10</td><td>29.0 </td><td>121  </td><td>143  </td></tr>\n",
       "\t<tr><th scope=row>1</th><td> 1.24</td><td>4:01 </td><td>19.1 </td><td>160  </td><td>134  </td></tr>\n",
       "</tbody>\n",
       "</table>\n"
      ],
      "text/latex": [
       "\\begin{tabular}{r|lllll}\n",
       "  & km & temps & vitesseMoyenne & puissanceMoyenne & bpm\\\\\n",
       "\\hline\n",
       "\t3 &  1.02 & 1:57  & 30.8  & 141   & 139  \\\\\n",
       "\t2 &  4.84 & 9:42  & 30.2  & 133   & 146  \\\\\n",
       "\t4 & 17.61 & 36:11 & 29.2  & 125   & 144  \\\\\n",
       "\t5 &  9.27 & 19:10 & 29.0  & 121   & 143  \\\\\n",
       "\t1 &  1.24 & 4:01  & 19.1  & 160   & 134  \\\\\n",
       "\\end{tabular}\n"
      ],
      "text/markdown": [
       "\n",
       "| <!--/--> | km | temps | vitesseMoyenne | puissanceMoyenne | bpm | \n",
       "|---|---|---|---|---|\n",
       "| 3 |  1.02 | 1:57  | 30.8  | 141   | 139   | \n",
       "| 2 |  4.84 | 9:42  | 30.2  | 133   | 146   | \n",
       "| 4 | 17.61 | 36:11 | 29.2  | 125   | 144   | \n",
       "| 5 |  9.27 | 19:10 | 29.0  | 121   | 143   | \n",
       "| 1 |  1.24 | 4:01  | 19.1  | 160   | 134   | \n",
       "\n",
       "\n"
      ],
      "text/plain": [
       "  km    temps vitesseMoyenne puissanceMoyenne bpm\n",
       "3  1.02 1:57  30.8           141              139\n",
       "2  4.84 9:42  30.2           133              146\n",
       "4 17.61 36:11 29.2           125              144\n",
       "5  9.27 19:10 29.0           121              143\n",
       "1  1.24 4:01  19.1           160              134"
      ]
     },
     "metadata": {},
     "output_type": "display_data"
    }
   ],
   "source": [
    "df[order(df$vitesseMoyenne, decreasing = T),]"
   ]
  },
  {
   "cell_type": "markdown",
   "metadata": {
    "slideshow": {
     "slide_type": "subslide"
    }
   },
   "source": [
    "Toutefois, lorsque nous avons une base de données comportant un nombre plus important de variables, la syntaxe peut devenir plus compliquée et lourde d’écriture. Regardons un autre exemple:"
   ]
  },
  {
   "cell_type": "code",
   "execution_count": 3,
   "metadata": {
    "slideshow": {
     "slide_type": "subslide"
    }
   },
   "outputs": [
    {
     "data": {
      "text/html": [
       "<table>\n",
       "<thead><tr><th scope=col>numeropol</th><th scope=col>debut_pol</th><th scope=col>fin_pol</th><th scope=col>freq_paiement</th><th scope=col>⋯</th><th scope=col>cout6</th><th scope=col>cout7</th><th scope=col>nbsin</th><th scope=col>equipe</th></tr></thead>\n",
       "<tbody>\n",
       "\t<tr><td>4        </td><td>11-4-1996</td><td>10-4-1997</td><td>12       </td><td>⋯        </td><td>NA       </td><td>NA       </td><td>0        </td><td>3        </td></tr>\n",
       "\t<tr><td>4        </td><td>11-4-1997</td><td>10-4-1998</td><td>12       </td><td>⋯        </td><td>NA       </td><td>NA       </td><td>0        </td><td>3        </td></tr>\n",
       "\t<tr><td>4        </td><td>11-4-2002</td><td>17-7-2002</td><td>12       </td><td>⋯        </td><td>NA       </td><td>NA       </td><td>0        </td><td>3        </td></tr>\n",
       "\t<tr><td>⋮</td><td>⋮</td><td>⋮</td><td>⋮</td><td>⋱</td><td>⋮</td><td>⋮</td><td>⋮</td><td>⋮</td></tr>\n",
       "\t<tr><td> 4       </td><td>11-4-2003</td><td>10-4-2004</td><td>12       </td><td>⋯        </td><td>NA       </td><td>NA       </td><td>0        </td><td>3        </td></tr>\n",
       "\t<tr><td>12       </td><td>3-5-1995 </td><td>2-5-1996 </td><td> 1       </td><td>⋯        </td><td>NA       </td><td>NA       </td><td>0        </td><td>3        </td></tr>\n",
       "</tbody>\n",
       "</table>\n"
      ],
      "text/latex": [
       "\\begin{tabular}{r|lllllllllllllllllllllllllll}\n",
       " numeropol & debut\\_pol & fin\\_pol & freq\\_paiement & ⋯ & cout6 & cout7 & nbsin & equipe\\\\\n",
       "\\hline\n",
       "\t 4         & 11-4-1996 & 10-4-1997 & 12        & ⋯         & NA        & NA        & 0         & 3        \\\\\n",
       "\t 4         & 11-4-1997 & 10-4-1998 & 12        & ⋯         & NA        & NA        & 0         & 3        \\\\\n",
       "\t 4         & 11-4-2002 & 17-7-2002 & 12        & ⋯         & NA        & NA        & 0         & 3        \\\\\n",
       "\t ⋮ & ⋮ & ⋮ & ⋮ & ⋱ & ⋮ & ⋮ & ⋮ & ⋮\\\\\n",
       "\t  4        & 11-4-2003 & 10-4-2004 & 12        & ⋯         & NA        & NA        & 0         & 3        \\\\\n",
       "\t 12        & 3-5-1995  & 2-5-1996  &  1        & ⋯         & NA        & NA        & 0         & 3        \\\\\n",
       "\\end{tabular}\n"
      ],
      "text/markdown": [
       "\n",
       "numeropol | debut_pol | fin_pol | freq_paiement | ⋯ | cout6 | cout7 | nbsin | equipe | \n",
       "|---|---|---|---|---|---|\n",
       "| 4         | 11-4-1996 | 10-4-1997 | 12        | ⋯         | NA        | NA        | 0         | 3         | \n",
       "| 4         | 11-4-1997 | 10-4-1998 | 12        | ⋯         | NA        | NA        | 0         | 3         | \n",
       "| 4         | 11-4-2002 | 17-7-2002 | 12        | ⋯         | NA        | NA        | 0         | 3         | \n",
       "| ⋮ | ⋮ | ⋮ | ⋮ | ⋱ | ⋮ | ⋮ | ⋮ | ⋮ | \n",
       "|  4        | 11-4-2003 | 10-4-2004 | 12        | ⋯         | NA        | NA        | 0         | 3         | \n",
       "| 12        | 3-5-1995  | 2-5-1996  |  1        | ⋯         | NA        | NA        | 0         | 3         | \n",
       "\n",
       "\n"
      ],
      "text/plain": [
       "  numeropol debut_pol fin_pol   freq_paiement ⋯ cout6 cout7 nbsin equipe\n",
       "1 4         11-4-1996 10-4-1997 12            ⋯ NA    NA    0     3     \n",
       "2 4         11-4-1997 10-4-1998 12            ⋯ NA    NA    0     3     \n",
       "3 4         11-4-2002 17-7-2002 12            ⋯ NA    NA    0     3     \n",
       "⋮ ⋮         ⋮         ⋮         ⋮             ⋱ ⋮     ⋮     ⋮     ⋮     \n",
       "5  4        11-4-2003 10-4-2004 12            ⋯ NA    NA    0     3     \n",
       "6 12        3-5-1995  2-5-1996   1            ⋯ NA    NA    0     3     "
      ]
     },
     "metadata": {},
     "output_type": "display_data"
    }
   ],
   "source": [
    "df_ass <-read.csv(\"https://raw.githubusercontent.com/nmeraihi/data/master/assurance.csv\", header = T)\n",
    "head(df_ass)"
   ]
  },
  {
   "cell_type": "markdown",
   "metadata": {
    "slideshow": {
     "slide_type": "fragment"
    }
   },
   "source": [
    "Affichons notre base de données en ordre croissant sur le nombre de sinistres et le numéro de police;"
   ]
  },
  {
   "cell_type": "code",
   "execution_count": 15,
   "metadata": {
    "slideshow": {
     "slide_type": "subslide"
    }
   },
   "outputs": [
    {
     "data": {
      "text/html": [
       "<table>\n",
       "<thead><tr><th></th><th scope=col>numeropol</th><th scope=col>debut_pol</th><th scope=col>fin_pol</th><th scope=col>freq_paiement</th><th scope=col>⋯</th><th scope=col>cout6</th><th scope=col>cout7</th><th scope=col>nbsin</th><th scope=col>equipe</th></tr></thead>\n",
       "<tbody>\n",
       "\t<tr><th scope=row>988</th><td>2006     </td><td>13-6-1996</td><td>12-6-1997</td><td>12       </td><td>⋯        </td><td>NA       </td><td>NA       </td><td>2        </td><td>3        </td></tr>\n",
       "\t<tr><th scope=row>902</th><td>1820     </td><td>1-10-1996</td><td>30-9-1997</td><td> 1       </td><td>⋯        </td><td>NA       </td><td>NA       </td><td>2        </td><td>3        </td></tr>\n",
       "\t<tr><th scope=row>861</th><td>1733     </td><td>10-5-1998</td><td>9-5-1999 </td><td> 1       </td><td>⋯        </td><td>NA       </td><td>NA       </td><td>2        </td><td>3        </td></tr>\n",
       "\t<tr><th scope=row>⋮</th><td>⋮</td><td>⋮</td><td>⋮</td><td>⋮</td><td>⋱</td><td>⋮</td><td>⋮</td><td>⋮</td><td>⋮</td></tr>\n",
       "\t<tr><th scope=row>4</th><td>4        </td><td>18-7-2002</td><td>10-4-2003</td><td>12       </td><td>⋯        </td><td>NA       </td><td>NA       </td><td>0        </td><td>3        </td></tr>\n",
       "\t<tr><th scope=row>5</th><td>4        </td><td>11-4-2003</td><td>10-4-2004</td><td>12       </td><td>⋯        </td><td>NA       </td><td>NA       </td><td>0        </td><td>3        </td></tr>\n",
       "</tbody>\n",
       "</table>\n"
      ],
      "text/latex": [
       "\\begin{tabular}{r|lllllllllllllllllllllllllll}\n",
       "  & numeropol & debut\\_pol & fin\\_pol & freq\\_paiement & ⋯ & cout6 & cout7 & nbsin & equipe\\\\\n",
       "\\hline\n",
       "\t988 & 2006      & 13-6-1996 & 12-6-1997 & 12        & ⋯         & NA        & NA        & 2         & 3        \\\\\n",
       "\t902 & 1820      & 1-10-1996 & 30-9-1997 &  1        & ⋯         & NA        & NA        & 2         & 3        \\\\\n",
       "\t861 & 1733      & 10-5-1998 & 9-5-1999  &  1        & ⋯         & NA        & NA        & 2         & 3        \\\\\n",
       "\t⋮ & ⋮ & ⋮ & ⋮ & ⋮ & ⋱ & ⋮ & ⋮ & ⋮ & ⋮\\\\\n",
       "\t4 & 4         & 18-7-2002 & 10-4-2003 & 12        & ⋯         & NA        & NA        & 0         & 3        \\\\\n",
       "\t5 & 4         & 11-4-2003 & 10-4-2004 & 12        & ⋯         & NA        & NA        & 0         & 3        \\\\\n",
       "\\end{tabular}\n"
      ],
      "text/markdown": [
       "\n",
       "| <!--/--> | numeropol | debut_pol | fin_pol | freq_paiement | ⋯ | cout6 | cout7 | nbsin | equipe | \n",
       "|---|---|---|---|---|---|\n",
       "| 988 | 2006      | 13-6-1996 | 12-6-1997 | 12        | ⋯         | NA        | NA        | 2         | 3         | \n",
       "| 902 | 1820      | 1-10-1996 | 30-9-1997 |  1        | ⋯         | NA        | NA        | 2         | 3         | \n",
       "| 861 | 1733      | 10-5-1998 | 9-5-1999  |  1        | ⋯         | NA        | NA        | 2         | 3         | \n",
       "| ⋮ | ⋮ | ⋮ | ⋮ | ⋮ | ⋱ | ⋮ | ⋮ | ⋮ | ⋮ | \n",
       "| 4 | 4         | 18-7-2002 | 10-4-2003 | 12        | ⋯         | NA        | NA        | 0         | 3         | \n",
       "| 5 | 4         | 11-4-2003 | 10-4-2004 | 12        | ⋯         | NA        | NA        | 0         | 3         | \n",
       "\n",
       "\n"
      ],
      "text/plain": [
       "    numeropol debut_pol fin_pol   freq_paiement ⋯ cout6 cout7 nbsin equipe\n",
       "988 2006      13-6-1996 12-6-1997 12            ⋯ NA    NA    2     3     \n",
       "902 1820      1-10-1996 30-9-1997  1            ⋯ NA    NA    2     3     \n",
       "861 1733      10-5-1998 9-5-1999   1            ⋯ NA    NA    2     3     \n",
       "⋮   ⋮         ⋮         ⋮         ⋮             ⋱ ⋮     ⋮     ⋮     ⋮     \n",
       "4   4         18-7-2002 10-4-2003 12            ⋯ NA    NA    0     3     \n",
       "5   4         11-4-2003 10-4-2004 12            ⋯ NA    NA    0     3     "
      ]
     },
     "metadata": {},
     "output_type": "display_data"
    }
   ],
   "source": [
    "df_ass[order(df_ass$nbsin, df_ass$numeropol, decreasing = T),]"
   ]
  },
  {
   "cell_type": "markdown",
   "metadata": {
    "slideshow": {
     "slide_type": "fragment"
    }
   },
   "source": [
    "Dans le tableau affiché ci-haut, on voit bien que cette fonction ne nous permet pas d'appliquer un ordre croissant ou décroissant sur une variable précise"
   ]
  },
  {
   "cell_type": "markdown",
   "metadata": {
    "slideshow": {
     "slide_type": "slide"
    }
   },
   "source": [
    "## arrange"
   ]
  },
  {
   "cell_type": "markdown",
   "metadata": {
    "slideshow": {
     "slide_type": "subslide"
    }
   },
   "source": [
    "Maintenant, utilisons le paquet (_package_) `dplyr` qui nous permet de plus facilement d'appliquer un ordre quelconque sur une variable précise indépendamment des autres variables;"
   ]
  },
  {
   "cell_type": "code",
   "execution_count": 4,
   "metadata": {
    "collapsed": true,
    "slideshow": {
     "slide_type": "fragment"
    }
   },
   "outputs": [],
   "source": [
    "library(dplyr, warn.conflicts = FALSE)"
   ]
  },
  {
   "cell_type": "code",
   "execution_count": 17,
   "metadata": {
    "slideshow": {
     "slide_type": "fragment"
    }
   },
   "outputs": [
    {
     "data": {
      "text/html": [
       "<table>\n",
       "<thead><tr><th scope=col>numeropol</th><th scope=col>debut_pol</th><th scope=col>fin_pol</th><th scope=col>freq_paiement</th><th scope=col>⋯</th><th scope=col>cout6</th><th scope=col>cout7</th><th scope=col>nbsin</th><th scope=col>equipe</th></tr></thead>\n",
       "<tbody>\n",
       "\t<tr><td> 71       </td><td>15-2-1996 </td><td>14-2-1997 </td><td> 1        </td><td>⋯         </td><td>NA        </td><td>NA        </td><td>2         </td><td>3         </td></tr>\n",
       "\t<tr><td> 79       </td><td>20-11-1997</td><td>21-6-1998 </td><td>12        </td><td>⋯         </td><td>NA        </td><td>NA        </td><td>2         </td><td>3         </td></tr>\n",
       "\t<tr><td>116       </td><td>4-9-1998  </td><td>11-6-1999 </td><td> 1        </td><td>⋯         </td><td>NA        </td><td>NA        </td><td>2         </td><td>3         </td></tr>\n",
       "\t<tr><td>⋮</td><td>⋮</td><td>⋮</td><td>⋮</td><td>⋱</td><td>⋮</td><td>⋮</td><td>⋮</td><td>⋮</td></tr>\n",
       "\t<tr><td>2036     </td><td>14-3-2000</td><td>26-2-2001</td><td>12       </td><td>⋯        </td><td>NA       </td><td>NA       </td><td>0        </td><td>3        </td></tr>\n",
       "\t<tr><td>2036     </td><td>27-2-2001</td><td>13-3-2001</td><td>12       </td><td>⋯        </td><td>NA       </td><td>NA       </td><td>0        </td><td>3        </td></tr>\n",
       "</tbody>\n",
       "</table>\n"
      ],
      "text/latex": [
       "\\begin{tabular}{r|lllllllllllllllllllllllllll}\n",
       " numeropol & debut\\_pol & fin\\_pol & freq\\_paiement & ⋯ & cout6 & cout7 & nbsin & equipe\\\\\n",
       "\\hline\n",
       "\t  71        & 15-2-1996  & 14-2-1997  &  1         & ⋯          & NA         & NA         & 2          & 3         \\\\\n",
       "\t  79        & 20-11-1997 & 21-6-1998  & 12         & ⋯          & NA         & NA         & 2          & 3         \\\\\n",
       "\t 116        & 4-9-1998   & 11-6-1999  &  1         & ⋯          & NA         & NA         & 2          & 3         \\\\\n",
       "\t ⋮ & ⋮ & ⋮ & ⋮ & ⋱ & ⋮ & ⋮ & ⋮ & ⋮\\\\\n",
       "\t 2036      & 14-3-2000 & 26-2-2001 & 12        & ⋯         & NA        & NA        & 0         & 3        \\\\\n",
       "\t 2036      & 27-2-2001 & 13-3-2001 & 12        & ⋯         & NA        & NA        & 0         & 3        \\\\\n",
       "\\end{tabular}\n"
      ],
      "text/markdown": [
       "\n",
       "numeropol | debut_pol | fin_pol | freq_paiement | ⋯ | cout6 | cout7 | nbsin | equipe | \n",
       "|---|---|---|---|---|---|\n",
       "|  71        | 15-2-1996  | 14-2-1997  |  1         | ⋯          | NA         | NA         | 2          | 3          | \n",
       "|  79        | 20-11-1997 | 21-6-1998  | 12         | ⋯          | NA         | NA         | 2          | 3          | \n",
       "| 116        | 4-9-1998   | 11-6-1999  |  1         | ⋯          | NA         | NA         | 2          | 3          | \n",
       "| ⋮ | ⋮ | ⋮ | ⋮ | ⋱ | ⋮ | ⋮ | ⋮ | ⋮ | \n",
       "| 2036      | 14-3-2000 | 26-2-2001 | 12        | ⋯         | NA        | NA        | 0         | 3         | \n",
       "| 2036      | 27-2-2001 | 13-3-2001 | 12        | ⋯         | NA        | NA        | 0         | 3         | \n",
       "\n",
       "\n"
      ],
      "text/plain": [
       "     numeropol debut_pol  fin_pol   freq_paiement ⋯ cout6 cout7 nbsin equipe\n",
       "1     71       15-2-1996  14-2-1997  1            ⋯ NA    NA    2     3     \n",
       "2     79       20-11-1997 21-6-1998 12            ⋯ NA    NA    2     3     \n",
       "3    116       4-9-1998   11-6-1999  1            ⋯ NA    NA    2     3     \n",
       "⋮    ⋮         ⋮          ⋮         ⋮             ⋱ ⋮     ⋮     ⋮     ⋮     \n",
       "1000 2036      14-3-2000  26-2-2001 12            ⋯ NA    NA    0     3     \n",
       "1001 2036      27-2-2001  13-3-2001 12            ⋯ NA    NA    0     3     "
      ]
     },
     "metadata": {},
     "output_type": "display_data"
    }
   ],
   "source": [
    "arrange(df_ass, desc(nbsin), numeropol)"
   ]
  },
  {
   "cell_type": "markdown",
   "metadata": {
    "slideshow": {
     "slide_type": "slide"
    }
   },
   "source": [
    "## select"
   ]
  },
  {
   "cell_type": "markdown",
   "metadata": {
    "slideshow": {
     "slide_type": "fragment"
    }
   },
   "source": [
    "Ce paquet nous permet aussi de sélectionner des variables d'intérêt. Par exemple, dans notre `df_ass`, on désire seulement sélectionner les variables `numeropol`, `type_territoire` et `nbsin`"
   ]
  },
  {
   "cell_type": "code",
   "execution_count": 5,
   "metadata": {
    "slideshow": {
     "slide_type": "fragment"
    }
   },
   "outputs": [
    {
     "data": {
      "text/html": [
       "<table>\n",
       "<thead><tr><th scope=col>numeropol</th><th scope=col>type_territoire</th><th scope=col>nbsin</th></tr></thead>\n",
       "<tbody>\n",
       "\t<tr><td>4          </td><td>Semi-urbain</td><td>0          </td></tr>\n",
       "\t<tr><td>4          </td><td>Semi-urbain</td><td>0          </td></tr>\n",
       "\t<tr><td>4          </td><td>Semi-urbain</td><td>0          </td></tr>\n",
       "\t<tr><td>⋮</td><td>⋮</td><td>⋮</td></tr>\n",
       "\t<tr><td>2036       </td><td>Semi-urbain</td><td>0          </td></tr>\n",
       "\t<tr><td>2036       </td><td>Semi-urbain</td><td>1          </td></tr>\n",
       "</tbody>\n",
       "</table>\n"
      ],
      "text/latex": [
       "\\begin{tabular}{r|lll}\n",
       " numeropol & type\\_territoire & nbsin\\\\\n",
       "\\hline\n",
       "\t 4           & Semi-urbain & 0          \\\\\n",
       "\t 4           & Semi-urbain & 0          \\\\\n",
       "\t 4           & Semi-urbain & 0          \\\\\n",
       "\t ⋮ & ⋮ & ⋮\\\\\n",
       "\t 2036        & Semi-urbain & 0          \\\\\n",
       "\t 2036        & Semi-urbain & 1          \\\\\n",
       "\\end{tabular}\n"
      ],
      "text/markdown": [
       "\n",
       "numeropol | type_territoire | nbsin | \n",
       "|---|---|---|---|---|---|\n",
       "| 4           | Semi-urbain | 0           | \n",
       "| 4           | Semi-urbain | 0           | \n",
       "| 4           | Semi-urbain | 0           | \n",
       "| ⋮ | ⋮ | ⋮ | \n",
       "| 2036        | Semi-urbain | 0           | \n",
       "| 2036        | Semi-urbain | 1           | \n",
       "\n",
       "\n"
      ],
      "text/plain": [
       "     numeropol type_territoire nbsin\n",
       "1    4         Semi-urbain     0    \n",
       "2    4         Semi-urbain     0    \n",
       "3    4         Semi-urbain     0    \n",
       "⋮    ⋮         ⋮               ⋮    \n",
       "1000 2036      Semi-urbain     0    \n",
       "1001 2036      Semi-urbain     1    "
      ]
     },
     "metadata": {},
     "output_type": "display_data"
    }
   ],
   "source": [
    "select(df_ass, numeropol,type_territoire, nbsin)"
   ]
  },
  {
   "cell_type": "markdown",
   "metadata": {
    "slideshow": {
     "slide_type": "slide"
    }
   },
   "source": [
    "## filter"
   ]
  },
  {
   "cell_type": "markdown",
   "metadata": {
    "slideshow": {
     "slide_type": "fragment"
    }
   },
   "source": [
    "Afin de filtrer des données sur des observations d'intérêt. On peut utiliser la fonction de base de **R** `which`. Par exemple dans les données `Cars93` du package `MASS`, on voudrait extraire les véhicules ayant 8 cylindres. On voudrait également afficher que les deux variables `'Horsepower'` et `'Passengers'`"
   ]
  },
  {
   "cell_type": "code",
   "execution_count": 19,
   "metadata": {
    "collapsed": true,
    "slideshow": {
     "slide_type": "subslide"
    }
   },
   "outputs": [],
   "source": [
    "library(MASS, warn.conflicts = F)"
   ]
  },
  {
   "cell_type": "code",
   "execution_count": 20,
   "metadata": {
    "slideshow": {
     "slide_type": "fragment"
    }
   },
   "outputs": [
    {
     "data": {
      "text/html": [
       "<table>\n",
       "<thead><tr><th></th><th scope=col>Horsepower</th><th scope=col>Passengers</th></tr></thead>\n",
       "<tbody>\n",
       "\t<tr><th scope=row>10</th><td>200</td><td>6  </td></tr>\n",
       "\t<tr><th scope=row>11</th><td>295</td><td>5  </td></tr>\n",
       "\t<tr><th scope=row>18</th><td>170</td><td>6  </td></tr>\n",
       "\t<tr><th scope=row>⋮</th><td>⋮</td><td>⋮</td></tr>\n",
       "\t<tr><th scope=row>48</th><td>278</td><td>5  </td></tr>\n",
       "\t<tr><th scope=row>52</th><td>210</td><td>6  </td></tr>\n",
       "</tbody>\n",
       "</table>\n"
      ],
      "text/latex": [
       "\\begin{tabular}{r|ll}\n",
       "  & Horsepower & Passengers\\\\\n",
       "\\hline\n",
       "\t10 & 200 & 6  \\\\\n",
       "\t11 & 295 & 5  \\\\\n",
       "\t18 & 170 & 6  \\\\\n",
       "\t⋮ & ⋮ & ⋮\\\\\n",
       "\t48 & 278 & 5  \\\\\n",
       "\t52 & 210 & 6  \\\\\n",
       "\\end{tabular}\n"
      ],
      "text/markdown": [
       "\n",
       "| <!--/--> | Horsepower | Passengers | \n",
       "|---|---|---|---|---|---|\n",
       "| 10 | 200 | 6   | \n",
       "| 11 | 295 | 5   | \n",
       "| 18 | 170 | 6   | \n",
       "| ⋮ | ⋮ | ⋮ | \n",
       "| 48 | 278 | 5   | \n",
       "| 52 | 210 | 6   | \n",
       "\n",
       "\n"
      ],
      "text/plain": [
       "   Horsepower Passengers\n",
       "10 200        6         \n",
       "11 295        5         \n",
       "18 170        6         \n",
       "⋮  ⋮          ⋮         \n",
       "48 278        5         \n",
       "52 210        6         "
      ]
     },
     "metadata": {},
     "output_type": "display_data"
    }
   ],
   "source": [
    "Cars93[which(Cars93$Cylinders==8), c('Horsepower' , 'Passengers')]"
   ]
  },
  {
   "cell_type": "markdown",
   "metadata": {
    "slideshow": {
     "slide_type": "subslide"
    }
   },
   "source": [
    "Toutefois, la fonction `filter` de la librairie `dyplr` est plus flexible lorsqu'il s'agit d'appliquer des filtres plus complexes. Essayons le même exemple avec cette fonction;"
   ]
  },
  {
   "cell_type": "code",
   "execution_count": 21,
   "metadata": {
    "slideshow": {
     "slide_type": "fragment"
    }
   },
   "outputs": [
    {
     "data": {
      "text/html": [
       "<table>\n",
       "<thead><tr><th scope=col>Horsepower</th><th scope=col>Passengers</th></tr></thead>\n",
       "<tbody>\n",
       "\t<tr><td>200</td><td>6  </td></tr>\n",
       "\t<tr><td>295</td><td>5  </td></tr>\n",
       "\t<tr><td>170</td><td>6  </td></tr>\n",
       "\t<tr><td>⋮</td><td>⋮</td></tr>\n",
       "\t<tr><td>278</td><td>5  </td></tr>\n",
       "\t<tr><td>210</td><td>6  </td></tr>\n",
       "</tbody>\n",
       "</table>\n"
      ],
      "text/latex": [
       "\\begin{tabular}{r|ll}\n",
       " Horsepower & Passengers\\\\\n",
       "\\hline\n",
       "\t 200 & 6  \\\\\n",
       "\t 295 & 5  \\\\\n",
       "\t 170 & 6  \\\\\n",
       "\t ⋮ & ⋮\\\\\n",
       "\t 278 & 5  \\\\\n",
       "\t 210 & 6  \\\\\n",
       "\\end{tabular}\n"
      ],
      "text/markdown": [
       "\n",
       "Horsepower | Passengers | \n",
       "|---|---|---|---|---|---|\n",
       "| 200 | 6   | \n",
       "| 295 | 5   | \n",
       "| 170 | 6   | \n",
       "| ⋮ | ⋮ | \n",
       "| 278 | 5   | \n",
       "| 210 | 6   | \n",
       "\n",
       "\n"
      ],
      "text/plain": [
       "  Horsepower Passengers\n",
       "1 200        6         \n",
       "2 295        5         \n",
       "3 170        6         \n",
       "⋮ ⋮          ⋮         \n",
       "6 278        5         \n",
       "7 210        6         "
      ]
     },
     "metadata": {},
     "output_type": "display_data"
    }
   ],
   "source": [
    "filter(Cars93, Cylinders==8)[c('Horsepower' , 'Passengers')]"
   ]
  },
  {
   "cell_type": "markdown",
   "metadata": {
    "slideshow": {
     "slide_type": "subslide"
    }
   },
   "source": [
    "Si l'on cherche les médecins qui ont eu deux sinistres dans notre base de données `df_ass`;"
   ]
  },
  {
   "cell_type": "code",
   "execution_count": 22,
   "metadata": {
    "slideshow": {
     "slide_type": "fragment"
    }
   },
   "outputs": [
    {
     "data": {
      "text/html": [
       "<table>\n",
       "<thead><tr><th scope=col>numeropol</th><th scope=col>debut_pol</th><th scope=col>fin_pol</th><th scope=col>freq_paiement</th><th scope=col>⋯</th><th scope=col>cout6</th><th scope=col>cout7</th><th scope=col>nbsin</th><th scope=col>equipe</th></tr></thead>\n",
       "<tbody>\n",
       "\t<tr><td>  71     </td><td>15-2-1996</td><td>14-2-1997</td><td> 1       </td><td>⋯        </td><td>NA       </td><td>NA       </td><td>2        </td><td>3        </td></tr>\n",
       "\t<tr><td> 140     </td><td>15-4-1995</td><td>14-4-1996</td><td>12       </td><td>⋯        </td><td>NA       </td><td>NA       </td><td>2        </td><td>3        </td></tr>\n",
       "\t<tr><td>1820     </td><td>1-10-1996</td><td>30-9-1997</td><td> 1       </td><td>⋯        </td><td>NA       </td><td>NA       </td><td>2        </td><td>3        </td></tr>\n",
       "</tbody>\n",
       "</table>\n"
      ],
      "text/latex": [
       "\\begin{tabular}{r|lllllllllllllllllllllllllll}\n",
       " numeropol & debut\\_pol & fin\\_pol & freq\\_paiement & ⋯ & cout6 & cout7 & nbsin & equipe\\\\\n",
       "\\hline\n",
       "\t   71      & 15-2-1996 & 14-2-1997 &  1        & ⋯         & NA        & NA        & 2         & 3        \\\\\n",
       "\t  140      & 15-4-1995 & 14-4-1996 & 12        & ⋯         & NA        & NA        & 2         & 3        \\\\\n",
       "\t 1820      & 1-10-1996 & 30-9-1997 &  1        & ⋯         & NA        & NA        & 2         & 3        \\\\\n",
       "\\end{tabular}\n"
      ],
      "text/markdown": [
       "\n",
       "numeropol | debut_pol | fin_pol | freq_paiement | ⋯ | cout6 | cout7 | nbsin | equipe | \n",
       "|---|---|---|\n",
       "|   71      | 15-2-1996 | 14-2-1997 |  1        | ⋯         | NA        | NA        | 2         | 3         | \n",
       "|  140      | 15-4-1995 | 14-4-1996 | 12        | ⋯         | NA        | NA        | 2         | 3         | \n",
       "| 1820      | 1-10-1996 | 30-9-1997 |  1        | ⋯         | NA        | NA        | 2         | 3         | \n",
       "\n",
       "\n"
      ],
      "text/plain": [
       "  numeropol debut_pol fin_pol   freq_paiement ⋯ cout6 cout7 nbsin equipe\n",
       "1   71      15-2-1996 14-2-1997  1            ⋯ NA    NA    2     3     \n",
       "2  140      15-4-1995 14-4-1996 12            ⋯ NA    NA    2     3     \n",
       "3 1820      1-10-1996 30-9-1997  1            ⋯ NA    NA    2     3     "
      ]
     },
     "metadata": {},
     "output_type": "display_data"
    }
   ],
   "source": [
    "filter(df_ass, nbsin==2, type_prof==\"Médecin\")"
   ]
  },
  {
   "cell_type": "markdown",
   "metadata": {
    "slideshow": {
     "slide_type": "slide"
    }
   },
   "source": [
    "## mutate"
   ]
  },
  {
   "cell_type": "markdown",
   "metadata": {
    "slideshow": {
     "slide_type": "fragment"
    }
   },
   "source": [
    "Dans ce package, on trouve aussi la fonction `mutate` qui permet d'ajouter de nouvelles variables à notre df"
   ]
  },
  {
   "cell_type": "code",
   "execution_count": 23,
   "metadata": {
    "slideshow": {
     "slide_type": "fragment"
    }
   },
   "outputs": [
    {
     "data": {
      "text/html": [
       "<table>\n",
       "<thead><tr><th scope=col>km</th><th scope=col>temps</th><th scope=col>vitesseMoyenne</th><th scope=col>puissanceMoyenne</th><th scope=col>bpm</th><th scope=col>arrondi</th></tr></thead>\n",
       "<tbody>\n",
       "\t<tr><td> 1.24</td><td>4:01 </td><td>19.1 </td><td>160  </td><td>134  </td><td>19   </td></tr>\n",
       "\t<tr><td> 4.84</td><td>9:42 </td><td>30.2 </td><td>133  </td><td>146  </td><td>30   </td></tr>\n",
       "\t<tr><td> 1.02</td><td>1:57 </td><td>30.8 </td><td>141  </td><td>139  </td><td>31   </td></tr>\n",
       "\t<tr><td>17.61</td><td>36:11</td><td>29.2 </td><td>125  </td><td>144  </td><td>29   </td></tr>\n",
       "\t<tr><td> 9.27</td><td>19:10</td><td>29.0 </td><td>121  </td><td>143  </td><td>29   </td></tr>\n",
       "</tbody>\n",
       "</table>\n"
      ],
      "text/latex": [
       "\\begin{tabular}{r|llllll}\n",
       " km & temps & vitesseMoyenne & puissanceMoyenne & bpm & arrondi\\\\\n",
       "\\hline\n",
       "\t  1.24 & 4:01  & 19.1  & 160   & 134   & 19   \\\\\n",
       "\t  4.84 & 9:42  & 30.2  & 133   & 146   & 30   \\\\\n",
       "\t  1.02 & 1:57  & 30.8  & 141   & 139   & 31   \\\\\n",
       "\t 17.61 & 36:11 & 29.2  & 125   & 144   & 29   \\\\\n",
       "\t  9.27 & 19:10 & 29.0  & 121   & 143   & 29   \\\\\n",
       "\\end{tabular}\n"
      ],
      "text/markdown": [
       "\n",
       "km | temps | vitesseMoyenne | puissanceMoyenne | bpm | arrondi | \n",
       "|---|---|---|---|---|\n",
       "|  1.24 | 4:01  | 19.1  | 160   | 134   | 19    | \n",
       "|  4.84 | 9:42  | 30.2  | 133   | 146   | 30    | \n",
       "|  1.02 | 1:57  | 30.8  | 141   | 139   | 31    | \n",
       "| 17.61 | 36:11 | 29.2  | 125   | 144   | 29    | \n",
       "|  9.27 | 19:10 | 29.0  | 121   | 143   | 29    | \n",
       "\n",
       "\n"
      ],
      "text/plain": [
       "  km    temps vitesseMoyenne puissanceMoyenne bpm arrondi\n",
       "1  1.24 4:01  19.1           160              134 19     \n",
       "2  4.84 9:42  30.2           133              146 30     \n",
       "3  1.02 1:57  30.8           141              139 31     \n",
       "4 17.61 36:11 29.2           125              144 29     \n",
       "5  9.27 19:10 29.0           121              143 29     "
      ]
     },
     "metadata": {},
     "output_type": "display_data"
    }
   ],
   "source": [
    "mutate(df, arrondi=round(df$vitesseMoyenne,0))"
   ]
  },
  {
   "cell_type": "markdown",
   "metadata": {
    "slideshow": {
     "slide_type": "subslide"
    }
   },
   "source": [
    "Ajoutons maintenant trois nouvlles variables;"
   ]
  },
  {
   "cell_type": "code",
   "execution_count": 24,
   "metadata": {
    "slideshow": {
     "slide_type": "fragment"
    }
   },
   "outputs": [
    {
     "data": {
      "text/html": [
       "<table>\n",
       "<thead><tr><th scope=col>km</th><th scope=col>temps</th><th scope=col>vitesseMoyenne</th><th scope=col>puissanceMoyenne</th><th scope=col>bpm</th><th scope=col>arrondi</th><th scope=col>segementStrava</th><th scope=col>arrondi_2</th></tr></thead>\n",
       "<tbody>\n",
       "\t<tr><td> 1.24    </td><td>4:01     </td><td>19.1     </td><td>160      </td><td>134      </td><td>19       </td><td>segment_1</td><td> 9.5     </td></tr>\n",
       "\t<tr><td> 4.84    </td><td>9:42     </td><td>30.2     </td><td>133      </td><td>146      </td><td>30       </td><td>segment_2</td><td>15.0     </td></tr>\n",
       "\t<tr><td> 1.02    </td><td>1:57     </td><td>30.8     </td><td>141      </td><td>139      </td><td>31       </td><td>segment_3</td><td>15.5     </td></tr>\n",
       "\t<tr><td>17.61    </td><td>36:11    </td><td>29.2     </td><td>125      </td><td>144      </td><td>29       </td><td>segment_4</td><td>14.5     </td></tr>\n",
       "\t<tr><td> 9.27    </td><td>19:10    </td><td>29.0     </td><td>121      </td><td>143      </td><td>29       </td><td>segment_5</td><td>14.5     </td></tr>\n",
       "</tbody>\n",
       "</table>\n"
      ],
      "text/latex": [
       "\\begin{tabular}{r|llllllll}\n",
       " km & temps & vitesseMoyenne & puissanceMoyenne & bpm & arrondi & segementStrava & arrondi\\_2\\\\\n",
       "\\hline\n",
       "\t  1.24       & 4:01        & 19.1        & 160         & 134         & 19          & segment\\_1 &  9.5       \\\\\n",
       "\t  4.84       & 9:42        & 30.2        & 133         & 146         & 30          & segment\\_2 & 15.0       \\\\\n",
       "\t  1.02       & 1:57        & 30.8        & 141         & 139         & 31          & segment\\_3 & 15.5       \\\\\n",
       "\t 17.61       & 36:11       & 29.2        & 125         & 144         & 29          & segment\\_4 & 14.5       \\\\\n",
       "\t  9.27       & 19:10       & 29.0        & 121         & 143         & 29          & segment\\_5 & 14.5       \\\\\n",
       "\\end{tabular}\n"
      ],
      "text/markdown": [
       "\n",
       "km | temps | vitesseMoyenne | puissanceMoyenne | bpm | arrondi | segementStrava | arrondi_2 | \n",
       "|---|---|---|---|---|\n",
       "|  1.24     | 4:01      | 19.1      | 160       | 134       | 19        | segment_1 |  9.5      | \n",
       "|  4.84     | 9:42      | 30.2      | 133       | 146       | 30        | segment_2 | 15.0      | \n",
       "|  1.02     | 1:57      | 30.8      | 141       | 139       | 31        | segment_3 | 15.5      | \n",
       "| 17.61     | 36:11     | 29.2      | 125       | 144       | 29        | segment_4 | 14.5      | \n",
       "|  9.27     | 19:10     | 29.0      | 121       | 143       | 29        | segment_5 | 14.5      | \n",
       "\n",
       "\n"
      ],
      "text/plain": [
       "  km    temps vitesseMoyenne puissanceMoyenne bpm arrondi segementStrava\n",
       "1  1.24 4:01  19.1           160              134 19      segment_1     \n",
       "2  4.84 9:42  30.2           133              146 30      segment_2     \n",
       "3  1.02 1:57  30.8           141              139 31      segment_3     \n",
       "4 17.61 36:11 29.2           125              144 29      segment_4     \n",
       "5  9.27 19:10 29.0           121              143 29      segment_5     \n",
       "  arrondi_2\n",
       "1  9.5     \n",
       "2 15.0     \n",
       "3 15.5     \n",
       "4 14.5     \n",
       "5 14.5     "
      ]
     },
     "metadata": {},
     "output_type": "display_data"
    }
   ],
   "source": [
    "mutate(df, arrondi=round(df$vitesseMoyenne,0), segementStrava=paste(\"segment\",1:5,sep = \"_\"), arrondi_2=arrondi/2)"
   ]
  },
  {
   "cell_type": "markdown",
   "metadata": {
    "slideshow": {
     "slide_type": "slide"
    }
   },
   "source": [
    "## summarize"
   ]
  },
  {
   "cell_type": "markdown",
   "metadata": {
    "slideshow": {
     "slide_type": "subslide"
    }
   },
   "source": [
    "La fonction `summarize` est très similaire à la fonction `mutate`. Toutefois, contrairement à `mutate`, la fonction `summarize` ne travaille pas sur une copie du df, mais elle crée un tout nouveau df avec les nouvelles variables. "
   ]
  },
  {
   "cell_type": "code",
   "execution_count": 25,
   "metadata": {
    "slideshow": {
     "slide_type": "fragment"
    }
   },
   "outputs": [
    {
     "data": {
      "text/html": [
       "<table>\n",
       "<thead><tr><th scope=col>TotalKmParcour</th></tr></thead>\n",
       "<tbody>\n",
       "\t<tr><td>33.98</td></tr>\n",
       "</tbody>\n",
       "</table>\n"
      ],
      "text/latex": [
       "\\begin{tabular}{r|l}\n",
       " TotalKmParcour\\\\\n",
       "\\hline\n",
       "\t 33.98\\\\\n",
       "\\end{tabular}\n"
      ],
      "text/markdown": [
       "\n",
       "TotalKmParcour | \n",
       "|---|\n",
       "| 33.98 | \n",
       "\n",
       "\n"
      ],
      "text/plain": [
       "  TotalKmParcour\n",
       "1 33.98         "
      ]
     },
     "metadata": {},
     "output_type": "display_data"
    }
   ],
   "source": [
    "summarise(df,TotalKmParcour=sum(km))"
   ]
  },
  {
   "cell_type": "code",
   "execution_count": 26,
   "metadata": {
    "slideshow": {
     "slide_type": "subslide"
    }
   },
   "outputs": [
    {
     "data": {
      "text/html": [
       "<table>\n",
       "<thead><tr><th scope=col>TotalKmParcour</th><th scope=col>vitesseMoyenne</th><th scope=col>puissanceMoyenne</th></tr></thead>\n",
       "<tbody>\n",
       "\t<tr><td>33.98</td><td>27.66</td><td>136  </td></tr>\n",
       "</tbody>\n",
       "</table>\n"
      ],
      "text/latex": [
       "\\begin{tabular}{r|lll}\n",
       " TotalKmParcour & vitesseMoyenne & puissanceMoyenne\\\\\n",
       "\\hline\n",
       "\t 33.98 & 27.66 & 136  \\\\\n",
       "\\end{tabular}\n"
      ],
      "text/markdown": [
       "\n",
       "TotalKmParcour | vitesseMoyenne | puissanceMoyenne | \n",
       "|---|\n",
       "| 33.98 | 27.66 | 136   | \n",
       "\n",
       "\n"
      ],
      "text/plain": [
       "  TotalKmParcour vitesseMoyenne puissanceMoyenne\n",
       "1 33.98          27.66          136             "
      ]
     },
     "metadata": {},
     "output_type": "display_data"
    }
   ],
   "source": [
    "summarise(df,TotalKmParcour=sum(km), vitesseMoyenne= mean(df$vitesseMoyenne), puissanceMoyenne=mean(df$puissanceMoyenne))"
   ]
  },
  {
   "cell_type": "markdown",
   "metadata": {
    "slideshow": {
     "slide_type": "slide"
    }
   },
   "source": [
    "On voit bien que l'écriture du code commence à être un peu plus compliquée lorsque nous avons plusieurs parenthèses dans notre fonction. Pour remédier à ce problème, nous verrons la notion de _piiping_;"
   ]
  },
  {
   "cell_type": "markdown",
   "metadata": {
    "slideshow": {
     "slide_type": "slide"
    }
   },
   "source": [
    "## L'opérateur Pipe: %>%"
   ]
  },
  {
   "cell_type": "markdown",
   "metadata": {
    "slideshow": {
     "slide_type": "subslide"
    }
   },
   "source": [
    "Avant d'aller plus loin, introduisons l'opérateur de _pipe_:%>%. **dplyr** importe cet opérateur d'une autre librairie (`magrittr`). Cet opérateur vous permet de diriger la sortie d'une fonction vers l'entrée d'une autre fonction. Au lieu d'imbriquer des fonctions (lecture de l'intérieur vers l'extérieur), l'idée de _piping_ est de lire les fonctions de gauche à droite."
   ]
  },
  {
   "cell_type": "markdown",
   "metadata": {
    "slideshow": {
     "slide_type": "fragment"
    }
   },
   "source": [
    "![piping data](http://res.cloudinary.com/dyd911kmh/image/upload/f_auto,q_auto:best/v1510846626/Pipe-Mathematical_gczmab.png)\n",
    "\n",
    "Crédit de l'image [Pipes in R Tutorial For Beginners](https://www.datacamp.com/community/tutorials/pipe-r-tutorial)"
   ]
  },
  {
   "cell_type": "markdown",
   "metadata": {
    "slideshow": {
     "slide_type": "subslide"
    }
   },
   "source": [
    "Lorsque nous avons écrit:"
   ]
  },
  {
   "cell_type": "code",
   "execution_count": 6,
   "metadata": {
    "slideshow": {
     "slide_type": "fragment"
    }
   },
   "outputs": [
    {
     "data": {
      "text/html": [
       "<table>\n",
       "<thead><tr><th scope=col>numeropol</th><th scope=col>type_territoire</th><th scope=col>nbsin</th></tr></thead>\n",
       "<tbody>\n",
       "\t<tr><td>4          </td><td>Semi-urbain</td><td>0          </td></tr>\n",
       "\t<tr><td>4          </td><td>Semi-urbain</td><td>0          </td></tr>\n",
       "\t<tr><td>4          </td><td>Semi-urbain</td><td>0          </td></tr>\n",
       "\t<tr><td>⋮</td><td>⋮</td><td>⋮</td></tr>\n",
       "\t<tr><td>2036       </td><td>Semi-urbain</td><td>0          </td></tr>\n",
       "\t<tr><td>2036       </td><td>Semi-urbain</td><td>1          </td></tr>\n",
       "</tbody>\n",
       "</table>\n"
      ],
      "text/latex": [
       "\\begin{tabular}{r|lll}\n",
       " numeropol & type\\_territoire & nbsin\\\\\n",
       "\\hline\n",
       "\t 4           & Semi-urbain & 0          \\\\\n",
       "\t 4           & Semi-urbain & 0          \\\\\n",
       "\t 4           & Semi-urbain & 0          \\\\\n",
       "\t ⋮ & ⋮ & ⋮\\\\\n",
       "\t 2036        & Semi-urbain & 0          \\\\\n",
       "\t 2036        & Semi-urbain & 1          \\\\\n",
       "\\end{tabular}\n"
      ],
      "text/markdown": [
       "\n",
       "numeropol | type_territoire | nbsin | \n",
       "|---|---|---|---|---|---|\n",
       "| 4           | Semi-urbain | 0           | \n",
       "| 4           | Semi-urbain | 0           | \n",
       "| 4           | Semi-urbain | 0           | \n",
       "| ⋮ | ⋮ | ⋮ | \n",
       "| 2036        | Semi-urbain | 0           | \n",
       "| 2036        | Semi-urbain | 1           | \n",
       "\n",
       "\n"
      ],
      "text/plain": [
       "     numeropol type_territoire nbsin\n",
       "1    4         Semi-urbain     0    \n",
       "2    4         Semi-urbain     0    \n",
       "3    4         Semi-urbain     0    \n",
       "⋮    ⋮         ⋮               ⋮    \n",
       "1000 2036      Semi-urbain     0    \n",
       "1001 2036      Semi-urbain     1    "
      ]
     },
     "metadata": {},
     "output_type": "display_data"
    }
   ],
   "source": [
    "select(df_ass, numeropol, type_territoire, nbsin)"
   ]
  },
  {
   "cell_type": "markdown",
   "metadata": {
    "slideshow": {
     "slide_type": "subslide"
    }
   },
   "source": [
    "Si on lit ce que nous avons écrit précédemment de l'intérieur vert l'extérieur, en utilisant le _piping_, nous aurons ceci:"
   ]
  },
  {
   "cell_type": "code",
   "execution_count": 7,
   "metadata": {
    "slideshow": {
     "slide_type": "fragment"
    }
   },
   "outputs": [
    {
     "data": {
      "text/html": [
       "<table>\n",
       "<thead><tr><th scope=col>numeropol</th><th scope=col>type_territoire</th><th scope=col>nbsin</th></tr></thead>\n",
       "<tbody>\n",
       "\t<tr><td>4          </td><td>Semi-urbain</td><td>0          </td></tr>\n",
       "\t<tr><td>4          </td><td>Semi-urbain</td><td>0          </td></tr>\n",
       "\t<tr><td>4          </td><td>Semi-urbain</td><td>0          </td></tr>\n",
       "\t<tr><td>⋮</td><td>⋮</td><td>⋮</td></tr>\n",
       "\t<tr><td>2036       </td><td>Semi-urbain</td><td>0          </td></tr>\n",
       "\t<tr><td>2036       </td><td>Semi-urbain</td><td>1          </td></tr>\n",
       "</tbody>\n",
       "</table>\n"
      ],
      "text/latex": [
       "\\begin{tabular}{r|lll}\n",
       " numeropol & type\\_territoire & nbsin\\\\\n",
       "\\hline\n",
       "\t 4           & Semi-urbain & 0          \\\\\n",
       "\t 4           & Semi-urbain & 0          \\\\\n",
       "\t 4           & Semi-urbain & 0          \\\\\n",
       "\t ⋮ & ⋮ & ⋮\\\\\n",
       "\t 2036        & Semi-urbain & 0          \\\\\n",
       "\t 2036        & Semi-urbain & 1          \\\\\n",
       "\\end{tabular}\n"
      ],
      "text/markdown": [
       "\n",
       "numeropol | type_territoire | nbsin | \n",
       "|---|---|---|---|---|---|\n",
       "| 4           | Semi-urbain | 0           | \n",
       "| 4           | Semi-urbain | 0           | \n",
       "| 4           | Semi-urbain | 0           | \n",
       "| ⋮ | ⋮ | ⋮ | \n",
       "| 2036        | Semi-urbain | 0           | \n",
       "| 2036        | Semi-urbain | 1           | \n",
       "\n",
       "\n"
      ],
      "text/plain": [
       "     numeropol type_territoire nbsin\n",
       "1    4         Semi-urbain     0    \n",
       "2    4         Semi-urbain     0    \n",
       "3    4         Semi-urbain     0    \n",
       "⋮    ⋮         ⋮               ⋮    \n",
       "1000 2036      Semi-urbain     0    \n",
       "1001 2036      Semi-urbain     1    "
      ]
     },
     "metadata": {},
     "output_type": "display_data"
    }
   ],
   "source": [
    "df_ass %>%\n",
    "    select (numeropol,type_territoire, nbsin)"
   ]
  },
  {
   "cell_type": "markdown",
   "metadata": {
    "slideshow": {
     "slide_type": "subslide"
    }
   },
   "source": [
    "ou;"
   ]
  },
  {
   "cell_type": "code",
   "execution_count": 8,
   "metadata": {
    "slideshow": {
     "slide_type": "fragment"
    }
   },
   "outputs": [
    {
     "data": {
      "text/html": [
       "<table>\n",
       "<thead><tr><th scope=col>numeropol</th><th scope=col>type_territoire</th><th scope=col>nbsin</th></tr></thead>\n",
       "<tbody>\n",
       "\t<tr><td>4          </td><td>Semi-urbain</td><td>0          </td></tr>\n",
       "\t<tr><td>4          </td><td>Semi-urbain</td><td>0          </td></tr>\n",
       "\t<tr><td>4          </td><td>Semi-urbain</td><td>0          </td></tr>\n",
       "\t<tr><td>⋮</td><td>⋮</td><td>⋮</td></tr>\n",
       "\t<tr><td> 4         </td><td>Semi-urbain</td><td>0          </td></tr>\n",
       "\t<tr><td>12         </td><td>Semi-urbain</td><td>0          </td></tr>\n",
       "</tbody>\n",
       "</table>\n"
      ],
      "text/latex": [
       "\\begin{tabular}{r|lll}\n",
       " numeropol & type\\_territoire & nbsin\\\\\n",
       "\\hline\n",
       "\t 4           & Semi-urbain & 0          \\\\\n",
       "\t 4           & Semi-urbain & 0          \\\\\n",
       "\t 4           & Semi-urbain & 0          \\\\\n",
       "\t ⋮ & ⋮ & ⋮\\\\\n",
       "\t  4          & Semi-urbain & 0          \\\\\n",
       "\t 12          & Semi-urbain & 0          \\\\\n",
       "\\end{tabular}\n"
      ],
      "text/markdown": [
       "\n",
       "numeropol | type_territoire | nbsin | \n",
       "|---|---|---|---|---|---|\n",
       "| 4           | Semi-urbain | 0           | \n",
       "| 4           | Semi-urbain | 0           | \n",
       "| 4           | Semi-urbain | 0           | \n",
       "| ⋮ | ⋮ | ⋮ | \n",
       "|  4          | Semi-urbain | 0           | \n",
       "| 12          | Semi-urbain | 0           | \n",
       "\n",
       "\n"
      ],
      "text/plain": [
       "  numeropol type_territoire nbsin\n",
       "1 4         Semi-urbain     0    \n",
       "2 4         Semi-urbain     0    \n",
       "3 4         Semi-urbain     0    \n",
       "⋮ ⋮         ⋮               ⋮    \n",
       "5  4        Semi-urbain     0    \n",
       "6 12        Semi-urbain     0    "
      ]
     },
     "metadata": {},
     "output_type": "display_data"
    }
   ],
   "source": [
    "df_ass %>%\n",
    "    select (numeropol,type_territoire, nbsin) %>%\n",
    "    head"
   ]
  },
  {
   "cell_type": "markdown",
   "metadata": {
    "slideshow": {
     "slide_type": "slide"
    }
   },
   "source": [
    "## group_by"
   ]
  },
  {
   "cell_type": "markdown",
   "metadata": {
    "slideshow": {
     "slide_type": "fragment"
    }
   },
   "source": [
    "Nous pouvons aussi grouper les données comme nous le faisions dans `SAS` avec les `PROC SQL`"
   ]
  },
  {
   "cell_type": "code",
   "execution_count": 11,
   "metadata": {
    "collapsed": true,
    "slideshow": {
     "slide_type": "fragment"
    }
   },
   "outputs": [],
   "source": [
    "df_ass$coutTot<-rowSums(df_ass[,c(19:25)], na.rm = T, dims = 1)"
   ]
  },
  {
   "cell_type": "code",
   "execution_count": 12,
   "metadata": {
    "slideshow": {
     "slide_type": "subslide"
    }
   },
   "outputs": [
    {
     "data": {
      "text/html": [
       "<table>\n",
       "<thead><tr><th scope=col>numeropol</th><th scope=col>debut_pol</th><th scope=col>fin_pol</th><th scope=col>freq_paiement</th><th scope=col>⋯</th><th scope=col>cout7</th><th scope=col>nbsin</th><th scope=col>equipe</th><th scope=col>coutTot</th></tr></thead>\n",
       "<tbody>\n",
       "\t<tr><td>4        </td><td>11-4-1996</td><td>10-4-1997</td><td>12       </td><td>⋯        </td><td>NA       </td><td>0        </td><td>3        </td><td>0        </td></tr>\n",
       "\t<tr><td>4        </td><td>11-4-1997</td><td>10-4-1998</td><td>12       </td><td>⋯        </td><td>NA       </td><td>0        </td><td>3        </td><td>0        </td></tr>\n",
       "\t<tr><td>4        </td><td>11-4-2002</td><td>17-7-2002</td><td>12       </td><td>⋯        </td><td>NA       </td><td>0        </td><td>3        </td><td>0        </td></tr>\n",
       "\t<tr><td>⋮</td><td>⋮</td><td>⋮</td><td>⋮</td><td>⋱</td><td>⋮</td><td>⋮</td><td>⋮</td><td>⋮</td></tr>\n",
       "\t<tr><td>2036     </td><td>27-2-2001</td><td>13-3-2001</td><td>12       </td><td>⋯        </td><td>NA       </td><td>0        </td><td>3        </td><td>     0.0 </td></tr>\n",
       "\t<tr><td>2036     </td><td>14-3-2001</td><td>13-3-2002</td><td>12       </td><td>⋯        </td><td>NA       </td><td>1        </td><td>3        </td><td>231051.8 </td></tr>\n",
       "</tbody>\n",
       "</table>\n"
      ],
      "text/latex": [
       "\\begin{tabular}{r|llllllllllllllllllllllllllll}\n",
       " numeropol & debut\\_pol & fin\\_pol & freq\\_paiement & ⋯ & cout7 & nbsin & equipe & coutTot\\\\\n",
       "\\hline\n",
       "\t 4         & 11-4-1996 & 10-4-1997 & 12        & ⋯         & NA        & 0         & 3         & 0        \\\\\n",
       "\t 4         & 11-4-1997 & 10-4-1998 & 12        & ⋯         & NA        & 0         & 3         & 0        \\\\\n",
       "\t 4         & 11-4-2002 & 17-7-2002 & 12        & ⋯         & NA        & 0         & 3         & 0        \\\\\n",
       "\t ⋮ & ⋮ & ⋮ & ⋮ & ⋱ & ⋮ & ⋮ & ⋮ & ⋮\\\\\n",
       "\t 2036      & 27-2-2001 & 13-3-2001 & 12        & ⋯         & NA        & 0         & 3         &      0.0 \\\\\n",
       "\t 2036      & 14-3-2001 & 13-3-2002 & 12        & ⋯         & NA        & 1         & 3         & 231051.8 \\\\\n",
       "\\end{tabular}\n"
      ],
      "text/markdown": [
       "\n",
       "numeropol | debut_pol | fin_pol | freq_paiement | ⋯ | cout7 | nbsin | equipe | coutTot | \n",
       "|---|---|---|---|---|---|\n",
       "| 4         | 11-4-1996 | 10-4-1997 | 12        | ⋯         | NA        | 0         | 3         | 0         | \n",
       "| 4         | 11-4-1997 | 10-4-1998 | 12        | ⋯         | NA        | 0         | 3         | 0         | \n",
       "| 4         | 11-4-2002 | 17-7-2002 | 12        | ⋯         | NA        | 0         | 3         | 0         | \n",
       "| ⋮ | ⋮ | ⋮ | ⋮ | ⋱ | ⋮ | ⋮ | ⋮ | ⋮ | \n",
       "| 2036      | 27-2-2001 | 13-3-2001 | 12        | ⋯         | NA        | 0         | 3         |      0.0  | \n",
       "| 2036      | 14-3-2001 | 13-3-2002 | 12        | ⋯         | NA        | 1         | 3         | 231051.8  | \n",
       "\n",
       "\n"
      ],
      "text/plain": [
       "     numeropol debut_pol fin_pol   freq_paiement ⋯ cout7 nbsin equipe coutTot \n",
       "1    4         11-4-1996 10-4-1997 12            ⋯ NA    0     3      0       \n",
       "2    4         11-4-1997 10-4-1998 12            ⋯ NA    0     3      0       \n",
       "3    4         11-4-2002 17-7-2002 12            ⋯ NA    0     3      0       \n",
       "⋮    ⋮         ⋮         ⋮         ⋮             ⋱ ⋮     ⋮     ⋮      ⋮       \n",
       "1000 2036      27-2-2001 13-3-2001 12            ⋯ NA    0     3           0.0\n",
       "1001 2036      14-3-2001 13-3-2002 12            ⋯ NA    1     3      231051.8"
      ]
     },
     "metadata": {},
     "output_type": "display_data"
    }
   ],
   "source": [
    "df_ass"
   ]
  },
  {
   "cell_type": "code",
   "execution_count": 13,
   "metadata": {
    "slideshow": {
     "slide_type": "fragment"
    }
   },
   "outputs": [
    {
     "data": {
      "text/html": [
       "<table>\n",
       "<thead><tr><th scope=col>TotalNbSin</th><th scope=col>TotCout</th></tr></thead>\n",
       "<tbody>\n",
       "\t<tr><td>156    </td><td>1078791</td></tr>\n",
       "</tbody>\n",
       "</table>\n"
      ],
      "text/latex": [
       "\\begin{tabular}{r|ll}\n",
       " TotalNbSin & TotCout\\\\\n",
       "\\hline\n",
       "\t 156     & 1078791\\\\\n",
       "\\end{tabular}\n"
      ],
      "text/markdown": [
       "\n",
       "TotalNbSin | TotCout | \n",
       "|---|\n",
       "| 156     | 1078791 | \n",
       "\n",
       "\n"
      ],
      "text/plain": [
       "  TotalNbSin TotCout\n",
       "1 156        1078791"
      ]
     },
     "metadata": {},
     "output_type": "display_data"
    }
   ],
   "source": [
    "summarise(df_ass,TotalNbSin=sum(nbsin), TotCout= sum((coutTot), na.rm = T))"
   ]
  },
  {
   "cell_type": "markdown",
   "metadata": {
    "slideshow": {
     "slide_type": "fragment"
    }
   },
   "source": [
    "Cherchons par exemple nombre de sinistres totaux ainsi que leurs coûts par territoire. En utilisant la syntaxe du _piping_, ça devient plus facile d'inclure plus de sous-groupes;"
   ]
  },
  {
   "cell_type": "code",
   "execution_count": 14,
   "metadata": {
    "slideshow": {
     "slide_type": "fragment"
    }
   },
   "outputs": [
    {
     "data": {
      "text/html": [
       "<table>\n",
       "<thead><tr><th scope=col>type_territoire</th><th scope=col>TotalNbSin</th><th scope=col>TotCout</th></tr></thead>\n",
       "<tbody>\n",
       "\t<tr><td>Rural      </td><td>51         </td><td>547105.01  </td></tr>\n",
       "\t<tr><td>Semi-urbain</td><td>80         </td><td>471157.64  </td></tr>\n",
       "\t<tr><td>Urbain     </td><td>25         </td><td> 60528.81  </td></tr>\n",
       "</tbody>\n",
       "</table>\n"
      ],
      "text/latex": [
       "\\begin{tabular}{r|lll}\n",
       " type\\_territoire & TotalNbSin & TotCout\\\\\n",
       "\\hline\n",
       "\t Rural       & 51          & 547105.01  \\\\\n",
       "\t Semi-urbain & 80          & 471157.64  \\\\\n",
       "\t Urbain      & 25          &  60528.81  \\\\\n",
       "\\end{tabular}\n"
      ],
      "text/markdown": [
       "\n",
       "type_territoire | TotalNbSin | TotCout | \n",
       "|---|---|---|\n",
       "| Rural       | 51          | 547105.01   | \n",
       "| Semi-urbain | 80          | 471157.64   | \n",
       "| Urbain      | 25          |  60528.81   | \n",
       "\n",
       "\n"
      ],
      "text/plain": [
       "  type_territoire TotalNbSin TotCout  \n",
       "1 Rural           51         547105.01\n",
       "2 Semi-urbain     80         471157.64\n",
       "3 Urbain          25          60528.81"
      ]
     },
     "metadata": {},
     "output_type": "display_data"
    }
   ],
   "source": [
    "df_ass %>% \n",
    "    group_by(type_territoire) %>%\n",
    "    summarise(TotalNbSin=sum(nbsin), \n",
    "              TotCout= sum((coutTot), na.rm = T))"
   ]
  }
 ],
 "metadata": {
  "anaconda-cloud": {},
  "celltoolbar": "Slideshow",
  "kernelspec": {
   "display_name": "R",
   "language": "R",
   "name": "ir"
  },
  "language_info": {
   "codemirror_mode": "r",
   "file_extension": ".r",
   "mimetype": "text/x-r-source",
   "name": "R",
   "pygments_lexer": "r",
   "version": "3.4.3"
  },
  "latex_envs": {
   "LaTeX_envs_menu_present": true,
   "autoclose": false,
   "autocomplete": true,
   "bibliofile": "biblio.bib",
   "cite_by": "apalike",
   "current_citInitial": 1,
   "eqLabelWithNumbers": true,
   "eqNumInitial": 1,
   "hotkeys": {
    "equation": "Ctrl-E",
    "itemize": "Ctrl-I"
   },
   "labels_anchors": false,
   "latex_user_defs": false,
   "report_style_numbering": false,
   "user_envs_cfg": false
  },
  "toc": {
   "base_numbering": 1,
   "nav_menu": {
    "height": "444px",
    "width": "252px"
   },
   "number_sections": false,
   "sideBar": true,
   "skip_h1_title": false,
   "title_cell": "Table of Contents",
   "title_sidebar": "Contents",
   "toc_cell": true,
   "toc_position": {
    "height": "1132px",
    "left": "0px",
    "right": "20px",
    "top": "159px",
    "width": "211px"
   },
   "toc_section_display": "block",
   "toc_window_display": true
  }
 },
 "nbformat": 4,
 "nbformat_minor": 1
}
