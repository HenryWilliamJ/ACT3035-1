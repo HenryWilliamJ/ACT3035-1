{
 "cells": [
  {
   "cell_type": "markdown",
   "metadata": {
    "slideshow": {
     "slide_type": "slide"
    },
    "toc": true
   },
   "source": [
    "<h1>Table of Contents<span class=\"tocSkip\"></span></h1>\n",
    "<div class=\"toc\"><ul class=\"toc-item\"><li><ul class=\"toc-item\"><li><span><a href=\"#Définir-pour-accélerer\" data-toc-modified-id=\"Définir-pour-accélerer-0.1\"><span class=\"toc-item-num\">0.1&nbsp;&nbsp;</span>Définir pour accélerer</a></span></li></ul></li><li><span><a href=\"#Développer-des-fonctions\" data-toc-modified-id=\"Développer-des-fonctions-1\"><span class=\"toc-item-num\">1&nbsp;&nbsp;</span>Développer des fonctions</a></span><ul class=\"toc-item\"><li><span><a href=\"#Gestion-de-erreurs,\" data-toc-modified-id=\"Gestion-de-erreurs,-1.1\"><span class=\"toc-item-num\">1.1&nbsp;&nbsp;</span>Gestion de erreurs,</a></span></li><li><span><a href=\"#Résultat-en-plusieurs-éléments-(list)\" data-toc-modified-id=\"Résultat-en-plusieurs-éléments-(list)-1.2\"><span class=\"toc-item-num\">1.2&nbsp;&nbsp;</span>Résultat en plusieurs éléments (<code>list</code>)</a></span></li><li><span><a href=\"#inspecter-la-fonction:\" data-toc-modified-id=\"inspecter-la-fonction:-1.3\"><span class=\"toc-item-num\">1.3&nbsp;&nbsp;</span>inspecter la fonction:</a></span><ul class=\"toc-item\"><li><span><a href=\"#le-code\" data-toc-modified-id=\"le-code-1.3.1\"><span class=\"toc-item-num\">1.3.1&nbsp;&nbsp;</span>le code</a></span></li><li><span><a href=\"#les-arguments-de-la-fonction\" data-toc-modified-id=\"les-arguments-de-la-fonction-1.3.2\"><span class=\"toc-item-num\">1.3.2&nbsp;&nbsp;</span>les arguments de la fonction</a></span></li><li><span><a href=\"#Les-arguments-par-défaut\" data-toc-modified-id=\"Les-arguments-par-défaut-1.3.3\"><span class=\"toc-item-num\">1.3.3&nbsp;&nbsp;</span>Les arguments par défaut</a></span></li></ul></li><li><span><a href=\"#Best-practice\" data-toc-modified-id=\"Best-practice-1.4\"><span class=\"toc-item-num\">1.4&nbsp;&nbsp;</span>Best practice</a></span></li></ul></li><li><span><a href=\"#Sauvegegarde-d'objets\" data-toc-modified-id=\"Sauvegegarde-d'objets-2\"><span class=\"toc-item-num\">2&nbsp;&nbsp;</span>Sauvegegarde d'objets</a></span></li></ul></div>"
   ]
  },
  {
   "cell_type": "markdown",
   "metadata": {},
   "source": [
    "On se rappelle qu'au dernier cours, on avait fait `moyennes<-NULL`"
   ]
  },
  {
   "cell_type": "code",
   "execution_count": 43,
   "metadata": {
    "slideshow": {
     "slide_type": "fragment"
    }
   },
   "outputs": [
    {
     "data": {
      "text/plain": [
       "   user  system elapsed \n",
       "  3.953   0.107   4.063 "
      ]
     },
     "metadata": {},
     "output_type": "display_data"
    }
   ],
   "source": [
    "moyennes<-NULL\n",
    "a<-system.time(\n",
    "for (i in 1:20000){\n",
    "    mu<-mean(rnorm(100))\n",
    "    moyennes<-rbind(moyennes, mu)\n",
    "}\n",
    ")\n",
    "a"
   ]
  },
  {
   "cell_type": "markdown",
   "metadata": {
    "slideshow": {
     "slide_type": "subslide"
    }
   },
   "source": [
    "## Définir pour accélerer\n",
    "\n",
    "Au lieu de créer un objet `NULL` de taille et de type indéfini et d'y insérer le calcul via `rbind`, on peut créer un vecteur vide de même taille que le nombre de valeurs du résultat produit.\n"
   ]
  },
  {
   "cell_type": "code",
   "execution_count": 46,
   "metadata": {
    "slideshow": {
     "slide_type": "fragment"
    }
   },
   "outputs": [
    {
     "data": {
      "text/plain": [
       "   user  system elapsed \n",
       "  0.413   0.002   0.415 "
      ]
     },
     "metadata": {},
     "output_type": "display_data"
    }
   ],
   "source": [
    "moyennes<-numeric(length = 20000)\n",
    "b<-system.time(\n",
    "for (i in 1:20000){\n",
    "    mu<-mean(rnorm(100))\n",
    "    moyennes[i] <-mu\n",
    "}\n",
    ")\n",
    "b"
   ]
  },
  {
   "cell_type": "markdown",
   "metadata": {
    "slideshow": {
     "slide_type": "subslide"
    }
   },
   "source": [
    "Ce qu'on vient de faire est génial! au lieu d'ajouter le résultat calculé à l'objet vide à chaque itération, nous avons créé un vecteur en définit sa taille, et nous y avons assigné plutôt le résultat à l'index courant.\n",
    "\n",
    "Comparons les temps écoulés entre les deux manières de faire:\n"
   ]
  },
  {
   "cell_type": "code",
   "execution_count": 45,
   "metadata": {
    "slideshow": {
     "slide_type": "fragment"
    }
   },
   "outputs": [
    {
     "data": {
      "text/html": [
       "<strong>elapsed:</strong> 9.32"
      ],
      "text/latex": [
       "\\textbf{elapsed:} 9.32"
      ],
      "text/markdown": [
       "**elapsed:** 9.32"
      ],
      "text/plain": [
       "elapsed \n",
       "   9.32 "
      ]
     },
     "metadata": {},
     "output_type": "display_data"
    }
   ],
   "source": [
    "round(a[3]/b[3],2)"
   ]
  },
  {
   "cell_type": "markdown",
   "metadata": {
    "slideshow": {
     "slide_type": "fragment"
    }
   },
   "source": [
    "Donc la première façon de faire et 9.32 fois plus lente que la deuxième!"
   ]
  },
  {
   "cell_type": "markdown",
   "metadata": {
    "slideshow": {
     "slide_type": "slide"
    }
   },
   "source": [
    "# Développer des fonctions\n",
    "\n",
    "Dans les chapitres précédents, nous avons développé plusieurs exemples de code. Par exemple, nous avons calculé la valeur présente d'une série de paiements. Dans cette section, nous verrons qu'il est possible de faire ces mêmes calculs en se servant de nos propres fonctions. Creer des fonctions nous permet d'éviter de réécrire le code qui fait le même calcule à chaque fois.\n"
   ]
  },
  {
   "cell_type": "markdown",
   "metadata": {
    "slideshow": {
     "slide_type": "fragment"
    }
   },
   "source": [
    "Syntaxe:\n",
    "```{R}\n",
    "NonDeFonction <- function(arg1, arg2, ...) {\n",
    "    codeAexécuter\n",
    "    return(resultatSouhaité)\n",
    "}\n",
    "```"
   ]
  },
  {
   "cell_type": "markdown",
   "metadata": {
    "slideshow": {
     "slide_type": "subslide"
    }
   },
   "source": [
    "prenons l'exemple classique où l'on crée une fonction qui additionne deux éléments;"
   ]
  },
  {
   "cell_type": "code",
   "execution_count": 47,
   "metadata": {
    "collapsed": true,
    "slideshow": {
     "slide_type": "fragment"
    }
   },
   "outputs": [],
   "source": [
    "somme<-function(x,y){\n",
    "    return(x+y)\n",
    "}"
   ]
  },
  {
   "cell_type": "markdown",
   "metadata": {
    "slideshow": {
     "slide_type": "subslide"
    }
   },
   "source": [
    "Appliquons cette fonction maintenant:"
   ]
  },
  {
   "cell_type": "code",
   "execution_count": 48,
   "metadata": {
    "slideshow": {
     "slide_type": "fragment"
    }
   },
   "outputs": [
    {
     "data": {
      "text/html": [
       "5"
      ],
      "text/latex": [
       "5"
      ],
      "text/markdown": [
       "5"
      ],
      "text/plain": [
       "[1] 5"
      ]
     },
     "metadata": {},
     "output_type": "display_data"
    }
   ],
   "source": [
    "somme(2,3)"
   ]
  },
  {
   "cell_type": "markdown",
   "metadata": {
    "slideshow": {
     "slide_type": "slide"
    }
   },
   "source": [
    "## Gestion de erreurs,\n",
    "\n",
    "On peut éviter des erreurs d'exécution par le moyen de conditions. Toutesfois, cette solution nécessite une connaissance des erreurs qui peuvent survenir. Dans notre exemple d'adition de deux éléments, on peut demander au programme de vérifier si les éléments à additionner sont d'abord de type numérique;"
   ]
  },
  {
   "cell_type": "code",
   "execution_count": 49,
   "metadata": {
    "collapsed": true,
    "slideshow": {
     "slide_type": "fragment"
    }
   },
   "outputs": [],
   "source": [
    "somme<-function(x,y){\n",
    "    if(is.numeric(x) & is.numeric(y)){\n",
    "        return(x+y)\n",
    "    }else {\n",
    "        print(\"veuillez vérifier vos arguments\")\n",
    "    }      \n",
    "}"
   ]
  },
  {
   "cell_type": "code",
   "execution_count": 50,
   "metadata": {
    "slideshow": {
     "slide_type": "fragment"
    }
   },
   "outputs": [
    {
     "data": {
      "text/html": [
       "4"
      ],
      "text/latex": [
       "4"
      ],
      "text/markdown": [
       "4"
      ],
      "text/plain": [
       "[1] 4"
      ]
     },
     "metadata": {},
     "output_type": "display_data"
    }
   ],
   "source": [
    "somme(2,2)"
   ]
  },
  {
   "cell_type": "markdown",
   "metadata": {
    "slideshow": {
     "slide_type": "subslide"
    }
   },
   "source": [
    "Toutefois, lorsqu'on essaie ceci:"
   ]
  },
  {
   "cell_type": "code",
   "execution_count": 51,
   "metadata": {
    "slideshow": {
     "slide_type": "fragment"
    }
   },
   "outputs": [
    {
     "name": "stdout",
     "output_type": "stream",
     "text": [
      "[1] \"veuillez vérifier vos arguments\"\n"
     ]
    }
   ],
   "source": [
    "somme(2, \"a\")"
   ]
  },
  {
   "cell_type": "markdown",
   "metadata": {
    "slideshow": {
     "slide_type": "subslide"
    }
   },
   "source": [
    "Dans l'exemple précédent, nous avons eu comme résultat la somme de deux éléments, il est possible de faire en sorte que le résultat de la fonction nous retourne plusieurs éléments. Par exemple, dans la fonction `operation` suivante, elle nous retourne trois opérations sur les deux arguments de la fonction; la somme, la différence,la multiplication , ainsi que la division des deux éléments;\n",
    "\n"
   ]
  },
  {
   "cell_type": "code",
   "execution_count": 53,
   "metadata": {
    "collapsed": true,
    "slideshow": {
     "slide_type": "fragment"
    }
   },
   "outputs": [],
   "source": [
    "operation<-function(x,y){\n",
    "    if(is.numeric(x) & is.numeric(y)){\n",
    "        return(c(x+y, x-y, x*y, x/y))\n",
    "    }else {\n",
    "        print(\"veuillez vérifier vos arguments\")\n",
    "    }        \n",
    "}"
   ]
  },
  {
   "cell_type": "code",
   "execution_count": 54,
   "metadata": {
    "slideshow": {
     "slide_type": "fragment"
    }
   },
   "outputs": [
    {
     "data": {
      "text/html": [
       "<ol class=list-inline>\n",
       "\t<li>5</li>\n",
       "\t<li>-1</li>\n",
       "\t<li>6</li>\n",
       "\t<li>0.666666666666667</li>\n",
       "</ol>\n"
      ],
      "text/latex": [
       "\\begin{enumerate*}\n",
       "\\item 5\n",
       "\\item -1\n",
       "\\item 6\n",
       "\\item 0.666666666666667\n",
       "\\end{enumerate*}\n"
      ],
      "text/markdown": [
       "1. 5\n",
       "2. -1\n",
       "3. 6\n",
       "4. 0.666666666666667\n",
       "\n",
       "\n"
      ],
      "text/plain": [
       "[1]  5.0000000 -1.0000000  6.0000000  0.6666667"
      ]
     },
     "metadata": {},
     "output_type": "display_data"
    }
   ],
   "source": [
    "operation(2,3)"
   ]
  },
  {
   "cell_type": "markdown",
   "metadata": {
    "slideshow": {
     "slide_type": "slide"
    }
   },
   "source": [
    "## Résultat en plusieurs éléments (`list`)\n",
    "\n",
    "Au lieu d'utiliser `return`, on peut utiliser `list` afin d'avoir une liste d'éléments dans le résultat. L'avantage d'avoir une liste est bien sûr la manipulation d'élément de cette dernière.\n"
   ]
  },
  {
   "cell_type": "code",
   "execution_count": 55,
   "metadata": {
    "collapsed": true,
    "slideshow": {
     "slide_type": "fragment"
    }
   },
   "outputs": [],
   "source": [
    "operation_l<-function(x,y){\n",
    "    if(is.numeric(x) & is.numeric(y)){\n",
    "        list(x+y, x-y, x*y, x/y)\n",
    "    }else {\n",
    "        print(\"veuillez vérifier vos arguments\")\n",
    "    }        \n",
    "}"
   ]
  },
  {
   "cell_type": "code",
   "execution_count": 58,
   "metadata": {
    "slideshow": {
     "slide_type": "subslide"
    }
   },
   "outputs": [
    {
     "data": {
      "text/html": [
       "<ol>\n",
       "\t<li>5</li>\n",
       "\t<li>-1</li>\n",
       "\t<li>6</li>\n",
       "\t<li>0.666666666666667</li>\n",
       "</ol>\n"
      ],
      "text/latex": [
       "\\begin{enumerate}\n",
       "\\item 5\n",
       "\\item -1\n",
       "\\item 6\n",
       "\\item 0.666666666666667\n",
       "\\end{enumerate}\n"
      ],
      "text/markdown": [
       "1. 5\n",
       "2. -1\n",
       "3. 6\n",
       "4. 0.666666666666667\n",
       "\n",
       "\n"
      ],
      "text/plain": [
       "[[1]]\n",
       "[1] 5\n",
       "\n",
       "[[2]]\n",
       "[1] -1\n",
       "\n",
       "[[3]]\n",
       "[1] 6\n",
       "\n",
       "[[4]]\n",
       "[1] 0.6666667\n"
      ]
     },
     "metadata": {},
     "output_type": "display_data"
    }
   ],
   "source": [
    "resultat_sousForme_liste<-operation_l(2,3)\n",
    "resultat_sousForme_liste"
   ]
  },
  {
   "cell_type": "markdown",
   "metadata": {
    "slideshow": {
     "slide_type": "subslide"
    }
   },
   "source": [
    "Ainsi, on peut extraire **un seul** (ou plusieurs) élément de notre liste résultante;"
   ]
  },
  {
   "cell_type": "code",
   "execution_count": 59,
   "metadata": {
    "slideshow": {
     "slide_type": "fragment"
    }
   },
   "outputs": [
    {
     "data": {
      "text/html": [
       "<ol>\n",
       "\t<li>-1</li>\n",
       "</ol>\n"
      ],
      "text/latex": [
       "\\begin{enumerate}\n",
       "\\item -1\n",
       "\\end{enumerate}\n"
      ],
      "text/markdown": [
       "1. -1\n",
       "\n",
       "\n"
      ],
      "text/plain": [
       "[[1]]\n",
       "[1] -1\n"
      ]
     },
     "metadata": {},
     "output_type": "display_data"
    }
   ],
   "source": [
    "resultat_sousForme_liste[2]"
   ]
  },
  {
   "cell_type": "markdown",
   "metadata": {
    "slideshow": {
     "slide_type": "subslide"
    }
   },
   "source": [
    "Au lieu d'insérer deux éléments comme argument de notre fonction `operation_l`, insérons deux vecteurs et regardons la différence entre le résultat de la fonction `operation_l` et la fonction `operation`"
   ]
  },
  {
   "cell_type": "code",
   "execution_count": 60,
   "metadata": {
    "slideshow": {
     "slide_type": "fragment"
    }
   },
   "outputs": [
    {
     "data": {
      "text/html": [
       "<ol>\n",
       "\t<li><ol class=list-inline>\n",
       "\t<li>7</li>\n",
       "\t<li>9</li>\n",
       "\t<li>11</li>\n",
       "\t<li>13</li>\n",
       "\t<li>15</li>\n",
       "</ol>\n",
       "</li>\n",
       "\t<li><ol class=list-inline>\n",
       "\t<li>-5</li>\n",
       "\t<li>-5</li>\n",
       "\t<li>-5</li>\n",
       "\t<li>-5</li>\n",
       "\t<li>-5</li>\n",
       "</ol>\n",
       "</li>\n",
       "\t<li><ol class=list-inline>\n",
       "\t<li>6</li>\n",
       "\t<li>14</li>\n",
       "\t<li>24</li>\n",
       "\t<li>36</li>\n",
       "\t<li>50</li>\n",
       "</ol>\n",
       "</li>\n",
       "\t<li><ol class=list-inline>\n",
       "\t<li>0.166666666666667</li>\n",
       "\t<li>0.285714285714286</li>\n",
       "\t<li>0.375</li>\n",
       "\t<li>0.444444444444444</li>\n",
       "\t<li>0.5</li>\n",
       "</ol>\n",
       "</li>\n",
       "</ol>\n"
      ],
      "text/latex": [
       "\\begin{enumerate}\n",
       "\\item \\begin{enumerate*}\n",
       "\\item 7\n",
       "\\item 9\n",
       "\\item 11\n",
       "\\item 13\n",
       "\\item 15\n",
       "\\end{enumerate*}\n",
       "\n",
       "\\item \\begin{enumerate*}\n",
       "\\item -5\n",
       "\\item -5\n",
       "\\item -5\n",
       "\\item -5\n",
       "\\item -5\n",
       "\\end{enumerate*}\n",
       "\n",
       "\\item \\begin{enumerate*}\n",
       "\\item 6\n",
       "\\item 14\n",
       "\\item 24\n",
       "\\item 36\n",
       "\\item 50\n",
       "\\end{enumerate*}\n",
       "\n",
       "\\item \\begin{enumerate*}\n",
       "\\item 0.166666666666667\n",
       "\\item 0.285714285714286\n",
       "\\item 0.375\n",
       "\\item 0.444444444444444\n",
       "\\item 0.5\n",
       "\\end{enumerate*}\n",
       "\n",
       "\\end{enumerate}\n"
      ],
      "text/markdown": [
       "1. 1. 7\n",
       "2. 9\n",
       "3. 11\n",
       "4. 13\n",
       "5. 15\n",
       "\n",
       "\n",
       "\n",
       "2. 1. -5\n",
       "2. -5\n",
       "3. -5\n",
       "4. -5\n",
       "5. -5\n",
       "\n",
       "\n",
       "\n",
       "3. 1. 6\n",
       "2. 14\n",
       "3. 24\n",
       "4. 36\n",
       "5. 50\n",
       "\n",
       "\n",
       "\n",
       "4. 1. 0.166666666666667\n",
       "2. 0.285714285714286\n",
       "3. 0.375\n",
       "4. 0.444444444444444\n",
       "5. 0.5\n",
       "\n",
       "\n",
       "\n",
       "\n",
       "\n"
      ],
      "text/plain": [
       "[[1]]\n",
       "[1]  7  9 11 13 15\n",
       "\n",
       "[[2]]\n",
       "[1] -5 -5 -5 -5 -5\n",
       "\n",
       "[[3]]\n",
       "[1]  6 14 24 36 50\n",
       "\n",
       "[[4]]\n",
       "[1] 0.1666667 0.2857143 0.3750000 0.4444444 0.5000000\n"
      ]
     },
     "metadata": {},
     "output_type": "display_data"
    }
   ],
   "source": [
    "xvec<-c(1:5)\n",
    "yvec<-c(6:10)\n",
    "operation_l(xvec, yvec)"
   ]
  },
  {
   "cell_type": "markdown",
   "metadata": {
    "slideshow": {
     "slide_type": "subslide"
    }
   },
   "source": [
    "Maintenant, appliquons la fonction `operation` sur les mêmes vecteurs et inspectons à nouveau le résultat:"
   ]
  },
  {
   "cell_type": "code",
   "execution_count": 61,
   "metadata": {
    "slideshow": {
     "slide_type": "fragment"
    }
   },
   "outputs": [
    {
     "data": {
      "text/html": [
       "<ol class=list-inline>\n",
       "\t<li>7</li>\n",
       "\t<li>9</li>\n",
       "\t<li>11</li>\n",
       "\t<li>13</li>\n",
       "\t<li>15</li>\n",
       "\t<li>-5</li>\n",
       "\t<li>-5</li>\n",
       "\t<li>-5</li>\n",
       "\t<li>-5</li>\n",
       "\t<li>-5</li>\n",
       "\t<li>6</li>\n",
       "\t<li>14</li>\n",
       "\t<li>24</li>\n",
       "\t<li>36</li>\n",
       "\t<li>50</li>\n",
       "\t<li>0.166666666666667</li>\n",
       "\t<li>0.285714285714286</li>\n",
       "\t<li>0.375</li>\n",
       "\t<li>0.444444444444444</li>\n",
       "\t<li>0.5</li>\n",
       "</ol>\n"
      ],
      "text/latex": [
       "\\begin{enumerate*}\n",
       "\\item 7\n",
       "\\item 9\n",
       "\\item 11\n",
       "\\item 13\n",
       "\\item 15\n",
       "\\item -5\n",
       "\\item -5\n",
       "\\item -5\n",
       "\\item -5\n",
       "\\item -5\n",
       "\\item 6\n",
       "\\item 14\n",
       "\\item 24\n",
       "\\item 36\n",
       "\\item 50\n",
       "\\item 0.166666666666667\n",
       "\\item 0.285714285714286\n",
       "\\item 0.375\n",
       "\\item 0.444444444444444\n",
       "\\item 0.5\n",
       "\\end{enumerate*}\n"
      ],
      "text/markdown": [
       "1. 7\n",
       "2. 9\n",
       "3. 11\n",
       "4. 13\n",
       "5. 15\n",
       "6. -5\n",
       "7. -5\n",
       "8. -5\n",
       "9. -5\n",
       "10. -5\n",
       "11. 6\n",
       "12. 14\n",
       "13. 24\n",
       "14. 36\n",
       "15. 50\n",
       "16. 0.166666666666667\n",
       "17. 0.285714285714286\n",
       "18. 0.375\n",
       "19. 0.444444444444444\n",
       "20. 0.5\n",
       "\n",
       "\n"
      ],
      "text/plain": [
       " [1]  7.0000000  9.0000000 11.0000000 13.0000000 15.0000000 -5.0000000\n",
       " [7] -5.0000000 -5.0000000 -5.0000000 -5.0000000  6.0000000 14.0000000\n",
       "[13] 24.0000000 36.0000000 50.0000000  0.1666667  0.2857143  0.3750000\n",
       "[19]  0.4444444  0.5000000"
      ]
     },
     "metadata": {},
     "output_type": "display_data"
    }
   ],
   "source": [
    "operation(xvec, yvec)"
   ]
  },
  {
   "cell_type": "markdown",
   "metadata": {
    "slideshow": {
     "slide_type": "subslide"
    }
   },
   "source": [
    "Si l'on voulait par exemple extraire le deuxième élément de la liste, qui est le résultat de la soustraction dans notre exemple, il est plus difficile de le faire avec la fonction `operation`."
   ]
  },
  {
   "cell_type": "code",
   "execution_count": 62,
   "metadata": {
    "slideshow": {
     "slide_type": "fragment"
    }
   },
   "outputs": [
    {
     "data": {
      "text/html": [
       "<ol>\n",
       "\t<li><ol class=list-inline>\n",
       "\t<li>-5</li>\n",
       "\t<li>-5</li>\n",
       "\t<li>-5</li>\n",
       "\t<li>-5</li>\n",
       "\t<li>-5</li>\n",
       "</ol>\n",
       "</li>\n",
       "</ol>\n"
      ],
      "text/latex": [
       "\\begin{enumerate}\n",
       "\\item \\begin{enumerate*}\n",
       "\\item -5\n",
       "\\item -5\n",
       "\\item -5\n",
       "\\item -5\n",
       "\\item -5\n",
       "\\end{enumerate*}\n",
       "\n",
       "\\end{enumerate}\n"
      ],
      "text/markdown": [
       "1. 1. -5\n",
       "2. -5\n",
       "3. -5\n",
       "4. -5\n",
       "5. -5\n",
       "\n",
       "\n",
       "\n",
       "\n",
       "\n"
      ],
      "text/plain": [
       "[[1]]\n",
       "[1] -5 -5 -5 -5 -5\n"
      ]
     },
     "metadata": {},
     "output_type": "display_data"
    }
   ],
   "source": [
    "operation_l(xvec, yvec)[2]"
   ]
  },
  {
   "cell_type": "markdown",
   "metadata": {
    "slideshow": {
     "slide_type": "fragment"
    }
   },
   "source": [
    "au lieu de:"
   ]
  },
  {
   "cell_type": "code",
   "execution_count": 63,
   "metadata": {
    "slideshow": {
     "slide_type": "fragment"
    }
   },
   "outputs": [
    {
     "data": {
      "text/html": [
       "<ol class=list-inline>\n",
       "\t<li>-5</li>\n",
       "\t<li>-5</li>\n",
       "\t<li>-5</li>\n",
       "\t<li>-5</li>\n",
       "\t<li>-5</li>\n",
       "</ol>\n"
      ],
      "text/latex": [
       "\\begin{enumerate*}\n",
       "\\item -5\n",
       "\\item -5\n",
       "\\item -5\n",
       "\\item -5\n",
       "\\item -5\n",
       "\\end{enumerate*}\n"
      ],
      "text/markdown": [
       "1. -5\n",
       "2. -5\n",
       "3. -5\n",
       "4. -5\n",
       "5. -5\n",
       "\n",
       "\n"
      ],
      "text/plain": [
       "[1] -5 -5 -5 -5 -5"
      ]
     },
     "metadata": {},
     "output_type": "display_data"
    }
   ],
   "source": [
    "operation(xvec, yvec)[6:10]"
   ]
  },
  {
   "cell_type": "markdown",
   "metadata": {
    "slideshow": {
     "slide_type": "fragment"
    }
   },
   "source": [
    "Où il est nécessaire de connaitre les index du seul vecteur résultant."
   ]
  },
  {
   "cell_type": "markdown",
   "metadata": {
    "slideshow": {
     "slide_type": "slide"
    }
   },
   "source": [
    "## inspecter la fonction:\n",
    "\n",
    "On peut inspecter le code de notre fonction en inscrivant le nom de cette dernière. Surtout, lorsque le code de la fonction est perdu quelque part dans un autre code 100 lignes plutôt.\n"
   ]
  },
  {
   "cell_type": "markdown",
   "metadata": {
    "slideshow": {
     "slide_type": "fragment"
    }
   },
   "source": [
    "\n",
    "### le code"
   ]
  },
  {
   "cell_type": "code",
   "execution_count": 64,
   "metadata": {
    "slideshow": {
     "slide_type": "fragment"
    }
   },
   "outputs": [
    {
     "data": {
      "text/html": [
       "<pre class=language-r><code>function (x, y) \n",
       "{\n",
       "<span style=white-space:pre-wrap>    if (is.numeric(x) &amp; is.numeric(y)) {</span>\n",
       "<span style=white-space:pre-wrap>        list(x + y, x - y, x * y, x/y)</span>\n",
       "<span style=white-space:pre-wrap>    }</span>\n",
       "<span style=white-space:pre-wrap>    else {</span>\n",
       "<span style=white-space:pre-wrap>        print(\"veuillez vérifier vos arguments\")</span>\n",
       "<span style=white-space:pre-wrap>    }</span>\n",
       "}</code></pre>"
      ],
      "text/latex": [
       "\\begin{minted}{r}\n",
       "function (x, y) \n",
       "\\{\n",
       "    if (is.numeric(x) \\& is.numeric(y)) \\{\n",
       "        list(x + y, x - y, x * y, x/y)\n",
       "    \\}\n",
       "    else \\{\n",
       "        print(\"veuillez vérifier vos arguments\")\n",
       "    \\}\n",
       "\\}\n",
       "\\end{minted}"
      ],
      "text/markdown": [
       "```r\n",
       "function (x, y) \n",
       "{\n",
       "    if (is.numeric(x) & is.numeric(y)) {\n",
       "        list(x + y, x - y, x * y, x/y)\n",
       "    }\n",
       "    else {\n",
       "        print(\"veuillez vérifier vos arguments\")\n",
       "    }\n",
       "}\n",
       "```"
      ],
      "text/plain": [
       "function(x,y){\n",
       "    if(is.numeric(x) & is.numeric(y)){\n",
       "        list(x+y, x-y, x*y, x/y)\n",
       "    }else {\n",
       "        print(\"veuillez vérifier vos arguments\")\n",
       "    }        \n",
       "}"
      ]
     },
     "metadata": {},
     "output_type": "display_data"
    }
   ],
   "source": [
    "operation_l"
   ]
  },
  {
   "cell_type": "markdown",
   "metadata": {
    "slideshow": {
     "slide_type": "subslide"
    }
   },
   "source": [
    "### les arguments de la fonction\n",
    "\n",
    "On peut obtenir les arguments d'une fonction avec l'instruction suivante;\n"
   ]
  },
  {
   "cell_type": "code",
   "execution_count": 65,
   "metadata": {
    "slideshow": {
     "slide_type": "fragment"
    }
   },
   "outputs": [
    {
     "data": {
      "text/plain": [
       "$x\n",
       "\n",
       "\n",
       "$y\n",
       "\n"
      ]
     },
     "metadata": {},
     "output_type": "display_data"
    }
   ],
   "source": [
    "formals(operation_l)"
   ]
  },
  {
   "cell_type": "markdown",
   "metadata": {
    "slideshow": {
     "slide_type": "subslide"
    }
   },
   "source": [
    "### Les arguments par défaut\n",
    "\n",
    "Il convient souvent de donner des arguments par défaut à notre fonction créée. Dans notre exemple `operation_l`, on pourrait données les valeurs `(x,y)={1,1}` afin d'éviter des division par `0` par exemple;\n",
    "\n"
   ]
  },
  {
   "cell_type": "code",
   "execution_count": 66,
   "metadata": {
    "collapsed": true,
    "slideshow": {
     "slide_type": "fragment"
    }
   },
   "outputs": [],
   "source": [
    "operation_l<-function(x=1,y=1){\n",
    "    if(is.numeric(x) & is.numeric(y)){\n",
    "        list(x+y, x-y, x*y, x/y)\n",
    "    }else {\n",
    "        print(\"veuillez vérifier vos arguments\")\n",
    "    }        \n",
    "}"
   ]
  },
  {
   "cell_type": "markdown",
   "metadata": {
    "slideshow": {
     "slide_type": "subslide"
    }
   },
   "source": [
    "Lorsqu'on écrit la fonction sans aucun argument;"
   ]
  },
  {
   "cell_type": "code",
   "execution_count": 67,
   "metadata": {
    "slideshow": {
     "slide_type": "fragment"
    }
   },
   "outputs": [
    {
     "data": {
      "text/html": [
       "<ol>\n",
       "\t<li>2</li>\n",
       "\t<li>0</li>\n",
       "\t<li>1</li>\n",
       "\t<li>1</li>\n",
       "</ol>\n"
      ],
      "text/latex": [
       "\\begin{enumerate}\n",
       "\\item 2\n",
       "\\item 0\n",
       "\\item 1\n",
       "\\item 1\n",
       "\\end{enumerate}\n"
      ],
      "text/markdown": [
       "1. 2\n",
       "2. 0\n",
       "3. 1\n",
       "4. 1\n",
       "\n",
       "\n"
      ],
      "text/plain": [
       "[[1]]\n",
       "[1] 2\n",
       "\n",
       "[[2]]\n",
       "[1] 0\n",
       "\n",
       "[[3]]\n",
       "[1] 1\n",
       "\n",
       "[[4]]\n",
       "[1] 1\n"
      ]
     },
     "metadata": {},
     "output_type": "display_data"
    }
   ],
   "source": [
    "operation_l()"
   ]
  },
  {
   "cell_type": "markdown",
   "metadata": {
    "slideshow": {
     "slide_type": "fragment"
    }
   },
   "source": [
    "On obtient le résultat de nos valeurs par défaut"
   ]
  },
  {
   "cell_type": "markdown",
   "metadata": {
    "slideshow": {
     "slide_type": "slide"
    }
   },
   "source": [
    "## Best practice\n",
    "\n",
    "Il est très conseillé de bien documenter les fonctions que vous créez. Cela vous aide lorsque vous revisez ou corrigez votre code. Sans oublier que la bonne documentation aide la personne qui relie votre code à bien comprendre ce que vous voulez avoir comme résultat. Que ce soit dans un contexte académique (travaux, examen....etc.) Et surtout dans le contexte professionnel, où les codes sont plus longs et plus lourds à lire lorsque la documentation est quasi absente.\n"
   ]
  },
  {
   "cell_type": "code",
   "execution_count": 68,
   "metadata": {
    "collapsed": true,
    "slideshow": {
     "slide_type": "fragment"
    }
   },
   "outputs": [],
   "source": [
    "operation_l<-function(x=1,y=1){\n",
    "  # Cette fonction calcule l'adition, soustraction, multiplication\n",
    "  # ainsi que la division de deux vecteurs\n",
    "  # Args:\n",
    "  #   x: La valeur du premier vecteur, la valeur par défaut étant =1\n",
    "  #   y: La valeur du deuxième vecteur, la valeur par défaut étant =1\n",
    "  #\n",
    "  # retourne:\n",
    "  #   une liste du résultat des opérations ....      \n",
    "\n",
    "    if(is.numeric(x) & is.numeric(y)){\n",
    "        list(x+y, x-y, x*y, x/y)\n",
    "    }\n",
    "    # Gestion d'erreurs\n",
    "    else {\n",
    "        print(\"veuillez vérifier vos arguments\")\n",
    "    }        \n",
    "} "
   ]
  },
  {
   "cell_type": "markdown",
   "metadata": {
    "slideshow": {
     "slide_type": "slide"
    }
   },
   "source": [
    "# Sauvegegarde d'objets\n",
    "\n",
    "Il possible de sauvegarder tout objet sous format `.RData`. Il convient de faire cette sauvegarde lorsque nous ne voulons pas garder nos objets en mémoire. Surtout, lorsque nous travaillons avec des données importantes en volume.\n"
   ]
  },
  {
   "cell_type": "code",
   "execution_count": 69,
   "metadata": {
    "collapsed": true,
    "slideshow": {
     "slide_type": "fragment"
    }
   },
   "outputs": [],
   "source": [
    "x<-matrix(rnorm(100), ncol=10)"
   ]
  },
  {
   "cell_type": "code",
   "execution_count": 70,
   "metadata": {
    "collapsed": true,
    "slideshow": {
     "slide_type": "fragment"
    }
   },
   "outputs": [],
   "source": [
    "save(x, file = \"x.RData\")"
   ]
  },
  {
   "cell_type": "markdown",
   "metadata": {
    "slideshow": {
     "slide_type": "subslide"
    }
   },
   "source": [
    "Maintenant, on peut recharger ces mêmes données. pour être sûr que nous n'avons pas chargé les données qui étaient en mémoire, supprimons tout ce qui se retrouve dans l'environnement:"
   ]
  },
  {
   "cell_type": "code",
   "execution_count": 71,
   "metadata": {
    "collapsed": true,
    "slideshow": {
     "slide_type": "fragment"
    }
   },
   "outputs": [],
   "source": [
    "rm(list=ls())"
   ]
  },
  {
   "cell_type": "code",
   "execution_count": 72,
   "metadata": {
    "collapsed": true,
    "slideshow": {
     "slide_type": "fragment"
    }
   },
   "outputs": [],
   "source": [
    "load(\"x.RData\")"
   ]
  },
  {
   "cell_type": "code",
   "execution_count": 73,
   "metadata": {
    "slideshow": {
     "slide_type": "fragment"
    }
   },
   "outputs": [
    {
     "data": {
      "text/html": [
       "<table>\n",
       "<tbody>\n",
       "\t<tr><td> 1.18939619</td><td> 0.01057899</td><td>-0.35654252</td><td> 1.65102435</td><td>-1.3475614 </td><td>-0.70525999</td><td> 0.12251689</td><td>-1.9915918 </td><td>-0.3322830 </td><td> 1.02455290</td></tr>\n",
       "\t<tr><td>-0.06534286</td><td> 1.42791869</td><td> 0.87576387</td><td>-1.04904302</td><td>-1.2970706 </td><td>-0.54152388</td><td> 1.24576523</td><td> 0.6561742 </td><td>-0.4844493 </td><td>-0.39839616</td></tr>\n",
       "\t<tr><td>-1.10988733</td><td> 0.40814513</td><td>-0.98567474</td><td> 0.07558152</td><td>-0.1571415 </td><td> 0.09037718</td><td>-0.56200895</td><td>-0.4960402 </td><td>-1.2550586 </td><td>-0.07348674</td></tr>\n",
       "\t<tr><td> 0.67465672</td><td> 0.84057229</td><td>-0.03364994</td><td> 1.78939415</td><td> 0.9036412 </td><td> 0.13285054</td><td> 0.72001113</td><td> 1.5614279 </td><td>-1.2266363 </td><td> 1.71525509</td></tr>\n",
       "\t<tr><td> 3.34160414</td><td>-0.47974054</td><td>-0.67199908</td><td> 0.85596379</td><td> 0.1871276 </td><td>-0.34076899</td><td> 0.05979965</td><td>-0.7835429 </td><td> 1.0479630 </td><td> 0.08575501</td></tr>\n",
       "\t<tr><td>-1.79255793</td><td>-0.99787722</td><td> 2.70522950</td><td> 1.60416877</td><td>-1.1513655 </td><td> 0.54021006</td><td>-0.65092374</td><td> 0.7824136 </td><td> 1.4823115 </td><td> 0.63362158</td></tr>\n",
       "\t<tr><td>-0.16944079</td><td> 1.25588922</td><td>-0.12954850</td><td> 0.37858396</td><td>-0.3957809 </td><td> 0.80730431</td><td> 0.29098695</td><td>-1.0314703 </td><td>-2.5441580 </td><td>-1.20221796</td></tr>\n",
       "\t<tr><td> 0.90407239</td><td>-0.27608180</td><td>-0.08992006</td><td>-0.23410372</td><td>-1.6570973 </td><td>-1.59602886</td><td> 0.62270556</td><td> 0.4811070 </td><td>-0.2526573 </td><td> 1.77087313</td></tr>\n",
       "\t<tr><td> 0.65195276</td><td>-0.54867528</td><td> 1.46378626</td><td> 0.59448827</td><td>-0.9709800 </td><td>-0.93753977</td><td>-0.05390880</td><td> 0.7824050 </td><td>-0.1869861 </td><td>-1.14069893</td></tr>\n",
       "\t<tr><td> 1.74168331</td><td> 0.18004910</td><td> 0.11510721</td><td>-0.59757236</td><td>-0.2167422 </td><td>-0.01264427</td><td> 1.09123924</td><td>-0.8519077 </td><td>-1.7291689 </td><td> 0.05694140</td></tr>\n",
       "</tbody>\n",
       "</table>\n"
      ],
      "text/latex": [
       "\\begin{tabular}{llllllllll}\n",
       "\t  1.18939619 &  0.01057899 & -0.35654252 &  1.65102435 & -1.3475614  & -0.70525999 &  0.12251689 & -1.9915918  & -0.3322830  &  1.02455290\\\\\n",
       "\t -0.06534286 &  1.42791869 &  0.87576387 & -1.04904302 & -1.2970706  & -0.54152388 &  1.24576523 &  0.6561742  & -0.4844493  & -0.39839616\\\\\n",
       "\t -1.10988733 &  0.40814513 & -0.98567474 &  0.07558152 & -0.1571415  &  0.09037718 & -0.56200895 & -0.4960402  & -1.2550586  & -0.07348674\\\\\n",
       "\t  0.67465672 &  0.84057229 & -0.03364994 &  1.78939415 &  0.9036412  &  0.13285054 &  0.72001113 &  1.5614279  & -1.2266363  &  1.71525509\\\\\n",
       "\t  3.34160414 & -0.47974054 & -0.67199908 &  0.85596379 &  0.1871276  & -0.34076899 &  0.05979965 & -0.7835429  &  1.0479630  &  0.08575501\\\\\n",
       "\t -1.79255793 & -0.99787722 &  2.70522950 &  1.60416877 & -1.1513655  &  0.54021006 & -0.65092374 &  0.7824136  &  1.4823115  &  0.63362158\\\\\n",
       "\t -0.16944079 &  1.25588922 & -0.12954850 &  0.37858396 & -0.3957809  &  0.80730431 &  0.29098695 & -1.0314703  & -2.5441580  & -1.20221796\\\\\n",
       "\t  0.90407239 & -0.27608180 & -0.08992006 & -0.23410372 & -1.6570973  & -1.59602886 &  0.62270556 &  0.4811070  & -0.2526573  &  1.77087313\\\\\n",
       "\t  0.65195276 & -0.54867528 &  1.46378626 &  0.59448827 & -0.9709800  & -0.93753977 & -0.05390880 &  0.7824050  & -0.1869861  & -1.14069893\\\\\n",
       "\t  1.74168331 &  0.18004910 &  0.11510721 & -0.59757236 & -0.2167422  & -0.01264427 &  1.09123924 & -0.8519077  & -1.7291689  &  0.05694140\\\\\n",
       "\\end{tabular}\n"
      ],
      "text/markdown": [
       "\n",
       "|  1.18939619 |  0.01057899 | -0.35654252 |  1.65102435 | -1.3475614  | -0.70525999 |  0.12251689 | -1.9915918  | -0.3322830  |  1.02455290 | \n",
       "| -0.06534286 |  1.42791869 |  0.87576387 | -1.04904302 | -1.2970706  | -0.54152388 |  1.24576523 |  0.6561742  | -0.4844493  | -0.39839616 | \n",
       "| -1.10988733 |  0.40814513 | -0.98567474 |  0.07558152 | -0.1571415  |  0.09037718 | -0.56200895 | -0.4960402  | -1.2550586  | -0.07348674 | \n",
       "|  0.67465672 |  0.84057229 | -0.03364994 |  1.78939415 |  0.9036412  |  0.13285054 |  0.72001113 |  1.5614279  | -1.2266363  |  1.71525509 | \n",
       "|  3.34160414 | -0.47974054 | -0.67199908 |  0.85596379 |  0.1871276  | -0.34076899 |  0.05979965 | -0.7835429  |  1.0479630  |  0.08575501 | \n",
       "| -1.79255793 | -0.99787722 |  2.70522950 |  1.60416877 | -1.1513655  |  0.54021006 | -0.65092374 |  0.7824136  |  1.4823115  |  0.63362158 | \n",
       "| -0.16944079 |  1.25588922 | -0.12954850 |  0.37858396 | -0.3957809  |  0.80730431 |  0.29098695 | -1.0314703  | -2.5441580  | -1.20221796 | \n",
       "|  0.90407239 | -0.27608180 | -0.08992006 | -0.23410372 | -1.6570973  | -1.59602886 |  0.62270556 |  0.4811070  | -0.2526573  |  1.77087313 | \n",
       "|  0.65195276 | -0.54867528 |  1.46378626 |  0.59448827 | -0.9709800  | -0.93753977 | -0.05390880 |  0.7824050  | -0.1869861  | -1.14069893 | \n",
       "|  1.74168331 |  0.18004910 |  0.11510721 | -0.59757236 | -0.2167422  | -0.01264427 |  1.09123924 | -0.8519077  | -1.7291689  |  0.05694140 | \n",
       "\n",
       "\n"
      ],
      "text/plain": [
       "      [,1]        [,2]        [,3]        [,4]        [,5]       [,6]       \n",
       " [1,]  1.18939619  0.01057899 -0.35654252  1.65102435 -1.3475614 -0.70525999\n",
       " [2,] -0.06534286  1.42791869  0.87576387 -1.04904302 -1.2970706 -0.54152388\n",
       " [3,] -1.10988733  0.40814513 -0.98567474  0.07558152 -0.1571415  0.09037718\n",
       " [4,]  0.67465672  0.84057229 -0.03364994  1.78939415  0.9036412  0.13285054\n",
       " [5,]  3.34160414 -0.47974054 -0.67199908  0.85596379  0.1871276 -0.34076899\n",
       " [6,] -1.79255793 -0.99787722  2.70522950  1.60416877 -1.1513655  0.54021006\n",
       " [7,] -0.16944079  1.25588922 -0.12954850  0.37858396 -0.3957809  0.80730431\n",
       " [8,]  0.90407239 -0.27608180 -0.08992006 -0.23410372 -1.6570973 -1.59602886\n",
       " [9,]  0.65195276 -0.54867528  1.46378626  0.59448827 -0.9709800 -0.93753977\n",
       "[10,]  1.74168331  0.18004910  0.11510721 -0.59757236 -0.2167422 -0.01264427\n",
       "      [,7]        [,8]       [,9]       [,10]      \n",
       " [1,]  0.12251689 -1.9915918 -0.3322830  1.02455290\n",
       " [2,]  1.24576523  0.6561742 -0.4844493 -0.39839616\n",
       " [3,] -0.56200895 -0.4960402 -1.2550586 -0.07348674\n",
       " [4,]  0.72001113  1.5614279 -1.2266363  1.71525509\n",
       " [5,]  0.05979965 -0.7835429  1.0479630  0.08575501\n",
       " [6,] -0.65092374  0.7824136  1.4823115  0.63362158\n",
       " [7,]  0.29098695 -1.0314703 -2.5441580 -1.20221796\n",
       " [8,]  0.62270556  0.4811070 -0.2526573  1.77087313\n",
       " [9,] -0.05390880  0.7824050 -0.1869861 -1.14069893\n",
       "[10,]  1.09123924 -0.8519077 -1.7291689  0.05694140"
      ]
     },
     "metadata": {},
     "output_type": "display_data"
    }
   ],
   "source": [
    "x"
   ]
  },
  {
   "cell_type": "markdown",
   "metadata": {
    "slideshow": {
     "slide_type": "subslide"
    }
   },
   "source": [
    "Il aussi possible de sauvegarder les données (les résultats par exemple) dans des fichiers `.csv` qu'on pourrait redistribuer par la suite dans le contexte de production de rapport ou de partage de résultats.\n",
    "\n",
    "Nous utilisons alors la fonction `write.csv`;\n"
   ]
  },
  {
   "cell_type": "code",
   "execution_count": 74,
   "metadata": {
    "collapsed": true,
    "slideshow": {
     "slide_type": "fragment"
    }
   },
   "outputs": [],
   "source": [
    "write.csv(x, \"/Users/nour/Downloads/données_x.csv\")"
   ]
  },
  {
   "cell_type": "markdown",
   "metadata": {
    "slideshow": {
     "slide_type": "subslide"
    }
   },
   "source": [
    "Remarquez qu'à chaque fois nous réexécutons ce code, nous supprimons l'ancien fichier portant le même nom.\n",
    "\n",
    "On peut aussi lire ce même fichier avec la fonction \n"
   ]
  },
  {
   "cell_type": "code",
   "execution_count": 75,
   "metadata": {
    "collapsed": true,
    "slideshow": {
     "slide_type": "fragment"
    }
   },
   "outputs": [],
   "source": [
    "oo<-read.csv(\"/Users/nour/Downloads/données_x.csv\")"
   ]
  },
  {
   "cell_type": "code",
   "execution_count": 76,
   "metadata": {
    "slideshow": {
     "slide_type": "fragment"
    }
   },
   "outputs": [
    {
     "data": {
      "text/html": [
       "<table>\n",
       "<thead><tr><th scope=col>X</th><th scope=col>V1</th><th scope=col>V2</th><th scope=col>V3</th><th scope=col>V4</th><th scope=col>V5</th><th scope=col>V6</th><th scope=col>V7</th><th scope=col>V8</th><th scope=col>V9</th><th scope=col>V10</th></tr></thead>\n",
       "<tbody>\n",
       "\t<tr><td>1          </td><td> 1.18939619</td><td> 0.01057899</td><td>-0.35654252</td><td> 1.65102435</td><td>-1.3475614 </td><td>-0.70525999</td><td> 0.12251689</td><td>-1.9915918 </td><td>-0.3322830 </td><td> 1.02455290</td></tr>\n",
       "\t<tr><td>2          </td><td>-0.06534286</td><td> 1.42791869</td><td> 0.87576387</td><td>-1.04904302</td><td>-1.2970706 </td><td>-0.54152388</td><td> 1.24576523</td><td> 0.6561742 </td><td>-0.4844493 </td><td>-0.39839616</td></tr>\n",
       "\t<tr><td>3          </td><td>-1.10988733</td><td> 0.40814513</td><td>-0.98567474</td><td> 0.07558152</td><td>-0.1571415 </td><td> 0.09037718</td><td>-0.56200895</td><td>-0.4960402 </td><td>-1.2550586 </td><td>-0.07348674</td></tr>\n",
       "\t<tr><td>4          </td><td> 0.67465672</td><td> 0.84057229</td><td>-0.03364994</td><td> 1.78939415</td><td> 0.9036412 </td><td> 0.13285054</td><td> 0.72001113</td><td> 1.5614279 </td><td>-1.2266363 </td><td> 1.71525509</td></tr>\n",
       "\t<tr><td>5          </td><td> 3.34160414</td><td>-0.47974054</td><td>-0.67199908</td><td> 0.85596379</td><td> 0.1871276 </td><td>-0.34076899</td><td> 0.05979965</td><td>-0.7835429 </td><td> 1.0479630 </td><td> 0.08575501</td></tr>\n",
       "\t<tr><td>6          </td><td>-1.79255793</td><td>-0.99787722</td><td> 2.70522950</td><td> 1.60416877</td><td>-1.1513655 </td><td> 0.54021006</td><td>-0.65092374</td><td> 0.7824136 </td><td> 1.4823115 </td><td> 0.63362158</td></tr>\n",
       "</tbody>\n",
       "</table>\n"
      ],
      "text/latex": [
       "\\begin{tabular}{r|lllllllllll}\n",
       " X & V1 & V2 & V3 & V4 & V5 & V6 & V7 & V8 & V9 & V10\\\\\n",
       "\\hline\n",
       "\t 1           &  1.18939619 &  0.01057899 & -0.35654252 &  1.65102435 & -1.3475614  & -0.70525999 &  0.12251689 & -1.9915918  & -0.3322830  &  1.02455290\\\\\n",
       "\t 2           & -0.06534286 &  1.42791869 &  0.87576387 & -1.04904302 & -1.2970706  & -0.54152388 &  1.24576523 &  0.6561742  & -0.4844493  & -0.39839616\\\\\n",
       "\t 3           & -1.10988733 &  0.40814513 & -0.98567474 &  0.07558152 & -0.1571415  &  0.09037718 & -0.56200895 & -0.4960402  & -1.2550586  & -0.07348674\\\\\n",
       "\t 4           &  0.67465672 &  0.84057229 & -0.03364994 &  1.78939415 &  0.9036412  &  0.13285054 &  0.72001113 &  1.5614279  & -1.2266363  &  1.71525509\\\\\n",
       "\t 5           &  3.34160414 & -0.47974054 & -0.67199908 &  0.85596379 &  0.1871276  & -0.34076899 &  0.05979965 & -0.7835429  &  1.0479630  &  0.08575501\\\\\n",
       "\t 6           & -1.79255793 & -0.99787722 &  2.70522950 &  1.60416877 & -1.1513655  &  0.54021006 & -0.65092374 &  0.7824136  &  1.4823115  &  0.63362158\\\\\n",
       "\\end{tabular}\n"
      ],
      "text/markdown": [
       "\n",
       "X | V1 | V2 | V3 | V4 | V5 | V6 | V7 | V8 | V9 | V10 | \n",
       "|---|---|---|---|---|---|\n",
       "| 1           |  1.18939619 |  0.01057899 | -0.35654252 |  1.65102435 | -1.3475614  | -0.70525999 |  0.12251689 | -1.9915918  | -0.3322830  |  1.02455290 | \n",
       "| 2           | -0.06534286 |  1.42791869 |  0.87576387 | -1.04904302 | -1.2970706  | -0.54152388 |  1.24576523 |  0.6561742  | -0.4844493  | -0.39839616 | \n",
       "| 3           | -1.10988733 |  0.40814513 | -0.98567474 |  0.07558152 | -0.1571415  |  0.09037718 | -0.56200895 | -0.4960402  | -1.2550586  | -0.07348674 | \n",
       "| 4           |  0.67465672 |  0.84057229 | -0.03364994 |  1.78939415 |  0.9036412  |  0.13285054 |  0.72001113 |  1.5614279  | -1.2266363  |  1.71525509 | \n",
       "| 5           |  3.34160414 | -0.47974054 | -0.67199908 |  0.85596379 |  0.1871276  | -0.34076899 |  0.05979965 | -0.7835429  |  1.0479630  |  0.08575501 | \n",
       "| 6           | -1.79255793 | -0.99787722 |  2.70522950 |  1.60416877 | -1.1513655  |  0.54021006 | -0.65092374 |  0.7824136  |  1.4823115  |  0.63362158 | \n",
       "\n",
       "\n"
      ],
      "text/plain": [
       "  X V1          V2          V3          V4          V5         V6         \n",
       "1 1  1.18939619  0.01057899 -0.35654252  1.65102435 -1.3475614 -0.70525999\n",
       "2 2 -0.06534286  1.42791869  0.87576387 -1.04904302 -1.2970706 -0.54152388\n",
       "3 3 -1.10988733  0.40814513 -0.98567474  0.07558152 -0.1571415  0.09037718\n",
       "4 4  0.67465672  0.84057229 -0.03364994  1.78939415  0.9036412  0.13285054\n",
       "5 5  3.34160414 -0.47974054 -0.67199908  0.85596379  0.1871276 -0.34076899\n",
       "6 6 -1.79255793 -0.99787722  2.70522950  1.60416877 -1.1513655  0.54021006\n",
       "  V7          V8         V9         V10        \n",
       "1  0.12251689 -1.9915918 -0.3322830  1.02455290\n",
       "2  1.24576523  0.6561742 -0.4844493 -0.39839616\n",
       "3 -0.56200895 -0.4960402 -1.2550586 -0.07348674\n",
       "4  0.72001113  1.5614279 -1.2266363  1.71525509\n",
       "5  0.05979965 -0.7835429  1.0479630  0.08575501\n",
       "6 -0.65092374  0.7824136  1.4823115  0.63362158"
      ]
     },
     "metadata": {},
     "output_type": "display_data"
    }
   ],
   "source": [
    "head(oo)"
   ]
  }
 ],
 "metadata": {
  "anaconda-cloud": {},
  "celltoolbar": "Slideshow",
  "kernelspec": {
   "display_name": "R",
   "language": "R",
   "name": "ir"
  },
  "language_info": {
   "codemirror_mode": "r",
   "file_extension": ".r",
   "mimetype": "text/x-r-source",
   "name": "R",
   "pygments_lexer": "r",
   "version": "3.4.1"
  },
  "latex_envs": {
   "LaTeX_envs_menu_present": true,
   "bibliofile": "biblio.bib",
   "cite_by": "apalike",
   "current_citInitial": 1,
   "eqLabelWithNumbers": true,
   "eqNumInitial": 1,
   "labels_anchors": false,
   "latex_user_defs": false,
   "report_style_numbering": false,
   "user_envs_cfg": false
  },
  "toc": {
   "base_numbering": 1,
   "nav_menu": {
    "height": "390px",
    "width": "252px"
   },
   "number_sections": true,
   "sideBar": true,
   "skip_h1_title": false,
   "title_cell": "Table of Contents",
   "title_sidebar": "Contents",
   "toc_cell": true,
   "toc_position": {},
   "toc_section_display": "block",
   "toc_window_display": true
  }
 },
 "nbformat": 4,
 "nbformat_minor": 2
}
