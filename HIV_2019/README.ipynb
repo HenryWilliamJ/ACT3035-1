{
 "cells": [
  {
   "cell_type": "markdown",
   "metadata": {},
   "source": [
    "# ACT3035_A2018 Cours_13\n"
   ]
  },
  {
   "cell_type": "markdown",
   "metadata": {},
   "source": [
    "## Notes du cours\n",
    "* [Partie#1](https://github.com/nmeraihi/ACT3035/blob/master/AUT_2018/13_1_cours.ipynb) \n",
    "\n",
    "* [Partie#2](http://nbviewer.jupyter.org/github/nmeraihi/ACT3035/blob/master/AUT_2018/13_2_cours.ipynb)\n",
    "\n",
    "* [Partie#3](http://nbviewer.jupyter.org/github/nmeraihi/ACT3035/blob/master/AUT_2018/13_3_cours_dooLoop.ipynb)\n",
    "\n",
    "\n",
    "## Exercices\n",
    "* [DooLoop Questions](http://nbviewer.jupyter.org/github/nmeraihi/ACT3035/blob/master/AUT_2018/13_4_Exercices_loop.ipynb?flush_cache=true)\n",
    "* [DooLoop Solutions](http://nbviewer.jupyter.org/github/nmeraihi/ACT3035/blob/master/AUT_2018/13_4_Exercices_loop_sol.ipynb?flush_cache=true)\n",
    "\n",
    "\n",
    "* [Jointures de tables Questions](http://nbviewer.jupyter.org/github/nmeraihi/ACT3035/blob/master/AUT_2018/13_5_Exercices_joint_tables.ipynb?flush_cache=true)\n",
    "* [Jointures de tables Solutions](http://nbviewer.jupyter.org/github/nmeraihi/ACT3035/blob/master/AUT_2018/13_5_Exercices_joint_tables_sol.ipynb?flush_cache=true)\n",
    "\n",
    "\n",
    "* [Script SAS lors de la démo](https://github.com/nmeraihi/ACT3035/blob/master/AUT_2018/13_6_demo_derniere.sas)"
   ]
  },
  {
   "cell_type": "markdown",
   "metadata": {},
   "source": [
    "# ACT3035_A2018 Cours_12\n",
    "**Grève**"
   ]
  },
  {
   "cell_type": "markdown",
   "metadata": {},
   "source": [
    "# ACT3035_A2018 Cours_11"
   ]
  },
  {
   "cell_type": "markdown",
   "metadata": {},
   "source": [
    "## Notes du cours\n",
    "* [Partie#1](http://nbviewer.jupyter.org/github/nmeraihi/ACT3035/blob/master/AUT_2018/11_1_cours.ipynb) \n",
    "\n",
    "* [Partie#2](http://nbviewer.jupyter.org/github/nmeraihi/ACT3035/blob/master/AUT_2018/11_2_cours.ipynb)\n",
    "\n",
    "\n",
    "## Exercices\n",
    "* [Partie_1](http://nbviewer.jupyter.org/github/nmeraihi/ACT3035/blob/master/AUT_2018/11_3_Exercices.ipynb?flush_cache=true)\n",
    "* [Partie_2 exos supplémentaires](http://nbviewer.jupyter.org/github/nmeraihi/ACT3035/blob/master/AUT_2018/11_4_Exercices.ipynb?flush_cache=true)\n"
   ]
  },
  {
   "cell_type": "markdown",
   "metadata": {},
   "source": [
    "# ACT3035_A2018 Cours_10"
   ]
  },
  {
   "cell_type": "markdown",
   "metadata": {},
   "source": [
    "## Notes du cours\n",
    "* [Partie#1](http://nbviewer.jupyter.org/github/nmeraihi/ACT3035/blob/master/AUT_2018/10_1_cours.ipynb) \n",
    "\n",
    "* [Partie#2](http://nbviewer.jupyter.org/github/nmeraihi/ACT3035/blob/master/AUT_2018/10_2_cours.ipynb)\n",
    "\n",
    "* [Partie#3](http://nbviewer.jupyter.org/github/nmeraihi/ACT3035/blob/master/AUT_2018/10_3_cours.ipynb)\n",
    "\n",
    "* [libname démystifié et détaillé](https://github.com/nmeraihi/ACT3035/blob/master/AUT_2018/10_5_libname_detail.ipynb)\n",
    "\n",
    "\n",
    "## Exercices\n",
    "* [Partie_1](http://nbviewer.jupyter.org/github/nmeraihi/ACT3035/blob/master/AUT_2018/10_4_Exercices.ipynb)"
   ]
  },
  {
   "cell_type": "markdown",
   "metadata": {},
   "source": [
    "# ACT3035_A2018 Cours_9"
   ]
  },
  {
   "cell_type": "markdown",
   "metadata": {},
   "source": [
    "## Notes du cours\n",
    "* Voici la [partie#1](http://nbviewer.jupyter.org/github/nmeraihi/ACT3035/blob/master/AUT_2018/9_1_cours.ipynb) et la [partie#2](http://nbviewer.jupyter.org/github/nmeraihi/ACT3035/blob/master/AUT_2018/9_2_cours.ipynb) des notes du cours en format continu. \n",
    "\n",
    "## Exercices\n",
    "* [Partie_1](https://github.com/nmeraihi/ACT3035/blob/master/AUT_2018/9_1_Exercices.ipynb)\n",
    "\n",
    "* [Partie_2](http://nbviewer.jupyter.org/github/nmeraihi/ACT3035/blob/master/AUT_2018/9_2_Exercices.ipynb)"
   ]
  },
  {
   "cell_type": "markdown",
   "metadata": {},
   "source": [
    "# ACT3035_A2018 Cours_8"
   ]
  },
  {
   "cell_type": "markdown",
   "metadata": {},
   "source": [
    "* Dans ce cours, nous avons fait un tutoriel présentant les moyens d'avoir accès à SAS via [Citrix](https://www.bureauvirtuel.uqam.ca/citrix/XenAppSitel/), [SAS oda](https://odamid.oda.sas.com/SASODAControlCenter) ou directement SAS 9.4 au local informatique.\n",
    "\n",
    "* Vous pouvez trouver le contenu de ce [tutoriel ici](http://nbviewer.jupyter.org/github/nmeraihi/ACT3035/blob/master/AUT_2018/8_0_cours.ipynb) afin d'utiliser SAS oda\n",
    "* Nous avons également introduit l'interface de SAS oda (création et téléchargement de fichiers, de répertoire ...etc)"
   ]
  },
  {
   "cell_type": "markdown",
   "metadata": {},
   "source": [
    "# ACT3035_A2018 Cours_7"
   ]
  },
  {
   "cell_type": "markdown",
   "metadata": {},
   "source": [
    "> Examen Intra (R)\n"
   ]
  },
  {
   "cell_type": "markdown",
   "metadata": {},
   "source": [
    "# ACT3035_A2018 Cours_6"
   ]
  },
  {
   "cell_type": "markdown",
   "metadata": {},
   "source": [
    "* Nous avons programmé une régression linéaire au complet, en plus de la fonction `predict` de cette dernière afin de faire une revision de la matière pour l'examen."
   ]
  },
  {
   "cell_type": "markdown",
   "metadata": {},
   "source": [
    "# ACT3035_A2018 Cours_5"
   ]
  },
  {
   "cell_type": "markdown",
   "metadata": {},
   "source": [
    "## Notes du cours\n",
    "* Voici la [partie#1](http://nbviewer.jupyter.org/github/nmeraihi/ACT3035/blob/master/AUT_2018/5_1_cours.ipynb) (graphiques ggplot2) et la [partie#2](http://nbviewer.jupyter.org/github/nmeraihi/ACT3035/blob/master/AUT_2018/5_2_cours.ipynb) (La méthode de dichotomie et inégrale numérique) des notes du cours en format continu. \n",
    "\n",
    "## Exercices\n",
    "* [Questions](http://nbviewer.jupyter.org/github/nmeraihi/ACT3035/blob/master/AUT_2018/5_3_Exercices_Questions.ipynb)\n",
    "\n",
    "* [Solutions](http://nbviewer.jupyter.org/github/nmeraihi/ACT3035/blob/master/AUT_2018/5_3_Exercices_Solutions.ipynb)\n",
    "\n",
    "# Version PDF\n",
    "\n",
    "* [Partie#1](https://github.com/nmeraihi/ACT3035/blob/master/AUT_2018/5_1_cours.pdf)\n",
    "* [Partie#1](https://github.com/nmeraihi/ACT3035/blob/master/AUT_2018/5_2_cours.pdf)"
   ]
  },
  {
   "cell_type": "markdown",
   "metadata": {},
   "source": [
    "# ACT3035_A2018 Cours_4"
   ]
  },
  {
   "cell_type": "markdown",
   "metadata": {},
   "source": [
    "## Notes du cours\n",
    "* Voici la [partie#1](https://github.com/nmeraihi/ACT3035/blob/master/AUT_2018/4_1_cours.ipynb) et la [partie#2](https://github.com/nmeraihi/ACT3035/blob/master/AUT_2018/4_2_cours.ipynb) des notes du cours en format continu. \n",
    "* Vous retrouvez également le [script_4](https://github.com/nmeraihi/ACT3035/blob/master/AUT_2018/4_5_script.R) (code brut) que j'ai tapé sur la console RStudio au labo.\n",
    "\n",
    "## Exercices\n",
    "* [Questions et Solutions](http://nbviewer.jupyter.org/github/nmeraihi/ACT3035/blob/master/AUT_2018/4_3_Exercices_Solutions.ipynb)\n"
   ]
  },
  {
   "cell_type": "markdown",
   "metadata": {},
   "source": [
    "# ACT3035_A2018 Cours_3"
   ]
  },
  {
   "cell_type": "markdown",
   "metadata": {},
   "source": [
    "## Notes du cours\n",
    "* Voici la [partie#1](https://github.com/nmeraihi/ACT3035/blob/master/AUT_2018/3_1_cours.ipynb) et la [partie#2](https://github.com/nmeraihi/ACT3035/blob/master/AUT_2018/3_2_cours.ipynb) des notes du cours en format continu. \n",
    "* Si vous voulez avoir ces mêmes notes de cours en format _slides_, je peux le faire aussi, juste me le demander\n",
    "* Vous retrouvez également le [script_3](https://github.com/nmeraihi/ACT3035/blob/master/AUT_2018/3_5_script.R) (code brut) que j'ai tapé sur la console RStudio au labo.\n",
    "\n",
    "## Exercices\n",
    "* [Questions](http://nbviewer.jupyter.org/github/nmeraihi/ACT3035/blob/master/AUT_2018/3_3_Exercices.ipynb)\n",
    "* [Solutions](http://nbviewer.jupyter.org/github/nmeraihi/ACT3035/blob/master/AUT_2018/3_4_Solutions.ipynb#Question)\n"
   ]
  },
  {
   "cell_type": "markdown",
   "metadata": {},
   "source": [
    "# ACT3035_A2018 Cours_2"
   ]
  },
  {
   "cell_type": "markdown",
   "metadata": {},
   "source": [
    "## Notes du cours\n",
    "* Voici la [partie#1](https://github.com/nmeraihi/ACT3035/blob/master/AUT_2018/2_1_cours.ipynb) et la [partie#2](https://github.com/nmeraihi/ACT3035/blob/master/AUT_2018/2_2_cours.ipynb) des notes du cours en format continu. \n",
    "* Si vous voulez avoir ces mêmes notes de cours en format _slides_, je peux le faire aussi, juste me le demander\n",
    "* Vous retrouvez également le [script_2](https://github.com/nmeraihi/ACT3035/blob/master/AUT_2018/2_5_script.R) (code brut) que j'ai tapé sur la console RStudio au labo.\n",
    "\n",
    "## Exercices\n",
    "* [Questions](http://nbviewer.jupyter.org/github/nmeraihi/ACT3035/blob/master/AUT_2018/2_3_Exercices.ipynb)\n",
    "* [Solutions](http://nbviewer.jupyter.org/github/nmeraihi/ACT3035/blob/master/AUT_2018/2_4_Solutions.ipynb#Question)\n"
   ]
  },
  {
   "cell_type": "markdown",
   "metadata": {},
   "source": [
    "# ACT3035_A2018 Cours_1"
   ]
  },
  {
   "cell_type": "markdown",
   "metadata": {},
   "source": [
    "## Notes du cours\n",
    "* Voici la [partie#1](https://nbviewer.jupyter.org/github/nmeraihi/ACT3035/blob/master/AUT_2018/1_1_cours.ipynb) et la [partie#2](https://nbviewer.jupyter.org/github/nmeraihi/ACT3035/blob/master/AUT_2018/1_2_cours.ipynb) des notes du cours en format continu. \n",
    "* Si vous voulez avoir ces mêmes notes de cours en format _slides_, voici la [slides#1](http://nour.me/presentations/1_1_cours.slides.html) et la [slides#2](http://nour.me/presentations/1_2_cours.slides.html)\n",
    "* Vous retrouvez également le [script_1](https://github.com/nmeraihi/ACT3035/blob/master/AUT_2018/1_5_script.R) (code brut) que j'ai tapé sur la console RStudio.\n",
    "\n",
    "## Exercices\n",
    "* Comme vous l'avez vu lors du dernier cours, il y'a 63 étudiants inscrits au cours. Comme nous avons seulement 50 ordinateurs dans le laboratoire, je vous conseille d'amener votre ordinateur personnel afin de suivre tous les exemples que je donne au cours. Car après tout, il s'agit bien d'un \"laboratoire\" d'actuariat !\n",
    "* Votre premier exercice est de vous assurez d'avoir votre environnement de travail fonctionnel, vous n'êtes pas obligé d'avoir un ordinateur puissant, tour ordinateur contenant un processeur basique fera largement le travail.\n",
    "* Ensuite, [voici la première série](https://github.com/nmeraihi/ACT3035/blob/master/AUT_2018/1_3_Exercices_vecteurs.ipynb) de quelques exercices très simple pour débuter!\n",
    "* Finalement, [voici également la solution](https://github.com/nmeraihi/ACT3035/blob/master/AUT_2018/1_4_Exercices_vecteurs-solutions.ipynb), mais attention! il faut essayer de résoudre les numéros avant de voir la solution.\n",
    "\n",
    "## Infos générales\n",
    "* Voici la [présentation](http://nour.me/presentations/ACT3035_PCA2018.html#/) du plan du cours que nous avons vu ensemble ce matin.\n",
    "* Voici des tutoriels pour installer R et RStudio sur votre ordinateur personnel;\n",
    "    * <a class=\"fragment\" href=\"https://medium.com/@GalarnykMichael/install-r-and-rstudio-on-windows-5f503f708027\">Windows</a>\n",
    "    * <a class=\"fragment\" href=\"https://medium.com/@GalarnykMichael/install-r-and-rstudio-on-mac-e911606ce4f4\">Mac Os X</a><br>\n",
    "    * <a class=\"fragment\" href=\"https://medium.com/@GalarnykMichael/install-r-and-rstudio-on-ubuntu-12-04-14-04-16-04-b6b3107f7779\">Ubuntu</a>\n",
    "* Vous pouvez effectuer ce petit [sondage](https://goo.gl/forms/kDoCDxdVHP07bX2o1) afin que j'aie une idée sur le niveau moyen en programmation des étudiants."
   ]
  }
 ],
 "metadata": {
  "kernelspec": {
   "display_name": "Python 3",
   "language": "python",
   "name": "python3"
  },
  "language_info": {
   "codemirror_mode": {
    "name": "ipython",
    "version": 3
   },
   "file_extension": ".py",
   "mimetype": "text/x-python",
   "name": "python",
   "nbconvert_exporter": "python",
   "pygments_lexer": "ipython3",
   "version": "3.6.6"
  },
  "latex_envs": {
   "LaTeX_envs_menu_present": true,
   "autoclose": false,
   "autocomplete": true,
   "bibliofile": "biblio.bib",
   "cite_by": "apalike",
   "current_citInitial": 1,
   "eqLabelWithNumbers": true,
   "eqNumInitial": 1,
   "hotkeys": {
    "equation": "Ctrl-E",
    "itemize": "Ctrl-I"
   },
   "labels_anchors": false,
   "latex_user_defs": false,
   "report_style_numbering": false,
   "user_envs_cfg": false
  },
  "toc": {
   "base_numbering": 1,
   "nav_menu": {},
   "number_sections": false,
   "sideBar": true,
   "skip_h1_title": false,
   "title_cell": "Table of Contents",
   "title_sidebar": "Contents",
   "toc_cell": false,
   "toc_position": {},
   "toc_section_display": true,
   "toc_window_display": true
  }
 },
 "nbformat": 4,
 "nbformat_minor": 2
}
