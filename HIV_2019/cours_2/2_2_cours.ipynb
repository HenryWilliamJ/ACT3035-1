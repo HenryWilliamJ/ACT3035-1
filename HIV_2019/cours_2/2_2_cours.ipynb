{
 "cells": [
  {
   "cell_type": "markdown",
   "metadata": {
    "toc": "true"
   },
   "source": [
    "<h1>Table of Contents<span class=\"tocSkip\"></span></h1>\n",
    "<div class=\"toc\"><ul class=\"toc-item\"><li><span><a href=\"#Matrices\" data-toc-modified-id=\"Matrices-1\">Matrices</a></span><ul class=\"toc-item\"><li><span><a href=\"#Extraction-d'un-élément-d'une-matrice\" data-toc-modified-id=\"Extraction-d'un-élément-d'une-matrice-1.1\">Extraction d'un élément d'une matrice</a></span></li><li><span><a href=\"#diag\" data-toc-modified-id=\"diag-1.2\">diag</a></span></li><li><span><a href=\"#Opértaion-sur-les-matrices\" data-toc-modified-id=\"Opértaion-sur-les-matrices-1.3\">Opértaion sur les matrices</a></span></li><li><span><a href=\"#cbind\" data-toc-modified-id=\"cbind-1.4\">cbind</a></span></li><li><span><a href=\"#rbind\" data-toc-modified-id=\"rbind-1.5\">rbind</a></span></li><li><span><a href=\"#matrcice-en-vecteur\" data-toc-modified-id=\"matrcice-en-vecteur-1.6\">matrcice en vecteur</a></span></li><li><span><a href=\"#Quelques-fonctions-statistiques-sur-les-matrices\" data-toc-modified-id=\"Quelques-fonctions-statistiques-sur-les-matrices-1.7\">Quelques fonctions statistiques sur les matrices</a></span></li><li><span><a href=\"#Corrélation\" data-toc-modified-id=\"Corrélation-1.8\">Corrélation</a></span></li><li><span><a href=\"#summary\" data-toc-modified-id=\"summary-1.9\">summary</a></span></li></ul></li><li><span><a href=\"#Générer-des-variables-aléatoires\" data-toc-modified-id=\"Générer-des-variables-aléatoires-2\">Générer des variables aléatoires</a></span><ul class=\"toc-item\"><li><span><a href=\"#runif\" data-toc-modified-id=\"runif-2.1\">runif</a></span></li><li><span><a href=\"#Seed\" data-toc-modified-id=\"Seed-2.2\">Seed</a></span></li><li><span><a href=\"#Sample-(échantillonage)\" data-toc-modified-id=\"Sample-(échantillonage)-2.3\">Sample (échantillonage)</a></span></li><li><span><a href=\"#rnorm\" data-toc-modified-id=\"rnorm-2.4\">rnorm</a></span></li></ul></li></ul></div>"
   ]
  },
  {
   "cell_type": "markdown",
   "metadata": {
    "slideshow": {
     "slide_type": "slide"
    }
   },
   "source": [
    "# Matrices"
   ]
  },
  {
   "cell_type": "markdown",
   "metadata": {
    "slideshow": {
     "slide_type": "fragment"
    }
   },
   "source": [
    "Une matrice est un objet constitué de données en deux dimensions, soit des lignes et des colonnes. Chaque élément de la matrice est situé à l'intersection d'une ligne et d'une colonne."
   ]
  },
  {
   "cell_type": "code",
   "execution_count": 56,
   "metadata": {
    "collapsed": true,
    "slideshow": {
     "slide_type": "subslide"
    }
   },
   "outputs": [],
   "source": [
    "A<- matrix(c(6,8,1,1,4,2), nrow = 2, ncol = 3)"
   ]
  },
  {
   "cell_type": "code",
   "execution_count": 57,
   "metadata": {
    "slideshow": {
     "slide_type": "fragment"
    }
   },
   "outputs": [
    {
     "data": {
      "text/html": [
       "<table>\n",
       "<tbody>\n",
       "\t<tr><td>6</td><td>1</td><td>4</td></tr>\n",
       "\t<tr><td>8</td><td>1</td><td>2</td></tr>\n",
       "</tbody>\n",
       "</table>\n"
      ],
      "text/latex": [
       "\\begin{tabular}{lll}\n",
       "\t 6 & 1 & 4\\\\\n",
       "\t 8 & 1 & 2\\\\\n",
       "\\end{tabular}\n"
      ],
      "text/markdown": [
       "\n",
       "| 6 | 1 | 4 | \n",
       "| 8 | 1 | 2 | \n",
       "\n",
       "\n"
      ],
      "text/plain": [
       "     [,1] [,2] [,3]\n",
       "[1,] 6    1    4   \n",
       "[2,] 8    1    2   "
      ]
     },
     "metadata": {},
     "output_type": "display_data"
    }
   ],
   "source": [
    "A"
   ]
  },
  {
   "cell_type": "markdown",
   "metadata": {
    "slideshow": {
     "slide_type": "subslide"
    }
   },
   "source": [
    "Il arrive souvent qu'on veuille transposer une matrice. Pour ce faire, il suffit de l'inclure à l'intérieur de `t(matrice)`"
   ]
  },
  {
   "cell_type": "code",
   "execution_count": 58,
   "metadata": {
    "slideshow": {
     "slide_type": "fragment"
    }
   },
   "outputs": [
    {
     "data": {
      "text/html": [
       "<table>\n",
       "<tbody>\n",
       "\t<tr><td>6</td><td>8</td></tr>\n",
       "\t<tr><td>1</td><td>1</td></tr>\n",
       "\t<tr><td>4</td><td>2</td></tr>\n",
       "</tbody>\n",
       "</table>\n"
      ],
      "text/latex": [
       "\\begin{tabular}{ll}\n",
       "\t 6 & 8\\\\\n",
       "\t 1 & 1\\\\\n",
       "\t 4 & 2\\\\\n",
       "\\end{tabular}\n"
      ],
      "text/markdown": [
       "\n",
       "| 6 | 8 | \n",
       "| 1 | 1 | \n",
       "| 4 | 2 | \n",
       "\n",
       "\n"
      ],
      "text/plain": [
       "     [,1] [,2]\n",
       "[1,] 6    8   \n",
       "[2,] 1    1   \n",
       "[3,] 4    2   "
      ]
     },
     "metadata": {},
     "output_type": "display_data"
    }
   ],
   "source": [
    "t(A)"
   ]
  },
  {
   "cell_type": "markdown",
   "metadata": {
    "slideshow": {
     "slide_type": "subslide"
    }
   },
   "source": [
    "**Note** Lorsqu'on transpose un vecteur, R transforme ce vecteur en une matrice à une seule dimension:"
   ]
  },
  {
   "cell_type": "code",
   "execution_count": 59,
   "metadata": {
    "collapsed": true,
    "slideshow": {
     "slide_type": "fragment"
    }
   },
   "outputs": [],
   "source": [
    "vec<-1:5"
   ]
  },
  {
   "cell_type": "code",
   "execution_count": 61,
   "metadata": {
    "slideshow": {
     "slide_type": "fragment"
    }
   },
   "outputs": [
    {
     "data": {
      "text/html": [
       "<table>\n",
       "<tbody>\n",
       "\t<tr><td>1</td><td>2</td><td>3</td><td>4</td><td>5</td></tr>\n",
       "</tbody>\n",
       "</table>\n"
      ],
      "text/latex": [
       "\\begin{tabular}{lllll}\n",
       "\t 1 & 2 & 3 & 4 & 5\\\\\n",
       "\\end{tabular}\n"
      ],
      "text/markdown": [
       "\n",
       "| 1 | 2 | 3 | 4 | 5 | \n",
       "\n",
       "\n"
      ],
      "text/plain": [
       "     [,1] [,2] [,3] [,4] [,5]\n",
       "[1,] 1    2    3    4    5   "
      ]
     },
     "metadata": {},
     "output_type": "display_data"
    }
   ],
   "source": [
    "t(vec)"
   ]
  },
  {
   "cell_type": "markdown",
   "metadata": {
    "slideshow": {
     "slide_type": "subslide"
    }
   },
   "source": [
    "**Note** la fonction `dim()` donne les dimensions d'une matrice. Si l’on vérifie la dimension du vecteur."
   ]
  },
  {
   "cell_type": "code",
   "execution_count": 62,
   "metadata": {
    "slideshow": {
     "slide_type": "fragment"
    }
   },
   "outputs": [
    {
     "data": {
      "text/plain": [
       "NULL"
      ]
     },
     "metadata": {},
     "output_type": "display_data"
    }
   ],
   "source": [
    "dim(vec)"
   ]
  },
  {
   "cell_type": "markdown",
   "metadata": {
    "slideshow": {
     "slide_type": "subslide"
    }
   },
   "source": [
    "Bien évidemment il nous retourne une valeur nulle. Mais lorsqu'on transforme ce vecteur en matrice, on obtient;"
   ]
  },
  {
   "cell_type": "code",
   "execution_count": 63,
   "metadata": {
    "slideshow": {
     "slide_type": "fragment"
    }
   },
   "outputs": [
    {
     "data": {
      "text/html": [
       "<ol class=list-inline>\n",
       "\t<li>1</li>\n",
       "\t<li>5</li>\n",
       "</ol>\n"
      ],
      "text/latex": [
       "\\begin{enumerate*}\n",
       "\\item 1\n",
       "\\item 5\n",
       "\\end{enumerate*}\n"
      ],
      "text/markdown": [
       "1. 1\n",
       "2. 5\n",
       "\n",
       "\n"
      ],
      "text/plain": [
       "[1] 1 5"
      ]
     },
     "metadata": {},
     "output_type": "display_data"
    }
   ],
   "source": [
    "dim(t(vec))"
   ]
  },
  {
   "cell_type": "markdown",
   "metadata": {
    "slideshow": {
     "slide_type": "subslide"
    }
   },
   "source": [
    "Ce qui veut dire que notre matrice est composée d'une seule ligne et cinq colonnes"
   ]
  },
  {
   "cell_type": "markdown",
   "metadata": {
    "slideshow": {
     "slide_type": "slide"
    }
   },
   "source": [
    "## Extraction d'un élément d'une matrice"
   ]
  },
  {
   "cell_type": "markdown",
   "metadata": {
    "slideshow": {
     "slide_type": "fragment"
    }
   },
   "source": [
    "Si l'on veut extraire un élément d'une matrice, il suffit d'indiquer ses coordonnées **`[ligne, colonne]`**"
   ]
  },
  {
   "cell_type": "code",
   "execution_count": 64,
   "metadata": {
    "slideshow": {
     "slide_type": "fragment"
    }
   },
   "outputs": [
    {
     "data": {
      "text/html": [
       "4"
      ],
      "text/latex": [
       "4"
      ],
      "text/markdown": [
       "4"
      ],
      "text/plain": [
       "[1] 4"
      ]
     },
     "metadata": {},
     "output_type": "display_data"
    }
   ],
   "source": [
    "A[1,3]"
   ]
  },
  {
   "cell_type": "code",
   "execution_count": 65,
   "metadata": {
    "slideshow": {
     "slide_type": "fragment"
    }
   },
   "outputs": [
    {
     "data": {
      "text/html": [
       "<table>\n",
       "<tbody>\n",
       "\t<tr><td>6</td><td>1</td><td>4</td></tr>\n",
       "\t<tr><td>8</td><td>1</td><td>2</td></tr>\n",
       "</tbody>\n",
       "</table>\n"
      ],
      "text/latex": [
       "\\begin{tabular}{lll}\n",
       "\t 6 & 1 & 4\\\\\n",
       "\t 8 & 1 & 2\\\\\n",
       "\\end{tabular}\n"
      ],
      "text/markdown": [
       "\n",
       "| 6 | 1 | 4 | \n",
       "| 8 | 1 | 2 | \n",
       "\n",
       "\n"
      ],
      "text/plain": [
       "     [,1] [,2] [,3]\n",
       "[1,] 6    1    4   \n",
       "[2,] 8    1    2   "
      ]
     },
     "metadata": {},
     "output_type": "display_data"
    }
   ],
   "source": [
    "A"
   ]
  },
  {
   "cell_type": "markdown",
   "metadata": {
    "slideshow": {
     "slide_type": "subslide"
    }
   },
   "source": [
    "Lorsqu'on veut extraire un élément qui n'existe pas dans la matrice, on obtien alors le message d'erreur `subscript out of bounds`. Un message d'erreur que nous verrons souvent!"
   ]
  },
  {
   "cell_type": "code",
   "execution_count": 67,
   "metadata": {
    "slideshow": {
     "slide_type": "fragment"
    }
   },
   "outputs": [
    {
     "ename": "ERROR",
     "evalue": "Error in A[1, 4]: subscript out of bounds\n",
     "output_type": "error",
     "traceback": [
      "Error in A[1, 4]: subscript out of bounds\nTraceback:\n"
     ]
    }
   ],
   "source": [
    "A[1,4]"
   ]
  },
  {
   "cell_type": "markdown",
   "metadata": {
    "slideshow": {
     "slide_type": "subslide"
    }
   },
   "source": [
    "Si l'on omet de mettre une valeur au numéro de colonne ou de ligne, on obtient la ligne ou la colonne complète"
   ]
  },
  {
   "cell_type": "code",
   "execution_count": 68,
   "metadata": {
    "slideshow": {
     "slide_type": "fragment"
    }
   },
   "outputs": [
    {
     "data": {
      "text/html": [
       "<ol class=list-inline>\n",
       "\t<li>6</li>\n",
       "\t<li>8</li>\n",
       "</ol>\n"
      ],
      "text/latex": [
       "\\begin{enumerate*}\n",
       "\\item 6\n",
       "\\item 8\n",
       "\\end{enumerate*}\n"
      ],
      "text/markdown": [
       "1. 6\n",
       "2. 8\n",
       "\n",
       "\n"
      ],
      "text/plain": [
       "[1] 6 8"
      ]
     },
     "metadata": {},
     "output_type": "display_data"
    }
   ],
   "source": [
    "A[,1]"
   ]
  },
  {
   "cell_type": "markdown",
   "metadata": {
    "slideshow": {
     "slide_type": "subslide"
    }
   },
   "source": [
    "Lorsqu'on crée une matrice, nous ne sommes pas obligés d'indiquer le nombre de colonnes ou de lignes en même temps. Un seul argument suffit."
   ]
  },
  {
   "cell_type": "code",
   "execution_count": 81,
   "metadata": {
    "collapsed": true,
    "slideshow": {
     "slide_type": "fragment"
    }
   },
   "outputs": [],
   "source": [
    "B<-matrix(seq(1,9.5,.5), 3)"
   ]
  },
  {
   "cell_type": "code",
   "execution_count": 82,
   "metadata": {
    "slideshow": {
     "slide_type": "fragment"
    }
   },
   "outputs": [
    {
     "data": {
      "text/html": [
       "<table>\n",
       "<tbody>\n",
       "\t<tr><td>1.0</td><td>2.5</td><td>4.0</td><td>5.5</td><td>7.0</td><td>8.5</td></tr>\n",
       "\t<tr><td>1.5</td><td>3.0</td><td>4.5</td><td>6.0</td><td>7.5</td><td>9.0</td></tr>\n",
       "\t<tr><td>2.0</td><td>3.5</td><td>5.0</td><td>6.5</td><td>8.0</td><td>9.5</td></tr>\n",
       "</tbody>\n",
       "</table>\n"
      ],
      "text/latex": [
       "\\begin{tabular}{llllll}\n",
       "\t 1.0 & 2.5 & 4.0 & 5.5 & 7.0 & 8.5\\\\\n",
       "\t 1.5 & 3.0 & 4.5 & 6.0 & 7.5 & 9.0\\\\\n",
       "\t 2.0 & 3.5 & 5.0 & 6.5 & 8.0 & 9.5\\\\\n",
       "\\end{tabular}\n"
      ],
      "text/markdown": [
       "\n",
       "| 1.0 | 2.5 | 4.0 | 5.5 | 7.0 | 8.5 | \n",
       "| 1.5 | 3.0 | 4.5 | 6.0 | 7.5 | 9.0 | \n",
       "| 2.0 | 3.5 | 5.0 | 6.5 | 8.0 | 9.5 | \n",
       "\n",
       "\n"
      ],
      "text/plain": [
       "     [,1] [,2] [,3] [,4] [,5] [,6]\n",
       "[1,] 1.0  2.5  4.0  5.5  7.0  8.5 \n",
       "[2,] 1.5  3.0  4.5  6.0  7.5  9.0 \n",
       "[3,] 2.0  3.5  5.0  6.5  8.0  9.5 "
      ]
     },
     "metadata": {},
     "output_type": "display_data"
    }
   ],
   "source": [
    "B"
   ]
  },
  {
   "cell_type": "markdown",
   "metadata": {
    "slideshow": {
     "slide_type": "subslide"
    }
   },
   "source": [
    "Si l'on veut extraire la deuxième et la quatrième colonne"
   ]
  },
  {
   "cell_type": "code",
   "execution_count": 83,
   "metadata": {
    "slideshow": {
     "slide_type": "fragment"
    }
   },
   "outputs": [
    {
     "data": {
      "text/html": [
       "<table>\n",
       "<tbody>\n",
       "\t<tr><td>2.5</td><td>5.5</td></tr>\n",
       "\t<tr><td>3.0</td><td>6.0</td></tr>\n",
       "\t<tr><td>3.5</td><td>6.5</td></tr>\n",
       "</tbody>\n",
       "</table>\n"
      ],
      "text/latex": [
       "\\begin{tabular}{ll}\n",
       "\t 2.5 & 5.5\\\\\n",
       "\t 3.0 & 6.0\\\\\n",
       "\t 3.5 & 6.5\\\\\n",
       "\\end{tabular}\n"
      ],
      "text/markdown": [
       "\n",
       "| 2.5 | 5.5 | \n",
       "| 3.0 | 6.0 | \n",
       "| 3.5 | 6.5 | \n",
       "\n",
       "\n"
      ],
      "text/plain": [
       "     [,1] [,2]\n",
       "[1,] 2.5  5.5 \n",
       "[2,] 3.0  6.0 \n",
       "[3,] 3.5  6.5 "
      ]
     },
     "metadata": {},
     "output_type": "display_data"
    }
   ],
   "source": [
    "B[,c(2,4)]"
   ]
  },
  {
   "cell_type": "code",
   "execution_count": 78,
   "metadata": {
    "collapsed": true,
    "slideshow": {
     "slide_type": "subslide"
    }
   },
   "outputs": [],
   "source": [
    "B<-t(B)"
   ]
  },
  {
   "cell_type": "code",
   "execution_count": 79,
   "metadata": {
    "slideshow": {
     "slide_type": "fragment"
    }
   },
   "outputs": [
    {
     "data": {
      "text/html": [
       "<table>\n",
       "<tbody>\n",
       "\t<tr><td>1.0</td><td>1.5</td><td>2.0</td></tr>\n",
       "\t<tr><td>2.5</td><td>3.0</td><td>3.5</td></tr>\n",
       "\t<tr><td>4.0</td><td>4.5</td><td>5.0</td></tr>\n",
       "\t<tr><td>5.5</td><td>6.0</td><td>6.5</td></tr>\n",
       "\t<tr><td>7.0</td><td>7.5</td><td>8.0</td></tr>\n",
       "\t<tr><td>8.5</td><td>9.0</td><td>9.5</td></tr>\n",
       "</tbody>\n",
       "</table>\n"
      ],
      "text/latex": [
       "\\begin{tabular}{lll}\n",
       "\t 1.0 & 1.5 & 2.0\\\\\n",
       "\t 2.5 & 3.0 & 3.5\\\\\n",
       "\t 4.0 & 4.5 & 5.0\\\\\n",
       "\t 5.5 & 6.0 & 6.5\\\\\n",
       "\t 7.0 & 7.5 & 8.0\\\\\n",
       "\t 8.5 & 9.0 & 9.5\\\\\n",
       "\\end{tabular}\n"
      ],
      "text/markdown": [
       "\n",
       "| 1.0 | 1.5 | 2.0 | \n",
       "| 2.5 | 3.0 | 3.5 | \n",
       "| 4.0 | 4.5 | 5.0 | \n",
       "| 5.5 | 6.0 | 6.5 | \n",
       "| 7.0 | 7.5 | 8.0 | \n",
       "| 8.5 | 9.0 | 9.5 | \n",
       "\n",
       "\n"
      ],
      "text/plain": [
       "     [,1] [,2] [,3]\n",
       "[1,] 1.0  1.5  2.0 \n",
       "[2,] 2.5  3.0  3.5 \n",
       "[3,] 4.0  4.5  5.0 \n",
       "[4,] 5.5  6.0  6.5 \n",
       "[5,] 7.0  7.5  8.0 \n",
       "[6,] 8.5  9.0  9.5 "
      ]
     },
     "metadata": {},
     "output_type": "display_data"
    }
   ],
   "source": [
    "B"
   ]
  },
  {
   "cell_type": "markdown",
   "metadata": {
    "slideshow": {
     "slide_type": "subslide"
    }
   },
   "source": [
    "Si l'on veut extraire la troisième et la cinquième ligne;"
   ]
  },
  {
   "cell_type": "code",
   "execution_count": 80,
   "metadata": {
    "slideshow": {
     "slide_type": "fragment"
    }
   },
   "outputs": [
    {
     "data": {
      "text/html": [
       "<table>\n",
       "<tbody>\n",
       "\t<tr><td>4  </td><td>4.5</td><td>5  </td></tr>\n",
       "\t<tr><td>7  </td><td>7.5</td><td>8  </td></tr>\n",
       "</tbody>\n",
       "</table>\n"
      ],
      "text/latex": [
       "\\begin{tabular}{lll}\n",
       "\t 4   & 4.5 & 5  \\\\\n",
       "\t 7   & 7.5 & 8  \\\\\n",
       "\\end{tabular}\n"
      ],
      "text/markdown": [
       "\n",
       "| 4   | 4.5 | 5   | \n",
       "| 7   | 7.5 | 8   | \n",
       "\n",
       "\n"
      ],
      "text/plain": [
       "     [,1] [,2] [,3]\n",
       "[1,] 4    4.5  5   \n",
       "[2,] 7    7.5  8   "
      ]
     },
     "metadata": {},
     "output_type": "display_data"
    }
   ],
   "source": [
    "B[c(3,5),]"
   ]
  },
  {
   "cell_type": "markdown",
   "metadata": {
    "slideshow": {
     "slide_type": "subslide"
    }
   },
   "source": [
    "## diag"
   ]
  },
  {
   "cell_type": "markdown",
   "metadata": {
    "slideshow": {
     "slide_type": "fragment"
    }
   },
   "source": [
    "Cette fonction crée une matrice identité, c'est une matrice carrée avec des 1 sur la diagonale et des 0 partout ailleurs."
   ]
  },
  {
   "cell_type": "code",
   "execution_count": 84,
   "metadata": {
    "slideshow": {
     "slide_type": "fragment"
    }
   },
   "outputs": [
    {
     "data": {
      "text/html": [
       "<table>\n",
       "<tbody>\n",
       "\t<tr><td>1</td><td>0</td><td>0</td><td>0</td><td>0</td></tr>\n",
       "\t<tr><td>0</td><td>1</td><td>0</td><td>0</td><td>0</td></tr>\n",
       "\t<tr><td>0</td><td>0</td><td>1</td><td>0</td><td>0</td></tr>\n",
       "\t<tr><td>0</td><td>0</td><td>0</td><td>1</td><td>0</td></tr>\n",
       "\t<tr><td>0</td><td>0</td><td>0</td><td>0</td><td>1</td></tr>\n",
       "</tbody>\n",
       "</table>\n"
      ],
      "text/latex": [
       "\\begin{tabular}{lllll}\n",
       "\t 1 & 0 & 0 & 0 & 0\\\\\n",
       "\t 0 & 1 & 0 & 0 & 0\\\\\n",
       "\t 0 & 0 & 1 & 0 & 0\\\\\n",
       "\t 0 & 0 & 0 & 1 & 0\\\\\n",
       "\t 0 & 0 & 0 & 0 & 1\\\\\n",
       "\\end{tabular}\n"
      ],
      "text/markdown": [
       "\n",
       "| 1 | 0 | 0 | 0 | 0 | \n",
       "| 0 | 1 | 0 | 0 | 0 | \n",
       "| 0 | 0 | 1 | 0 | 0 | \n",
       "| 0 | 0 | 0 | 1 | 0 | \n",
       "| 0 | 0 | 0 | 0 | 1 | \n",
       "\n",
       "\n"
      ],
      "text/plain": [
       "     [,1] [,2] [,3] [,4] [,5]\n",
       "[1,] 1    0    0    0    0   \n",
       "[2,] 0    1    0    0    0   \n",
       "[3,] 0    0    1    0    0   \n",
       "[4,] 0    0    0    1    0   \n",
       "[5,] 0    0    0    0    1   "
      ]
     },
     "metadata": {},
     "output_type": "display_data"
    }
   ],
   "source": [
    "diag(5)"
   ]
  },
  {
   "cell_type": "markdown",
   "metadata": {
    "slideshow": {
     "slide_type": "slide"
    }
   },
   "source": [
    "## Opértaion sur les matrices"
   ]
  },
  {
   "cell_type": "markdown",
   "metadata": {
    "slideshow": {
     "slide_type": "subslide"
    }
   },
   "source": [
    "On peut aussi appliquer des fonctions mathématiques sur des matrices comme nous l'avons fait avec des vecteurs"
   ]
  },
  {
   "cell_type": "code",
   "execution_count": 85,
   "metadata": {
    "slideshow": {
     "slide_type": "fragment"
    }
   },
   "outputs": [
    {
     "data": {
      "text/html": [
       "<table>\n",
       "<tbody>\n",
       "\t<tr><td>36</td><td>1 </td><td>16</td></tr>\n",
       "\t<tr><td>64</td><td>1 </td><td> 4</td></tr>\n",
       "</tbody>\n",
       "</table>\n"
      ],
      "text/latex": [
       "\\begin{tabular}{lll}\n",
       "\t 36 & 1  & 16\\\\\n",
       "\t 64 & 1  &  4\\\\\n",
       "\\end{tabular}\n"
      ],
      "text/markdown": [
       "\n",
       "| 36 | 1  | 16 | \n",
       "| 64 | 1  |  4 | \n",
       "\n",
       "\n"
      ],
      "text/plain": [
       "     [,1] [,2] [,3]\n",
       "[1,] 36   1    16  \n",
       "[2,] 64   1     4  "
      ]
     },
     "metadata": {},
     "output_type": "display_data"
    }
   ],
   "source": [
    "A**2"
   ]
  },
  {
   "cell_type": "code",
   "execution_count": 86,
   "metadata": {
    "slideshow": {
     "slide_type": "fragment"
    }
   },
   "outputs": [
    {
     "data": {
      "text/html": [
       "<table>\n",
       "<tbody>\n",
       "\t<tr><td>0.50</td><td>1.25</td><td>2.00</td><td>2.75</td><td>3.50</td><td>4.25</td></tr>\n",
       "\t<tr><td>0.75</td><td>1.50</td><td>2.25</td><td>3.00</td><td>3.75</td><td>4.50</td></tr>\n",
       "\t<tr><td>1.00</td><td>1.75</td><td>2.50</td><td>3.25</td><td>4.00</td><td>4.75</td></tr>\n",
       "</tbody>\n",
       "</table>\n"
      ],
      "text/latex": [
       "\\begin{tabular}{llllll}\n",
       "\t 0.50 & 1.25 & 2.00 & 2.75 & 3.50 & 4.25\\\\\n",
       "\t 0.75 & 1.50 & 2.25 & 3.00 & 3.75 & 4.50\\\\\n",
       "\t 1.00 & 1.75 & 2.50 & 3.25 & 4.00 & 4.75\\\\\n",
       "\\end{tabular}\n"
      ],
      "text/markdown": [
       "\n",
       "| 0.50 | 1.25 | 2.00 | 2.75 | 3.50 | 4.25 | \n",
       "| 0.75 | 1.50 | 2.25 | 3.00 | 3.75 | 4.50 | \n",
       "| 1.00 | 1.75 | 2.50 | 3.25 | 4.00 | 4.75 | \n",
       "\n",
       "\n"
      ],
      "text/plain": [
       "     [,1] [,2] [,3] [,4] [,5] [,6]\n",
       "[1,] 0.50 1.25 2.00 2.75 3.50 4.25\n",
       "[2,] 0.75 1.50 2.25 3.00 3.75 4.50\n",
       "[3,] 1.00 1.75 2.50 3.25 4.00 4.75"
      ]
     },
     "metadata": {},
     "output_type": "display_data"
    }
   ],
   "source": [
    "B/2"
   ]
  },
  {
   "cell_type": "code",
   "execution_count": 89,
   "metadata": {
    "collapsed": true,
    "slideshow": {
     "slide_type": "subslide"
    }
   },
   "outputs": [],
   "source": [
    "C<-B*2"
   ]
  },
  {
   "cell_type": "code",
   "execution_count": 90,
   "metadata": {
    "slideshow": {
     "slide_type": "fragment"
    }
   },
   "outputs": [
    {
     "data": {
      "text/html": [
       "<table>\n",
       "<tbody>\n",
       "\t<tr><td>3.0 </td><td> 7.5</td><td>12.0</td><td>16.5</td><td>21.0</td><td>25.5</td></tr>\n",
       "\t<tr><td>4.5 </td><td> 9.0</td><td>13.5</td><td>18.0</td><td>22.5</td><td>27.0</td></tr>\n",
       "\t<tr><td>6.0 </td><td>10.5</td><td>15.0</td><td>19.5</td><td>24.0</td><td>28.5</td></tr>\n",
       "</tbody>\n",
       "</table>\n"
      ],
      "text/latex": [
       "\\begin{tabular}{llllll}\n",
       "\t 3.0  &  7.5 & 12.0 & 16.5 & 21.0 & 25.5\\\\\n",
       "\t 4.5  &  9.0 & 13.5 & 18.0 & 22.5 & 27.0\\\\\n",
       "\t 6.0  & 10.5 & 15.0 & 19.5 & 24.0 & 28.5\\\\\n",
       "\\end{tabular}\n"
      ],
      "text/markdown": [
       "\n",
       "| 3.0  |  7.5 | 12.0 | 16.5 | 21.0 | 25.5 | \n",
       "| 4.5  |  9.0 | 13.5 | 18.0 | 22.5 | 27.0 | \n",
       "| 6.0  | 10.5 | 15.0 | 19.5 | 24.0 | 28.5 | \n",
       "\n",
       "\n"
      ],
      "text/plain": [
       "     [,1] [,2] [,3] [,4] [,5] [,6]\n",
       "[1,] 3.0   7.5 12.0 16.5 21.0 25.5\n",
       "[2,] 4.5   9.0 13.5 18.0 22.5 27.0\n",
       "[3,] 6.0  10.5 15.0 19.5 24.0 28.5"
      ]
     },
     "metadata": {},
     "output_type": "display_data"
    }
   ],
   "source": [
    "B+C"
   ]
  },
  {
   "cell_type": "markdown",
   "metadata": {
    "slideshow": {
     "slide_type": "subslide"
    }
   },
   "source": [
    "Créons une matrice `A=5X3`. Cette matrice contient les températures en Fahrenheit des trois villes \"Fairbanks\",\"San Francisco\" et \"Chicago\" (nom de colonnes). Les lignes sont les données du mois de mars 2012 au mois de mars 2016."
   ]
  },
  {
   "cell_type": "code",
   "execution_count": 6,
   "metadata": {
    "slideshow": {
     "slide_type": "fragment"
    }
   },
   "outputs": [
    {
     "data": {
      "text/html": [
       "<table>\n",
       "<tbody>\n",
       "\t<tr><td>30</td><td>72</td><td>55</td></tr>\n",
       "\t<tr><td>32</td><td>60</td><td>57</td></tr>\n",
       "\t<tr><td>31</td><td>78</td><td>56</td></tr>\n",
       "\t<tr><td>27</td><td>67</td><td>55</td></tr>\n",
       "\t<tr><td>36</td><td>71</td><td>49</td></tr>\n",
       "</tbody>\n",
       "</table>\n"
      ],
      "text/latex": [
       "\\begin{tabular}{lll}\n",
       "\t 30 & 72 & 55\\\\\n",
       "\t 32 & 60 & 57\\\\\n",
       "\t 31 & 78 & 56\\\\\n",
       "\t 27 & 67 & 55\\\\\n",
       "\t 36 & 71 & 49\\\\\n",
       "\\end{tabular}\n"
      ],
      "text/markdown": [
       "\n",
       "| 30 | 72 | 55 | \n",
       "| 32 | 60 | 57 | \n",
       "| 31 | 78 | 56 | \n",
       "| 27 | 67 | 55 | \n",
       "| 36 | 71 | 49 | \n",
       "\n",
       "\n"
      ],
      "text/plain": [
       "     [,1] [,2] [,3]\n",
       "[1,] 30   72   55  \n",
       "[2,] 32   60   57  \n",
       "[3,] 31   78   56  \n",
       "[4,] 27   67   55  \n",
       "[5,] 36   71   49  "
      ]
     },
     "metadata": {},
     "output_type": "display_data"
    }
   ],
   "source": [
    "A<-matrix(c(30,32,31,27,36,72,60,78,67,71,55,57,56,55,49),ncol=3)\n",
    "A"
   ]
  },
  {
   "cell_type": "markdown",
   "metadata": {
    "slideshow": {
     "slide_type": "subslide"
    }
   },
   "source": [
    "Convertissons ces données en Celsius avec la formule suivante;"
   ]
  },
  {
   "cell_type": "markdown",
   "metadata": {
    "slideshow": {
     "slide_type": "fragment"
    }
   },
   "source": [
    "\\begin{equation}\\label{eq:}\n",
    "℃= \\frac{℉-32}{1.8000}\n",
    "\\end{equation}\n"
   ]
  },
  {
   "cell_type": "code",
   "execution_count": 7,
   "metadata": {
    "slideshow": {
     "slide_type": "subslide"
    }
   },
   "outputs": [
    {
     "data": {
      "text/html": [
       "<table>\n",
       "<tbody>\n",
       "\t<tr><td>-1</td><td>22</td><td>13</td></tr>\n",
       "\t<tr><td> 0</td><td>16</td><td>14</td></tr>\n",
       "\t<tr><td>-1</td><td>26</td><td>13</td></tr>\n",
       "\t<tr><td>-3</td><td>19</td><td>13</td></tr>\n",
       "\t<tr><td> 2</td><td>22</td><td> 9</td></tr>\n",
       "</tbody>\n",
       "</table>\n"
      ],
      "text/latex": [
       "\\begin{tabular}{lll}\n",
       "\t -1 & 22 & 13\\\\\n",
       "\t  0 & 16 & 14\\\\\n",
       "\t -1 & 26 & 13\\\\\n",
       "\t -3 & 19 & 13\\\\\n",
       "\t  2 & 22 &  9\\\\\n",
       "\\end{tabular}\n"
      ],
      "text/markdown": [
       "\n",
       "| -1 | 22 | 13 | \n",
       "|  0 | 16 | 14 | \n",
       "| -1 | 26 | 13 | \n",
       "| -3 | 19 | 13 | \n",
       "|  2 | 22 |  9 | \n",
       "\n",
       "\n"
      ],
      "text/plain": [
       "     [,1] [,2] [,3]\n",
       "[1,] -1   22   13  \n",
       "[2,]  0   16   14  \n",
       "[3,] -1   26   13  \n",
       "[4,] -3   19   13  \n",
       "[5,]  2   22    9  "
      ]
     },
     "metadata": {},
     "output_type": "display_data"
    }
   ],
   "source": [
    "A<-round((A-32)/1.8,0)\n",
    "A"
   ]
  },
  {
   "cell_type": "markdown",
   "metadata": {
    "slideshow": {
     "slide_type": "subslide"
    }
   },
   "source": [
    "On peut donner des noms à chacune des colonnes avec la fonction `colnames()`"
   ]
  },
  {
   "cell_type": "code",
   "execution_count": 8,
   "metadata": {
    "collapsed": true,
    "slideshow": {
     "slide_type": "fragment"
    }
   },
   "outputs": [],
   "source": [
    "colnames(A)<-c(\"Fairbanks\",\"San Francisco\",\"Chicago\")"
   ]
  },
  {
   "cell_type": "markdown",
   "metadata": {
    "slideshow": {
     "slide_type": "subslide"
    }
   },
   "source": [
    "et des nom aux lignes avec la fonction `rownames()`"
   ]
  },
  {
   "cell_type": "code",
   "execution_count": 9,
   "metadata": {
    "collapsed": true,
    "slideshow": {
     "slide_type": "fragment"
    }
   },
   "outputs": [],
   "source": [
    "rownames(A)<-paste(\"3/\",12:16,sep='')"
   ]
  },
  {
   "cell_type": "markdown",
   "metadata": {
    "slideshow": {
     "slide_type": "subslide"
    }
   },
   "source": [
    "La fonction `paste` ci-haut permet de concatener des caractères "
   ]
  },
  {
   "cell_type": "code",
   "execution_count": 10,
   "metadata": {
    "slideshow": {
     "slide_type": "fragment"
    }
   },
   "outputs": [
    {
     "data": {
      "text/html": [
       "<ol class=list-inline>\n",
       "\t<li>'3/___12'</li>\n",
       "\t<li>'3/___13'</li>\n",
       "\t<li>'3/___14'</li>\n",
       "\t<li>'3/___15'</li>\n",
       "\t<li>'3/___16'</li>\n",
       "</ol>\n"
      ],
      "text/latex": [
       "\\begin{enumerate*}\n",
       "\\item '3/\\_\\_\\_12'\n",
       "\\item '3/\\_\\_\\_13'\n",
       "\\item '3/\\_\\_\\_14'\n",
       "\\item '3/\\_\\_\\_15'\n",
       "\\item '3/\\_\\_\\_16'\n",
       "\\end{enumerate*}\n"
      ],
      "text/markdown": [
       "1. '3/___12'\n",
       "2. '3/___13'\n",
       "3. '3/___14'\n",
       "4. '3/___15'\n",
       "5. '3/___16'\n",
       "\n",
       "\n"
      ],
      "text/plain": [
       "[1] \"3/___12\" \"3/___13\" \"3/___14\" \"3/___15\" \"3/___16\""
      ]
     },
     "metadata": {},
     "output_type": "display_data"
    }
   ],
   "source": [
    "paste(\"3/\",12:16,sep='___')"
   ]
  },
  {
   "cell_type": "code",
   "execution_count": 11,
   "metadata": {
    "slideshow": {
     "slide_type": "subslide"
    }
   },
   "outputs": [
    {
     "data": {
      "text/html": [
       "<table>\n",
       "<thead><tr><th></th><th scope=col>Fairbanks</th><th scope=col>San Francisco</th><th scope=col>Chicago</th></tr></thead>\n",
       "<tbody>\n",
       "\t<tr><th scope=row>3/12</th><td>-1</td><td>22</td><td>13</td></tr>\n",
       "\t<tr><th scope=row>3/13</th><td> 0</td><td>16</td><td>14</td></tr>\n",
       "\t<tr><th scope=row>3/14</th><td>-1</td><td>26</td><td>13</td></tr>\n",
       "\t<tr><th scope=row>3/15</th><td>-3</td><td>19</td><td>13</td></tr>\n",
       "\t<tr><th scope=row>3/16</th><td> 2</td><td>22</td><td> 9</td></tr>\n",
       "</tbody>\n",
       "</table>\n"
      ],
      "text/latex": [
       "\\begin{tabular}{r|lll}\n",
       "  & Fairbanks & San Francisco & Chicago\\\\\n",
       "\\hline\n",
       "\t3/12 & -1 & 22 & 13\\\\\n",
       "\t3/13 &  0 & 16 & 14\\\\\n",
       "\t3/14 & -1 & 26 & 13\\\\\n",
       "\t3/15 & -3 & 19 & 13\\\\\n",
       "\t3/16 &  2 & 22 &  9\\\\\n",
       "\\end{tabular}\n"
      ],
      "text/markdown": [
       "\n",
       "| <!--/--> | Fairbanks | San Francisco | Chicago | \n",
       "|---|---|---|---|---|\n",
       "| 3/12 | -1 | 22 | 13 | \n",
       "| 3/13 |  0 | 16 | 14 | \n",
       "| 3/14 | -1 | 26 | 13 | \n",
       "| 3/15 | -3 | 19 | 13 | \n",
       "| 3/16 |  2 | 22 |  9 | \n",
       "\n",
       "\n"
      ],
      "text/plain": [
       "     Fairbanks San Francisco Chicago\n",
       "3/12 -1        22            13     \n",
       "3/13  0        16            14     \n",
       "3/14 -1        26            13     \n",
       "3/15 -3        19            13     \n",
       "3/16  2        22             9     "
      ]
     },
     "metadata": {},
     "output_type": "display_data"
    }
   ],
   "source": [
    "A"
   ]
  },
  {
   "cell_type": "markdown",
   "metadata": {
    "slideshow": {
     "slide_type": "subslide"
    }
   },
   "source": [
    "Créons une autre matrice `B`"
   ]
  },
  {
   "cell_type": "code",
   "execution_count": 12,
   "metadata": {
    "collapsed": true,
    "slideshow": {
     "slide_type": "fragment"
    }
   },
   "outputs": [],
   "source": [
    "B<-matrix(c(88,85,83,81,78,62,61,54,60,65,90,92,91,89,90),ncol=3)\n",
    "colnames(B)<-c(\"Los Angeles\",\"Seattle\",\"Honolulu\")\n",
    "rownames(B)<-paste(\"3/\",12:16,sep='')"
   ]
  },
  {
   "cell_type": "code",
   "execution_count": 13,
   "metadata": {
    "slideshow": {
     "slide_type": "subslide"
    }
   },
   "outputs": [
    {
     "data": {
      "text/html": [
       "<table>\n",
       "<thead><tr><th></th><th scope=col>Los Angeles</th><th scope=col>Seattle</th><th scope=col>Honolulu</th></tr></thead>\n",
       "<tbody>\n",
       "\t<tr><th scope=row>3/12</th><td>31</td><td>17</td><td>32</td></tr>\n",
       "\t<tr><th scope=row>3/13</th><td>29</td><td>16</td><td>33</td></tr>\n",
       "\t<tr><th scope=row>3/14</th><td>28</td><td>12</td><td>33</td></tr>\n",
       "\t<tr><th scope=row>3/15</th><td>27</td><td>16</td><td>32</td></tr>\n",
       "\t<tr><th scope=row>3/16</th><td>26</td><td>18</td><td>32</td></tr>\n",
       "</tbody>\n",
       "</table>\n"
      ],
      "text/latex": [
       "\\begin{tabular}{r|lll}\n",
       "  & Los Angeles & Seattle & Honolulu\\\\\n",
       "\\hline\n",
       "\t3/12 & 31 & 17 & 32\\\\\n",
       "\t3/13 & 29 & 16 & 33\\\\\n",
       "\t3/14 & 28 & 12 & 33\\\\\n",
       "\t3/15 & 27 & 16 & 32\\\\\n",
       "\t3/16 & 26 & 18 & 32\\\\\n",
       "\\end{tabular}\n"
      ],
      "text/markdown": [
       "\n",
       "| <!--/--> | Los Angeles | Seattle | Honolulu | \n",
       "|---|---|---|---|---|\n",
       "| 3/12 | 31 | 17 | 32 | \n",
       "| 3/13 | 29 | 16 | 33 | \n",
       "| 3/14 | 28 | 12 | 33 | \n",
       "| 3/15 | 27 | 16 | 32 | \n",
       "| 3/16 | 26 | 18 | 32 | \n",
       "\n",
       "\n"
      ],
      "text/plain": [
       "     Los Angeles Seattle Honolulu\n",
       "3/12 31          17      32      \n",
       "3/13 29          16      33      \n",
       "3/14 28          12      33      \n",
       "3/15 27          16      32      \n",
       "3/16 26          18      32      "
      ]
     },
     "metadata": {},
     "output_type": "display_data"
    }
   ],
   "source": [
    "B<-round((B-32)/1.8,0)\n",
    "B"
   ]
  },
  {
   "cell_type": "markdown",
   "metadata": {
    "slideshow": {
     "slide_type": "slide"
    }
   },
   "source": [
    "## cbind"
   ]
  },
  {
   "cell_type": "markdown",
   "metadata": {
    "slideshow": {
     "slide_type": "subslide"
    }
   },
   "source": [
    "La fonction `cbind` permet de concaténer deux matrices ensemble en colonne"
   ]
  },
  {
   "cell_type": "code",
   "execution_count": 14,
   "metadata": {
    "slideshow": {
     "slide_type": "fragment"
    }
   },
   "outputs": [
    {
     "data": {
      "text/html": [
       "<table>\n",
       "<thead><tr><th></th><th scope=col>Fairbanks</th><th scope=col>San Francisco</th><th scope=col>Chicago</th><th scope=col>Los Angeles</th><th scope=col>Seattle</th><th scope=col>Honolulu</th></tr></thead>\n",
       "<tbody>\n",
       "\t<tr><th scope=row>3/12</th><td>-1</td><td>22</td><td>13</td><td>31</td><td>17</td><td>32</td></tr>\n",
       "\t<tr><th scope=row>3/13</th><td> 0</td><td>16</td><td>14</td><td>29</td><td>16</td><td>33</td></tr>\n",
       "\t<tr><th scope=row>3/14</th><td>-1</td><td>26</td><td>13</td><td>28</td><td>12</td><td>33</td></tr>\n",
       "\t<tr><th scope=row>3/15</th><td>-3</td><td>19</td><td>13</td><td>27</td><td>16</td><td>32</td></tr>\n",
       "\t<tr><th scope=row>3/16</th><td> 2</td><td>22</td><td> 9</td><td>26</td><td>18</td><td>32</td></tr>\n",
       "</tbody>\n",
       "</table>\n"
      ],
      "text/latex": [
       "\\begin{tabular}{r|llllll}\n",
       "  & Fairbanks & San Francisco & Chicago & Los Angeles & Seattle & Honolulu\\\\\n",
       "\\hline\n",
       "\t3/12 & -1 & 22 & 13 & 31 & 17 & 32\\\\\n",
       "\t3/13 &  0 & 16 & 14 & 29 & 16 & 33\\\\\n",
       "\t3/14 & -1 & 26 & 13 & 28 & 12 & 33\\\\\n",
       "\t3/15 & -3 & 19 & 13 & 27 & 16 & 32\\\\\n",
       "\t3/16 &  2 & 22 &  9 & 26 & 18 & 32\\\\\n",
       "\\end{tabular}\n"
      ],
      "text/markdown": [
       "\n",
       "| <!--/--> | Fairbanks | San Francisco | Chicago | Los Angeles | Seattle | Honolulu | \n",
       "|---|---|---|---|---|\n",
       "| 3/12 | -1 | 22 | 13 | 31 | 17 | 32 | \n",
       "| 3/13 |  0 | 16 | 14 | 29 | 16 | 33 | \n",
       "| 3/14 | -1 | 26 | 13 | 28 | 12 | 33 | \n",
       "| 3/15 | -3 | 19 | 13 | 27 | 16 | 32 | \n",
       "| 3/16 |  2 | 22 |  9 | 26 | 18 | 32 | \n",
       "\n",
       "\n"
      ],
      "text/plain": [
       "     Fairbanks San Francisco Chicago Los Angeles Seattle Honolulu\n",
       "3/12 -1        22            13      31          17      32      \n",
       "3/13  0        16            14      29          16      33      \n",
       "3/14 -1        26            13      28          12      33      \n",
       "3/15 -3        19            13      27          16      32      \n",
       "3/16  2        22             9      26          18      32      "
      ]
     },
     "metadata": {},
     "output_type": "display_data"
    }
   ],
   "source": [
    "cbind(A,B)"
   ]
  },
  {
   "cell_type": "markdown",
   "metadata": {
    "slideshow": {
     "slide_type": "slide"
    }
   },
   "source": [
    "## rbind"
   ]
  },
  {
   "cell_type": "markdown",
   "metadata": {
    "slideshow": {
     "slide_type": "subslide"
    }
   },
   "source": [
    "La fonction `rbind` permet de concaténer deux matrices ensemble une par-dessus l'autre"
   ]
  },
  {
   "cell_type": "code",
   "execution_count": 15,
   "metadata": {
    "slideshow": {
     "slide_type": "fragment"
    }
   },
   "outputs": [
    {
     "data": {
      "text/html": [
       "<table>\n",
       "<thead><tr><th></th><th scope=col>Fairbanks</th><th scope=col>San Francisco</th><th scope=col>Chicago</th></tr></thead>\n",
       "<tbody>\n",
       "\t<tr><th scope=row>3/12</th><td>-1</td><td>22</td><td>13</td></tr>\n",
       "\t<tr><th scope=row>3/13</th><td> 0</td><td>16</td><td>14</td></tr>\n",
       "\t<tr><th scope=row>3/14</th><td>-1</td><td>26</td><td>13</td></tr>\n",
       "\t<tr><th scope=row>3/15</th><td>-3</td><td>19</td><td>13</td></tr>\n",
       "\t<tr><th scope=row>3/16</th><td> 2</td><td>22</td><td> 9</td></tr>\n",
       "\t<tr><th scope=row>3/12</th><td>31</td><td>17</td><td>32</td></tr>\n",
       "\t<tr><th scope=row>3/13</th><td>29</td><td>16</td><td>33</td></tr>\n",
       "\t<tr><th scope=row>3/14</th><td>28</td><td>12</td><td>33</td></tr>\n",
       "\t<tr><th scope=row>3/15</th><td>27</td><td>16</td><td>32</td></tr>\n",
       "\t<tr><th scope=row>3/16</th><td>26</td><td>18</td><td>32</td></tr>\n",
       "</tbody>\n",
       "</table>\n"
      ],
      "text/latex": [
       "\\begin{tabular}{r|lll}\n",
       "  & Fairbanks & San Francisco & Chicago\\\\\n",
       "\\hline\n",
       "\t3/12 & -1 & 22 & 13\\\\\n",
       "\t3/13 &  0 & 16 & 14\\\\\n",
       "\t3/14 & -1 & 26 & 13\\\\\n",
       "\t3/15 & -3 & 19 & 13\\\\\n",
       "\t3/16 &  2 & 22 &  9\\\\\n",
       "\t3/12 & 31 & 17 & 32\\\\\n",
       "\t3/13 & 29 & 16 & 33\\\\\n",
       "\t3/14 & 28 & 12 & 33\\\\\n",
       "\t3/15 & 27 & 16 & 32\\\\\n",
       "\t3/16 & 26 & 18 & 32\\\\\n",
       "\\end{tabular}\n"
      ],
      "text/markdown": [
       "\n",
       "| <!--/--> | Fairbanks | San Francisco | Chicago | \n",
       "|---|---|---|---|---|---|---|---|---|---|\n",
       "| 3/12 | -1 | 22 | 13 | \n",
       "| 3/13 |  0 | 16 | 14 | \n",
       "| 3/14 | -1 | 26 | 13 | \n",
       "| 3/15 | -3 | 19 | 13 | \n",
       "| 3/16 |  2 | 22 |  9 | \n",
       "| 3/12 | 31 | 17 | 32 | \n",
       "| 3/13 | 29 | 16 | 33 | \n",
       "| 3/14 | 28 | 12 | 33 | \n",
       "| 3/15 | 27 | 16 | 32 | \n",
       "| 3/16 | 26 | 18 | 32 | \n",
       "\n",
       "\n"
      ],
      "text/plain": [
       "     Fairbanks San Francisco Chicago\n",
       "3/12 -1        22            13     \n",
       "3/13  0        16            14     \n",
       "3/14 -1        26            13     \n",
       "3/15 -3        19            13     \n",
       "3/16  2        22             9     \n",
       "3/12 31        17            32     \n",
       "3/13 29        16            33     \n",
       "3/14 28        12            33     \n",
       "3/15 27        16            32     \n",
       "3/16 26        18            32     "
      ]
     },
     "metadata": {},
     "output_type": "display_data"
    }
   ],
   "source": [
    "rbind(A,B)"
   ]
  },
  {
   "cell_type": "markdown",
   "metadata": {
    "slideshow": {
     "slide_type": "slide"
    }
   },
   "source": [
    "## matrcice en vecteur"
   ]
  },
  {
   "cell_type": "markdown",
   "metadata": {
    "slideshow": {
     "slide_type": "subslide"
    }
   },
   "source": [
    "On peut aussi transformer une matrice en un vecteur;"
   ]
  },
  {
   "cell_type": "markdown",
   "metadata": {
    "slideshow": {
     "slide_type": "fragment"
    }
   },
   "source": [
    "Reprenons la matrice que nous avons créée avec la fonction `rbind`. On lui donne le nom \"mat_comb\""
   ]
  },
  {
   "cell_type": "code",
   "execution_count": 16,
   "metadata": {
    "collapsed": true,
    "slideshow": {
     "slide_type": "fragment"
    }
   },
   "outputs": [],
   "source": [
    "mat_comb<-cbind(A,B)"
   ]
  },
  {
   "cell_type": "markdown",
   "metadata": {
    "slideshow": {
     "slide_type": "subslide"
    }
   },
   "source": [
    "On la transforme en vecteur avec `c(nomMatrice)`"
   ]
  },
  {
   "cell_type": "code",
   "execution_count": 17,
   "metadata": {
    "slideshow": {
     "slide_type": "fragment"
    }
   },
   "outputs": [
    {
     "data": {
      "text/html": [
       "<ol class=list-inline>\n",
       "\t<li>-1</li>\n",
       "\t<li>0</li>\n",
       "\t<li>-1</li>\n",
       "\t<li>-3</li>\n",
       "\t<li>2</li>\n",
       "\t<li>22</li>\n",
       "\t<li>16</li>\n",
       "\t<li>26</li>\n",
       "\t<li>19</li>\n",
       "\t<li>22</li>\n",
       "\t<li>13</li>\n",
       "\t<li>14</li>\n",
       "\t<li>13</li>\n",
       "\t<li>13</li>\n",
       "\t<li>9</li>\n",
       "\t<li>31</li>\n",
       "\t<li>29</li>\n",
       "\t<li>28</li>\n",
       "\t<li>27</li>\n",
       "\t<li>26</li>\n",
       "\t<li>17</li>\n",
       "\t<li>16</li>\n",
       "\t<li>12</li>\n",
       "\t<li>16</li>\n",
       "\t<li>18</li>\n",
       "\t<li>32</li>\n",
       "\t<li>33</li>\n",
       "\t<li>33</li>\n",
       "\t<li>32</li>\n",
       "\t<li>32</li>\n",
       "</ol>\n"
      ],
      "text/latex": [
       "\\begin{enumerate*}\n",
       "\\item -1\n",
       "\\item 0\n",
       "\\item -1\n",
       "\\item -3\n",
       "\\item 2\n",
       "\\item 22\n",
       "\\item 16\n",
       "\\item 26\n",
       "\\item 19\n",
       "\\item 22\n",
       "\\item 13\n",
       "\\item 14\n",
       "\\item 13\n",
       "\\item 13\n",
       "\\item 9\n",
       "\\item 31\n",
       "\\item 29\n",
       "\\item 28\n",
       "\\item 27\n",
       "\\item 26\n",
       "\\item 17\n",
       "\\item 16\n",
       "\\item 12\n",
       "\\item 16\n",
       "\\item 18\n",
       "\\item 32\n",
       "\\item 33\n",
       "\\item 33\n",
       "\\item 32\n",
       "\\item 32\n",
       "\\end{enumerate*}\n"
      ],
      "text/markdown": [
       "1. -1\n",
       "2. 0\n",
       "3. -1\n",
       "4. -3\n",
       "5. 2\n",
       "6. 22\n",
       "7. 16\n",
       "8. 26\n",
       "9. 19\n",
       "10. 22\n",
       "11. 13\n",
       "12. 14\n",
       "13. 13\n",
       "14. 13\n",
       "15. 9\n",
       "16. 31\n",
       "17. 29\n",
       "18. 28\n",
       "19. 27\n",
       "20. 26\n",
       "21. 17\n",
       "22. 16\n",
       "23. 12\n",
       "24. 16\n",
       "25. 18\n",
       "26. 32\n",
       "27. 33\n",
       "28. 33\n",
       "29. 32\n",
       "30. 32\n",
       "\n",
       "\n"
      ],
      "text/plain": [
       " [1] -1  0 -1 -3  2 22 16 26 19 22 13 14 13 13  9 31 29 28 27 26 17 16 12 16 18\n",
       "[26] 32 33 33 32 32"
      ]
     },
     "metadata": {},
     "output_type": "display_data"
    }
   ],
   "source": [
    "c(mat_comb)"
   ]
  },
  {
   "cell_type": "markdown",
   "metadata": {
    "slideshow": {
     "slide_type": "slide"
    }
   },
   "source": [
    "## Quelques fonctions statistiques sur les matrices"
   ]
  },
  {
   "cell_type": "code",
   "execution_count": 18,
   "metadata": {},
   "outputs": [
    {
     "data": {
      "text/html": [
       "<table>\n",
       "<thead><tr><th></th><th scope=col>Fairbanks</th><th scope=col>San Francisco</th><th scope=col>Chicago</th><th scope=col>Los Angeles</th><th scope=col>Seattle</th><th scope=col>Honolulu</th></tr></thead>\n",
       "<tbody>\n",
       "\t<tr><th scope=row>3/12</th><td>-1</td><td>22</td><td>13</td><td>31</td><td>17</td><td>32</td></tr>\n",
       "\t<tr><th scope=row>3/13</th><td> 0</td><td>16</td><td>14</td><td>29</td><td>16</td><td>33</td></tr>\n",
       "\t<tr><th scope=row>3/14</th><td>-1</td><td>26</td><td>13</td><td>28</td><td>12</td><td>33</td></tr>\n",
       "\t<tr><th scope=row>3/15</th><td>-3</td><td>19</td><td>13</td><td>27</td><td>16</td><td>32</td></tr>\n",
       "\t<tr><th scope=row>3/16</th><td> 2</td><td>22</td><td> 9</td><td>26</td><td>18</td><td>32</td></tr>\n",
       "</tbody>\n",
       "</table>\n"
      ],
      "text/latex": [
       "\\begin{tabular}{r|llllll}\n",
       "  & Fairbanks & San Francisco & Chicago & Los Angeles & Seattle & Honolulu\\\\\n",
       "\\hline\n",
       "\t3/12 & -1 & 22 & 13 & 31 & 17 & 32\\\\\n",
       "\t3/13 &  0 & 16 & 14 & 29 & 16 & 33\\\\\n",
       "\t3/14 & -1 & 26 & 13 & 28 & 12 & 33\\\\\n",
       "\t3/15 & -3 & 19 & 13 & 27 & 16 & 32\\\\\n",
       "\t3/16 &  2 & 22 &  9 & 26 & 18 & 32\\\\\n",
       "\\end{tabular}\n"
      ],
      "text/markdown": [
       "\n",
       "| <!--/--> | Fairbanks | San Francisco | Chicago | Los Angeles | Seattle | Honolulu | \n",
       "|---|---|---|---|---|\n",
       "| 3/12 | -1 | 22 | 13 | 31 | 17 | 32 | \n",
       "| 3/13 |  0 | 16 | 14 | 29 | 16 | 33 | \n",
       "| 3/14 | -1 | 26 | 13 | 28 | 12 | 33 | \n",
       "| 3/15 | -3 | 19 | 13 | 27 | 16 | 32 | \n",
       "| 3/16 |  2 | 22 |  9 | 26 | 18 | 32 | \n",
       "\n",
       "\n"
      ],
      "text/plain": [
       "     Fairbanks San Francisco Chicago Los Angeles Seattle Honolulu\n",
       "3/12 -1        22            13      31          17      32      \n",
       "3/13  0        16            14      29          16      33      \n",
       "3/14 -1        26            13      28          12      33      \n",
       "3/15 -3        19            13      27          16      32      \n",
       "3/16  2        22             9      26          18      32      "
      ]
     },
     "metadata": {},
     "output_type": "display_data"
    }
   ],
   "source": [
    "mat_comb"
   ]
  },
  {
   "cell_type": "markdown",
   "metadata": {
    "slideshow": {
     "slide_type": "subslide"
    }
   },
   "source": [
    "Lorsqu'on applique la fonction `min`, on obtient alors la valeur minimale de toutes les valeurs contenues dans la matrice"
   ]
  },
  {
   "cell_type": "code",
   "execution_count": 19,
   "metadata": {
    "slideshow": {
     "slide_type": "fragment"
    }
   },
   "outputs": [
    {
     "data": {
      "text/html": [
       "-3"
      ],
      "text/latex": [
       "-3"
      ],
      "text/markdown": [
       "-3"
      ],
      "text/plain": [
       "[1] -3"
      ]
     },
     "metadata": {},
     "output_type": "display_data"
    }
   ],
   "source": [
    "min(mat_comb)"
   ]
  },
  {
   "cell_type": "code",
   "execution_count": 20,
   "metadata": {
    "slideshow": {
     "slide_type": "fragment"
    }
   },
   "outputs": [
    {
     "data": {
      "text/html": [
       "33"
      ],
      "text/latex": [
       "33"
      ],
      "text/markdown": [
       "33"
      ],
      "text/plain": [
       "[1] 33"
      ]
     },
     "metadata": {},
     "output_type": "display_data"
    }
   ],
   "source": [
    "max(mat_comb)"
   ]
  },
  {
   "cell_type": "code",
   "execution_count": 21,
   "metadata": {
    "slideshow": {
     "slide_type": "subslide"
    }
   },
   "outputs": [
    {
     "data": {
      "text/html": [
       "<ol class=list-inline>\n",
       "\t<li>-3</li>\n",
       "\t<li>33</li>\n",
       "</ol>\n"
      ],
      "text/latex": [
       "\\begin{enumerate*}\n",
       "\\item -3\n",
       "\\item 33\n",
       "\\end{enumerate*}\n"
      ],
      "text/markdown": [
       "1. -3\n",
       "2. 33\n",
       "\n",
       "\n"
      ],
      "text/plain": [
       "[1] -3 33"
      ]
     },
     "metadata": {},
     "output_type": "display_data"
    }
   ],
   "source": [
    "range(mat_comb)"
   ]
  },
  {
   "cell_type": "code",
   "execution_count": 22,
   "metadata": {
    "slideshow": {
     "slide_type": "fragment"
    }
   },
   "outputs": [
    {
     "data": {
      "text/html": [
       "11.1923619275487"
      ],
      "text/latex": [
       "11.1923619275487"
      ],
      "text/markdown": [
       "11.1923619275487"
      ],
      "text/plain": [
       "[1] 11.19236"
      ]
     },
     "metadata": {},
     "output_type": "display_data"
    }
   ],
   "source": [
    "sd(mat_comb)"
   ]
  },
  {
   "cell_type": "markdown",
   "metadata": {
    "slideshow": {
     "slide_type": "subslide"
    }
   },
   "source": [
    "Les statistiques que nous venons d'obtenir, sont applquées à toutes les valeurs de la matrice. Et si nous voulions des statistiques par ligne ou par colonne"
   ]
  },
  {
   "cell_type": "code",
   "execution_count": 23,
   "metadata": {
    "slideshow": {
     "slide_type": "fragment"
    }
   },
   "outputs": [
    {
     "data": {
      "text/html": [
       "<dl class=dl-horizontal>\n",
       "\t<dt>3/12</dt>\n",
       "\t\t<dd>19</dd>\n",
       "\t<dt>3/13</dt>\n",
       "\t\t<dd>18</dd>\n",
       "\t<dt>3/14</dt>\n",
       "\t\t<dd>18.5</dd>\n",
       "\t<dt>3/15</dt>\n",
       "\t\t<dd>17.3333333333333</dd>\n",
       "\t<dt>3/16</dt>\n",
       "\t\t<dd>18.1666666666667</dd>\n",
       "</dl>\n"
      ],
      "text/latex": [
       "\\begin{description*}\n",
       "\\item[3/12] 19\n",
       "\\item[3/13] 18\n",
       "\\item[3/14] 18.5\n",
       "\\item[3/15] 17.3333333333333\n",
       "\\item[3/16] 18.1666666666667\n",
       "\\end{description*}\n"
      ],
      "text/markdown": [
       "3/12\n",
       ":   193/13\n",
       ":   183/14\n",
       ":   18.53/15\n",
       ":   17.33333333333333/16\n",
       ":   18.1666666666667\n",
       "\n"
      ],
      "text/plain": [
       "    3/12     3/13     3/14     3/15     3/16 \n",
       "19.00000 18.00000 18.50000 17.33333 18.16667 "
      ]
     },
     "metadata": {},
     "output_type": "display_data"
    }
   ],
   "source": [
    "rowMeans(mat_comb)"
   ]
  },
  {
   "cell_type": "code",
   "execution_count": 24,
   "metadata": {
    "slideshow": {
     "slide_type": "subslide"
    }
   },
   "outputs": [
    {
     "data": {
      "text/html": [
       "<dl class=dl-horizontal>\n",
       "\t<dt>Fairbanks</dt>\n",
       "\t\t<dd>-0.6</dd>\n",
       "\t<dt>San Francisco</dt>\n",
       "\t\t<dd>21</dd>\n",
       "\t<dt>Chicago</dt>\n",
       "\t\t<dd>12.4</dd>\n",
       "\t<dt>Los Angeles</dt>\n",
       "\t\t<dd>28.2</dd>\n",
       "\t<dt>Seattle</dt>\n",
       "\t\t<dd>15.8</dd>\n",
       "\t<dt>Honolulu</dt>\n",
       "\t\t<dd>32.4</dd>\n",
       "</dl>\n"
      ],
      "text/latex": [
       "\\begin{description*}\n",
       "\\item[Fairbanks] -0.6\n",
       "\\item[San Francisco] 21\n",
       "\\item[Chicago] 12.4\n",
       "\\item[Los Angeles] 28.2\n",
       "\\item[Seattle] 15.8\n",
       "\\item[Honolulu] 32.4\n",
       "\\end{description*}\n"
      ],
      "text/markdown": [
       "Fairbanks\n",
       ":   -0.6San Francisco\n",
       ":   21Chicago\n",
       ":   12.4Los Angeles\n",
       ":   28.2Seattle\n",
       ":   15.8Honolulu\n",
       ":   32.4\n",
       "\n"
      ],
      "text/plain": [
       "    Fairbanks San Francisco       Chicago   Los Angeles       Seattle \n",
       "         -0.6          21.0          12.4          28.2          15.8 \n",
       "     Honolulu \n",
       "         32.4 "
      ]
     },
     "metadata": {},
     "output_type": "display_data"
    }
   ],
   "source": [
    "colMeans(mat_comb)"
   ]
  },
  {
   "cell_type": "markdown",
   "metadata": {
    "slideshow": {
     "slide_type": "slide"
    }
   },
   "source": [
    "## Corrélation"
   ]
  },
  {
   "cell_type": "code",
   "execution_count": 33,
   "metadata": {
    "slideshow": {
     "slide_type": "subslide"
    }
   },
   "outputs": [
    {
     "data": {
      "text/html": [
       "<table>\n",
       "<thead><tr><th></th><th scope=col>Fairbanks</th><th scope=col>San Francisco</th><th scope=col>Chicago</th><th scope=col>Los Angeles</th><th scope=col>Seattle</th><th scope=col>Honolulu</th></tr></thead>\n",
       "<tbody>\n",
       "\t<tr><th scope=row>Fairbanks</th><td> 1.00000000</td><td> 0.07356124</td><td>-0.6918586 </td><td>-0.24325462</td><td> 0.38624364</td><td> 0.05025189</td></tr>\n",
       "\t<tr><th scope=row>San Francisco</th><td> 0.07356124</td><td> 1.00000000</td><td>-0.3084798 </td><td>-0.06947125</td><td>-0.49810768</td><td> 0.00000000</td></tr>\n",
       "\t<tr><th scope=row>Chicago</th><td>-0.69185856</td><td>-0.30847978</td><td> 1.0000000 </td><td> 0.64005690</td><td>-0.48366537</td><td> 0.51512220</td></tr>\n",
       "\t<tr><th scope=row>Los Angeles</th><td>-0.24325462</td><td>-0.06947125</td><td> 0.6400569 </td><td> 1.00000000</td><td>-0.04559608</td><td> 0.14237370</td></tr>\n",
       "\t<tr><th scope=row>Seattle</th><td> 0.38624364</td><td>-0.49810768</td><td>-0.4836654 </td><td>-0.04559608</td><td> 1.00000000</td><td>-0.72057669</td></tr>\n",
       "\t<tr><th scope=row>Honolulu</th><td> 0.05025189</td><td> 0.00000000</td><td> 0.5151222 </td><td> 0.14237370</td><td>-0.72057669</td><td> 1.00000000</td></tr>\n",
       "</tbody>\n",
       "</table>\n"
      ],
      "text/latex": [
       "\\begin{tabular}{r|llllll}\n",
       "  & Fairbanks & San Francisco & Chicago & Los Angeles & Seattle & Honolulu\\\\\n",
       "\\hline\n",
       "\tFairbanks &  1.00000000 &  0.07356124 & -0.6918586  & -0.24325462 &  0.38624364 &  0.05025189\\\\\n",
       "\tSan Francisco &  0.07356124 &  1.00000000 & -0.3084798  & -0.06947125 & -0.49810768 &  0.00000000\\\\\n",
       "\tChicago & -0.69185856 & -0.30847978 &  1.0000000  &  0.64005690 & -0.48366537 &  0.51512220\\\\\n",
       "\tLos Angeles & -0.24325462 & -0.06947125 &  0.6400569  &  1.00000000 & -0.04559608 &  0.14237370\\\\\n",
       "\tSeattle &  0.38624364 & -0.49810768 & -0.4836654  & -0.04559608 &  1.00000000 & -0.72057669\\\\\n",
       "\tHonolulu &  0.05025189 &  0.00000000 &  0.5151222  &  0.14237370 & -0.72057669 &  1.00000000\\\\\n",
       "\\end{tabular}\n"
      ],
      "text/markdown": [
       "\n",
       "| <!--/--> | Fairbanks | San Francisco | Chicago | Los Angeles | Seattle | Honolulu | \n",
       "|---|---|---|---|---|---|\n",
       "| Fairbanks |  1.00000000 |  0.07356124 | -0.6918586  | -0.24325462 |  0.38624364 |  0.05025189 | \n",
       "| San Francisco |  0.07356124 |  1.00000000 | -0.3084798  | -0.06947125 | -0.49810768 |  0.00000000 | \n",
       "| Chicago | -0.69185856 | -0.30847978 |  1.0000000  |  0.64005690 | -0.48366537 |  0.51512220 | \n",
       "| Los Angeles | -0.24325462 | -0.06947125 |  0.6400569  |  1.00000000 | -0.04559608 |  0.14237370 | \n",
       "| Seattle |  0.38624364 | -0.49810768 | -0.4836654  | -0.04559608 |  1.00000000 | -0.72057669 | \n",
       "| Honolulu |  0.05025189 |  0.00000000 |  0.5151222  |  0.14237370 | -0.72057669 |  1.00000000 | \n",
       "\n",
       "\n"
      ],
      "text/plain": [
       "              Fairbanks   San Francisco Chicago    Los Angeles Seattle    \n",
       "Fairbanks      1.00000000  0.07356124   -0.6918586 -0.24325462  0.38624364\n",
       "San Francisco  0.07356124  1.00000000   -0.3084798 -0.06947125 -0.49810768\n",
       "Chicago       -0.69185856 -0.30847978    1.0000000  0.64005690 -0.48366537\n",
       "Los Angeles   -0.24325462 -0.06947125    0.6400569  1.00000000 -0.04559608\n",
       "Seattle        0.38624364 -0.49810768   -0.4836654 -0.04559608  1.00000000\n",
       "Honolulu       0.05025189  0.00000000    0.5151222  0.14237370 -0.72057669\n",
       "              Honolulu   \n",
       "Fairbanks      0.05025189\n",
       "San Francisco  0.00000000\n",
       "Chicago        0.51512220\n",
       "Los Angeles    0.14237370\n",
       "Seattle       -0.72057669\n",
       "Honolulu       1.00000000"
      ]
     },
     "metadata": {},
     "output_type": "display_data"
    }
   ],
   "source": [
    "cor(mat_comb)"
   ]
  },
  {
   "cell_type": "markdown",
   "metadata": {
    "slideshow": {
     "slide_type": "slide"
    }
   },
   "source": [
    "## summary"
   ]
  },
  {
   "cell_type": "code",
   "execution_count": 34,
   "metadata": {
    "slideshow": {
     "slide_type": "subslide"
    }
   },
   "outputs": [
    {
     "data": {
      "text/plain": [
       "   Fairbanks    San Francisco    Chicago      Los Angeles      Seattle    \n",
       " Min.   :-3.0   Min.   :16    Min.   : 9.0   Min.   :26.0   Min.   :12.0  \n",
       " 1st Qu.:-1.0   1st Qu.:19    1st Qu.:13.0   1st Qu.:27.0   1st Qu.:16.0  \n",
       " Median :-1.0   Median :22    Median :13.0   Median :28.0   Median :16.0  \n",
       " Mean   :-0.6   Mean   :21    Mean   :12.4   Mean   :28.2   Mean   :15.8  \n",
       " 3rd Qu.: 0.0   3rd Qu.:22    3rd Qu.:13.0   3rd Qu.:29.0   3rd Qu.:17.0  \n",
       " Max.   : 2.0   Max.   :26    Max.   :14.0   Max.   :31.0   Max.   :18.0  \n",
       "    Honolulu   \n",
       " Min.   :32.0  \n",
       " 1st Qu.:32.0  \n",
       " Median :32.0  \n",
       " Mean   :32.4  \n",
       " 3rd Qu.:33.0  \n",
       " Max.   :33.0  "
      ]
     },
     "metadata": {},
     "output_type": "display_data"
    }
   ],
   "source": [
    "summary(mat_comb)"
   ]
  },
  {
   "cell_type": "markdown",
   "metadata": {
    "slideshow": {
     "slide_type": "subslide"
    }
   },
   "source": [
    " Si on veut par ligne, rappelons-nous que nous avons appris à transposer les matrices!"
   ]
  },
  {
   "cell_type": "code",
   "execution_count": 35,
   "metadata": {
    "slideshow": {
     "slide_type": "fragment"
    }
   },
   "outputs": [
    {
     "data": {
      "text/plain": [
       "      3/12            3/13            3/14            3/15      \n",
       " Min.   :-1.00   Min.   : 0.00   Min.   :-1.00   Min.   :-3.00  \n",
       " 1st Qu.:14.00   1st Qu.:14.50   1st Qu.:12.25   1st Qu.:13.75  \n",
       " Median :19.50   Median :16.00   Median :19.50   Median :17.50  \n",
       " Mean   :19.00   Mean   :18.00   Mean   :18.50   Mean   :17.33  \n",
       " 3rd Qu.:28.75   3rd Qu.:25.75   3rd Qu.:27.50   3rd Qu.:25.00  \n",
       " Max.   :32.00   Max.   :33.00   Max.   :33.00   Max.   :32.00  \n",
       "      3/16      \n",
       " Min.   : 2.00  \n",
       " 1st Qu.:11.25  \n",
       " Median :20.00  \n",
       " Mean   :18.17  \n",
       " 3rd Qu.:25.00  \n",
       " Max.   :32.00  "
      ]
     },
     "metadata": {},
     "output_type": "display_data"
    }
   ],
   "source": [
    "summary(t(mat_comb))"
   ]
  },
  {
   "cell_type": "markdown",
   "metadata": {
    "slideshow": {
     "slide_type": "slide"
    }
   },
   "source": [
    "# Générer des variables aléatoires"
   ]
  },
  {
   "cell_type": "markdown",
   "metadata": {
    "slideshow": {
     "slide_type": "subslide"
    }
   },
   "source": [
    "## runif\n",
    "La fonction `runif` permet de générer des pseudo-variables aléatoires indépendantes entre deux bornes\n",
    "`runif(n=combien, min, max)`"
   ]
  },
  {
   "cell_type": "code",
   "execution_count": 40,
   "metadata": {
    "slideshow": {
     "slide_type": "fragment"
    }
   },
   "outputs": [
    {
     "data": {
      "text/html": [
       "3.35023581283167"
      ],
      "text/latex": [
       "3.35023581283167"
      ],
      "text/markdown": [
       "3.35023581283167"
      ],
      "text/plain": [
       "[1] 3.350236"
      ]
     },
     "metadata": {},
     "output_type": "display_data"
    }
   ],
   "source": [
    "runif(1,0,10)"
   ]
  },
  {
   "cell_type": "code",
   "execution_count": 41,
   "metadata": {
    "slideshow": {
     "slide_type": "fragment"
    }
   },
   "outputs": [
    {
     "data": {
      "text/html": [
       "<ol class=list-inline>\n",
       "\t<li>0.762836940586567</li>\n",
       "\t<li>0.604817938059568</li>\n",
       "\t<li>0.0636072147171944</li>\n",
       "\t<li>0.052814619615674</li>\n",
       "\t<li>0.429516698000953</li>\n",
       "\t<li>0.327015534741804</li>\n",
       "\t<li>0.425390120828524</li>\n",
       "\t<li>0.093060856917873</li>\n",
       "\t<li>0.203973314259201</li>\n",
       "\t<li>0.0420023950282484</li>\n",
       "</ol>\n"
      ],
      "text/latex": [
       "\\begin{enumerate*}\n",
       "\\item 0.762836940586567\n",
       "\\item 0.604817938059568\n",
       "\\item 0.0636072147171944\n",
       "\\item 0.052814619615674\n",
       "\\item 0.429516698000953\n",
       "\\item 0.327015534741804\n",
       "\\item 0.425390120828524\n",
       "\\item 0.093060856917873\n",
       "\\item 0.203973314259201\n",
       "\\item 0.0420023950282484\n",
       "\\end{enumerate*}\n"
      ],
      "text/markdown": [
       "1. 0.762836940586567\n",
       "2. 0.604817938059568\n",
       "3. 0.0636072147171944\n",
       "4. 0.052814619615674\n",
       "5. 0.429516698000953\n",
       "6. 0.327015534741804\n",
       "7. 0.425390120828524\n",
       "8. 0.093060856917873\n",
       "9. 0.203973314259201\n",
       "10. 0.0420023950282484\n",
       "\n",
       "\n"
      ],
      "text/plain": [
       " [1] 0.76283694 0.60481794 0.06360721 0.05281462 0.42951670 0.32701553\n",
       " [7] 0.42539012 0.09306086 0.20397331 0.04200240"
      ]
     },
     "metadata": {},
     "output_type": "display_data"
    }
   ],
   "source": [
    "runif(10,0,1)"
   ]
  },
  {
   "cell_type": "markdown",
   "metadata": {
    "slideshow": {
     "slide_type": "subslide"
    }
   },
   "source": [
    "On peut insérer maintenant les valeurs générées à l'intérieur d'un vecteur"
   ]
  },
  {
   "cell_type": "code",
   "execution_count": 44,
   "metadata": {
    "slideshow": {
     "slide_type": "subslide"
    }
   },
   "outputs": [
    {
     "data": {
      "text/html": [
       "<ol class=list-inline>\n",
       "\t<li>0.539611001266167</li>\n",
       "\t<li>0.969200171763077</li>\n",
       "\t<li>0.161860105348751</li>\n",
       "\t<li>0.446521448437124</li>\n",
       "\t<li>0.0071074718143791</li>\n",
       "\t<li>0.963198963319883</li>\n",
       "\t<li>0.579066600417718</li>\n",
       "\t<li>0.165705290157348</li>\n",
       "\t<li>0.594905791571364</li>\n",
       "\t<li>0.375249444739893</li>\n",
       "\t<li>0.437035385984927</li>\n",
       "\t<li>0.98869122331962</li>\n",
       "\t<li>0.446837736526504</li>\n",
       "\t<li>0.547483163885772</li>\n",
       "\t<li>0.0244561785366386</li>\n",
       "\t<li>0.402985491789877</li>\n",
       "\t<li>0.349131921306252</li>\n",
       "\t<li>0.740115433465689</li>\n",
       "\t<li>0.277191531611606</li>\n",
       "\t<li>0.843555369414389</li>\n",
       "\t<li>0.85709911887534</li>\n",
       "\t<li>0.45878880051896</li>\n",
       "\t<li>0.0530683281831443</li>\n",
       "\t<li>0.92775225196965</li>\n",
       "\t<li>0.353458900935948</li>\n",
       "\t<li>0.568380535580218</li>\n",
       "\t<li>0.230667703552172</li>\n",
       "\t<li>0.337636061245576</li>\n",
       "\t<li>0.375225966563448</li>\n",
       "\t<li>0.387821002630517</li>\n",
       "\t<li>0.459963123081252</li>\n",
       "\t<li>0.272585999919102</li>\n",
       "\t<li>0.377333411248401</li>\n",
       "\t<li>0.998247936135158</li>\n",
       "\t<li>0.445947563275695</li>\n",
       "\t<li>0.815888306358829</li>\n",
       "\t<li>0.205926696537063</li>\n",
       "\t<li>0.145684423623607</li>\n",
       "\t<li>0.829736989922822</li>\n",
       "\t<li>0.863744982285425</li>\n",
       "\t<li>0.974668300244957</li>\n",
       "\t<li>0.588302413932979</li>\n",
       "\t<li>0.755799307022244</li>\n",
       "\t<li>0.54972411529161</li>\n",
       "\t<li>0.779031443409622</li>\n",
       "\t<li>0.0310876257717609</li>\n",
       "\t<li>0.412300328025594</li>\n",
       "\t<li>0.566727907396853</li>\n",
       "\t<li>0.498380966950208</li>\n",
       "\t<li>0.709585281088948</li>\n",
       "\t<li>0.915065908571705</li>\n",
       "\t<li>0.78087642788887</li>\n",
       "\t<li>0.178426813567057</li>\n",
       "\t<li>0.639498160919175</li>\n",
       "\t<li>0.439221660373732</li>\n",
       "\t<li>0.797969023464248</li>\n",
       "\t<li>0.70820996677503</li>\n",
       "\t<li>0.21974349534139</li>\n",
       "\t<li>0.38840561453253</li>\n",
       "\t<li>0.33431780571118</li>\n",
       "\t<li>0.125142666976899</li>\n",
       "\t<li>0.205675624776632</li>\n",
       "\t<li>0.305508880876005</li>\n",
       "\t<li>0.686442974256352</li>\n",
       "\t<li>0.864465568447486</li>\n",
       "\t<li>0.608728708233684</li>\n",
       "\t<li>0.288030886324123</li>\n",
       "\t<li>0.158349109115079</li>\n",
       "\t<li>0.323984490707517</li>\n",
       "\t<li>0.389953877544031</li>\n",
       "\t<li>0.180025292327628</li>\n",
       "\t<li>0.644314110744745</li>\n",
       "\t<li>0.414720708504319</li>\n",
       "\t<li>0.986791230970994</li>\n",
       "\t<li>0.340648488840088</li>\n",
       "\t<li>0.574771377490833</li>\n",
       "\t<li>0.933746692258865</li>\n",
       "\t<li>0.227020582649857</li>\n",
       "\t<li>0.105411230353639</li>\n",
       "\t<li>0.695686528459191</li>\n",
       "\t<li>0.632969576399773</li>\n",
       "\t<li>0.820697318995371</li>\n",
       "\t<li>0.438879428664222</li>\n",
       "\t<li>0.0309128267690539</li>\n",
       "\t<li>0.560534957563505</li>\n",
       "\t<li>0.079159309156239</li>\n",
       "\t<li>0.775976540520787</li>\n",
       "\t<li>0.0613414319232106</li>\n",
       "\t<li>0.803953293012455</li>\n",
       "\t<li>0.90822087507695</li>\n",
       "\t<li>0.127778963884339</li>\n",
       "\t<li>0.199427006300539</li>\n",
       "\t<li>0.604085020720959</li>\n",
       "\t<li>0.580892456928268</li>\n",
       "\t<li>0.463377881562337</li>\n",
       "\t<li>0.437255924800411</li>\n",
       "\t<li>0.885360276792198</li>\n",
       "\t<li>0.293950659455732</li>\n",
       "\t<li>0.168015816481784</li>\n",
       "\t<li>0.805729570332915</li>\n",
       "</ol>\n"
      ],
      "text/latex": [
       "\\begin{enumerate*}\n",
       "\\item 0.539611001266167\n",
       "\\item 0.969200171763077\n",
       "\\item 0.161860105348751\n",
       "\\item 0.446521448437124\n",
       "\\item 0.0071074718143791\n",
       "\\item 0.963198963319883\n",
       "\\item 0.579066600417718\n",
       "\\item 0.165705290157348\n",
       "\\item 0.594905791571364\n",
       "\\item 0.375249444739893\n",
       "\\item 0.437035385984927\n",
       "\\item 0.98869122331962\n",
       "\\item 0.446837736526504\n",
       "\\item 0.547483163885772\n",
       "\\item 0.0244561785366386\n",
       "\\item 0.402985491789877\n",
       "\\item 0.349131921306252\n",
       "\\item 0.740115433465689\n",
       "\\item 0.277191531611606\n",
       "\\item 0.843555369414389\n",
       "\\item 0.85709911887534\n",
       "\\item 0.45878880051896\n",
       "\\item 0.0530683281831443\n",
       "\\item 0.92775225196965\n",
       "\\item 0.353458900935948\n",
       "\\item 0.568380535580218\n",
       "\\item 0.230667703552172\n",
       "\\item 0.337636061245576\n",
       "\\item 0.375225966563448\n",
       "\\item 0.387821002630517\n",
       "\\item 0.459963123081252\n",
       "\\item 0.272585999919102\n",
       "\\item 0.377333411248401\n",
       "\\item 0.998247936135158\n",
       "\\item 0.445947563275695\n",
       "\\item 0.815888306358829\n",
       "\\item 0.205926696537063\n",
       "\\item 0.145684423623607\n",
       "\\item 0.829736989922822\n",
       "\\item 0.863744982285425\n",
       "\\item 0.974668300244957\n",
       "\\item 0.588302413932979\n",
       "\\item 0.755799307022244\n",
       "\\item 0.54972411529161\n",
       "\\item 0.779031443409622\n",
       "\\item 0.0310876257717609\n",
       "\\item 0.412300328025594\n",
       "\\item 0.566727907396853\n",
       "\\item 0.498380966950208\n",
       "\\item 0.709585281088948\n",
       "\\item 0.915065908571705\n",
       "\\item 0.78087642788887\n",
       "\\item 0.178426813567057\n",
       "\\item 0.639498160919175\n",
       "\\item 0.439221660373732\n",
       "\\item 0.797969023464248\n",
       "\\item 0.70820996677503\n",
       "\\item 0.21974349534139\n",
       "\\item 0.38840561453253\n",
       "\\item 0.33431780571118\n",
       "\\item 0.125142666976899\n",
       "\\item 0.205675624776632\n",
       "\\item 0.305508880876005\n",
       "\\item 0.686442974256352\n",
       "\\item 0.864465568447486\n",
       "\\item 0.608728708233684\n",
       "\\item 0.288030886324123\n",
       "\\item 0.158349109115079\n",
       "\\item 0.323984490707517\n",
       "\\item 0.389953877544031\n",
       "\\item 0.180025292327628\n",
       "\\item 0.644314110744745\n",
       "\\item 0.414720708504319\n",
       "\\item 0.986791230970994\n",
       "\\item 0.340648488840088\n",
       "\\item 0.574771377490833\n",
       "\\item 0.933746692258865\n",
       "\\item 0.227020582649857\n",
       "\\item 0.105411230353639\n",
       "\\item 0.695686528459191\n",
       "\\item 0.632969576399773\n",
       "\\item 0.820697318995371\n",
       "\\item 0.438879428664222\n",
       "\\item 0.0309128267690539\n",
       "\\item 0.560534957563505\n",
       "\\item 0.079159309156239\n",
       "\\item 0.775976540520787\n",
       "\\item 0.0613414319232106\n",
       "\\item 0.803953293012455\n",
       "\\item 0.90822087507695\n",
       "\\item 0.127778963884339\n",
       "\\item 0.199427006300539\n",
       "\\item 0.604085020720959\n",
       "\\item 0.580892456928268\n",
       "\\item 0.463377881562337\n",
       "\\item 0.437255924800411\n",
       "\\item 0.885360276792198\n",
       "\\item 0.293950659455732\n",
       "\\item 0.168015816481784\n",
       "\\item 0.805729570332915\n",
       "\\end{enumerate*}\n"
      ],
      "text/markdown": [
       "1. 0.539611001266167\n",
       "2. 0.969200171763077\n",
       "3. 0.161860105348751\n",
       "4. 0.446521448437124\n",
       "5. 0.0071074718143791\n",
       "6. 0.963198963319883\n",
       "7. 0.579066600417718\n",
       "8. 0.165705290157348\n",
       "9. 0.594905791571364\n",
       "10. 0.375249444739893\n",
       "11. 0.437035385984927\n",
       "12. 0.98869122331962\n",
       "13. 0.446837736526504\n",
       "14. 0.547483163885772\n",
       "15. 0.0244561785366386\n",
       "16. 0.402985491789877\n",
       "17. 0.349131921306252\n",
       "18. 0.740115433465689\n",
       "19. 0.277191531611606\n",
       "20. 0.843555369414389\n",
       "21. 0.85709911887534\n",
       "22. 0.45878880051896\n",
       "23. 0.0530683281831443\n",
       "24. 0.92775225196965\n",
       "25. 0.353458900935948\n",
       "26. 0.568380535580218\n",
       "27. 0.230667703552172\n",
       "28. 0.337636061245576\n",
       "29. 0.375225966563448\n",
       "30. 0.387821002630517\n",
       "31. 0.459963123081252\n",
       "32. 0.272585999919102\n",
       "33. 0.377333411248401\n",
       "34. 0.998247936135158\n",
       "35. 0.445947563275695\n",
       "36. 0.815888306358829\n",
       "37. 0.205926696537063\n",
       "38. 0.145684423623607\n",
       "39. 0.829736989922822\n",
       "40. 0.863744982285425\n",
       "41. 0.974668300244957\n",
       "42. 0.588302413932979\n",
       "43. 0.755799307022244\n",
       "44. 0.54972411529161\n",
       "45. 0.779031443409622\n",
       "46. 0.0310876257717609\n",
       "47. 0.412300328025594\n",
       "48. 0.566727907396853\n",
       "49. 0.498380966950208\n",
       "50. 0.709585281088948\n",
       "51. 0.915065908571705\n",
       "52. 0.78087642788887\n",
       "53. 0.178426813567057\n",
       "54. 0.639498160919175\n",
       "55. 0.439221660373732\n",
       "56. 0.797969023464248\n",
       "57. 0.70820996677503\n",
       "58. 0.21974349534139\n",
       "59. 0.38840561453253\n",
       "60. 0.33431780571118\n",
       "61. 0.125142666976899\n",
       "62. 0.205675624776632\n",
       "63. 0.305508880876005\n",
       "64. 0.686442974256352\n",
       "65. 0.864465568447486\n",
       "66. 0.608728708233684\n",
       "67. 0.288030886324123\n",
       "68. 0.158349109115079\n",
       "69. 0.323984490707517\n",
       "70. 0.389953877544031\n",
       "71. 0.180025292327628\n",
       "72. 0.644314110744745\n",
       "73. 0.414720708504319\n",
       "74. 0.986791230970994\n",
       "75. 0.340648488840088\n",
       "76. 0.574771377490833\n",
       "77. 0.933746692258865\n",
       "78. 0.227020582649857\n",
       "79. 0.105411230353639\n",
       "80. 0.695686528459191\n",
       "81. 0.632969576399773\n",
       "82. 0.820697318995371\n",
       "83. 0.438879428664222\n",
       "84. 0.0309128267690539\n",
       "85. 0.560534957563505\n",
       "86. 0.079159309156239\n",
       "87. 0.775976540520787\n",
       "88. 0.0613414319232106\n",
       "89. 0.803953293012455\n",
       "90. 0.90822087507695\n",
       "91. 0.127778963884339\n",
       "92. 0.199427006300539\n",
       "93. 0.604085020720959\n",
       "94. 0.580892456928268\n",
       "95. 0.463377881562337\n",
       "96. 0.437255924800411\n",
       "97. 0.885360276792198\n",
       "98. 0.293950659455732\n",
       "99. 0.168015816481784\n",
       "100. 0.805729570332915\n",
       "\n",
       "\n"
      ],
      "text/plain": [
       "  [1] 0.539611001 0.969200172 0.161860105 0.446521448 0.007107472 0.963198963\n",
       "  [7] 0.579066600 0.165705290 0.594905792 0.375249445 0.437035386 0.988691223\n",
       " [13] 0.446837737 0.547483164 0.024456179 0.402985492 0.349131921 0.740115433\n",
       " [19] 0.277191532 0.843555369 0.857099119 0.458788801 0.053068328 0.927752252\n",
       " [25] 0.353458901 0.568380536 0.230667704 0.337636061 0.375225967 0.387821003\n",
       " [31] 0.459963123 0.272586000 0.377333411 0.998247936 0.445947563 0.815888306\n",
       " [37] 0.205926697 0.145684424 0.829736990 0.863744982 0.974668300 0.588302414\n",
       " [43] 0.755799307 0.549724115 0.779031443 0.031087626 0.412300328 0.566727907\n",
       " [49] 0.498380967 0.709585281 0.915065909 0.780876428 0.178426814 0.639498161\n",
       " [55] 0.439221660 0.797969023 0.708209967 0.219743495 0.388405615 0.334317806\n",
       " [61] 0.125142667 0.205675625 0.305508881 0.686442974 0.864465568 0.608728708\n",
       " [67] 0.288030886 0.158349109 0.323984491 0.389953878 0.180025292 0.644314111\n",
       " [73] 0.414720709 0.986791231 0.340648489 0.574771377 0.933746692 0.227020583\n",
       " [79] 0.105411230 0.695686528 0.632969576 0.820697319 0.438879429 0.030912827\n",
       " [85] 0.560534958 0.079159309 0.775976541 0.061341432 0.803953293 0.908220875\n",
       " [91] 0.127778964 0.199427006 0.604085021 0.580892457 0.463377882 0.437255925\n",
       " [97] 0.885360277 0.293950659 0.168015816 0.805729570"
      ]
     },
     "metadata": {},
     "output_type": "display_data"
    }
   ],
   "source": [
    "x<-runif(100,0,1)\n",
    "x"
   ]
  },
  {
   "cell_type": "markdown",
   "metadata": {
    "slideshow": {
     "slide_type": "fragment"
    }
   },
   "source": [
    "Ou les insérer à l'intérieur d'une matrice"
   ]
  },
  {
   "cell_type": "code",
   "execution_count": 45,
   "metadata": {
    "slideshow": {
     "slide_type": "subslide"
    }
   },
   "outputs": [
    {
     "data": {
      "text/html": [
       "<table>\n",
       "<tbody>\n",
       "\t<tr><td>0.539611001</td><td>0.43703539 </td><td>0.85709912 </td><td>0.4599631  </td><td>0.97466830 </td><td>0.9150659  </td><td>0.1251427  </td><td>0.1800253  </td><td>0.63296958 </td><td>0.1277790  </td></tr>\n",
       "\t<tr><td>0.969200172</td><td>0.98869122 </td><td>0.45878880 </td><td>0.2725860  </td><td>0.58830241 </td><td>0.7808764  </td><td>0.2056756  </td><td>0.6443141  </td><td>0.82069732 </td><td>0.1994270  </td></tr>\n",
       "\t<tr><td>0.161860105</td><td>0.44683774 </td><td>0.05306833 </td><td>0.3773334  </td><td>0.75579931 </td><td>0.1784268  </td><td>0.3055089  </td><td>0.4147207  </td><td>0.43887943 </td><td>0.6040850  </td></tr>\n",
       "\t<tr><td>0.446521448</td><td>0.54748316 </td><td>0.92775225 </td><td>0.9982479  </td><td>0.54972412 </td><td>0.6394982  </td><td>0.6864430  </td><td>0.9867912  </td><td>0.03091283 </td><td>0.5808925  </td></tr>\n",
       "\t<tr><td>0.007107472</td><td>0.02445618 </td><td>0.35345890 </td><td>0.4459476  </td><td>0.77903144 </td><td>0.4392217  </td><td>0.8644656  </td><td>0.3406485  </td><td>0.56053496 </td><td>0.4633779  </td></tr>\n",
       "\t<tr><td>0.963198963</td><td>0.40298549 </td><td>0.56838054 </td><td>0.8158883  </td><td>0.03108763 </td><td>0.7979690  </td><td>0.6087287  </td><td>0.5747714  </td><td>0.07915931 </td><td>0.4372559  </td></tr>\n",
       "\t<tr><td>0.579066600</td><td>0.34913192 </td><td>0.23066770 </td><td>0.2059267  </td><td>0.41230033 </td><td>0.7082100  </td><td>0.2880309  </td><td>0.9337467  </td><td>0.77597654 </td><td>0.8853603  </td></tr>\n",
       "\t<tr><td>0.165705290</td><td>0.74011543 </td><td>0.33763606 </td><td>0.1456844  </td><td>0.56672791 </td><td>0.2197435  </td><td>0.1583491  </td><td>0.2270206  </td><td>0.06134143 </td><td>0.2939507  </td></tr>\n",
       "\t<tr><td>0.594905792</td><td>0.27719153 </td><td>0.37522597 </td><td>0.8297370  </td><td>0.49838097 </td><td>0.3884056  </td><td>0.3239845  </td><td>0.1054112  </td><td>0.80395329 </td><td>0.1680158  </td></tr>\n",
       "\t<tr><td>0.375249445</td><td>0.84355537 </td><td>0.38782100 </td><td>0.8637450  </td><td>0.70958528 </td><td>0.3343178  </td><td>0.3899539  </td><td>0.6956865  </td><td>0.90822088 </td><td>0.8057296  </td></tr>\n",
       "</tbody>\n",
       "</table>\n"
      ],
      "text/latex": [
       "\\begin{tabular}{llllllllll}\n",
       "\t 0.539611001 & 0.43703539  & 0.85709912  & 0.4599631   & 0.97466830  & 0.9150659   & 0.1251427   & 0.1800253   & 0.63296958  & 0.1277790  \\\\\n",
       "\t 0.969200172 & 0.98869122  & 0.45878880  & 0.2725860   & 0.58830241  & 0.7808764   & 0.2056756   & 0.6443141   & 0.82069732  & 0.1994270  \\\\\n",
       "\t 0.161860105 & 0.44683774  & 0.05306833  & 0.3773334   & 0.75579931  & 0.1784268   & 0.3055089   & 0.4147207   & 0.43887943  & 0.6040850  \\\\\n",
       "\t 0.446521448 & 0.54748316  & 0.92775225  & 0.9982479   & 0.54972412  & 0.6394982   & 0.6864430   & 0.9867912   & 0.03091283  & 0.5808925  \\\\\n",
       "\t 0.007107472 & 0.02445618  & 0.35345890  & 0.4459476   & 0.77903144  & 0.4392217   & 0.8644656   & 0.3406485   & 0.56053496  & 0.4633779  \\\\\n",
       "\t 0.963198963 & 0.40298549  & 0.56838054  & 0.8158883   & 0.03108763  & 0.7979690   & 0.6087287   & 0.5747714   & 0.07915931  & 0.4372559  \\\\\n",
       "\t 0.579066600 & 0.34913192  & 0.23066770  & 0.2059267   & 0.41230033  & 0.7082100   & 0.2880309   & 0.9337467   & 0.77597654  & 0.8853603  \\\\\n",
       "\t 0.165705290 & 0.74011543  & 0.33763606  & 0.1456844   & 0.56672791  & 0.2197435   & 0.1583491   & 0.2270206   & 0.06134143  & 0.2939507  \\\\\n",
       "\t 0.594905792 & 0.27719153  & 0.37522597  & 0.8297370   & 0.49838097  & 0.3884056   & 0.3239845   & 0.1054112   & 0.80395329  & 0.1680158  \\\\\n",
       "\t 0.375249445 & 0.84355537  & 0.38782100  & 0.8637450   & 0.70958528  & 0.3343178   & 0.3899539   & 0.6956865   & 0.90822088  & 0.8057296  \\\\\n",
       "\\end{tabular}\n"
      ],
      "text/markdown": [
       "\n",
       "| 0.539611001 | 0.43703539  | 0.85709912  | 0.4599631   | 0.97466830  | 0.9150659   | 0.1251427   | 0.1800253   | 0.63296958  | 0.1277790   | \n",
       "| 0.969200172 | 0.98869122  | 0.45878880  | 0.2725860   | 0.58830241  | 0.7808764   | 0.2056756   | 0.6443141   | 0.82069732  | 0.1994270   | \n",
       "| 0.161860105 | 0.44683774  | 0.05306833  | 0.3773334   | 0.75579931  | 0.1784268   | 0.3055089   | 0.4147207   | 0.43887943  | 0.6040850   | \n",
       "| 0.446521448 | 0.54748316  | 0.92775225  | 0.9982479   | 0.54972412  | 0.6394982   | 0.6864430   | 0.9867912   | 0.03091283  | 0.5808925   | \n",
       "| 0.007107472 | 0.02445618  | 0.35345890  | 0.4459476   | 0.77903144  | 0.4392217   | 0.8644656   | 0.3406485   | 0.56053496  | 0.4633779   | \n",
       "| 0.963198963 | 0.40298549  | 0.56838054  | 0.8158883   | 0.03108763  | 0.7979690   | 0.6087287   | 0.5747714   | 0.07915931  | 0.4372559   | \n",
       "| 0.579066600 | 0.34913192  | 0.23066770  | 0.2059267   | 0.41230033  | 0.7082100   | 0.2880309   | 0.9337467   | 0.77597654  | 0.8853603   | \n",
       "| 0.165705290 | 0.74011543  | 0.33763606  | 0.1456844   | 0.56672791  | 0.2197435   | 0.1583491   | 0.2270206   | 0.06134143  | 0.2939507   | \n",
       "| 0.594905792 | 0.27719153  | 0.37522597  | 0.8297370   | 0.49838097  | 0.3884056   | 0.3239845   | 0.1054112   | 0.80395329  | 0.1680158   | \n",
       "| 0.375249445 | 0.84355537  | 0.38782100  | 0.8637450   | 0.70958528  | 0.3343178   | 0.3899539   | 0.6956865   | 0.90822088  | 0.8057296   | \n",
       "\n",
       "\n"
      ],
      "text/plain": [
       "      [,1]        [,2]       [,3]       [,4]      [,5]       [,6]     \n",
       " [1,] 0.539611001 0.43703539 0.85709912 0.4599631 0.97466830 0.9150659\n",
       " [2,] 0.969200172 0.98869122 0.45878880 0.2725860 0.58830241 0.7808764\n",
       " [3,] 0.161860105 0.44683774 0.05306833 0.3773334 0.75579931 0.1784268\n",
       " [4,] 0.446521448 0.54748316 0.92775225 0.9982479 0.54972412 0.6394982\n",
       " [5,] 0.007107472 0.02445618 0.35345890 0.4459476 0.77903144 0.4392217\n",
       " [6,] 0.963198963 0.40298549 0.56838054 0.8158883 0.03108763 0.7979690\n",
       " [7,] 0.579066600 0.34913192 0.23066770 0.2059267 0.41230033 0.7082100\n",
       " [8,] 0.165705290 0.74011543 0.33763606 0.1456844 0.56672791 0.2197435\n",
       " [9,] 0.594905792 0.27719153 0.37522597 0.8297370 0.49838097 0.3884056\n",
       "[10,] 0.375249445 0.84355537 0.38782100 0.8637450 0.70958528 0.3343178\n",
       "      [,7]      [,8]      [,9]       [,10]    \n",
       " [1,] 0.1251427 0.1800253 0.63296958 0.1277790\n",
       " [2,] 0.2056756 0.6443141 0.82069732 0.1994270\n",
       " [3,] 0.3055089 0.4147207 0.43887943 0.6040850\n",
       " [4,] 0.6864430 0.9867912 0.03091283 0.5808925\n",
       " [5,] 0.8644656 0.3406485 0.56053496 0.4633779\n",
       " [6,] 0.6087287 0.5747714 0.07915931 0.4372559\n",
       " [7,] 0.2880309 0.9337467 0.77597654 0.8853603\n",
       " [8,] 0.1583491 0.2270206 0.06134143 0.2939507\n",
       " [9,] 0.3239845 0.1054112 0.80395329 0.1680158\n",
       "[10,] 0.3899539 0.6956865 0.90822088 0.8057296"
      ]
     },
     "metadata": {},
     "output_type": "display_data"
    }
   ],
   "source": [
    "x<-matrix(x, 10)\n",
    "x"
   ]
  },
  {
   "cell_type": "markdown",
   "metadata": {
    "slideshow": {
     "slide_type": "subslide"
    }
   },
   "source": [
    "Nous avons maintenant obtenu une matrice de dimension 10X10"
   ]
  },
  {
   "cell_type": "markdown",
   "metadata": {
    "slideshow": {
     "slide_type": "slide"
    }
   },
   "source": [
    "## Seed"
   ]
  },
  {
   "cell_type": "markdown",
   "metadata": {
    "slideshow": {
     "slide_type": "subslide"
    }
   },
   "source": [
    "Comme dans SAS, nous avons appris comment générer les mêmes variables aléatoires dans un contexte de cumulation par exemple, avec la fonction seed"
   ]
  },
  {
   "cell_type": "code",
   "execution_count": 151,
   "metadata": {
    "collapsed": true,
    "slideshow": {
     "slide_type": "fragment"
    }
   },
   "outputs": [],
   "source": [
    "set.seed(2)"
   ]
  },
  {
   "cell_type": "code",
   "execution_count": 152,
   "metadata": {
    "slideshow": {
     "slide_type": "fragment"
    }
   },
   "outputs": [
    {
     "data": {
      "text/html": [
       "<ol class=list-inline>\n",
       "\t<li>0.18488225992769</li>\n",
       "\t<li>0.702374035958201</li>\n",
       "</ol>\n"
      ],
      "text/latex": [
       "\\begin{enumerate*}\n",
       "\\item 0.18488225992769\n",
       "\\item 0.702374035958201\n",
       "\\end{enumerate*}\n"
      ],
      "text/markdown": [
       "1. 0.18488225992769\n",
       "2. 0.702374035958201\n",
       "\n",
       "\n"
      ],
      "text/plain": [
       "[1] 0.1848823 0.7023740"
      ]
     },
     "metadata": {},
     "output_type": "display_data"
    }
   ],
   "source": [
    "runif(2,0,1) "
   ]
  },
  {
   "cell_type": "code",
   "execution_count": 153,
   "metadata": {
    "slideshow": {
     "slide_type": "fragment"
    }
   },
   "outputs": [
    {
     "data": {
      "text/html": [
       "<ol class=list-inline>\n",
       "\t<li>0.573326334822923</li>\n",
       "\t<li>0.168051920365542</li>\n",
       "</ol>\n"
      ],
      "text/latex": [
       "\\begin{enumerate*}\n",
       "\\item 0.573326334822923\n",
       "\\item 0.168051920365542\n",
       "\\end{enumerate*}\n"
      ],
      "text/markdown": [
       "1. 0.573326334822923\n",
       "2. 0.168051920365542\n",
       "\n",
       "\n"
      ],
      "text/plain": [
       "[1] 0.5733263 0.1680519"
      ]
     },
     "metadata": {},
     "output_type": "display_data"
    }
   ],
   "source": [
    "runif(2,0,1) "
   ]
  },
  {
   "cell_type": "code",
   "execution_count": 154,
   "metadata": {
    "slideshow": {
     "slide_type": "fragment"
    }
   },
   "outputs": [
    {
     "data": {
      "text/html": [
       "<ol class=list-inline>\n",
       "\t<li>0.943839338840917</li>\n",
       "\t<li>0.943474958650768</li>\n",
       "</ol>\n"
      ],
      "text/latex": [
       "\\begin{enumerate*}\n",
       "\\item 0.943839338840917\n",
       "\\item 0.943474958650768\n",
       "\\end{enumerate*}\n"
      ],
      "text/markdown": [
       "1. 0.943839338840917\n",
       "2. 0.943474958650768\n",
       "\n",
       "\n"
      ],
      "text/plain": [
       "[1] 0.9438393 0.9434750"
      ]
     },
     "metadata": {},
     "output_type": "display_data"
    }
   ],
   "source": [
    "runif(2,0,1) "
   ]
  },
  {
   "cell_type": "markdown",
   "metadata": {
    "slideshow": {
     "slide_type": "subslide"
    }
   },
   "source": [
    "Si on remet le seed=2, on obtient alors les mêmes valeurs que nous avons obtenues auparavant"
   ]
  },
  {
   "cell_type": "code",
   "execution_count": 159,
   "metadata": {
    "collapsed": true,
    "slideshow": {
     "slide_type": "fragment"
    }
   },
   "outputs": [],
   "source": [
    "set.seed(2)"
   ]
  },
  {
   "cell_type": "code",
   "execution_count": 160,
   "metadata": {
    "slideshow": {
     "slide_type": "subslide"
    }
   },
   "outputs": [
    {
     "data": {
      "text/html": [
       "<ol class=list-inline>\n",
       "\t<li>0.18488225992769</li>\n",
       "\t<li>0.702374035958201</li>\n",
       "</ol>\n"
      ],
      "text/latex": [
       "\\begin{enumerate*}\n",
       "\\item 0.18488225992769\n",
       "\\item 0.702374035958201\n",
       "\\end{enumerate*}\n"
      ],
      "text/markdown": [
       "1. 0.18488225992769\n",
       "2. 0.702374035958201\n",
       "\n",
       "\n"
      ],
      "text/plain": [
       "[1] 0.1848823 0.7023740"
      ]
     },
     "metadata": {},
     "output_type": "display_data"
    }
   ],
   "source": [
    "runif(2,0,1) "
   ]
  },
  {
   "cell_type": "code",
   "execution_count": 161,
   "metadata": {
    "slideshow": {
     "slide_type": "fragment"
    }
   },
   "outputs": [
    {
     "data": {
      "text/html": [
       "<ol class=list-inline>\n",
       "\t<li>0.573326334822923</li>\n",
       "\t<li>0.168051920365542</li>\n",
       "</ol>\n"
      ],
      "text/latex": [
       "\\begin{enumerate*}\n",
       "\\item 0.573326334822923\n",
       "\\item 0.168051920365542\n",
       "\\end{enumerate*}\n"
      ],
      "text/markdown": [
       "1. 0.573326334822923\n",
       "2. 0.168051920365542\n",
       "\n",
       "\n"
      ],
      "text/plain": [
       "[1] 0.5733263 0.1680519"
      ]
     },
     "metadata": {},
     "output_type": "display_data"
    }
   ],
   "source": [
    "runif(2,0,1) "
   ]
  },
  {
   "cell_type": "code",
   "execution_count": 162,
   "metadata": {
    "slideshow": {
     "slide_type": "fragment"
    }
   },
   "outputs": [
    {
     "data": {
      "text/html": [
       "<ol class=list-inline>\n",
       "\t<li>0.943839338840917</li>\n",
       "\t<li>0.943474958650768</li>\n",
       "</ol>\n"
      ],
      "text/latex": [
       "\\begin{enumerate*}\n",
       "\\item 0.943839338840917\n",
       "\\item 0.943474958650768\n",
       "\\end{enumerate*}\n"
      ],
      "text/markdown": [
       "1. 0.943839338840917\n",
       "2. 0.943474958650768\n",
       "\n",
       "\n"
      ],
      "text/plain": [
       "[1] 0.9438393 0.9434750"
      ]
     },
     "metadata": {},
     "output_type": "display_data"
    }
   ],
   "source": [
    "runif(2,0,1) "
   ]
  },
  {
   "cell_type": "markdown",
   "metadata": {
    "slideshow": {
     "slide_type": "slide"
    }
   },
   "source": [
    "## Sample (échantillonage)"
   ]
  },
  {
   "cell_type": "markdown",
   "metadata": {
    "slideshow": {
     "slide_type": "subslide"
    }
   },
   "source": [
    "La fonction `sample` tire un échantillon aléatoire de $n$ variables à partir d'un ensemble de données allant de $\\left\\{1, \\dots ,N\\right\\}$"
   ]
  },
  {
   "cell_type": "code",
   "execution_count": 168,
   "metadata": {
    "slideshow": {
     "slide_type": "fragment"
    }
   },
   "outputs": [
    {
     "data": {
      "text/html": [
       "<ol class=list-inline>\n",
       "\t<li>2</li>\n",
       "\t<li>8</li>\n",
       "\t<li>7</li>\n",
       "\t<li>4</li>\n",
       "\t<li>9</li>\n",
       "</ol>\n"
      ],
      "text/latex": [
       "\\begin{enumerate*}\n",
       "\\item 2\n",
       "\\item 8\n",
       "\\item 7\n",
       "\\item 4\n",
       "\\item 9\n",
       "\\end{enumerate*}\n"
      ],
      "text/markdown": [
       "1. 2\n",
       "2. 8\n",
       "3. 7\n",
       "4. 4\n",
       "5. 9\n",
       "\n",
       "\n"
      ],
      "text/plain": [
       "[1] 2 8 7 4 9"
      ]
     },
     "metadata": {},
     "output_type": "display_data"
    }
   ],
   "source": [
    "sample(1:10,5)"
   ]
  },
  {
   "cell_type": "code",
   "execution_count": 169,
   "metadata": {
    "slideshow": {
     "slide_type": "fragment"
    }
   },
   "outputs": [
    {
     "data": {
      "text/html": [
       "<ol class=list-inline>\n",
       "\t<li>0.467615901259705</li>\n",
       "\t<li>0.585986070567742</li>\n",
       "\t<li>0.318405627040192</li>\n",
       "\t<li>0.117259352467954</li>\n",
       "\t<li>0.808955513406545</li>\n",
       "</ol>\n"
      ],
      "text/latex": [
       "\\begin{enumerate*}\n",
       "\\item 0.467615901259705\n",
       "\\item 0.585986070567742\n",
       "\\item 0.318405627040192\n",
       "\\item 0.117259352467954\n",
       "\\item 0.808955513406545\n",
       "\\end{enumerate*}\n"
      ],
      "text/markdown": [
       "1. 0.467615901259705\n",
       "2. 0.585986070567742\n",
       "3. 0.318405627040192\n",
       "4. 0.117259352467954\n",
       "5. 0.808955513406545\n",
       "\n",
       "\n"
      ],
      "text/plain": [
       "[1] 0.4676159 0.5859861 0.3184056 0.1172594 0.8089555"
      ]
     },
     "metadata": {},
     "output_type": "display_data"
    }
   ],
   "source": [
    "sample(x,5)"
   ]
  },
  {
   "cell_type": "code",
   "execution_count": 170,
   "metadata": {
    "slideshow": {
     "slide_type": "fragment"
    }
   },
   "outputs": [
    {
     "data": {
      "text/html": [
       "<ol class=list-inline>\n",
       "\t<li>0.0845668376423419</li>\n",
       "\t<li>0.693119892384857</li>\n",
       "\t<li>0.849038900341839</li>\n",
       "\t<li>0.410260857315734</li>\n",
       "\t<li>0.884574939031154</li>\n",
       "</ol>\n"
      ],
      "text/latex": [
       "\\begin{enumerate*}\n",
       "\\item 0.0845668376423419\n",
       "\\item 0.693119892384857\n",
       "\\item 0.849038900341839\n",
       "\\item 0.410260857315734\n",
       "\\item 0.884574939031154\n",
       "\\end{enumerate*}\n"
      ],
      "text/markdown": [
       "1. 0.0845668376423419\n",
       "2. 0.693119892384857\n",
       "3. 0.849038900341839\n",
       "4. 0.410260857315734\n",
       "5. 0.884574939031154\n",
       "\n",
       "\n"
      ],
      "text/plain": [
       "[1] 0.08456684 0.69311989 0.84903890 0.41026086 0.88457494"
      ]
     },
     "metadata": {},
     "output_type": "display_data"
    }
   ],
   "source": [
    "sample(x,5)"
   ]
  },
  {
   "cell_type": "markdown",
   "metadata": {
    "slideshow": {
     "slide_type": "subslide"
    }
   },
   "source": [
    "$n\\leq N$"
   ]
  },
  {
   "cell_type": "code",
   "execution_count": 172,
   "metadata": {
    "scrolled": true,
    "slideshow": {
     "slide_type": "fragment"
    }
   },
   "outputs": [
    {
     "ename": "ERROR",
     "evalue": "Error in sample.int(length(x), size, replace, prob): cannot take a sample larger than the population when 'replace = FALSE'\n",
     "output_type": "error",
     "traceback": [
      "Error in sample.int(length(x), size, replace, prob): cannot take a sample larger than the population when 'replace = FALSE'\nTraceback:\n",
      "1. sample(x, length(x) + 1)",
      "2. sample.int(length(x), size, replace, prob)"
     ]
    }
   ],
   "source": [
    "sample(x,length(x)+1)"
   ]
  },
  {
   "cell_type": "markdown",
   "metadata": {
    "slideshow": {
     "slide_type": "subslide"
    }
   },
   "source": [
    "Lorsque notre échantillon tiré est plus grand que notre ensemble de données, on peut utiliser un tirage avec remise:"
   ]
  },
  {
   "cell_type": "code",
   "execution_count": 175,
   "metadata": {
    "slideshow": {
     "slide_type": "subslide"
    }
   },
   "outputs": [
    {
     "data": {
      "text/html": [
       "<ol class=list-inline>\n",
       "\t<li>1</li>\n",
       "\t<li>0</li>\n",
       "\t<li>0</li>\n",
       "\t<li>0</li>\n",
       "\t<li>0</li>\n",
       "\t<li>0</li>\n",
       "\t<li>1</li>\n",
       "\t<li>0</li>\n",
       "\t<li>1</li>\n",
       "\t<li>0</li>\n",
       "\t<li>1</li>\n",
       "\t<li>0</li>\n",
       "\t<li>0</li>\n",
       "\t<li>0</li>\n",
       "\t<li>1</li>\n",
       "\t<li>1</li>\n",
       "\t<li>0</li>\n",
       "\t<li>1</li>\n",
       "\t<li>0</li>\n",
       "\t<li>1</li>\n",
       "\t<li>0</li>\n",
       "\t<li>1</li>\n",
       "\t<li>0</li>\n",
       "\t<li>1</li>\n",
       "\t<li>1</li>\n",
       "\t<li>0</li>\n",
       "\t<li>0</li>\n",
       "\t<li>1</li>\n",
       "\t<li>0</li>\n",
       "\t<li>1</li>\n",
       "\t<li>0</li>\n",
       "\t<li>0</li>\n",
       "\t<li>1</li>\n",
       "\t<li>1</li>\n",
       "\t<li>1</li>\n",
       "\t<li>1</li>\n",
       "\t<li>1</li>\n",
       "\t<li>1</li>\n",
       "\t<li>0</li>\n",
       "\t<li>1</li>\n",
       "\t<li>0</li>\n",
       "\t<li>1</li>\n",
       "\t<li>0</li>\n",
       "\t<li>0</li>\n",
       "\t<li>0</li>\n",
       "\t<li>0</li>\n",
       "\t<li>1</li>\n",
       "\t<li>0</li>\n",
       "\t<li>1</li>\n",
       "\t<li>0</li>\n",
       "\t<li>0</li>\n",
       "\t<li>0</li>\n",
       "\t<li>0</li>\n",
       "\t<li>0</li>\n",
       "\t<li>1</li>\n",
       "\t<li>1</li>\n",
       "\t<li>1</li>\n",
       "\t<li>1</li>\n",
       "\t<li>0</li>\n",
       "\t<li>1</li>\n",
       "\t<li>0</li>\n",
       "\t<li>0</li>\n",
       "\t<li>0</li>\n",
       "\t<li>0</li>\n",
       "\t<li>1</li>\n",
       "\t<li>1</li>\n",
       "\t<li>1</li>\n",
       "\t<li>1</li>\n",
       "\t<li>1</li>\n",
       "\t<li>0</li>\n",
       "\t<li>0</li>\n",
       "\t<li>0</li>\n",
       "\t<li>0</li>\n",
       "\t<li>0</li>\n",
       "\t<li>0</li>\n",
       "\t<li>1</li>\n",
       "\t<li>0</li>\n",
       "\t<li>0</li>\n",
       "\t<li>1</li>\n",
       "\t<li>1</li>\n",
       "\t<li>1</li>\n",
       "\t<li>0</li>\n",
       "\t<li>1</li>\n",
       "\t<li>1</li>\n",
       "\t<li>1</li>\n",
       "\t<li>0</li>\n",
       "\t<li>1</li>\n",
       "\t<li>1</li>\n",
       "\t<li>1</li>\n",
       "\t<li>0</li>\n",
       "\t<li>1</li>\n",
       "\t<li>0</li>\n",
       "\t<li>0</li>\n",
       "\t<li>0</li>\n",
       "\t<li>1</li>\n",
       "\t<li>0</li>\n",
       "\t<li>1</li>\n",
       "\t<li>1</li>\n",
       "\t<li>1</li>\n",
       "\t<li>1</li>\n",
       "</ol>\n"
      ],
      "text/latex": [
       "\\begin{enumerate*}\n",
       "\\item 1\n",
       "\\item 0\n",
       "\\item 0\n",
       "\\item 0\n",
       "\\item 0\n",
       "\\item 0\n",
       "\\item 1\n",
       "\\item 0\n",
       "\\item 1\n",
       "\\item 0\n",
       "\\item 1\n",
       "\\item 0\n",
       "\\item 0\n",
       "\\item 0\n",
       "\\item 1\n",
       "\\item 1\n",
       "\\item 0\n",
       "\\item 1\n",
       "\\item 0\n",
       "\\item 1\n",
       "\\item 0\n",
       "\\item 1\n",
       "\\item 0\n",
       "\\item 1\n",
       "\\item 1\n",
       "\\item 0\n",
       "\\item 0\n",
       "\\item 1\n",
       "\\item 0\n",
       "\\item 1\n",
       "\\item 0\n",
       "\\item 0\n",
       "\\item 1\n",
       "\\item 1\n",
       "\\item 1\n",
       "\\item 1\n",
       "\\item 1\n",
       "\\item 1\n",
       "\\item 0\n",
       "\\item 1\n",
       "\\item 0\n",
       "\\item 1\n",
       "\\item 0\n",
       "\\item 0\n",
       "\\item 0\n",
       "\\item 0\n",
       "\\item 1\n",
       "\\item 0\n",
       "\\item 1\n",
       "\\item 0\n",
       "\\item 0\n",
       "\\item 0\n",
       "\\item 0\n",
       "\\item 0\n",
       "\\item 1\n",
       "\\item 1\n",
       "\\item 1\n",
       "\\item 1\n",
       "\\item 0\n",
       "\\item 1\n",
       "\\item 0\n",
       "\\item 0\n",
       "\\item 0\n",
       "\\item 0\n",
       "\\item 1\n",
       "\\item 1\n",
       "\\item 1\n",
       "\\item 1\n",
       "\\item 1\n",
       "\\item 0\n",
       "\\item 0\n",
       "\\item 0\n",
       "\\item 0\n",
       "\\item 0\n",
       "\\item 0\n",
       "\\item 1\n",
       "\\item 0\n",
       "\\item 0\n",
       "\\item 1\n",
       "\\item 1\n",
       "\\item 1\n",
       "\\item 0\n",
       "\\item 1\n",
       "\\item 1\n",
       "\\item 1\n",
       "\\item 0\n",
       "\\item 1\n",
       "\\item 1\n",
       "\\item 1\n",
       "\\item 0\n",
       "\\item 1\n",
       "\\item 0\n",
       "\\item 0\n",
       "\\item 0\n",
       "\\item 1\n",
       "\\item 0\n",
       "\\item 1\n",
       "\\item 1\n",
       "\\item 1\n",
       "\\item 1\n",
       "\\end{enumerate*}\n"
      ],
      "text/markdown": [
       "1. 1\n",
       "2. 0\n",
       "3. 0\n",
       "4. 0\n",
       "5. 0\n",
       "6. 0\n",
       "7. 1\n",
       "8. 0\n",
       "9. 1\n",
       "10. 0\n",
       "11. 1\n",
       "12. 0\n",
       "13. 0\n",
       "14. 0\n",
       "15. 1\n",
       "16. 1\n",
       "17. 0\n",
       "18. 1\n",
       "19. 0\n",
       "20. 1\n",
       "21. 0\n",
       "22. 1\n",
       "23. 0\n",
       "24. 1\n",
       "25. 1\n",
       "26. 0\n",
       "27. 0\n",
       "28. 1\n",
       "29. 0\n",
       "30. 1\n",
       "31. 0\n",
       "32. 0\n",
       "33. 1\n",
       "34. 1\n",
       "35. 1\n",
       "36. 1\n",
       "37. 1\n",
       "38. 1\n",
       "39. 0\n",
       "40. 1\n",
       "41. 0\n",
       "42. 1\n",
       "43. 0\n",
       "44. 0\n",
       "45. 0\n",
       "46. 0\n",
       "47. 1\n",
       "48. 0\n",
       "49. 1\n",
       "50. 0\n",
       "51. 0\n",
       "52. 0\n",
       "53. 0\n",
       "54. 0\n",
       "55. 1\n",
       "56. 1\n",
       "57. 1\n",
       "58. 1\n",
       "59. 0\n",
       "60. 1\n",
       "61. 0\n",
       "62. 0\n",
       "63. 0\n",
       "64. 0\n",
       "65. 1\n",
       "66. 1\n",
       "67. 1\n",
       "68. 1\n",
       "69. 1\n",
       "70. 0\n",
       "71. 0\n",
       "72. 0\n",
       "73. 0\n",
       "74. 0\n",
       "75. 0\n",
       "76. 1\n",
       "77. 0\n",
       "78. 0\n",
       "79. 1\n",
       "80. 1\n",
       "81. 1\n",
       "82. 0\n",
       "83. 1\n",
       "84. 1\n",
       "85. 1\n",
       "86. 0\n",
       "87. 1\n",
       "88. 1\n",
       "89. 1\n",
       "90. 0\n",
       "91. 1\n",
       "92. 0\n",
       "93. 0\n",
       "94. 0\n",
       "95. 1\n",
       "96. 0\n",
       "97. 1\n",
       "98. 1\n",
       "99. 1\n",
       "100. 1\n",
       "\n",
       "\n"
      ],
      "text/plain": [
       "  [1] 1 0 0 0 0 0 1 0 1 0 1 0 0 0 1 1 0 1 0 1 0 1 0 1 1 0 0 1 0 1 0 0 1 1 1 1 1\n",
       " [38] 1 0 1 0 1 0 0 0 0 1 0 1 0 0 0 0 0 1 1 1 1 0 1 0 0 0 0 1 1 1 1 1 0 0 0 0 0\n",
       " [75] 0 1 0 0 1 1 1 0 1 1 1 0 1 1 1 0 1 0 0 0 1 0 1 1 1 1"
      ]
     },
     "metadata": {},
     "output_type": "display_data"
    }
   ],
   "source": [
    "sample(0:1, 100, replace = T)"
   ]
  },
  {
   "cell_type": "markdown",
   "metadata": {
    "slideshow": {
     "slide_type": "subslide"
    }
   },
   "source": [
    "Cette fonction fonctionne aussi sur un tirage de variable de type caractères"
   ]
  },
  {
   "cell_type": "code",
   "execution_count": 176,
   "metadata": {
    "slideshow": {
     "slide_type": "fragment"
    }
   },
   "outputs": [
    {
     "data": {
      "text/html": [
       "<ol class=list-inline>\n",
       "\t<li>'Kentucky'</li>\n",
       "\t<li>'Montana'</li>\n",
       "\t<li>'Delaware'</li>\n",
       "\t<li>'Wyoming'</li>\n",
       "\t<li>'North Carolina'</li>\n",
       "</ol>\n"
      ],
      "text/latex": [
       "\\begin{enumerate*}\n",
       "\\item 'Kentucky'\n",
       "\\item 'Montana'\n",
       "\\item 'Delaware'\n",
       "\\item 'Wyoming'\n",
       "\\item 'North Carolina'\n",
       "\\end{enumerate*}\n"
      ],
      "text/markdown": [
       "1. 'Kentucky'\n",
       "2. 'Montana'\n",
       "3. 'Delaware'\n",
       "4. 'Wyoming'\n",
       "5. 'North Carolina'\n",
       "\n",
       "\n"
      ],
      "text/plain": [
       "[1] \"Kentucky\"       \"Montana\"        \"Delaware\"       \"Wyoming\"       \n",
       "[5] \"North Carolina\""
      ]
     },
     "metadata": {},
     "output_type": "display_data"
    }
   ],
   "source": [
    "sample(state.name, 5)"
   ]
  },
  {
   "cell_type": "markdown",
   "metadata": {
    "slideshow": {
     "slide_type": "subslide"
    }
   },
   "source": [
    "La fonction `sample` donne des probabilités égales à tous les éléments tirés d'un ensemble de données. Toutesfois, il est possible de préciser la probabilité de chaque élément tiré."
   ]
  },
  {
   "cell_type": "code",
   "execution_count": 1,
   "metadata": {
    "slideshow": {
     "slide_type": "subslide"
    }
   },
   "outputs": [
    {
     "data": {
      "text/html": [
       "<ol class=list-inline>\n",
       "\t<li>5</li>\n",
       "\t<li>4</li>\n",
       "\t<li>4</li>\n",
       "\t<li>5</li>\n",
       "\t<li>1</li>\n",
       "\t<li>1</li>\n",
       "\t<li>1</li>\n",
       "\t<li>1</li>\n",
       "\t<li>5</li>\n",
       "\t<li>1</li>\n",
       "\t<li>1</li>\n",
       "\t<li>1</li>\n",
       "\t<li>1</li>\n",
       "\t<li>3</li>\n",
       "\t<li>5</li>\n",
       "\t<li>2</li>\n",
       "\t<li>5</li>\n",
       "\t<li>4</li>\n",
       "\t<li>1</li>\n",
       "\t<li>3</li>\n",
       "\t<li>3</li>\n",
       "\t<li>5</li>\n",
       "\t<li>4</li>\n",
       "\t<li>2</li>\n",
       "\t<li>3</li>\n",
       "\t<li>4</li>\n",
       "\t<li>4</li>\n",
       "\t<li>5</li>\n",
       "\t<li>2</li>\n",
       "\t<li>4</li>\n",
       "\t<li>5</li>\n",
       "\t<li>2</li>\n",
       "\t<li>4</li>\n",
       "\t<li>3</li>\n",
       "\t<li>1</li>\n",
       "\t<li>5</li>\n",
       "\t<li>5</li>\n",
       "\t<li>3</li>\n",
       "\t<li>5</li>\n",
       "\t<li>5</li>\n",
       "\t<li>3</li>\n",
       "\t<li>5</li>\n",
       "\t<li>1</li>\n",
       "\t<li>5</li>\n",
       "\t<li>1</li>\n",
       "\t<li>4</li>\n",
       "\t<li>1</li>\n",
       "\t<li>5</li>\n",
       "\t<li>5</li>\n",
       "\t<li>2</li>\n",
       "\t<li>4</li>\n",
       "\t<li>4</li>\n",
       "\t<li>5</li>\n",
       "\t<li>2</li>\n",
       "\t<li>5</li>\n",
       "\t<li>5</li>\n",
       "\t<li>4</li>\n",
       "\t<li>3</li>\n",
       "\t<li>4</li>\n",
       "\t<li>5</li>\n",
       "\t<li>2</li>\n",
       "\t<li>1</li>\n",
       "\t<li>3</li>\n",
       "\t<li>1</li>\n",
       "\t<li>3</li>\n",
       "\t<li>2</li>\n",
       "\t<li>3</li>\n",
       "\t<li>4</li>\n",
       "\t<li>5</li>\n",
       "\t<li>2</li>\n",
       "\t<li>5</li>\n",
       "\t<li>4</li>\n",
       "\t<li>4</li>\n",
       "\t<li>4</li>\n",
       "\t<li>4</li>\n",
       "\t<li>2</li>\n",
       "\t<li>5</li>\n",
       "\t<li>3</li>\n",
       "\t<li>2</li>\n",
       "\t<li>2</li>\n",
       "\t<li>1</li>\n",
       "\t<li>2</li>\n",
       "\t<li>4</li>\n",
       "\t<li>1</li>\n",
       "\t<li>4</li>\n",
       "\t<li>2</li>\n",
       "\t<li>1</li>\n",
       "\t<li>1</li>\n",
       "\t<li>4</li>\n",
       "\t<li>2</li>\n",
       "\t<li>1</li>\n",
       "\t<li>3</li>\n",
       "\t<li>5</li>\n",
       "\t<li>1</li>\n",
       "\t<li>4</li>\n",
       "\t<li>4</li>\n",
       "\t<li>5</li>\n",
       "\t<li>2</li>\n",
       "\t<li>2</li>\n",
       "\t<li>1</li>\n",
       "\t<li>1</li>\n",
       "\t<li>4</li>\n",
       "\t<li>1</li>\n",
       "\t<li>5</li>\n",
       "\t<li>4</li>\n",
       "\t<li>2</li>\n",
       "\t<li>5</li>\n",
       "\t<li>2</li>\n",
       "\t<li>5</li>\n",
       "\t<li>1</li>\n",
       "\t<li>4</li>\n",
       "\t<li>4</li>\n",
       "\t<li>1</li>\n",
       "\t<li>2</li>\n",
       "\t<li>3</li>\n",
       "\t<li>4</li>\n",
       "\t<li>4</li>\n",
       "\t<li>5</li>\n",
       "\t<li>2</li>\n",
       "\t<li>3</li>\n",
       "\t<li>5</li>\n",
       "\t<li>3</li>\n",
       "\t<li>5</li>\n",
       "\t<li>3</li>\n",
       "\t<li>3</li>\n",
       "\t<li>3</li>\n",
       "\t<li>5</li>\n",
       "\t<li>2</li>\n",
       "\t<li>2</li>\n",
       "\t<li>5</li>\n",
       "\t<li>1</li>\n",
       "\t<li>2</li>\n",
       "\t<li>5</li>\n",
       "\t<li>2</li>\n",
       "\t<li>4</li>\n",
       "\t<li>3</li>\n",
       "\t<li>2</li>\n",
       "\t<li>3</li>\n",
       "\t<li>4</li>\n",
       "\t<li>5</li>\n",
       "\t<li>3</li>\n",
       "\t<li>1</li>\n",
       "\t<li>2</li>\n",
       "\t<li>2</li>\n",
       "\t<li>3</li>\n",
       "\t<li>1</li>\n",
       "\t<li>3</li>\n",
       "\t<li>1</li>\n",
       "\t<li>5</li>\n",
       "\t<li>4</li>\n",
       "\t<li>4</li>\n",
       "\t<li>1</li>\n",
       "\t<li>2</li>\n",
       "\t<li>4</li>\n",
       "\t<li>4</li>\n",
       "\t<li>2</li>\n",
       "\t<li>1</li>\n",
       "\t<li>3</li>\n",
       "\t<li>1</li>\n",
       "\t<li>4</li>\n",
       "\t<li>1</li>\n",
       "\t<li>2</li>\n",
       "\t<li>5</li>\n",
       "\t<li>4</li>\n",
       "\t<li>3</li>\n",
       "\t<li>3</li>\n",
       "\t<li>1</li>\n",
       "\t<li>4</li>\n",
       "\t<li>2</li>\n",
       "\t<li>5</li>\n",
       "\t<li>3</li>\n",
       "\t<li>1</li>\n",
       "\t<li>5</li>\n",
       "\t<li>1</li>\n",
       "\t<li>5</li>\n",
       "\t<li>4</li>\n",
       "\t<li>5</li>\n",
       "\t<li>5</li>\n",
       "\t<li>4</li>\n",
       "\t<li>1</li>\n",
       "\t<li>1</li>\n",
       "\t<li>2</li>\n",
       "\t<li>2</li>\n",
       "\t<li>1</li>\n",
       "\t<li>3</li>\n",
       "\t<li>3</li>\n",
       "\t<li>3</li>\n",
       "\t<li>1</li>\n",
       "\t<li>3</li>\n",
       "\t<li>5</li>\n",
       "\t<li>2</li>\n",
       "\t<li>2</li>\n",
       "\t<li>4</li>\n",
       "\t<li>3</li>\n",
       "\t<li>4</li>\n",
       "\t<li>5</li>\n",
       "\t<li>4</li>\n",
       "\t<li>3</li>\n",
       "\t<li>5</li>\n",
       "\t<li>5</li>\n",
       "\t<li>3</li>\n",
       "\t<li>2</li>\n",
       "\t<li>5</li>\n",
       "\t<li>5</li>\n",
       "\t<li>2</li>\n",
       "\t<li>2</li>\n",
       "\t<li>2</li>\n",
       "\t<li>1</li>\n",
       "\t<li>2</li>\n",
       "\t<li>2</li>\n",
       "\t<li>4</li>\n",
       "\t<li>3</li>\n",
       "\t<li>2</li>\n",
       "\t<li>2</li>\n",
       "\t<li>4</li>\n",
       "\t<li>1</li>\n",
       "\t<li>1</li>\n",
       "\t<li>1</li>\n",
       "\t<li>3</li>\n",
       "\t<li>1</li>\n",
       "\t<li>4</li>\n",
       "\t<li>3</li>\n",
       "\t<li>4</li>\n",
       "\t<li>1</li>\n",
       "\t<li>3</li>\n",
       "\t<li>1</li>\n",
       "\t<li>2</li>\n",
       "\t<li>3</li>\n",
       "\t<li>4</li>\n",
       "\t<li>4</li>\n",
       "\t<li>4</li>\n",
       "\t<li>5</li>\n",
       "\t<li>2</li>\n",
       "\t<li>1</li>\n",
       "\t<li>1</li>\n",
       "\t<li>5</li>\n",
       "\t<li>1</li>\n",
       "\t<li>3</li>\n",
       "\t<li>5</li>\n",
       "\t<li>4</li>\n",
       "\t<li>4</li>\n",
       "\t<li>3</li>\n",
       "\t<li>4</li>\n",
       "\t<li>3</li>\n",
       "\t<li>2</li>\n",
       "\t<li>5</li>\n",
       "\t<li>2</li>\n",
       "\t<li>2</li>\n",
       "\t<li>2</li>\n",
       "\t<li>3</li>\n",
       "\t<li>4</li>\n",
       "\t<li>1</li>\n",
       "\t<li>1</li>\n",
       "\t<li>1</li>\n",
       "\t<li>3</li>\n",
       "\t<li>4</li>\n",
       "\t<li>3</li>\n",
       "\t<li>1</li>\n",
       "\t<li>3</li>\n",
       "\t<li>1</li>\n",
       "\t<li>1</li>\n",
       "\t<li>3</li>\n",
       "\t<li>1</li>\n",
       "\t<li>5</li>\n",
       "\t<li>3</li>\n",
       "\t<li>1</li>\n",
       "\t<li>2</li>\n",
       "\t<li>5</li>\n",
       "\t<li>5</li>\n",
       "\t<li>3</li>\n",
       "\t<li>5</li>\n",
       "\t<li>3</li>\n",
       "\t<li>5</li>\n",
       "\t<li>5</li>\n",
       "\t<li>3</li>\n",
       "\t<li>3</li>\n",
       "\t<li>5</li>\n",
       "\t<li>5</li>\n",
       "\t<li>1</li>\n",
       "\t<li>2</li>\n",
       "\t<li>4</li>\n",
       "\t<li>1</li>\n",
       "\t<li>2</li>\n",
       "\t<li>4</li>\n",
       "\t<li>1</li>\n",
       "\t<li>4</li>\n",
       "\t<li>3</li>\n",
       "\t<li>2</li>\n",
       "\t<li>3</li>\n",
       "\t<li>1</li>\n",
       "\t<li>2</li>\n",
       "\t<li>3</li>\n",
       "\t<li>1</li>\n",
       "\t<li>3</li>\n",
       "\t<li>3</li>\n",
       "\t<li>3</li>\n",
       "\t<li>1</li>\n",
       "\t<li>3</li>\n",
       "\t<li>5</li>\n",
       "\t<li>3</li>\n",
       "\t<li>5</li>\n",
       "\t<li>2</li>\n",
       "\t<li>2</li>\n",
       "\t<li>5</li>\n",
       "\t<li>5</li>\n",
       "\t<li>5</li>\n",
       "\t<li>1</li>\n",
       "\t<li>1</li>\n",
       "\t<li>4</li>\n",
       "\t<li>1</li>\n",
       "\t<li>2</li>\n",
       "\t<li>3</li>\n",
       "\t<li>5</li>\n",
       "\t<li>4</li>\n",
       "\t<li>4</li>\n",
       "\t<li>5</li>\n",
       "\t<li>4</li>\n",
       "\t<li>2</li>\n",
       "\t<li>2</li>\n",
       "\t<li>2</li>\n",
       "\t<li>1</li>\n",
       "\t<li>1</li>\n",
       "\t<li>2</li>\n",
       "\t<li>2</li>\n",
       "\t<li>3</li>\n",
       "\t<li>1</li>\n",
       "\t<li>2</li>\n",
       "\t<li>5</li>\n",
       "\t<li>3</li>\n",
       "\t<li>3</li>\n",
       "\t<li>4</li>\n",
       "\t<li>4</li>\n",
       "\t<li>5</li>\n",
       "\t<li>3</li>\n",
       "\t<li>5</li>\n",
       "\t<li>3</li>\n",
       "\t<li>3</li>\n",
       "\t<li>3</li>\n",
       "\t<li>2</li>\n",
       "\t<li>2</li>\n",
       "\t<li>2</li>\n",
       "\t<li>2</li>\n",
       "\t<li>4</li>\n",
       "\t<li>3</li>\n",
       "\t<li>1</li>\n",
       "\t<li>4</li>\n",
       "\t<li>2</li>\n",
       "\t<li>3</li>\n",
       "\t<li>2</li>\n",
       "\t<li>3</li>\n",
       "\t<li>5</li>\n",
       "\t<li>5</li>\n",
       "\t<li>5</li>\n",
       "\t<li>3</li>\n",
       "\t<li>2</li>\n",
       "\t<li>5</li>\n",
       "\t<li>4</li>\n",
       "\t<li>3</li>\n",
       "\t<li>1</li>\n",
       "\t<li>3</li>\n",
       "\t<li>2</li>\n",
       "\t<li>2</li>\n",
       "\t<li>1</li>\n",
       "\t<li>5</li>\n",
       "\t<li>2</li>\n",
       "\t<li>3</li>\n",
       "\t<li>3</li>\n",
       "\t<li>1</li>\n",
       "\t<li>1</li>\n",
       "\t<li>2</li>\n",
       "\t<li>4</li>\n",
       "\t<li>5</li>\n",
       "\t<li>3</li>\n",
       "\t<li>4</li>\n",
       "\t<li>5</li>\n",
       "\t<li>5</li>\n",
       "\t<li>2</li>\n",
       "\t<li>1</li>\n",
       "\t<li>3</li>\n",
       "\t<li>2</li>\n",
       "\t<li>5</li>\n",
       "\t<li>4</li>\n",
       "\t<li>4</li>\n",
       "\t<li>5</li>\n",
       "\t<li>3</li>\n",
       "\t<li>3</li>\n",
       "\t<li>2</li>\n",
       "\t<li>4</li>\n",
       "\t<li>3</li>\n",
       "\t<li>3</li>\n",
       "\t<li>2</li>\n",
       "\t<li>1</li>\n",
       "\t<li>1</li>\n",
       "\t<li>5</li>\n",
       "\t<li>2</li>\n",
       "\t<li>2</li>\n",
       "\t<li>1</li>\n",
       "\t<li>5</li>\n",
       "\t<li>2</li>\n",
       "\t<li>2</li>\n",
       "\t<li>5</li>\n",
       "\t<li>4</li>\n",
       "\t<li>4</li>\n",
       "\t<li>3</li>\n",
       "\t<li>5</li>\n",
       "\t<li>4</li>\n",
       "\t<li>2</li>\n",
       "\t<li>5</li>\n",
       "\t<li>2</li>\n",
       "\t<li>1</li>\n",
       "\t<li>3</li>\n",
       "\t<li>2</li>\n",
       "\t<li>2</li>\n",
       "\t<li>3</li>\n",
       "\t<li>1</li>\n",
       "\t<li>3</li>\n",
       "\t<li>1</li>\n",
       "\t<li>3</li>\n",
       "\t<li>2</li>\n",
       "\t<li>1</li>\n",
       "\t<li>2</li>\n",
       "\t<li>5</li>\n",
       "\t<li>1</li>\n",
       "\t<li>4</li>\n",
       "\t<li>4</li>\n",
       "\t<li>4</li>\n",
       "\t<li>1</li>\n",
       "\t<li>2</li>\n",
       "\t<li>1</li>\n",
       "\t<li>1</li>\n",
       "\t<li>5</li>\n",
       "\t<li>4</li>\n",
       "\t<li>4</li>\n",
       "\t<li>1</li>\n",
       "\t<li>3</li>\n",
       "\t<li>3</li>\n",
       "\t<li>1</li>\n",
       "\t<li>3</li>\n",
       "\t<li>3</li>\n",
       "\t<li>2</li>\n",
       "\t<li>3</li>\n",
       "\t<li>2</li>\n",
       "\t<li>2</li>\n",
       "\t<li>2</li>\n",
       "\t<li>4</li>\n",
       "\t<li>2</li>\n",
       "\t<li>4</li>\n",
       "\t<li>4</li>\n",
       "\t<li>1</li>\n",
       "\t<li>3</li>\n",
       "\t<li>1</li>\n",
       "\t<li>2</li>\n",
       "\t<li>4</li>\n",
       "\t<li>5</li>\n",
       "\t<li>4</li>\n",
       "\t<li>5</li>\n",
       "\t<li>5</li>\n",
       "\t<li>2</li>\n",
       "\t<li>3</li>\n",
       "\t<li>3</li>\n",
       "\t<li>4</li>\n",
       "\t<li>3</li>\n",
       "\t<li>4</li>\n",
       "\t<li>1</li>\n",
       "\t<li>2</li>\n",
       "\t<li>2</li>\n",
       "\t<li>1</li>\n",
       "\t<li>2</li>\n",
       "\t<li>5</li>\n",
       "\t<li>4</li>\n",
       "\t<li>5</li>\n",
       "\t<li>5</li>\n",
       "\t<li>5</li>\n",
       "\t<li>4</li>\n",
       "\t<li>4</li>\n",
       "\t<li>4</li>\n",
       "\t<li>1</li>\n",
       "\t<li>4</li>\n",
       "\t<li>5</li>\n",
       "\t<li>3</li>\n",
       "\t<li>1</li>\n",
       "\t<li>2</li>\n",
       "\t<li>1</li>\n",
       "\t<li>1</li>\n",
       "\t<li>1</li>\n",
       "\t<li>4</li>\n",
       "\t<li>3</li>\n",
       "\t<li>4</li>\n",
       "\t<li>1</li>\n",
       "\t<li>4</li>\n",
       "\t<li>5</li>\n",
       "\t<li>3</li>\n",
       "\t<li>5</li>\n",
       "\t<li>5</li>\n",
       "\t<li>1</li>\n",
       "\t<li>4</li>\n",
       "\t<li>5</li>\n",
       "\t<li>5</li>\n",
       "\t<li>5</li>\n",
       "\t<li>3</li>\n",
       "\t<li>5</li>\n",
       "\t<li>5</li>\n",
       "\t<li>5</li>\n",
       "\t<li>2</li>\n",
       "\t<li>2</li>\n",
       "\t<li>1</li>\n",
       "\t<li>3</li>\n",
       "\t<li>3</li>\n",
       "\t<li>1</li>\n",
       "\t<li>4</li>\n",
       "\t<li>4</li>\n",
       "\t<li>1</li>\n",
       "\t<li>3</li>\n",
       "\t<li>5</li>\n",
       "\t<li>2</li>\n",
       "\t<li>5</li>\n",
       "\t<li>5</li>\n",
       "\t<li>3</li>\n",
       "\t<li>2</li>\n",
       "\t<li>2</li>\n",
       "\t<li>4</li>\n",
       "\t<li>3</li>\n",
       "\t<li>2</li>\n",
       "\t<li>4</li>\n",
       "\t<li>2</li>\n",
       "\t<li>1</li>\n",
       "\t<li>2</li>\n",
       "\t<li>2</li>\n",
       "\t<li>1</li>\n",
       "\t<li>2</li>\n",
       "\t<li>1</li>\n",
       "\t<li>3</li>\n",
       "\t<li>1</li>\n",
       "\t<li>1</li>\n",
       "\t<li>5</li>\n",
       "\t<li>1</li>\n",
       "\t<li>5</li>\n",
       "\t<li>2</li>\n",
       "\t<li>1</li>\n",
       "\t<li>4</li>\n",
       "\t<li>5</li>\n",
       "\t<li>1</li>\n",
       "\t<li>5</li>\n",
       "\t<li>3</li>\n",
       "\t<li>1</li>\n",
       "\t<li>3</li>\n",
       "\t<li>2</li>\n",
       "\t<li>5</li>\n",
       "\t<li>2</li>\n",
       "\t<li>4</li>\n",
       "\t<li>1</li>\n",
       "\t<li>4</li>\n",
       "\t<li>4</li>\n",
       "\t<li>1</li>\n",
       "\t<li>1</li>\n",
       "\t<li>5</li>\n",
       "\t<li>3</li>\n",
       "\t<li>4</li>\n",
       "\t<li>5</li>\n",
       "\t<li>3</li>\n",
       "\t<li>2</li>\n",
       "\t<li>1</li>\n",
       "\t<li>3</li>\n",
       "\t<li>4</li>\n",
       "\t<li>1</li>\n",
       "\t<li>3</li>\n",
       "\t<li>4</li>\n",
       "\t<li>1</li>\n",
       "\t<li>5</li>\n",
       "\t<li>3</li>\n",
       "\t<li>4</li>\n",
       "\t<li>1</li>\n",
       "\t<li>3</li>\n",
       "\t<li>1</li>\n",
       "\t<li>3</li>\n",
       "\t<li>1</li>\n",
       "\t<li>3</li>\n",
       "\t<li>1</li>\n",
       "\t<li>4</li>\n",
       "\t<li>4</li>\n",
       "\t<li>4</li>\n",
       "\t<li>1</li>\n",
       "\t<li>5</li>\n",
       "\t<li>4</li>\n",
       "\t<li>5</li>\n",
       "\t<li>1</li>\n",
       "\t<li>4</li>\n",
       "\t<li>2</li>\n",
       "\t<li>2</li>\n",
       "\t<li>5</li>\n",
       "\t<li>5</li>\n",
       "\t<li>3</li>\n",
       "\t<li>1</li>\n",
       "\t<li>2</li>\n",
       "\t<li>3</li>\n",
       "\t<li>5</li>\n",
       "\t<li>5</li>\n",
       "\t<li>4</li>\n",
       "\t<li>3</li>\n",
       "\t<li>3</li>\n",
       "\t<li>2</li>\n",
       "\t<li>3</li>\n",
       "\t<li>2</li>\n",
       "\t<li>1</li>\n",
       "\t<li>1</li>\n",
       "\t<li>4</li>\n",
       "\t<li>2</li>\n",
       "\t<li>1</li>\n",
       "\t<li>2</li>\n",
       "\t<li>5</li>\n",
       "\t<li>5</li>\n",
       "\t<li>2</li>\n",
       "\t<li>5</li>\n",
       "\t<li>3</li>\n",
       "\t<li>5</li>\n",
       "\t<li>3</li>\n",
       "\t<li>3</li>\n",
       "\t<li>5</li>\n",
       "\t<li>1</li>\n",
       "\t<li>1</li>\n",
       "\t<li>5</li>\n",
       "\t<li>3</li>\n",
       "\t<li>4</li>\n",
       "\t<li>4</li>\n",
       "\t<li>2</li>\n",
       "\t<li>4</li>\n",
       "\t<li>5</li>\n",
       "\t<li>5</li>\n",
       "\t<li>4</li>\n",
       "\t<li>3</li>\n",
       "\t<li>3</li>\n",
       "\t<li>2</li>\n",
       "\t<li>3</li>\n",
       "\t<li>4</li>\n",
       "\t<li>5</li>\n",
       "\t<li>1</li>\n",
       "\t<li>2</li>\n",
       "\t<li>3</li>\n",
       "\t<li>5</li>\n",
       "\t<li>1</li>\n",
       "\t<li>2</li>\n",
       "\t<li>1</li>\n",
       "\t<li>2</li>\n",
       "\t<li>2</li>\n",
       "\t<li>4</li>\n",
       "\t<li>4</li>\n",
       "\t<li>1</li>\n",
       "\t<li>5</li>\n",
       "\t<li>3</li>\n",
       "\t<li>2</li>\n",
       "\t<li>5</li>\n",
       "\t<li>2</li>\n",
       "\t<li>5</li>\n",
       "\t<li>3</li>\n",
       "\t<li>5</li>\n",
       "\t<li>5</li>\n",
       "\t<li>1</li>\n",
       "\t<li>4</li>\n",
       "\t<li>5</li>\n",
       "\t<li>1</li>\n",
       "\t<li>5</li>\n",
       "\t<li>3</li>\n",
       "\t<li>1</li>\n",
       "\t<li>2</li>\n",
       "\t<li>5</li>\n",
       "\t<li>1</li>\n",
       "\t<li>5</li>\n",
       "\t<li>5</li>\n",
       "\t<li>5</li>\n",
       "\t<li>4</li>\n",
       "\t<li>4</li>\n",
       "\t<li>3</li>\n",
       "\t<li>1</li>\n",
       "\t<li>1</li>\n",
       "\t<li>2</li>\n",
       "\t<li>3</li>\n",
       "\t<li>2</li>\n",
       "\t<li>2</li>\n",
       "\t<li>5</li>\n",
       "\t<li>5</li>\n",
       "\t<li>4</li>\n",
       "\t<li>5</li>\n",
       "\t<li>1</li>\n",
       "\t<li>2</li>\n",
       "\t<li>1</li>\n",
       "\t<li>4</li>\n",
       "\t<li>4</li>\n",
       "\t<li>1</li>\n",
       "\t<li>1</li>\n",
       "\t<li>1</li>\n",
       "\t<li>4</li>\n",
       "\t<li>4</li>\n",
       "\t<li>2</li>\n",
       "\t<li>2</li>\n",
       "\t<li>2</li>\n",
       "\t<li>1</li>\n",
       "\t<li>3</li>\n",
       "\t<li>5</li>\n",
       "\t<li>2</li>\n",
       "\t<li>2</li>\n",
       "\t<li>2</li>\n",
       "\t<li>4</li>\n",
       "\t<li>3</li>\n",
       "\t<li>3</li>\n",
       "\t<li>1</li>\n",
       "\t<li>3</li>\n",
       "\t<li>1</li>\n",
       "\t<li>5</li>\n",
       "\t<li>3</li>\n",
       "\t<li>3</li>\n",
       "\t<li>5</li>\n",
       "\t<li>4</li>\n",
       "\t<li>5</li>\n",
       "\t<li>1</li>\n",
       "\t<li>1</li>\n",
       "\t<li>1</li>\n",
       "\t<li>4</li>\n",
       "\t<li>4</li>\n",
       "\t<li>3</li>\n",
       "\t<li>4</li>\n",
       "\t<li>5</li>\n",
       "\t<li>3</li>\n",
       "\t<li>5</li>\n",
       "\t<li>3</li>\n",
       "\t<li>2</li>\n",
       "\t<li>3</li>\n",
       "\t<li>2</li>\n",
       "\t<li>3</li>\n",
       "\t<li>1</li>\n",
       "\t<li>4</li>\n",
       "\t<li>2</li>\n",
       "\t<li>2</li>\n",
       "\t<li>3</li>\n",
       "\t<li>5</li>\n",
       "\t<li>4</li>\n",
       "\t<li>5</li>\n",
       "\t<li>2</li>\n",
       "\t<li>5</li>\n",
       "\t<li>5</li>\n",
       "\t<li>1</li>\n",
       "\t<li>4</li>\n",
       "\t<li>3</li>\n",
       "\t<li>4</li>\n",
       "\t<li>3</li>\n",
       "\t<li>1</li>\n",
       "\t<li>3</li>\n",
       "\t<li>1</li>\n",
       "\t<li>4</li>\n",
       "\t<li>4</li>\n",
       "\t<li>5</li>\n",
       "\t<li>5</li>\n",
       "\t<li>1</li>\n",
       "\t<li>4</li>\n",
       "\t<li>3</li>\n",
       "\t<li>1</li>\n",
       "\t<li>4</li>\n",
       "\t<li>2</li>\n",
       "\t<li>1</li>\n",
       "\t<li>2</li>\n",
       "\t<li>4</li>\n",
       "\t<li>3</li>\n",
       "\t<li>5</li>\n",
       "\t<li>2</li>\n",
       "\t<li>5</li>\n",
       "\t<li>5</li>\n",
       "\t<li>5</li>\n",
       "\t<li>3</li>\n",
       "\t<li>5</li>\n",
       "\t<li>2</li>\n",
       "\t<li>3</li>\n",
       "\t<li>4</li>\n",
       "\t<li>1</li>\n",
       "\t<li>4</li>\n",
       "\t<li>1</li>\n",
       "\t<li>5</li>\n",
       "\t<li>1</li>\n",
       "\t<li>3</li>\n",
       "\t<li>2</li>\n",
       "\t<li>5</li>\n",
       "\t<li>1</li>\n",
       "\t<li>3</li>\n",
       "\t<li>4</li>\n",
       "\t<li>4</li>\n",
       "\t<li>2</li>\n",
       "\t<li>5</li>\n",
       "\t<li>1</li>\n",
       "\t<li>3</li>\n",
       "\t<li>4</li>\n",
       "\t<li>3</li>\n",
       "\t<li>2</li>\n",
       "\t<li>3</li>\n",
       "\t<li>5</li>\n",
       "\t<li>4</li>\n",
       "\t<li>2</li>\n",
       "\t<li>5</li>\n",
       "\t<li>3</li>\n",
       "\t<li>3</li>\n",
       "\t<li>5</li>\n",
       "\t<li>3</li>\n",
       "\t<li>1</li>\n",
       "\t<li>2</li>\n",
       "\t<li>1</li>\n",
       "\t<li>3</li>\n",
       "\t<li>1</li>\n",
       "\t<li>1</li>\n",
       "\t<li>1</li>\n",
       "\t<li>1</li>\n",
       "\t<li>5</li>\n",
       "\t<li>1</li>\n",
       "\t<li>3</li>\n",
       "\t<li>1</li>\n",
       "\t<li>5</li>\n",
       "\t<li>2</li>\n",
       "\t<li>1</li>\n",
       "\t<li>1</li>\n",
       "\t<li>2</li>\n",
       "\t<li>2</li>\n",
       "\t<li>2</li>\n",
       "\t<li>3</li>\n",
       "\t<li>2</li>\n",
       "\t<li>2</li>\n",
       "\t<li>3</li>\n",
       "\t<li>2</li>\n",
       "\t<li>5</li>\n",
       "\t<li>4</li>\n",
       "\t<li>4</li>\n",
       "\t<li>4</li>\n",
       "\t<li>1</li>\n",
       "\t<li>3</li>\n",
       "\t<li>4</li>\n",
       "\t<li>1</li>\n",
       "\t<li>3</li>\n",
       "\t<li>1</li>\n",
       "\t<li>2</li>\n",
       "\t<li>4</li>\n",
       "\t<li>2</li>\n",
       "\t<li>1</li>\n",
       "\t<li>5</li>\n",
       "\t<li>3</li>\n",
       "\t<li>2</li>\n",
       "\t<li>3</li>\n",
       "\t<li>2</li>\n",
       "\t<li>5</li>\n",
       "\t<li>4</li>\n",
       "\t<li>2</li>\n",
       "\t<li>2</li>\n",
       "\t<li>4</li>\n",
       "\t<li>1</li>\n",
       "\t<li>3</li>\n",
       "\t<li>4</li>\n",
       "\t<li>1</li>\n",
       "\t<li>2</li>\n",
       "\t<li>5</li>\n",
       "\t<li>3</li>\n",
       "\t<li>3</li>\n",
       "\t<li>5</li>\n",
       "\t<li>1</li>\n",
       "\t<li>5</li>\n",
       "\t<li>2</li>\n",
       "\t<li>2</li>\n",
       "\t<li>5</li>\n",
       "\t<li>3</li>\n",
       "\t<li>2</li>\n",
       "\t<li>1</li>\n",
       "\t<li>1</li>\n",
       "\t<li>3</li>\n",
       "\t<li>1</li>\n",
       "\t<li>3</li>\n",
       "\t<li>1</li>\n",
       "\t<li>1</li>\n",
       "\t<li>4</li>\n",
       "\t<li>3</li>\n",
       "\t<li>2</li>\n",
       "\t<li>4</li>\n",
       "\t<li>5</li>\n",
       "\t<li>5</li>\n",
       "\t<li>4</li>\n",
       "\t<li>1</li>\n",
       "\t<li>5</li>\n",
       "\t<li>5</li>\n",
       "\t<li>3</li>\n",
       "\t<li>2</li>\n",
       "\t<li>4</li>\n",
       "\t<li>4</li>\n",
       "\t<li>5</li>\n",
       "\t<li>5</li>\n",
       "\t<li>1</li>\n",
       "\t<li>4</li>\n",
       "\t<li>5</li>\n",
       "\t<li>1</li>\n",
       "\t<li>3</li>\n",
       "\t<li>5</li>\n",
       "\t<li>1</li>\n",
       "\t<li>2</li>\n",
       "\t<li>2</li>\n",
       "\t<li>2</li>\n",
       "\t<li>1</li>\n",
       "\t<li>1</li>\n",
       "\t<li>3</li>\n",
       "\t<li>1</li>\n",
       "\t<li>5</li>\n",
       "\t<li>3</li>\n",
       "\t<li>1</li>\n",
       "\t<li>2</li>\n",
       "\t<li>4</li>\n",
       "\t<li>5</li>\n",
       "\t<li>5</li>\n",
       "\t<li>1</li>\n",
       "\t<li>1</li>\n",
       "\t<li>1</li>\n",
       "\t<li>2</li>\n",
       "\t<li>1</li>\n",
       "\t<li>1</li>\n",
       "\t<li>5</li>\n",
       "\t<li>3</li>\n",
       "\t<li>5</li>\n",
       "\t<li>3</li>\n",
       "\t<li>4</li>\n",
       "\t<li>4</li>\n",
       "\t<li>5</li>\n",
       "\t<li>4</li>\n",
       "\t<li>3</li>\n",
       "\t<li>5</li>\n",
       "\t<li>1</li>\n",
       "\t<li>3</li>\n",
       "\t<li>2</li>\n",
       "\t<li>1</li>\n",
       "\t<li>3</li>\n",
       "\t<li>5</li>\n",
       "\t<li>3</li>\n",
       "\t<li>1</li>\n",
       "\t<li>4</li>\n",
       "\t<li>1</li>\n",
       "\t<li>4</li>\n",
       "\t<li>5</li>\n",
       "\t<li>4</li>\n",
       "\t<li>3</li>\n",
       "\t<li>1</li>\n",
       "\t<li>3</li>\n",
       "\t<li>4</li>\n",
       "\t<li>3</li>\n",
       "\t<li>3</li>\n",
       "\t<li>5</li>\n",
       "\t<li>5</li>\n",
       "\t<li>3</li>\n",
       "\t<li>3</li>\n",
       "\t<li>2</li>\n",
       "\t<li>4</li>\n",
       "\t<li>5</li>\n",
       "\t<li>5</li>\n",
       "\t<li>1</li>\n",
       "\t<li>4</li>\n",
       "\t<li>5</li>\n",
       "\t<li>5</li>\n",
       "\t<li>4</li>\n",
       "\t<li>4</li>\n",
       "\t<li>3</li>\n",
       "\t<li>1</li>\n",
       "\t<li>3</li>\n",
       "\t<li>4</li>\n",
       "\t<li>1</li>\n",
       "\t<li>3</li>\n",
       "\t<li>1</li>\n",
       "\t<li>3</li>\n",
       "\t<li>1</li>\n",
       "\t<li>4</li>\n",
       "\t<li>1</li>\n",
       "\t<li>1</li>\n",
       "\t<li>1</li>\n",
       "\t<li>5</li>\n",
       "\t<li>5</li>\n",
       "\t<li>2</li>\n",
       "\t<li>4</li>\n",
       "\t<li>3</li>\n",
       "\t<li>3</li>\n",
       "\t<li>2</li>\n",
       "\t<li>1</li>\n",
       "\t<li>1</li>\n",
       "\t<li>1</li>\n",
       "\t<li>4</li>\n",
       "\t<li>5</li>\n",
       "\t<li>4</li>\n",
       "\t<li>2</li>\n",
       "\t<li>1</li>\n",
       "\t<li>4</li>\n",
       "\t<li>1</li>\n",
       "\t<li>1</li>\n",
       "\t<li>5</li>\n",
       "\t<li>2</li>\n",
       "\t<li>3</li>\n",
       "\t<li>3</li>\n",
       "\t<li>1</li>\n",
       "\t<li>3</li>\n",
       "\t<li>4</li>\n",
       "\t<li>3</li>\n",
       "\t<li>2</li>\n",
       "\t<li>1</li>\n",
       "\t<li>1</li>\n",
       "\t<li>5</li>\n",
       "\t<li>1</li>\n",
       "</ol>\n"
      ],
      "text/latex": [
       "\\begin{enumerate*}\n",
       "\\item 5\n",
       "\\item 4\n",
       "\\item 4\n",
       "\\item 5\n",
       "\\item 1\n",
       "\\item 1\n",
       "\\item 1\n",
       "\\item 1\n",
       "\\item 5\n",
       "\\item 1\n",
       "\\item 1\n",
       "\\item 1\n",
       "\\item 1\n",
       "\\item 3\n",
       "\\item 5\n",
       "\\item 2\n",
       "\\item 5\n",
       "\\item 4\n",
       "\\item 1\n",
       "\\item 3\n",
       "\\item 3\n",
       "\\item 5\n",
       "\\item 4\n",
       "\\item 2\n",
       "\\item 3\n",
       "\\item 4\n",
       "\\item 4\n",
       "\\item 5\n",
       "\\item 2\n",
       "\\item 4\n",
       "\\item 5\n",
       "\\item 2\n",
       "\\item 4\n",
       "\\item 3\n",
       "\\item 1\n",
       "\\item 5\n",
       "\\item 5\n",
       "\\item 3\n",
       "\\item 5\n",
       "\\item 5\n",
       "\\item 3\n",
       "\\item 5\n",
       "\\item 1\n",
       "\\item 5\n",
       "\\item 1\n",
       "\\item 4\n",
       "\\item 1\n",
       "\\item 5\n",
       "\\item 5\n",
       "\\item 2\n",
       "\\item 4\n",
       "\\item 4\n",
       "\\item 5\n",
       "\\item 2\n",
       "\\item 5\n",
       "\\item 5\n",
       "\\item 4\n",
       "\\item 3\n",
       "\\item 4\n",
       "\\item 5\n",
       "\\item 2\n",
       "\\item 1\n",
       "\\item 3\n",
       "\\item 1\n",
       "\\item 3\n",
       "\\item 2\n",
       "\\item 3\n",
       "\\item 4\n",
       "\\item 5\n",
       "\\item 2\n",
       "\\item 5\n",
       "\\item 4\n",
       "\\item 4\n",
       "\\item 4\n",
       "\\item 4\n",
       "\\item 2\n",
       "\\item 5\n",
       "\\item 3\n",
       "\\item 2\n",
       "\\item 2\n",
       "\\item 1\n",
       "\\item 2\n",
       "\\item 4\n",
       "\\item 1\n",
       "\\item 4\n",
       "\\item 2\n",
       "\\item 1\n",
       "\\item 1\n",
       "\\item 4\n",
       "\\item 2\n",
       "\\item 1\n",
       "\\item 3\n",
       "\\item 5\n",
       "\\item 1\n",
       "\\item 4\n",
       "\\item 4\n",
       "\\item 5\n",
       "\\item 2\n",
       "\\item 2\n",
       "\\item 1\n",
       "\\item 1\n",
       "\\item 4\n",
       "\\item 1\n",
       "\\item 5\n",
       "\\item 4\n",
       "\\item 2\n",
       "\\item 5\n",
       "\\item 2\n",
       "\\item 5\n",
       "\\item 1\n",
       "\\item 4\n",
       "\\item 4\n",
       "\\item 1\n",
       "\\item 2\n",
       "\\item 3\n",
       "\\item 4\n",
       "\\item 4\n",
       "\\item 5\n",
       "\\item 2\n",
       "\\item 3\n",
       "\\item 5\n",
       "\\item 3\n",
       "\\item 5\n",
       "\\item 3\n",
       "\\item 3\n",
       "\\item 3\n",
       "\\item 5\n",
       "\\item 2\n",
       "\\item 2\n",
       "\\item 5\n",
       "\\item 1\n",
       "\\item 2\n",
       "\\item 5\n",
       "\\item 2\n",
       "\\item 4\n",
       "\\item 3\n",
       "\\item 2\n",
       "\\item 3\n",
       "\\item 4\n",
       "\\item 5\n",
       "\\item 3\n",
       "\\item 1\n",
       "\\item 2\n",
       "\\item 2\n",
       "\\item 3\n",
       "\\item 1\n",
       "\\item 3\n",
       "\\item 1\n",
       "\\item 5\n",
       "\\item 4\n",
       "\\item 4\n",
       "\\item 1\n",
       "\\item 2\n",
       "\\item 4\n",
       "\\item 4\n",
       "\\item 2\n",
       "\\item 1\n",
       "\\item 3\n",
       "\\item 1\n",
       "\\item 4\n",
       "\\item 1\n",
       "\\item 2\n",
       "\\item 5\n",
       "\\item 4\n",
       "\\item 3\n",
       "\\item 3\n",
       "\\item 1\n",
       "\\item 4\n",
       "\\item 2\n",
       "\\item 5\n",
       "\\item 3\n",
       "\\item 1\n",
       "\\item 5\n",
       "\\item 1\n",
       "\\item 5\n",
       "\\item 4\n",
       "\\item 5\n",
       "\\item 5\n",
       "\\item 4\n",
       "\\item 1\n",
       "\\item 1\n",
       "\\item 2\n",
       "\\item 2\n",
       "\\item 1\n",
       "\\item 3\n",
       "\\item 3\n",
       "\\item 3\n",
       "\\item 1\n",
       "\\item 3\n",
       "\\item 5\n",
       "\\item 2\n",
       "\\item 2\n",
       "\\item 4\n",
       "\\item 3\n",
       "\\item 4\n",
       "\\item 5\n",
       "\\item 4\n",
       "\\item 3\n",
       "\\item 5\n",
       "\\item 5\n",
       "\\item 3\n",
       "\\item 2\n",
       "\\item 5\n",
       "\\item 5\n",
       "\\item 2\n",
       "\\item 2\n",
       "\\item 2\n",
       "\\item 1\n",
       "\\item 2\n",
       "\\item 2\n",
       "\\item 4\n",
       "\\item 3\n",
       "\\item 2\n",
       "\\item 2\n",
       "\\item 4\n",
       "\\item 1\n",
       "\\item 1\n",
       "\\item 1\n",
       "\\item 3\n",
       "\\item 1\n",
       "\\item 4\n",
       "\\item 3\n",
       "\\item 4\n",
       "\\item 1\n",
       "\\item 3\n",
       "\\item 1\n",
       "\\item 2\n",
       "\\item 3\n",
       "\\item 4\n",
       "\\item 4\n",
       "\\item 4\n",
       "\\item 5\n",
       "\\item 2\n",
       "\\item 1\n",
       "\\item 1\n",
       "\\item 5\n",
       "\\item 1\n",
       "\\item 3\n",
       "\\item 5\n",
       "\\item 4\n",
       "\\item 4\n",
       "\\item 3\n",
       "\\item 4\n",
       "\\item 3\n",
       "\\item 2\n",
       "\\item 5\n",
       "\\item 2\n",
       "\\item 2\n",
       "\\item 2\n",
       "\\item 3\n",
       "\\item 4\n",
       "\\item 1\n",
       "\\item 1\n",
       "\\item 1\n",
       "\\item 3\n",
       "\\item 4\n",
       "\\item 3\n",
       "\\item 1\n",
       "\\item 3\n",
       "\\item 1\n",
       "\\item 1\n",
       "\\item 3\n",
       "\\item 1\n",
       "\\item 5\n",
       "\\item 3\n",
       "\\item 1\n",
       "\\item 2\n",
       "\\item 5\n",
       "\\item 5\n",
       "\\item 3\n",
       "\\item 5\n",
       "\\item 3\n",
       "\\item 5\n",
       "\\item 5\n",
       "\\item 3\n",
       "\\item 3\n",
       "\\item 5\n",
       "\\item 5\n",
       "\\item 1\n",
       "\\item 2\n",
       "\\item 4\n",
       "\\item 1\n",
       "\\item 2\n",
       "\\item 4\n",
       "\\item 1\n",
       "\\item 4\n",
       "\\item 3\n",
       "\\item 2\n",
       "\\item 3\n",
       "\\item 1\n",
       "\\item 2\n",
       "\\item 3\n",
       "\\item 1\n",
       "\\item 3\n",
       "\\item 3\n",
       "\\item 3\n",
       "\\item 1\n",
       "\\item 3\n",
       "\\item 5\n",
       "\\item 3\n",
       "\\item 5\n",
       "\\item 2\n",
       "\\item 2\n",
       "\\item 5\n",
       "\\item 5\n",
       "\\item 5\n",
       "\\item 1\n",
       "\\item 1\n",
       "\\item 4\n",
       "\\item 1\n",
       "\\item 2\n",
       "\\item 3\n",
       "\\item 5\n",
       "\\item 4\n",
       "\\item 4\n",
       "\\item 5\n",
       "\\item 4\n",
       "\\item 2\n",
       "\\item 2\n",
       "\\item 2\n",
       "\\item 1\n",
       "\\item 1\n",
       "\\item 2\n",
       "\\item 2\n",
       "\\item 3\n",
       "\\item 1\n",
       "\\item 2\n",
       "\\item 5\n",
       "\\item 3\n",
       "\\item 3\n",
       "\\item 4\n",
       "\\item 4\n",
       "\\item 5\n",
       "\\item 3\n",
       "\\item 5\n",
       "\\item 3\n",
       "\\item 3\n",
       "\\item 3\n",
       "\\item 2\n",
       "\\item 2\n",
       "\\item 2\n",
       "\\item 2\n",
       "\\item 4\n",
       "\\item 3\n",
       "\\item 1\n",
       "\\item 4\n",
       "\\item 2\n",
       "\\item 3\n",
       "\\item 2\n",
       "\\item 3\n",
       "\\item 5\n",
       "\\item 5\n",
       "\\item 5\n",
       "\\item 3\n",
       "\\item 2\n",
       "\\item 5\n",
       "\\item 4\n",
       "\\item 3\n",
       "\\item 1\n",
       "\\item 3\n",
       "\\item 2\n",
       "\\item 2\n",
       "\\item 1\n",
       "\\item 5\n",
       "\\item 2\n",
       "\\item 3\n",
       "\\item 3\n",
       "\\item 1\n",
       "\\item 1\n",
       "\\item 2\n",
       "\\item 4\n",
       "\\item 5\n",
       "\\item 3\n",
       "\\item 4\n",
       "\\item 5\n",
       "\\item 5\n",
       "\\item 2\n",
       "\\item 1\n",
       "\\item 3\n",
       "\\item 2\n",
       "\\item 5\n",
       "\\item 4\n",
       "\\item 4\n",
       "\\item 5\n",
       "\\item 3\n",
       "\\item 3\n",
       "\\item 2\n",
       "\\item 4\n",
       "\\item 3\n",
       "\\item 3\n",
       "\\item 2\n",
       "\\item 1\n",
       "\\item 1\n",
       "\\item 5\n",
       "\\item 2\n",
       "\\item 2\n",
       "\\item 1\n",
       "\\item 5\n",
       "\\item 2\n",
       "\\item 2\n",
       "\\item 5\n",
       "\\item 4\n",
       "\\item 4\n",
       "\\item 3\n",
       "\\item 5\n",
       "\\item 4\n",
       "\\item 2\n",
       "\\item 5\n",
       "\\item 2\n",
       "\\item 1\n",
       "\\item 3\n",
       "\\item 2\n",
       "\\item 2\n",
       "\\item 3\n",
       "\\item 1\n",
       "\\item 3\n",
       "\\item 1\n",
       "\\item 3\n",
       "\\item 2\n",
       "\\item 1\n",
       "\\item 2\n",
       "\\item 5\n",
       "\\item 1\n",
       "\\item 4\n",
       "\\item 4\n",
       "\\item 4\n",
       "\\item 1\n",
       "\\item 2\n",
       "\\item 1\n",
       "\\item 1\n",
       "\\item 5\n",
       "\\item 4\n",
       "\\item 4\n",
       "\\item 1\n",
       "\\item 3\n",
       "\\item 3\n",
       "\\item 1\n",
       "\\item 3\n",
       "\\item 3\n",
       "\\item 2\n",
       "\\item 3\n",
       "\\item 2\n",
       "\\item 2\n",
       "\\item 2\n",
       "\\item 4\n",
       "\\item 2\n",
       "\\item 4\n",
       "\\item 4\n",
       "\\item 1\n",
       "\\item 3\n",
       "\\item 1\n",
       "\\item 2\n",
       "\\item 4\n",
       "\\item 5\n",
       "\\item 4\n",
       "\\item 5\n",
       "\\item 5\n",
       "\\item 2\n",
       "\\item 3\n",
       "\\item 3\n",
       "\\item 4\n",
       "\\item 3\n",
       "\\item 4\n",
       "\\item 1\n",
       "\\item 2\n",
       "\\item 2\n",
       "\\item 1\n",
       "\\item 2\n",
       "\\item 5\n",
       "\\item 4\n",
       "\\item 5\n",
       "\\item 5\n",
       "\\item 5\n",
       "\\item 4\n",
       "\\item 4\n",
       "\\item 4\n",
       "\\item 1\n",
       "\\item 4\n",
       "\\item 5\n",
       "\\item 3\n",
       "\\item 1\n",
       "\\item 2\n",
       "\\item 1\n",
       "\\item 1\n",
       "\\item 1\n",
       "\\item 4\n",
       "\\item 3\n",
       "\\item 4\n",
       "\\item 1\n",
       "\\item 4\n",
       "\\item 5\n",
       "\\item 3\n",
       "\\item 5\n",
       "\\item 5\n",
       "\\item 1\n",
       "\\item 4\n",
       "\\item 5\n",
       "\\item 5\n",
       "\\item 5\n",
       "\\item 3\n",
       "\\item 5\n",
       "\\item 5\n",
       "\\item 5\n",
       "\\item 2\n",
       "\\item 2\n",
       "\\item 1\n",
       "\\item 3\n",
       "\\item 3\n",
       "\\item 1\n",
       "\\item 4\n",
       "\\item 4\n",
       "\\item 1\n",
       "\\item 3\n",
       "\\item 5\n",
       "\\item 2\n",
       "\\item 5\n",
       "\\item 5\n",
       "\\item 3\n",
       "\\item 2\n",
       "\\item 2\n",
       "\\item 4\n",
       "\\item 3\n",
       "\\item 2\n",
       "\\item 4\n",
       "\\item 2\n",
       "\\item 1\n",
       "\\item 2\n",
       "\\item 2\n",
       "\\item 1\n",
       "\\item 2\n",
       "\\item 1\n",
       "\\item 3\n",
       "\\item 1\n",
       "\\item 1\n",
       "\\item 5\n",
       "\\item 1\n",
       "\\item 5\n",
       "\\item 2\n",
       "\\item 1\n",
       "\\item 4\n",
       "\\item 5\n",
       "\\item 1\n",
       "\\item 5\n",
       "\\item 3\n",
       "\\item 1\n",
       "\\item 3\n",
       "\\item 2\n",
       "\\item 5\n",
       "\\item 2\n",
       "\\item 4\n",
       "\\item 1\n",
       "\\item 4\n",
       "\\item 4\n",
       "\\item 1\n",
       "\\item 1\n",
       "\\item 5\n",
       "\\item 3\n",
       "\\item 4\n",
       "\\item 5\n",
       "\\item 3\n",
       "\\item 2\n",
       "\\item 1\n",
       "\\item 3\n",
       "\\item 4\n",
       "\\item 1\n",
       "\\item 3\n",
       "\\item 4\n",
       "\\item 1\n",
       "\\item 5\n",
       "\\item 3\n",
       "\\item 4\n",
       "\\item 1\n",
       "\\item 3\n",
       "\\item 1\n",
       "\\item 3\n",
       "\\item 1\n",
       "\\item 3\n",
       "\\item 1\n",
       "\\item 4\n",
       "\\item 4\n",
       "\\item 4\n",
       "\\item 1\n",
       "\\item 5\n",
       "\\item 4\n",
       "\\item 5\n",
       "\\item 1\n",
       "\\item 4\n",
       "\\item 2\n",
       "\\item 2\n",
       "\\item 5\n",
       "\\item 5\n",
       "\\item 3\n",
       "\\item 1\n",
       "\\item 2\n",
       "\\item 3\n",
       "\\item 5\n",
       "\\item 5\n",
       "\\item 4\n",
       "\\item 3\n",
       "\\item 3\n",
       "\\item 2\n",
       "\\item 3\n",
       "\\item 2\n",
       "\\item 1\n",
       "\\item 1\n",
       "\\item 4\n",
       "\\item 2\n",
       "\\item 1\n",
       "\\item 2\n",
       "\\item 5\n",
       "\\item 5\n",
       "\\item 2\n",
       "\\item 5\n",
       "\\item 3\n",
       "\\item 5\n",
       "\\item 3\n",
       "\\item 3\n",
       "\\item 5\n",
       "\\item 1\n",
       "\\item 1\n",
       "\\item 5\n",
       "\\item 3\n",
       "\\item 4\n",
       "\\item 4\n",
       "\\item 2\n",
       "\\item 4\n",
       "\\item 5\n",
       "\\item 5\n",
       "\\item 4\n",
       "\\item 3\n",
       "\\item 3\n",
       "\\item 2\n",
       "\\item 3\n",
       "\\item 4\n",
       "\\item 5\n",
       "\\item 1\n",
       "\\item 2\n",
       "\\item 3\n",
       "\\item 5\n",
       "\\item 1\n",
       "\\item 2\n",
       "\\item 1\n",
       "\\item 2\n",
       "\\item 2\n",
       "\\item 4\n",
       "\\item 4\n",
       "\\item 1\n",
       "\\item 5\n",
       "\\item 3\n",
       "\\item 2\n",
       "\\item 5\n",
       "\\item 2\n",
       "\\item 5\n",
       "\\item 3\n",
       "\\item 5\n",
       "\\item 5\n",
       "\\item 1\n",
       "\\item 4\n",
       "\\item 5\n",
       "\\item 1\n",
       "\\item 5\n",
       "\\item 3\n",
       "\\item 1\n",
       "\\item 2\n",
       "\\item 5\n",
       "\\item 1\n",
       "\\item 5\n",
       "\\item 5\n",
       "\\item 5\n",
       "\\item 4\n",
       "\\item 4\n",
       "\\item 3\n",
       "\\item 1\n",
       "\\item 1\n",
       "\\item 2\n",
       "\\item 3\n",
       "\\item 2\n",
       "\\item 2\n",
       "\\item 5\n",
       "\\item 5\n",
       "\\item 4\n",
       "\\item 5\n",
       "\\item 1\n",
       "\\item 2\n",
       "\\item 1\n",
       "\\item 4\n",
       "\\item 4\n",
       "\\item 1\n",
       "\\item 1\n",
       "\\item 1\n",
       "\\item 4\n",
       "\\item 4\n",
       "\\item 2\n",
       "\\item 2\n",
       "\\item 2\n",
       "\\item 1\n",
       "\\item 3\n",
       "\\item 5\n",
       "\\item 2\n",
       "\\item 2\n",
       "\\item 2\n",
       "\\item 4\n",
       "\\item 3\n",
       "\\item 3\n",
       "\\item 1\n",
       "\\item 3\n",
       "\\item 1\n",
       "\\item 5\n",
       "\\item 3\n",
       "\\item 3\n",
       "\\item 5\n",
       "\\item 4\n",
       "\\item 5\n",
       "\\item 1\n",
       "\\item 1\n",
       "\\item 1\n",
       "\\item 4\n",
       "\\item 4\n",
       "\\item 3\n",
       "\\item 4\n",
       "\\item 5\n",
       "\\item 3\n",
       "\\item 5\n",
       "\\item 3\n",
       "\\item 2\n",
       "\\item 3\n",
       "\\item 2\n",
       "\\item 3\n",
       "\\item 1\n",
       "\\item 4\n",
       "\\item 2\n",
       "\\item 2\n",
       "\\item 3\n",
       "\\item 5\n",
       "\\item 4\n",
       "\\item 5\n",
       "\\item 2\n",
       "\\item 5\n",
       "\\item 5\n",
       "\\item 1\n",
       "\\item 4\n",
       "\\item 3\n",
       "\\item 4\n",
       "\\item 3\n",
       "\\item 1\n",
       "\\item 3\n",
       "\\item 1\n",
       "\\item 4\n",
       "\\item 4\n",
       "\\item 5\n",
       "\\item 5\n",
       "\\item 1\n",
       "\\item 4\n",
       "\\item 3\n",
       "\\item 1\n",
       "\\item 4\n",
       "\\item 2\n",
       "\\item 1\n",
       "\\item 2\n",
       "\\item 4\n",
       "\\item 3\n",
       "\\item 5\n",
       "\\item 2\n",
       "\\item 5\n",
       "\\item 5\n",
       "\\item 5\n",
       "\\item 3\n",
       "\\item 5\n",
       "\\item 2\n",
       "\\item 3\n",
       "\\item 4\n",
       "\\item 1\n",
       "\\item 4\n",
       "\\item 1\n",
       "\\item 5\n",
       "\\item 1\n",
       "\\item 3\n",
       "\\item 2\n",
       "\\item 5\n",
       "\\item 1\n",
       "\\item 3\n",
       "\\item 4\n",
       "\\item 4\n",
       "\\item 2\n",
       "\\item 5\n",
       "\\item 1\n",
       "\\item 3\n",
       "\\item 4\n",
       "\\item 3\n",
       "\\item 2\n",
       "\\item 3\n",
       "\\item 5\n",
       "\\item 4\n",
       "\\item 2\n",
       "\\item 5\n",
       "\\item 3\n",
       "\\item 3\n",
       "\\item 5\n",
       "\\item 3\n",
       "\\item 1\n",
       "\\item 2\n",
       "\\item 1\n",
       "\\item 3\n",
       "\\item 1\n",
       "\\item 1\n",
       "\\item 1\n",
       "\\item 1\n",
       "\\item 5\n",
       "\\item 1\n",
       "\\item 3\n",
       "\\item 1\n",
       "\\item 5\n",
       "\\item 2\n",
       "\\item 1\n",
       "\\item 1\n",
       "\\item 2\n",
       "\\item 2\n",
       "\\item 2\n",
       "\\item 3\n",
       "\\item 2\n",
       "\\item 2\n",
       "\\item 3\n",
       "\\item 2\n",
       "\\item 5\n",
       "\\item 4\n",
       "\\item 4\n",
       "\\item 4\n",
       "\\item 1\n",
       "\\item 3\n",
       "\\item 4\n",
       "\\item 1\n",
       "\\item 3\n",
       "\\item 1\n",
       "\\item 2\n",
       "\\item 4\n",
       "\\item 2\n",
       "\\item 1\n",
       "\\item 5\n",
       "\\item 3\n",
       "\\item 2\n",
       "\\item 3\n",
       "\\item 2\n",
       "\\item 5\n",
       "\\item 4\n",
       "\\item 2\n",
       "\\item 2\n",
       "\\item 4\n",
       "\\item 1\n",
       "\\item 3\n",
       "\\item 4\n",
       "\\item 1\n",
       "\\item 2\n",
       "\\item 5\n",
       "\\item 3\n",
       "\\item 3\n",
       "\\item 5\n",
       "\\item 1\n",
       "\\item 5\n",
       "\\item 2\n",
       "\\item 2\n",
       "\\item 5\n",
       "\\item 3\n",
       "\\item 2\n",
       "\\item 1\n",
       "\\item 1\n",
       "\\item 3\n",
       "\\item 1\n",
       "\\item 3\n",
       "\\item 1\n",
       "\\item 1\n",
       "\\item 4\n",
       "\\item 3\n",
       "\\item 2\n",
       "\\item 4\n",
       "\\item 5\n",
       "\\item 5\n",
       "\\item 4\n",
       "\\item 1\n",
       "\\item 5\n",
       "\\item 5\n",
       "\\item 3\n",
       "\\item 2\n",
       "\\item 4\n",
       "\\item 4\n",
       "\\item 5\n",
       "\\item 5\n",
       "\\item 1\n",
       "\\item 4\n",
       "\\item 5\n",
       "\\item 1\n",
       "\\item 3\n",
       "\\item 5\n",
       "\\item 1\n",
       "\\item 2\n",
       "\\item 2\n",
       "\\item 2\n",
       "\\item 1\n",
       "\\item 1\n",
       "\\item 3\n",
       "\\item 1\n",
       "\\item 5\n",
       "\\item 3\n",
       "\\item 1\n",
       "\\item 2\n",
       "\\item 4\n",
       "\\item 5\n",
       "\\item 5\n",
       "\\item 1\n",
       "\\item 1\n",
       "\\item 1\n",
       "\\item 2\n",
       "\\item 1\n",
       "\\item 1\n",
       "\\item 5\n",
       "\\item 3\n",
       "\\item 5\n",
       "\\item 3\n",
       "\\item 4\n",
       "\\item 4\n",
       "\\item 5\n",
       "\\item 4\n",
       "\\item 3\n",
       "\\item 5\n",
       "\\item 1\n",
       "\\item 3\n",
       "\\item 2\n",
       "\\item 1\n",
       "\\item 3\n",
       "\\item 5\n",
       "\\item 3\n",
       "\\item 1\n",
       "\\item 4\n",
       "\\item 1\n",
       "\\item 4\n",
       "\\item 5\n",
       "\\item 4\n",
       "\\item 3\n",
       "\\item 1\n",
       "\\item 3\n",
       "\\item 4\n",
       "\\item 3\n",
       "\\item 3\n",
       "\\item 5\n",
       "\\item 5\n",
       "\\item 3\n",
       "\\item 3\n",
       "\\item 2\n",
       "\\item 4\n",
       "\\item 5\n",
       "\\item 5\n",
       "\\item 1\n",
       "\\item 4\n",
       "\\item 5\n",
       "\\item 5\n",
       "\\item 4\n",
       "\\item 4\n",
       "\\item 3\n",
       "\\item 1\n",
       "\\item 3\n",
       "\\item 4\n",
       "\\item 1\n",
       "\\item 3\n",
       "\\item 1\n",
       "\\item 3\n",
       "\\item 1\n",
       "\\item 4\n",
       "\\item 1\n",
       "\\item 1\n",
       "\\item 1\n",
       "\\item 5\n",
       "\\item 5\n",
       "\\item 2\n",
       "\\item 4\n",
       "\\item 3\n",
       "\\item 3\n",
       "\\item 2\n",
       "\\item 1\n",
       "\\item 1\n",
       "\\item 1\n",
       "\\item 4\n",
       "\\item 5\n",
       "\\item 4\n",
       "\\item 2\n",
       "\\item 1\n",
       "\\item 4\n",
       "\\item 1\n",
       "\\item 1\n",
       "\\item 5\n",
       "\\item 2\n",
       "\\item 3\n",
       "\\item 3\n",
       "\\item 1\n",
       "\\item 3\n",
       "\\item 4\n",
       "\\item 3\n",
       "\\item 2\n",
       "\\item 1\n",
       "\\item 1\n",
       "\\item 5\n",
       "\\item 1\n",
       "\\end{enumerate*}\n"
      ],
      "text/markdown": [
       "1. 5\n",
       "2. 4\n",
       "3. 4\n",
       "4. 5\n",
       "5. 1\n",
       "6. 1\n",
       "7. 1\n",
       "8. 1\n",
       "9. 5\n",
       "10. 1\n",
       "11. 1\n",
       "12. 1\n",
       "13. 1\n",
       "14. 3\n",
       "15. 5\n",
       "16. 2\n",
       "17. 5\n",
       "18. 4\n",
       "19. 1\n",
       "20. 3\n",
       "21. 3\n",
       "22. 5\n",
       "23. 4\n",
       "24. 2\n",
       "25. 3\n",
       "26. 4\n",
       "27. 4\n",
       "28. 5\n",
       "29. 2\n",
       "30. 4\n",
       "31. 5\n",
       "32. 2\n",
       "33. 4\n",
       "34. 3\n",
       "35. 1\n",
       "36. 5\n",
       "37. 5\n",
       "38. 3\n",
       "39. 5\n",
       "40. 5\n",
       "41. 3\n",
       "42. 5\n",
       "43. 1\n",
       "44. 5\n",
       "45. 1\n",
       "46. 4\n",
       "47. 1\n",
       "48. 5\n",
       "49. 5\n",
       "50. 2\n",
       "51. 4\n",
       "52. 4\n",
       "53. 5\n",
       "54. 2\n",
       "55. 5\n",
       "56. 5\n",
       "57. 4\n",
       "58. 3\n",
       "59. 4\n",
       "60. 5\n",
       "61. 2\n",
       "62. 1\n",
       "63. 3\n",
       "64. 1\n",
       "65. 3\n",
       "66. 2\n",
       "67. 3\n",
       "68. 4\n",
       "69. 5\n",
       "70. 2\n",
       "71. 5\n",
       "72. 4\n",
       "73. 4\n",
       "74. 4\n",
       "75. 4\n",
       "76. 2\n",
       "77. 5\n",
       "78. 3\n",
       "79. 2\n",
       "80. 2\n",
       "81. 1\n",
       "82. 2\n",
       "83. 4\n",
       "84. 1\n",
       "85. 4\n",
       "86. 2\n",
       "87. 1\n",
       "88. 1\n",
       "89. 4\n",
       "90. 2\n",
       "91. 1\n",
       "92. 3\n",
       "93. 5\n",
       "94. 1\n",
       "95. 4\n",
       "96. 4\n",
       "97. 5\n",
       "98. 2\n",
       "99. 2\n",
       "100. 1\n",
       "101. 1\n",
       "102. 4\n",
       "103. 1\n",
       "104. 5\n",
       "105. 4\n",
       "106. 2\n",
       "107. 5\n",
       "108. 2\n",
       "109. 5\n",
       "110. 1\n",
       "111. 4\n",
       "112. 4\n",
       "113. 1\n",
       "114. 2\n",
       "115. 3\n",
       "116. 4\n",
       "117. 4\n",
       "118. 5\n",
       "119. 2\n",
       "120. 3\n",
       "121. 5\n",
       "122. 3\n",
       "123. 5\n",
       "124. 3\n",
       "125. 3\n",
       "126. 3\n",
       "127. 5\n",
       "128. 2\n",
       "129. 2\n",
       "130. 5\n",
       "131. 1\n",
       "132. 2\n",
       "133. 5\n",
       "134. 2\n",
       "135. 4\n",
       "136. 3\n",
       "137. 2\n",
       "138. 3\n",
       "139. 4\n",
       "140. 5\n",
       "141. 3\n",
       "142. 1\n",
       "143. 2\n",
       "144. 2\n",
       "145. 3\n",
       "146. 1\n",
       "147. 3\n",
       "148. 1\n",
       "149. 5\n",
       "150. 4\n",
       "151. 4\n",
       "152. 1\n",
       "153. 2\n",
       "154. 4\n",
       "155. 4\n",
       "156. 2\n",
       "157. 1\n",
       "158. 3\n",
       "159. 1\n",
       "160. 4\n",
       "161. 1\n",
       "162. 2\n",
       "163. 5\n",
       "164. 4\n",
       "165. 3\n",
       "166. 3\n",
       "167. 1\n",
       "168. 4\n",
       "169. 2\n",
       "170. 5\n",
       "171. 3\n",
       "172. 1\n",
       "173. 5\n",
       "174. 1\n",
       "175. 5\n",
       "176. 4\n",
       "177. 5\n",
       "178. 5\n",
       "179. 4\n",
       "180. 1\n",
       "181. 1\n",
       "182. 2\n",
       "183. 2\n",
       "184. 1\n",
       "185. 3\n",
       "186. 3\n",
       "187. 3\n",
       "188. 1\n",
       "189. 3\n",
       "190. 5\n",
       "191. 2\n",
       "192. 2\n",
       "193. 4\n",
       "194. 3\n",
       "195. 4\n",
       "196. 5\n",
       "197. 4\n",
       "198. 3\n",
       "199. 5\n",
       "200. 5\n",
       "201. 3\n",
       "202. 2\n",
       "203. 5\n",
       "204. 5\n",
       "205. 2\n",
       "206. 2\n",
       "207. 2\n",
       "208. 1\n",
       "209. 2\n",
       "210. 2\n",
       "211. 4\n",
       "212. 3\n",
       "213. 2\n",
       "214. 2\n",
       "215. 4\n",
       "216. 1\n",
       "217. 1\n",
       "218. 1\n",
       "219. 3\n",
       "220. 1\n",
       "221. 4\n",
       "222. 3\n",
       "223. 4\n",
       "224. 1\n",
       "225. 3\n",
       "226. 1\n",
       "227. 2\n",
       "228. 3\n",
       "229. 4\n",
       "230. 4\n",
       "231. 4\n",
       "232. 5\n",
       "233. 2\n",
       "234. 1\n",
       "235. 1\n",
       "236. 5\n",
       "237. 1\n",
       "238. 3\n",
       "239. 5\n",
       "240. 4\n",
       "241. 4\n",
       "242. 3\n",
       "243. 4\n",
       "244. 3\n",
       "245. 2\n",
       "246. 5\n",
       "247. 2\n",
       "248. 2\n",
       "249. 2\n",
       "250. 3\n",
       "251. 4\n",
       "252. 1\n",
       "253. 1\n",
       "254. 1\n",
       "255. 3\n",
       "256. 4\n",
       "257. 3\n",
       "258. 1\n",
       "259. 3\n",
       "260. 1\n",
       "261. 1\n",
       "262. 3\n",
       "263. 1\n",
       "264. 5\n",
       "265. 3\n",
       "266. 1\n",
       "267. 2\n",
       "268. 5\n",
       "269. 5\n",
       "270. 3\n",
       "271. 5\n",
       "272. 3\n",
       "273. 5\n",
       "274. 5\n",
       "275. 3\n",
       "276. 3\n",
       "277. 5\n",
       "278. 5\n",
       "279. 1\n",
       "280. 2\n",
       "281. 4\n",
       "282. 1\n",
       "283. 2\n",
       "284. 4\n",
       "285. 1\n",
       "286. 4\n",
       "287. 3\n",
       "288. 2\n",
       "289. 3\n",
       "290. 1\n",
       "291. 2\n",
       "292. 3\n",
       "293. 1\n",
       "294. 3\n",
       "295. 3\n",
       "296. 3\n",
       "297. 1\n",
       "298. 3\n",
       "299. 5\n",
       "300. 3\n",
       "301. 5\n",
       "302. 2\n",
       "303. 2\n",
       "304. 5\n",
       "305. 5\n",
       "306. 5\n",
       "307. 1\n",
       "308. 1\n",
       "309. 4\n",
       "310. 1\n",
       "311. 2\n",
       "312. 3\n",
       "313. 5\n",
       "314. 4\n",
       "315. 4\n",
       "316. 5\n",
       "317. 4\n",
       "318. 2\n",
       "319. 2\n",
       "320. 2\n",
       "321. 1\n",
       "322. 1\n",
       "323. 2\n",
       "324. 2\n",
       "325. 3\n",
       "326. 1\n",
       "327. 2\n",
       "328. 5\n",
       "329. 3\n",
       "330. 3\n",
       "331. 4\n",
       "332. 4\n",
       "333. 5\n",
       "334. 3\n",
       "335. 5\n",
       "336. 3\n",
       "337. 3\n",
       "338. 3\n",
       "339. 2\n",
       "340. 2\n",
       "341. 2\n",
       "342. 2\n",
       "343. 4\n",
       "344. 3\n",
       "345. 1\n",
       "346. 4\n",
       "347. 2\n",
       "348. 3\n",
       "349. 2\n",
       "350. 3\n",
       "351. 5\n",
       "352. 5\n",
       "353. 5\n",
       "354. 3\n",
       "355. 2\n",
       "356. 5\n",
       "357. 4\n",
       "358. 3\n",
       "359. 1\n",
       "360. 3\n",
       "361. 2\n",
       "362. 2\n",
       "363. 1\n",
       "364. 5\n",
       "365. 2\n",
       "366. 3\n",
       "367. 3\n",
       "368. 1\n",
       "369. 1\n",
       "370. 2\n",
       "371. 4\n",
       "372. 5\n",
       "373. 3\n",
       "374. 4\n",
       "375. 5\n",
       "376. 5\n",
       "377. 2\n",
       "378. 1\n",
       "379. 3\n",
       "380. 2\n",
       "381. 5\n",
       "382. 4\n",
       "383. 4\n",
       "384. 5\n",
       "385. 3\n",
       "386. 3\n",
       "387. 2\n",
       "388. 4\n",
       "389. 3\n",
       "390. 3\n",
       "391. 2\n",
       "392. 1\n",
       "393. 1\n",
       "394. 5\n",
       "395. 2\n",
       "396. 2\n",
       "397. 1\n",
       "398. 5\n",
       "399. 2\n",
       "400. 2\n",
       "401. 5\n",
       "402. 4\n",
       "403. 4\n",
       "404. 3\n",
       "405. 5\n",
       "406. 4\n",
       "407. 2\n",
       "408. 5\n",
       "409. 2\n",
       "410. 1\n",
       "411. 3\n",
       "412. 2\n",
       "413. 2\n",
       "414. 3\n",
       "415. 1\n",
       "416. 3\n",
       "417. 1\n",
       "418. 3\n",
       "419. 2\n",
       "420. 1\n",
       "421. 2\n",
       "422. 5\n",
       "423. 1\n",
       "424. 4\n",
       "425. 4\n",
       "426. 4\n",
       "427. 1\n",
       "428. 2\n",
       "429. 1\n",
       "430. 1\n",
       "431. 5\n",
       "432. 4\n",
       "433. 4\n",
       "434. 1\n",
       "435. 3\n",
       "436. 3\n",
       "437. 1\n",
       "438. 3\n",
       "439. 3\n",
       "440. 2\n",
       "441. 3\n",
       "442. 2\n",
       "443. 2\n",
       "444. 2\n",
       "445. 4\n",
       "446. 2\n",
       "447. 4\n",
       "448. 4\n",
       "449. 1\n",
       "450. 3\n",
       "451. 1\n",
       "452. 2\n",
       "453. 4\n",
       "454. 5\n",
       "455. 4\n",
       "456. 5\n",
       "457. 5\n",
       "458. 2\n",
       "459. 3\n",
       "460. 3\n",
       "461. 4\n",
       "462. 3\n",
       "463. 4\n",
       "464. 1\n",
       "465. 2\n",
       "466. 2\n",
       "467. 1\n",
       "468. 2\n",
       "469. 5\n",
       "470. 4\n",
       "471. 5\n",
       "472. 5\n",
       "473. 5\n",
       "474. 4\n",
       "475. 4\n",
       "476. 4\n",
       "477. 1\n",
       "478. 4\n",
       "479. 5\n",
       "480. 3\n",
       "481. 1\n",
       "482. 2\n",
       "483. 1\n",
       "484. 1\n",
       "485. 1\n",
       "486. 4\n",
       "487. 3\n",
       "488. 4\n",
       "489. 1\n",
       "490. 4\n",
       "491. 5\n",
       "492. 3\n",
       "493. 5\n",
       "494. 5\n",
       "495. 1\n",
       "496. 4\n",
       "497. 5\n",
       "498. 5\n",
       "499. 5\n",
       "500. 3\n",
       "501. 5\n",
       "502. 5\n",
       "503. 5\n",
       "504. 2\n",
       "505. 2\n",
       "506. 1\n",
       "507. 3\n",
       "508. 3\n",
       "509. 1\n",
       "510. 4\n",
       "511. 4\n",
       "512. 1\n",
       "513. 3\n",
       "514. 5\n",
       "515. 2\n",
       "516. 5\n",
       "517. 5\n",
       "518. 3\n",
       "519. 2\n",
       "520. 2\n",
       "521. 4\n",
       "522. 3\n",
       "523. 2\n",
       "524. 4\n",
       "525. 2\n",
       "526. 1\n",
       "527. 2\n",
       "528. 2\n",
       "529. 1\n",
       "530. 2\n",
       "531. 1\n",
       "532. 3\n",
       "533. 1\n",
       "534. 1\n",
       "535. 5\n",
       "536. 1\n",
       "537. 5\n",
       "538. 2\n",
       "539. 1\n",
       "540. 4\n",
       "541. 5\n",
       "542. 1\n",
       "543. 5\n",
       "544. 3\n",
       "545. 1\n",
       "546. 3\n",
       "547. 2\n",
       "548. 5\n",
       "549. 2\n",
       "550. 4\n",
       "551. 1\n",
       "552. 4\n",
       "553. 4\n",
       "554. 1\n",
       "555. 1\n",
       "556. 5\n",
       "557. 3\n",
       "558. 4\n",
       "559. 5\n",
       "560. 3\n",
       "561. 2\n",
       "562. 1\n",
       "563. 3\n",
       "564. 4\n",
       "565. 1\n",
       "566. 3\n",
       "567. 4\n",
       "568. 1\n",
       "569. 5\n",
       "570. 3\n",
       "571. 4\n",
       "572. 1\n",
       "573. 3\n",
       "574. 1\n",
       "575. 3\n",
       "576. 1\n",
       "577. 3\n",
       "578. 1\n",
       "579. 4\n",
       "580. 4\n",
       "581. 4\n",
       "582. 1\n",
       "583. 5\n",
       "584. 4\n",
       "585. 5\n",
       "586. 1\n",
       "587. 4\n",
       "588. 2\n",
       "589. 2\n",
       "590. 5\n",
       "591. 5\n",
       "592. 3\n",
       "593. 1\n",
       "594. 2\n",
       "595. 3\n",
       "596. 5\n",
       "597. 5\n",
       "598. 4\n",
       "599. 3\n",
       "600. 3\n",
       "601. 2\n",
       "602. 3\n",
       "603. 2\n",
       "604. 1\n",
       "605. 1\n",
       "606. 4\n",
       "607. 2\n",
       "608. 1\n",
       "609. 2\n",
       "610. 5\n",
       "611. 5\n",
       "612. 2\n",
       "613. 5\n",
       "614. 3\n",
       "615. 5\n",
       "616. 3\n",
       "617. 3\n",
       "618. 5\n",
       "619. 1\n",
       "620. 1\n",
       "621. 5\n",
       "622. 3\n",
       "623. 4\n",
       "624. 4\n",
       "625. 2\n",
       "626. 4\n",
       "627. 5\n",
       "628. 5\n",
       "629. 4\n",
       "630. 3\n",
       "631. 3\n",
       "632. 2\n",
       "633. 3\n",
       "634. 4\n",
       "635. 5\n",
       "636. 1\n",
       "637. 2\n",
       "638. 3\n",
       "639. 5\n",
       "640. 1\n",
       "641. 2\n",
       "642. 1\n",
       "643. 2\n",
       "644. 2\n",
       "645. 4\n",
       "646. 4\n",
       "647. 1\n",
       "648. 5\n",
       "649. 3\n",
       "650. 2\n",
       "651. 5\n",
       "652. 2\n",
       "653. 5\n",
       "654. 3\n",
       "655. 5\n",
       "656. 5\n",
       "657. 1\n",
       "658. 4\n",
       "659. 5\n",
       "660. 1\n",
       "661. 5\n",
       "662. 3\n",
       "663. 1\n",
       "664. 2\n",
       "665. 5\n",
       "666. 1\n",
       "667. 5\n",
       "668. 5\n",
       "669. 5\n",
       "670. 4\n",
       "671. 4\n",
       "672. 3\n",
       "673. 1\n",
       "674. 1\n",
       "675. 2\n",
       "676. 3\n",
       "677. 2\n",
       "678. 2\n",
       "679. 5\n",
       "680. 5\n",
       "681. 4\n",
       "682. 5\n",
       "683. 1\n",
       "684. 2\n",
       "685. 1\n",
       "686. 4\n",
       "687. 4\n",
       "688. 1\n",
       "689. 1\n",
       "690. 1\n",
       "691. 4\n",
       "692. 4\n",
       "693. 2\n",
       "694. 2\n",
       "695. 2\n",
       "696. 1\n",
       "697. 3\n",
       "698. 5\n",
       "699. 2\n",
       "700. 2\n",
       "701. 2\n",
       "702. 4\n",
       "703. 3\n",
       "704. 3\n",
       "705. 1\n",
       "706. 3\n",
       "707. 1\n",
       "708. 5\n",
       "709. 3\n",
       "710. 3\n",
       "711. 5\n",
       "712. 4\n",
       "713. 5\n",
       "714. 1\n",
       "715. 1\n",
       "716. 1\n",
       "717. 4\n",
       "718. 4\n",
       "719. 3\n",
       "720. 4\n",
       "721. 5\n",
       "722. 3\n",
       "723. 5\n",
       "724. 3\n",
       "725. 2\n",
       "726. 3\n",
       "727. 2\n",
       "728. 3\n",
       "729. 1\n",
       "730. 4\n",
       "731. 2\n",
       "732. 2\n",
       "733. 3\n",
       "734. 5\n",
       "735. 4\n",
       "736. 5\n",
       "737. 2\n",
       "738. 5\n",
       "739. 5\n",
       "740. 1\n",
       "741. 4\n",
       "742. 3\n",
       "743. 4\n",
       "744. 3\n",
       "745. 1\n",
       "746. 3\n",
       "747. 1\n",
       "748. 4\n",
       "749. 4\n",
       "750. 5\n",
       "751. 5\n",
       "752. 1\n",
       "753. 4\n",
       "754. 3\n",
       "755. 1\n",
       "756. 4\n",
       "757. 2\n",
       "758. 1\n",
       "759. 2\n",
       "760. 4\n",
       "761. 3\n",
       "762. 5\n",
       "763. 2\n",
       "764. 5\n",
       "765. 5\n",
       "766. 5\n",
       "767. 3\n",
       "768. 5\n",
       "769. 2\n",
       "770. 3\n",
       "771. 4\n",
       "772. 1\n",
       "773. 4\n",
       "774. 1\n",
       "775. 5\n",
       "776. 1\n",
       "777. 3\n",
       "778. 2\n",
       "779. 5\n",
       "780. 1\n",
       "781. 3\n",
       "782. 4\n",
       "783. 4\n",
       "784. 2\n",
       "785. 5\n",
       "786. 1\n",
       "787. 3\n",
       "788. 4\n",
       "789. 3\n",
       "790. 2\n",
       "791. 3\n",
       "792. 5\n",
       "793. 4\n",
       "794. 2\n",
       "795. 5\n",
       "796. 3\n",
       "797. 3\n",
       "798. 5\n",
       "799. 3\n",
       "800. 1\n",
       "801. 2\n",
       "802. 1\n",
       "803. 3\n",
       "804. 1\n",
       "805. 1\n",
       "806. 1\n",
       "807. 1\n",
       "808. 5\n",
       "809. 1\n",
       "810. 3\n",
       "811. 1\n",
       "812. 5\n",
       "813. 2\n",
       "814. 1\n",
       "815. 1\n",
       "816. 2\n",
       "817. 2\n",
       "818. 2\n",
       "819. 3\n",
       "820. 2\n",
       "821. 2\n",
       "822. 3\n",
       "823. 2\n",
       "824. 5\n",
       "825. 4\n",
       "826. 4\n",
       "827. 4\n",
       "828. 1\n",
       "829. 3\n",
       "830. 4\n",
       "831. 1\n",
       "832. 3\n",
       "833. 1\n",
       "834. 2\n",
       "835. 4\n",
       "836. 2\n",
       "837. 1\n",
       "838. 5\n",
       "839. 3\n",
       "840. 2\n",
       "841. 3\n",
       "842. 2\n",
       "843. 5\n",
       "844. 4\n",
       "845. 2\n",
       "846. 2\n",
       "847. 4\n",
       "848. 1\n",
       "849. 3\n",
       "850. 4\n",
       "851. 1\n",
       "852. 2\n",
       "853. 5\n",
       "854. 3\n",
       "855. 3\n",
       "856. 5\n",
       "857. 1\n",
       "858. 5\n",
       "859. 2\n",
       "860. 2\n",
       "861. 5\n",
       "862. 3\n",
       "863. 2\n",
       "864. 1\n",
       "865. 1\n",
       "866. 3\n",
       "867. 1\n",
       "868. 3\n",
       "869. 1\n",
       "870. 1\n",
       "871. 4\n",
       "872. 3\n",
       "873. 2\n",
       "874. 4\n",
       "875. 5\n",
       "876. 5\n",
       "877. 4\n",
       "878. 1\n",
       "879. 5\n",
       "880. 5\n",
       "881. 3\n",
       "882. 2\n",
       "883. 4\n",
       "884. 4\n",
       "885. 5\n",
       "886. 5\n",
       "887. 1\n",
       "888. 4\n",
       "889. 5\n",
       "890. 1\n",
       "891. 3\n",
       "892. 5\n",
       "893. 1\n",
       "894. 2\n",
       "895. 2\n",
       "896. 2\n",
       "897. 1\n",
       "898. 1\n",
       "899. 3\n",
       "900. 1\n",
       "901. 5\n",
       "902. 3\n",
       "903. 1\n",
       "904. 2\n",
       "905. 4\n",
       "906. 5\n",
       "907. 5\n",
       "908. 1\n",
       "909. 1\n",
       "910. 1\n",
       "911. 2\n",
       "912. 1\n",
       "913. 1\n",
       "914. 5\n",
       "915. 3\n",
       "916. 5\n",
       "917. 3\n",
       "918. 4\n",
       "919. 4\n",
       "920. 5\n",
       "921. 4\n",
       "922. 3\n",
       "923. 5\n",
       "924. 1\n",
       "925. 3\n",
       "926. 2\n",
       "927. 1\n",
       "928. 3\n",
       "929. 5\n",
       "930. 3\n",
       "931. 1\n",
       "932. 4\n",
       "933. 1\n",
       "934. 4\n",
       "935. 5\n",
       "936. 4\n",
       "937. 3\n",
       "938. 1\n",
       "939. 3\n",
       "940. 4\n",
       "941. 3\n",
       "942. 3\n",
       "943. 5\n",
       "944. 5\n",
       "945. 3\n",
       "946. 3\n",
       "947. 2\n",
       "948. 4\n",
       "949. 5\n",
       "950. 5\n",
       "951. 1\n",
       "952. 4\n",
       "953. 5\n",
       "954. 5\n",
       "955. 4\n",
       "956. 4\n",
       "957. 3\n",
       "958. 1\n",
       "959. 3\n",
       "960. 4\n",
       "961. 1\n",
       "962. 3\n",
       "963. 1\n",
       "964. 3\n",
       "965. 1\n",
       "966. 4\n",
       "967. 1\n",
       "968. 1\n",
       "969. 1\n",
       "970. 5\n",
       "971. 5\n",
       "972. 2\n",
       "973. 4\n",
       "974. 3\n",
       "975. 3\n",
       "976. 2\n",
       "977. 1\n",
       "978. 1\n",
       "979. 1\n",
       "980. 4\n",
       "981. 5\n",
       "982. 4\n",
       "983. 2\n",
       "984. 1\n",
       "985. 4\n",
       "986. 1\n",
       "987. 1\n",
       "988. 5\n",
       "989. 2\n",
       "990. 3\n",
       "991. 3\n",
       "992. 1\n",
       "993. 3\n",
       "994. 4\n",
       "995. 3\n",
       "996. 2\n",
       "997. 1\n",
       "998. 1\n",
       "999. 5\n",
       "1000. 1\n",
       "\n",
       "\n"
      ],
      "text/plain": [
       "   [1] 5 4 4 5 1 1 1 1 5 1 1 1 1 3 5 2 5 4 1 3 3 5 4 2 3 4 4 5 2 4 5 2 4 3 1 5 5\n",
       "  [38] 3 5 5 3 5 1 5 1 4 1 5 5 2 4 4 5 2 5 5 4 3 4 5 2 1 3 1 3 2 3 4 5 2 5 4 4 4\n",
       "  [75] 4 2 5 3 2 2 1 2 4 1 4 2 1 1 4 2 1 3 5 1 4 4 5 2 2 1 1 4 1 5 4 2 5 2 5 1 4\n",
       " [112] 4 1 2 3 4 4 5 2 3 5 3 5 3 3 3 5 2 2 5 1 2 5 2 4 3 2 3 4 5 3 1 2 2 3 1 3 1\n",
       " [149] 5 4 4 1 2 4 4 2 1 3 1 4 1 2 5 4 3 3 1 4 2 5 3 1 5 1 5 4 5 5 4 1 1 2 2 1 3\n",
       " [186] 3 3 1 3 5 2 2 4 3 4 5 4 3 5 5 3 2 5 5 2 2 2 1 2 2 4 3 2 2 4 1 1 1 3 1 4 3\n",
       " [223] 4 1 3 1 2 3 4 4 4 5 2 1 1 5 1 3 5 4 4 3 4 3 2 5 2 2 2 3 4 1 1 1 3 4 3 1 3\n",
       " [260] 1 1 3 1 5 3 1 2 5 5 3 5 3 5 5 3 3 5 5 1 2 4 1 2 4 1 4 3 2 3 1 2 3 1 3 3 3\n",
       " [297] 1 3 5 3 5 2 2 5 5 5 1 1 4 1 2 3 5 4 4 5 4 2 2 2 1 1 2 2 3 1 2 5 3 3 4 4 5\n",
       " [334] 3 5 3 3 3 2 2 2 2 4 3 1 4 2 3 2 3 5 5 5 3 2 5 4 3 1 3 2 2 1 5 2 3 3 1 1 2\n",
       " [371] 4 5 3 4 5 5 2 1 3 2 5 4 4 5 3 3 2 4 3 3 2 1 1 5 2 2 1 5 2 2 5 4 4 3 5 4 2\n",
       " [408] 5 2 1 3 2 2 3 1 3 1 3 2 1 2 5 1 4 4 4 1 2 1 1 5 4 4 1 3 3 1 3 3 2 3 2 2 2\n",
       " [445] 4 2 4 4 1 3 1 2 4 5 4 5 5 2 3 3 4 3 4 1 2 2 1 2 5 4 5 5 5 4 4 4 1 4 5 3 1\n",
       " [482] 2 1 1 1 4 3 4 1 4 5 3 5 5 1 4 5 5 5 3 5 5 5 2 2 1 3 3 1 4 4 1 3 5 2 5 5 3\n",
       " [519] 2 2 4 3 2 4 2 1 2 2 1 2 1 3 1 1 5 1 5 2 1 4 5 1 5 3 1 3 2 5 2 4 1 4 4 1 1\n",
       " [556] 5 3 4 5 3 2 1 3 4 1 3 4 1 5 3 4 1 3 1 3 1 3 1 4 4 4 1 5 4 5 1 4 2 2 5 5 3\n",
       " [593] 1 2 3 5 5 4 3 3 2 3 2 1 1 4 2 1 2 5 5 2 5 3 5 3 3 5 1 1 5 3 4 4 2 4 5 5 4\n",
       " [630] 3 3 2 3 4 5 1 2 3 5 1 2 1 2 2 4 4 1 5 3 2 5 2 5 3 5 5 1 4 5 1 5 3 1 2 5 1\n",
       " [667] 5 5 5 4 4 3 1 1 2 3 2 2 5 5 4 5 1 2 1 4 4 1 1 1 4 4 2 2 2 1 3 5 2 2 2 4 3\n",
       " [704] 3 1 3 1 5 3 3 5 4 5 1 1 1 4 4 3 4 5 3 5 3 2 3 2 3 1 4 2 2 3 5 4 5 2 5 5 1\n",
       " [741] 4 3 4 3 1 3 1 4 4 5 5 1 4 3 1 4 2 1 2 4 3 5 2 5 5 5 3 5 2 3 4 1 4 1 5 1 3\n",
       " [778] 2 5 1 3 4 4 2 5 1 3 4 3 2 3 5 4 2 5 3 3 5 3 1 2 1 3 1 1 1 1 5 1 3 1 5 2 1\n",
       " [815] 1 2 2 2 3 2 2 3 2 5 4 4 4 1 3 4 1 3 1 2 4 2 1 5 3 2 3 2 5 4 2 2 4 1 3 4 1\n",
       " [852] 2 5 3 3 5 1 5 2 2 5 3 2 1 1 3 1 3 1 1 4 3 2 4 5 5 4 1 5 5 3 2 4 4 5 5 1 4\n",
       " [889] 5 1 3 5 1 2 2 2 1 1 3 1 5 3 1 2 4 5 5 1 1 1 2 1 1 5 3 5 3 4 4 5 4 3 5 1 3\n",
       " [926] 2 1 3 5 3 1 4 1 4 5 4 3 1 3 4 3 3 5 5 3 3 2 4 5 5 1 4 5 5 4 4 3 1 3 4 1 3\n",
       " [963] 1 3 1 4 1 1 1 5 5 2 4 3 3 2 1 1 1 4 5 4 2 1 4 1 1 5 2 3 3 1 3 4 3 2 1 1 5\n",
       "[1000] 1"
      ]
     },
     "metadata": {},
     "output_type": "display_data"
    }
   ],
   "source": [
    "s<-sample(1:5, 1000, replace=T, prob=c(.2,.2,.2,.2,.2))\n",
    "s"
   ]
  },
  {
   "cell_type": "markdown",
   "metadata": {
    "slideshow": {
     "slide_type": "subslide"
    }
   },
   "source": [
    "Si on utilise la fonction `table` afin de compter l'occurrence de chaque élément"
   ]
  },
  {
   "cell_type": "code",
   "execution_count": 7,
   "metadata": {
    "slideshow": {
     "slide_type": "fragment"
    }
   },
   "outputs": [
    {
     "data": {
      "text/plain": [
       "s\n",
       "  1   2   3   4   5 \n",
       "222 187 203 183 205 "
      ]
     },
     "metadata": {},
     "output_type": "display_data"
    }
   ],
   "source": [
    "tableau <- table(s)\n",
    "tableau"
   ]
  },
  {
   "cell_type": "markdown",
   "metadata": {
    "slideshow": {
     "slide_type": "subslide"
    }
   },
   "source": [
    "on remarque que chaque élément à été tiré à un taux d'environ 20%"
   ]
  },
  {
   "cell_type": "code",
   "execution_count": 18,
   "metadata": {
    "slideshow": {
     "slide_type": "fragment"
    }
   },
   "outputs": [
    {
     "data": {
      "text/html": [
       "0.222"
      ],
      "text/latex": [
       "0.222"
      ],
      "text/markdown": [
       "0.222"
      ],
      "text/plain": [
       "[1] 0.222"
      ]
     },
     "metadata": {},
     "output_type": "display_data"
    }
   ],
   "source": [
    "tableau[[1]]/sum(tableau)"
   ]
  },
  {
   "cell_type": "markdown",
   "metadata": {
    "slideshow": {
     "slide_type": "subslide"
    }
   },
   "source": [
    "Si on change les probabilités maintenant, mais **attention** la somme des probabilités doit être égale à 1"
   ]
  },
  {
   "cell_type": "code",
   "execution_count": 188,
   "metadata": {
    "slideshow": {
     "slide_type": "fragment"
    }
   },
   "outputs": [
    {
     "data": {
      "text/plain": [
       "s\n",
       "  1   2   3   4   5 \n",
       "197 509 101  87 106 "
      ]
     },
     "metadata": {},
     "output_type": "display_data"
    }
   ],
   "source": [
    "s<-sample(1:5, 1000, replace=T, prob=c(.2,.5,.1,.1,.1))\n",
    "table(s)"
   ]
  },
  {
   "cell_type": "markdown",
   "metadata": {
    "slideshow": {
     "slide_type": "slide"
    }
   },
   "source": [
    "## rnorm\n",
    "La moyenne par défaut est égale à 0 et l'écart-type=1"
   ]
  },
  {
   "cell_type": "code",
   "execution_count": 190,
   "metadata": {
    "slideshow": {
     "slide_type": "subslide"
    }
   },
   "outputs": [
    {
     "data": {
      "text/html": [
       "0.106821263122198"
      ],
      "text/latex": [
       "0.106821263122198"
      ],
      "text/markdown": [
       "0.106821263122198"
      ],
      "text/plain": [
       "[1] 0.1068213"
      ]
     },
     "metadata": {},
     "output_type": "display_data"
    }
   ],
   "source": [
    "rnorm(1)"
   ]
  },
  {
   "cell_type": "code",
   "execution_count": 191,
   "metadata": {
    "slideshow": {
     "slide_type": "fragment"
    }
   },
   "outputs": [
    {
     "data": {
      "text/html": [
       "-24.9130626933775"
      ],
      "text/latex": [
       "-24.9130626933775"
      ],
      "text/markdown": [
       "-24.9130626933775"
      ],
      "text/plain": [
       "[1] -24.91306"
      ]
     },
     "metadata": {},
     "output_type": "display_data"
    }
   ],
   "source": [
    "rnorm(1, 0, 100)"
   ]
  },
  {
   "cell_type": "markdown",
   "metadata": {
    "slideshow": {
     "slide_type": "subslide"
    }
   },
   "source": [
    "Créons un vecteur de 100 valeurs avec moyenne=100 et écart-type=100"
   ]
  },
  {
   "cell_type": "code",
   "execution_count": 192,
   "metadata": {
    "collapsed": true,
    "slideshow": {
     "slide_type": "fragment"
    }
   },
   "outputs": [],
   "source": [
    "x<-rnorm(100, 0, 100)"
   ]
  },
  {
   "cell_type": "markdown",
   "metadata": {
    "slideshow": {
     "slide_type": "subslide"
    }
   },
   "source": [
    "Si on calcule la moyenne de ce vecteur;"
   ]
  },
  {
   "cell_type": "code",
   "execution_count": 193,
   "metadata": {
    "slideshow": {
     "slide_type": "fragment"
    }
   },
   "outputs": [
    {
     "data": {
      "text/html": [
       "-5.83207843041791"
      ],
      "text/latex": [
       "-5.83207843041791"
      ],
      "text/markdown": [
       "-5.83207843041791"
      ],
      "text/plain": [
       "[1] -5.832078"
      ]
     },
     "metadata": {},
     "output_type": "display_data"
    }
   ],
   "source": [
    "mean(x)"
   ]
  },
  {
   "cell_type": "markdown",
   "metadata": {
    "slideshow": {
     "slide_type": "subslide"
    }
   },
   "source": [
    "Nous avons obtenu une moyenne proche de la moyenne de nos variables aléatoires générées par la fonction `rnorm`"
   ]
  },
  {
   "cell_type": "markdown",
   "metadata": {
    "slideshow": {
     "slide_type": "fragment"
    }
   },
   "source": [
    "La même chose maintenant pour l'écart-type"
   ]
  },
  {
   "cell_type": "code",
   "execution_count": 195,
   "metadata": {
    "slideshow": {
     "slide_type": "fragment"
    }
   },
   "outputs": [
    {
     "data": {
      "text/html": [
       "93.1100361171955"
      ],
      "text/latex": [
       "93.1100361171955"
      ],
      "text/markdown": [
       "93.1100361171955"
      ],
      "text/plain": [
       "[1] 93.11004"
      ]
     },
     "metadata": {},
     "output_type": "display_data"
    }
   ],
   "source": [
    "sd(x)"
   ]
  },
  {
   "cell_type": "markdown",
   "metadata": {
    "slideshow": {
     "slide_type": "subslide"
    }
   },
   "source": [
    "Toutefois, si nous augmentons le nombre de variables aléatoires généré, nous sommes alors plus proches des arguments de la fonction `rnorm` que nous avons saisie"
   ]
  },
  {
   "cell_type": "code",
   "execution_count": 197,
   "metadata": {
    "slideshow": {
     "slide_type": "fragment"
    }
   },
   "outputs": [
    {
     "data": {
      "text/html": [
       "0.963181514782263"
      ],
      "text/latex": [
       "0.963181514782263"
      ],
      "text/markdown": [
       "0.963181514782263"
      ],
      "text/plain": [
       "[1] 0.9631815"
      ]
     },
     "metadata": {},
     "output_type": "display_data"
    }
   ],
   "source": [
    "x<-rnorm(10000, 0, 100)\n",
    "mean(x)"
   ]
  },
  {
   "cell_type": "code",
   "execution_count": 198,
   "metadata": {
    "slideshow": {
     "slide_type": "fragment"
    }
   },
   "outputs": [
    {
     "data": {
      "text/html": [
       "101.228973820731"
      ],
      "text/latex": [
       "101.228973820731"
      ],
      "text/markdown": [
       "101.228973820731"
      ],
      "text/plain": [
       "[1] 101.229"
      ]
     },
     "metadata": {},
     "output_type": "display_data"
    }
   ],
   "source": [
    "sd(x)"
   ]
  }
 ],
 "metadata": {
  "anaconda-cloud": {},
  "celltoolbar": "Slideshow",
  "kernelspec": {
   "display_name": "R",
   "language": "R",
   "name": "ir"
  },
  "language_info": {
   "codemirror_mode": "r",
   "file_extension": ".r",
   "mimetype": "text/x-r-source",
   "name": "R",
   "pygments_lexer": "r",
   "version": "3.4.3"
  },
  "latex_envs": {
   "LaTeX_envs_menu_present": true,
   "autoclose": false,
   "autocomplete": true,
   "bibliofile": "biblio.bib",
   "cite_by": "apalike",
   "current_citInitial": 1,
   "eqLabelWithNumbers": true,
   "eqNumInitial": 1,
   "hotkeys": {
    "equation": "Ctrl-E",
    "itemize": "Ctrl-I"
   },
   "labels_anchors": false,
   "latex_user_defs": false,
   "report_style_numbering": false,
   "user_envs_cfg": false
  },
  "name": "_merged",
  "toc": {
   "base_numbering": 1,
   "nav_menu": {
    "height": "512px",
    "width": "252px"
   },
   "number_sections": false,
   "sideBar": true,
   "skip_h1_title": false,
   "title_cell": "Table of Contents",
   "title_sidebar": "Contents",
   "toc_cell": true,
   "toc_position": {
    "height": "596px",
    "left": "0px",
    "right": "1017px",
    "top": "107px",
    "width": "250px"
   },
   "toc_section_display": "block",
   "toc_window_display": false
  }
 },
 "nbformat": 4,
 "nbformat_minor": 1
}
