{
 "cells": [
  {
   "cell_type": "markdown",
   "metadata": {},
   "source": [
    "# for loops"
   ]
  },
  {
   "cell_type": "markdown",
   "metadata": {},
   "source": [
    "## numéro1"
   ]
  },
  {
   "cell_type": "markdown",
   "metadata": {},
   "source": [
    "En utilisant les variables suivantes:\n",
    "x=1\n",
    "y=40\n",
    "i=c(1:10)\n",
    "Pour cet exercice, écrivez une boucle for () qui incrémente x par trois et diminue y par deux, pour chaque i."
   ]
  },
  {
   "cell_type": "code",
   "execution_count": null,
   "metadata": {
    "collapsed": true
   },
   "outputs": [],
   "source": []
  },
  {
   "cell_type": "code",
   "execution_count": null,
   "metadata": {
    "collapsed": true
   },
   "outputs": [],
   "source": [
    "x=1\n",
    "y=40\n",
    "i=c(1:10)\n",
    "for (j in i)\n",
    "{x=x+3\n",
    " y=y-2\n",
    "print(paste(x, y, sep=\"_\"))\n",
    "}"
   ]
  },
  {
   "cell_type": "markdown",
   "metadata": {},
   "source": [
    "## Numéro 2"
   ]
  },
  {
   "cell_type": "markdown",
   "metadata": {},
   "source": [
    "Soit les variables:"
   ]
  },
  {
   "cell_type": "code",
   "execution_count": null,
   "metadata": {
    "collapsed": true
   },
   "outputs": [],
   "source": [
    "a=15:10\n",
    "b=20:15"
   ]
  },
  {
   "cell_type": "markdown",
   "metadata": {},
   "source": [
    "Pour cet exercice, écrivez une boucle `while()` qui calcule un vecteur x = 225 224 221 216 209 200, tel que"
   ]
  },
  {
   "cell_type": "markdown",
   "metadata": {},
   "source": [
    "```R\n",
    "x[1]=a[1]*b[6]\n",
    "x[2]=a[2]*b[5]\n",
    "x[3]=a[3]*b[5]\n",
    ".\n",
    ".\n",
    "x[6]=a[6]*b[1]\n",
    "```"
   ]
  },
  {
   "cell_type": "code",
   "execution_count": null,
   "metadata": {
    "collapsed": true
   },
   "outputs": [],
   "source": [
    "x=c()\n",
    "i=1\n",
    "j=6\n",
    "while (i<7)\n",
    "{\n",
    "  x[i]=a[i]*b[j]\n",
    "  i=i+1\n",
    "  j=j-1\n",
    "}\n",
    "x"
   ]
  },
  {
   "cell_type": "markdown",
   "metadata": {},
   "source": [
    "## numero 3"
   ]
  },
  {
   "cell_type": "markdown",
   "metadata": {},
   "source": [
    "en utilisant la variable suivante:\n",
    "\n",
    "a=1:10\n",
    "\n",
    "Pour cet exercice, écrivez une boucle `while ()` qui calcule un vecteur x = 1 3 6 10 15 21 28 36 45 55, tel que\n",
    "\n",
    "```R\n",
    "x[1]=a[1]\n",
    "x[2]=a[1]+a[2]\n",
    "x[3]=a[1]+a[2]+a[3]\n",
    ".\n",
    ".\n",
    "```"
   ]
  },
  {
   "cell_type": "code",
   "execution_count": null,
   "metadata": {
    "collapsed": true
   },
   "outputs": [],
   "source": [
    "a=1:10\n",
    "\n",
    "i=1\n",
    "x=c()\n",
    "while (i<=10)\n",
    "  {\n",
    "  x[i]=sum(a[1:i])\n",
    "  i=i+1\n",
    "  }\n",
    "x"
   ]
  },
  {
   "cell_type": "markdown",
   "metadata": {},
   "source": [
    "## Numéro 4"
   ]
  },
  {
   "cell_type": "markdown",
   "metadata": {},
   "source": [
    "en utilisant la variable suivante:\n",
    "```R\n",
    "i=10\n",
    "x=10\n",
    "```\n",
    "Pour cet exercice, écrivez une boucle `repeat()` qui diminue en calculant `x = x / i` jusqu'à ce que `i = 0`."
   ]
  },
  {
   "cell_type": "code",
   "execution_count": 5,
   "metadata": {},
   "outputs": [
    {
     "name": "stdout",
     "output_type": "stream",
     "text": [
      "[1] 1\n",
      "[1] 0.1111111\n",
      "[1] 0.01388889\n",
      "[1] 0.001984127\n",
      "[1] 0.0003306878\n",
      "[1] 6.613757e-05\n",
      "[1] 1.653439e-05\n",
      "[1] 5.511464e-06\n",
      "[1] 2.755732e-06\n",
      "[1] 2.755732e-06\n"
     ]
    }
   ],
   "source": [
    "i=10\n",
    "x=10\n",
    "\n",
    "repeat\n",
    "  {x=x/i\n",
    "  print(x)\n",
    "  i=i-1\n",
    "  if (i==0)\n",
    "    break\n",
    "  }"
   ]
  },
  {
   "cell_type": "markdown",
   "metadata": {},
   "source": [
    "## Numéro 5"
   ]
  },
  {
   "cell_type": "markdown",
   "metadata": {},
   "source": [
    "Puisque vous êtes en fin de session, vous voulez faire un plan d'étude pour bien réussir vos examens. Ecrivez une boucle repeat qui permet d'afficher toutes les dates entre aujourd'hui et le jour de votre dernier examen:"
   ]
  },
  {
   "cell_type": "code",
   "execution_count": 8,
   "metadata": {},
   "outputs": [
    {
     "name": "stdout",
     "output_type": "stream",
     "text": [
      "[1] \"2018-03-29\"\n",
      "[1] \"2018-03-30\"\n",
      "[1] \"2018-03-31\"\n",
      "[1] \"2018-04-01\"\n",
      "[1] \"2018-04-02\"\n",
      "[1] \"2018-04-03\"\n",
      "[1] \"2018-04-04\"\n",
      "[1] \"2018-04-05\"\n",
      "[1] \"2018-04-06\"\n",
      "[1] \"2018-04-07\"\n",
      "[1] \"2018-04-08\"\n",
      "[1] \"2018-04-09\"\n",
      "[1] \"2018-04-10\"\n",
      "[1] \"2018-04-11\"\n",
      "[1] \"2018-04-12\"\n",
      "[1] \"2018-04-13\"\n",
      "[1] \"2018-04-14\"\n",
      "[1] \"2018-04-15\"\n",
      "[1] \"2018-04-16\"\n",
      "[1] \"2018-04-17\"\n",
      "[1] \"2018-04-18\"\n"
     ]
    }
   ],
   "source": [
    "auj<-as.Date(Sys.Date(),\"%d/%m/%Y\")\n",
    "dernier_exam<-as.Date(\"18/04/2018\",\"%d/%m/%Y\")\n",
    "repeat\n",
    "{\n",
    "auj<-auj+1\n",
    "    print(auj)\n",
    "if (auj==dernier_exam)\n",
    "  break\n",
    "}"
   ]
  }
 ],
 "metadata": {
  "anaconda-cloud": {},
  "kernelspec": {
   "display_name": "R",
   "language": "R",
   "name": "ir"
  },
  "language_info": {
   "codemirror_mode": "r",
   "file_extension": ".r",
   "mimetype": "text/x-r-source",
   "name": "R",
   "pygments_lexer": "r",
   "version": "3.4.1"
  },
  "latex_envs": {
   "LaTeX_envs_menu_present": true,
   "bibliofile": "biblio.bib",
   "cite_by": "apalike",
   "current_citInitial": 1,
   "eqLabelWithNumbers": true,
   "eqNumInitial": 1,
   "labels_anchors": false,
   "latex_user_defs": false,
   "report_style_numbering": false,
   "user_envs_cfg": false
  },
  "toc": {
   "base_numbering": 1,
   "nav_menu": {
    "height": "228px",
    "width": "252px"
   },
   "number_sections": false,
   "sideBar": true,
   "skip_h1_title": false,
   "title_cell": "Table of Contents",
   "title_sidebar": "Contents",
   "toc_cell": false,
   "toc_position": {},
   "toc_section_display": "block",
   "toc_window_display": true
  }
 },
 "nbformat": 4,
 "nbformat_minor": 1
}
