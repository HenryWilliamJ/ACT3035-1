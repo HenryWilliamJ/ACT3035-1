{
 "cells": [
  {
   "cell_type": "code",
   "execution_count": 21,
   "metadata": {},
   "outputs": [],
   "source": [
    "library(stringr)"
   ]
  },
  {
   "cell_type": "markdown",
   "metadata": {},
   "source": [
    "# no 1\n",
    "Créer n'importe quuel fichier sur votre répertoire de travail et vérifier s'il existe.\n",
    "\n",
    "**Note** ce numéros sert juste à pratiquer `file.create` et `file.exists`."
   ]
  },
  {
   "cell_type": "code",
   "execution_count": 1,
   "metadata": {},
   "outputs": [
    {
     "data": {
      "text/html": [
       "TRUE"
      ],
      "text/latex": [
       "TRUE"
      ],
      "text/markdown": [
       "TRUE"
      ],
      "text/plain": [
       "[1] TRUE"
      ]
     },
     "metadata": {},
     "output_type": "display_data"
    }
   ],
   "source": [
    "file.create(\"vide.txt\")"
   ]
  },
  {
   "cell_type": "code",
   "execution_count": 3,
   "metadata": {},
   "outputs": [
    {
     "data": {
      "text/html": [
       "TRUE"
      ],
      "text/latex": [
       "TRUE"
      ],
      "text/markdown": [
       "TRUE"
      ],
      "text/plain": [
       "[1] TRUE"
      ]
     },
     "metadata": {},
     "output_type": "display_data"
    }
   ],
   "source": [
    "file.exists(\"vide.txt\")"
   ]
  },
  {
   "cell_type": "code",
   "execution_count": 4,
   "metadata": {},
   "outputs": [
    {
     "data": {
      "text/html": [
       "FALSE"
      ],
      "text/latex": [
       "FALSE"
      ],
      "text/markdown": [
       "FALSE"
      ],
      "text/plain": [
       "[1] FALSE"
      ]
     },
     "metadata": {},
     "output_type": "display_data"
    }
   ],
   "source": [
    "file.exists(\"vide.csv\")"
   ]
  },
  {
   "cell_type": "markdown",
   "metadata": {},
   "source": [
    "# no 2"
   ]
  },
  {
   "cell_type": "markdown",
   "metadata": {},
   "source": [
    "\n",
    "Créez une variable qui représente votre date de naissance appelée date_naiss.\n"
   ]
  },
  {
   "cell_type": "code",
   "execution_count": 74,
   "metadata": {},
   "outputs": [
    {
     "data": {
      "text/html": [
       "<time datetime=\"1990-10-16\">1990-10-16</time>"
      ],
      "text/latex": [
       "1990-10-16"
      ],
      "text/markdown": [
       "1990-10-16"
      ],
      "text/plain": [
       "[1] \"1990-10-16\""
      ]
     },
     "metadata": {},
     "output_type": "display_data"
    }
   ],
   "source": [
    "date_naiss<-ymd('1990-10-16')\n",
    "date_naiss"
   ]
  },
  {
   "cell_type": "markdown",
   "metadata": {},
   "source": [
    "Quelle est la date d'aujourd'hui?"
   ]
  },
  {
   "cell_type": "code",
   "execution_count": 75,
   "metadata": {},
   "outputs": [
    {
     "data": {
      "text/html": [
       "<time datetime=\"2018-09-30\">2018-09-30</time>"
      ],
      "text/latex": [
       "2018-09-30"
      ],
      "text/markdown": [
       "2018-09-30"
      ],
      "text/plain": [
       "[1] \"2018-09-30\""
      ]
     },
     "metadata": {},
     "output_type": "display_data"
    }
   ],
   "source": [
    "auj=Sys.Date()\n",
    "auj"
   ]
  },
  {
   "cell_type": "markdown",
   "metadata": {},
   "source": [
    "Quelle jour de semaine vous êtes né?"
   ]
  },
  {
   "cell_type": "code",
   "execution_count": null,
   "metadata": {
    "collapsed": true
   },
   "outputs": [],
   "source": [
    "weekdays(date_naiss)"
   ]
  },
  {
   "cell_type": "markdown",
   "metadata": {},
   "source": [
    "Affichez le résultat en espagnole"
   ]
  },
  {
   "cell_type": "code",
   "execution_count": null,
   "metadata": {
    "collapsed": true
   },
   "outputs": [],
   "source": [
    "Sys.setlocale(locale=\"es_ES.UTF-8\")"
   ]
  },
  {
   "cell_type": "code",
   "execution_count": null,
   "metadata": {
    "collapsed": true
   },
   "outputs": [],
   "source": [
    "weekdays(date_naiss)"
   ]
  },
  {
   "cell_type": "markdown",
   "metadata": {},
   "source": [
    "Remettre votre ordi en Français"
   ]
  },
  {
   "cell_type": "code",
   "execution_count": null,
   "metadata": {
    "collapsed": true
   },
   "outputs": [],
   "source": [
    "Sys.setlocale(locale=\"fr_FR.UTF-8\")"
   ]
  },
  {
   "cell_type": "markdown",
   "metadata": {},
   "source": [
    "# no 3"
   ]
  },
  {
   "cell_type": "markdown",
   "metadata": {},
   "source": [
    "Afin de remercier vos collègues de travail de leur présence à votre première formation que vous avez donné, vous décidez de leur envoyer un message de remerciemenets. Toutefois, vous voulez ajouter votre touche personnelle en écrivant un émail à chaucun de vos collègues. en mentionnant leur prénoms à l'entête de du message. \n",
    "\n",
    "Votre message ressmble à ceci:\n",
    "___\n",
    "```\n",
    "Chèr \"prénom\", \n",
    "\n",
    "Un petit mot pour vous dire merci. Merci d’avoir contribué à la réussite de ma première présentation.\n",
    "\n",
    "À bientôt!\n",
    "\n",
    "```\n",
    "___"
   ]
  },
  {
   "cell_type": "markdown",
   "metadata": {},
   "source": [
    "Toutefois, vous vous rendez compte qu'il faut accorder le mot \"chèr\" au masculin ou au féminin selon le sexe de votre collègue. Vous ne voulez certainement pas perdre votre temps à le faire manuellement, alors vous confiez la tâche à votre bel ordinateur qui comprends bien le langage `R`!"
   ]
  },
  {
   "cell_type": "code",
   "execution_count": 52,
   "metadata": {},
   "outputs": [],
   "source": [
    "a<-read.csv(\"https://raw.githubusercontent.com/nmeraihi/data/master/coll%C3%A8gues.csv\")"
   ]
  },
  {
   "cell_type": "code",
   "execution_count": 53,
   "metadata": {},
   "outputs": [
    {
     "data": {
      "text/html": [
       "<table>\n",
       "<thead><tr><th></th><th scope=col>birthdate</th><th scope=col>PrenomNom</th><th scope=col>sex</th></tr></thead>\n",
       "<tbody>\n",
       "\t<tr><th scope=row>66</th><td>1983-08-04             </td><td>Sabine Lejeune         </td><td>F                      </td></tr>\n",
       "\t<tr><th scope=row>67</th><td>1995-05-24             </td><td>Timothée Marchand      </td><td>M                      </td></tr>\n",
       "\t<tr><th scope=row>68</th><td>1990-06-05             </td><td>Sylvie Roux-Delattre   </td><td>F                      </td></tr>\n",
       "\t<tr><th scope=row>69</th><td>1985-02-14             </td><td>Patrick-Daniel Barre   </td><td>M                      </td></tr>\n",
       "\t<tr><th scope=row>70</th><td>1981-02-20             </td><td>Laurent Lacombe-Lecomte</td><td>M                      </td></tr>\n",
       "\t<tr><th scope=row>71</th><td>1990-03-08             </td><td>Marcel David           </td><td>M                      </td></tr>\n",
       "</tbody>\n",
       "</table>\n"
      ],
      "text/latex": [
       "\\begin{tabular}{r|lll}\n",
       "  & birthdate & PrenomNom & sex\\\\\n",
       "\\hline\n",
       "\t66 & 1983-08-04              & Sabine Lejeune          & F                      \\\\\n",
       "\t67 & 1995-05-24              & Timothée Marchand       & M                      \\\\\n",
       "\t68 & 1990-06-05              & Sylvie Roux-Delattre    & F                      \\\\\n",
       "\t69 & 1985-02-14              & Patrick-Daniel Barre    & M                      \\\\\n",
       "\t70 & 1981-02-20              & Laurent Lacombe-Lecomte & M                      \\\\\n",
       "\t71 & 1990-03-08              & Marcel David            & M                      \\\\\n",
       "\\end{tabular}\n"
      ],
      "text/markdown": [
       "\n",
       "| <!--/--> | birthdate | PrenomNom | sex | \n",
       "|---|---|---|---|---|---|\n",
       "| 66 | 1983-08-04              | Sabine Lejeune          | F                       | \n",
       "| 67 | 1995-05-24              | Timothée Marchand       | M                       | \n",
       "| 68 | 1990-06-05              | Sylvie Roux-Delattre    | F                       | \n",
       "| 69 | 1985-02-14              | Patrick-Daniel Barre    | M                       | \n",
       "| 70 | 1981-02-20              | Laurent Lacombe-Lecomte | M                       | \n",
       "| 71 | 1990-03-08              | Marcel David            | M                       | \n",
       "\n",
       "\n"
      ],
      "text/plain": [
       "   birthdate  PrenomNom               sex\n",
       "66 1983-08-04 Sabine Lejeune          F  \n",
       "67 1995-05-24 Timothée Marchand       M  \n",
       "68 1990-06-05 Sylvie Roux-Delattre    F  \n",
       "69 1985-02-14 Patrick-Daniel Barre    M  \n",
       "70 1981-02-20 Laurent Lacombe-Lecomte M  \n",
       "71 1990-03-08 Marcel David            M  "
      ]
     },
     "metadata": {},
     "output_type": "display_data"
    }
   ],
   "source": [
    "tail(a)"
   ]
  },
  {
   "cell_type": "code",
   "execution_count": 54,
   "metadata": {},
   "outputs": [],
   "source": [
    "library(stringr)"
   ]
  },
  {
   "cell_type": "code",
   "execution_count": 55,
   "metadata": {},
   "outputs": [],
   "source": [
    "a$prenom<- str_split_fixed(a$PrenomNom, \" \", 2)[,1]\n",
    "a$nom<- str_split_fixed(a$PrenomNom, \" \", 2)[,2]"
   ]
  },
  {
   "cell_type": "code",
   "execution_count": 56,
   "metadata": {},
   "outputs": [
    {
     "data": {
      "text/html": [
       "<table>\n",
       "<thead><tr><th scope=col>birthdate</th><th scope=col>PrenomNom</th><th scope=col>sex</th><th scope=col>prenom</th><th scope=col>nom</th></tr></thead>\n",
       "<tbody>\n",
       "\t<tr><td>1985-07-02                </td><td>Anaïs-Adrienne Launay     </td><td>F                         </td><td>Anaïs-Adrienne            </td><td>Launay                    </td></tr>\n",
       "\t<tr><td>1994-11-11                </td><td>Benjamin Delmas de la Gros</td><td>M                         </td><td>Benjamin                  </td><td>Delmas de la Gros         </td></tr>\n",
       "\t<tr><td>1991-03-20                </td><td>Laurence Lucas            </td><td>F                         </td><td>Laurence                  </td><td>Lucas                     </td></tr>\n",
       "\t<tr><td>1993-12-01                </td><td>Philippine Laurent        </td><td>F                         </td><td>Philippine                </td><td>Laurent                   </td></tr>\n",
       "\t<tr><td>1984-03-22                </td><td>Louise Paris              </td><td>F                         </td><td>Louise                    </td><td>Paris                     </td></tr>\n",
       "\t<tr><td>1976-07-29                </td><td>André Joly                </td><td>M                         </td><td>André                     </td><td>Joly                      </td></tr>\n",
       "</tbody>\n",
       "</table>\n"
      ],
      "text/latex": [
       "\\begin{tabular}{r|lllll}\n",
       " birthdate & PrenomNom & sex & prenom & nom\\\\\n",
       "\\hline\n",
       "\t 1985-07-02                 & Anaïs-Adrienne Launay      & F                          & Anaïs-Adrienne             & Launay                    \\\\\n",
       "\t 1994-11-11                 & Benjamin Delmas de la Gros & M                          & Benjamin                   & Delmas de la Gros         \\\\\n",
       "\t 1991-03-20                 & Laurence Lucas             & F                          & Laurence                   & Lucas                     \\\\\n",
       "\t 1993-12-01                 & Philippine Laurent         & F                          & Philippine                 & Laurent                   \\\\\n",
       "\t 1984-03-22                 & Louise Paris               & F                          & Louise                     & Paris                     \\\\\n",
       "\t 1976-07-29                 & André Joly                 & M                          & André                      & Joly                      \\\\\n",
       "\\end{tabular}\n"
      ],
      "text/markdown": [
       "\n",
       "birthdate | PrenomNom | sex | prenom | nom | \n",
       "|---|---|---|---|---|---|\n",
       "| 1985-07-02                 | Anaïs-Adrienne Launay      | F                          | Anaïs-Adrienne             | Launay                     | \n",
       "| 1994-11-11                 | Benjamin Delmas de la Gros | M                          | Benjamin                   | Delmas de la Gros          | \n",
       "| 1991-03-20                 | Laurence Lucas             | F                          | Laurence                   | Lucas                      | \n",
       "| 1993-12-01                 | Philippine Laurent         | F                          | Philippine                 | Laurent                    | \n",
       "| 1984-03-22                 | Louise Paris               | F                          | Louise                     | Paris                      | \n",
       "| 1976-07-29                 | André Joly                 | M                          | André                      | Joly                       | \n",
       "\n",
       "\n"
      ],
      "text/plain": [
       "  birthdate  PrenomNom                  sex prenom         nom              \n",
       "1 1985-07-02 Anaïs-Adrienne Launay      F   Anaïs-Adrienne Launay           \n",
       "2 1994-11-11 Benjamin Delmas de la Gros M   Benjamin       Delmas de la Gros\n",
       "3 1991-03-20 Laurence Lucas             F   Laurence       Lucas            \n",
       "4 1993-12-01 Philippine Laurent         F   Philippine     Laurent          \n",
       "5 1984-03-22 Louise Paris               F   Louise         Paris            \n",
       "6 1976-07-29 André Joly                 M   André          Joly             "
      ]
     },
     "metadata": {},
     "output_type": "display_data"
    }
   ],
   "source": [
    "head(a)"
   ]
  },
  {
   "cell_type": "code",
   "execution_count": 57,
   "metadata": {},
   "outputs": [],
   "source": [
    "a$forme_mas_fem<-ifelse(a$sex==\"F\", paste(\"Chère\", a$prenom, \",\"), paste(\"Chèr\", a$prenom, \",\", sep = \" \"))"
   ]
  },
  {
   "cell_type": "code",
   "execution_count": 58,
   "metadata": {},
   "outputs": [],
   "source": [
    "a$message<-paste(a$forme, \n",
    "                 \"Un petit mot pour vous dire merci. Merci d’avoir contribué à la réussite de ma première présentation.\",\n",
    "                \"À bientôt!\",sep=\"\\n\")"
   ]
  },
  {
   "cell_type": "code",
   "execution_count": 59,
   "metadata": {},
   "outputs": [
    {
     "name": "stdout",
     "output_type": "stream",
     "text": [
      "[1] \"Chère Anaïs-Adrienne ,\\nUn petit mot pour vous dire merci. Merci d’avoir contribué à la réussite de ma première présentation.\\nÀ bientôt!\"\n",
      "[2] \"Chèr Benjamin ,\\nUn petit mot pour vous dire merci. Merci d’avoir contribué à la réussite de ma première présentation.\\nÀ bientôt!\"       \n",
      "[3] \"Chère Laurence ,\\nUn petit mot pour vous dire merci. Merci d’avoir contribué à la réussite de ma première présentation.\\nÀ bientôt!\"      \n",
      "[4] \"Chère Philippine ,\\nUn petit mot pour vous dire merci. Merci d’avoir contribué à la réussite de ma première présentation.\\nÀ bientôt!\"    \n",
      "[5] \"Chère Louise ,\\nUn petit mot pour vous dire merci. Merci d’avoir contribué à la réussite de ma première présentation.\\nÀ bientôt!\"        \n",
      "[6] \"Chèr André ,\\nUn petit mot pour vous dire merci. Merci d’avoir contribué à la réussite de ma première présentation.\\nÀ bientôt!\"          \n"
     ]
    }
   ],
   "source": [
    "print(head(a$message))"
   ]
  },
  {
   "cell_type": "markdown",
   "metadata": {},
   "source": [
    "Lorsqu'on affiche le message qui doit être envoyé à chaque collègue, on remarque:\n",
    "* Les charactères `\\n` permettent de créer un saut de ligne dans le paragraphe lorsque ce dernier est écrirt dans un fichier `.txt`\n",
    "* On remarque aussi que nous nous adresson bien à nos collègues féminis par `Chère` (Chère Anaïs-Adrienne) alors que les collègues masculins par `Chèr` (Chèr André).\n"
   ]
  }
 ],
 "metadata": {
  "anaconda-cloud": {},
  "kernelspec": {
   "display_name": "R",
   "language": "R",
   "name": "ir"
  },
  "language_info": {
   "codemirror_mode": "r",
   "file_extension": ".r",
   "mimetype": "text/x-r-source",
   "name": "R",
   "pygments_lexer": "r",
   "version": "3.4.1"
  },
  "latex_envs": {
   "LaTeX_envs_menu_present": true,
   "bibliofile": "biblio.bib",
   "cite_by": "apalike",
   "current_citInitial": 1,
   "eqLabelWithNumbers": true,
   "eqNumInitial": 1,
   "labels_anchors": false,
   "latex_user_defs": false,
   "report_style_numbering": false,
   "user_envs_cfg": false
  },
  "toc": {
   "base_numbering": 1,
   "nav_menu": {
    "height": "228px",
    "width": "252px"
   },
   "number_sections": false,
   "sideBar": true,
   "skip_h1_title": false,
   "title_cell": "Table of Contents",
   "title_sidebar": "Contents",
   "toc_cell": false,
   "toc_position": {},
   "toc_section_display": "block",
   "toc_window_display": true
  }
 },
 "nbformat": 4,
 "nbformat_minor": 1
}
