{
 "cells": [
  {
   "cell_type": "markdown",
   "metadata": {
    "slideshow": {
     "slide_type": "slide"
    },
    "toc": "true"
   },
   "source": [
    "<h1>Table of Contents<span class=\"tocSkip\"></span></h1>\n",
    "<div class=\"toc\"><ul class=\"toc-item\"><li><span><a href=\"#Les-fonctions-sur-les-caractères\" data-toc-modified-id=\"Les-fonctions-sur-les-caractères-1\"><span class=\"toc-item-num\">1&nbsp;&nbsp;</span>Les fonctions sur les caractères</a></span><ul class=\"toc-item\"><li><span><a href=\"#substr()\" data-toc-modified-id=\"substr()-1.1\"><span class=\"toc-item-num\">1.1&nbsp;&nbsp;</span>substr()</a></span></li><li><span><a href=\"#nchar()\" data-toc-modified-id=\"nchar()-1.2\"><span class=\"toc-item-num\">1.2&nbsp;&nbsp;</span>nchar()</a></span></li><li><span><a href=\"#Paste\" data-toc-modified-id=\"Paste-1.3\"><span class=\"toc-item-num\">1.3&nbsp;&nbsp;</span>Paste</a></span></li><li><span><a href=\"#grep\" data-toc-modified-id=\"grep-1.4\"><span class=\"toc-item-num\">1.4&nbsp;&nbsp;</span>grep</a></span></li><li><span><a href=\"#strsplit\" data-toc-modified-id=\"strsplit-1.5\"><span class=\"toc-item-num\">1.5&nbsp;&nbsp;</span>strsplit</a></span></li><li><span><a href=\"#sub\" data-toc-modified-id=\"sub-1.6\"><span class=\"toc-item-num\">1.6&nbsp;&nbsp;</span>sub</a></span></li><li><span><a href=\"#gsub\" data-toc-modified-id=\"gsub-1.7\"><span class=\"toc-item-num\">1.7&nbsp;&nbsp;</span>gsub</a></span></li></ul></li><li><span><a href=\"#les-dates-et-heures\" data-toc-modified-id=\"les-dates-et-heures-2\"><span class=\"toc-item-num\">2&nbsp;&nbsp;</span>les dates et heures</a></span><ul class=\"toc-item\"><li><span><a href=\"#weekdays\" data-toc-modified-id=\"weekdays-2.1\"><span class=\"toc-item-num\">2.1&nbsp;&nbsp;</span>weekdays</a></span></li><li><span><a href=\"#months\" data-toc-modified-id=\"months-2.2\"><span class=\"toc-item-num\">2.2&nbsp;&nbsp;</span>months</a></span></li><li><span><a href=\"#seq\" data-toc-modified-id=\"seq-2.3\"><span class=\"toc-item-num\">2.3&nbsp;&nbsp;</span>seq</a></span></li><li><span><a href=\"#difftime\" data-toc-modified-id=\"difftime-2.4\"><span class=\"toc-item-num\">2.4&nbsp;&nbsp;</span>difftime</a></span></li></ul></li><li><span><a href=\"#Manipulation-de-fichiers\" data-toc-modified-id=\"Manipulation-de-fichiers-3\"><span class=\"toc-item-num\">3&nbsp;&nbsp;</span>Manipulation de fichiers</a></span><ul class=\"toc-item\"><li><span><a href=\"#File.exists\" data-toc-modified-id=\"File.exists-3.1\"><span class=\"toc-item-num\">3.1&nbsp;&nbsp;</span>File.exists</a></span></li><li><span><a href=\"#file.rename\" data-toc-modified-id=\"file.rename-3.2\"><span class=\"toc-item-num\">3.2&nbsp;&nbsp;</span>file.rename</a></span></li><li><span><a href=\"#file.create\" data-toc-modified-id=\"file.create-3.3\"><span class=\"toc-item-num\">3.3&nbsp;&nbsp;</span>file.create</a></span></li><li><span><a href=\"#list.files\" data-toc-modified-id=\"list.files-3.4\"><span class=\"toc-item-num\">3.4&nbsp;&nbsp;</span>list.files</a></span></li></ul></li></ul></div>"
   ]
  },
  {
   "cell_type": "markdown",
   "metadata": {
    "slideshow": {
     "slide_type": "slide"
    }
   },
   "source": [
    "# Les fonctions sur les caractères\n",
    "\n",
    "Les actuaires doivent souvent travailler avec des bases de données qui contiennent des variables de type caractère. Il arrive qu'on veuille modifier le texte ou en extraire une partie. Dans cette section, nous verrons les fonctions les plus utilisées qui nous facilitent la tâche.\n",
    "\n",
    "mais d'abord, créons quelques objets de type `text`:"
   ]
  },
  {
   "cell_type": "code",
   "execution_count": 1,
   "metadata": {},
   "outputs": [],
   "source": [
    "un_bonjour <- \"Bonjour\"\n",
    "salutations <- c(\"Bonjour\", \"Hi\", \"hey\", \"Salam\")\n",
    "mot <- \"world\"\n",
    "question <- \"Quel est le language de programmation préféré des actuaires?\"\n",
    "reponse <- \"Rrrrrrrr\""
   ]
  },
  {
   "cell_type": "code",
   "execution_count": 1,
   "metadata": {
    "collapsed": true,
    "slideshow": {
     "slide_type": "subslide"
    }
   },
   "outputs": [],
   "source": [
    "un_bonjour<-\"Bonjour\"\n",
    "salutations<-c(\"Bonjour\",\"Hi\",\"Hey\",\"Salam\")\n",
    "mot<-\"World\"\n",
    "\n",
    "question<-\"Quel est le langage de programmation préféré des actuaires?\"\n",
    "réponse<-\"Rrrrrrrrrr\""
   ]
  },
  {
   "cell_type": "markdown",
   "metadata": {
    "slideshow": {
     "slide_type": "subslide"
    }
   },
   "source": [
    "## substr()"
   ]
  },
  {
   "cell_type": "markdown",
   "metadata": {
    "slideshow": {
     "slide_type": "fragment"
    }
   },
   "source": [
    "La fonction `substr(x, start, stop)` nous sert souvent lorsqu'on veut extraire une partie d'une chaîne de caractères.\n",
    "\n",
    "Par exemple, appliquons une extraction du premier mot `Quel`, ce dernier commence à l'index #1 et termine à l'index #4"
   ]
  },
  {
   "cell_type": "code",
   "execution_count": 5,
   "metadata": {},
   "outputs": [
    {
     "data": {
      "text/html": [
       "'Quel est le language de programmation préféré des actuaires?'"
      ],
      "text/latex": [
       "'Quel est le language de programmation préféré des actuaires?'"
      ],
      "text/markdown": [
       "'Quel est le language de programmation préféré des actuaires?'"
      ],
      "text/plain": [
       "[1] \"Quel est le language de programmation préféré des actuaires?\""
      ]
     },
     "metadata": {},
     "output_type": "display_data"
    }
   ],
   "source": [
    "question"
   ]
  },
  {
   "cell_type": "code",
   "execution_count": 8,
   "metadata": {},
   "outputs": [
    {
     "data": {
      "text/html": [
       "'language'"
      ],
      "text/latex": [
       "'language'"
      ],
      "text/markdown": [
       "'language'"
      ],
      "text/plain": [
       "[1] \"language\""
      ]
     },
     "metadata": {},
     "output_type": "display_data"
    }
   ],
   "source": [
    "substr(question, 13, 20)"
   ]
  },
  {
   "cell_type": "code",
   "execution_count": 10,
   "metadata": {
    "slideshow": {
     "slide_type": "fragment"
    }
   },
   "outputs": [
    {
     "data": {
      "text/html": [
       "'Quel'"
      ],
      "text/latex": [
       "'Quel'"
      ],
      "text/markdown": [
       "'Quel'"
      ],
      "text/plain": [
       "[1] \"Quel\""
      ]
     },
     "metadata": {},
     "output_type": "display_data"
    }
   ],
   "source": [
    "substr(question, 1, 4)"
   ]
  },
  {
   "cell_type": "markdown",
   "metadata": {
    "slideshow": {
     "slide_type": "subslide"
    }
   },
   "source": [
    "pour le mot **`langage`**;"
   ]
  },
  {
   "cell_type": "code",
   "execution_count": 2,
   "metadata": {
    "slideshow": {
     "slide_type": "fragment"
    }
   },
   "outputs": [
    {
     "data": {
      "text/html": [
       "'langage'"
      ],
      "text/latex": [
       "'langage'"
      ],
      "text/markdown": [
       "'langage'"
      ],
      "text/plain": [
       "[1] \"langage\""
      ]
     },
     "metadata": {},
     "output_type": "display_data"
    }
   ],
   "source": [
    "substr(question, 13, 19)"
   ]
  },
  {
   "cell_type": "markdown",
   "metadata": {
    "slideshow": {
     "slide_type": "subslide"
    }
   },
   "source": [
    "## nchar()"
   ]
  },
  {
   "cell_type": "markdown",
   "metadata": {
    "slideshow": {
     "slide_type": "fragment"
    }
   },
   "source": [
    "Dans un plus long texte, nous ignorons la longueur du texte. Si l'on veut compter le nombre de caractères à l'intérieur d'une chaine de caractères, on utilise alors `nchar`"
   ]
  },
  {
   "cell_type": "code",
   "execution_count": 9,
   "metadata": {
    "slideshow": {
     "slide_type": "fragment"
    }
   },
   "outputs": [
    {
     "data": {
      "text/html": [
       "60"
      ],
      "text/latex": [
       "60"
      ],
      "text/markdown": [
       "60"
      ],
      "text/plain": [
       "[1] 60"
      ]
     },
     "metadata": {},
     "output_type": "display_data"
    }
   ],
   "source": [
    "nchar(question  "
   ]
  },
  {
   "cell_type": "markdown",
   "metadata": {
    "slideshow": {
     "slide_type": "subslide"
    }
   },
   "source": [
    "On s'en sert souvent lorsqu'on ne veut pas fixer l'argument maximum de la fonction;"
   ]
  },
  {
   "cell_type": "code",
   "execution_count": 7,
   "metadata": {
    "slideshow": {
     "slide_type": "fragment"
    }
   },
   "outputs": [
    {
     "data": {
      "text/html": [
       "'actuaires?'"
      ],
      "text/latex": [
       "'actuaires?'"
      ],
      "text/markdown": [
       "'actuaires?'"
      ],
      "text/plain": [
       "[1] \"actuaires?\""
      ]
     },
     "metadata": {},
     "output_type": "display_data"
    }
   ],
   "source": [
    "substr(question, nchar(question)-9, nchar(question))"
   ]
  },
  {
   "cell_type": "markdown",
   "metadata": {
    "slideshow": {
     "slide_type": "subslide"
    }
   },
   "source": [
    "Si l'on applique cette fonction sur un vecteur, nous obtenons bien sûr un vecteur comme résultat"
   ]
  },
  {
   "cell_type": "code",
   "execution_count": 8,
   "metadata": {
    "slideshow": {
     "slide_type": "fragment"
    }
   },
   "outputs": [
    {
     "data": {
      "text/html": [
       "<ol class=list-inline>\n",
       "\t<li>'our'</li>\n",
       "\t<li>'Hi'</li>\n",
       "\t<li>'Hey'</li>\n",
       "\t<li>'lam'</li>\n",
       "</ol>\n"
      ],
      "text/latex": [
       "\\begin{enumerate*}\n",
       "\\item 'our'\n",
       "\\item 'Hi'\n",
       "\\item 'Hey'\n",
       "\\item 'lam'\n",
       "\\end{enumerate*}\n"
      ],
      "text/markdown": [
       "1. 'our'\n",
       "2. 'Hi'\n",
       "3. 'Hey'\n",
       "4. 'lam'\n",
       "\n",
       "\n"
      ],
      "text/plain": [
       "[1] \"our\" \"Hi\"  \"Hey\" \"lam\""
      ]
     },
     "metadata": {},
     "output_type": "display_data"
    }
   ],
   "source": [
    "substr(salutations, nchar(salutations)-2, nchar(salutations))"
   ]
  },
  {
   "cell_type": "markdown",
   "metadata": {
    "slideshow": {
     "slide_type": "slide"
    }
   },
   "source": [
    "## Paste\n",
    "Lorsqu'on veut concaténer des chaines de caractères, on utilise alors la fonction `paste`. **Passons nos salutations au monde!**"
   ]
  },
  {
   "cell_type": "code",
   "execution_count": 9,
   "metadata": {
    "slideshow": {
     "slide_type": "fragment"
    }
   },
   "outputs": [
    {
     "data": {
      "text/html": [
       "<ol class=list-inline>\n",
       "\t<li>'Bonjour World'</li>\n",
       "\t<li>'Hi World'</li>\n",
       "\t<li>'Hey World'</li>\n",
       "\t<li>'Salam World'</li>\n",
       "</ol>\n"
      ],
      "text/latex": [
       "\\begin{enumerate*}\n",
       "\\item 'Bonjour World'\n",
       "\\item 'Hi World'\n",
       "\\item 'Hey World'\n",
       "\\item 'Salam World'\n",
       "\\end{enumerate*}\n"
      ],
      "text/markdown": [
       "1. 'Bonjour World'\n",
       "2. 'Hi World'\n",
       "3. 'Hey World'\n",
       "4. 'Salam World'\n",
       "\n",
       "\n"
      ],
      "text/plain": [
       "[1] \"Bonjour World\" \"Hi World\"      \"Hey World\"     \"Salam World\"  "
      ]
     },
     "metadata": {},
     "output_type": "display_data"
    }
   ],
   "source": [
    "paste(salutations, mot)"
   ]
  },
  {
   "cell_type": "markdown",
   "metadata": {
    "slideshow": {
     "slide_type": "subslide"
    }
   },
   "source": [
    "L'argument `sep` nous spécifie quel caractère nous utilisons afin de séperer ce qu'on veut concatener;"
   ]
  },
  {
   "cell_type": "code",
   "execution_count": 10,
   "metadata": {
    "slideshow": {
     "slide_type": "fragment"
    }
   },
   "outputs": [
    {
     "data": {
      "text/html": [
       "<ol class=list-inline>\n",
       "\t<li>'Bonjour -_- World'</li>\n",
       "\t<li>'Hi -_- World'</li>\n",
       "\t<li>'Hey -_- World'</li>\n",
       "\t<li>'Salam -_- World'</li>\n",
       "</ol>\n"
      ],
      "text/latex": [
       "\\begin{enumerate*}\n",
       "\\item 'Bonjour -\\_- World'\n",
       "\\item 'Hi -\\_- World'\n",
       "\\item 'Hey -\\_- World'\n",
       "\\item 'Salam -\\_- World'\n",
       "\\end{enumerate*}\n"
      ],
      "text/markdown": [
       "1. 'Bonjour -_- World'\n",
       "2. 'Hi -_- World'\n",
       "3. 'Hey -_- World'\n",
       "4. 'Salam -_- World'\n",
       "\n",
       "\n"
      ],
      "text/plain": [
       "[1] \"Bonjour -_- World\" \"Hi -_- World\"      \"Hey -_- World\"    \n",
       "[4] \"Salam -_- World\"  "
      ]
     },
     "metadata": {},
     "output_type": "display_data"
    }
   ],
   "source": [
    "paste(salutations, mot, sep=\" -_- \")"
   ]
  },
  {
   "cell_type": "markdown",
   "metadata": {
    "slideshow": {
     "slide_type": "subslide"
    }
   },
   "source": [
    "Par défaut le séparateur est un espace. Si l’on voulait enlever l'espace, il faudrait alors le spécifier dans l'argument `sep=''`"
   ]
  },
  {
   "cell_type": "code",
   "execution_count": 11,
   "metadata": {
    "slideshow": {
     "slide_type": "fragment"
    }
   },
   "outputs": [
    {
     "data": {
      "text/html": [
       "<ol class=list-inline>\n",
       "\t<li>'BonjourWorld'</li>\n",
       "\t<li>'HiWorld'</li>\n",
       "\t<li>'HeyWorld'</li>\n",
       "\t<li>'SalamWorld'</li>\n",
       "</ol>\n"
      ],
      "text/latex": [
       "\\begin{enumerate*}\n",
       "\\item 'BonjourWorld'\n",
       "\\item 'HiWorld'\n",
       "\\item 'HeyWorld'\n",
       "\\item 'SalamWorld'\n",
       "\\end{enumerate*}\n"
      ],
      "text/markdown": [
       "1. 'BonjourWorld'\n",
       "2. 'HiWorld'\n",
       "3. 'HeyWorld'\n",
       "4. 'SalamWorld'\n",
       "\n",
       "\n"
      ],
      "text/plain": [
       "[1] \"BonjourWorld\" \"HiWorld\"      \"HeyWorld\"     \"SalamWorld\"  "
      ]
     },
     "metadata": {},
     "output_type": "display_data"
    }
   ],
   "source": [
    "paste(salutations, mot, sep=\"\")"
   ]
  },
  {
   "cell_type": "markdown",
   "metadata": {
    "slideshow": {
     "slide_type": "subslide"
    }
   },
   "source": [
    "Bien sûr, nous ne sommes pas limités à concaténer seulement deux mots, on peut ajouter directement d'autres caractères\n"
   ]
  },
  {
   "cell_type": "code",
   "execution_count": 12,
   "metadata": {
    "slideshow": {
     "slide_type": "fragment"
    }
   },
   "outputs": [
    {
     "data": {
      "text/html": [
       "<ol class=list-inline>\n",
       "\t<li>'Bonjour, World, !'</li>\n",
       "\t<li>'Hi, World, !'</li>\n",
       "\t<li>'Hey, World, !'</li>\n",
       "\t<li>'Salam, World, !'</li>\n",
       "</ol>\n"
      ],
      "text/latex": [
       "\\begin{enumerate*}\n",
       "\\item 'Bonjour, World, !'\n",
       "\\item 'Hi, World, !'\n",
       "\\item 'Hey, World, !'\n",
       "\\item 'Salam, World, !'\n",
       "\\end{enumerate*}\n"
      ],
      "text/markdown": [
       "1. 'Bonjour, World, !'\n",
       "2. 'Hi, World, !'\n",
       "3. 'Hey, World, !'\n",
       "4. 'Salam, World, !'\n",
       "\n",
       "\n"
      ],
      "text/plain": [
       "[1] \"Bonjour, World, !\" \"Hi, World, !\"      \"Hey, World, !\"    \n",
       "[4] \"Salam, World, !\"  "
      ]
     },
     "metadata": {},
     "output_type": "display_data"
    }
   ],
   "source": [
    "paste(salutations, mot, \"!\", sep=\", \")"
   ]
  },
  {
   "cell_type": "code",
   "execution_count": 13,
   "metadata": {
    "slideshow": {
     "slide_type": "fragment"
    }
   },
   "outputs": [
    {
     "data": {
      "text/html": [
       "<ol class=list-inline>\n",
       "\t<li>'Bonjour, World!'</li>\n",
       "\t<li>'Hi, World!'</li>\n",
       "\t<li>'Hey, World!'</li>\n",
       "\t<li>'Salam, World!'</li>\n",
       "</ol>\n"
      ],
      "text/latex": [
       "\\begin{enumerate*}\n",
       "\\item 'Bonjour, World!'\n",
       "\\item 'Hi, World!'\n",
       "\\item 'Hey, World!'\n",
       "\\item 'Salam, World!'\n",
       "\\end{enumerate*}\n"
      ],
      "text/markdown": [
       "1. 'Bonjour, World!'\n",
       "2. 'Hi, World!'\n",
       "3. 'Hey, World!'\n",
       "4. 'Salam, World!'\n",
       "\n",
       "\n"
      ],
      "text/plain": [
       "[1] \"Bonjour, World!\" \"Hi, World!\"      \"Hey, World!\"     \"Salam, World!\"  "
      ]
     },
     "metadata": {},
     "output_type": "display_data"
    }
   ],
   "source": [
    "paste(salutations, \", \",mot, \"!\", sep=\"\")"
   ]
  },
  {
   "cell_type": "markdown",
   "metadata": {
    "slideshow": {
     "slide_type": "subslide"
    }
   },
   "source": [
    "Autre exemple qu'on pourrait souvent utiliser lorsqu'on veut nommer des colonnes dans une matrice ou un _data frame_. Par exemple, nous avons 10 colonnes qu'on voudrait appeler `cout_1` à `cout_10`"
   ]
  },
  {
   "cell_type": "code",
   "execution_count": 15,
   "metadata": {
    "slideshow": {
     "slide_type": "fragment"
    }
   },
   "outputs": [
    {
     "data": {
      "text/html": [
       "<ol class=list-inline>\n",
       "\t<li>'cout_1'</li>\n",
       "\t<li>'cout_2'</li>\n",
       "\t<li>'cout_3'</li>\n",
       "\t<li>'cout_4'</li>\n",
       "\t<li>'cout_5'</li>\n",
       "\t<li>'cout_6'</li>\n",
       "\t<li>'cout_7'</li>\n",
       "\t<li>'cout_8'</li>\n",
       "\t<li>'cout_9'</li>\n",
       "\t<li>'cout_10'</li>\n",
       "</ol>\n"
      ],
      "text/latex": [
       "\\begin{enumerate*}\n",
       "\\item 'cout\\_1'\n",
       "\\item 'cout\\_2'\n",
       "\\item 'cout\\_3'\n",
       "\\item 'cout\\_4'\n",
       "\\item 'cout\\_5'\n",
       "\\item 'cout\\_6'\n",
       "\\item 'cout\\_7'\n",
       "\\item 'cout\\_8'\n",
       "\\item 'cout\\_9'\n",
       "\\item 'cout\\_10'\n",
       "\\end{enumerate*}\n"
      ],
      "text/markdown": [
       "1. 'cout_1'\n",
       "2. 'cout_2'\n",
       "3. 'cout_3'\n",
       "4. 'cout_4'\n",
       "5. 'cout_5'\n",
       "6. 'cout_6'\n",
       "7. 'cout_7'\n",
       "8. 'cout_8'\n",
       "9. 'cout_9'\n",
       "10. 'cout_10'\n",
       "\n",
       "\n"
      ],
      "text/plain": [
       " [1] \"cout_1\"  \"cout_2\"  \"cout_3\"  \"cout_4\"  \"cout_5\"  \"cout_6\"  \"cout_7\" \n",
       " [8] \"cout_8\"  \"cout_9\"  \"cout_10\""
      ]
     },
     "metadata": {},
     "output_type": "display_data"
    }
   ],
   "source": [
    "paste(\"cout_\", 1:10, sep=\"\")"
   ]
  },
  {
   "cell_type": "markdown",
   "metadata": {
    "slideshow": {
     "slide_type": "slide"
    }
   },
   "source": [
    "## grep"
   ]
  },
  {
   "cell_type": "markdown",
   "metadata": {
    "slideshow": {
     "slide_type": "subslide"
    }
   },
   "source": [
    "Une fonction très utile lorsqu'on cherche l'index d'un élément à l'intérieur d'un vecteur d'éléments constitués de chaînes de caractères. Dans l'exemple suivant, nous cherchons l'index de l’occurrence de la lettre <H>. Autrement dit, on demande de nous donner à quels numéros de l'élément, un caractère donné apparaît."
   ]
  },
  {
   "cell_type": "code",
   "execution_count": 17,
   "metadata": {
    "slideshow": {
     "slide_type": "fragment"
    }
   },
   "outputs": [
    {
     "data": {
      "text/html": [
       "<ol class=list-inline>\n",
       "\t<li>2</li>\n",
       "\t<li>3</li>\n",
       "</ol>\n"
      ],
      "text/latex": [
       "\\begin{enumerate*}\n",
       "\\item 2\n",
       "\\item 3\n",
       "\\end{enumerate*}\n"
      ],
      "text/markdown": [
       "1. 2\n",
       "2. 3\n",
       "\n",
       "\n"
      ],
      "text/plain": [
       "[1] 2 3"
      ]
     },
     "metadata": {},
     "output_type": "display_data"
    }
   ],
   "source": [
    "grep(\"H\", salutations)"
   ]
  },
  {
   "cell_type": "markdown",
   "metadata": {
    "slideshow": {
     "slide_type": "subslide"
    }
   },
   "source": [
    "Ça nous dit que le 1er ainsi que le 3e élément contienent les lettre `H`"
   ]
  },
  {
   "cell_type": "markdown",
   "metadata": {
    "slideshow": {
     "slide_type": "fragment"
    }
   },
   "source": [
    "Si l'on veut extraire ces éléments, nous ajoutons alors l'argument `value=TRUE`"
   ]
  },
  {
   "cell_type": "code",
   "execution_count": 18,
   "metadata": {
    "slideshow": {
     "slide_type": "fragment"
    }
   },
   "outputs": [
    {
     "data": {
      "text/html": [
       "<ol class=list-inline>\n",
       "\t<li>'Hi'</li>\n",
       "\t<li>'Hey'</li>\n",
       "</ol>\n"
      ],
      "text/latex": [
       "\\begin{enumerate*}\n",
       "\\item 'Hi'\n",
       "\\item 'Hey'\n",
       "\\end{enumerate*}\n"
      ],
      "text/markdown": [
       "1. 'Hi'\n",
       "2. 'Hey'\n",
       "\n",
       "\n"
      ],
      "text/plain": [
       "[1] \"Hi\"  \"Hey\""
      ]
     },
     "metadata": {},
     "output_type": "display_data"
    }
   ],
   "source": [
    "grep(\"H\", salutations, value=TRUE)"
   ]
  },
  {
   "cell_type": "markdown",
   "metadata": {
    "slideshow": {
     "slide_type": "subslide"
    }
   },
   "source": [
    "On se rappelle que R contient une base de données qui contient l'information géographique de tous les états du pays de [l'oncle Sam](https://fr.wikipedia.org/wiki/Oncle_Sam). Dans un autre exemple, cherchons les noms de ces états avec le mot NEW dedans.\n"
   ]
  },
  {
   "cell_type": "code",
   "execution_count": 19,
   "metadata": {
    "slideshow": {
     "slide_type": "fragment"
    }
   },
   "outputs": [
    {
     "data": {
      "text/html": [
       "<ol class=list-inline>\n",
       "\t<li>'New Hampshire'</li>\n",
       "\t<li>'New Jersey'</li>\n",
       "\t<li>'New Mexico'</li>\n",
       "\t<li>'New York'</li>\n",
       "</ol>\n"
      ],
      "text/latex": [
       "\\begin{enumerate*}\n",
       "\\item 'New Hampshire'\n",
       "\\item 'New Jersey'\n",
       "\\item 'New Mexico'\n",
       "\\item 'New York'\n",
       "\\end{enumerate*}\n"
      ],
      "text/markdown": [
       "1. 'New Hampshire'\n",
       "2. 'New Jersey'\n",
       "3. 'New Mexico'\n",
       "4. 'New York'\n",
       "\n",
       "\n"
      ],
      "text/plain": [
       "[1] \"New Hampshire\" \"New Jersey\"    \"New Mexico\"    \"New York\"     "
      ]
     },
     "metadata": {},
     "output_type": "display_data"
    }
   ],
   "source": [
    "grep(\"New\", state.name, value=TRUE)"
   ]
  },
  {
   "cell_type": "markdown",
   "metadata": {
    "slideshow": {
     "slide_type": "slide"
    }
   },
   "source": [
    "## strsplit"
   ]
  },
  {
   "cell_type": "markdown",
   "metadata": {
    "slideshow": {
     "slide_type": "subslide"
    }
   },
   "source": [
    "Cette fonction permet de séparer les chaines de caractères par un argument donné."
   ]
  },
  {
   "cell_type": "code",
   "execution_count": 21,
   "metadata": {
    "slideshow": {
     "slide_type": "fragment"
    }
   },
   "outputs": [
    {
     "data": {
      "text/html": [
       "<ol>\n",
       "\t<li><ol class=list-inline>\n",
       "\t<li>'Quel'</li>\n",
       "\t<li>'est'</li>\n",
       "\t<li>'le'</li>\n",
       "\t<li>'langage'</li>\n",
       "\t<li>'de'</li>\n",
       "\t<li>'programmation'</li>\n",
       "\t<li>'préféré'</li>\n",
       "\t<li>'des'</li>\n",
       "\t<li>'actuaires?'</li>\n",
       "</ol>\n",
       "</li>\n",
       "</ol>\n"
      ],
      "text/latex": [
       "\\begin{enumerate}\n",
       "\\item \\begin{enumerate*}\n",
       "\\item 'Quel'\n",
       "\\item 'est'\n",
       "\\item 'le'\n",
       "\\item 'langage'\n",
       "\\item 'de'\n",
       "\\item 'programmation'\n",
       "\\item 'préféré'\n",
       "\\item 'des'\n",
       "\\item 'actuaires?'\n",
       "\\end{enumerate*}\n",
       "\n",
       "\\end{enumerate}\n"
      ],
      "text/markdown": [
       "1. 1. 'Quel'\n",
       "2. 'est'\n",
       "3. 'le'\n",
       "4. 'langage'\n",
       "5. 'de'\n",
       "6. 'programmation'\n",
       "7. 'préféré'\n",
       "8. 'des'\n",
       "9. 'actuaires?'\n",
       "\n",
       "\n",
       "\n",
       "\n",
       "\n"
      ],
      "text/plain": [
       "[[1]]\n",
       "[1] \"Quel\"          \"est\"           \"le\"            \"langage\"      \n",
       "[5] \"de\"            \"programmation\" \"préféré\"       \"des\"          \n",
       "[9] \"actuaires?\"   \n"
      ]
     },
     "metadata": {},
     "output_type": "display_data"
    }
   ],
   "source": [
    "strsplit(question, \" \")"
   ]
  },
  {
   "cell_type": "markdown",
   "metadata": {
    "slideshow": {
     "slide_type": "slide"
    }
   },
   "source": [
    "## sub"
   ]
  },
  {
   "cell_type": "markdown",
   "metadata": {
    "slideshow": {
     "slide_type": "subslide"
    }
   },
   "source": [
    "Lorsqu'on veut un caractère ou une chaine de caractères à l'intérieur d'une autre chaine de caractère, nous utilisons alors la fonction `sub`"
   ]
  },
  {
   "cell_type": "code",
   "execution_count": 22,
   "metadata": {
    "slideshow": {
     "slide_type": "fragment"
    }
   },
   "outputs": [
    {
     "data": {
      "text/html": [
       "'Quel est le langage de programmation préféré des geeks?'"
      ],
      "text/latex": [
       "'Quel est le langage de programmation préféré des geeks?'"
      ],
      "text/markdown": [
       "'Quel est le langage de programmation préféré des geeks?'"
      ],
      "text/plain": [
       "[1] \"Quel est le langage de programmation préféré des geeks?\""
      ]
     },
     "metadata": {},
     "output_type": "display_data"
    }
   ],
   "source": [
    "sub(\"actuaires\", \"geeks\", question)"
   ]
  },
  {
   "cell_type": "markdown",
   "metadata": {
    "slideshow": {
     "slide_type": "subslide"
    }
   },
   "source": [
    "La fonction `sub` remplace seulement la première occurrence."
   ]
  },
  {
   "cell_type": "markdown",
   "metadata": {
    "slideshow": {
     "slide_type": "slide"
    }
   },
   "source": [
    "## gsub"
   ]
  },
  {
   "cell_type": "markdown",
   "metadata": {
    "slideshow": {
     "slide_type": "subslide"
    }
   },
   "source": [
    "La fonction `gsub` remplace un caractère donné à toutes les occurrences;"
   ]
  },
  {
   "cell_type": "code",
   "execution_count": 23,
   "metadata": {
    "slideshow": {
     "slide_type": "fragment"
    }
   },
   "outputs": [
    {
     "data": {
      "text/html": [
       "'Quel-est le langage de programmation préféré des actuaires?'"
      ],
      "text/latex": [
       "'Quel-est le langage de programmation préféré des actuaires?'"
      ],
      "text/markdown": [
       "'Quel-est le langage de programmation préféré des actuaires?'"
      ],
      "text/plain": [
       "[1] \"Quel-est le langage de programmation préféré des actuaires?\""
      ]
     },
     "metadata": {},
     "output_type": "display_data"
    }
   ],
   "source": [
    "sub(\" \", \"-\", question)"
   ]
  },
  {
   "cell_type": "code",
   "execution_count": 25,
   "metadata": {
    "slideshow": {
     "slide_type": "fragment"
    }
   },
   "outputs": [
    {
     "data": {
      "text/html": [
       "'Quel-est-le-langage-de-programmation-préféré-des-actuaires?'"
      ],
      "text/latex": [
       "'Quel-est-le-langage-de-programmation-préféré-des-actuaires?'"
      ],
      "text/markdown": [
       "'Quel-est-le-langage-de-programmation-préféré-des-actuaires?'"
      ],
      "text/plain": [
       "[1] \"Quel-est-le-langage-de-programmation-préféré-des-actuaires?\""
      ]
     },
     "metadata": {},
     "output_type": "display_data"
    }
   ],
   "source": [
    "gsub(\" \", \"-\", question)"
   ]
  },
  {
   "cell_type": "markdown",
   "metadata": {
    "slideshow": {
     "slide_type": "slide"
    }
   },
   "source": [
    " # les dates et heures"
   ]
  },
  {
   "cell_type": "markdown",
   "metadata": {
    "slideshow": {
     "slide_type": "subslide"
    }
   },
   "source": [
    "En pratique, il arrive souvent qu'on travaille avec les dates. Pensez seulement à la variable **date de naissance** qu'on retrouve dans toutes les bases de données.\n",
    "\n",
    "La fonction qui nous donne la date courante dans R est la suivante:"
   ]
  },
  {
   "cell_type": "code",
   "execution_count": 26,
   "metadata": {
    "slideshow": {
     "slide_type": "fragment"
    }
   },
   "outputs": [
    {
     "data": {
      "text/html": [
       "<time datetime=\"2018-03-23\">2018-03-23</time>"
      ],
      "text/latex": [
       "2018-03-23"
      ],
      "text/markdown": [
       "2018-03-23"
      ],
      "text/plain": [
       "[1] \"2018-03-23\""
      ]
     },
     "metadata": {},
     "output_type": "display_data"
    }
   ],
   "source": [
    "Sys.Date()"
   ]
  },
  {
   "cell_type": "markdown",
   "metadata": {
    "slideshow": {
     "slide_type": "subslide"
    }
   },
   "source": [
    "Celle qui nous donne l'heure;"
   ]
  },
  {
   "cell_type": "code",
   "execution_count": 27,
   "metadata": {
    "slideshow": {
     "slide_type": "fragment"
    }
   },
   "outputs": [
    {
     "data": {
      "text/plain": [
       "[1] \"2018-03-23 15:43:01 EDT\""
      ]
     },
     "metadata": {},
     "output_type": "display_data"
    }
   ],
   "source": [
    "Sys.time()"
   ]
  },
  {
   "cell_type": "markdown",
   "metadata": {
    "slideshow": {
     "slide_type": "subslide"
    }
   },
   "source": [
    "Assignons le temps actuel à la variable `time_1`"
   ]
  },
  {
   "cell_type": "code",
   "execution_count": 28,
   "metadata": {
    "collapsed": true,
    "slideshow": {
     "slide_type": "fragment"
    }
   },
   "outputs": [],
   "source": [
    "time_1 <- Sys.time()"
   ]
  },
  {
   "cell_type": "markdown",
   "metadata": {
    "slideshow": {
     "slide_type": "subslide"
    }
   },
   "source": [
    "Bien évidemment, on peut appliquer des aditions et soustractions aux dates"
   ]
  },
  {
   "cell_type": "code",
   "execution_count": 29,
   "metadata": {
    "slideshow": {
     "slide_type": "fragment"
    }
   },
   "outputs": [
    {
     "data": {
      "text/html": [
       "<time datetime=\"2018-03-24\">2018-03-24</time>"
      ],
      "text/latex": [
       "2018-03-24"
      ],
      "text/markdown": [
       "2018-03-24"
      ],
      "text/plain": [
       "[1] \"2018-03-24\""
      ]
     },
     "metadata": {},
     "output_type": "display_data"
    }
   ],
   "source": [
    "Sys.Date()+1 # pour la date de demain"
   ]
  },
  {
   "cell_type": "code",
   "execution_count": 30,
   "metadata": {
    "slideshow": {
     "slide_type": "subslide"
    }
   },
   "outputs": [
    {
     "data": {
      "text/html": [
       "<time datetime=\"2018-03-22\">2018-03-22</time>"
      ],
      "text/latex": [
       "2018-03-22"
      ],
      "text/markdown": [
       "2018-03-22"
      ],
      "text/plain": [
       "[1] \"2018-03-22\""
      ]
     },
     "metadata": {},
     "output_type": "display_data"
    }
   ],
   "source": [
    "Sys.Date()- 1 # pour la date d'hier"
   ]
  },
  {
   "cell_type": "markdown",
   "metadata": {
    "slideshow": {
     "slide_type": "subslide"
    }
   },
   "source": [
    "Toutefois, les mêmes opérations se font par secondes lorsqu'on utilise `Sys.time()`"
   ]
  },
  {
   "cell_type": "code",
   "execution_count": 31,
   "metadata": {
    "slideshow": {
     "slide_type": "fragment"
    }
   },
   "outputs": [
    {
     "data": {
      "text/plain": [
       "[1] \"2018-03-23 15:43:10 EDT\""
      ]
     },
     "metadata": {},
     "output_type": "display_data"
    }
   ],
   "source": [
    "time_1"
   ]
  },
  {
   "cell_type": "code",
   "execution_count": 32,
   "metadata": {
    "slideshow": {
     "slide_type": "fragment"
    }
   },
   "outputs": [
    {
     "data": {
      "text/plain": [
       "[1] \"2018-03-23 15:43:11 EDT\""
      ]
     },
     "metadata": {},
     "output_type": "display_data"
    }
   ],
   "source": [
    "time_1+1"
   ]
  },
  {
   "cell_type": "code",
   "execution_count": 33,
   "metadata": {
    "slideshow": {
     "slide_type": "fragment"
    }
   },
   "outputs": [
    {
     "data": {
      "text/plain": [
       "[1] \"2018-03-23 15:42:10 EDT\""
      ]
     },
     "metadata": {},
     "output_type": "display_data"
    }
   ],
   "source": [
    "time_1-60"
   ]
  },
  {
   "cell_type": "markdown",
   "metadata": {
    "slideshow": {
     "slide_type": "subslide"
    }
   },
   "source": [
    "Lorsqu'on veut soustraire une heure à notre temps, on soustrait alors 3600 secondes!"
   ]
  },
  {
   "cell_type": "code",
   "execution_count": null,
   "metadata": {
    "collapsed": true,
    "slideshow": {
     "slide_type": "fragment"
    }
   },
   "outputs": [],
   "source": [
    "time_1+3600"
   ]
  },
  {
   "cell_type": "markdown",
   "metadata": {
    "slideshow": {
     "slide_type": "subslide"
    }
   },
   "source": [
    "Lorsque le résultat apparait à l'écran, à première vue, nous avons l'impression que nous obtenons un type caractère. Vérifions alors le type avec la fonction `class`"
   ]
  },
  {
   "cell_type": "code",
   "execution_count": null,
   "metadata": {
    "collapsed": true,
    "slideshow": {
     "slide_type": "fragment"
    }
   },
   "outputs": [],
   "source": [
    "class(Sys.Date())"
   ]
  },
  {
   "cell_type": "markdown",
   "metadata": {
    "slideshow": {
     "slide_type": "subslide"
    }
   },
   "source": [
    "On voit bien que le type du résultat obtenu est bien `date`. Mai pour le temps, nous obtenons toute autre chose."
   ]
  },
  {
   "cell_type": "code",
   "execution_count": 34,
   "metadata": {
    "slideshow": {
     "slide_type": "fragment"
    }
   },
   "outputs": [
    {
     "data": {
      "text/html": [
       "<ol class=list-inline>\n",
       "\t<li>'POSIXct'</li>\n",
       "\t<li>'POSIXt'</li>\n",
       "</ol>\n"
      ],
      "text/latex": [
       "\\begin{enumerate*}\n",
       "\\item 'POSIXct'\n",
       "\\item 'POSIXt'\n",
       "\\end{enumerate*}\n"
      ],
      "text/markdown": [
       "1. 'POSIXct'\n",
       "2. 'POSIXt'\n",
       "\n",
       "\n"
      ],
      "text/plain": [
       "[1] \"POSIXct\" \"POSIXt\" "
      ]
     },
     "metadata": {},
     "output_type": "display_data"
    }
   ],
   "source": [
    "class(Sys.time())"
   ]
  },
  {
   "cell_type": "markdown",
   "metadata": {
    "slideshow": {
     "slide_type": "subslide"
    }
   },
   "source": [
    "Ce qu'on obtient s'appelle un objet \"POSIXct\". On peut considérer cela comme numérique, et ce temps change numériquement en secondes depuis 1970.\n",
    "\n",
    "Vérifions cela en forçant le format avec la fonction `as.numeric`\n"
   ]
  },
  {
   "cell_type": "code",
   "execution_count": 35,
   "metadata": {
    "slideshow": {
     "slide_type": "fragment"
    }
   },
   "outputs": [
    {
     "data": {
      "text/html": [
       "1521834992.99031"
      ],
      "text/latex": [
       "1521834992.99031"
      ],
      "text/markdown": [
       "1521834992.99031"
      ],
      "text/plain": [
       "[1] 1521834993"
      ]
     },
     "metadata": {},
     "output_type": "display_data"
    }
   ],
   "source": [
    "as.numeric(Sys.time())"
   ]
  },
  {
   "cell_type": "markdown",
   "metadata": {
    "slideshow": {
     "slide_type": "subslide"
    }
   },
   "source": [
    "Alors que si nous forçons un format de type caractère;"
   ]
  },
  {
   "cell_type": "code",
   "execution_count": 36,
   "metadata": {
    "slideshow": {
     "slide_type": "fragment"
    }
   },
   "outputs": [
    {
     "data": {
      "text/html": [
       "'2018-03-23 15:56:46'"
      ],
      "text/latex": [
       "'2018-03-23 15:56:46'"
      ],
      "text/markdown": [
       "'2018-03-23 15:56:46'"
      ],
      "text/plain": [
       "[1] \"2018-03-23 15:56:46\""
      ]
     },
     "metadata": {},
     "output_type": "display_data"
    }
   ],
   "source": [
    "as.character(Sys.time())"
   ]
  },
  {
   "cell_type": "markdown",
   "metadata": {
    "slideshow": {
     "slide_type": "fragment"
    }
   },
   "source": [
    "Nous obtenons presque le même résultat qu'au début, mais cette fois avec le type caractère. "
   ]
  },
  {
   "cell_type": "markdown",
   "metadata": {
    "slideshow": {
     "slide_type": "slide"
    }
   },
   "source": [
    "## weekdays\n",
    "\n",
    "il est possible d'avoir le jour courant avec la fonction `weekdays()`\n",
    "\n",
    "Créons d'abord un vecteur contenant les dates des deux dernières semaines."
   ]
  },
  {
   "cell_type": "code",
   "execution_count": 37,
   "metadata": {
    "slideshow": {
     "slide_type": "fragment"
    }
   },
   "outputs": [
    {
     "data": {
      "text/html": [
       "<ol class=list-inline>\n",
       "\t<li><time datetime=\"2018-03-22\">2018-03-22</time></li>\n",
       "\t<li><time datetime=\"2018-03-21\">2018-03-21</time></li>\n",
       "\t<li><time datetime=\"2018-03-20\">2018-03-20</time></li>\n",
       "\t<li><time datetime=\"2018-03-19\">2018-03-19</time></li>\n",
       "\t<li><time datetime=\"2018-03-18\">2018-03-18</time></li>\n",
       "\t<li><time datetime=\"2018-03-17\">2018-03-17</time></li>\n",
       "\t<li><time datetime=\"2018-03-16\">2018-03-16</time></li>\n",
       "\t<li><time datetime=\"2018-03-15\">2018-03-15</time></li>\n",
       "\t<li><time datetime=\"2018-03-14\">2018-03-14</time></li>\n",
       "\t<li><time datetime=\"2018-03-13\">2018-03-13</time></li>\n",
       "</ol>\n"
      ],
      "text/latex": [
       "\\begin{enumerate*}\n",
       "\\item 2018-03-22\n",
       "\\item 2018-03-21\n",
       "\\item 2018-03-20\n",
       "\\item 2018-03-19\n",
       "\\item 2018-03-18\n",
       "\\item 2018-03-17\n",
       "\\item 2018-03-16\n",
       "\\item 2018-03-15\n",
       "\\item 2018-03-14\n",
       "\\item 2018-03-13\n",
       "\\end{enumerate*}\n"
      ],
      "text/markdown": [
       "1. 2018-03-22\n",
       "2. 2018-03-21\n",
       "3. 2018-03-20\n",
       "4. 2018-03-19\n",
       "5. 2018-03-18\n",
       "6. 2018-03-17\n",
       "7. 2018-03-16\n",
       "8. 2018-03-15\n",
       "9. 2018-03-14\n",
       "10. 2018-03-13\n",
       "\n",
       "\n"
      ],
      "text/plain": [
       " [1] \"2018-03-22\" \"2018-03-21\" \"2018-03-20\" \"2018-03-19\" \"2018-03-18\"\n",
       " [6] \"2018-03-17\" \"2018-03-16\" \"2018-03-15\" \"2018-03-14\" \"2018-03-13\""
      ]
     },
     "metadata": {},
     "output_type": "display_data"
    }
   ],
   "source": [
    "dates_2sem<-Sys.Date()- 1:10\n",
    "dates_2sem"
   ]
  },
  {
   "cell_type": "code",
   "execution_count": 38,
   "metadata": {
    "slideshow": {
     "slide_type": "subslide"
    }
   },
   "outputs": [
    {
     "data": {
      "text/html": [
       "'en_CA.UTF-8/en_CA.UTF-8/en_CA.UTF-8/C/en_CA.UTF-8/en_CA.UTF-8'"
      ],
      "text/latex": [
       "'en\\_CA.UTF-8/en\\_CA.UTF-8/en\\_CA.UTF-8/C/en\\_CA.UTF-8/en\\_CA.UTF-8'"
      ],
      "text/markdown": [
       "'en_CA.UTF-8/en_CA.UTF-8/en_CA.UTF-8/C/en_CA.UTF-8/en_CA.UTF-8'"
      ],
      "text/plain": [
       "[1] \"en_CA.UTF-8/en_CA.UTF-8/en_CA.UTF-8/C/en_CA.UTF-8/en_CA.UTF-8\""
      ]
     },
     "metadata": {},
     "output_type": "display_data"
    }
   ],
   "source": [
    "Sys.setlocale()"
   ]
  },
  {
   "cell_type": "code",
   "execution_count": 39,
   "metadata": {
    "slideshow": {
     "slide_type": "fragment"
    }
   },
   "outputs": [
    {
     "data": {
      "text/html": [
       "<ol class=list-inline>\n",
       "\t<li>'Thursday'</li>\n",
       "\t<li>'Wednesday'</li>\n",
       "\t<li>'Tuesday'</li>\n",
       "\t<li>'Monday'</li>\n",
       "\t<li>'Sunday'</li>\n",
       "\t<li>'Saturday'</li>\n",
       "\t<li>'Friday'</li>\n",
       "\t<li>'Thursday'</li>\n",
       "\t<li>'Wednesday'</li>\n",
       "\t<li>'Tuesday'</li>\n",
       "</ol>\n"
      ],
      "text/latex": [
       "\\begin{enumerate*}\n",
       "\\item 'Thursday'\n",
       "\\item 'Wednesday'\n",
       "\\item 'Tuesday'\n",
       "\\item 'Monday'\n",
       "\\item 'Sunday'\n",
       "\\item 'Saturday'\n",
       "\\item 'Friday'\n",
       "\\item 'Thursday'\n",
       "\\item 'Wednesday'\n",
       "\\item 'Tuesday'\n",
       "\\end{enumerate*}\n"
      ],
      "text/markdown": [
       "1. 'Thursday'\n",
       "2. 'Wednesday'\n",
       "3. 'Tuesday'\n",
       "4. 'Monday'\n",
       "5. 'Sunday'\n",
       "6. 'Saturday'\n",
       "7. 'Friday'\n",
       "8. 'Thursday'\n",
       "9. 'Wednesday'\n",
       "10. 'Tuesday'\n",
       "\n",
       "\n"
      ],
      "text/plain": [
       " [1] \"Thursday\"  \"Wednesday\" \"Tuesday\"   \"Monday\"    \"Sunday\"    \"Saturday\" \n",
       " [7] \"Friday\"    \"Thursday\"  \"Wednesday\" \"Tuesday\"  "
      ]
     },
     "metadata": {},
     "output_type": "display_data"
    }
   ],
   "source": [
    "weekdays(dates_2sem)"
   ]
  },
  {
   "cell_type": "markdown",
   "metadata": {
    "slideshow": {
     "slide_type": "subslide"
    }
   },
   "source": [
    "Si l'on veut afficher en français, nous devons alors changer l'affichage local. Un package appelé [`lubridate`](https://cran.r-project.org/web/packages/lubridate/lubridate.pdf) nous permet de le faire facilement"
   ]
  },
  {
   "cell_type": "code",
   "execution_count": 41,
   "metadata": {
    "slideshow": {
     "slide_type": "fragment"
    }
   },
   "outputs": [
    {
     "data": {
      "text/html": [
       "'fr_FR.UTF-8/fr_FR.UTF-8/fr_FR.UTF-8/C/fr_FR.UTF-8/en_CA.UTF-8'"
      ],
      "text/latex": [
       "'fr\\_FR.UTF-8/fr\\_FR.UTF-8/fr\\_FR.UTF-8/C/fr\\_FR.UTF-8/en\\_CA.UTF-8'"
      ],
      "text/markdown": [
       "'fr_FR.UTF-8/fr_FR.UTF-8/fr_FR.UTF-8/C/fr_FR.UTF-8/en_CA.UTF-8'"
      ],
      "text/plain": [
       "[1] \"fr_FR.UTF-8/fr_FR.UTF-8/fr_FR.UTF-8/C/fr_FR.UTF-8/en_CA.UTF-8\""
      ]
     },
     "metadata": {},
     "output_type": "display_data"
    }
   ],
   "source": [
    "require(\"lubridate\")\n",
    "Sys.setlocale(locale=\"fr_FR.UTF-8\")"
   ]
  },
  {
   "cell_type": "code",
   "execution_count": 42,
   "metadata": {
    "slideshow": {
     "slide_type": "fragment"
    }
   },
   "outputs": [
    {
     "data": {
      "text/html": [
       "<ol class=list-inline>\n",
       "\t<li>'Jeudi'</li>\n",
       "\t<li>'Mercredi'</li>\n",
       "\t<li>'Mardi'</li>\n",
       "\t<li>'Lundi'</li>\n",
       "\t<li>'Dimanche'</li>\n",
       "\t<li>'Samedi'</li>\n",
       "\t<li>'Vendredi'</li>\n",
       "\t<li>'Jeudi'</li>\n",
       "\t<li>'Mercredi'</li>\n",
       "\t<li>'Mardi'</li>\n",
       "</ol>\n"
      ],
      "text/latex": [
       "\\begin{enumerate*}\n",
       "\\item 'Jeudi'\n",
       "\\item 'Mercredi'\n",
       "\\item 'Mardi'\n",
       "\\item 'Lundi'\n",
       "\\item 'Dimanche'\n",
       "\\item 'Samedi'\n",
       "\\item 'Vendredi'\n",
       "\\item 'Jeudi'\n",
       "\\item 'Mercredi'\n",
       "\\item 'Mardi'\n",
       "\\end{enumerate*}\n"
      ],
      "text/markdown": [
       "1. 'Jeudi'\n",
       "2. 'Mercredi'\n",
       "3. 'Mardi'\n",
       "4. 'Lundi'\n",
       "5. 'Dimanche'\n",
       "6. 'Samedi'\n",
       "7. 'Vendredi'\n",
       "8. 'Jeudi'\n",
       "9. 'Mercredi'\n",
       "10. 'Mardi'\n",
       "\n",
       "\n"
      ],
      "text/plain": [
       " [1] \"Jeudi\"    \"Mercredi\" \"Mardi\"    \"Lundi\"    \"Dimanche\" \"Samedi\"  \n",
       " [7] \"Vendredi\" \"Jeudi\"    \"Mercredi\" \"Mardi\"   "
      ]
     },
     "metadata": {},
     "output_type": "display_data"
    }
   ],
   "source": [
    "weekdays(dates_2sem)"
   ]
  },
  {
   "cell_type": "markdown",
   "metadata": {
    "slideshow": {
     "slide_type": "slide"
    }
   },
   "source": [
    "## months"
   ]
  },
  {
   "cell_type": "markdown",
   "metadata": {
    "slideshow": {
     "slide_type": "fragment"
    }
   },
   "source": [
    "Et les mois avec la fonction `months`"
   ]
  },
  {
   "cell_type": "code",
   "execution_count": 43,
   "metadata": {
    "slideshow": {
     "slide_type": "fragment"
    }
   },
   "outputs": [
    {
     "data": {
      "text/html": [
       "<ol class=list-inline>\n",
       "\t<li>'mars'</li>\n",
       "\t<li>'mars'</li>\n",
       "\t<li>'mars'</li>\n",
       "\t<li>'mars'</li>\n",
       "\t<li>'mars'</li>\n",
       "\t<li>'mars'</li>\n",
       "\t<li>'mars'</li>\n",
       "\t<li>'mars'</li>\n",
       "\t<li>'mars'</li>\n",
       "\t<li>'mars'</li>\n",
       "</ol>\n"
      ],
      "text/latex": [
       "\\begin{enumerate*}\n",
       "\\item 'mars'\n",
       "\\item 'mars'\n",
       "\\item 'mars'\n",
       "\\item 'mars'\n",
       "\\item 'mars'\n",
       "\\item 'mars'\n",
       "\\item 'mars'\n",
       "\\item 'mars'\n",
       "\\item 'mars'\n",
       "\\item 'mars'\n",
       "\\end{enumerate*}\n"
      ],
      "text/markdown": [
       "1. 'mars'\n",
       "2. 'mars'\n",
       "3. 'mars'\n",
       "4. 'mars'\n",
       "5. 'mars'\n",
       "6. 'mars'\n",
       "7. 'mars'\n",
       "8. 'mars'\n",
       "9. 'mars'\n",
       "10. 'mars'\n",
       "\n",
       "\n"
      ],
      "text/plain": [
       " [1] \"mars\" \"mars\" \"mars\" \"mars\" \"mars\" \"mars\" \"mars\" \"mars\" \"mars\" \"mars\""
      ]
     },
     "metadata": {},
     "output_type": "display_data"
    }
   ],
   "source": [
    "months(dates_2sem)"
   ]
  },
  {
   "cell_type": "markdown",
   "metadata": {
    "slideshow": {
     "slide_type": "slide"
    }
   },
   "source": [
    "## seq"
   ]
  },
  {
   "cell_type": "markdown",
   "metadata": {
    "slideshow": {
     "slide_type": "subslide"
    }
   },
   "source": [
    "On se rappelle de la fonction `seq` qui sert à générer une séquence d'objets incrémentés d'une unité quelconque. Utilisons cette fonction afin de générer toutes les dates du jour entre deux dates données.\n",
    "\n",
    "Par exemple entre la date du premier cours et la date du dernier cours;\n"
   ]
  },
  {
   "cell_type": "code",
   "execution_count": 44,
   "metadata": {
    "slideshow": {
     "slide_type": "fragment"
    }
   },
   "outputs": [
    {
     "data": {
      "text/html": [
       "<ol class=list-inline>\n",
       "\t<li><time datetime=\"2017-09-06\">2017-09-06</time></li>\n",
       "\t<li><time datetime=\"2017-09-07\">2017-09-07</time></li>\n",
       "\t<li><time datetime=\"2017-09-08\">2017-09-08</time></li>\n",
       "\t<li><time datetime=\"2017-09-09\">2017-09-09</time></li>\n",
       "\t<li><time datetime=\"2017-09-10\">2017-09-10</time></li>\n",
       "\t<li><time datetime=\"2017-09-11\">2017-09-11</time></li>\n",
       "\t<li><time datetime=\"2017-09-12\">2017-09-12</time></li>\n",
       "\t<li><time datetime=\"2017-09-13\">2017-09-13</time></li>\n",
       "\t<li><time datetime=\"2017-09-14\">2017-09-14</time></li>\n",
       "\t<li><time datetime=\"2017-09-15\">2017-09-15</time></li>\n",
       "\t<li><time datetime=\"2017-09-16\">2017-09-16</time></li>\n",
       "\t<li><time datetime=\"2017-09-17\">2017-09-17</time></li>\n",
       "\t<li><time datetime=\"2017-09-18\">2017-09-18</time></li>\n",
       "\t<li><time datetime=\"2017-09-19\">2017-09-19</time></li>\n",
       "\t<li><time datetime=\"2017-09-20\">2017-09-20</time></li>\n",
       "\t<li><time datetime=\"2017-09-21\">2017-09-21</time></li>\n",
       "\t<li><time datetime=\"2017-09-22\">2017-09-22</time></li>\n",
       "\t<li><time datetime=\"2017-09-23\">2017-09-23</time></li>\n",
       "\t<li><time datetime=\"2017-09-24\">2017-09-24</time></li>\n",
       "\t<li><time datetime=\"2017-09-25\">2017-09-25</time></li>\n",
       "\t<li><time datetime=\"2017-09-26\">2017-09-26</time></li>\n",
       "\t<li><time datetime=\"2017-09-27\">2017-09-27</time></li>\n",
       "\t<li><time datetime=\"2017-09-28\">2017-09-28</time></li>\n",
       "\t<li><time datetime=\"2017-09-29\">2017-09-29</time></li>\n",
       "\t<li><time datetime=\"2017-09-30\">2017-09-30</time></li>\n",
       "\t<li><time datetime=\"2017-10-01\">2017-10-01</time></li>\n",
       "\t<li><time datetime=\"2017-10-02\">2017-10-02</time></li>\n",
       "\t<li><time datetime=\"2017-10-03\">2017-10-03</time></li>\n",
       "\t<li><time datetime=\"2017-10-04\">2017-10-04</time></li>\n",
       "\t<li><time datetime=\"2017-10-05\">2017-10-05</time></li>\n",
       "\t<li><time datetime=\"2017-10-06\">2017-10-06</time></li>\n",
       "\t<li><time datetime=\"2017-10-07\">2017-10-07</time></li>\n",
       "\t<li><time datetime=\"2017-10-08\">2017-10-08</time></li>\n",
       "\t<li><time datetime=\"2017-10-09\">2017-10-09</time></li>\n",
       "\t<li><time datetime=\"2017-10-10\">2017-10-10</time></li>\n",
       "\t<li><time datetime=\"2017-10-11\">2017-10-11</time></li>\n",
       "\t<li><time datetime=\"2017-10-12\">2017-10-12</time></li>\n",
       "\t<li><time datetime=\"2017-10-13\">2017-10-13</time></li>\n",
       "\t<li><time datetime=\"2017-10-14\">2017-10-14</time></li>\n",
       "\t<li><time datetime=\"2017-10-15\">2017-10-15</time></li>\n",
       "\t<li><time datetime=\"2017-10-16\">2017-10-16</time></li>\n",
       "\t<li><time datetime=\"2017-10-17\">2017-10-17</time></li>\n",
       "\t<li><time datetime=\"2017-10-18\">2017-10-18</time></li>\n",
       "\t<li><time datetime=\"2017-10-19\">2017-10-19</time></li>\n",
       "\t<li><time datetime=\"2017-10-20\">2017-10-20</time></li>\n",
       "\t<li><time datetime=\"2017-10-21\">2017-10-21</time></li>\n",
       "\t<li><time datetime=\"2017-10-22\">2017-10-22</time></li>\n",
       "\t<li><time datetime=\"2017-10-23\">2017-10-23</time></li>\n",
       "\t<li><time datetime=\"2017-10-24\">2017-10-24</time></li>\n",
       "\t<li><time datetime=\"2017-10-25\">2017-10-25</time></li>\n",
       "\t<li><time datetime=\"2017-10-26\">2017-10-26</time></li>\n",
       "\t<li><time datetime=\"2017-10-27\">2017-10-27</time></li>\n",
       "\t<li><time datetime=\"2017-10-28\">2017-10-28</time></li>\n",
       "\t<li><time datetime=\"2017-10-29\">2017-10-29</time></li>\n",
       "\t<li><time datetime=\"2017-10-30\">2017-10-30</time></li>\n",
       "\t<li><time datetime=\"2017-10-31\">2017-10-31</time></li>\n",
       "\t<li><time datetime=\"2017-11-01\">2017-11-01</time></li>\n",
       "\t<li><time datetime=\"2017-11-02\">2017-11-02</time></li>\n",
       "\t<li><time datetime=\"2017-11-03\">2017-11-03</time></li>\n",
       "\t<li><time datetime=\"2017-11-04\">2017-11-04</time></li>\n",
       "\t<li><time datetime=\"2017-11-05\">2017-11-05</time></li>\n",
       "\t<li><time datetime=\"2017-11-06\">2017-11-06</time></li>\n",
       "\t<li><time datetime=\"2017-11-07\">2017-11-07</time></li>\n",
       "\t<li><time datetime=\"2017-11-08\">2017-11-08</time></li>\n",
       "\t<li><time datetime=\"2017-11-09\">2017-11-09</time></li>\n",
       "\t<li><time datetime=\"2017-11-10\">2017-11-10</time></li>\n",
       "\t<li><time datetime=\"2017-11-11\">2017-11-11</time></li>\n",
       "\t<li><time datetime=\"2017-11-12\">2017-11-12</time></li>\n",
       "\t<li><time datetime=\"2017-11-13\">2017-11-13</time></li>\n",
       "\t<li><time datetime=\"2017-11-14\">2017-11-14</time></li>\n",
       "\t<li><time datetime=\"2017-11-15\">2017-11-15</time></li>\n",
       "\t<li><time datetime=\"2017-11-16\">2017-11-16</time></li>\n",
       "\t<li><time datetime=\"2017-11-17\">2017-11-17</time></li>\n",
       "\t<li><time datetime=\"2017-11-18\">2017-11-18</time></li>\n",
       "\t<li><time datetime=\"2017-11-19\">2017-11-19</time></li>\n",
       "\t<li><time datetime=\"2017-11-20\">2017-11-20</time></li>\n",
       "\t<li><time datetime=\"2017-11-21\">2017-11-21</time></li>\n",
       "\t<li><time datetime=\"2017-11-22\">2017-11-22</time></li>\n",
       "\t<li><time datetime=\"2017-11-23\">2017-11-23</time></li>\n",
       "\t<li><time datetime=\"2017-11-24\">2017-11-24</time></li>\n",
       "\t<li><time datetime=\"2017-11-25\">2017-11-25</time></li>\n",
       "\t<li><time datetime=\"2017-11-26\">2017-11-26</time></li>\n",
       "\t<li><time datetime=\"2017-11-27\">2017-11-27</time></li>\n",
       "\t<li><time datetime=\"2017-11-28\">2017-11-28</time></li>\n",
       "\t<li><time datetime=\"2017-11-29\">2017-11-29</time></li>\n",
       "\t<li><time datetime=\"2017-11-30\">2017-11-30</time></li>\n",
       "\t<li><time datetime=\"2017-12-01\">2017-12-01</time></li>\n",
       "\t<li><time datetime=\"2017-12-02\">2017-12-02</time></li>\n",
       "\t<li><time datetime=\"2017-12-03\">2017-12-03</time></li>\n",
       "\t<li><time datetime=\"2017-12-04\">2017-12-04</time></li>\n",
       "\t<li><time datetime=\"2017-12-05\">2017-12-05</time></li>\n",
       "\t<li><time datetime=\"2017-12-06\">2017-12-06</time></li>\n",
       "\t<li><time datetime=\"2017-12-07\">2017-12-07</time></li>\n",
       "\t<li><time datetime=\"2017-12-08\">2017-12-08</time></li>\n",
       "\t<li><time datetime=\"2017-12-09\">2017-12-09</time></li>\n",
       "\t<li><time datetime=\"2017-12-10\">2017-12-10</time></li>\n",
       "\t<li><time datetime=\"2017-12-11\">2017-12-11</time></li>\n",
       "\t<li><time datetime=\"2017-12-12\">2017-12-12</time></li>\n",
       "\t<li><time datetime=\"2017-12-13\">2017-12-13</time></li>\n",
       "</ol>\n"
      ],
      "text/latex": [
       "\\begin{enumerate*}\n",
       "\\item 2017-09-06\n",
       "\\item 2017-09-07\n",
       "\\item 2017-09-08\n",
       "\\item 2017-09-09\n",
       "\\item 2017-09-10\n",
       "\\item 2017-09-11\n",
       "\\item 2017-09-12\n",
       "\\item 2017-09-13\n",
       "\\item 2017-09-14\n",
       "\\item 2017-09-15\n",
       "\\item 2017-09-16\n",
       "\\item 2017-09-17\n",
       "\\item 2017-09-18\n",
       "\\item 2017-09-19\n",
       "\\item 2017-09-20\n",
       "\\item 2017-09-21\n",
       "\\item 2017-09-22\n",
       "\\item 2017-09-23\n",
       "\\item 2017-09-24\n",
       "\\item 2017-09-25\n",
       "\\item 2017-09-26\n",
       "\\item 2017-09-27\n",
       "\\item 2017-09-28\n",
       "\\item 2017-09-29\n",
       "\\item 2017-09-30\n",
       "\\item 2017-10-01\n",
       "\\item 2017-10-02\n",
       "\\item 2017-10-03\n",
       "\\item 2017-10-04\n",
       "\\item 2017-10-05\n",
       "\\item 2017-10-06\n",
       "\\item 2017-10-07\n",
       "\\item 2017-10-08\n",
       "\\item 2017-10-09\n",
       "\\item 2017-10-10\n",
       "\\item 2017-10-11\n",
       "\\item 2017-10-12\n",
       "\\item 2017-10-13\n",
       "\\item 2017-10-14\n",
       "\\item 2017-10-15\n",
       "\\item 2017-10-16\n",
       "\\item 2017-10-17\n",
       "\\item 2017-10-18\n",
       "\\item 2017-10-19\n",
       "\\item 2017-10-20\n",
       "\\item 2017-10-21\n",
       "\\item 2017-10-22\n",
       "\\item 2017-10-23\n",
       "\\item 2017-10-24\n",
       "\\item 2017-10-25\n",
       "\\item 2017-10-26\n",
       "\\item 2017-10-27\n",
       "\\item 2017-10-28\n",
       "\\item 2017-10-29\n",
       "\\item 2017-10-30\n",
       "\\item 2017-10-31\n",
       "\\item 2017-11-01\n",
       "\\item 2017-11-02\n",
       "\\item 2017-11-03\n",
       "\\item 2017-11-04\n",
       "\\item 2017-11-05\n",
       "\\item 2017-11-06\n",
       "\\item 2017-11-07\n",
       "\\item 2017-11-08\n",
       "\\item 2017-11-09\n",
       "\\item 2017-11-10\n",
       "\\item 2017-11-11\n",
       "\\item 2017-11-12\n",
       "\\item 2017-11-13\n",
       "\\item 2017-11-14\n",
       "\\item 2017-11-15\n",
       "\\item 2017-11-16\n",
       "\\item 2017-11-17\n",
       "\\item 2017-11-18\n",
       "\\item 2017-11-19\n",
       "\\item 2017-11-20\n",
       "\\item 2017-11-21\n",
       "\\item 2017-11-22\n",
       "\\item 2017-11-23\n",
       "\\item 2017-11-24\n",
       "\\item 2017-11-25\n",
       "\\item 2017-11-26\n",
       "\\item 2017-11-27\n",
       "\\item 2017-11-28\n",
       "\\item 2017-11-29\n",
       "\\item 2017-11-30\n",
       "\\item 2017-12-01\n",
       "\\item 2017-12-02\n",
       "\\item 2017-12-03\n",
       "\\item 2017-12-04\n",
       "\\item 2017-12-05\n",
       "\\item 2017-12-06\n",
       "\\item 2017-12-07\n",
       "\\item 2017-12-08\n",
       "\\item 2017-12-09\n",
       "\\item 2017-12-10\n",
       "\\item 2017-12-11\n",
       "\\item 2017-12-12\n",
       "\\item 2017-12-13\n",
       "\\end{enumerate*}\n"
      ],
      "text/markdown": [
       "1. 2017-09-06\n",
       "2. 2017-09-07\n",
       "3. 2017-09-08\n",
       "4. 2017-09-09\n",
       "5. 2017-09-10\n",
       "6. 2017-09-11\n",
       "7. 2017-09-12\n",
       "8. 2017-09-13\n",
       "9. 2017-09-14\n",
       "10. 2017-09-15\n",
       "11. 2017-09-16\n",
       "12. 2017-09-17\n",
       "13. 2017-09-18\n",
       "14. 2017-09-19\n",
       "15. 2017-09-20\n",
       "16. 2017-09-21\n",
       "17. 2017-09-22\n",
       "18. 2017-09-23\n",
       "19. 2017-09-24\n",
       "20. 2017-09-25\n",
       "21. 2017-09-26\n",
       "22. 2017-09-27\n",
       "23. 2017-09-28\n",
       "24. 2017-09-29\n",
       "25. 2017-09-30\n",
       "26. 2017-10-01\n",
       "27. 2017-10-02\n",
       "28. 2017-10-03\n",
       "29. 2017-10-04\n",
       "30. 2017-10-05\n",
       "31. 2017-10-06\n",
       "32. 2017-10-07\n",
       "33. 2017-10-08\n",
       "34. 2017-10-09\n",
       "35. 2017-10-10\n",
       "36. 2017-10-11\n",
       "37. 2017-10-12\n",
       "38. 2017-10-13\n",
       "39. 2017-10-14\n",
       "40. 2017-10-15\n",
       "41. 2017-10-16\n",
       "42. 2017-10-17\n",
       "43. 2017-10-18\n",
       "44. 2017-10-19\n",
       "45. 2017-10-20\n",
       "46. 2017-10-21\n",
       "47. 2017-10-22\n",
       "48. 2017-10-23\n",
       "49. 2017-10-24\n",
       "50. 2017-10-25\n",
       "51. 2017-10-26\n",
       "52. 2017-10-27\n",
       "53. 2017-10-28\n",
       "54. 2017-10-29\n",
       "55. 2017-10-30\n",
       "56. 2017-10-31\n",
       "57. 2017-11-01\n",
       "58. 2017-11-02\n",
       "59. 2017-11-03\n",
       "60. 2017-11-04\n",
       "61. 2017-11-05\n",
       "62. 2017-11-06\n",
       "63. 2017-11-07\n",
       "64. 2017-11-08\n",
       "65. 2017-11-09\n",
       "66. 2017-11-10\n",
       "67. 2017-11-11\n",
       "68. 2017-11-12\n",
       "69. 2017-11-13\n",
       "70. 2017-11-14\n",
       "71. 2017-11-15\n",
       "72. 2017-11-16\n",
       "73. 2017-11-17\n",
       "74. 2017-11-18\n",
       "75. 2017-11-19\n",
       "76. 2017-11-20\n",
       "77. 2017-11-21\n",
       "78. 2017-11-22\n",
       "79. 2017-11-23\n",
       "80. 2017-11-24\n",
       "81. 2017-11-25\n",
       "82. 2017-11-26\n",
       "83. 2017-11-27\n",
       "84. 2017-11-28\n",
       "85. 2017-11-29\n",
       "86. 2017-11-30\n",
       "87. 2017-12-01\n",
       "88. 2017-12-02\n",
       "89. 2017-12-03\n",
       "90. 2017-12-04\n",
       "91. 2017-12-05\n",
       "92. 2017-12-06\n",
       "93. 2017-12-07\n",
       "94. 2017-12-08\n",
       "95. 2017-12-09\n",
       "96. 2017-12-10\n",
       "97. 2017-12-11\n",
       "98. 2017-12-12\n",
       "99. 2017-12-13\n",
       "\n",
       "\n"
      ],
      "text/plain": [
       " [1] \"2017-09-06\" \"2017-09-07\" \"2017-09-08\" \"2017-09-09\" \"2017-09-10\"\n",
       " [6] \"2017-09-11\" \"2017-09-12\" \"2017-09-13\" \"2017-09-14\" \"2017-09-15\"\n",
       "[11] \"2017-09-16\" \"2017-09-17\" \"2017-09-18\" \"2017-09-19\" \"2017-09-20\"\n",
       "[16] \"2017-09-21\" \"2017-09-22\" \"2017-09-23\" \"2017-09-24\" \"2017-09-25\"\n",
       "[21] \"2017-09-26\" \"2017-09-27\" \"2017-09-28\" \"2017-09-29\" \"2017-09-30\"\n",
       "[26] \"2017-10-01\" \"2017-10-02\" \"2017-10-03\" \"2017-10-04\" \"2017-10-05\"\n",
       "[31] \"2017-10-06\" \"2017-10-07\" \"2017-10-08\" \"2017-10-09\" \"2017-10-10\"\n",
       "[36] \"2017-10-11\" \"2017-10-12\" \"2017-10-13\" \"2017-10-14\" \"2017-10-15\"\n",
       "[41] \"2017-10-16\" \"2017-10-17\" \"2017-10-18\" \"2017-10-19\" \"2017-10-20\"\n",
       "[46] \"2017-10-21\" \"2017-10-22\" \"2017-10-23\" \"2017-10-24\" \"2017-10-25\"\n",
       "[51] \"2017-10-26\" \"2017-10-27\" \"2017-10-28\" \"2017-10-29\" \"2017-10-30\"\n",
       "[56] \"2017-10-31\" \"2017-11-01\" \"2017-11-02\" \"2017-11-03\" \"2017-11-04\"\n",
       "[61] \"2017-11-05\" \"2017-11-06\" \"2017-11-07\" \"2017-11-08\" \"2017-11-09\"\n",
       "[66] \"2017-11-10\" \"2017-11-11\" \"2017-11-12\" \"2017-11-13\" \"2017-11-14\"\n",
       "[71] \"2017-11-15\" \"2017-11-16\" \"2017-11-17\" \"2017-11-18\" \"2017-11-19\"\n",
       "[76] \"2017-11-20\" \"2017-11-21\" \"2017-11-22\" \"2017-11-23\" \"2017-11-24\"\n",
       "[81] \"2017-11-25\" \"2017-11-26\" \"2017-11-27\" \"2017-11-28\" \"2017-11-29\"\n",
       "[86] \"2017-11-30\" \"2017-12-01\" \"2017-12-02\" \"2017-12-03\" \"2017-12-04\"\n",
       "[91] \"2017-12-05\" \"2017-12-06\" \"2017-12-07\" \"2017-12-08\" \"2017-12-09\"\n",
       "[96] \"2017-12-10\" \"2017-12-11\" \"2017-12-12\" \"2017-12-13\""
      ]
     },
     "metadata": {},
     "output_type": "display_data"
    }
   ],
   "source": [
    "seq(from = as.Date(\"06/09/17\", \"%d/%m/%y\"), to = as.Date(\"13/12/17\",\"%d/%m/%y\"), by = \"day\")"
   ]
  },
  {
   "cell_type": "markdown",
   "metadata": {
    "slideshow": {
     "slide_type": "subslide"
    }
   },
   "source": [
    "Et si nous voulions toutes les dates de chaque cours (à chaque semaine)"
   ]
  },
  {
   "cell_type": "code",
   "execution_count": 45,
   "metadata": {
    "slideshow": {
     "slide_type": "fragment"
    }
   },
   "outputs": [
    {
     "data": {
      "text/html": [
       "<ol class=list-inline>\n",
       "\t<li><time datetime=\"2017-09-06\">2017-09-06</time></li>\n",
       "\t<li><time datetime=\"2017-09-13\">2017-09-13</time></li>\n",
       "\t<li><time datetime=\"2017-09-20\">2017-09-20</time></li>\n",
       "\t<li><time datetime=\"2017-09-27\">2017-09-27</time></li>\n",
       "\t<li><time datetime=\"2017-10-04\">2017-10-04</time></li>\n",
       "\t<li><time datetime=\"2017-10-11\">2017-10-11</time></li>\n",
       "\t<li><time datetime=\"2017-10-18\">2017-10-18</time></li>\n",
       "\t<li><time datetime=\"2017-10-25\">2017-10-25</time></li>\n",
       "\t<li><time datetime=\"2017-11-01\">2017-11-01</time></li>\n",
       "\t<li><time datetime=\"2017-11-08\">2017-11-08</time></li>\n",
       "\t<li><time datetime=\"2017-11-15\">2017-11-15</time></li>\n",
       "\t<li><time datetime=\"2017-11-22\">2017-11-22</time></li>\n",
       "\t<li><time datetime=\"2017-11-29\">2017-11-29</time></li>\n",
       "\t<li><time datetime=\"2017-12-06\">2017-12-06</time></li>\n",
       "\t<li><time datetime=\"2017-12-13\">2017-12-13</time></li>\n",
       "</ol>\n"
      ],
      "text/latex": [
       "\\begin{enumerate*}\n",
       "\\item 2017-09-06\n",
       "\\item 2017-09-13\n",
       "\\item 2017-09-20\n",
       "\\item 2017-09-27\n",
       "\\item 2017-10-04\n",
       "\\item 2017-10-11\n",
       "\\item 2017-10-18\n",
       "\\item 2017-10-25\n",
       "\\item 2017-11-01\n",
       "\\item 2017-11-08\n",
       "\\item 2017-11-15\n",
       "\\item 2017-11-22\n",
       "\\item 2017-11-29\n",
       "\\item 2017-12-06\n",
       "\\item 2017-12-13\n",
       "\\end{enumerate*}\n"
      ],
      "text/markdown": [
       "1. 2017-09-06\n",
       "2. 2017-09-13\n",
       "3. 2017-09-20\n",
       "4. 2017-09-27\n",
       "5. 2017-10-04\n",
       "6. 2017-10-11\n",
       "7. 2017-10-18\n",
       "8. 2017-10-25\n",
       "9. 2017-11-01\n",
       "10. 2017-11-08\n",
       "11. 2017-11-15\n",
       "12. 2017-11-22\n",
       "13. 2017-11-29\n",
       "14. 2017-12-06\n",
       "15. 2017-12-13\n",
       "\n",
       "\n"
      ],
      "text/plain": [
       " [1] \"2017-09-06\" \"2017-09-13\" \"2017-09-20\" \"2017-09-27\" \"2017-10-04\"\n",
       " [6] \"2017-10-11\" \"2017-10-18\" \"2017-10-25\" \"2017-11-01\" \"2017-11-08\"\n",
       "[11] \"2017-11-15\" \"2017-11-22\" \"2017-11-29\" \"2017-12-06\" \"2017-12-13\""
      ]
     },
     "metadata": {},
     "output_type": "display_data"
    }
   ],
   "source": [
    "seq(from = as.Date(\"06/09/17\", \"%d/%m/%y\"), to = as.Date(\"13/12/17\",\"%d/%m/%y\"), by = \"week\")"
   ]
  },
  {
   "cell_type": "markdown",
   "metadata": {
    "slideshow": {
     "slide_type": "subslide"
    }
   },
   "source": [
    "Faites la même chose pour les dates de démo par exemple, sachant la première démo avait commencé le 19 septembre\n"
   ]
  },
  {
   "cell_type": "code",
   "execution_count": 46,
   "metadata": {
    "slideshow": {
     "slide_type": "fragment"
    }
   },
   "outputs": [
    {
     "data": {
      "text/html": [
       "<ol class=list-inline>\n",
       "\t<li><time datetime=\"2017-09-19\">2017-09-19</time></li>\n",
       "\t<li><time datetime=\"2017-09-26\">2017-09-26</time></li>\n",
       "\t<li><time datetime=\"2017-10-03\">2017-10-03</time></li>\n",
       "\t<li><time datetime=\"2017-10-10\">2017-10-10</time></li>\n",
       "\t<li><time datetime=\"2017-10-17\">2017-10-17</time></li>\n",
       "\t<li><time datetime=\"2017-10-24\">2017-10-24</time></li>\n",
       "\t<li><time datetime=\"2017-10-31\">2017-10-31</time></li>\n",
       "\t<li><time datetime=\"2017-11-07\">2017-11-07</time></li>\n",
       "\t<li><time datetime=\"2017-11-14\">2017-11-14</time></li>\n",
       "\t<li><time datetime=\"2017-11-21\">2017-11-21</time></li>\n",
       "\t<li><time datetime=\"2017-11-28\">2017-11-28</time></li>\n",
       "\t<li><time datetime=\"2017-12-05\">2017-12-05</time></li>\n",
       "\t<li><time datetime=\"2017-12-12\">2017-12-12</time></li>\n",
       "</ol>\n"
      ],
      "text/latex": [
       "\\begin{enumerate*}\n",
       "\\item 2017-09-19\n",
       "\\item 2017-09-26\n",
       "\\item 2017-10-03\n",
       "\\item 2017-10-10\n",
       "\\item 2017-10-17\n",
       "\\item 2017-10-24\n",
       "\\item 2017-10-31\n",
       "\\item 2017-11-07\n",
       "\\item 2017-11-14\n",
       "\\item 2017-11-21\n",
       "\\item 2017-11-28\n",
       "\\item 2017-12-05\n",
       "\\item 2017-12-12\n",
       "\\end{enumerate*}\n"
      ],
      "text/markdown": [
       "1. 2017-09-19\n",
       "2. 2017-09-26\n",
       "3. 2017-10-03\n",
       "4. 2017-10-10\n",
       "5. 2017-10-17\n",
       "6. 2017-10-24\n",
       "7. 2017-10-31\n",
       "8. 2017-11-07\n",
       "9. 2017-11-14\n",
       "10. 2017-11-21\n",
       "11. 2017-11-28\n",
       "12. 2017-12-05\n",
       "13. 2017-12-12\n",
       "\n",
       "\n"
      ],
      "text/plain": [
       " [1] \"2017-09-19\" \"2017-09-26\" \"2017-10-03\" \"2017-10-10\" \"2017-10-17\"\n",
       " [6] \"2017-10-24\" \"2017-10-31\" \"2017-11-07\" \"2017-11-14\" \"2017-11-21\"\n",
       "[11] \"2017-11-28\" \"2017-12-05\" \"2017-12-12\""
      ]
     },
     "metadata": {},
     "output_type": "display_data"
    }
   ],
   "source": [
    "seq(from = as.Date(\"19/09/17\", \"%d/%m/%y\"), to = as.Date(\"12/12/17\",\"%d/%m/%y\"), by = \"week\")"
   ]
  },
  {
   "cell_type": "markdown",
   "metadata": {
    "slideshow": {
     "slide_type": "slide"
    }
   },
   "source": [
    "## difftime\n",
    "\n",
    "Si on veut savoir combien de temps s'est passé entre deux variables (d'heure) données, on deux options;\n",
    "\n",
    "La première consiste à simplement soustraire la première variable de la deuxième;\n"
   ]
  },
  {
   "cell_type": "code",
   "execution_count": 47,
   "metadata": {
    "collapsed": true,
    "slideshow": {
     "slide_type": "fragment"
    }
   },
   "outputs": [],
   "source": [
    "time_2<-Sys.time()"
   ]
  },
  {
   "cell_type": "code",
   "execution_count": 48,
   "metadata": {
    "slideshow": {
     "slide_type": "fragment"
    }
   },
   "outputs": [
    {
     "data": {
      "text/plain": [
       "Time difference of 18.66099 mins"
      ]
     },
     "metadata": {},
     "output_type": "display_data"
    }
   ],
   "source": [
    "time_2 - time_1"
   ]
  },
  {
   "cell_type": "markdown",
   "metadata": {
    "slideshow": {
     "slide_type": "subslide"
    }
   },
   "source": [
    "L'aute  option est d'utiliser la fonctin `difftime`"
   ]
  },
  {
   "cell_type": "code",
   "execution_count": 51,
   "metadata": {
    "slideshow": {
     "slide_type": "fragment"
    }
   },
   "outputs": [
    {
     "data": {
      "text/plain": [
       "Time difference of -18.66099 mins"
      ]
     },
     "metadata": {},
     "output_type": "display_data"
    }
   ],
   "source": [
    "difftime(time_1, time_2)"
   ]
  },
  {
   "cell_type": "code",
   "execution_count": 52,
   "metadata": {
    "slideshow": {
     "slide_type": "fragment"
    }
   },
   "outputs": [
    {
     "data": {
      "text/plain": [
       "Time difference of 18.66099 mins"
      ]
     },
     "metadata": {},
     "output_type": "display_data"
    }
   ],
   "source": [
    "difftime(time_2, time_1)"
   ]
  },
  {
   "cell_type": "markdown",
   "metadata": {
    "slideshow": {
     "slide_type": "subslide"
    }
   },
   "source": [
    "On peut ajouter l'argument `units` afin d'afficher les unités voulues"
   ]
  },
  {
   "cell_type": "code",
   "execution_count": 53,
   "metadata": {
    "slideshow": {
     "slide_type": "fragment"
    }
   },
   "outputs": [
    {
     "data": {
      "text/plain": [
       "Time difference of 1119.659 secs"
      ]
     },
     "metadata": {},
     "output_type": "display_data"
    }
   ],
   "source": [
    "difftime(time_2, time_1, units='sec')"
   ]
  },
  {
   "cell_type": "markdown",
   "metadata": {
    "slideshow": {
     "slide_type": "subslide"
    }
   },
   "source": [
    "Si l'on veut seulement le résultat en chiffre, on peut le transformer en valeur numérique tel que nous avons appris\n"
   ]
  },
  {
   "cell_type": "code",
   "execution_count": 54,
   "metadata": {
    "slideshow": {
     "slide_type": "fragment"
    }
   },
   "outputs": [
    {
     "data": {
      "text/html": [
       "1119.65947914124"
      ],
      "text/latex": [
       "1119.65947914124"
      ],
      "text/markdown": [
       "1119.65947914124"
      ],
      "text/plain": [
       "[1] 1119.659"
      ]
     },
     "metadata": {},
     "output_type": "display_data"
    }
   ],
   "source": [
    "as.numeric(difftime(time_2, time_1, units='sec'))"
   ]
  },
  {
   "cell_type": "markdown",
   "metadata": {
    "slideshow": {
     "slide_type": "fragment"
    }
   },
   "source": [
    "Toutes ces fonctions de dates sont importantes lorsqu'on veut travailler sur des problèmes traitant les séries temporelles par exemple"
   ]
  },
  {
   "cell_type": "markdown",
   "metadata": {
    "slideshow": {
     "slide_type": "slide"
    }
   },
   "source": [
    "# Manipulation de fichiers\n",
    "\n",
    "Il arrive souvent qu'on manipule des fichiers directement avec R, soit pour tirer une information quelconque sur les fichiers ou en créer d'autres fichiers\n",
    "\n"
   ]
  },
  {
   "cell_type": "markdown",
   "metadata": {
    "slideshow": {
     "slide_type": "subslide"
    }
   },
   "source": [
    "## File.exists\n",
    "\n",
    "On utilise la fonction file.exists() lorsqu'on veut faire un test booléen sur l'existence d'un fichier (peu importe le type de fichier).\n",
    "\n",
    "Nous nous servons de cette fonction lorsque nous voulons modifier (ou créer) un fichier. Donc avons la modification (ou la création), nous validons d'abord l'existence de ce dernier."
   ]
  },
  {
   "cell_type": "code",
   "execution_count": 16,
   "metadata": {
    "slideshow": {
     "slide_type": "fragment"
    }
   },
   "outputs": [
    {
     "data": {
      "text/html": [
       "TRUE"
      ],
      "text/latex": [
       "TRUE"
      ],
      "text/markdown": [
       "TRUE"
      ],
      "text/plain": [
       "[1] TRUE"
      ]
     },
     "metadata": {},
     "output_type": "display_data"
    }
   ],
   "source": [
    "file.exists(\"nbmerge.py\")"
   ]
  },
  {
   "cell_type": "code",
   "execution_count": 14,
   "metadata": {
    "slideshow": {
     "slide_type": "fragment"
    }
   },
   "outputs": [
    {
     "data": {
      "text/html": [
       "FALSE"
      ],
      "text/latex": [
       "FALSE"
      ],
      "text/markdown": [
       "FALSE"
      ],
      "text/plain": [
       "[1] FALSE"
      ]
     },
     "metadata": {},
     "output_type": "display_data"
    }
   ],
   "source": [
    "file.exists(\"cars_info_test-11111.csv\")"
   ]
  },
  {
   "cell_type": "markdown",
   "metadata": {
    "slideshow": {
     "slide_type": "subslide"
    }
   },
   "source": [
    "## file.rename\n",
    "On peut renommer le ficher avec;"
   ]
  },
  {
   "cell_type": "code",
   "execution_count": null,
   "metadata": {
    "collapsed": true,
    "slideshow": {
     "slide_type": "fragment"
    }
   },
   "outputs": [],
   "source": [
    "file.rename(\"cars_info_test.csv\", \"cars_info_test2.csv\")"
   ]
  },
  {
   "cell_type": "markdown",
   "metadata": {
    "slideshow": {
     "slide_type": "subslide"
    }
   },
   "source": [
    "## file.create\n",
    "\n",
    "On peur créer un tout nouveau fichier"
   ]
  },
  {
   "cell_type": "code",
   "execution_count": null,
   "metadata": {
    "collapsed": true,
    "slideshow": {
     "slide_type": "fragment"
    }
   },
   "outputs": [],
   "source": [
    "file.create(\"vide.txt\")"
   ]
  },
  {
   "cell_type": "markdown",
   "metadata": {
    "slideshow": {
     "slide_type": "subslide"
    }
   },
   "source": [
    "## list.files\n",
    "\n",
    "On peut lister tous les fichiers contenus dans le répertoire courant"
   ]
  },
  {
   "cell_type": "code",
   "execution_count": 15,
   "metadata": {
    "slideshow": {
     "slide_type": "fragment"
    }
   },
   "outputs": [
    {
     "data": {
      "text/html": [
       "<ol class=list-inline>\n",
       "\t<li>'cours_10_1.ipynb'</li>\n",
       "\t<li>'cours_10_2.ipynb'</li>\n",
       "\t<li>'cours_10.ipynb'</li>\n",
       "\t<li>'cours_12.ipynb'</li>\n",
       "\t<li>'cours_13.ipynb'</li>\n",
       "\t<li>'cours_8_1.ipynb'</li>\n",
       "\t<li>'cours_8_2.ipynb'</li>\n",
       "\t<li>'cours_9_1.ipynb'</li>\n",
       "\t<li>'cours_9_2.ipynb'</li>\n",
       "\t<li>'cours_9.ipynb'</li>\n",
       "\t<li>'Exercices_8_solutions.ipynb'</li>\n",
       "\t<li>'Exercices_8.ipynb'</li>\n",
       "\t<li>'Exercices_9.ipynb'</li>\n",
       "\t<li>'Exercices_R_C9.ipynb'</li>\n",
       "\t<li>'images'</li>\n",
       "\t<li>'nbmerge.py'</li>\n",
       "</ol>\n"
      ],
      "text/latex": [
       "\\begin{enumerate*}\n",
       "\\item 'cours\\_10\\_1.ipynb'\n",
       "\\item 'cours\\_10\\_2.ipynb'\n",
       "\\item 'cours\\_10.ipynb'\n",
       "\\item 'cours\\_12.ipynb'\n",
       "\\item 'cours\\_13.ipynb'\n",
       "\\item 'cours\\_8\\_1.ipynb'\n",
       "\\item 'cours\\_8\\_2.ipynb'\n",
       "\\item 'cours\\_9\\_1.ipynb'\n",
       "\\item 'cours\\_9\\_2.ipynb'\n",
       "\\item 'cours\\_9.ipynb'\n",
       "\\item 'Exercices\\_8\\_solutions.ipynb'\n",
       "\\item 'Exercices\\_8.ipynb'\n",
       "\\item 'Exercices\\_9.ipynb'\n",
       "\\item 'Exercices\\_R\\_C9.ipynb'\n",
       "\\item 'images'\n",
       "\\item 'nbmerge.py'\n",
       "\\end{enumerate*}\n"
      ],
      "text/markdown": [
       "1. 'cours_10_1.ipynb'\n",
       "2. 'cours_10_2.ipynb'\n",
       "3. 'cours_10.ipynb'\n",
       "4. 'cours_12.ipynb'\n",
       "5. 'cours_13.ipynb'\n",
       "6. 'cours_8_1.ipynb'\n",
       "7. 'cours_8_2.ipynb'\n",
       "8. 'cours_9_1.ipynb'\n",
       "9. 'cours_9_2.ipynb'\n",
       "10. 'cours_9.ipynb'\n",
       "11. 'Exercices_8_solutions.ipynb'\n",
       "12. 'Exercices_8.ipynb'\n",
       "13. 'Exercices_9.ipynb'\n",
       "14. 'Exercices_R_C9.ipynb'\n",
       "15. 'images'\n",
       "16. 'nbmerge.py'\n",
       "\n",
       "\n"
      ],
      "text/plain": [
       " [1] \"cours_10_1.ipynb\"            \"cours_10_2.ipynb\"           \n",
       " [3] \"cours_10.ipynb\"              \"cours_12.ipynb\"             \n",
       " [5] \"cours_13.ipynb\"              \"cours_8_1.ipynb\"            \n",
       " [7] \"cours_8_2.ipynb\"             \"cours_9_1.ipynb\"            \n",
       " [9] \"cours_9_2.ipynb\"             \"cours_9.ipynb\"              \n",
       "[11] \"Exercices_8_solutions.ipynb\" \"Exercices_8.ipynb\"          \n",
       "[13] \"Exercices_9.ipynb\"           \"Exercices_R_C9.ipynb\"       \n",
       "[15] \"images\"                      \"nbmerge.py\"                 "
      ]
     },
     "metadata": {},
     "output_type": "display_data"
    }
   ],
   "source": [
    "list.files()"
   ]
  },
  {
   "cell_type": "code",
   "execution_count": null,
   "metadata": {
    "collapsed": true,
    "slideshow": {
     "slide_type": "fragment"
    }
   },
   "outputs": [],
   "source": [
    "file.info(\"cars_info_test2.csv\")"
   ]
  },
  {
   "cell_type": "code",
   "execution_count": null,
   "metadata": {
    "collapsed": true,
    "slideshow": {
     "slide_type": "fragment"
    }
   },
   "outputs": [],
   "source": [
    "file.info(\"cars_info_test2.csv\")$size"
   ]
  }
 ],
 "metadata": {
  "anaconda-cloud": {},
  "celltoolbar": "Slideshow",
  "kernelspec": {
   "display_name": "R",
   "language": "R",
   "name": "ir"
  },
  "language_info": {
   "codemirror_mode": "r",
   "file_extension": ".r",
   "mimetype": "text/x-r-source",
   "name": "R",
   "pygments_lexer": "r",
   "version": "3.4.1"
  },
  "latex_envs": {
   "LaTeX_envs_menu_present": true,
   "bibliofile": "biblio.bib",
   "cite_by": "apalike",
   "current_citInitial": 1,
   "eqLabelWithNumbers": true,
   "eqNumInitial": 1,
   "labels_anchors": false,
   "latex_user_defs": false,
   "report_style_numbering": false,
   "user_envs_cfg": false
  },
  "toc": {
   "base_numbering": 1,
   "nav_menu": {
    "height": "512px",
    "width": "252px"
   },
   "number_sections": true,
   "sideBar": true,
   "skip_h1_title": false,
   "title_cell": "Table of Contents",
   "title_sidebar": "Contents",
   "toc_cell": true,
   "toc_position": {
    "height": "596px",
    "left": "0px",
    "right": "1017px",
    "top": "107px",
    "width": "250px"
   },
   "toc_section_display": "block",
   "toc_window_display": true
  }
 },
 "nbformat": 4,
 "nbformat_minor": 1
}
